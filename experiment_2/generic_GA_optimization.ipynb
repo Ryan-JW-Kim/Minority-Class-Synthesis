{
 "cells": [
  {
   "cell_type": "code",
   "execution_count": null,
   "metadata": {},
   "outputs": [],
   "source": [
    "from pymoo.operators.sampling.rnd import BinaryRandomSampling\n",
    "from pymoo.operators.mutation.bitflip import BitflipMutation\n",
    "from pymoo.operators.crossover.hux import HUX\n",
    "from pymoo.algorithms.moo.nsga2 import NSGA2\n",
    "from pymoo.optimize import minimize\n",
    "\n",
    "from generic_optimizer import GenericOptimizer, prepare_splits\n",
    "from novel_sampling import BiasedBinarySampling, over_sample\n",
    "\n",
    "from generic_optimizer import *\n",
    "\n",
    "from pymoo.core.mutation import Mutation\n",
    "\n",
    "from scipy.stats import ranksums\n",
    "\n",
    "from joblib import Parallel, delayed\n",
    "import matplotlib.pyplot as plt\n",
    "import pandas as pd\n",
    "import numpy as np\n",
    "import pickle\n",
    "import os\n",
    "import re\n",
    "\n",
    "from sklearn.model_selection import train_test_split\n",
    "\n",
    "from torch.utils.data import Dataset, DataLoader, TensorDataset\n",
    "import torch\n",
    "import torch.nn as nn\n",
    "\n",
    "from sklearn.preprocessing import LabelEncoder"
   ]
  },
  {
   "cell_type": "code",
   "execution_count": null,
   "metadata": {},
   "outputs": [],
   "source": [
    "def get_name(objective):\n",
    "\n",
    "\tpattern = r'\\.([a-zA-Z_][a-zA-Z0-9_]*)\\s'\n",
    "\treturn re.search(pattern, str(objective)).group(1)\n",
    "\n",
    "def step_1(folder):\n",
    "\tx, y, splits = prepare_splits(os.path.join('../Datasets', folder, f\"{folder}.csv\"))\n",
    "\n",
    "\ttrain_idx, test_idx, validation_idx = None, None, None\n",
    "\tfor train_idx, test_idx, validation_idx in splits:\n",
    "\t\ttrain_idx, test_idx, validation_idx = train_idx, test_idx, validation_idx\n",
    "\t\tbreak\n",
    "\n",
    "\tx_train, y_train = x[train_idx], y[train_idx]\n",
    "\tx_validation, y_validation = x[validation_idx], y[validation_idx]\n",
    "\tx_test, y_test = x[test_idx], y[test_idx]\n",
    "\n",
    "\tsplits = {\n",
    "\t\t\"X Train\": x_train,\n",
    "\t\t\"Y Train\": y_train,\n",
    "\t\t\"X Validation\": x_validation,\n",
    "\t\t\"Y Validation\": y_validation,\n",
    "\t\t\"X Test\": x_test,\n",
    "\t\t\"Y Test\": y_test,\n",
    "\t}\n",
    "\n",
    "\treturn splits"
   ]
  },
  {
   "cell_type": "code",
   "execution_count": 2,
   "metadata": {},
   "outputs": [],
   "source": [
    "def step_2(x_train, y_train, x_validation, y_validation, primary_objective, secondary_objectives):\n",
    "\tdef func(objectives):\n",
    "\n",
    "\t\tobjectives.append(primary_objective)\n",
    "\t\tproblem = GenericOptimizer(\n",
    "\t\t\tx_train, \n",
    "\t\t\ty_train, \n",
    "\t\t\tx_validation, \n",
    "\t\t\ty_validation,\n",
    "\t\t\tobjectives,\n",
    "\t\t\t\"Sequential\"\n",
    "\t\t)\n",
    "\n",
    "\t\tinitial_population = BinaryRandomSampling()\n",
    "\n",
    "\t\talgorithm = NSGA2(\n",
    "\t\t\tpop_size=GenericOptimizer.population_size, \n",
    "\t\t\tsampling=initial_population, \n",
    "\t\t\tcrossover=HUX(), \n",
    "\t\t\tmutation=BitflipMutation(), \n",
    "\t\t\teliminate_duplicates=True)\n",
    "\n",
    "\t\tresult = minimize(\n",
    "\t\t\tproblem, \n",
    "\t\t\talgorithm, \n",
    "\t\t\t('n_gen', GenericOptimizer.population_size)\n",
    "\t\t)\n",
    "\n",
    "\t\treturn result.X\n",
    "\t\n",
    "\treturn Parallel(n_jobs=-1)(delayed(func)(objectives) for objectives in secondary_objectives)"
   ]
  },
  {
   "cell_type": "code",
   "execution_count": 3,
   "metadata": {},
   "outputs": [],
   "source": [
    "def step_3(populations):\n",
    "\tall_outcomes = []\n",
    "\tfor population in populations:\n",
    "\t\tfor individual in population:\n",
    "\t\t\tindividual = list(individual)\n",
    "\t\t\tif individual not in all_outcomes:\n",
    "\t\t\t\tall_outcomes.append(individual)\n",
    "\n",
    "\treturn np.array(all_outcomes)"
   ]
  },
  {
   "cell_type": "code",
   "execution_count": 4,
   "metadata": {},
   "outputs": [],
   "source": [
    "def step_4(all_outcomes):\n",
    "\tx = []\n",
    "\ty = []\n",
    "\n",
    "\twhile len(x) < 500000:\n",
    "\t\t\n",
    "\t\tfor y_true in all_outcomes:\n",
    "\t\t\tx_noised = []\n",
    "\t\t\tfor idx, probability in enumerate(np.random.uniform(0.1, 1.0, y_true.shape[0])):\n",
    "\t\t\t\tif probability < 0.85:\n",
    "\t\t\t\t\tx_noised.append(y_true[idx])\t\t\t\t\n",
    "\t\t\t\telse:\n",
    "\t\t\t\t\tx_noised.append(0 if y_true[idx] == 1 else 1)\n",
    "\n",
    "\t\t\tx.append(np.array(x_noised, dtype=np.float32))\n",
    "\t\t\ty.append(np.array(y_true, dtype=np.float32))\n",
    "\n",
    "\treturn np.array(x), np.array(y)"
   ]
  },
  {
   "cell_type": "code",
   "execution_count": 5,
   "metadata": {},
   "outputs": [],
   "source": [
    "def step_5(X_train, y_train):\n",
    "\tclass CustomDataset(Dataset):\n",
    "\t\tdef __init__(self, x_train, y_train):\n",
    "\t\t\tself.x_train = x_train\n",
    "\t\t\tself.y_train = y_train\n",
    "\t\tdef __len__(self):\n",
    "\t\t\treturn self.x_train.shape[0]\n",
    "\t\tdef __getitem__(self, ind):\n",
    "\t\t\tx = self.x_train[ind]\n",
    "\t\t\ty = self.y_train[ind]\n",
    "\t\t\treturn x, y\n",
    "\n",
    "\ttrain_set = CustomDataset(X_train, y_train)\n",
    "\tinput_dim = X_train.shape[1]\n",
    "\tbatch_size = 215\n",
    "\ttrain_loader = DataLoader(train_set, batch_size=batch_size, shuffle=True)\n",
    "\n",
    "\tdevice = torch.device('cuda' if torch.cuda.is_available() else 'cpu')\n",
    "\n",
    "\tclass MLP(nn.Module):\n",
    "\t\tdef __init__(self):\n",
    "\t\t\tsuper(MLP, self).__init__()\n",
    "\t\t\tself.linear1 = nn.Linear(input_dim, input_dim//2)\n",
    "\t\t\tself.relu1 = nn.ReLU()\n",
    "\t\t\tself.linear2 = nn.Linear(input_dim//2, input_dim//3)\n",
    "\t\t\tself.relu2 = nn.ReLU()\n",
    "\t\t\tself.linear3 = nn.Linear(input_dim//3, input_dim)\n",
    "\n",
    "\t\tdef forward(self, x):\n",
    "\t\t\tx = self.linear1(x)\n",
    "\t\t\tx = self.relu1(x)\n",
    "\t\t\tx = self.linear2(x)\n",
    "\t\t\tx = self.relu2(x)\n",
    "\t\t\tx = self.linear3(x)\n",
    "\t\t\treturn x\n",
    "\t\t\n",
    "\tmodel = MLP().to(device)\n",
    "\toptimizer = torch.optim.Adam(model.parameters(), lr=0.000001)\n",
    "\tcriterion = nn.BCEWithLogitsLoss()\n",
    "\n",
    "\tepochs = 50\n",
    "\n",
    "\tmodel.train()\n",
    "\tfor epoch in range(epochs):\n",
    "\t\tlosses = []\n",
    "\t\tfor batch_num, input_data in enumerate(train_loader):\n",
    "\t\t\toptimizer.zero_grad()\n",
    "\t\t\tx, y = input_data\n",
    "\t\t\tx, y = x.to(device).float(), y.to(device)\n",
    "\n",
    "\t\t\toutput = model(x)\n",
    "\t\t\tloss = criterion(output, y)\n",
    "\t\t\tloss.backward()\n",
    "\t\t\tlosses.append(loss.item())\n",
    "\t\t\toptimizer.step()\n",
    "\n",
    "\treturn model"
   ]
  },
  {
   "cell_type": "code",
   "execution_count": null,
   "metadata": {},
   "outputs": [],
   "source": [
    "class CustomDataset(Dataset):\n",
    "\tdef __init__(self, x_train, y_train):\n",
    "\t\tself.x_train = x_train\n",
    "\t\tself.y_train = y_train\n",
    "\tdef __len__(self):\n",
    "\t\treturn self.x_train.shape[0]\n",
    "\tdef __getitem__(self, ind):\n",
    "\t\tx = self.x_train[ind]\n",
    "\t\ty = self.y_train[ind]\n",
    "\t\treturn x, y\n",
    "\n",
    "device = torch.device('cuda' if torch.cuda.is_available() else 'cpu')\n",
    "\n",
    "def step_6(model, x_train, y_train, x_validation, y_validation):\n",
    "\tclass CustomMutation(Mutation):\n",
    "\t\tdef __init__(self, model):\n",
    "\t\t\tsuper().__init__()\n",
    "\t\t\tself.model = model\n",
    "\n",
    "\t\tdef _do(self, problem, X, **kwargs):\n",
    "\n",
    "\t\t\tint_x = np.array(X, dtype=np.float32)\n",
    "\t\t\tdataset = CustomDataset(int_x, int_x)\n",
    "\t\t\tloader = DataLoader(dataset, batch_size=X.shape[0], shuffle=False)\n",
    "\n",
    "\t\t\tmodel.eval()\n",
    "\t\t\twith torch.no_grad():\n",
    "\t\t\t\tfor data, _ in loader:\n",
    "\t\t\t\t\tdata = data.to(device)\n",
    "\t\t\t\t\toutputs = model(data)\n",
    "\t\t\t\t\tpredictions = (outputs > 0.5).bool()\n",
    "\n",
    "\t\t\treturn np.array(predictions)\n",
    "\t\t\n",
    "\tobjectives = [GenericOptimizer.calculate_overall_error, GenericOptimizer.calculate_num_examples]\n",
    "\n",
    "\tproblem = GenericOptimizer(\n",
    "\t\tx_train, \n",
    "\t\ty_train, \n",
    "\t\tx_validation, \n",
    "\t\ty_validation,\n",
    "\t\tobjectives,\n",
    "\t\t\"Sequential\"\n",
    "\t)\n",
    "\n",
    "\tinitial_population = BinaryRandomSampling()\n",
    "\n",
    "\talgorithm = NSGA2(\n",
    "\t\tpop_size=GenericOptimizer.population_size, \n",
    "\t\tsampling=initial_population, \n",
    "\t\tcrossover=HUX(), \n",
    "\t\tmutation=CustomMutation(model), \n",
    "\t\teliminate_duplicates=True)\n",
    "\n",
    "\tresult = minimize(\n",
    "\t\tproblem, \n",
    "\t\talgorithm, \n",
    "\t\t('n_gen', GenericOptimizer.population_size)\n",
    "\t)\n",
    "\n",
    "\treturn result"
   ]
  },
  {
   "cell_type": "code",
   "execution_count": null,
   "metadata": {},
   "outputs": [],
   "source": [
    "def benchmark(result, x_train, y_train, x_validation, y_validation, x_test, y_test):\n",
    "\tvalidation_fitness = result.F\n",
    "\toptimization_population = result.X\n",
    "\n",
    "\tif len(optimization_population.shape) == 1:\n",
    "\t\toptimization_population = np.array([list(optimization_population)])\n",
    "\n",
    "\tvalidation_pareto_front, best_x_train, best_y_train = GenericOptimizer.calculate_optimal_instance(\n",
    "\t\tx_train,\n",
    "\t\ty_train,\n",
    "\t\tx_validation,\n",
    "\t\ty_validation,\n",
    "\t\tvalidation_fitness,\n",
    "\t\toptimization_population,\n",
    "\t\tGenericOptimizer.n_neighbours\n",
    "\t)\n",
    "\n",
    "\treduction_rate = 1 - (best_x_train.shape[0] / x_train.shape[0])\n",
    "\n",
    "\toptimized_test_err = GenericOptimizer.calculate_overall_error(\n",
    "\t\tbest_x_train,\n",
    "\t\tbest_y_train,\n",
    "\t\tx_test,\n",
    "\t\ty_test,\n",
    "\t\tGenericOptimizer.n_neighbours\n",
    "\t)\n",
    "\toptimized_validation_err = GenericOptimizer.calculate_overall_error(\n",
    "\t\tbest_x_train,\n",
    "\t\tbest_y_train,\n",
    "\t\tx_validation,\n",
    "\t\ty_validation,\n",
    "\t\tGenericOptimizer.n_neighbours\n",
    "\t)\n",
    "\tbaseline_validation_err = GenericOptimizer.calculate_overall_error(\n",
    "\t\tx_train,\n",
    "\t\ty_train,\n",
    "\t\tx_validation,\n",
    "\t\ty_validation,\n",
    "\t\tGenericOptimizer.n_neighbours\n",
    "\t)\n",
    "\n",
    "\tbaseline_test_err = GenericOptimizer.calculate_overall_error(\n",
    "\t\tx_train,\n",
    "\t\ty_train,\n",
    "\t\tx_test,\n",
    "\t\ty_test,\n",
    "\t\tGenericOptimizer.n_neighbours\n",
    "\t)\n",
    "\n",
    "\treturn baseline_validation_err, optimized_validation_err, baseline_test_err, optimized_test_err, reduction_rate"
   ]
  },
  {
   "cell_type": "code",
   "execution_count": null,
   "metadata": {},
   "outputs": [
    {
     "name": "stdout",
     "output_type": "stream",
     "text": [
      "Step 1 complete...\n",
      "Step 2 complete...\n",
      "Step 3 complete...\n",
      "Step 4 complete...\n",
      "Step 5 complete...\n",
      "\n",
      "Compiled modules for significant speedup can not be used!\n",
      "https://pymoo.org/installation.html#installation\n",
      "\n",
      "To disable this warning:\n",
      "from pymoo.config import Config\n",
      "Config.warnings['not_compiled'] = False\n",
      "\n"
     ]
    },
    {
     "name": "stderr",
     "output_type": "stream",
     "text": [
      "C:\\Users\\RjKim\\AppData\\Local\\Temp\\ipykernel_24132\\1284110323.py:34: DeprecationWarning: __array__ implementation doesn't accept a copy keyword, so passing copy=False failed. __array__ must implement 'dtype' and 'copy' keyword arguments. To learn more, see the migration guide https://numpy.org/devdocs/numpy_2_0_migration_guide.html#adapting-to-changes-in-the-copy-keyword\n",
      "  return np.array(predictions)\n"
     ]
    },
    {
     "name": "stdout",
     "output_type": "stream",
     "text": [
      "Step 6 complete...\n",
      "Run complete...\n",
      "\n",
      "Step 1 complete...\n",
      "Step 2 complete...\n",
      "Step 3 complete...\n",
      "Step 4 complete...\n",
      "Step 5 complete...\n"
     ]
    },
    {
     "name": "stderr",
     "output_type": "stream",
     "text": [
      "C:\\Users\\RjKim\\AppData\\Local\\Temp\\ipykernel_24132\\1284110323.py:34: DeprecationWarning: __array__ implementation doesn't accept a copy keyword, so passing copy=False failed. __array__ must implement 'dtype' and 'copy' keyword arguments. To learn more, see the migration guide https://numpy.org/devdocs/numpy_2_0_migration_guide.html#adapting-to-changes-in-the-copy-keyword\n",
      "  return np.array(predictions)\n"
     ]
    },
    {
     "name": "stdout",
     "output_type": "stream",
     "text": [
      "Step 6 complete...\n",
      "Run complete...\n",
      "\n",
      "Step 1 complete...\n",
      "Step 2 complete...\n",
      "Step 3 complete...\n",
      "Step 4 complete...\n",
      "Step 5 complete...\n"
     ]
    },
    {
     "name": "stderr",
     "output_type": "stream",
     "text": [
      "C:\\Users\\RjKim\\AppData\\Local\\Temp\\ipykernel_24132\\1284110323.py:34: DeprecationWarning: __array__ implementation doesn't accept a copy keyword, so passing copy=False failed. __array__ must implement 'dtype' and 'copy' keyword arguments. To learn more, see the migration guide https://numpy.org/devdocs/numpy_2_0_migration_guide.html#adapting-to-changes-in-the-copy-keyword\n",
      "  return np.array(predictions)\n"
     ]
    },
    {
     "name": "stdout",
     "output_type": "stream",
     "text": [
      "Step 6 complete...\n",
      "Run complete...\n",
      "\n",
      "Step 1 complete...\n",
      "Step 2 complete...\n",
      "Step 3 complete...\n",
      "Step 4 complete...\n",
      "Step 5 complete...\n"
     ]
    },
    {
     "name": "stderr",
     "output_type": "stream",
     "text": [
      "C:\\Users\\RjKim\\AppData\\Local\\Temp\\ipykernel_24132\\1284110323.py:34: DeprecationWarning: __array__ implementation doesn't accept a copy keyword, so passing copy=False failed. __array__ must implement 'dtype' and 'copy' keyword arguments. To learn more, see the migration guide https://numpy.org/devdocs/numpy_2_0_migration_guide.html#adapting-to-changes-in-the-copy-keyword\n",
      "  return np.array(predictions)\n"
     ]
    },
    {
     "name": "stdout",
     "output_type": "stream",
     "text": [
      "Step 6 complete...\n",
      "Run complete...\n",
      "\n",
      "Step 1 complete...\n",
      "Step 2 complete...\n",
      "Step 3 complete...\n",
      "Step 4 complete...\n",
      "Step 5 complete...\n"
     ]
    },
    {
     "name": "stderr",
     "output_type": "stream",
     "text": [
      "C:\\Users\\RjKim\\AppData\\Local\\Temp\\ipykernel_24132\\1284110323.py:34: DeprecationWarning: __array__ implementation doesn't accept a copy keyword, so passing copy=False failed. __array__ must implement 'dtype' and 'copy' keyword arguments. To learn more, see the migration guide https://numpy.org/devdocs/numpy_2_0_migration_guide.html#adapting-to-changes-in-the-copy-keyword\n",
      "  return np.array(predictions)\n"
     ]
    },
    {
     "name": "stdout",
     "output_type": "stream",
     "text": [
      "Step 6 complete...\n",
      "Run complete...\n",
      "\n",
      "Step 1 complete...\n",
      "Step 2 complete...\n",
      "Step 3 complete...\n",
      "Step 4 complete...\n",
      "Step 5 complete...\n"
     ]
    },
    {
     "name": "stderr",
     "output_type": "stream",
     "text": [
      "C:\\Users\\RjKim\\AppData\\Local\\Temp\\ipykernel_24132\\1284110323.py:34: DeprecationWarning: __array__ implementation doesn't accept a copy keyword, so passing copy=False failed. __array__ must implement 'dtype' and 'copy' keyword arguments. To learn more, see the migration guide https://numpy.org/devdocs/numpy_2_0_migration_guide.html#adapting-to-changes-in-the-copy-keyword\n",
      "  return np.array(predictions)\n"
     ]
    },
    {
     "name": "stdout",
     "output_type": "stream",
     "text": [
      "Step 6 complete...\n",
      "Run complete...\n",
      "\n",
      "Step 1 complete...\n",
      "Step 2 complete...\n",
      "Step 3 complete...\n",
      "Step 4 complete...\n",
      "Step 5 complete...\n"
     ]
    },
    {
     "name": "stderr",
     "output_type": "stream",
     "text": [
      "C:\\Users\\RjKim\\AppData\\Local\\Temp\\ipykernel_24132\\1284110323.py:34: DeprecationWarning: __array__ implementation doesn't accept a copy keyword, so passing copy=False failed. __array__ must implement 'dtype' and 'copy' keyword arguments. To learn more, see the migration guide https://numpy.org/devdocs/numpy_2_0_migration_guide.html#adapting-to-changes-in-the-copy-keyword\n",
      "  return np.array(predictions)\n"
     ]
    },
    {
     "name": "stdout",
     "output_type": "stream",
     "text": [
      "Step 6 complete...\n",
      "Run complete...\n",
      "\n",
      "Step 1 complete...\n",
      "Step 2 complete...\n",
      "Step 3 complete...\n",
      "Step 4 complete...\n",
      "Step 5 complete...\n"
     ]
    },
    {
     "name": "stderr",
     "output_type": "stream",
     "text": [
      "C:\\Users\\RjKim\\AppData\\Local\\Temp\\ipykernel_24132\\1284110323.py:34: DeprecationWarning: __array__ implementation doesn't accept a copy keyword, so passing copy=False failed. __array__ must implement 'dtype' and 'copy' keyword arguments. To learn more, see the migration guide https://numpy.org/devdocs/numpy_2_0_migration_guide.html#adapting-to-changes-in-the-copy-keyword\n",
      "  return np.array(predictions)\n"
     ]
    },
    {
     "name": "stdout",
     "output_type": "stream",
     "text": [
      "Step 6 complete...\n",
      "Run complete...\n",
      "\n",
      "Step 1 complete...\n",
      "Step 2 complete...\n",
      "Step 3 complete...\n",
      "Step 4 complete...\n",
      "Step 5 complete...\n"
     ]
    },
    {
     "name": "stderr",
     "output_type": "stream",
     "text": [
      "C:\\Users\\RjKim\\AppData\\Local\\Temp\\ipykernel_24132\\1284110323.py:34: DeprecationWarning: __array__ implementation doesn't accept a copy keyword, so passing copy=False failed. __array__ must implement 'dtype' and 'copy' keyword arguments. To learn more, see the migration guide https://numpy.org/devdocs/numpy_2_0_migration_guide.html#adapting-to-changes-in-the-copy-keyword\n",
      "  return np.array(predictions)\n"
     ]
    },
    {
     "name": "stdout",
     "output_type": "stream",
     "text": [
      "Step 6 complete...\n",
      "Run complete...\n",
      "\n",
      "Step 1 complete...\n",
      "Step 2 complete...\n",
      "Step 3 complete...\n",
      "Step 4 complete...\n",
      "Step 5 complete...\n"
     ]
    },
    {
     "name": "stderr",
     "output_type": "stream",
     "text": [
      "C:\\Users\\RjKim\\AppData\\Local\\Temp\\ipykernel_24132\\1284110323.py:34: DeprecationWarning: __array__ implementation doesn't accept a copy keyword, so passing copy=False failed. __array__ must implement 'dtype' and 'copy' keyword arguments. To learn more, see the migration guide https://numpy.org/devdocs/numpy_2_0_migration_guide.html#adapting-to-changes-in-the-copy-keyword\n",
      "  return np.array(predictions)\n"
     ]
    },
    {
     "name": "stdout",
     "output_type": "stream",
     "text": [
      "Step 6 complete...\n",
      "Run complete...\n",
      "\n",
      "Step 1 complete...\n",
      "Step 2 complete...\n",
      "Step 3 complete...\n",
      "Step 4 complete...\n",
      "Step 5 complete...\n"
     ]
    },
    {
     "name": "stderr",
     "output_type": "stream",
     "text": [
      "C:\\Users\\RjKim\\AppData\\Local\\Temp\\ipykernel_24132\\1284110323.py:34: DeprecationWarning: __array__ implementation doesn't accept a copy keyword, so passing copy=False failed. __array__ must implement 'dtype' and 'copy' keyword arguments. To learn more, see the migration guide https://numpy.org/devdocs/numpy_2_0_migration_guide.html#adapting-to-changes-in-the-copy-keyword\n",
      "  return np.array(predictions)\n"
     ]
    },
    {
     "name": "stdout",
     "output_type": "stream",
     "text": [
      "Step 6 complete...\n",
      "Run complete...\n",
      "\n",
      "Step 1 complete...\n",
      "Step 2 complete...\n",
      "Step 3 complete...\n",
      "Step 4 complete...\n",
      "Step 5 complete...\n"
     ]
    },
    {
     "name": "stderr",
     "output_type": "stream",
     "text": [
      "C:\\Users\\RjKim\\AppData\\Local\\Temp\\ipykernel_24132\\1284110323.py:34: DeprecationWarning: __array__ implementation doesn't accept a copy keyword, so passing copy=False failed. __array__ must implement 'dtype' and 'copy' keyword arguments. To learn more, see the migration guide https://numpy.org/devdocs/numpy_2_0_migration_guide.html#adapting-to-changes-in-the-copy-keyword\n",
      "  return np.array(predictions)\n"
     ]
    },
    {
     "name": "stdout",
     "output_type": "stream",
     "text": [
      "Step 6 complete...\n",
      "Run complete...\n",
      "\n",
      "Step 1 complete...\n",
      "Step 2 complete...\n",
      "Step 3 complete...\n",
      "Step 4 complete...\n",
      "Step 5 complete...\n"
     ]
    },
    {
     "name": "stderr",
     "output_type": "stream",
     "text": [
      "C:\\Users\\RjKim\\AppData\\Local\\Temp\\ipykernel_24132\\1284110323.py:34: DeprecationWarning: __array__ implementation doesn't accept a copy keyword, so passing copy=False failed. __array__ must implement 'dtype' and 'copy' keyword arguments. To learn more, see the migration guide https://numpy.org/devdocs/numpy_2_0_migration_guide.html#adapting-to-changes-in-the-copy-keyword\n",
      "  return np.array(predictions)\n"
     ]
    },
    {
     "name": "stdout",
     "output_type": "stream",
     "text": [
      "Step 6 complete...\n",
      "Run complete...\n",
      "\n",
      "Step 1 complete...\n",
      "Step 2 complete...\n",
      "Step 3 complete...\n",
      "Step 4 complete...\n",
      "Step 5 complete...\n"
     ]
    },
    {
     "name": "stderr",
     "output_type": "stream",
     "text": [
      "C:\\Users\\RjKim\\AppData\\Local\\Temp\\ipykernel_24132\\1284110323.py:34: DeprecationWarning: __array__ implementation doesn't accept a copy keyword, so passing copy=False failed. __array__ must implement 'dtype' and 'copy' keyword arguments. To learn more, see the migration guide https://numpy.org/devdocs/numpy_2_0_migration_guide.html#adapting-to-changes-in-the-copy-keyword\n",
      "  return np.array(predictions)\n"
     ]
    },
    {
     "name": "stdout",
     "output_type": "stream",
     "text": [
      "Step 6 complete...\n",
      "Run complete...\n",
      "\n",
      "Step 1 complete...\n",
      "Step 2 complete...\n",
      "Step 3 complete...\n",
      "Step 4 complete...\n",
      "Step 5 complete...\n"
     ]
    },
    {
     "name": "stderr",
     "output_type": "stream",
     "text": [
      "C:\\Users\\RjKim\\AppData\\Local\\Temp\\ipykernel_24132\\1284110323.py:34: DeprecationWarning: __array__ implementation doesn't accept a copy keyword, so passing copy=False failed. __array__ must implement 'dtype' and 'copy' keyword arguments. To learn more, see the migration guide https://numpy.org/devdocs/numpy_2_0_migration_guide.html#adapting-to-changes-in-the-copy-keyword\n",
      "  return np.array(predictions)\n"
     ]
    },
    {
     "name": "stdout",
     "output_type": "stream",
     "text": [
      "Step 6 complete...\n",
      "Run complete...\n",
      "\n",
      "Step 1 complete...\n",
      "Step 2 complete...\n",
      "Step 3 complete...\n",
      "Step 4 complete...\n",
      "Step 5 complete...\n"
     ]
    },
    {
     "name": "stderr",
     "output_type": "stream",
     "text": [
      "C:\\Users\\RjKim\\AppData\\Local\\Temp\\ipykernel_24132\\1284110323.py:34: DeprecationWarning: __array__ implementation doesn't accept a copy keyword, so passing copy=False failed. __array__ must implement 'dtype' and 'copy' keyword arguments. To learn more, see the migration guide https://numpy.org/devdocs/numpy_2_0_migration_guide.html#adapting-to-changes-in-the-copy-keyword\n",
      "  return np.array(predictions)\n"
     ]
    },
    {
     "name": "stdout",
     "output_type": "stream",
     "text": [
      "Step 6 complete...\n",
      "Run complete...\n",
      "\n",
      "Step 1 complete...\n",
      "Step 2 complete...\n",
      "Step 3 complete...\n",
      "Step 4 complete...\n",
      "Step 5 complete...\n"
     ]
    },
    {
     "name": "stderr",
     "output_type": "stream",
     "text": [
      "C:\\Users\\RjKim\\AppData\\Local\\Temp\\ipykernel_24132\\1284110323.py:34: DeprecationWarning: __array__ implementation doesn't accept a copy keyword, so passing copy=False failed. __array__ must implement 'dtype' and 'copy' keyword arguments. To learn more, see the migration guide https://numpy.org/devdocs/numpy_2_0_migration_guide.html#adapting-to-changes-in-the-copy-keyword\n",
      "  return np.array(predictions)\n"
     ]
    },
    {
     "name": "stdout",
     "output_type": "stream",
     "text": [
      "Step 6 complete...\n",
      "Run complete...\n",
      "\n",
      "Step 1 complete...\n",
      "Step 2 complete...\n",
      "Step 3 complete...\n",
      "Step 4 complete...\n",
      "Step 5 complete...\n"
     ]
    },
    {
     "name": "stderr",
     "output_type": "stream",
     "text": [
      "C:\\Users\\RjKim\\AppData\\Local\\Temp\\ipykernel_24132\\1284110323.py:34: DeprecationWarning: __array__ implementation doesn't accept a copy keyword, so passing copy=False failed. __array__ must implement 'dtype' and 'copy' keyword arguments. To learn more, see the migration guide https://numpy.org/devdocs/numpy_2_0_migration_guide.html#adapting-to-changes-in-the-copy-keyword\n",
      "  return np.array(predictions)\n"
     ]
    },
    {
     "name": "stdout",
     "output_type": "stream",
     "text": [
      "Step 6 complete...\n",
      "Run complete...\n",
      "\n",
      "Step 1 complete...\n",
      "Step 2 complete...\n",
      "Step 3 complete...\n",
      "Step 4 complete...\n",
      "Step 5 complete...\n"
     ]
    },
    {
     "name": "stderr",
     "output_type": "stream",
     "text": [
      "C:\\Users\\RjKim\\AppData\\Local\\Temp\\ipykernel_24132\\1284110323.py:34: DeprecationWarning: __array__ implementation doesn't accept a copy keyword, so passing copy=False failed. __array__ must implement 'dtype' and 'copy' keyword arguments. To learn more, see the migration guide https://numpy.org/devdocs/numpy_2_0_migration_guide.html#adapting-to-changes-in-the-copy-keyword\n",
      "  return np.array(predictions)\n"
     ]
    },
    {
     "name": "stdout",
     "output_type": "stream",
     "text": [
      "Step 6 complete...\n",
      "Run complete...\n",
      "\n",
      "Step 1 complete...\n",
      "Step 2 complete...\n",
      "Step 3 complete...\n",
      "Step 4 complete...\n",
      "Step 5 complete...\n"
     ]
    },
    {
     "name": "stderr",
     "output_type": "stream",
     "text": [
      "C:\\Users\\RjKim\\AppData\\Local\\Temp\\ipykernel_24132\\1284110323.py:34: DeprecationWarning: __array__ implementation doesn't accept a copy keyword, so passing copy=False failed. __array__ must implement 'dtype' and 'copy' keyword arguments. To learn more, see the migration guide https://numpy.org/devdocs/numpy_2_0_migration_guide.html#adapting-to-changes-in-the-copy-keyword\n",
      "  return np.array(predictions)\n"
     ]
    },
    {
     "name": "stdout",
     "output_type": "stream",
     "text": [
      "Step 6 complete...\n",
      "Run complete...\n",
      "\n",
      "Step 1 complete...\n",
      "Step 2 complete...\n",
      "Step 3 complete...\n",
      "Step 4 complete...\n",
      "Step 5 complete...\n"
     ]
    },
    {
     "name": "stderr",
     "output_type": "stream",
     "text": [
      "C:\\Users\\RjKim\\AppData\\Local\\Temp\\ipykernel_24132\\1284110323.py:34: DeprecationWarning: __array__ implementation doesn't accept a copy keyword, so passing copy=False failed. __array__ must implement 'dtype' and 'copy' keyword arguments. To learn more, see the migration guide https://numpy.org/devdocs/numpy_2_0_migration_guide.html#adapting-to-changes-in-the-copy-keyword\n",
      "  return np.array(predictions)\n"
     ]
    },
    {
     "name": "stdout",
     "output_type": "stream",
     "text": [
      "Step 6 complete...\n",
      "Run complete...\n",
      "\n",
      "Step 1 complete...\n",
      "Step 2 complete...\n",
      "Step 3 complete...\n",
      "Step 4 complete...\n",
      "Step 5 complete...\n"
     ]
    },
    {
     "name": "stderr",
     "output_type": "stream",
     "text": [
      "C:\\Users\\RjKim\\AppData\\Local\\Temp\\ipykernel_24132\\1284110323.py:34: DeprecationWarning: __array__ implementation doesn't accept a copy keyword, so passing copy=False failed. __array__ must implement 'dtype' and 'copy' keyword arguments. To learn more, see the migration guide https://numpy.org/devdocs/numpy_2_0_migration_guide.html#adapting-to-changes-in-the-copy-keyword\n",
      "  return np.array(predictions)\n"
     ]
    },
    {
     "name": "stdout",
     "output_type": "stream",
     "text": [
      "Step 6 complete...\n",
      "Run complete...\n",
      "\n",
      "Step 1 complete...\n",
      "Step 2 complete...\n",
      "Step 3 complete...\n",
      "Step 4 complete...\n",
      "Step 5 complete...\n"
     ]
    },
    {
     "name": "stderr",
     "output_type": "stream",
     "text": [
      "C:\\Users\\RjKim\\AppData\\Local\\Temp\\ipykernel_24132\\1284110323.py:34: DeprecationWarning: __array__ implementation doesn't accept a copy keyword, so passing copy=False failed. __array__ must implement 'dtype' and 'copy' keyword arguments. To learn more, see the migration guide https://numpy.org/devdocs/numpy_2_0_migration_guide.html#adapting-to-changes-in-the-copy-keyword\n",
      "  return np.array(predictions)\n"
     ]
    },
    {
     "name": "stdout",
     "output_type": "stream",
     "text": [
      "Step 6 complete...\n",
      "Run complete...\n",
      "\n",
      "Step 1 complete...\n",
      "Step 2 complete...\n",
      "Step 3 complete...\n",
      "Step 4 complete...\n",
      "Step 5 complete...\n"
     ]
    },
    {
     "name": "stderr",
     "output_type": "stream",
     "text": [
      "C:\\Users\\RjKim\\AppData\\Local\\Temp\\ipykernel_24132\\1284110323.py:34: DeprecationWarning: __array__ implementation doesn't accept a copy keyword, so passing copy=False failed. __array__ must implement 'dtype' and 'copy' keyword arguments. To learn more, see the migration guide https://numpy.org/devdocs/numpy_2_0_migration_guide.html#adapting-to-changes-in-the-copy-keyword\n",
      "  return np.array(predictions)\n"
     ]
    },
    {
     "name": "stdout",
     "output_type": "stream",
     "text": [
      "Step 6 complete...\n",
      "Run complete...\n",
      "\n",
      "Step 1 complete...\n",
      "Step 2 complete...\n",
      "Step 3 complete...\n",
      "Step 4 complete...\n",
      "Step 5 complete...\n"
     ]
    },
    {
     "name": "stderr",
     "output_type": "stream",
     "text": [
      "C:\\Users\\RjKim\\AppData\\Local\\Temp\\ipykernel_24132\\1284110323.py:34: DeprecationWarning: __array__ implementation doesn't accept a copy keyword, so passing copy=False failed. __array__ must implement 'dtype' and 'copy' keyword arguments. To learn more, see the migration guide https://numpy.org/devdocs/numpy_2_0_migration_guide.html#adapting-to-changes-in-the-copy-keyword\n",
      "  return np.array(predictions)\n"
     ]
    },
    {
     "name": "stdout",
     "output_type": "stream",
     "text": [
      "Step 6 complete...\n",
      "Run complete...\n",
      "\n",
      "Step 1 complete...\n",
      "Step 2 complete...\n",
      "Step 3 complete...\n",
      "Step 4 complete...\n",
      "Step 5 complete...\n"
     ]
    },
    {
     "name": "stderr",
     "output_type": "stream",
     "text": [
      "C:\\Users\\RjKim\\AppData\\Local\\Temp\\ipykernel_24132\\1284110323.py:34: DeprecationWarning: __array__ implementation doesn't accept a copy keyword, so passing copy=False failed. __array__ must implement 'dtype' and 'copy' keyword arguments. To learn more, see the migration guide https://numpy.org/devdocs/numpy_2_0_migration_guide.html#adapting-to-changes-in-the-copy-keyword\n",
      "  return np.array(predictions)\n"
     ]
    },
    {
     "name": "stdout",
     "output_type": "stream",
     "text": [
      "Step 6 complete...\n",
      "Run complete...\n",
      "\n",
      "Step 1 complete...\n",
      "Step 2 complete...\n",
      "Step 3 complete...\n",
      "Step 4 complete...\n",
      "Step 5 complete...\n"
     ]
    },
    {
     "name": "stderr",
     "output_type": "stream",
     "text": [
      "C:\\Users\\RjKim\\AppData\\Local\\Temp\\ipykernel_24132\\1284110323.py:34: DeprecationWarning: __array__ implementation doesn't accept a copy keyword, so passing copy=False failed. __array__ must implement 'dtype' and 'copy' keyword arguments. To learn more, see the migration guide https://numpy.org/devdocs/numpy_2_0_migration_guide.html#adapting-to-changes-in-the-copy-keyword\n",
      "  return np.array(predictions)\n"
     ]
    },
    {
     "name": "stdout",
     "output_type": "stream",
     "text": [
      "Step 6 complete...\n",
      "Run complete...\n",
      "\n",
      "Step 1 complete...\n",
      "Step 2 complete...\n",
      "Step 3 complete...\n",
      "Step 4 complete...\n",
      "Step 5 complete...\n"
     ]
    },
    {
     "name": "stderr",
     "output_type": "stream",
     "text": [
      "C:\\Users\\RjKim\\AppData\\Local\\Temp\\ipykernel_24132\\1284110323.py:34: DeprecationWarning: __array__ implementation doesn't accept a copy keyword, so passing copy=False failed. __array__ must implement 'dtype' and 'copy' keyword arguments. To learn more, see the migration guide https://numpy.org/devdocs/numpy_2_0_migration_guide.html#adapting-to-changes-in-the-copy-keyword\n",
      "  return np.array(predictions)\n"
     ]
    },
    {
     "name": "stdout",
     "output_type": "stream",
     "text": [
      "Step 6 complete...\n",
      "Run complete...\n",
      "\n",
      "Step 1 complete...\n",
      "Step 2 complete...\n",
      "Step 3 complete...\n",
      "Step 4 complete...\n",
      "Step 5 complete...\n"
     ]
    },
    {
     "name": "stderr",
     "output_type": "stream",
     "text": [
      "C:\\Users\\RjKim\\AppData\\Local\\Temp\\ipykernel_24132\\1284110323.py:34: DeprecationWarning: __array__ implementation doesn't accept a copy keyword, so passing copy=False failed. __array__ must implement 'dtype' and 'copy' keyword arguments. To learn more, see the migration guide https://numpy.org/devdocs/numpy_2_0_migration_guide.html#adapting-to-changes-in-the-copy-keyword\n",
      "  return np.array(predictions)\n"
     ]
    },
    {
     "name": "stdout",
     "output_type": "stream",
     "text": [
      "Step 6 complete...\n",
      "Run complete...\n",
      "\n",
      "Step 1 complete...\n",
      "Step 2 complete...\n",
      "Step 3 complete...\n",
      "Step 4 complete...\n",
      "Step 5 complete...\n"
     ]
    },
    {
     "name": "stderr",
     "output_type": "stream",
     "text": [
      "C:\\Users\\RjKim\\AppData\\Local\\Temp\\ipykernel_24132\\1284110323.py:34: DeprecationWarning: __array__ implementation doesn't accept a copy keyword, so passing copy=False failed. __array__ must implement 'dtype' and 'copy' keyword arguments. To learn more, see the migration guide https://numpy.org/devdocs/numpy_2_0_migration_guide.html#adapting-to-changes-in-the-copy-keyword\n",
      "  return np.array(predictions)\n"
     ]
    },
    {
     "name": "stdout",
     "output_type": "stream",
     "text": [
      "Step 6 complete...\n",
      "Run complete...\n",
      "\n",
      "Step 1 complete...\n",
      "Step 2 complete...\n",
      "Step 3 complete...\n",
      "Step 4 complete...\n",
      "Step 5 complete...\n"
     ]
    },
    {
     "name": "stderr",
     "output_type": "stream",
     "text": [
      "C:\\Users\\RjKim\\AppData\\Local\\Temp\\ipykernel_24132\\1284110323.py:34: DeprecationWarning: __array__ implementation doesn't accept a copy keyword, so passing copy=False failed. __array__ must implement 'dtype' and 'copy' keyword arguments. To learn more, see the migration guide https://numpy.org/devdocs/numpy_2_0_migration_guide.html#adapting-to-changes-in-the-copy-keyword\n",
      "  return np.array(predictions)\n"
     ]
    },
    {
     "name": "stdout",
     "output_type": "stream",
     "text": [
      "Step 6 complete...\n",
      "Run complete...\n",
      "\n"
     ]
    }
   ],
   "source": [
    "baseline_validation = []\n",
    "baseline_test = []\n",
    "optimized_test = []\n",
    "optimized_validation = []\n",
    "\n",
    "for _ in range(31):\n",
    "\t\t\n",
    "\tfolder = os.listdir('../Datasets')[0]\n",
    "\tsplits = step_1(folder)\n",
    "\tprint(f\"Step 1 complete...\")\n",
    "\n",
    "\tprimary_objective = GenericOptimizer.calculate_overall_error\n",
    "\tsecondary_objectives = [\n",
    "\t\t[GenericOptimizer.calculate_num_examples],\n",
    "\t\t[GenericOptimizer.calculate_IR],\n",
    "\t\t[GenericOptimizer.calculate_class0_error],\n",
    "\t\t[GenericOptimizer.calculate_class0_inverse_f1],\n",
    "\t\t[GenericOptimizer.calculate_class0_inverse_precision],\n",
    "\t\t[GenericOptimizer.calculate_class0_inverse_recall],\n",
    "\t\t[GenericOptimizer.calculate_class1_error],\n",
    "\t\t[GenericOptimizer.calculate_class1_inverse_f1],\n",
    "\t\t[GenericOptimizer.calculate_class1_inverse_precision],\n",
    "\t\t[GenericOptimizer.calculate_class1_inverse_recall],\n",
    "\t\t[GenericOptimizer.calculate_overall_inverse_f1],\n",
    "\t\t[GenericOptimizer.calculate_overall_inverse_precision],\n",
    "\t\t[GenericOptimizer.calculate_overall_inverse_recall],\n",
    "\t\t[GenericOptimizer.calculate_class0_inverse_precision, GenericOptimizer.calculate_class1_inverse_precision],\n",
    "\t\t[GenericOptimizer.calculate_class0_inverse_recall, GenericOptimizer.calculate_class1_inverse_recall],\n",
    "\t\t[GenericOptimizer.calculate_class0_inverse_f1, GenericOptimizer.calculate_class1_inverse_f1],\n",
    "\t\t[GenericOptimizer.calculate_class0_error, GenericOptimizer.calculate_class1_error],\n",
    "\t]\n",
    "\tpopulations = step_2(\n",
    "\t\tsplits[\"X Train\"], \n",
    "\t\tsplits[\"Y Train\"], \n",
    "\t\tsplits[\"X Validation\"], \n",
    "\t\tsplits[\"Y Validation\"], \n",
    "\t\tprimary_objective, \n",
    "\t\tsecondary_objectives\n",
    "\t)\n",
    "\tprint(f\"Step 2 complete...\")\n",
    "\n",
    "\tall_outcomes = step_3(populations)\n",
    "\tprint(f\"Step 3 complete...\")\n",
    "\n",
    "\tx, y = step_4(all_outcomes)\n",
    "\tprint(f\"Step 4 complete...\")\n",
    "\n",
    "\tmodel = step_5(x, y)\n",
    "\tprint(f\"Step 5 complete...\")\n",
    "\n",
    "\tresult = step_6(\n",
    "\t\tmodel, \n",
    "\t\tsplits[\"X Train\"], \n",
    "\t\tsplits[\"Y Train\"], \n",
    "\t\tsplits[\"X Validation\"], \n",
    "\t\tsplits[\"Y Validation\"], \n",
    "\t)\n",
    "\tprint(f\"Step 6 complete...\")\n",
    "\n",
    "\tbaseline_validation_err, optimized_validation_err, baseline_test_err, optimized_test_err, reduction_rate = benchmark(\n",
    "\t\tresult, \n",
    "\t\tsplits[\"X Train\"], \n",
    "\t\tsplits[\"Y Train\"], \n",
    "\t\tsplits[\"X Test\"], \n",
    "\t\tsplits[\"Y Test\"], \n",
    "\t\tsplits[\"X Validation\"], \n",
    "\t\tsplits[\"Y Validation\"], \n",
    "\t)\n",
    "\tprint(f\"Run complete...\\n\")\n",
    "\t\n",
    "\tbaseline_test.append(baseline_test_err)\n",
    "\tbaseline_validation.append(baseline_validation_err)\n",
    "\toptimized_test.append(optimized_test_err)\n",
    "\toptimized_validation.append(optimized_validation_err)\n",
    "\n",
    "with open('iters.pickle', 'wb') as fh:\n",
    "\tpickle.dump((baseline_test, baseline_validation, optimized_test, optimized_validation), fh)\n"
   ]
  },
  {
   "cell_type": "code",
   "execution_count": 25,
   "metadata": {},
   "outputs": [
    {
     "name": "stdout",
     "output_type": "stream",
     "text": [
      "Baseline\n",
      "0.6440360090022507\n",
      "               0\n",
      "count  31.000000\n",
      "mean    0.644036\n",
      "std     0.025016\n",
      "min     0.604651\n",
      "25%     0.630814\n",
      "50%     0.639535\n",
      "75%     0.656977\n",
      "max     0.703488\n",
      "\n",
      "---\n",
      "validation_acc\n",
      "Pval: 0.00039897442666908734\n",
      "Mean: 0.6658586611970914\n",
      "               0\n",
      "count  31.000000\n",
      "mean    0.665859\n",
      "std     0.030602\n",
      "min     0.578035\n",
      "25%     0.650289\n",
      "50%     0.664740\n",
      "75%     0.687861\n",
      "max     0.710983\n",
      "\n",
      "---\n",
      "test_acc\n",
      "Pval: 1.3353534438911939e-11\n",
      "Mean: 0.8225806451612904\n",
      "               0\n",
      "count  31.000000\n",
      "mean    0.822581\n",
      "std     0.045231\n",
      "min     0.738372\n",
      "25%     0.793605\n",
      "50%     0.825581\n",
      "75%     0.857558\n",
      "max     0.918605\n"
     ]
    }
   ],
   "source": [
    "validation_acc = np.subtract(1, optimized_validation )\n",
    "test_acc = np.subtract(1, optimized_test)\n",
    "baseline_acc = np.subtract(1, baselines)\n",
    "\n",
    "print(\"Baseline\")\n",
    "print(np.mean(baseline_acc))\n",
    "print(pd.DataFrame(baseline_acc).describe())\n",
    "\n",
    "print(\"\\n---\\nvalidation_acc\")\n",
    "\n",
    "print(f\"Pval: {ranksums(baseline_acc, validation_acc).pvalue}\")\n",
    "print(f\"Mean: {np.mean(validation_acc)}\")\n",
    "print(pd.DataFrame(validation_acc).describe())\n",
    "\n",
    "print(\"\\n---\\ntest_acc\")\n",
    "\n",
    "print(f\"Pval: {ranksums(baseline_acc, test_acc).pvalue}\")\n",
    "print(f\"Mean: {np.mean(test_acc)}\")\n",
    "print(pd.DataFrame(test_acc).describe())"
   ]
  },
  {
   "cell_type": "code",
   "execution_count": 13,
   "metadata": {},
   "outputs": [
    {
     "name": "stdout",
     "output_type": "stream",
     "text": [
      "0.33139534883720934\n",
      "0.3179190751445087\n",
      "0.12209302325581395\n"
     ]
    }
   ],
   "source": [
    "print(baseline_test_err)\n",
    "print(optimized_validation_err)\n",
    "print(optimized_test_err)"
   ]
  }
 ],
 "metadata": {
  "kernelspec": {
   "display_name": "Python 3",
   "language": "python",
   "name": "python3"
  },
  "language_info": {
   "codemirror_mode": {
    "name": "ipython",
    "version": 3
   },
   "file_extension": ".py",
   "mimetype": "text/x-python",
   "name": "python",
   "nbconvert_exporter": "python",
   "pygments_lexer": "ipython3",
   "version": "3.13.2"
  }
 },
 "nbformat": 4,
 "nbformat_minor": 2
}
