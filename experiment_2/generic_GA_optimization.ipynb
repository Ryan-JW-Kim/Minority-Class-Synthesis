{
 "cells": [
  {
   "cell_type": "code",
   "execution_count": 1,
   "metadata": {},
   "outputs": [],
   "source": [
    "from pymoo.operators.sampling.rnd import BinaryRandomSampling\n",
    "from pymoo.operators.mutation.bitflip import BitflipMutation\n",
    "from pymoo.operators.crossover.hux import HUX\n",
    "from pymoo.algorithms.moo.nsga2 import NSGA2\n",
    "from pymoo.optimize import minimize\n",
    "\n",
    "from generic_optimizer import GenericOptimizer, prepare_splits\n",
    "from novel_sampling import BiasedBinarySampling, over_sample\n",
    "\n",
    "from generic_optimizer import *\n",
    "\n",
    "from pymoo.core.mutation import Mutation\n",
    "\n",
    "from scipy.stats import ranksums\n",
    "\n",
    "from joblib import Parallel, delayed\n",
    "import matplotlib.pyplot as plt\n",
    "import pandas as pd\n",
    "import numpy as np\n",
    "import pickle\n",
    "import os\n",
    "import re\n",
    "\n",
    "from sklearn.model_selection import train_test_split\n",
    "\n",
    "from torch.utils.data import Dataset, DataLoader, TensorDataset\n",
    "import torch\n",
    "import torch.nn as nn\n",
    "\n",
    "from sklearn.preprocessing import LabelEncoder"
   ]
  },
  {
   "cell_type": "code",
   "execution_count": null,
   "metadata": {},
   "outputs": [
    {
     "name": "stderr",
     "output_type": "stream",
     "text": [
      "C:\\Users\\RjKim\\AppData\\Local\\Packages\\PythonSoftwareFoundation.Python.3.13_qbz5n2kfra8p0\\LocalCache\\local-packages\\Python313\\site-packages\\joblib\\externals\\loky\\process_executor.py:752: UserWarning: A worker stopped while some jobs were given to the executor. This can be caused by a too short worker timeout or by a memory leak.\n",
      "  warnings.warn(\n",
      "C:\\Users\\RjKim\\AppData\\Local\\Temp\\ipykernel_38340\\843797444.py:57: DeprecationWarning: __array__ implementation doesn't accept a copy keyword, so passing copy=False failed. __array__ must implement 'dtype' and 'copy' keyword arguments. To learn more, see the migration guide https://numpy.org/devdocs/numpy_2_0_migration_guide.html#adapting-to-changes-in-the-copy-keyword\n",
      "  return np.array(predictions)\n"
     ]
    }
   ],
   "source": [
    "class CustomDataset(Dataset):\n",
    "\tdef __init__(self, x_train, y_train):\n",
    "\t\tself.x_train = x_train\n",
    "\t\tself.y_train = y_train\n",
    "\tdef __len__(self):\n",
    "\t\treturn self.x_train.shape[0]\n",
    "\tdef __getitem__(self, ind):\n",
    "\t\tx = self.x_train[ind]\n",
    "\t\ty = self.y_train[ind]\n",
    "\t\treturn x, y\n",
    "\n",
    "class CustomMutation(Mutation):\n",
    "\t\n",
    "\tdevice = torch.device('cuda' if torch.cuda.is_available() else 'cpu')\n",
    "\tnum_synthetic_examples = 500000\n",
    "\ttrain_epochs = 50\n",
    "\tbatch_size = 215\n",
    "\tprediction_thresh = 0.8\n",
    "\tprimary_objective = GenericOptimizer.calculate_overall_error\n",
    "\tsecondary_objectives = [\n",
    "\t\t[GenericOptimizer.calculate_num_examples],\n",
    "\t\t[GenericOptimizer.calculate_class0_error],\n",
    "\t\t[GenericOptimizer.calculate_class0_inverse_f1],\n",
    "\t\t[GenericOptimizer.calculate_class0_inverse_precision],\n",
    "\t\t[GenericOptimizer.calculate_class0_inverse_recall],\n",
    "\t\t[GenericOptimizer.calculate_class1_error],\n",
    "\t\t[GenericOptimizer.calculate_class1_inverse_f1],\n",
    "\t\t[GenericOptimizer.calculate_class1_inverse_precision],\n",
    "\t\t[GenericOptimizer.calculate_class1_inverse_recall],\n",
    "\t\t[GenericOptimizer.calculate_overall_inverse_f1],\n",
    "\t\t[GenericOptimizer.calculate_overall_inverse_precision],\n",
    "\t\t[GenericOptimizer.calculate_overall_inverse_recall],\n",
    "\t\t[GenericOptimizer.calculate_class0_inverse_precision, GenericOptimizer.calculate_class1_inverse_precision],\n",
    "\t\t[GenericOptimizer.calculate_class0_inverse_recall, GenericOptimizer.calculate_class1_inverse_recall],\n",
    "\t\t[GenericOptimizer.calculate_class0_inverse_f1, GenericOptimizer.calculate_class1_inverse_f1],\n",
    "\t\t[GenericOptimizer.calculate_class0_error, GenericOptimizer.calculate_class1_error],\n",
    "\t]\n",
    "\n",
    "\tdef __init__(self, x_train, y_train, x_validation, y_validation):\n",
    "\t\tsuper().__init__()\n",
    "\n",
    "\t\tsynthesized_x, synthesized_y = CustomMutation.create_training_data(x_train, y_train, x_validation, y_validation)\n",
    "\t\tself.model = CustomMutation.train_mutation(synthesized_x, synthesized_y)\n",
    "\n",
    "\tdef _do(self, problem, X, **kwargs):\n",
    "\n",
    "\t\tint_x = np.array(X, dtype=np.float32)\n",
    "\t\tdataset = CustomDataset(int_x, int_x)\n",
    "\t\tloader = DataLoader(dataset, batch_size=X.shape[0], shuffle=False)\n",
    "\n",
    "\t\tself.model.eval()\n",
    "\t\twith torch.no_grad():\n",
    "\t\t\tfor data, _ in loader:\n",
    "\t\t\t\tdata = data.to(CustomMutation.device)\n",
    "\t\t\t\toutputs = self.model(data)\n",
    "\t\t\t\tpredictions = (outputs > CustomMutation.prediction_thresh).bool()\n",
    "\n",
    "\t\treturn np.array(predictions)\n",
    "\n",
    "\t@classmethod\n",
    "\tdef train_mutation(cls, x_train, y_train):\n",
    "\t\ttrain_set = CustomDataset(x_train, y_train)\n",
    "\t\tinput_dim = x_train.shape[1]\n",
    "\t\tbatch_size = cls.batch_size\n",
    "\t\ttrain_loader = DataLoader(train_set, batch_size=batch_size, shuffle=True)\n",
    "\n",
    "\t\tdevice = torch.device('cuda' if torch.cuda.is_available() else 'cpu')\n",
    "\n",
    "\t\tclass MLP(nn.Module):\n",
    "\t\t\tdef __init__(self):\n",
    "\t\t\t\tsuper(MLP, self).__init__()\n",
    "\t\t\t\tself.linear1 = nn.Linear(input_dim, input_dim//2)\n",
    "\t\t\t\tself.relu1 = nn.ReLU()\n",
    "\t\t\t\tself.linear2 = nn.Linear(input_dim//2, input_dim//3)\n",
    "\t\t\t\tself.relu2 = nn.ReLU()\n",
    "\t\t\t\tself.linear3 = nn.Linear(input_dim//3, input_dim)\n",
    "\n",
    "\t\t\tdef forward(self, x):\n",
    "\t\t\t\tx = self.linear1(x)\n",
    "\t\t\t\tx = self.relu1(x)\n",
    "\t\t\t\tx = self.linear2(x)\n",
    "\t\t\t\tx = self.relu2(x)\n",
    "\t\t\t\tx = self.linear3(x)\n",
    "\t\t\t\treturn x\n",
    "\t\t\t\n",
    "\t\tmodel = MLP().to(device)\n",
    "\t\toptimizer = torch.optim.Adam(model.parameters(), lr=0.000001)\n",
    "\t\tcriterion = nn.BCEWithLogitsLoss()\n",
    "\n",
    "\t\tmodel.train()\n",
    "\t\tfor epoch in range(cls.train_epochs):\n",
    "\t\t\tlosses = []\n",
    "\t\t\tfor batch_num, input_data in enumerate(train_loader):\n",
    "\t\t\t\toptimizer.zero_grad()\n",
    "\t\t\t\tx, y = input_data\n",
    "\t\t\t\tx, y = x.to(device).float(), y.to(device)\n",
    "\n",
    "\t\t\t\toutput = model(x)\n",
    "\t\t\t\tloss = criterion(output, y)\n",
    "\t\t\t\tloss.backward()\n",
    "\t\t\t\tlosses.append(loss.item())\n",
    "\t\t\t\toptimizer.step()\n",
    "\n",
    "\t\treturn model\n",
    "\t\n",
    "\t@classmethod\n",
    "\tdef create_training_data(cls, x_train, y_train, x_validation, y_validation):\n",
    "\t\t\n",
    "\t\t# Execute optimization and extract the final populations\n",
    "\t\tpopulations = Parallel(n_jobs=-1)(delayed(cls.execute_training_data_gen)((objectives, x_train, y_train, x_validation, y_validation)) for objectives in cls.secondary_objectives)\n",
    "\t\t\n",
    "\t\t# Aggregate all populations into single list containing every unique instance\n",
    "\t\tall_instances = []\n",
    "\t\tfor population in populations:\n",
    "\t\t\tfor individual in population:\n",
    "\t\t\t\tindividual = list(individual)\n",
    "\t\t\t\tif individual not in all_instances:\n",
    "\t\t\t\t\tall_instances.append(individual)\n",
    "\t\tall_instances = np.array(all_instances)\n",
    "\n",
    "\t\t# Create synthetic examples by adding randin noise to each instance. Repeat until threshold is reached.\n",
    "\t\tsynthetic_x, synthetic_y = [], []\n",
    "\t\twhile len(synthetic_x) < cls.num_synthetic_examples:\n",
    "\t\t\t\n",
    "\t\t\tfor y_true in all_instances:\n",
    "\t\t\t\tx_noised = []\n",
    "\t\t\t\tfor idx, probability in enumerate(np.random.uniform(0.1, 1.0, y_true.shape[0])):\n",
    "\t\t\t\t\tif probability < 0.85:\n",
    "\t\t\t\t\t\tx_noised.append(y_true[idx])\t\t\t\t\n",
    "\t\t\t\t\telse:\n",
    "\t\t\t\t\t\tx_noised.append(0 if y_true[idx] == 1 else 1)\n",
    "\n",
    "\t\t\t\tsynthetic_x.append(np.array(x_noised, dtype=np.float32))\n",
    "\t\t\t\tsynthetic_y.append(np.array(y_true, dtype=np.float32))\n",
    "\n",
    "\t\treturn np.array(synthetic_x), np.array(synthetic_y)\n",
    "\t\n",
    "\t@classmethod\n",
    "\tdef execute_training_data_gen(cls, package):\n",
    "\n",
    "\t\tobjectives, x_train, y_train, x_validation, y_validation = package\n",
    "\t\t\n",
    "\t\tobjectives.append(cls.primary_objective)\n",
    "\n",
    "\t\tproblem = GenericOptimizer(\n",
    "\t\t\tx_train, \n",
    "\t\t\ty_train, \n",
    "\t\t\tx_validation, \n",
    "\t\t\ty_validation,\n",
    "\t\t\tobjectives,\n",
    "\t\t\t\"Sequential\"\n",
    "\t\t)\n",
    "\n",
    "\t\talgorithm = NSGA2(\n",
    "\t\t\tpop_size=GenericOptimizer.population_size, \n",
    "\t\t\tsampling=BinaryRandomSampling(), \n",
    "\t\t\tcrossover=HUX(), \n",
    "\t\t\tmutation=BitflipMutation(), \n",
    "\t\t\teliminate_duplicates=True\n",
    "\t\t)\n",
    "\t\tresult = minimize(\n",
    "\t\t\tproblem, \n",
    "\t\t\talgorithm, \n",
    "\t\t\t('n_gen', GenericOptimizer.population_size)\n",
    "\t\t)\n",
    "\t\t\n",
    "\t\treturn result.X\n",
    "\n",
    "folder = os.listdir('../Datasets')[0]\n",
    "# def pipeline(folder):\n",
    "x, y, splits = prepare_splits(os.path.join('../Datasets', folder, f\"{folder}.csv\"))\n",
    "\n",
    "train_idx, test_idx, validation_idx = None, None, None\n",
    "for train_idx, test_idx, validation_idx in splits:\n",
    "\ttrain_idx, test_idx, validation_idx = train_idx, test_idx, validation_idx\n",
    "\tbreak\n",
    "\n",
    "x_train, y_train = x[train_idx], y[train_idx]\n",
    "x_validation, y_validation = x[validation_idx], y[validation_idx]\n",
    "x_test, y_test = x[test_idx], y[test_idx]\n",
    "\n",
    "algorithm = NSGA2(\n",
    "\tpop_size=GenericOptimizer.population_size, \n",
    "\tsampling=BinaryRandomSampling(), \n",
    "\tcrossover=HUX(), \n",
    "\tmutation=CustomMutation(x_train, y_train, x_validation, y_validation), \n",
    "\teliminate_duplicates=True\n",
    ")\n",
    "\n",
    "problem = GenericOptimizer(\n",
    "\tx_train, \n",
    "\ty_train, \n",
    "\tx_validation, \n",
    "\ty_validation,\n",
    "\t[CustomMutation.primary_objective, GenericOptimizer.calculate_num_examples],\n",
    "\t\"Sequential\"\n",
    ")\n",
    "\n",
    "result = minimize(\n",
    "\tproblem, \n",
    "\talgorithm, \n",
    "\t('n_gen', GenericOptimizer.population_size)\n",
    ")\n",
    "\n",
    "validation_fitness = result.F\n",
    "optimization_population = result.X\n",
    "\n",
    "if len(optimization_population.shape) == 1:\n",
    "\toptimization_population = np.array([list(optimization_population)])\n",
    "\n",
    "validation_pareto_front, validation_optimized_x_train, validation_optimized_y_train = GenericOptimizer.calculate_optimal_instance(\n",
    "\tx_train,\n",
    "\ty_train,\n",
    "\tx_validation,\n",
    "\ty_validation,\n",
    "\tvalidation_fitness,\n",
    "\toptimization_population,\n",
    "\tGenericOptimizer.n_neighbours\n",
    ")\n",
    "\n",
    "reduction_rate = 1 - (validation_optimized_x_train.shape[0] / x_train.shape[0])\n",
    "\n",
    "optimized_test_err = GenericOptimizer.calculate_overall_error(\n",
    "\tvalidation_optimized_x_train,\n",
    "\tvalidation_optimized_y_train,\n",
    "\tx_test,\n",
    "\ty_test,\n",
    "\tGenericOptimizer.n_neighbours\n",
    ")\n",
    "optimized_validation_err = GenericOptimizer.calculate_overall_error(\n",
    "\tvalidation_optimized_x_train,\n",
    "\tvalidation_optimized_y_train,\n",
    "\tx_validation,\n",
    "\ty_validation,\n",
    "\tGenericOptimizer.n_neighbours\n",
    ")\n",
    "baseline_validation_err = GenericOptimizer.calculate_overall_error(\n",
    "\tx_train,\n",
    "\ty_train,\n",
    "\tx_validation,\n",
    "\ty_validation,\n",
    "\tGenericOptimizer.n_neighbours\n",
    ")\n",
    "baseline_test_err = GenericOptimizer.calculate_overall_error(\n",
    "\tx_train,\n",
    "\ty_train,\n",
    "\tx_test,\n",
    "\ty_test,\n",
    "\tGenericOptimizer.n_neighbours\n",
    ")\n",
    "\n",
    "test_fitness = []\n",
    "for objective in [CustomMutation.primary_objective, GenericOptimizer.calculate_num_examples]:\n",
    "\ttest_fitness.append(GenericOptimizer.unbound_eval_objectives(\n",
    "\t\tobjective,\n",
    "\t\toptimization_population,\n",
    "\t\tx_train, y_train,\n",
    "\t\tx_test, y_test\n",
    "\t))\n",
    "test_fitness = np.column_stack(test_fitness)\n",
    "\n",
    "test_pareto_front, ideal_test_x_train, ideal_test_y_train = GenericOptimizer.calculate_optimal_instance(\n",
    "\tx_train,\n",
    "\ty_train,\n",
    "\tx_test,\n",
    "\ty_test,\n",
    "\ttest_fitness,\n",
    "\toptimization_population,\n",
    "\tGenericOptimizer.n_neighbours\n",
    ")\n",
    "\n",
    "ideal_test_err = GenericOptimizer.calculate_overall_error(\n",
    "\tideal_test_x_train,\n",
    "\tideal_test_y_train,\n",
    "\tx_test,\n",
    "\ty_test,\n",
    "\tGenericOptimizer.n_neighbours\n",
    ")\n",
    "\n",
    "report = {\n",
    "\t\"Baseline validation err\": baseline_validation_err,\n",
    "\t\"Baseline test err\": baseline_test_err,\n",
    "\t\"Optimzed validation err\": optimized_validation_err,\n",
    "\t\"Optimized test err\": optimized_test_err,\n",
    "\t\"Ideal test err\": ideal_test_err,\n",
    "\t\"result object\": result\n",
    "}\n",
    "\t# return report\n",
    "\n",
    "# folder = os.listdir('../Datasets')[0]\n",
    "# report = pipeline(folder)\n"
   ]
  },
  {
   "cell_type": "code",
   "execution_count": 9,
   "metadata": {},
   "outputs": [
    {
     "data": {
      "text/plain": [
       "{'Baseline validation err': 0.36046511627906974,\n",
       " 'Baseline test err': 0.3121387283236994,\n",
       " 'Optimzed validation err': 0.10465116279069764,\n",
       " 'Optimized test err': 0.3179190751445087,\n",
       " 'Ideal test err': 0.3063583815028902,\n",
       " 'result object': <pymoo.core.result.Result at 0x20e71ee5d90>}"
      ]
     },
     "execution_count": 9,
     "metadata": {},
     "output_type": "execute_result"
    }
   ],
   "source": [
    "report"
   ]
  },
  {
   "cell_type": "code",
   "execution_count": 7,
   "metadata": {},
   "outputs": [
    {
     "data": {
      "text/plain": [
       "11"
      ]
     },
     "execution_count": 7,
     "metadata": {},
     "output_type": "execute_result"
    }
   ],
   "source": [
    "len(report['result object'].X)"
   ]
  },
  {
   "cell_type": "code",
   "execution_count": null,
   "metadata": {},
   "outputs": [
    {
     "name": "stdout",
     "output_type": "stream",
     "text": [
      "passed on australian_0.pickle\n",
      "passed on australian_1.pickle\n",
      "passed on australian_2.pickle\n",
      "passed on australian_3.pickle\n",
      "passed on australian_4.pickle\n",
      "passed on australian_5.pickle\n",
      "passed on australian_6.pickle\n",
      "passed on australian_7.pickle\n",
      "passed on australian_8.pickle\n",
      "passed on australian_9.pickle\n",
      "passed on australian_10.pickle\n",
      "passed on australian_11.pickle\n",
      "passed on australian_12.pickle\n",
      "passed on australian_13.pickle\n",
      "passed on australian_14.pickle\n",
      "passed on australian_15.pickle\n",
      "passed on australian_16.pickle\n",
      "passed on australian_17.pickle\n",
      "passed on australian_18.pickle\n",
      "passed on australian_19.pickle\n",
      "passed on australian_20.pickle\n",
      "passed on australian_21.pickle\n",
      "passed on australian_22.pickle\n",
      "passed on australian_23.pickle\n",
      "passed on australian_24.pickle\n",
      "passed on australian_25.pickle\n",
      "passed on australian_26.pickle\n",
      "passed on australian_27.pickle\n",
      "passed on australian_28.pickle\n",
      "passed on australian_29.pickle\n",
      "passed on australian_30.pickle\n",
      "passed on bupa_0.pickle\n",
      "passed on bupa_1.pickle\n",
      "passed on bupa_2.pickle\n",
      "passed on bupa_3.pickle\n",
      "passed on bupa_4.pickle\n",
      "passed on bupa_5.pickle\n",
      "passed on bupa_6.pickle\n",
      "passed on bupa_7.pickle\n",
      "passed on bupa_8.pickle\n",
      "passed on bupa_9.pickle\n",
      "passed on bupa_10.pickle\n",
      "passed on bupa_11.pickle\n",
      "passed on bupa_12.pickle\n",
      "passed on bupa_13.pickle\n",
      "passed on bupa_14.pickle\n",
      "passed on bupa_15.pickle\n",
      "passed on bupa_16.pickle\n",
      "passed on bupa_17.pickle\n",
      "passed on bupa_18.pickle\n",
      "passed on bupa_19.pickle\n",
      "passed on bupa_20.pickle\n",
      "passed on bupa_21.pickle\n",
      "passed on bupa_22.pickle\n",
      "passed on bupa_23.pickle\n",
      "passed on bupa_24.pickle\n",
      "passed on bupa_25.pickle\n",
      "passed on bupa_26.pickle\n",
      "passed on bupa_27.pickle\n",
      "passed on bupa_28.pickle\n",
      "passed on bupa_29.pickle\n",
      "passed on bupa_30.pickle\n",
      "passed on glass1_0.pickle\n",
      "passed on glass1_1.pickle\n",
      "passed on glass1_2.pickle\n",
      "passed on glass1_3.pickle\n",
      "passed on glass1_4.pickle\n",
      "passed on glass1_5.pickle\n",
      "passed on glass1_6.pickle\n",
      "passed on glass1_7.pickle\n",
      "passed on glass1_8.pickle\n",
      "passed on glass1_9.pickle\n",
      "passed on glass1_10.pickle\n",
      "passed on glass1_11.pickle\n",
      "passed on glass1_12.pickle\n",
      "passed on glass1_13.pickle\n",
      "passed on glass1_14.pickle\n",
      "passed on glass1_15.pickle\n",
      "passed on glass1_16.pickle\n",
      "passed on glass1_17.pickle\n",
      "passed on glass1_18.pickle\n",
      "passed on glass1_19.pickle\n",
      "passed on glass1_20.pickle\n",
      "passed on glass1_21.pickle\n",
      "passed on glass1_22.pickle\n",
      "passed on glass1_23.pickle\n",
      "passed on glass1_24.pickle\n",
      "passed on glass1_25.pickle\n",
      "passed on glass1_26.pickle\n",
      "passed on glass1_27.pickle\n",
      "passed on glass1_28.pickle\n",
      "passed on glass1_29.pickle\n",
      "passed on glass1_30.pickle\n",
      "Starting phoneme run 0...\n",
      "\tStep 1 complete...\n",
      "\tStep 2 complete...\n",
      "\tStep 3 complete...\n",
      "\tStep 4 complete...\n",
      "\tStep 5 complete...\n"
     ]
    },
    {
     "name": "stderr",
     "output_type": "stream",
     "text": [
      "C:\\Users\\RjKim\\AppData\\Local\\Temp\\ipykernel_21156\\3556282856.py:33: DeprecationWarning: __array__ implementation doesn't accept a copy keyword, so passing copy=False failed. __array__ must implement 'dtype' and 'copy' keyword arguments. To learn more, see the migration guide https://numpy.org/devdocs/numpy_2_0_migration_guide.html#adapting-to-changes-in-the-copy-keyword\n",
      "  return np.array(predictions)\n"
     ]
    },
    {
     "name": "stdout",
     "output_type": "stream",
     "text": [
      "\tStep 6 complete...\n",
      "\tRun complete...\n",
      "\n",
      "Starting phoneme run 1...\n",
      "\tStep 1 complete...\n",
      "\tStep 2 complete...\n",
      "\tStep 3 complete...\n",
      "Error: Unable to allocate 5.04 GiB for an array with shape (500526, 2702) and data type float32\n",
      "Starting phoneme run 2...\n",
      "\tStep 1 complete...\n",
      "\tStep 2 complete...\n",
      "\tStep 3 complete...\n",
      "Error: Unable to allocate 5.04 GiB for an array with shape (500760, 2702) and data type float32\n",
      "Starting phoneme run 3...\n",
      "\tStep 1 complete...\n",
      "\tStep 2 complete...\n",
      "\tStep 3 complete...\n",
      "Error: Unable to allocate 5.04 GiB for an array with shape (500423, 2702) and data type float32\n",
      "Starting phoneme run 4...\n",
      "\tStep 1 complete...\n",
      "\tStep 2 complete...\n",
      "\tStep 3 complete...\n",
      "Error: Unable to allocate 5.03 GiB for an array with shape (500123, 2702) and data type float32\n",
      "Starting phoneme run 5...\n",
      "\tStep 1 complete...\n",
      "\tStep 2 complete...\n",
      "\tStep 3 complete...\n",
      "Error: Unable to allocate 5.04 GiB for an array with shape (500409, 2702) and data type float32\n",
      "Starting phoneme run 6...\n",
      "\tStep 1 complete...\n",
      "\tStep 2 complete...\n",
      "\tStep 3 complete...\n",
      "Error: Unable to allocate 5.04 GiB for an array with shape (500966, 2702) and data type float32\n",
      "Starting phoneme run 7...\n",
      "\tStep 1 complete...\n",
      "\tStep 2 complete...\n",
      "\tStep 3 complete...\n",
      "Error: Unable to allocate 5.04 GiB for an array with shape (500465, 2702) and data type float32\n",
      "Starting phoneme run 8...\n",
      "\tStep 1 complete...\n",
      "\tStep 2 complete...\n",
      "\tStep 3 complete...\n",
      "Error: Unable to allocate 5.04 GiB for an array with shape (500412, 2702) and data type float32\n",
      "Starting phoneme run 9...\n",
      "\tStep 1 complete...\n",
      "\tStep 2 complete...\n",
      "\tStep 3 complete...\n",
      "Error: Unable to allocate 5.04 GiB for an array with shape (500320, 2702) and data type float32\n",
      "Starting phoneme run 10...\n",
      "\tStep 1 complete...\n",
      "\tStep 2 complete...\n",
      "\tStep 3 complete...\n",
      "Error: Unable to allocate 5.04 GiB for an array with shape (500488, 2702) and data type float32\n",
      "Starting phoneme run 11...\n",
      "\tStep 1 complete...\n",
      "\tStep 2 complete...\n",
      "\tStep 3 complete...\n",
      "Error: Unable to allocate 5.03 GiB for an array with shape (500192, 2702) and data type float32\n",
      "Starting phoneme run 12...\n",
      "\tStep 1 complete...\n",
      "\tStep 2 complete...\n",
      "\tStep 3 complete...\n",
      "Error: Unable to allocate 5.04 GiB for an array with shape (500484, 2702) and data type float32\n",
      "Starting phoneme run 13...\n",
      "\tStep 1 complete...\n",
      "\tStep 2 complete...\n",
      "\tStep 3 complete...\n",
      "Error: Unable to allocate 5.04 GiB for an array with shape (500466, 2702) and data type float32\n",
      "Starting phoneme run 14...\n",
      "\tStep 1 complete...\n",
      "\tStep 2 complete...\n",
      "\tStep 3 complete...\n",
      "Error: Unable to allocate 5.04 GiB for an array with shape (500610, 2702) and data type float32\n",
      "Starting phoneme run 15...\n",
      "\tStep 1 complete...\n",
      "\tStep 2 complete...\n",
      "\tStep 3 complete...\n",
      "Error: Unable to allocate 5.04 GiB for an array with shape (500490, 2702) and data type float32\n",
      "Starting phoneme run 16...\n",
      "\tStep 1 complete...\n",
      "\tStep 2 complete...\n",
      "\tStep 3 complete...\n",
      "Error: Unable to allocate 5.04 GiB for an array with shape (500460, 2702) and data type float32\n",
      "Starting phoneme run 17...\n",
      "\tStep 1 complete...\n",
      "\tStep 2 complete...\n",
      "\tStep 3 complete...\n",
      "Error: Unable to allocate 5.04 GiB for an array with shape (500634, 2702) and data type float32\n",
      "Starting phoneme run 18...\n",
      "\tStep 1 complete...\n",
      "\tStep 2 complete...\n",
      "\tStep 3 complete...\n",
      "Error: Unable to allocate 5.04 GiB for an array with shape (500266, 2702) and data type float32\n",
      "Starting phoneme run 19...\n",
      "\tStep 1 complete...\n",
      "\tStep 2 complete...\n",
      "\tStep 3 complete...\n",
      "Error: Unable to allocate 5.04 GiB for an array with shape (500808, 2702) and data type float32\n",
      "Starting phoneme run 20...\n",
      "\tStep 1 complete...\n",
      "\tStep 2 complete...\n",
      "\tStep 3 complete...\n",
      "Error: Unable to allocate 5.03 GiB for an array with shape (500148, 2702) and data type float32\n",
      "Starting phoneme run 21...\n",
      "\tStep 1 complete...\n",
      "\tStep 2 complete...\n",
      "\tStep 3 complete...\n",
      "Error: Unable to allocate 5.04 GiB for an array with shape (500464, 2702) and data type float32\n",
      "Starting phoneme run 22...\n",
      "\tStep 1 complete...\n",
      "\tStep 2 complete...\n",
      "\tStep 3 complete...\n",
      "Error: Unable to allocate 5.04 GiB for an array with shape (500395, 2702) and data type float32\n",
      "Starting phoneme run 23...\n",
      "\tStep 1 complete...\n",
      "\tStep 2 complete...\n",
      "\tStep 3 complete...\n",
      "Error: Unable to allocate 5.04 GiB for an array with shape (500387, 2702) and data type float32\n",
      "Starting phoneme run 24...\n",
      "\tStep 1 complete...\n",
      "\tStep 2 complete...\n",
      "\tStep 3 complete...\n",
      "Error: Unable to allocate 5.04 GiB for an array with shape (500229, 2702) and data type float32\n",
      "Starting phoneme run 25...\n",
      "\tStep 1 complete...\n",
      "\tStep 2 complete...\n",
      "\tStep 3 complete...\n",
      "Error: Unable to allocate 5.04 GiB for an array with shape (500764, 2702) and data type float32\n",
      "Starting phoneme run 26...\n",
      "\tStep 1 complete...\n",
      "\tStep 2 complete...\n",
      "\tStep 3 complete...\n",
      "Error: Unable to allocate 5.04 GiB for an array with shape (500337, 2702) and data type float32\n",
      "Starting phoneme run 27...\n",
      "\tStep 1 complete...\n",
      "\tStep 2 complete...\n",
      "\tStep 3 complete...\n",
      "Error: Unable to allocate 5.04 GiB for an array with shape (500337, 2702) and data type float32\n",
      "Starting phoneme run 28...\n",
      "\tStep 1 complete...\n",
      "\tStep 2 complete...\n",
      "\tStep 3 complete...\n",
      "Error: Unable to allocate 5.04 GiB for an array with shape (500284, 2702) and data type float32\n",
      "Starting phoneme run 29...\n",
      "\tStep 1 complete...\n",
      "\tStep 2 complete...\n",
      "\tStep 3 complete...\n",
      "Error: Unable to allocate 5.04 GiB for an array with shape (500640, 2702) and data type float32\n",
      "Starting phoneme run 30...\n",
      "\tStep 1 complete...\n",
      "\tStep 2 complete...\n",
      "\tStep 3 complete...\n",
      "Error: Unable to allocate 5.04 GiB for an array with shape (500544, 2702) and data type float32\n",
      "Starting pima run 0...\n",
      "\tStep 1 complete...\n",
      "\tStep 2 complete...\n",
      "\tStep 3 complete...\n",
      "\tStep 4 complete...\n",
      "\tStep 5 complete...\n"
     ]
    },
    {
     "name": "stderr",
     "output_type": "stream",
     "text": [
      "C:\\Users\\RjKim\\AppData\\Local\\Temp\\ipykernel_21156\\3556282856.py:33: DeprecationWarning: __array__ implementation doesn't accept a copy keyword, so passing copy=False failed. __array__ must implement 'dtype' and 'copy' keyword arguments. To learn more, see the migration guide https://numpy.org/devdocs/numpy_2_0_migration_guide.html#adapting-to-changes-in-the-copy-keyword\n",
      "  return np.array(predictions)\n"
     ]
    },
    {
     "name": "stdout",
     "output_type": "stream",
     "text": [
      "\tStep 6 complete...\n",
      "\tRun complete...\n",
      "\n",
      "Starting pima run 1...\n",
      "\tStep 1 complete...\n",
      "\tStep 2 complete...\n",
      "\tStep 3 complete...\n",
      "\tStep 4 complete...\n",
      "\tStep 5 complete...\n"
     ]
    },
    {
     "name": "stderr",
     "output_type": "stream",
     "text": [
      "C:\\Users\\RjKim\\AppData\\Local\\Temp\\ipykernel_21156\\3556282856.py:33: DeprecationWarning: __array__ implementation doesn't accept a copy keyword, so passing copy=False failed. __array__ must implement 'dtype' and 'copy' keyword arguments. To learn more, see the migration guide https://numpy.org/devdocs/numpy_2_0_migration_guide.html#adapting-to-changes-in-the-copy-keyword\n",
      "  return np.array(predictions)\n"
     ]
    },
    {
     "name": "stdout",
     "output_type": "stream",
     "text": [
      "\tStep 6 complete...\n",
      "\tRun complete...\n",
      "\n",
      "Starting pima run 2...\n",
      "\tStep 1 complete...\n",
      "\tStep 2 complete...\n",
      "\tStep 3 complete...\n",
      "\tStep 4 complete...\n",
      "\tStep 5 complete...\n"
     ]
    },
    {
     "name": "stderr",
     "output_type": "stream",
     "text": [
      "C:\\Users\\RjKim\\AppData\\Local\\Temp\\ipykernel_21156\\3556282856.py:33: DeprecationWarning: __array__ implementation doesn't accept a copy keyword, so passing copy=False failed. __array__ must implement 'dtype' and 'copy' keyword arguments. To learn more, see the migration guide https://numpy.org/devdocs/numpy_2_0_migration_guide.html#adapting-to-changes-in-the-copy-keyword\n",
      "  return np.array(predictions)\n"
     ]
    },
    {
     "name": "stdout",
     "output_type": "stream",
     "text": [
      "\tStep 6 complete...\n",
      "\tRun complete...\n",
      "\n",
      "Starting pima run 3...\n",
      "\tStep 1 complete...\n",
      "\tStep 2 complete...\n",
      "\tStep 3 complete...\n",
      "\tStep 4 complete...\n",
      "\tStep 5 complete...\n"
     ]
    },
    {
     "name": "stderr",
     "output_type": "stream",
     "text": [
      "C:\\Users\\RjKim\\AppData\\Local\\Temp\\ipykernel_21156\\3556282856.py:33: DeprecationWarning: __array__ implementation doesn't accept a copy keyword, so passing copy=False failed. __array__ must implement 'dtype' and 'copy' keyword arguments. To learn more, see the migration guide https://numpy.org/devdocs/numpy_2_0_migration_guide.html#adapting-to-changes-in-the-copy-keyword\n",
      "  return np.array(predictions)\n"
     ]
    },
    {
     "name": "stdout",
     "output_type": "stream",
     "text": [
      "\tStep 6 complete...\n",
      "\tRun complete...\n",
      "\n",
      "Starting pima run 4...\n",
      "\tStep 1 complete...\n",
      "\tStep 2 complete...\n",
      "\tStep 3 complete...\n",
      "\tStep 4 complete...\n",
      "\tStep 5 complete...\n"
     ]
    },
    {
     "name": "stderr",
     "output_type": "stream",
     "text": [
      "C:\\Users\\RjKim\\AppData\\Local\\Temp\\ipykernel_21156\\3556282856.py:33: DeprecationWarning: __array__ implementation doesn't accept a copy keyword, so passing copy=False failed. __array__ must implement 'dtype' and 'copy' keyword arguments. To learn more, see the migration guide https://numpy.org/devdocs/numpy_2_0_migration_guide.html#adapting-to-changes-in-the-copy-keyword\n",
      "  return np.array(predictions)\n"
     ]
    },
    {
     "name": "stdout",
     "output_type": "stream",
     "text": [
      "\tStep 6 complete...\n",
      "\tRun complete...\n",
      "\n",
      "Starting pima run 5...\n",
      "\tStep 1 complete...\n",
      "\tStep 2 complete...\n",
      "\tStep 3 complete...\n",
      "\tStep 4 complete...\n",
      "\tStep 5 complete...\n"
     ]
    },
    {
     "name": "stderr",
     "output_type": "stream",
     "text": [
      "C:\\Users\\RjKim\\AppData\\Local\\Temp\\ipykernel_21156\\3556282856.py:33: DeprecationWarning: __array__ implementation doesn't accept a copy keyword, so passing copy=False failed. __array__ must implement 'dtype' and 'copy' keyword arguments. To learn more, see the migration guide https://numpy.org/devdocs/numpy_2_0_migration_guide.html#adapting-to-changes-in-the-copy-keyword\n",
      "  return np.array(predictions)\n"
     ]
    },
    {
     "name": "stdout",
     "output_type": "stream",
     "text": [
      "\tStep 6 complete...\n",
      "\tRun complete...\n",
      "\n",
      "Starting pima run 6...\n",
      "\tStep 1 complete...\n",
      "\tStep 2 complete...\n",
      "\tStep 3 complete...\n",
      "\tStep 4 complete...\n",
      "\tStep 5 complete...\n"
     ]
    },
    {
     "name": "stderr",
     "output_type": "stream",
     "text": [
      "C:\\Users\\RjKim\\AppData\\Local\\Temp\\ipykernel_21156\\3556282856.py:33: DeprecationWarning: __array__ implementation doesn't accept a copy keyword, so passing copy=False failed. __array__ must implement 'dtype' and 'copy' keyword arguments. To learn more, see the migration guide https://numpy.org/devdocs/numpy_2_0_migration_guide.html#adapting-to-changes-in-the-copy-keyword\n",
      "  return np.array(predictions)\n"
     ]
    },
    {
     "name": "stdout",
     "output_type": "stream",
     "text": [
      "\tStep 6 complete...\n",
      "\tRun complete...\n",
      "\n",
      "Starting pima run 7...\n",
      "\tStep 1 complete...\n",
      "\tStep 2 complete...\n",
      "\tStep 3 complete...\n",
      "\tStep 4 complete...\n",
      "\tStep 5 complete...\n"
     ]
    },
    {
     "name": "stderr",
     "output_type": "stream",
     "text": [
      "C:\\Users\\RjKim\\AppData\\Local\\Temp\\ipykernel_21156\\3556282856.py:33: DeprecationWarning: __array__ implementation doesn't accept a copy keyword, so passing copy=False failed. __array__ must implement 'dtype' and 'copy' keyword arguments. To learn more, see the migration guide https://numpy.org/devdocs/numpy_2_0_migration_guide.html#adapting-to-changes-in-the-copy-keyword\n",
      "  return np.array(predictions)\n"
     ]
    },
    {
     "name": "stdout",
     "output_type": "stream",
     "text": [
      "\tStep 6 complete...\n",
      "\tRun complete...\n",
      "\n",
      "Starting pima run 8...\n",
      "\tStep 1 complete...\n",
      "\tStep 2 complete...\n",
      "\tStep 3 complete...\n",
      "\tStep 4 complete...\n",
      "\tStep 5 complete...\n"
     ]
    },
    {
     "name": "stderr",
     "output_type": "stream",
     "text": [
      "C:\\Users\\RjKim\\AppData\\Local\\Temp\\ipykernel_21156\\3556282856.py:33: DeprecationWarning: __array__ implementation doesn't accept a copy keyword, so passing copy=False failed. __array__ must implement 'dtype' and 'copy' keyword arguments. To learn more, see the migration guide https://numpy.org/devdocs/numpy_2_0_migration_guide.html#adapting-to-changes-in-the-copy-keyword\n",
      "  return np.array(predictions)\n"
     ]
    },
    {
     "name": "stdout",
     "output_type": "stream",
     "text": [
      "\tStep 6 complete...\n",
      "\tRun complete...\n",
      "\n",
      "Starting pima run 9...\n",
      "\tStep 1 complete...\n",
      "\tStep 2 complete...\n",
      "\tStep 3 complete...\n",
      "\tStep 4 complete...\n",
      "\tStep 5 complete...\n"
     ]
    },
    {
     "name": "stderr",
     "output_type": "stream",
     "text": [
      "C:\\Users\\RjKim\\AppData\\Local\\Temp\\ipykernel_21156\\3556282856.py:33: DeprecationWarning: __array__ implementation doesn't accept a copy keyword, so passing copy=False failed. __array__ must implement 'dtype' and 'copy' keyword arguments. To learn more, see the migration guide https://numpy.org/devdocs/numpy_2_0_migration_guide.html#adapting-to-changes-in-the-copy-keyword\n",
      "  return np.array(predictions)\n"
     ]
    },
    {
     "name": "stdout",
     "output_type": "stream",
     "text": [
      "\tStep 6 complete...\n",
      "\tRun complete...\n",
      "\n",
      "Starting pima run 10...\n",
      "\tStep 1 complete...\n",
      "\tStep 2 complete...\n",
      "\tStep 3 complete...\n",
      "\tStep 4 complete...\n",
      "\tStep 5 complete...\n"
     ]
    },
    {
     "name": "stderr",
     "output_type": "stream",
     "text": [
      "C:\\Users\\RjKim\\AppData\\Local\\Temp\\ipykernel_21156\\3556282856.py:33: DeprecationWarning: __array__ implementation doesn't accept a copy keyword, so passing copy=False failed. __array__ must implement 'dtype' and 'copy' keyword arguments. To learn more, see the migration guide https://numpy.org/devdocs/numpy_2_0_migration_guide.html#adapting-to-changes-in-the-copy-keyword\n",
      "  return np.array(predictions)\n"
     ]
    },
    {
     "name": "stdout",
     "output_type": "stream",
     "text": [
      "\tStep 6 complete...\n",
      "\tRun complete...\n",
      "\n",
      "Starting pima run 11...\n",
      "\tStep 1 complete...\n",
      "\tStep 2 complete...\n",
      "\tStep 3 complete...\n",
      "\tStep 4 complete...\n",
      "\tStep 5 complete...\n"
     ]
    },
    {
     "name": "stderr",
     "output_type": "stream",
     "text": [
      "C:\\Users\\RjKim\\AppData\\Local\\Temp\\ipykernel_21156\\3556282856.py:33: DeprecationWarning: __array__ implementation doesn't accept a copy keyword, so passing copy=False failed. __array__ must implement 'dtype' and 'copy' keyword arguments. To learn more, see the migration guide https://numpy.org/devdocs/numpy_2_0_migration_guide.html#adapting-to-changes-in-the-copy-keyword\n",
      "  return np.array(predictions)\n"
     ]
    },
    {
     "name": "stdout",
     "output_type": "stream",
     "text": [
      "\tStep 6 complete...\n",
      "\tRun complete...\n",
      "\n",
      "Starting pima run 12...\n",
      "\tStep 1 complete...\n",
      "\tStep 2 complete...\n",
      "\tStep 3 complete...\n",
      "\tStep 4 complete...\n",
      "\tStep 5 complete...\n"
     ]
    },
    {
     "name": "stderr",
     "output_type": "stream",
     "text": [
      "C:\\Users\\RjKim\\AppData\\Local\\Temp\\ipykernel_21156\\3556282856.py:33: DeprecationWarning: __array__ implementation doesn't accept a copy keyword, so passing copy=False failed. __array__ must implement 'dtype' and 'copy' keyword arguments. To learn more, see the migration guide https://numpy.org/devdocs/numpy_2_0_migration_guide.html#adapting-to-changes-in-the-copy-keyword\n",
      "  return np.array(predictions)\n"
     ]
    },
    {
     "name": "stdout",
     "output_type": "stream",
     "text": [
      "\tStep 6 complete...\n",
      "\tRun complete...\n",
      "\n",
      "Starting pima run 13...\n",
      "\tStep 1 complete...\n",
      "\tStep 2 complete...\n",
      "\tStep 3 complete...\n",
      "\tStep 4 complete...\n",
      "\tStep 5 complete...\n"
     ]
    },
    {
     "name": "stderr",
     "output_type": "stream",
     "text": [
      "C:\\Users\\RjKim\\AppData\\Local\\Temp\\ipykernel_21156\\3556282856.py:33: DeprecationWarning: __array__ implementation doesn't accept a copy keyword, so passing copy=False failed. __array__ must implement 'dtype' and 'copy' keyword arguments. To learn more, see the migration guide https://numpy.org/devdocs/numpy_2_0_migration_guide.html#adapting-to-changes-in-the-copy-keyword\n",
      "  return np.array(predictions)\n"
     ]
    },
    {
     "name": "stdout",
     "output_type": "stream",
     "text": [
      "\tStep 6 complete...\n",
      "\tRun complete...\n",
      "\n",
      "Starting pima run 14...\n",
      "\tStep 1 complete...\n",
      "\tStep 2 complete...\n",
      "\tStep 3 complete...\n",
      "\tStep 4 complete...\n",
      "\tStep 5 complete...\n"
     ]
    },
    {
     "name": "stderr",
     "output_type": "stream",
     "text": [
      "C:\\Users\\RjKim\\AppData\\Local\\Temp\\ipykernel_21156\\3556282856.py:33: DeprecationWarning: __array__ implementation doesn't accept a copy keyword, so passing copy=False failed. __array__ must implement 'dtype' and 'copy' keyword arguments. To learn more, see the migration guide https://numpy.org/devdocs/numpy_2_0_migration_guide.html#adapting-to-changes-in-the-copy-keyword\n",
      "  return np.array(predictions)\n"
     ]
    },
    {
     "name": "stdout",
     "output_type": "stream",
     "text": [
      "\tStep 6 complete...\n",
      "\tRun complete...\n",
      "\n",
      "Starting pima run 15...\n",
      "\tStep 1 complete...\n",
      "\tStep 2 complete...\n",
      "\tStep 3 complete...\n",
      "\tStep 4 complete...\n",
      "\tStep 5 complete...\n"
     ]
    },
    {
     "name": "stderr",
     "output_type": "stream",
     "text": [
      "C:\\Users\\RjKim\\AppData\\Local\\Temp\\ipykernel_21156\\3556282856.py:33: DeprecationWarning: __array__ implementation doesn't accept a copy keyword, so passing copy=False failed. __array__ must implement 'dtype' and 'copy' keyword arguments. To learn more, see the migration guide https://numpy.org/devdocs/numpy_2_0_migration_guide.html#adapting-to-changes-in-the-copy-keyword\n",
      "  return np.array(predictions)\n"
     ]
    },
    {
     "name": "stdout",
     "output_type": "stream",
     "text": [
      "\tStep 6 complete...\n",
      "\tRun complete...\n",
      "\n",
      "Starting pima run 16...\n",
      "\tStep 1 complete...\n",
      "\tStep 2 complete...\n",
      "\tStep 3 complete...\n",
      "\tStep 4 complete...\n",
      "\tStep 5 complete...\n"
     ]
    },
    {
     "name": "stderr",
     "output_type": "stream",
     "text": [
      "C:\\Users\\RjKim\\AppData\\Local\\Temp\\ipykernel_21156\\3556282856.py:33: DeprecationWarning: __array__ implementation doesn't accept a copy keyword, so passing copy=False failed. __array__ must implement 'dtype' and 'copy' keyword arguments. To learn more, see the migration guide https://numpy.org/devdocs/numpy_2_0_migration_guide.html#adapting-to-changes-in-the-copy-keyword\n",
      "  return np.array(predictions)\n"
     ]
    },
    {
     "name": "stdout",
     "output_type": "stream",
     "text": [
      "\tStep 6 complete...\n",
      "\tRun complete...\n",
      "\n",
      "Starting pima run 17...\n",
      "\tStep 1 complete...\n",
      "\tStep 2 complete...\n",
      "\tStep 3 complete...\n",
      "\tStep 4 complete...\n",
      "\tStep 5 complete...\n"
     ]
    },
    {
     "name": "stderr",
     "output_type": "stream",
     "text": [
      "C:\\Users\\RjKim\\AppData\\Local\\Temp\\ipykernel_21156\\3556282856.py:33: DeprecationWarning: __array__ implementation doesn't accept a copy keyword, so passing copy=False failed. __array__ must implement 'dtype' and 'copy' keyword arguments. To learn more, see the migration guide https://numpy.org/devdocs/numpy_2_0_migration_guide.html#adapting-to-changes-in-the-copy-keyword\n",
      "  return np.array(predictions)\n"
     ]
    },
    {
     "name": "stdout",
     "output_type": "stream",
     "text": [
      "\tStep 6 complete...\n",
      "\tRun complete...\n",
      "\n",
      "Starting pima run 18...\n",
      "\tStep 1 complete...\n",
      "\tStep 2 complete...\n",
      "\tStep 3 complete...\n",
      "\tStep 4 complete...\n",
      "\tStep 5 complete...\n"
     ]
    },
    {
     "name": "stderr",
     "output_type": "stream",
     "text": [
      "C:\\Users\\RjKim\\AppData\\Local\\Temp\\ipykernel_21156\\3556282856.py:33: DeprecationWarning: __array__ implementation doesn't accept a copy keyword, so passing copy=False failed. __array__ must implement 'dtype' and 'copy' keyword arguments. To learn more, see the migration guide https://numpy.org/devdocs/numpy_2_0_migration_guide.html#adapting-to-changes-in-the-copy-keyword\n",
      "  return np.array(predictions)\n"
     ]
    },
    {
     "name": "stdout",
     "output_type": "stream",
     "text": [
      "\tStep 6 complete...\n",
      "\tRun complete...\n",
      "\n",
      "Starting pima run 19...\n",
      "\tStep 1 complete...\n",
      "\tStep 2 complete...\n",
      "\tStep 3 complete...\n",
      "\tStep 4 complete...\n",
      "\tStep 5 complete...\n"
     ]
    },
    {
     "name": "stderr",
     "output_type": "stream",
     "text": [
      "C:\\Users\\RjKim\\AppData\\Local\\Temp\\ipykernel_21156\\3556282856.py:33: DeprecationWarning: __array__ implementation doesn't accept a copy keyword, so passing copy=False failed. __array__ must implement 'dtype' and 'copy' keyword arguments. To learn more, see the migration guide https://numpy.org/devdocs/numpy_2_0_migration_guide.html#adapting-to-changes-in-the-copy-keyword\n",
      "  return np.array(predictions)\n"
     ]
    },
    {
     "name": "stdout",
     "output_type": "stream",
     "text": [
      "\tStep 6 complete...\n",
      "\tRun complete...\n",
      "\n",
      "Starting pima run 20...\n",
      "\tStep 1 complete...\n",
      "\tStep 2 complete...\n",
      "\tStep 3 complete...\n",
      "\tStep 4 complete...\n",
      "\tStep 5 complete...\n"
     ]
    },
    {
     "name": "stderr",
     "output_type": "stream",
     "text": [
      "C:\\Users\\RjKim\\AppData\\Local\\Temp\\ipykernel_21156\\3556282856.py:33: DeprecationWarning: __array__ implementation doesn't accept a copy keyword, so passing copy=False failed. __array__ must implement 'dtype' and 'copy' keyword arguments. To learn more, see the migration guide https://numpy.org/devdocs/numpy_2_0_migration_guide.html#adapting-to-changes-in-the-copy-keyword\n",
      "  return np.array(predictions)\n"
     ]
    },
    {
     "name": "stdout",
     "output_type": "stream",
     "text": [
      "\tStep 6 complete...\n",
      "\tRun complete...\n",
      "\n",
      "Starting pima run 21...\n",
      "\tStep 1 complete...\n",
      "\tStep 2 complete...\n",
      "\tStep 3 complete...\n",
      "\tStep 4 complete...\n",
      "\tStep 5 complete...\n"
     ]
    },
    {
     "name": "stderr",
     "output_type": "stream",
     "text": [
      "C:\\Users\\RjKim\\AppData\\Local\\Temp\\ipykernel_21156\\3556282856.py:33: DeprecationWarning: __array__ implementation doesn't accept a copy keyword, so passing copy=False failed. __array__ must implement 'dtype' and 'copy' keyword arguments. To learn more, see the migration guide https://numpy.org/devdocs/numpy_2_0_migration_guide.html#adapting-to-changes-in-the-copy-keyword\n",
      "  return np.array(predictions)\n"
     ]
    },
    {
     "name": "stdout",
     "output_type": "stream",
     "text": [
      "\tStep 6 complete...\n",
      "\tRun complete...\n",
      "\n",
      "Starting pima run 22...\n",
      "\tStep 1 complete...\n",
      "\tStep 2 complete...\n",
      "\tStep 3 complete...\n",
      "\tStep 4 complete...\n",
      "\tStep 5 complete...\n"
     ]
    },
    {
     "name": "stderr",
     "output_type": "stream",
     "text": [
      "C:\\Users\\RjKim\\AppData\\Local\\Temp\\ipykernel_21156\\3556282856.py:33: DeprecationWarning: __array__ implementation doesn't accept a copy keyword, so passing copy=False failed. __array__ must implement 'dtype' and 'copy' keyword arguments. To learn more, see the migration guide https://numpy.org/devdocs/numpy_2_0_migration_guide.html#adapting-to-changes-in-the-copy-keyword\n",
      "  return np.array(predictions)\n"
     ]
    },
    {
     "name": "stdout",
     "output_type": "stream",
     "text": [
      "\tStep 6 complete...\n",
      "\tRun complete...\n",
      "\n",
      "Starting pima run 23...\n",
      "\tStep 1 complete...\n",
      "\tStep 2 complete...\n",
      "\tStep 3 complete...\n",
      "\tStep 4 complete...\n",
      "\tStep 5 complete...\n"
     ]
    },
    {
     "name": "stderr",
     "output_type": "stream",
     "text": [
      "C:\\Users\\RjKim\\AppData\\Local\\Temp\\ipykernel_21156\\3556282856.py:33: DeprecationWarning: __array__ implementation doesn't accept a copy keyword, so passing copy=False failed. __array__ must implement 'dtype' and 'copy' keyword arguments. To learn more, see the migration guide https://numpy.org/devdocs/numpy_2_0_migration_guide.html#adapting-to-changes-in-the-copy-keyword\n",
      "  return np.array(predictions)\n"
     ]
    },
    {
     "name": "stdout",
     "output_type": "stream",
     "text": [
      "\tStep 6 complete...\n",
      "\tRun complete...\n",
      "\n",
      "Starting pima run 24...\n",
      "\tStep 1 complete...\n",
      "\tStep 2 complete...\n",
      "\tStep 3 complete...\n",
      "\tStep 4 complete...\n",
      "\tStep 5 complete...\n"
     ]
    },
    {
     "name": "stderr",
     "output_type": "stream",
     "text": [
      "C:\\Users\\RjKim\\AppData\\Local\\Temp\\ipykernel_21156\\3556282856.py:33: DeprecationWarning: __array__ implementation doesn't accept a copy keyword, so passing copy=False failed. __array__ must implement 'dtype' and 'copy' keyword arguments. To learn more, see the migration guide https://numpy.org/devdocs/numpy_2_0_migration_guide.html#adapting-to-changes-in-the-copy-keyword\n",
      "  return np.array(predictions)\n"
     ]
    },
    {
     "name": "stdout",
     "output_type": "stream",
     "text": [
      "\tStep 6 complete...\n",
      "\tRun complete...\n",
      "\n",
      "Starting pima run 25...\n",
      "\tStep 1 complete...\n",
      "\tStep 2 complete...\n",
      "\tStep 3 complete...\n",
      "\tStep 4 complete...\n",
      "\tStep 5 complete...\n"
     ]
    },
    {
     "name": "stderr",
     "output_type": "stream",
     "text": [
      "C:\\Users\\RjKim\\AppData\\Local\\Temp\\ipykernel_21156\\3556282856.py:33: DeprecationWarning: __array__ implementation doesn't accept a copy keyword, so passing copy=False failed. __array__ must implement 'dtype' and 'copy' keyword arguments. To learn more, see the migration guide https://numpy.org/devdocs/numpy_2_0_migration_guide.html#adapting-to-changes-in-the-copy-keyword\n",
      "  return np.array(predictions)\n"
     ]
    },
    {
     "name": "stdout",
     "output_type": "stream",
     "text": [
      "\tStep 6 complete...\n",
      "\tRun complete...\n",
      "\n",
      "Starting pima run 26...\n",
      "\tStep 1 complete...\n",
      "\tStep 2 complete...\n",
      "\tStep 3 complete...\n",
      "\tStep 4 complete...\n",
      "\tStep 5 complete...\n"
     ]
    },
    {
     "name": "stderr",
     "output_type": "stream",
     "text": [
      "C:\\Users\\RjKim\\AppData\\Local\\Temp\\ipykernel_21156\\3556282856.py:33: DeprecationWarning: __array__ implementation doesn't accept a copy keyword, so passing copy=False failed. __array__ must implement 'dtype' and 'copy' keyword arguments. To learn more, see the migration guide https://numpy.org/devdocs/numpy_2_0_migration_guide.html#adapting-to-changes-in-the-copy-keyword\n",
      "  return np.array(predictions)\n"
     ]
    },
    {
     "name": "stdout",
     "output_type": "stream",
     "text": [
      "\tStep 6 complete...\n",
      "\tRun complete...\n",
      "\n",
      "Starting pima run 27...\n",
      "\tStep 1 complete...\n",
      "\tStep 2 complete...\n",
      "\tStep 3 complete...\n",
      "\tStep 4 complete...\n",
      "\tStep 5 complete...\n"
     ]
    },
    {
     "name": "stderr",
     "output_type": "stream",
     "text": [
      "C:\\Users\\RjKim\\AppData\\Local\\Temp\\ipykernel_21156\\3556282856.py:33: DeprecationWarning: __array__ implementation doesn't accept a copy keyword, so passing copy=False failed. __array__ must implement 'dtype' and 'copy' keyword arguments. To learn more, see the migration guide https://numpy.org/devdocs/numpy_2_0_migration_guide.html#adapting-to-changes-in-the-copy-keyword\n",
      "  return np.array(predictions)\n"
     ]
    },
    {
     "name": "stdout",
     "output_type": "stream",
     "text": [
      "\tStep 6 complete...\n",
      "\tRun complete...\n",
      "\n",
      "Starting pima run 28...\n",
      "\tStep 1 complete...\n",
      "\tStep 2 complete...\n",
      "\tStep 3 complete...\n",
      "\tStep 4 complete...\n",
      "\tStep 5 complete...\n"
     ]
    },
    {
     "name": "stderr",
     "output_type": "stream",
     "text": [
      "C:\\Users\\RjKim\\AppData\\Local\\Temp\\ipykernel_21156\\3556282856.py:33: DeprecationWarning: __array__ implementation doesn't accept a copy keyword, so passing copy=False failed. __array__ must implement 'dtype' and 'copy' keyword arguments. To learn more, see the migration guide https://numpy.org/devdocs/numpy_2_0_migration_guide.html#adapting-to-changes-in-the-copy-keyword\n",
      "  return np.array(predictions)\n"
     ]
    },
    {
     "name": "stdout",
     "output_type": "stream",
     "text": [
      "\tStep 6 complete...\n",
      "\tRun complete...\n",
      "\n",
      "Starting pima run 29...\n",
      "\tStep 1 complete...\n",
      "\tStep 2 complete...\n",
      "\tStep 3 complete...\n",
      "\tStep 4 complete...\n",
      "\tStep 5 complete...\n"
     ]
    },
    {
     "name": "stderr",
     "output_type": "stream",
     "text": [
      "C:\\Users\\RjKim\\AppData\\Local\\Temp\\ipykernel_21156\\3556282856.py:33: DeprecationWarning: __array__ implementation doesn't accept a copy keyword, so passing copy=False failed. __array__ must implement 'dtype' and 'copy' keyword arguments. To learn more, see the migration guide https://numpy.org/devdocs/numpy_2_0_migration_guide.html#adapting-to-changes-in-the-copy-keyword\n",
      "  return np.array(predictions)\n"
     ]
    },
    {
     "name": "stdout",
     "output_type": "stream",
     "text": [
      "\tStep 6 complete...\n",
      "\tRun complete...\n",
      "\n",
      "Starting pima run 30...\n",
      "\tStep 1 complete...\n",
      "\tStep 2 complete...\n",
      "\tStep 3 complete...\n",
      "\tStep 4 complete...\n",
      "\tStep 5 complete...\n"
     ]
    },
    {
     "name": "stderr",
     "output_type": "stream",
     "text": [
      "C:\\Users\\RjKim\\AppData\\Local\\Temp\\ipykernel_21156\\3556282856.py:33: DeprecationWarning: __array__ implementation doesn't accept a copy keyword, so passing copy=False failed. __array__ must implement 'dtype' and 'copy' keyword arguments. To learn more, see the migration guide https://numpy.org/devdocs/numpy_2_0_migration_guide.html#adapting-to-changes-in-the-copy-keyword\n",
      "  return np.array(predictions)\n"
     ]
    },
    {
     "name": "stdout",
     "output_type": "stream",
     "text": [
      "\tStep 6 complete...\n",
      "\tRun complete...\n",
      "\n",
      "Starting segment0 run 0...\n",
      "\tStep 1 complete...\n",
      "\tStep 2 complete...\n",
      "\tStep 3 complete...\n",
      "\tStep 4 complete...\n",
      "\tStep 5 complete...\n"
     ]
    },
    {
     "name": "stderr",
     "output_type": "stream",
     "text": [
      "C:\\Users\\RjKim\\AppData\\Local\\Temp\\ipykernel_21156\\3556282856.py:33: DeprecationWarning: __array__ implementation doesn't accept a copy keyword, so passing copy=False failed. __array__ must implement 'dtype' and 'copy' keyword arguments. To learn more, see the migration guide https://numpy.org/devdocs/numpy_2_0_migration_guide.html#adapting-to-changes-in-the-copy-keyword\n",
      "  return np.array(predictions)\n"
     ]
    },
    {
     "name": "stdout",
     "output_type": "stream",
     "text": [
      "\tStep 6 complete...\n",
      "\tRun complete...\n",
      "\n",
      "Starting segment0 run 1...\n",
      "\tStep 1 complete...\n",
      "\tStep 2 complete...\n",
      "\tStep 3 complete...\n",
      "\tStep 4 complete...\n",
      "\tStep 5 complete...\n"
     ]
    },
    {
     "name": "stderr",
     "output_type": "stream",
     "text": [
      "C:\\Users\\RjKim\\AppData\\Local\\Temp\\ipykernel_21156\\3556282856.py:33: DeprecationWarning: __array__ implementation doesn't accept a copy keyword, so passing copy=False failed. __array__ must implement 'dtype' and 'copy' keyword arguments. To learn more, see the migration guide https://numpy.org/devdocs/numpy_2_0_migration_guide.html#adapting-to-changes-in-the-copy-keyword\n",
      "  return np.array(predictions)\n"
     ]
    },
    {
     "name": "stdout",
     "output_type": "stream",
     "text": [
      "\tStep 6 complete...\n",
      "\tRun complete...\n",
      "\n",
      "Starting segment0 run 2...\n",
      "\tStep 1 complete...\n",
      "\tStep 2 complete...\n",
      "\tStep 3 complete...\n",
      "\tStep 4 complete...\n",
      "\tStep 5 complete...\n"
     ]
    },
    {
     "name": "stderr",
     "output_type": "stream",
     "text": [
      "C:\\Users\\RjKim\\AppData\\Local\\Temp\\ipykernel_21156\\3556282856.py:33: DeprecationWarning: __array__ implementation doesn't accept a copy keyword, so passing copy=False failed. __array__ must implement 'dtype' and 'copy' keyword arguments. To learn more, see the migration guide https://numpy.org/devdocs/numpy_2_0_migration_guide.html#adapting-to-changes-in-the-copy-keyword\n",
      "  return np.array(predictions)\n"
     ]
    },
    {
     "name": "stdout",
     "output_type": "stream",
     "text": [
      "\tStep 6 complete...\n",
      "\tRun complete...\n",
      "\n",
      "Starting segment0 run 3...\n",
      "\tStep 1 complete...\n",
      "\tStep 2 complete...\n",
      "\tStep 3 complete...\n",
      "\tStep 4 complete...\n",
      "\tStep 5 complete...\n"
     ]
    },
    {
     "name": "stderr",
     "output_type": "stream",
     "text": [
      "C:\\Users\\RjKim\\AppData\\Local\\Temp\\ipykernel_21156\\3556282856.py:33: DeprecationWarning: __array__ implementation doesn't accept a copy keyword, so passing copy=False failed. __array__ must implement 'dtype' and 'copy' keyword arguments. To learn more, see the migration guide https://numpy.org/devdocs/numpy_2_0_migration_guide.html#adapting-to-changes-in-the-copy-keyword\n",
      "  return np.array(predictions)\n"
     ]
    },
    {
     "name": "stdout",
     "output_type": "stream",
     "text": [
      "\tStep 6 complete...\n",
      "\tRun complete...\n",
      "\n",
      "Starting segment0 run 4...\n",
      "\tStep 1 complete...\n",
      "\tStep 2 complete...\n",
      "\tStep 3 complete...\n",
      "\tStep 4 complete...\n",
      "\tStep 5 complete...\n"
     ]
    },
    {
     "name": "stderr",
     "output_type": "stream",
     "text": [
      "C:\\Users\\RjKim\\AppData\\Local\\Temp\\ipykernel_21156\\3556282856.py:33: DeprecationWarning: __array__ implementation doesn't accept a copy keyword, so passing copy=False failed. __array__ must implement 'dtype' and 'copy' keyword arguments. To learn more, see the migration guide https://numpy.org/devdocs/numpy_2_0_migration_guide.html#adapting-to-changes-in-the-copy-keyword\n",
      "  return np.array(predictions)\n"
     ]
    },
    {
     "name": "stdout",
     "output_type": "stream",
     "text": [
      "\tStep 6 complete...\n",
      "\tRun complete...\n",
      "\n",
      "Starting segment0 run 5...\n",
      "\tStep 1 complete...\n",
      "\tStep 2 complete...\n",
      "\tStep 3 complete...\n",
      "\tStep 4 complete...\n",
      "\tStep 5 complete...\n"
     ]
    },
    {
     "name": "stderr",
     "output_type": "stream",
     "text": [
      "C:\\Users\\RjKim\\AppData\\Local\\Temp\\ipykernel_21156\\3556282856.py:33: DeprecationWarning: __array__ implementation doesn't accept a copy keyword, so passing copy=False failed. __array__ must implement 'dtype' and 'copy' keyword arguments. To learn more, see the migration guide https://numpy.org/devdocs/numpy_2_0_migration_guide.html#adapting-to-changes-in-the-copy-keyword\n",
      "  return np.array(predictions)\n"
     ]
    },
    {
     "name": "stdout",
     "output_type": "stream",
     "text": [
      "\tStep 6 complete...\n",
      "\tRun complete...\n",
      "\n",
      "Starting segment0 run 6...\n",
      "\tStep 1 complete...\n",
      "\tStep 2 complete...\n",
      "\tStep 3 complete...\n",
      "\tStep 4 complete...\n",
      "\tStep 5 complete...\n"
     ]
    },
    {
     "name": "stderr",
     "output_type": "stream",
     "text": [
      "C:\\Users\\RjKim\\AppData\\Local\\Temp\\ipykernel_21156\\3556282856.py:33: DeprecationWarning: __array__ implementation doesn't accept a copy keyword, so passing copy=False failed. __array__ must implement 'dtype' and 'copy' keyword arguments. To learn more, see the migration guide https://numpy.org/devdocs/numpy_2_0_migration_guide.html#adapting-to-changes-in-the-copy-keyword\n",
      "  return np.array(predictions)\n"
     ]
    },
    {
     "name": "stdout",
     "output_type": "stream",
     "text": [
      "\tStep 6 complete...\n",
      "\tRun complete...\n",
      "\n",
      "Starting segment0 run 7...\n",
      "\tStep 1 complete...\n",
      "\tStep 2 complete...\n",
      "\tStep 3 complete...\n",
      "\tStep 4 complete...\n",
      "\tStep 5 complete...\n"
     ]
    },
    {
     "name": "stderr",
     "output_type": "stream",
     "text": [
      "C:\\Users\\RjKim\\AppData\\Local\\Temp\\ipykernel_21156\\3556282856.py:33: DeprecationWarning: __array__ implementation doesn't accept a copy keyword, so passing copy=False failed. __array__ must implement 'dtype' and 'copy' keyword arguments. To learn more, see the migration guide https://numpy.org/devdocs/numpy_2_0_migration_guide.html#adapting-to-changes-in-the-copy-keyword\n",
      "  return np.array(predictions)\n"
     ]
    },
    {
     "name": "stdout",
     "output_type": "stream",
     "text": [
      "\tStep 6 complete...\n",
      "\tRun complete...\n",
      "\n",
      "Starting segment0 run 8...\n",
      "\tStep 1 complete...\n",
      "\tStep 2 complete...\n",
      "\tStep 3 complete...\n",
      "\tStep 4 complete...\n",
      "\tStep 5 complete...\n"
     ]
    },
    {
     "name": "stderr",
     "output_type": "stream",
     "text": [
      "C:\\Users\\RjKim\\AppData\\Local\\Temp\\ipykernel_21156\\3556282856.py:33: DeprecationWarning: __array__ implementation doesn't accept a copy keyword, so passing copy=False failed. __array__ must implement 'dtype' and 'copy' keyword arguments. To learn more, see the migration guide https://numpy.org/devdocs/numpy_2_0_migration_guide.html#adapting-to-changes-in-the-copy-keyword\n",
      "  return np.array(predictions)\n"
     ]
    },
    {
     "name": "stdout",
     "output_type": "stream",
     "text": [
      "\tStep 6 complete...\n",
      "\tRun complete...\n",
      "\n",
      "Starting segment0 run 9...\n",
      "\tStep 1 complete...\n",
      "\tStep 2 complete...\n",
      "\tStep 3 complete...\n",
      "\tStep 4 complete...\n",
      "\tStep 5 complete...\n"
     ]
    },
    {
     "name": "stderr",
     "output_type": "stream",
     "text": [
      "C:\\Users\\RjKim\\AppData\\Local\\Temp\\ipykernel_21156\\3556282856.py:33: DeprecationWarning: __array__ implementation doesn't accept a copy keyword, so passing copy=False failed. __array__ must implement 'dtype' and 'copy' keyword arguments. To learn more, see the migration guide https://numpy.org/devdocs/numpy_2_0_migration_guide.html#adapting-to-changes-in-the-copy-keyword\n",
      "  return np.array(predictions)\n"
     ]
    },
    {
     "name": "stdout",
     "output_type": "stream",
     "text": [
      "\tStep 6 complete...\n",
      "\tRun complete...\n",
      "\n",
      "Starting segment0 run 10...\n",
      "\tStep 1 complete...\n",
      "\tStep 2 complete...\n",
      "\tStep 3 complete...\n",
      "\tStep 4 complete...\n",
      "\tStep 5 complete...\n"
     ]
    },
    {
     "name": "stderr",
     "output_type": "stream",
     "text": [
      "C:\\Users\\RjKim\\AppData\\Local\\Temp\\ipykernel_21156\\3556282856.py:33: DeprecationWarning: __array__ implementation doesn't accept a copy keyword, so passing copy=False failed. __array__ must implement 'dtype' and 'copy' keyword arguments. To learn more, see the migration guide https://numpy.org/devdocs/numpy_2_0_migration_guide.html#adapting-to-changes-in-the-copy-keyword\n",
      "  return np.array(predictions)\n"
     ]
    },
    {
     "name": "stdout",
     "output_type": "stream",
     "text": [
      "\tStep 6 complete...\n",
      "\tRun complete...\n",
      "\n",
      "Starting segment0 run 11...\n",
      "\tStep 1 complete...\n",
      "\tStep 2 complete...\n",
      "\tStep 3 complete...\n",
      "\tStep 4 complete...\n",
      "\tStep 5 complete...\n"
     ]
    },
    {
     "name": "stderr",
     "output_type": "stream",
     "text": [
      "C:\\Users\\RjKim\\AppData\\Local\\Temp\\ipykernel_21156\\3556282856.py:33: DeprecationWarning: __array__ implementation doesn't accept a copy keyword, so passing copy=False failed. __array__ must implement 'dtype' and 'copy' keyword arguments. To learn more, see the migration guide https://numpy.org/devdocs/numpy_2_0_migration_guide.html#adapting-to-changes-in-the-copy-keyword\n",
      "  return np.array(predictions)\n"
     ]
    },
    {
     "name": "stdout",
     "output_type": "stream",
     "text": [
      "\tStep 6 complete...\n",
      "\tRun complete...\n",
      "\n",
      "Starting segment0 run 12...\n",
      "\tStep 1 complete...\n",
      "\tStep 2 complete...\n",
      "\tStep 3 complete...\n",
      "\tStep 4 complete...\n",
      "\tStep 5 complete...\n"
     ]
    },
    {
     "name": "stderr",
     "output_type": "stream",
     "text": [
      "C:\\Users\\RjKim\\AppData\\Local\\Temp\\ipykernel_21156\\3556282856.py:33: DeprecationWarning: __array__ implementation doesn't accept a copy keyword, so passing copy=False failed. __array__ must implement 'dtype' and 'copy' keyword arguments. To learn more, see the migration guide https://numpy.org/devdocs/numpy_2_0_migration_guide.html#adapting-to-changes-in-the-copy-keyword\n",
      "  return np.array(predictions)\n"
     ]
    },
    {
     "name": "stdout",
     "output_type": "stream",
     "text": [
      "\tStep 6 complete...\n",
      "\tRun complete...\n",
      "\n",
      "Starting segment0 run 13...\n",
      "\tStep 1 complete...\n",
      "\tStep 2 complete...\n",
      "\tStep 3 complete...\n",
      "\tStep 4 complete...\n",
      "\tStep 5 complete...\n"
     ]
    },
    {
     "name": "stderr",
     "output_type": "stream",
     "text": [
      "C:\\Users\\RjKim\\AppData\\Local\\Temp\\ipykernel_21156\\3556282856.py:33: DeprecationWarning: __array__ implementation doesn't accept a copy keyword, so passing copy=False failed. __array__ must implement 'dtype' and 'copy' keyword arguments. To learn more, see the migration guide https://numpy.org/devdocs/numpy_2_0_migration_guide.html#adapting-to-changes-in-the-copy-keyword\n",
      "  return np.array(predictions)\n"
     ]
    },
    {
     "name": "stdout",
     "output_type": "stream",
     "text": [
      "\tStep 6 complete...\n",
      "\tRun complete...\n",
      "\n",
      "Starting segment0 run 14...\n",
      "\tStep 1 complete...\n",
      "\tStep 2 complete...\n",
      "\tStep 3 complete...\n",
      "\tStep 4 complete...\n",
      "\tStep 5 complete...\n"
     ]
    },
    {
     "name": "stderr",
     "output_type": "stream",
     "text": [
      "C:\\Users\\RjKim\\AppData\\Local\\Temp\\ipykernel_21156\\3556282856.py:33: DeprecationWarning: __array__ implementation doesn't accept a copy keyword, so passing copy=False failed. __array__ must implement 'dtype' and 'copy' keyword arguments. To learn more, see the migration guide https://numpy.org/devdocs/numpy_2_0_migration_guide.html#adapting-to-changes-in-the-copy-keyword\n",
      "  return np.array(predictions)\n"
     ]
    },
    {
     "name": "stdout",
     "output_type": "stream",
     "text": [
      "\tStep 6 complete...\n",
      "\tRun complete...\n",
      "\n",
      "Starting segment0 run 15...\n",
      "\tStep 1 complete...\n",
      "\tStep 2 complete...\n",
      "\tStep 3 complete...\n",
      "\tStep 4 complete...\n",
      "\tStep 5 complete...\n"
     ]
    },
    {
     "name": "stderr",
     "output_type": "stream",
     "text": [
      "C:\\Users\\RjKim\\AppData\\Local\\Temp\\ipykernel_21156\\3556282856.py:33: DeprecationWarning: __array__ implementation doesn't accept a copy keyword, so passing copy=False failed. __array__ must implement 'dtype' and 'copy' keyword arguments. To learn more, see the migration guide https://numpy.org/devdocs/numpy_2_0_migration_guide.html#adapting-to-changes-in-the-copy-keyword\n",
      "  return np.array(predictions)\n"
     ]
    },
    {
     "name": "stdout",
     "output_type": "stream",
     "text": [
      "\tStep 6 complete...\n",
      "\tRun complete...\n",
      "\n",
      "Starting segment0 run 16...\n",
      "\tStep 1 complete...\n",
      "\tStep 2 complete...\n",
      "\tStep 3 complete...\n",
      "\tStep 4 complete...\n",
      "\tStep 5 complete...\n"
     ]
    },
    {
     "name": "stderr",
     "output_type": "stream",
     "text": [
      "C:\\Users\\RjKim\\AppData\\Local\\Temp\\ipykernel_21156\\3556282856.py:33: DeprecationWarning: __array__ implementation doesn't accept a copy keyword, so passing copy=False failed. __array__ must implement 'dtype' and 'copy' keyword arguments. To learn more, see the migration guide https://numpy.org/devdocs/numpy_2_0_migration_guide.html#adapting-to-changes-in-the-copy-keyword\n",
      "  return np.array(predictions)\n"
     ]
    },
    {
     "name": "stdout",
     "output_type": "stream",
     "text": [
      "\tStep 6 complete...\n",
      "\tRun complete...\n",
      "\n",
      "Starting segment0 run 17...\n",
      "\tStep 1 complete...\n",
      "\tStep 2 complete...\n",
      "\tStep 3 complete...\n",
      "\tStep 4 complete...\n",
      "\tStep 5 complete...\n"
     ]
    },
    {
     "name": "stderr",
     "output_type": "stream",
     "text": [
      "C:\\Users\\RjKim\\AppData\\Local\\Temp\\ipykernel_21156\\3556282856.py:33: DeprecationWarning: __array__ implementation doesn't accept a copy keyword, so passing copy=False failed. __array__ must implement 'dtype' and 'copy' keyword arguments. To learn more, see the migration guide https://numpy.org/devdocs/numpy_2_0_migration_guide.html#adapting-to-changes-in-the-copy-keyword\n",
      "  return np.array(predictions)\n"
     ]
    },
    {
     "name": "stdout",
     "output_type": "stream",
     "text": [
      "\tStep 6 complete...\n",
      "\tRun complete...\n",
      "\n",
      "Starting segment0 run 18...\n",
      "\tStep 1 complete...\n",
      "\tStep 2 complete...\n",
      "\tStep 3 complete...\n",
      "\tStep 4 complete...\n",
      "\tStep 5 complete...\n"
     ]
    },
    {
     "name": "stderr",
     "output_type": "stream",
     "text": [
      "C:\\Users\\RjKim\\AppData\\Local\\Temp\\ipykernel_21156\\3556282856.py:33: DeprecationWarning: __array__ implementation doesn't accept a copy keyword, so passing copy=False failed. __array__ must implement 'dtype' and 'copy' keyword arguments. To learn more, see the migration guide https://numpy.org/devdocs/numpy_2_0_migration_guide.html#adapting-to-changes-in-the-copy-keyword\n",
      "  return np.array(predictions)\n"
     ]
    },
    {
     "name": "stdout",
     "output_type": "stream",
     "text": [
      "\tStep 6 complete...\n",
      "\tRun complete...\n",
      "\n",
      "Starting segment0 run 19...\n",
      "\tStep 1 complete...\n",
      "\tStep 2 complete...\n",
      "\tStep 3 complete...\n",
      "\tStep 4 complete...\n",
      "\tStep 5 complete...\n"
     ]
    },
    {
     "name": "stderr",
     "output_type": "stream",
     "text": [
      "C:\\Users\\RjKim\\AppData\\Local\\Temp\\ipykernel_21156\\3556282856.py:33: DeprecationWarning: __array__ implementation doesn't accept a copy keyword, so passing copy=False failed. __array__ must implement 'dtype' and 'copy' keyword arguments. To learn more, see the migration guide https://numpy.org/devdocs/numpy_2_0_migration_guide.html#adapting-to-changes-in-the-copy-keyword\n",
      "  return np.array(predictions)\n"
     ]
    },
    {
     "name": "stdout",
     "output_type": "stream",
     "text": [
      "\tStep 6 complete...\n",
      "\tRun complete...\n",
      "\n",
      "Starting segment0 run 20...\n",
      "\tStep 1 complete...\n",
      "\tStep 2 complete...\n",
      "\tStep 3 complete...\n",
      "\tStep 4 complete...\n",
      "\tStep 5 complete...\n"
     ]
    },
    {
     "name": "stderr",
     "output_type": "stream",
     "text": [
      "C:\\Users\\RjKim\\AppData\\Local\\Temp\\ipykernel_21156\\3556282856.py:33: DeprecationWarning: __array__ implementation doesn't accept a copy keyword, so passing copy=False failed. __array__ must implement 'dtype' and 'copy' keyword arguments. To learn more, see the migration guide https://numpy.org/devdocs/numpy_2_0_migration_guide.html#adapting-to-changes-in-the-copy-keyword\n",
      "  return np.array(predictions)\n"
     ]
    },
    {
     "name": "stdout",
     "output_type": "stream",
     "text": [
      "\tStep 6 complete...\n",
      "\tRun complete...\n",
      "\n",
      "Starting segment0 run 21...\n",
      "\tStep 1 complete...\n",
      "\tStep 2 complete...\n",
      "\tStep 3 complete...\n",
      "\tStep 4 complete...\n",
      "\tStep 5 complete...\n"
     ]
    },
    {
     "name": "stderr",
     "output_type": "stream",
     "text": [
      "C:\\Users\\RjKim\\AppData\\Local\\Temp\\ipykernel_21156\\3556282856.py:33: DeprecationWarning: __array__ implementation doesn't accept a copy keyword, so passing copy=False failed. __array__ must implement 'dtype' and 'copy' keyword arguments. To learn more, see the migration guide https://numpy.org/devdocs/numpy_2_0_migration_guide.html#adapting-to-changes-in-the-copy-keyword\n",
      "  return np.array(predictions)\n"
     ]
    },
    {
     "name": "stdout",
     "output_type": "stream",
     "text": [
      "\tStep 6 complete...\n",
      "\tRun complete...\n",
      "\n",
      "Starting segment0 run 22...\n",
      "\tStep 1 complete...\n",
      "\tStep 2 complete...\n",
      "\tStep 3 complete...\n",
      "\tStep 4 complete...\n",
      "\tStep 5 complete...\n"
     ]
    },
    {
     "name": "stderr",
     "output_type": "stream",
     "text": [
      "C:\\Users\\RjKim\\AppData\\Local\\Temp\\ipykernel_21156\\3556282856.py:33: DeprecationWarning: __array__ implementation doesn't accept a copy keyword, so passing copy=False failed. __array__ must implement 'dtype' and 'copy' keyword arguments. To learn more, see the migration guide https://numpy.org/devdocs/numpy_2_0_migration_guide.html#adapting-to-changes-in-the-copy-keyword\n",
      "  return np.array(predictions)\n"
     ]
    },
    {
     "name": "stdout",
     "output_type": "stream",
     "text": [
      "\tStep 6 complete...\n",
      "\tRun complete...\n",
      "\n",
      "Starting segment0 run 23...\n",
      "\tStep 1 complete...\n",
      "\tStep 2 complete...\n",
      "\tStep 3 complete...\n",
      "\tStep 4 complete...\n",
      "\tStep 5 complete...\n"
     ]
    },
    {
     "name": "stderr",
     "output_type": "stream",
     "text": [
      "C:\\Users\\RjKim\\AppData\\Local\\Temp\\ipykernel_21156\\3556282856.py:33: DeprecationWarning: __array__ implementation doesn't accept a copy keyword, so passing copy=False failed. __array__ must implement 'dtype' and 'copy' keyword arguments. To learn more, see the migration guide https://numpy.org/devdocs/numpy_2_0_migration_guide.html#adapting-to-changes-in-the-copy-keyword\n",
      "  return np.array(predictions)\n"
     ]
    },
    {
     "name": "stdout",
     "output_type": "stream",
     "text": [
      "\tStep 6 complete...\n",
      "\tRun complete...\n",
      "\n",
      "Starting segment0 run 24...\n",
      "\tStep 1 complete...\n",
      "\tStep 2 complete...\n",
      "\tStep 3 complete...\n",
      "\tStep 4 complete...\n",
      "\tStep 5 complete...\n"
     ]
    },
    {
     "name": "stderr",
     "output_type": "stream",
     "text": [
      "C:\\Users\\RjKim\\AppData\\Local\\Temp\\ipykernel_21156\\3556282856.py:33: DeprecationWarning: __array__ implementation doesn't accept a copy keyword, so passing copy=False failed. __array__ must implement 'dtype' and 'copy' keyword arguments. To learn more, see the migration guide https://numpy.org/devdocs/numpy_2_0_migration_guide.html#adapting-to-changes-in-the-copy-keyword\n",
      "  return np.array(predictions)\n"
     ]
    },
    {
     "name": "stdout",
     "output_type": "stream",
     "text": [
      "\tStep 6 complete...\n",
      "\tRun complete...\n",
      "\n",
      "Starting segment0 run 25...\n",
      "\tStep 1 complete...\n",
      "\tStep 2 complete...\n",
      "\tStep 3 complete...\n",
      "\tStep 4 complete...\n",
      "\tStep 5 complete...\n"
     ]
    },
    {
     "name": "stderr",
     "output_type": "stream",
     "text": [
      "C:\\Users\\RjKim\\AppData\\Local\\Temp\\ipykernel_21156\\3556282856.py:33: DeprecationWarning: __array__ implementation doesn't accept a copy keyword, so passing copy=False failed. __array__ must implement 'dtype' and 'copy' keyword arguments. To learn more, see the migration guide https://numpy.org/devdocs/numpy_2_0_migration_guide.html#adapting-to-changes-in-the-copy-keyword\n",
      "  return np.array(predictions)\n"
     ]
    },
    {
     "name": "stdout",
     "output_type": "stream",
     "text": [
      "\tStep 6 complete...\n",
      "\tRun complete...\n",
      "\n",
      "Starting segment0 run 26...\n",
      "\tStep 1 complete...\n",
      "\tStep 2 complete...\n",
      "\tStep 3 complete...\n",
      "\tStep 4 complete...\n",
      "\tStep 5 complete...\n"
     ]
    },
    {
     "name": "stderr",
     "output_type": "stream",
     "text": [
      "C:\\Users\\RjKim\\AppData\\Local\\Temp\\ipykernel_21156\\3556282856.py:33: DeprecationWarning: __array__ implementation doesn't accept a copy keyword, so passing copy=False failed. __array__ must implement 'dtype' and 'copy' keyword arguments. To learn more, see the migration guide https://numpy.org/devdocs/numpy_2_0_migration_guide.html#adapting-to-changes-in-the-copy-keyword\n",
      "  return np.array(predictions)\n"
     ]
    },
    {
     "name": "stdout",
     "output_type": "stream",
     "text": [
      "\tStep 6 complete...\n",
      "\tRun complete...\n",
      "\n",
      "Starting segment0 run 27...\n",
      "\tStep 1 complete...\n",
      "\tStep 2 complete...\n",
      "\tStep 3 complete...\n",
      "\tStep 4 complete...\n",
      "\tStep 5 complete...\n"
     ]
    },
    {
     "name": "stderr",
     "output_type": "stream",
     "text": [
      "C:\\Users\\RjKim\\AppData\\Local\\Temp\\ipykernel_21156\\3556282856.py:33: DeprecationWarning: __array__ implementation doesn't accept a copy keyword, so passing copy=False failed. __array__ must implement 'dtype' and 'copy' keyword arguments. To learn more, see the migration guide https://numpy.org/devdocs/numpy_2_0_migration_guide.html#adapting-to-changes-in-the-copy-keyword\n",
      "  return np.array(predictions)\n"
     ]
    },
    {
     "name": "stdout",
     "output_type": "stream",
     "text": [
      "\tStep 6 complete...\n",
      "\tRun complete...\n",
      "\n",
      "Starting segment0 run 28...\n",
      "\tStep 1 complete...\n",
      "\tStep 2 complete...\n",
      "\tStep 3 complete...\n",
      "\tStep 4 complete...\n",
      "\tStep 5 complete...\n"
     ]
    },
    {
     "name": "stderr",
     "output_type": "stream",
     "text": [
      "C:\\Users\\RjKim\\AppData\\Local\\Temp\\ipykernel_21156\\3556282856.py:33: DeprecationWarning: __array__ implementation doesn't accept a copy keyword, so passing copy=False failed. __array__ must implement 'dtype' and 'copy' keyword arguments. To learn more, see the migration guide https://numpy.org/devdocs/numpy_2_0_migration_guide.html#adapting-to-changes-in-the-copy-keyword\n",
      "  return np.array(predictions)\n"
     ]
    },
    {
     "name": "stdout",
     "output_type": "stream",
     "text": [
      "\tStep 6 complete...\n",
      "\tRun complete...\n",
      "\n",
      "Starting segment0 run 29...\n",
      "\tStep 1 complete...\n",
      "\tStep 2 complete...\n",
      "\tStep 3 complete...\n",
      "\tStep 4 complete...\n",
      "\tStep 5 complete...\n"
     ]
    },
    {
     "name": "stderr",
     "output_type": "stream",
     "text": [
      "C:\\Users\\RjKim\\AppData\\Local\\Temp\\ipykernel_21156\\3556282856.py:33: DeprecationWarning: __array__ implementation doesn't accept a copy keyword, so passing copy=False failed. __array__ must implement 'dtype' and 'copy' keyword arguments. To learn more, see the migration guide https://numpy.org/devdocs/numpy_2_0_migration_guide.html#adapting-to-changes-in-the-copy-keyword\n",
      "  return np.array(predictions)\n"
     ]
    },
    {
     "name": "stdout",
     "output_type": "stream",
     "text": [
      "\tStep 6 complete...\n",
      "\tRun complete...\n",
      "\n",
      "Starting segment0 run 30...\n",
      "\tStep 1 complete...\n",
      "\tStep 2 complete...\n",
      "\tStep 3 complete...\n",
      "\tStep 4 complete...\n",
      "\tStep 5 complete...\n"
     ]
    },
    {
     "name": "stderr",
     "output_type": "stream",
     "text": [
      "C:\\Users\\RjKim\\AppData\\Local\\Temp\\ipykernel_21156\\3556282856.py:33: DeprecationWarning: __array__ implementation doesn't accept a copy keyword, so passing copy=False failed. __array__ must implement 'dtype' and 'copy' keyword arguments. To learn more, see the migration guide https://numpy.org/devdocs/numpy_2_0_migration_guide.html#adapting-to-changes-in-the-copy-keyword\n",
      "  return np.array(predictions)\n"
     ]
    },
    {
     "name": "stdout",
     "output_type": "stream",
     "text": [
      "\tStep 6 complete...\n",
      "\tRun complete...\n",
      "\n",
      "Starting sonar run 0...\n",
      "\tStep 1 complete...\n",
      "\tStep 2 complete...\n",
      "\tStep 3 complete...\n",
      "\tStep 4 complete...\n",
      "\tStep 5 complete...\n"
     ]
    },
    {
     "name": "stderr",
     "output_type": "stream",
     "text": [
      "C:\\Users\\RjKim\\AppData\\Local\\Temp\\ipykernel_21156\\3556282856.py:33: DeprecationWarning: __array__ implementation doesn't accept a copy keyword, so passing copy=False failed. __array__ must implement 'dtype' and 'copy' keyword arguments. To learn more, see the migration guide https://numpy.org/devdocs/numpy_2_0_migration_guide.html#adapting-to-changes-in-the-copy-keyword\n",
      "  return np.array(predictions)\n"
     ]
    },
    {
     "name": "stdout",
     "output_type": "stream",
     "text": [
      "\tStep 6 complete...\n",
      "\tRun complete...\n",
      "\n",
      "Starting sonar run 1...\n",
      "\tStep 1 complete...\n",
      "\tStep 2 complete...\n",
      "\tStep 3 complete...\n",
      "\tStep 4 complete...\n",
      "\tStep 5 complete...\n"
     ]
    },
    {
     "name": "stderr",
     "output_type": "stream",
     "text": [
      "C:\\Users\\RjKim\\AppData\\Local\\Temp\\ipykernel_21156\\3556282856.py:33: DeprecationWarning: __array__ implementation doesn't accept a copy keyword, so passing copy=False failed. __array__ must implement 'dtype' and 'copy' keyword arguments. To learn more, see the migration guide https://numpy.org/devdocs/numpy_2_0_migration_guide.html#adapting-to-changes-in-the-copy-keyword\n",
      "  return np.array(predictions)\n"
     ]
    },
    {
     "name": "stdout",
     "output_type": "stream",
     "text": [
      "\tStep 6 complete...\n",
      "\tRun complete...\n",
      "\n",
      "Starting sonar run 2...\n",
      "\tStep 1 complete...\n",
      "\tStep 2 complete...\n",
      "\tStep 3 complete...\n",
      "\tStep 4 complete...\n",
      "\tStep 5 complete...\n"
     ]
    },
    {
     "name": "stderr",
     "output_type": "stream",
     "text": [
      "C:\\Users\\RjKim\\AppData\\Local\\Temp\\ipykernel_21156\\3556282856.py:33: DeprecationWarning: __array__ implementation doesn't accept a copy keyword, so passing copy=False failed. __array__ must implement 'dtype' and 'copy' keyword arguments. To learn more, see the migration guide https://numpy.org/devdocs/numpy_2_0_migration_guide.html#adapting-to-changes-in-the-copy-keyword\n",
      "  return np.array(predictions)\n"
     ]
    },
    {
     "name": "stdout",
     "output_type": "stream",
     "text": [
      "\tStep 6 complete...\n",
      "\tRun complete...\n",
      "\n",
      "Starting sonar run 3...\n",
      "\tStep 1 complete...\n",
      "\tStep 2 complete...\n",
      "\tStep 3 complete...\n",
      "\tStep 4 complete...\n",
      "\tStep 5 complete...\n"
     ]
    },
    {
     "name": "stderr",
     "output_type": "stream",
     "text": [
      "C:\\Users\\RjKim\\AppData\\Local\\Temp\\ipykernel_21156\\3556282856.py:33: DeprecationWarning: __array__ implementation doesn't accept a copy keyword, so passing copy=False failed. __array__ must implement 'dtype' and 'copy' keyword arguments. To learn more, see the migration guide https://numpy.org/devdocs/numpy_2_0_migration_guide.html#adapting-to-changes-in-the-copy-keyword\n",
      "  return np.array(predictions)\n"
     ]
    },
    {
     "name": "stdout",
     "output_type": "stream",
     "text": [
      "\tStep 6 complete...\n",
      "\tRun complete...\n",
      "\n",
      "Starting sonar run 4...\n",
      "\tStep 1 complete...\n",
      "\tStep 2 complete...\n",
      "\tStep 3 complete...\n",
      "\tStep 4 complete...\n",
      "\tStep 5 complete...\n"
     ]
    },
    {
     "name": "stderr",
     "output_type": "stream",
     "text": [
      "C:\\Users\\RjKim\\AppData\\Local\\Temp\\ipykernel_21156\\3556282856.py:33: DeprecationWarning: __array__ implementation doesn't accept a copy keyword, so passing copy=False failed. __array__ must implement 'dtype' and 'copy' keyword arguments. To learn more, see the migration guide https://numpy.org/devdocs/numpy_2_0_migration_guide.html#adapting-to-changes-in-the-copy-keyword\n",
      "  return np.array(predictions)\n"
     ]
    },
    {
     "name": "stdout",
     "output_type": "stream",
     "text": [
      "\tStep 6 complete...\n",
      "\tRun complete...\n",
      "\n",
      "Starting sonar run 5...\n",
      "\tStep 1 complete...\n",
      "\tStep 2 complete...\n",
      "\tStep 3 complete...\n",
      "\tStep 4 complete...\n",
      "\tStep 5 complete...\n"
     ]
    },
    {
     "name": "stderr",
     "output_type": "stream",
     "text": [
      "C:\\Users\\RjKim\\AppData\\Local\\Temp\\ipykernel_21156\\3556282856.py:33: DeprecationWarning: __array__ implementation doesn't accept a copy keyword, so passing copy=False failed. __array__ must implement 'dtype' and 'copy' keyword arguments. To learn more, see the migration guide https://numpy.org/devdocs/numpy_2_0_migration_guide.html#adapting-to-changes-in-the-copy-keyword\n",
      "  return np.array(predictions)\n"
     ]
    },
    {
     "name": "stdout",
     "output_type": "stream",
     "text": [
      "\tStep 6 complete...\n",
      "\tRun complete...\n",
      "\n",
      "Starting sonar run 6...\n",
      "\tStep 1 complete...\n",
      "\tStep 2 complete...\n",
      "\tStep 3 complete...\n",
      "\tStep 4 complete...\n",
      "\tStep 5 complete...\n"
     ]
    },
    {
     "name": "stderr",
     "output_type": "stream",
     "text": [
      "C:\\Users\\RjKim\\AppData\\Local\\Temp\\ipykernel_21156\\3556282856.py:33: DeprecationWarning: __array__ implementation doesn't accept a copy keyword, so passing copy=False failed. __array__ must implement 'dtype' and 'copy' keyword arguments. To learn more, see the migration guide https://numpy.org/devdocs/numpy_2_0_migration_guide.html#adapting-to-changes-in-the-copy-keyword\n",
      "  return np.array(predictions)\n"
     ]
    },
    {
     "name": "stdout",
     "output_type": "stream",
     "text": [
      "\tStep 6 complete...\n",
      "\tRun complete...\n",
      "\n",
      "Starting sonar run 7...\n",
      "\tStep 1 complete...\n",
      "\tStep 2 complete...\n",
      "\tStep 3 complete...\n",
      "\tStep 4 complete...\n",
      "\tStep 5 complete...\n"
     ]
    },
    {
     "name": "stderr",
     "output_type": "stream",
     "text": [
      "C:\\Users\\RjKim\\AppData\\Local\\Temp\\ipykernel_21156\\3556282856.py:33: DeprecationWarning: __array__ implementation doesn't accept a copy keyword, so passing copy=False failed. __array__ must implement 'dtype' and 'copy' keyword arguments. To learn more, see the migration guide https://numpy.org/devdocs/numpy_2_0_migration_guide.html#adapting-to-changes-in-the-copy-keyword\n",
      "  return np.array(predictions)\n"
     ]
    },
    {
     "name": "stdout",
     "output_type": "stream",
     "text": [
      "\tStep 6 complete...\n",
      "\tRun complete...\n",
      "\n",
      "Starting sonar run 8...\n",
      "\tStep 1 complete...\n",
      "\tStep 2 complete...\n",
      "\tStep 3 complete...\n",
      "\tStep 4 complete...\n",
      "\tStep 5 complete...\n"
     ]
    },
    {
     "name": "stderr",
     "output_type": "stream",
     "text": [
      "C:\\Users\\RjKim\\AppData\\Local\\Temp\\ipykernel_21156\\3556282856.py:33: DeprecationWarning: __array__ implementation doesn't accept a copy keyword, so passing copy=False failed. __array__ must implement 'dtype' and 'copy' keyword arguments. To learn more, see the migration guide https://numpy.org/devdocs/numpy_2_0_migration_guide.html#adapting-to-changes-in-the-copy-keyword\n",
      "  return np.array(predictions)\n"
     ]
    },
    {
     "name": "stdout",
     "output_type": "stream",
     "text": [
      "\tStep 6 complete...\n",
      "\tRun complete...\n",
      "\n",
      "Starting sonar run 9...\n",
      "\tStep 1 complete...\n",
      "\tStep 2 complete...\n",
      "\tStep 3 complete...\n",
      "\tStep 4 complete...\n",
      "\tStep 5 complete...\n"
     ]
    },
    {
     "name": "stderr",
     "output_type": "stream",
     "text": [
      "C:\\Users\\RjKim\\AppData\\Local\\Temp\\ipykernel_21156\\3556282856.py:33: DeprecationWarning: __array__ implementation doesn't accept a copy keyword, so passing copy=False failed. __array__ must implement 'dtype' and 'copy' keyword arguments. To learn more, see the migration guide https://numpy.org/devdocs/numpy_2_0_migration_guide.html#adapting-to-changes-in-the-copy-keyword\n",
      "  return np.array(predictions)\n"
     ]
    },
    {
     "name": "stdout",
     "output_type": "stream",
     "text": [
      "\tStep 6 complete...\n",
      "\tRun complete...\n",
      "\n",
      "Starting sonar run 10...\n",
      "\tStep 1 complete...\n",
      "\tStep 2 complete...\n",
      "\tStep 3 complete...\n",
      "\tStep 4 complete...\n",
      "\tStep 5 complete...\n"
     ]
    },
    {
     "name": "stderr",
     "output_type": "stream",
     "text": [
      "C:\\Users\\RjKim\\AppData\\Local\\Temp\\ipykernel_21156\\3556282856.py:33: DeprecationWarning: __array__ implementation doesn't accept a copy keyword, so passing copy=False failed. __array__ must implement 'dtype' and 'copy' keyword arguments. To learn more, see the migration guide https://numpy.org/devdocs/numpy_2_0_migration_guide.html#adapting-to-changes-in-the-copy-keyword\n",
      "  return np.array(predictions)\n"
     ]
    },
    {
     "name": "stdout",
     "output_type": "stream",
     "text": [
      "\tStep 6 complete...\n",
      "\tRun complete...\n",
      "\n",
      "Starting sonar run 11...\n",
      "\tStep 1 complete...\n",
      "\tStep 2 complete...\n",
      "\tStep 3 complete...\n",
      "\tStep 4 complete...\n",
      "\tStep 5 complete...\n"
     ]
    },
    {
     "name": "stderr",
     "output_type": "stream",
     "text": [
      "C:\\Users\\RjKim\\AppData\\Local\\Temp\\ipykernel_21156\\3556282856.py:33: DeprecationWarning: __array__ implementation doesn't accept a copy keyword, so passing copy=False failed. __array__ must implement 'dtype' and 'copy' keyword arguments. To learn more, see the migration guide https://numpy.org/devdocs/numpy_2_0_migration_guide.html#adapting-to-changes-in-the-copy-keyword\n",
      "  return np.array(predictions)\n"
     ]
    },
    {
     "name": "stdout",
     "output_type": "stream",
     "text": [
      "\tStep 6 complete...\n",
      "\tRun complete...\n",
      "\n",
      "Starting sonar run 12...\n",
      "\tStep 1 complete...\n",
      "\tStep 2 complete...\n",
      "\tStep 3 complete...\n",
      "\tStep 4 complete...\n",
      "\tStep 5 complete...\n"
     ]
    },
    {
     "name": "stderr",
     "output_type": "stream",
     "text": [
      "C:\\Users\\RjKim\\AppData\\Local\\Temp\\ipykernel_21156\\3556282856.py:33: DeprecationWarning: __array__ implementation doesn't accept a copy keyword, so passing copy=False failed. __array__ must implement 'dtype' and 'copy' keyword arguments. To learn more, see the migration guide https://numpy.org/devdocs/numpy_2_0_migration_guide.html#adapting-to-changes-in-the-copy-keyword\n",
      "  return np.array(predictions)\n"
     ]
    },
    {
     "name": "stdout",
     "output_type": "stream",
     "text": [
      "\tStep 6 complete...\n",
      "\tRun complete...\n",
      "\n",
      "Starting sonar run 13...\n",
      "\tStep 1 complete...\n",
      "\tStep 2 complete...\n",
      "\tStep 3 complete...\n",
      "\tStep 4 complete...\n",
      "\tStep 5 complete...\n"
     ]
    },
    {
     "name": "stderr",
     "output_type": "stream",
     "text": [
      "C:\\Users\\RjKim\\AppData\\Local\\Temp\\ipykernel_21156\\3556282856.py:33: DeprecationWarning: __array__ implementation doesn't accept a copy keyword, so passing copy=False failed. __array__ must implement 'dtype' and 'copy' keyword arguments. To learn more, see the migration guide https://numpy.org/devdocs/numpy_2_0_migration_guide.html#adapting-to-changes-in-the-copy-keyword\n",
      "  return np.array(predictions)\n"
     ]
    },
    {
     "name": "stdout",
     "output_type": "stream",
     "text": [
      "\tStep 6 complete...\n",
      "\tRun complete...\n",
      "\n",
      "Starting sonar run 14...\n",
      "\tStep 1 complete...\n",
      "\tStep 2 complete...\n",
      "\tStep 3 complete...\n",
      "\tStep 4 complete...\n",
      "\tStep 5 complete...\n"
     ]
    },
    {
     "name": "stderr",
     "output_type": "stream",
     "text": [
      "C:\\Users\\RjKim\\AppData\\Local\\Temp\\ipykernel_21156\\3556282856.py:33: DeprecationWarning: __array__ implementation doesn't accept a copy keyword, so passing copy=False failed. __array__ must implement 'dtype' and 'copy' keyword arguments. To learn more, see the migration guide https://numpy.org/devdocs/numpy_2_0_migration_guide.html#adapting-to-changes-in-the-copy-keyword\n",
      "  return np.array(predictions)\n"
     ]
    },
    {
     "name": "stdout",
     "output_type": "stream",
     "text": [
      "\tStep 6 complete...\n",
      "\tRun complete...\n",
      "\n",
      "Starting sonar run 15...\n",
      "\tStep 1 complete...\n",
      "\tStep 2 complete...\n",
      "\tStep 3 complete...\n",
      "\tStep 4 complete...\n",
      "\tStep 5 complete...\n"
     ]
    },
    {
     "name": "stderr",
     "output_type": "stream",
     "text": [
      "C:\\Users\\RjKim\\AppData\\Local\\Temp\\ipykernel_21156\\3556282856.py:33: DeprecationWarning: __array__ implementation doesn't accept a copy keyword, so passing copy=False failed. __array__ must implement 'dtype' and 'copy' keyword arguments. To learn more, see the migration guide https://numpy.org/devdocs/numpy_2_0_migration_guide.html#adapting-to-changes-in-the-copy-keyword\n",
      "  return np.array(predictions)\n"
     ]
    },
    {
     "name": "stdout",
     "output_type": "stream",
     "text": [
      "\tStep 6 complete...\n",
      "\tRun complete...\n",
      "\n",
      "Starting sonar run 16...\n",
      "\tStep 1 complete...\n",
      "\tStep 2 complete...\n",
      "\tStep 3 complete...\n",
      "\tStep 4 complete...\n",
      "\tStep 5 complete...\n"
     ]
    },
    {
     "name": "stderr",
     "output_type": "stream",
     "text": [
      "C:\\Users\\RjKim\\AppData\\Local\\Temp\\ipykernel_21156\\3556282856.py:33: DeprecationWarning: __array__ implementation doesn't accept a copy keyword, so passing copy=False failed. __array__ must implement 'dtype' and 'copy' keyword arguments. To learn more, see the migration guide https://numpy.org/devdocs/numpy_2_0_migration_guide.html#adapting-to-changes-in-the-copy-keyword\n",
      "  return np.array(predictions)\n"
     ]
    },
    {
     "name": "stdout",
     "output_type": "stream",
     "text": [
      "\tStep 6 complete...\n",
      "\tRun complete...\n",
      "\n",
      "Starting sonar run 17...\n",
      "\tStep 1 complete...\n",
      "\tStep 2 complete...\n",
      "\tStep 3 complete...\n",
      "\tStep 4 complete...\n",
      "\tStep 5 complete...\n"
     ]
    },
    {
     "name": "stderr",
     "output_type": "stream",
     "text": [
      "C:\\Users\\RjKim\\AppData\\Local\\Temp\\ipykernel_21156\\3556282856.py:33: DeprecationWarning: __array__ implementation doesn't accept a copy keyword, so passing copy=False failed. __array__ must implement 'dtype' and 'copy' keyword arguments. To learn more, see the migration guide https://numpy.org/devdocs/numpy_2_0_migration_guide.html#adapting-to-changes-in-the-copy-keyword\n",
      "  return np.array(predictions)\n"
     ]
    },
    {
     "name": "stdout",
     "output_type": "stream",
     "text": [
      "\tStep 6 complete...\n",
      "\tRun complete...\n",
      "\n",
      "Starting sonar run 18...\n",
      "\tStep 1 complete...\n",
      "\tStep 2 complete...\n",
      "\tStep 3 complete...\n",
      "\tStep 4 complete...\n",
      "\tStep 5 complete...\n"
     ]
    },
    {
     "name": "stderr",
     "output_type": "stream",
     "text": [
      "C:\\Users\\RjKim\\AppData\\Local\\Temp\\ipykernel_21156\\3556282856.py:33: DeprecationWarning: __array__ implementation doesn't accept a copy keyword, so passing copy=False failed. __array__ must implement 'dtype' and 'copy' keyword arguments. To learn more, see the migration guide https://numpy.org/devdocs/numpy_2_0_migration_guide.html#adapting-to-changes-in-the-copy-keyword\n",
      "  return np.array(predictions)\n"
     ]
    },
    {
     "name": "stdout",
     "output_type": "stream",
     "text": [
      "\tStep 6 complete...\n",
      "\tRun complete...\n",
      "\n",
      "Starting sonar run 19...\n",
      "\tStep 1 complete...\n",
      "\tStep 2 complete...\n",
      "\tStep 3 complete...\n",
      "\tStep 4 complete...\n",
      "\tStep 5 complete...\n"
     ]
    },
    {
     "name": "stderr",
     "output_type": "stream",
     "text": [
      "C:\\Users\\RjKim\\AppData\\Local\\Temp\\ipykernel_21156\\3556282856.py:33: DeprecationWarning: __array__ implementation doesn't accept a copy keyword, so passing copy=False failed. __array__ must implement 'dtype' and 'copy' keyword arguments. To learn more, see the migration guide https://numpy.org/devdocs/numpy_2_0_migration_guide.html#adapting-to-changes-in-the-copy-keyword\n",
      "  return np.array(predictions)\n"
     ]
    },
    {
     "name": "stdout",
     "output_type": "stream",
     "text": [
      "\tStep 6 complete...\n",
      "\tRun complete...\n",
      "\n",
      "Starting sonar run 20...\n",
      "\tStep 1 complete...\n",
      "\tStep 2 complete...\n",
      "\tStep 3 complete...\n",
      "\tStep 4 complete...\n",
      "\tStep 5 complete...\n"
     ]
    },
    {
     "name": "stderr",
     "output_type": "stream",
     "text": [
      "C:\\Users\\RjKim\\AppData\\Local\\Temp\\ipykernel_21156\\3556282856.py:33: DeprecationWarning: __array__ implementation doesn't accept a copy keyword, so passing copy=False failed. __array__ must implement 'dtype' and 'copy' keyword arguments. To learn more, see the migration guide https://numpy.org/devdocs/numpy_2_0_migration_guide.html#adapting-to-changes-in-the-copy-keyword\n",
      "  return np.array(predictions)\n"
     ]
    },
    {
     "name": "stdout",
     "output_type": "stream",
     "text": [
      "\tStep 6 complete...\n",
      "\tRun complete...\n",
      "\n",
      "Starting sonar run 21...\n",
      "\tStep 1 complete...\n",
      "\tStep 2 complete...\n",
      "\tStep 3 complete...\n",
      "\tStep 4 complete...\n",
      "\tStep 5 complete...\n"
     ]
    },
    {
     "name": "stderr",
     "output_type": "stream",
     "text": [
      "C:\\Users\\RjKim\\AppData\\Local\\Temp\\ipykernel_21156\\3556282856.py:33: DeprecationWarning: __array__ implementation doesn't accept a copy keyword, so passing copy=False failed. __array__ must implement 'dtype' and 'copy' keyword arguments. To learn more, see the migration guide https://numpy.org/devdocs/numpy_2_0_migration_guide.html#adapting-to-changes-in-the-copy-keyword\n",
      "  return np.array(predictions)\n"
     ]
    },
    {
     "name": "stdout",
     "output_type": "stream",
     "text": [
      "\tStep 6 complete...\n",
      "\tRun complete...\n",
      "\n",
      "Starting sonar run 22...\n",
      "\tStep 1 complete...\n",
      "\tStep 2 complete...\n",
      "\tStep 3 complete...\n",
      "\tStep 4 complete...\n",
      "\tStep 5 complete...\n"
     ]
    },
    {
     "name": "stderr",
     "output_type": "stream",
     "text": [
      "C:\\Users\\RjKim\\AppData\\Local\\Temp\\ipykernel_21156\\3556282856.py:33: DeprecationWarning: __array__ implementation doesn't accept a copy keyword, so passing copy=False failed. __array__ must implement 'dtype' and 'copy' keyword arguments. To learn more, see the migration guide https://numpy.org/devdocs/numpy_2_0_migration_guide.html#adapting-to-changes-in-the-copy-keyword\n",
      "  return np.array(predictions)\n"
     ]
    },
    {
     "name": "stdout",
     "output_type": "stream",
     "text": [
      "\tStep 6 complete...\n",
      "\tRun complete...\n",
      "\n",
      "Starting sonar run 23...\n",
      "\tStep 1 complete...\n",
      "\tStep 2 complete...\n",
      "\tStep 3 complete...\n",
      "\tStep 4 complete...\n",
      "\tStep 5 complete...\n"
     ]
    },
    {
     "name": "stderr",
     "output_type": "stream",
     "text": [
      "C:\\Users\\RjKim\\AppData\\Local\\Temp\\ipykernel_21156\\3556282856.py:33: DeprecationWarning: __array__ implementation doesn't accept a copy keyword, so passing copy=False failed. __array__ must implement 'dtype' and 'copy' keyword arguments. To learn more, see the migration guide https://numpy.org/devdocs/numpy_2_0_migration_guide.html#adapting-to-changes-in-the-copy-keyword\n",
      "  return np.array(predictions)\n"
     ]
    },
    {
     "name": "stdout",
     "output_type": "stream",
     "text": [
      "\tStep 6 complete...\n",
      "\tRun complete...\n",
      "\n",
      "Starting sonar run 24...\n",
      "\tStep 1 complete...\n",
      "\tStep 2 complete...\n",
      "\tStep 3 complete...\n",
      "\tStep 4 complete...\n",
      "\tStep 5 complete...\n"
     ]
    },
    {
     "name": "stderr",
     "output_type": "stream",
     "text": [
      "C:\\Users\\RjKim\\AppData\\Local\\Temp\\ipykernel_21156\\3556282856.py:33: DeprecationWarning: __array__ implementation doesn't accept a copy keyword, so passing copy=False failed. __array__ must implement 'dtype' and 'copy' keyword arguments. To learn more, see the migration guide https://numpy.org/devdocs/numpy_2_0_migration_guide.html#adapting-to-changes-in-the-copy-keyword\n",
      "  return np.array(predictions)\n"
     ]
    },
    {
     "name": "stdout",
     "output_type": "stream",
     "text": [
      "\tStep 6 complete...\n",
      "\tRun complete...\n",
      "\n",
      "Starting sonar run 25...\n",
      "\tStep 1 complete...\n",
      "\tStep 2 complete...\n",
      "\tStep 3 complete...\n",
      "\tStep 4 complete...\n",
      "\tStep 5 complete...\n"
     ]
    },
    {
     "name": "stderr",
     "output_type": "stream",
     "text": [
      "C:\\Users\\RjKim\\AppData\\Local\\Temp\\ipykernel_21156\\3556282856.py:33: DeprecationWarning: __array__ implementation doesn't accept a copy keyword, so passing copy=False failed. __array__ must implement 'dtype' and 'copy' keyword arguments. To learn more, see the migration guide https://numpy.org/devdocs/numpy_2_0_migration_guide.html#adapting-to-changes-in-the-copy-keyword\n",
      "  return np.array(predictions)\n"
     ]
    },
    {
     "name": "stdout",
     "output_type": "stream",
     "text": [
      "\tStep 6 complete...\n",
      "\tRun complete...\n",
      "\n",
      "Starting sonar run 26...\n",
      "\tStep 1 complete...\n",
      "\tStep 2 complete...\n",
      "\tStep 3 complete...\n",
      "\tStep 4 complete...\n",
      "\tStep 5 complete...\n"
     ]
    },
    {
     "name": "stderr",
     "output_type": "stream",
     "text": [
      "C:\\Users\\RjKim\\AppData\\Local\\Temp\\ipykernel_21156\\3556282856.py:33: DeprecationWarning: __array__ implementation doesn't accept a copy keyword, so passing copy=False failed. __array__ must implement 'dtype' and 'copy' keyword arguments. To learn more, see the migration guide https://numpy.org/devdocs/numpy_2_0_migration_guide.html#adapting-to-changes-in-the-copy-keyword\n",
      "  return np.array(predictions)\n"
     ]
    },
    {
     "name": "stdout",
     "output_type": "stream",
     "text": [
      "\tStep 6 complete...\n",
      "\tRun complete...\n",
      "\n",
      "Starting sonar run 27...\n",
      "\tStep 1 complete...\n",
      "\tStep 2 complete...\n",
      "\tStep 3 complete...\n",
      "\tStep 4 complete...\n",
      "\tStep 5 complete...\n"
     ]
    },
    {
     "name": "stderr",
     "output_type": "stream",
     "text": [
      "C:\\Users\\RjKim\\AppData\\Local\\Temp\\ipykernel_21156\\3556282856.py:33: DeprecationWarning: __array__ implementation doesn't accept a copy keyword, so passing copy=False failed. __array__ must implement 'dtype' and 'copy' keyword arguments. To learn more, see the migration guide https://numpy.org/devdocs/numpy_2_0_migration_guide.html#adapting-to-changes-in-the-copy-keyword\n",
      "  return np.array(predictions)\n"
     ]
    },
    {
     "name": "stdout",
     "output_type": "stream",
     "text": [
      "\tStep 6 complete...\n",
      "\tRun complete...\n",
      "\n",
      "Starting sonar run 28...\n",
      "\tStep 1 complete...\n",
      "\tStep 2 complete...\n",
      "\tStep 3 complete...\n",
      "\tStep 4 complete...\n",
      "\tStep 5 complete...\n"
     ]
    },
    {
     "name": "stderr",
     "output_type": "stream",
     "text": [
      "C:\\Users\\RjKim\\AppData\\Local\\Temp\\ipykernel_21156\\3556282856.py:33: DeprecationWarning: __array__ implementation doesn't accept a copy keyword, so passing copy=False failed. __array__ must implement 'dtype' and 'copy' keyword arguments. To learn more, see the migration guide https://numpy.org/devdocs/numpy_2_0_migration_guide.html#adapting-to-changes-in-the-copy-keyword\n",
      "  return np.array(predictions)\n"
     ]
    },
    {
     "name": "stdout",
     "output_type": "stream",
     "text": [
      "\tStep 6 complete...\n",
      "\tRun complete...\n",
      "\n",
      "Starting sonar run 29...\n",
      "\tStep 1 complete...\n",
      "\tStep 2 complete...\n",
      "\tStep 3 complete...\n",
      "\tStep 4 complete...\n",
      "\tStep 5 complete...\n"
     ]
    },
    {
     "name": "stderr",
     "output_type": "stream",
     "text": [
      "C:\\Users\\RjKim\\AppData\\Local\\Temp\\ipykernel_21156\\3556282856.py:33: DeprecationWarning: __array__ implementation doesn't accept a copy keyword, so passing copy=False failed. __array__ must implement 'dtype' and 'copy' keyword arguments. To learn more, see the migration guide https://numpy.org/devdocs/numpy_2_0_migration_guide.html#adapting-to-changes-in-the-copy-keyword\n",
      "  return np.array(predictions)\n"
     ]
    },
    {
     "name": "stdout",
     "output_type": "stream",
     "text": [
      "\tStep 6 complete...\n",
      "\tRun complete...\n",
      "\n",
      "Starting sonar run 30...\n",
      "\tStep 1 complete...\n",
      "\tStep 2 complete...\n",
      "\tStep 3 complete...\n",
      "\tStep 4 complete...\n",
      "\tStep 5 complete...\n"
     ]
    },
    {
     "name": "stderr",
     "output_type": "stream",
     "text": [
      "C:\\Users\\RjKim\\AppData\\Local\\Temp\\ipykernel_21156\\3556282856.py:33: DeprecationWarning: __array__ implementation doesn't accept a copy keyword, so passing copy=False failed. __array__ must implement 'dtype' and 'copy' keyword arguments. To learn more, see the migration guide https://numpy.org/devdocs/numpy_2_0_migration_guide.html#adapting-to-changes-in-the-copy-keyword\n",
      "  return np.array(predictions)\n"
     ]
    },
    {
     "name": "stdout",
     "output_type": "stream",
     "text": [
      "\tStep 6 complete...\n",
      "\tRun complete...\n",
      "\n",
      "Starting vehicle0 run 0...\n",
      "\tStep 1 complete...\n",
      "\tStep 2 complete...\n",
      "\tStep 3 complete...\n",
      "\tStep 4 complete...\n",
      "\tStep 5 complete...\n"
     ]
    },
    {
     "name": "stderr",
     "output_type": "stream",
     "text": [
      "C:\\Users\\RjKim\\AppData\\Local\\Temp\\ipykernel_21156\\3556282856.py:33: DeprecationWarning: __array__ implementation doesn't accept a copy keyword, so passing copy=False failed. __array__ must implement 'dtype' and 'copy' keyword arguments. To learn more, see the migration guide https://numpy.org/devdocs/numpy_2_0_migration_guide.html#adapting-to-changes-in-the-copy-keyword\n",
      "  return np.array(predictions)\n"
     ]
    },
    {
     "name": "stdout",
     "output_type": "stream",
     "text": [
      "\tStep 6 complete...\n",
      "\tRun complete...\n",
      "\n",
      "Starting vehicle0 run 1...\n",
      "\tStep 1 complete...\n",
      "\tStep 2 complete...\n",
      "\tStep 3 complete...\n",
      "\tStep 4 complete...\n",
      "\tStep 5 complete...\n"
     ]
    },
    {
     "name": "stderr",
     "output_type": "stream",
     "text": [
      "C:\\Users\\RjKim\\AppData\\Local\\Temp\\ipykernel_21156\\3556282856.py:33: DeprecationWarning: __array__ implementation doesn't accept a copy keyword, so passing copy=False failed. __array__ must implement 'dtype' and 'copy' keyword arguments. To learn more, see the migration guide https://numpy.org/devdocs/numpy_2_0_migration_guide.html#adapting-to-changes-in-the-copy-keyword\n",
      "  return np.array(predictions)\n"
     ]
    },
    {
     "name": "stdout",
     "output_type": "stream",
     "text": [
      "\tStep 6 complete...\n",
      "\tRun complete...\n",
      "\n",
      "Starting vehicle0 run 2...\n",
      "\tStep 1 complete...\n",
      "\tStep 2 complete...\n",
      "\tStep 3 complete...\n",
      "\tStep 4 complete...\n",
      "\tStep 5 complete...\n"
     ]
    },
    {
     "name": "stderr",
     "output_type": "stream",
     "text": [
      "C:\\Users\\RjKim\\AppData\\Local\\Temp\\ipykernel_21156\\3556282856.py:33: DeprecationWarning: __array__ implementation doesn't accept a copy keyword, so passing copy=False failed. __array__ must implement 'dtype' and 'copy' keyword arguments. To learn more, see the migration guide https://numpy.org/devdocs/numpy_2_0_migration_guide.html#adapting-to-changes-in-the-copy-keyword\n",
      "  return np.array(predictions)\n"
     ]
    },
    {
     "name": "stdout",
     "output_type": "stream",
     "text": [
      "\tStep 6 complete...\n",
      "\tRun complete...\n",
      "\n",
      "Starting vehicle0 run 3...\n",
      "\tStep 1 complete...\n",
      "\tStep 2 complete...\n",
      "\tStep 3 complete...\n",
      "\tStep 4 complete...\n",
      "\tStep 5 complete...\n"
     ]
    },
    {
     "name": "stderr",
     "output_type": "stream",
     "text": [
      "C:\\Users\\RjKim\\AppData\\Local\\Temp\\ipykernel_21156\\3556282856.py:33: DeprecationWarning: __array__ implementation doesn't accept a copy keyword, so passing copy=False failed. __array__ must implement 'dtype' and 'copy' keyword arguments. To learn more, see the migration guide https://numpy.org/devdocs/numpy_2_0_migration_guide.html#adapting-to-changes-in-the-copy-keyword\n",
      "  return np.array(predictions)\n"
     ]
    },
    {
     "name": "stdout",
     "output_type": "stream",
     "text": [
      "\tStep 6 complete...\n",
      "\tRun complete...\n",
      "\n",
      "Starting vehicle0 run 4...\n",
      "\tStep 1 complete...\n",
      "\tStep 2 complete...\n",
      "\tStep 3 complete...\n",
      "\tStep 4 complete...\n",
      "\tStep 5 complete...\n"
     ]
    },
    {
     "name": "stderr",
     "output_type": "stream",
     "text": [
      "C:\\Users\\RjKim\\AppData\\Local\\Temp\\ipykernel_21156\\3556282856.py:33: DeprecationWarning: __array__ implementation doesn't accept a copy keyword, so passing copy=False failed. __array__ must implement 'dtype' and 'copy' keyword arguments. To learn more, see the migration guide https://numpy.org/devdocs/numpy_2_0_migration_guide.html#adapting-to-changes-in-the-copy-keyword\n",
      "  return np.array(predictions)\n"
     ]
    },
    {
     "name": "stdout",
     "output_type": "stream",
     "text": [
      "\tStep 6 complete...\n",
      "\tRun complete...\n",
      "\n",
      "Starting vehicle0 run 5...\n",
      "\tStep 1 complete...\n",
      "\tStep 2 complete...\n",
      "\tStep 3 complete...\n",
      "\tStep 4 complete...\n",
      "\tStep 5 complete...\n"
     ]
    },
    {
     "name": "stderr",
     "output_type": "stream",
     "text": [
      "C:\\Users\\RjKim\\AppData\\Local\\Temp\\ipykernel_21156\\3556282856.py:33: DeprecationWarning: __array__ implementation doesn't accept a copy keyword, so passing copy=False failed. __array__ must implement 'dtype' and 'copy' keyword arguments. To learn more, see the migration guide https://numpy.org/devdocs/numpy_2_0_migration_guide.html#adapting-to-changes-in-the-copy-keyword\n",
      "  return np.array(predictions)\n"
     ]
    },
    {
     "name": "stdout",
     "output_type": "stream",
     "text": [
      "\tStep 6 complete...\n",
      "\tRun complete...\n",
      "\n",
      "Starting vehicle0 run 6...\n",
      "\tStep 1 complete...\n",
      "\tStep 2 complete...\n",
      "\tStep 3 complete...\n",
      "\tStep 4 complete...\n",
      "\tStep 5 complete...\n"
     ]
    },
    {
     "name": "stderr",
     "output_type": "stream",
     "text": [
      "C:\\Users\\RjKim\\AppData\\Local\\Temp\\ipykernel_21156\\3556282856.py:33: DeprecationWarning: __array__ implementation doesn't accept a copy keyword, so passing copy=False failed. __array__ must implement 'dtype' and 'copy' keyword arguments. To learn more, see the migration guide https://numpy.org/devdocs/numpy_2_0_migration_guide.html#adapting-to-changes-in-the-copy-keyword\n",
      "  return np.array(predictions)\n"
     ]
    },
    {
     "name": "stdout",
     "output_type": "stream",
     "text": [
      "\tStep 6 complete...\n",
      "\tRun complete...\n",
      "\n",
      "Starting vehicle0 run 7...\n",
      "\tStep 1 complete...\n",
      "\tStep 2 complete...\n",
      "\tStep 3 complete...\n",
      "\tStep 4 complete...\n",
      "\tStep 5 complete...\n"
     ]
    },
    {
     "name": "stderr",
     "output_type": "stream",
     "text": [
      "C:\\Users\\RjKim\\AppData\\Local\\Temp\\ipykernel_21156\\3556282856.py:33: DeprecationWarning: __array__ implementation doesn't accept a copy keyword, so passing copy=False failed. __array__ must implement 'dtype' and 'copy' keyword arguments. To learn more, see the migration guide https://numpy.org/devdocs/numpy_2_0_migration_guide.html#adapting-to-changes-in-the-copy-keyword\n",
      "  return np.array(predictions)\n"
     ]
    },
    {
     "name": "stdout",
     "output_type": "stream",
     "text": [
      "\tStep 6 complete...\n",
      "\tRun complete...\n",
      "\n",
      "Starting vehicle0 run 8...\n",
      "\tStep 1 complete...\n",
      "\tStep 2 complete...\n",
      "\tStep 3 complete...\n",
      "\tStep 4 complete...\n",
      "\tStep 5 complete...\n"
     ]
    },
    {
     "name": "stderr",
     "output_type": "stream",
     "text": [
      "C:\\Users\\RjKim\\AppData\\Local\\Temp\\ipykernel_21156\\3556282856.py:33: DeprecationWarning: __array__ implementation doesn't accept a copy keyword, so passing copy=False failed. __array__ must implement 'dtype' and 'copy' keyword arguments. To learn more, see the migration guide https://numpy.org/devdocs/numpy_2_0_migration_guide.html#adapting-to-changes-in-the-copy-keyword\n",
      "  return np.array(predictions)\n"
     ]
    },
    {
     "name": "stdout",
     "output_type": "stream",
     "text": [
      "\tStep 6 complete...\n",
      "\tRun complete...\n",
      "\n",
      "Starting vehicle0 run 9...\n",
      "\tStep 1 complete...\n",
      "\tStep 2 complete...\n",
      "\tStep 3 complete...\n",
      "\tStep 4 complete...\n",
      "\tStep 5 complete...\n"
     ]
    },
    {
     "name": "stderr",
     "output_type": "stream",
     "text": [
      "C:\\Users\\RjKim\\AppData\\Local\\Temp\\ipykernel_21156\\3556282856.py:33: DeprecationWarning: __array__ implementation doesn't accept a copy keyword, so passing copy=False failed. __array__ must implement 'dtype' and 'copy' keyword arguments. To learn more, see the migration guide https://numpy.org/devdocs/numpy_2_0_migration_guide.html#adapting-to-changes-in-the-copy-keyword\n",
      "  return np.array(predictions)\n"
     ]
    },
    {
     "name": "stdout",
     "output_type": "stream",
     "text": [
      "\tStep 6 complete...\n",
      "\tRun complete...\n",
      "\n",
      "Starting vehicle0 run 10...\n",
      "\tStep 1 complete...\n",
      "\tStep 2 complete...\n",
      "\tStep 3 complete...\n",
      "\tStep 4 complete...\n",
      "\tStep 5 complete...\n"
     ]
    },
    {
     "name": "stderr",
     "output_type": "stream",
     "text": [
      "C:\\Users\\RjKim\\AppData\\Local\\Temp\\ipykernel_21156\\3556282856.py:33: DeprecationWarning: __array__ implementation doesn't accept a copy keyword, so passing copy=False failed. __array__ must implement 'dtype' and 'copy' keyword arguments. To learn more, see the migration guide https://numpy.org/devdocs/numpy_2_0_migration_guide.html#adapting-to-changes-in-the-copy-keyword\n",
      "  return np.array(predictions)\n"
     ]
    },
    {
     "name": "stdout",
     "output_type": "stream",
     "text": [
      "\tStep 6 complete...\n",
      "\tRun complete...\n",
      "\n",
      "Starting vehicle0 run 11...\n",
      "\tStep 1 complete...\n",
      "\tStep 2 complete...\n",
      "\tStep 3 complete...\n",
      "\tStep 4 complete...\n",
      "\tStep 5 complete...\n"
     ]
    },
    {
     "name": "stderr",
     "output_type": "stream",
     "text": [
      "C:\\Users\\RjKim\\AppData\\Local\\Temp\\ipykernel_21156\\3556282856.py:33: DeprecationWarning: __array__ implementation doesn't accept a copy keyword, so passing copy=False failed. __array__ must implement 'dtype' and 'copy' keyword arguments. To learn more, see the migration guide https://numpy.org/devdocs/numpy_2_0_migration_guide.html#adapting-to-changes-in-the-copy-keyword\n",
      "  return np.array(predictions)\n"
     ]
    },
    {
     "name": "stdout",
     "output_type": "stream",
     "text": [
      "\tStep 6 complete...\n",
      "\tRun complete...\n",
      "\n",
      "Starting vehicle0 run 12...\n",
      "\tStep 1 complete...\n",
      "\tStep 2 complete...\n",
      "\tStep 3 complete...\n",
      "\tStep 4 complete...\n",
      "\tStep 5 complete...\n"
     ]
    },
    {
     "name": "stderr",
     "output_type": "stream",
     "text": [
      "C:\\Users\\RjKim\\AppData\\Local\\Temp\\ipykernel_21156\\3556282856.py:33: DeprecationWarning: __array__ implementation doesn't accept a copy keyword, so passing copy=False failed. __array__ must implement 'dtype' and 'copy' keyword arguments. To learn more, see the migration guide https://numpy.org/devdocs/numpy_2_0_migration_guide.html#adapting-to-changes-in-the-copy-keyword\n",
      "  return np.array(predictions)\n"
     ]
    },
    {
     "name": "stdout",
     "output_type": "stream",
     "text": [
      "\tStep 6 complete...\n",
      "\tRun complete...\n",
      "\n",
      "Starting vehicle0 run 13...\n",
      "\tStep 1 complete...\n",
      "\tStep 2 complete...\n",
      "\tStep 3 complete...\n",
      "\tStep 4 complete...\n",
      "\tStep 5 complete...\n"
     ]
    },
    {
     "name": "stderr",
     "output_type": "stream",
     "text": [
      "C:\\Users\\RjKim\\AppData\\Local\\Temp\\ipykernel_21156\\3556282856.py:33: DeprecationWarning: __array__ implementation doesn't accept a copy keyword, so passing copy=False failed. __array__ must implement 'dtype' and 'copy' keyword arguments. To learn more, see the migration guide https://numpy.org/devdocs/numpy_2_0_migration_guide.html#adapting-to-changes-in-the-copy-keyword\n",
      "  return np.array(predictions)\n"
     ]
    },
    {
     "name": "stdout",
     "output_type": "stream",
     "text": [
      "\tStep 6 complete...\n",
      "\tRun complete...\n",
      "\n",
      "Starting vehicle0 run 14...\n",
      "\tStep 1 complete...\n",
      "\tStep 2 complete...\n",
      "\tStep 3 complete...\n",
      "\tStep 4 complete...\n",
      "\tStep 5 complete...\n"
     ]
    },
    {
     "name": "stderr",
     "output_type": "stream",
     "text": [
      "C:\\Users\\RjKim\\AppData\\Local\\Temp\\ipykernel_21156\\3556282856.py:33: DeprecationWarning: __array__ implementation doesn't accept a copy keyword, so passing copy=False failed. __array__ must implement 'dtype' and 'copy' keyword arguments. To learn more, see the migration guide https://numpy.org/devdocs/numpy_2_0_migration_guide.html#adapting-to-changes-in-the-copy-keyword\n",
      "  return np.array(predictions)\n"
     ]
    },
    {
     "name": "stdout",
     "output_type": "stream",
     "text": [
      "\tStep 6 complete...\n",
      "\tRun complete...\n",
      "\n",
      "Starting vehicle0 run 15...\n",
      "\tStep 1 complete...\n",
      "\tStep 2 complete...\n",
      "\tStep 3 complete...\n",
      "\tStep 4 complete...\n",
      "\tStep 5 complete...\n"
     ]
    },
    {
     "name": "stderr",
     "output_type": "stream",
     "text": [
      "C:\\Users\\RjKim\\AppData\\Local\\Temp\\ipykernel_21156\\3556282856.py:33: DeprecationWarning: __array__ implementation doesn't accept a copy keyword, so passing copy=False failed. __array__ must implement 'dtype' and 'copy' keyword arguments. To learn more, see the migration guide https://numpy.org/devdocs/numpy_2_0_migration_guide.html#adapting-to-changes-in-the-copy-keyword\n",
      "  return np.array(predictions)\n"
     ]
    },
    {
     "name": "stdout",
     "output_type": "stream",
     "text": [
      "\tStep 6 complete...\n",
      "\tRun complete...\n",
      "\n",
      "Starting vehicle0 run 16...\n",
      "\tStep 1 complete...\n",
      "\tStep 2 complete...\n",
      "\tStep 3 complete...\n",
      "\tStep 4 complete...\n",
      "\tStep 5 complete...\n"
     ]
    },
    {
     "name": "stderr",
     "output_type": "stream",
     "text": [
      "C:\\Users\\RjKim\\AppData\\Local\\Temp\\ipykernel_21156\\3556282856.py:33: DeprecationWarning: __array__ implementation doesn't accept a copy keyword, so passing copy=False failed. __array__ must implement 'dtype' and 'copy' keyword arguments. To learn more, see the migration guide https://numpy.org/devdocs/numpy_2_0_migration_guide.html#adapting-to-changes-in-the-copy-keyword\n",
      "  return np.array(predictions)\n"
     ]
    },
    {
     "name": "stdout",
     "output_type": "stream",
     "text": [
      "\tStep 6 complete...\n",
      "\tRun complete...\n",
      "\n",
      "Starting vehicle0 run 17...\n",
      "\tStep 1 complete...\n",
      "\tStep 2 complete...\n",
      "\tStep 3 complete...\n",
      "\tStep 4 complete...\n",
      "\tStep 5 complete...\n"
     ]
    },
    {
     "name": "stderr",
     "output_type": "stream",
     "text": [
      "C:\\Users\\RjKim\\AppData\\Local\\Temp\\ipykernel_21156\\3556282856.py:33: DeprecationWarning: __array__ implementation doesn't accept a copy keyword, so passing copy=False failed. __array__ must implement 'dtype' and 'copy' keyword arguments. To learn more, see the migration guide https://numpy.org/devdocs/numpy_2_0_migration_guide.html#adapting-to-changes-in-the-copy-keyword\n",
      "  return np.array(predictions)\n"
     ]
    },
    {
     "name": "stdout",
     "output_type": "stream",
     "text": [
      "\tStep 6 complete...\n",
      "\tRun complete...\n",
      "\n",
      "Starting vehicle0 run 18...\n",
      "\tStep 1 complete...\n",
      "\tStep 2 complete...\n",
      "\tStep 3 complete...\n",
      "\tStep 4 complete...\n",
      "\tStep 5 complete...\n"
     ]
    },
    {
     "name": "stderr",
     "output_type": "stream",
     "text": [
      "C:\\Users\\RjKim\\AppData\\Local\\Temp\\ipykernel_21156\\3556282856.py:33: DeprecationWarning: __array__ implementation doesn't accept a copy keyword, so passing copy=False failed. __array__ must implement 'dtype' and 'copy' keyword arguments. To learn more, see the migration guide https://numpy.org/devdocs/numpy_2_0_migration_guide.html#adapting-to-changes-in-the-copy-keyword\n",
      "  return np.array(predictions)\n"
     ]
    },
    {
     "name": "stdout",
     "output_type": "stream",
     "text": [
      "\tStep 6 complete...\n",
      "\tRun complete...\n",
      "\n",
      "Starting vehicle0 run 19...\n",
      "\tStep 1 complete...\n",
      "\tStep 2 complete...\n",
      "\tStep 3 complete...\n",
      "\tStep 4 complete...\n",
      "\tStep 5 complete...\n"
     ]
    },
    {
     "name": "stderr",
     "output_type": "stream",
     "text": [
      "C:\\Users\\RjKim\\AppData\\Local\\Temp\\ipykernel_21156\\3556282856.py:33: DeprecationWarning: __array__ implementation doesn't accept a copy keyword, so passing copy=False failed. __array__ must implement 'dtype' and 'copy' keyword arguments. To learn more, see the migration guide https://numpy.org/devdocs/numpy_2_0_migration_guide.html#adapting-to-changes-in-the-copy-keyword\n",
      "  return np.array(predictions)\n"
     ]
    },
    {
     "name": "stdout",
     "output_type": "stream",
     "text": [
      "\tStep 6 complete...\n",
      "\tRun complete...\n",
      "\n",
      "Starting vehicle0 run 20...\n",
      "\tStep 1 complete...\n",
      "\tStep 2 complete...\n",
      "\tStep 3 complete...\n",
      "\tStep 4 complete...\n",
      "\tStep 5 complete...\n"
     ]
    },
    {
     "name": "stderr",
     "output_type": "stream",
     "text": [
      "C:\\Users\\RjKim\\AppData\\Local\\Temp\\ipykernel_21156\\3556282856.py:33: DeprecationWarning: __array__ implementation doesn't accept a copy keyword, so passing copy=False failed. __array__ must implement 'dtype' and 'copy' keyword arguments. To learn more, see the migration guide https://numpy.org/devdocs/numpy_2_0_migration_guide.html#adapting-to-changes-in-the-copy-keyword\n",
      "  return np.array(predictions)\n"
     ]
    },
    {
     "name": "stdout",
     "output_type": "stream",
     "text": [
      "\tStep 6 complete...\n",
      "\tRun complete...\n",
      "\n",
      "Starting vehicle0 run 21...\n",
      "\tStep 1 complete...\n",
      "\tStep 2 complete...\n",
      "\tStep 3 complete...\n",
      "\tStep 4 complete...\n",
      "\tStep 5 complete...\n"
     ]
    },
    {
     "name": "stderr",
     "output_type": "stream",
     "text": [
      "C:\\Users\\RjKim\\AppData\\Local\\Temp\\ipykernel_21156\\3556282856.py:33: DeprecationWarning: __array__ implementation doesn't accept a copy keyword, so passing copy=False failed. __array__ must implement 'dtype' and 'copy' keyword arguments. To learn more, see the migration guide https://numpy.org/devdocs/numpy_2_0_migration_guide.html#adapting-to-changes-in-the-copy-keyword\n",
      "  return np.array(predictions)\n"
     ]
    },
    {
     "name": "stdout",
     "output_type": "stream",
     "text": [
      "\tStep 6 complete...\n",
      "\tRun complete...\n",
      "\n",
      "Starting vehicle0 run 22...\n",
      "\tStep 1 complete...\n",
      "\tStep 2 complete...\n",
      "\tStep 3 complete...\n",
      "\tStep 4 complete...\n",
      "\tStep 5 complete...\n"
     ]
    },
    {
     "name": "stderr",
     "output_type": "stream",
     "text": [
      "C:\\Users\\RjKim\\AppData\\Local\\Temp\\ipykernel_21156\\3556282856.py:33: DeprecationWarning: __array__ implementation doesn't accept a copy keyword, so passing copy=False failed. __array__ must implement 'dtype' and 'copy' keyword arguments. To learn more, see the migration guide https://numpy.org/devdocs/numpy_2_0_migration_guide.html#adapting-to-changes-in-the-copy-keyword\n",
      "  return np.array(predictions)\n"
     ]
    },
    {
     "name": "stdout",
     "output_type": "stream",
     "text": [
      "\tStep 6 complete...\n",
      "\tRun complete...\n",
      "\n",
      "Starting vehicle0 run 23...\n",
      "\tStep 1 complete...\n",
      "\tStep 2 complete...\n",
      "\tStep 3 complete...\n",
      "\tStep 4 complete...\n",
      "\tStep 5 complete...\n"
     ]
    },
    {
     "name": "stderr",
     "output_type": "stream",
     "text": [
      "C:\\Users\\RjKim\\AppData\\Local\\Temp\\ipykernel_21156\\3556282856.py:33: DeprecationWarning: __array__ implementation doesn't accept a copy keyword, so passing copy=False failed. __array__ must implement 'dtype' and 'copy' keyword arguments. To learn more, see the migration guide https://numpy.org/devdocs/numpy_2_0_migration_guide.html#adapting-to-changes-in-the-copy-keyword\n",
      "  return np.array(predictions)\n"
     ]
    },
    {
     "name": "stdout",
     "output_type": "stream",
     "text": [
      "\tStep 6 complete...\n",
      "\tRun complete...\n",
      "\n",
      "Starting vehicle0 run 24...\n",
      "\tStep 1 complete...\n",
      "\tStep 2 complete...\n",
      "\tStep 3 complete...\n",
      "\tStep 4 complete...\n",
      "\tStep 5 complete...\n"
     ]
    },
    {
     "name": "stderr",
     "output_type": "stream",
     "text": [
      "C:\\Users\\RjKim\\AppData\\Local\\Temp\\ipykernel_21156\\3556282856.py:33: DeprecationWarning: __array__ implementation doesn't accept a copy keyword, so passing copy=False failed. __array__ must implement 'dtype' and 'copy' keyword arguments. To learn more, see the migration guide https://numpy.org/devdocs/numpy_2_0_migration_guide.html#adapting-to-changes-in-the-copy-keyword\n",
      "  return np.array(predictions)\n"
     ]
    },
    {
     "name": "stdout",
     "output_type": "stream",
     "text": [
      "\tStep 6 complete...\n",
      "\tRun complete...\n",
      "\n",
      "Starting vehicle0 run 25...\n",
      "\tStep 1 complete...\n",
      "\tStep 2 complete...\n",
      "\tStep 3 complete...\n",
      "\tStep 4 complete...\n",
      "\tStep 5 complete...\n"
     ]
    },
    {
     "name": "stderr",
     "output_type": "stream",
     "text": [
      "C:\\Users\\RjKim\\AppData\\Local\\Temp\\ipykernel_21156\\3556282856.py:33: DeprecationWarning: __array__ implementation doesn't accept a copy keyword, so passing copy=False failed. __array__ must implement 'dtype' and 'copy' keyword arguments. To learn more, see the migration guide https://numpy.org/devdocs/numpy_2_0_migration_guide.html#adapting-to-changes-in-the-copy-keyword\n",
      "  return np.array(predictions)\n"
     ]
    },
    {
     "name": "stdout",
     "output_type": "stream",
     "text": [
      "\tStep 6 complete...\n",
      "\tRun complete...\n",
      "\n",
      "Starting vehicle0 run 26...\n",
      "\tStep 1 complete...\n",
      "\tStep 2 complete...\n",
      "\tStep 3 complete...\n",
      "\tStep 4 complete...\n",
      "\tStep 5 complete...\n"
     ]
    },
    {
     "name": "stderr",
     "output_type": "stream",
     "text": [
      "C:\\Users\\RjKim\\AppData\\Local\\Temp\\ipykernel_21156\\3556282856.py:33: DeprecationWarning: __array__ implementation doesn't accept a copy keyword, so passing copy=False failed. __array__ must implement 'dtype' and 'copy' keyword arguments. To learn more, see the migration guide https://numpy.org/devdocs/numpy_2_0_migration_guide.html#adapting-to-changes-in-the-copy-keyword\n",
      "  return np.array(predictions)\n"
     ]
    },
    {
     "name": "stdout",
     "output_type": "stream",
     "text": [
      "\tStep 6 complete...\n",
      "\tRun complete...\n",
      "\n",
      "Starting vehicle0 run 27...\n",
      "\tStep 1 complete...\n",
      "\tStep 2 complete...\n",
      "\tStep 3 complete...\n",
      "\tStep 4 complete...\n",
      "\tStep 5 complete...\n"
     ]
    },
    {
     "name": "stderr",
     "output_type": "stream",
     "text": [
      "C:\\Users\\RjKim\\AppData\\Local\\Temp\\ipykernel_21156\\3556282856.py:33: DeprecationWarning: __array__ implementation doesn't accept a copy keyword, so passing copy=False failed. __array__ must implement 'dtype' and 'copy' keyword arguments. To learn more, see the migration guide https://numpy.org/devdocs/numpy_2_0_migration_guide.html#adapting-to-changes-in-the-copy-keyword\n",
      "  return np.array(predictions)\n"
     ]
    },
    {
     "name": "stdout",
     "output_type": "stream",
     "text": [
      "\tStep 6 complete...\n",
      "\tRun complete...\n",
      "\n",
      "Starting vehicle0 run 28...\n",
      "\tStep 1 complete...\n",
      "\tStep 2 complete...\n",
      "\tStep 3 complete...\n",
      "\tStep 4 complete...\n",
      "\tStep 5 complete...\n"
     ]
    },
    {
     "name": "stderr",
     "output_type": "stream",
     "text": [
      "C:\\Users\\RjKim\\AppData\\Local\\Temp\\ipykernel_21156\\3556282856.py:33: DeprecationWarning: __array__ implementation doesn't accept a copy keyword, so passing copy=False failed. __array__ must implement 'dtype' and 'copy' keyword arguments. To learn more, see the migration guide https://numpy.org/devdocs/numpy_2_0_migration_guide.html#adapting-to-changes-in-the-copy-keyword\n",
      "  return np.array(predictions)\n"
     ]
    },
    {
     "name": "stdout",
     "output_type": "stream",
     "text": [
      "\tStep 6 complete...\n",
      "\tRun complete...\n",
      "\n",
      "Starting vehicle0 run 29...\n",
      "\tStep 1 complete...\n",
      "\tStep 2 complete...\n",
      "\tStep 3 complete...\n",
      "\tStep 4 complete...\n",
      "\tStep 5 complete...\n"
     ]
    },
    {
     "name": "stderr",
     "output_type": "stream",
     "text": [
      "C:\\Users\\RjKim\\AppData\\Local\\Temp\\ipykernel_21156\\3556282856.py:33: DeprecationWarning: __array__ implementation doesn't accept a copy keyword, so passing copy=False failed. __array__ must implement 'dtype' and 'copy' keyword arguments. To learn more, see the migration guide https://numpy.org/devdocs/numpy_2_0_migration_guide.html#adapting-to-changes-in-the-copy-keyword\n",
      "  return np.array(predictions)\n"
     ]
    },
    {
     "name": "stdout",
     "output_type": "stream",
     "text": [
      "\tStep 6 complete...\n",
      "\tRun complete...\n",
      "\n",
      "Starting vehicle0 run 30...\n",
      "\tStep 1 complete...\n",
      "\tStep 2 complete...\n",
      "\tStep 3 complete...\n",
      "\tStep 4 complete...\n",
      "\tStep 5 complete...\n"
     ]
    },
    {
     "name": "stderr",
     "output_type": "stream",
     "text": [
      "C:\\Users\\RjKim\\AppData\\Local\\Temp\\ipykernel_21156\\3556282856.py:33: DeprecationWarning: __array__ implementation doesn't accept a copy keyword, so passing copy=False failed. __array__ must implement 'dtype' and 'copy' keyword arguments. To learn more, see the migration guide https://numpy.org/devdocs/numpy_2_0_migration_guide.html#adapting-to-changes-in-the-copy-keyword\n",
      "  return np.array(predictions)\n"
     ]
    },
    {
     "name": "stdout",
     "output_type": "stream",
     "text": [
      "\tStep 6 complete...\n",
      "\tRun complete...\n",
      "\n",
      "Starting yeast1 run 0...\n",
      "\tStep 1 complete...\n",
      "\tStep 2 complete...\n",
      "\tStep 3 complete...\n",
      "\tStep 4 complete...\n",
      "\tStep 5 complete...\n"
     ]
    },
    {
     "name": "stderr",
     "output_type": "stream",
     "text": [
      "C:\\Users\\RjKim\\AppData\\Local\\Temp\\ipykernel_21156\\3556282856.py:33: DeprecationWarning: __array__ implementation doesn't accept a copy keyword, so passing copy=False failed. __array__ must implement 'dtype' and 'copy' keyword arguments. To learn more, see the migration guide https://numpy.org/devdocs/numpy_2_0_migration_guide.html#adapting-to-changes-in-the-copy-keyword\n",
      "  return np.array(predictions)\n"
     ]
    },
    {
     "name": "stdout",
     "output_type": "stream",
     "text": [
      "\tStep 6 complete...\n",
      "\tRun complete...\n",
      "\n",
      "Starting yeast1 run 1...\n",
      "\tStep 1 complete...\n",
      "\tStep 2 complete...\n",
      "\tStep 3 complete...\n",
      "\tStep 4 complete...\n",
      "\tStep 5 complete...\n"
     ]
    },
    {
     "name": "stderr",
     "output_type": "stream",
     "text": [
      "C:\\Users\\RjKim\\AppData\\Local\\Temp\\ipykernel_21156\\3556282856.py:33: DeprecationWarning: __array__ implementation doesn't accept a copy keyword, so passing copy=False failed. __array__ must implement 'dtype' and 'copy' keyword arguments. To learn more, see the migration guide https://numpy.org/devdocs/numpy_2_0_migration_guide.html#adapting-to-changes-in-the-copy-keyword\n",
      "  return np.array(predictions)\n"
     ]
    },
    {
     "name": "stdout",
     "output_type": "stream",
     "text": [
      "\tStep 6 complete...\n",
      "\tRun complete...\n",
      "\n",
      "Starting yeast1 run 2...\n",
      "\tStep 1 complete...\n",
      "\tStep 2 complete...\n",
      "\tStep 3 complete...\n",
      "\tStep 4 complete...\n",
      "\tStep 5 complete...\n"
     ]
    },
    {
     "name": "stderr",
     "output_type": "stream",
     "text": [
      "C:\\Users\\RjKim\\AppData\\Local\\Temp\\ipykernel_21156\\3556282856.py:33: DeprecationWarning: __array__ implementation doesn't accept a copy keyword, so passing copy=False failed. __array__ must implement 'dtype' and 'copy' keyword arguments. To learn more, see the migration guide https://numpy.org/devdocs/numpy_2_0_migration_guide.html#adapting-to-changes-in-the-copy-keyword\n",
      "  return np.array(predictions)\n"
     ]
    },
    {
     "name": "stdout",
     "output_type": "stream",
     "text": [
      "\tStep 6 complete...\n",
      "\tRun complete...\n",
      "\n",
      "Starting yeast1 run 3...\n",
      "\tStep 1 complete...\n",
      "\tStep 2 complete...\n",
      "\tStep 3 complete...\n",
      "\tStep 4 complete...\n",
      "\tStep 5 complete...\n"
     ]
    },
    {
     "name": "stderr",
     "output_type": "stream",
     "text": [
      "C:\\Users\\RjKim\\AppData\\Local\\Temp\\ipykernel_21156\\3556282856.py:33: DeprecationWarning: __array__ implementation doesn't accept a copy keyword, so passing copy=False failed. __array__ must implement 'dtype' and 'copy' keyword arguments. To learn more, see the migration guide https://numpy.org/devdocs/numpy_2_0_migration_guide.html#adapting-to-changes-in-the-copy-keyword\n",
      "  return np.array(predictions)\n"
     ]
    },
    {
     "name": "stdout",
     "output_type": "stream",
     "text": [
      "\tStep 6 complete...\n",
      "\tRun complete...\n",
      "\n",
      "Starting yeast1 run 4...\n",
      "\tStep 1 complete...\n",
      "\tStep 2 complete...\n",
      "\tStep 3 complete...\n",
      "\tStep 4 complete...\n",
      "\tStep 5 complete...\n"
     ]
    },
    {
     "name": "stderr",
     "output_type": "stream",
     "text": [
      "C:\\Users\\RjKim\\AppData\\Local\\Temp\\ipykernel_21156\\3556282856.py:33: DeprecationWarning: __array__ implementation doesn't accept a copy keyword, so passing copy=False failed. __array__ must implement 'dtype' and 'copy' keyword arguments. To learn more, see the migration guide https://numpy.org/devdocs/numpy_2_0_migration_guide.html#adapting-to-changes-in-the-copy-keyword\n",
      "  return np.array(predictions)\n"
     ]
    },
    {
     "name": "stdout",
     "output_type": "stream",
     "text": [
      "\tStep 6 complete...\n",
      "\tRun complete...\n",
      "\n",
      "Starting yeast1 run 5...\n",
      "\tStep 1 complete...\n",
      "\tStep 2 complete...\n",
      "\tStep 3 complete...\n",
      "\tStep 4 complete...\n",
      "\tStep 5 complete...\n"
     ]
    },
    {
     "name": "stderr",
     "output_type": "stream",
     "text": [
      "C:\\Users\\RjKim\\AppData\\Local\\Temp\\ipykernel_21156\\3556282856.py:33: DeprecationWarning: __array__ implementation doesn't accept a copy keyword, so passing copy=False failed. __array__ must implement 'dtype' and 'copy' keyword arguments. To learn more, see the migration guide https://numpy.org/devdocs/numpy_2_0_migration_guide.html#adapting-to-changes-in-the-copy-keyword\n",
      "  return np.array(predictions)\n"
     ]
    },
    {
     "name": "stdout",
     "output_type": "stream",
     "text": [
      "\tStep 6 complete...\n",
      "\tRun complete...\n",
      "\n",
      "Starting yeast1 run 6...\n",
      "\tStep 1 complete...\n",
      "\tStep 2 complete...\n",
      "\tStep 3 complete...\n",
      "\tStep 4 complete...\n",
      "\tStep 5 complete...\n"
     ]
    },
    {
     "name": "stderr",
     "output_type": "stream",
     "text": [
      "C:\\Users\\RjKim\\AppData\\Local\\Temp\\ipykernel_21156\\3556282856.py:33: DeprecationWarning: __array__ implementation doesn't accept a copy keyword, so passing copy=False failed. __array__ must implement 'dtype' and 'copy' keyword arguments. To learn more, see the migration guide https://numpy.org/devdocs/numpy_2_0_migration_guide.html#adapting-to-changes-in-the-copy-keyword\n",
      "  return np.array(predictions)\n"
     ]
    },
    {
     "name": "stdout",
     "output_type": "stream",
     "text": [
      "\tStep 6 complete...\n",
      "\tRun complete...\n",
      "\n",
      "Starting yeast1 run 7...\n",
      "\tStep 1 complete...\n",
      "\tStep 2 complete...\n",
      "\tStep 3 complete...\n",
      "\tStep 4 complete...\n",
      "\tStep 5 complete...\n"
     ]
    },
    {
     "name": "stderr",
     "output_type": "stream",
     "text": [
      "C:\\Users\\RjKim\\AppData\\Local\\Temp\\ipykernel_21156\\3556282856.py:33: DeprecationWarning: __array__ implementation doesn't accept a copy keyword, so passing copy=False failed. __array__ must implement 'dtype' and 'copy' keyword arguments. To learn more, see the migration guide https://numpy.org/devdocs/numpy_2_0_migration_guide.html#adapting-to-changes-in-the-copy-keyword\n",
      "  return np.array(predictions)\n"
     ]
    },
    {
     "name": "stdout",
     "output_type": "stream",
     "text": [
      "\tStep 6 complete...\n",
      "\tRun complete...\n",
      "\n",
      "Starting yeast1 run 8...\n",
      "\tStep 1 complete...\n",
      "\tStep 2 complete...\n",
      "\tStep 3 complete...\n",
      "\tStep 4 complete...\n",
      "\tStep 5 complete...\n"
     ]
    },
    {
     "name": "stderr",
     "output_type": "stream",
     "text": [
      "C:\\Users\\RjKim\\AppData\\Local\\Temp\\ipykernel_21156\\3556282856.py:33: DeprecationWarning: __array__ implementation doesn't accept a copy keyword, so passing copy=False failed. __array__ must implement 'dtype' and 'copy' keyword arguments. To learn more, see the migration guide https://numpy.org/devdocs/numpy_2_0_migration_guide.html#adapting-to-changes-in-the-copy-keyword\n",
      "  return np.array(predictions)\n"
     ]
    },
    {
     "name": "stdout",
     "output_type": "stream",
     "text": [
      "\tStep 6 complete...\n",
      "\tRun complete...\n",
      "\n",
      "Starting yeast1 run 9...\n",
      "\tStep 1 complete...\n",
      "\tStep 2 complete...\n",
      "\tStep 3 complete...\n",
      "\tStep 4 complete...\n",
      "\tStep 5 complete...\n"
     ]
    },
    {
     "name": "stderr",
     "output_type": "stream",
     "text": [
      "C:\\Users\\RjKim\\AppData\\Local\\Temp\\ipykernel_21156\\3556282856.py:33: DeprecationWarning: __array__ implementation doesn't accept a copy keyword, so passing copy=False failed. __array__ must implement 'dtype' and 'copy' keyword arguments. To learn more, see the migration guide https://numpy.org/devdocs/numpy_2_0_migration_guide.html#adapting-to-changes-in-the-copy-keyword\n",
      "  return np.array(predictions)\n"
     ]
    },
    {
     "name": "stdout",
     "output_type": "stream",
     "text": [
      "\tStep 6 complete...\n",
      "\tRun complete...\n",
      "\n",
      "Starting yeast1 run 10...\n",
      "\tStep 1 complete...\n",
      "\tStep 2 complete...\n",
      "\tStep 3 complete...\n",
      "\tStep 4 complete...\n",
      "\tStep 5 complete...\n"
     ]
    },
    {
     "name": "stderr",
     "output_type": "stream",
     "text": [
      "C:\\Users\\RjKim\\AppData\\Local\\Temp\\ipykernel_21156\\3556282856.py:33: DeprecationWarning: __array__ implementation doesn't accept a copy keyword, so passing copy=False failed. __array__ must implement 'dtype' and 'copy' keyword arguments. To learn more, see the migration guide https://numpy.org/devdocs/numpy_2_0_migration_guide.html#adapting-to-changes-in-the-copy-keyword\n",
      "  return np.array(predictions)\n"
     ]
    },
    {
     "name": "stdout",
     "output_type": "stream",
     "text": [
      "\tStep 6 complete...\n",
      "\tRun complete...\n",
      "\n",
      "Starting yeast1 run 11...\n",
      "\tStep 1 complete...\n",
      "\tStep 2 complete...\n",
      "\tStep 3 complete...\n",
      "\tStep 4 complete...\n",
      "\tStep 5 complete...\n"
     ]
    },
    {
     "name": "stderr",
     "output_type": "stream",
     "text": [
      "C:\\Users\\RjKim\\AppData\\Local\\Temp\\ipykernel_21156\\3556282856.py:33: DeprecationWarning: __array__ implementation doesn't accept a copy keyword, so passing copy=False failed. __array__ must implement 'dtype' and 'copy' keyword arguments. To learn more, see the migration guide https://numpy.org/devdocs/numpy_2_0_migration_guide.html#adapting-to-changes-in-the-copy-keyword\n",
      "  return np.array(predictions)\n"
     ]
    },
    {
     "name": "stdout",
     "output_type": "stream",
     "text": [
      "\tStep 6 complete...\n",
      "\tRun complete...\n",
      "\n",
      "Starting yeast1 run 12...\n",
      "\tStep 1 complete...\n",
      "\tStep 2 complete...\n",
      "\tStep 3 complete...\n",
      "\tStep 4 complete...\n",
      "\tStep 5 complete...\n"
     ]
    },
    {
     "name": "stderr",
     "output_type": "stream",
     "text": [
      "C:\\Users\\RjKim\\AppData\\Local\\Temp\\ipykernel_21156\\3556282856.py:33: DeprecationWarning: __array__ implementation doesn't accept a copy keyword, so passing copy=False failed. __array__ must implement 'dtype' and 'copy' keyword arguments. To learn more, see the migration guide https://numpy.org/devdocs/numpy_2_0_migration_guide.html#adapting-to-changes-in-the-copy-keyword\n",
      "  return np.array(predictions)\n"
     ]
    },
    {
     "name": "stdout",
     "output_type": "stream",
     "text": [
      "\tStep 6 complete...\n",
      "\tRun complete...\n",
      "\n",
      "Starting yeast1 run 13...\n",
      "\tStep 1 complete...\n",
      "\tStep 2 complete...\n",
      "\tStep 3 complete...\n",
      "\tStep 4 complete...\n",
      "\tStep 5 complete...\n"
     ]
    },
    {
     "name": "stderr",
     "output_type": "stream",
     "text": [
      "C:\\Users\\RjKim\\AppData\\Local\\Temp\\ipykernel_21156\\3556282856.py:33: DeprecationWarning: __array__ implementation doesn't accept a copy keyword, so passing copy=False failed. __array__ must implement 'dtype' and 'copy' keyword arguments. To learn more, see the migration guide https://numpy.org/devdocs/numpy_2_0_migration_guide.html#adapting-to-changes-in-the-copy-keyword\n",
      "  return np.array(predictions)\n"
     ]
    },
    {
     "name": "stdout",
     "output_type": "stream",
     "text": [
      "\tStep 6 complete...\n",
      "\tRun complete...\n",
      "\n",
      "Starting yeast1 run 14...\n",
      "\tStep 1 complete...\n",
      "\tStep 2 complete...\n",
      "\tStep 3 complete...\n",
      "\tStep 4 complete...\n",
      "\tStep 5 complete...\n"
     ]
    },
    {
     "name": "stderr",
     "output_type": "stream",
     "text": [
      "C:\\Users\\RjKim\\AppData\\Local\\Temp\\ipykernel_21156\\3556282856.py:33: DeprecationWarning: __array__ implementation doesn't accept a copy keyword, so passing copy=False failed. __array__ must implement 'dtype' and 'copy' keyword arguments. To learn more, see the migration guide https://numpy.org/devdocs/numpy_2_0_migration_guide.html#adapting-to-changes-in-the-copy-keyword\n",
      "  return np.array(predictions)\n"
     ]
    },
    {
     "name": "stdout",
     "output_type": "stream",
     "text": [
      "\tStep 6 complete...\n",
      "\tRun complete...\n",
      "\n",
      "Starting yeast1 run 15...\n",
      "\tStep 1 complete...\n",
      "\tStep 2 complete...\n",
      "\tStep 3 complete...\n",
      "\tStep 4 complete...\n",
      "\tStep 5 complete...\n"
     ]
    },
    {
     "name": "stderr",
     "output_type": "stream",
     "text": [
      "C:\\Users\\RjKim\\AppData\\Local\\Temp\\ipykernel_21156\\3556282856.py:33: DeprecationWarning: __array__ implementation doesn't accept a copy keyword, so passing copy=False failed. __array__ must implement 'dtype' and 'copy' keyword arguments. To learn more, see the migration guide https://numpy.org/devdocs/numpy_2_0_migration_guide.html#adapting-to-changes-in-the-copy-keyword\n",
      "  return np.array(predictions)\n"
     ]
    },
    {
     "name": "stdout",
     "output_type": "stream",
     "text": [
      "\tStep 6 complete...\n",
      "\tRun complete...\n",
      "\n",
      "Starting yeast1 run 16...\n",
      "\tStep 1 complete...\n",
      "\tStep 2 complete...\n",
      "\tStep 3 complete...\n",
      "\tStep 4 complete...\n",
      "\tStep 5 complete...\n"
     ]
    },
    {
     "name": "stderr",
     "output_type": "stream",
     "text": [
      "C:\\Users\\RjKim\\AppData\\Local\\Temp\\ipykernel_21156\\3556282856.py:33: DeprecationWarning: __array__ implementation doesn't accept a copy keyword, so passing copy=False failed. __array__ must implement 'dtype' and 'copy' keyword arguments. To learn more, see the migration guide https://numpy.org/devdocs/numpy_2_0_migration_guide.html#adapting-to-changes-in-the-copy-keyword\n",
      "  return np.array(predictions)\n"
     ]
    },
    {
     "name": "stdout",
     "output_type": "stream",
     "text": [
      "\tStep 6 complete...\n",
      "\tRun complete...\n",
      "\n",
      "Starting yeast1 run 17...\n",
      "\tStep 1 complete...\n",
      "\tStep 2 complete...\n",
      "\tStep 3 complete...\n",
      "\tStep 4 complete...\n",
      "\tStep 5 complete...\n"
     ]
    },
    {
     "name": "stderr",
     "output_type": "stream",
     "text": [
      "C:\\Users\\RjKim\\AppData\\Local\\Temp\\ipykernel_21156\\3556282856.py:33: DeprecationWarning: __array__ implementation doesn't accept a copy keyword, so passing copy=False failed. __array__ must implement 'dtype' and 'copy' keyword arguments. To learn more, see the migration guide https://numpy.org/devdocs/numpy_2_0_migration_guide.html#adapting-to-changes-in-the-copy-keyword\n",
      "  return np.array(predictions)\n"
     ]
    },
    {
     "name": "stdout",
     "output_type": "stream",
     "text": [
      "\tStep 6 complete...\n",
      "\tRun complete...\n",
      "\n",
      "Starting yeast1 run 18...\n",
      "\tStep 1 complete...\n",
      "\tStep 2 complete...\n",
      "\tStep 3 complete...\n",
      "\tStep 4 complete...\n",
      "\tStep 5 complete...\n"
     ]
    },
    {
     "name": "stderr",
     "output_type": "stream",
     "text": [
      "C:\\Users\\RjKim\\AppData\\Local\\Temp\\ipykernel_21156\\3556282856.py:33: DeprecationWarning: __array__ implementation doesn't accept a copy keyword, so passing copy=False failed. __array__ must implement 'dtype' and 'copy' keyword arguments. To learn more, see the migration guide https://numpy.org/devdocs/numpy_2_0_migration_guide.html#adapting-to-changes-in-the-copy-keyword\n",
      "  return np.array(predictions)\n"
     ]
    },
    {
     "name": "stdout",
     "output_type": "stream",
     "text": [
      "\tStep 6 complete...\n",
      "\tRun complete...\n",
      "\n",
      "Starting yeast1 run 19...\n",
      "\tStep 1 complete...\n",
      "\tStep 2 complete...\n",
      "\tStep 3 complete...\n",
      "\tStep 4 complete...\n",
      "\tStep 5 complete...\n"
     ]
    },
    {
     "name": "stderr",
     "output_type": "stream",
     "text": [
      "C:\\Users\\RjKim\\AppData\\Local\\Temp\\ipykernel_21156\\3556282856.py:33: DeprecationWarning: __array__ implementation doesn't accept a copy keyword, so passing copy=False failed. __array__ must implement 'dtype' and 'copy' keyword arguments. To learn more, see the migration guide https://numpy.org/devdocs/numpy_2_0_migration_guide.html#adapting-to-changes-in-the-copy-keyword\n",
      "  return np.array(predictions)\n"
     ]
    },
    {
     "name": "stdout",
     "output_type": "stream",
     "text": [
      "\tStep 6 complete...\n",
      "\tRun complete...\n",
      "\n",
      "Starting yeast1 run 20...\n",
      "\tStep 1 complete...\n",
      "\tStep 2 complete...\n",
      "\tStep 3 complete...\n",
      "\tStep 4 complete...\n",
      "\tStep 5 complete...\n"
     ]
    },
    {
     "name": "stderr",
     "output_type": "stream",
     "text": [
      "C:\\Users\\RjKim\\AppData\\Local\\Temp\\ipykernel_21156\\3556282856.py:33: DeprecationWarning: __array__ implementation doesn't accept a copy keyword, so passing copy=False failed. __array__ must implement 'dtype' and 'copy' keyword arguments. To learn more, see the migration guide https://numpy.org/devdocs/numpy_2_0_migration_guide.html#adapting-to-changes-in-the-copy-keyword\n",
      "  return np.array(predictions)\n"
     ]
    },
    {
     "name": "stdout",
     "output_type": "stream",
     "text": [
      "\tStep 6 complete...\n",
      "\tRun complete...\n",
      "\n",
      "Starting yeast1 run 21...\n",
      "\tStep 1 complete...\n",
      "\tStep 2 complete...\n",
      "\tStep 3 complete...\n",
      "\tStep 4 complete...\n",
      "\tStep 5 complete...\n"
     ]
    },
    {
     "name": "stderr",
     "output_type": "stream",
     "text": [
      "C:\\Users\\RjKim\\AppData\\Local\\Temp\\ipykernel_21156\\3556282856.py:33: DeprecationWarning: __array__ implementation doesn't accept a copy keyword, so passing copy=False failed. __array__ must implement 'dtype' and 'copy' keyword arguments. To learn more, see the migration guide https://numpy.org/devdocs/numpy_2_0_migration_guide.html#adapting-to-changes-in-the-copy-keyword\n",
      "  return np.array(predictions)\n"
     ]
    },
    {
     "name": "stdout",
     "output_type": "stream",
     "text": [
      "\tStep 6 complete...\n",
      "\tRun complete...\n",
      "\n",
      "Starting yeast1 run 22...\n",
      "\tStep 1 complete...\n",
      "\tStep 2 complete...\n",
      "\tStep 3 complete...\n",
      "\tStep 4 complete...\n",
      "\tStep 5 complete...\n"
     ]
    },
    {
     "name": "stderr",
     "output_type": "stream",
     "text": [
      "C:\\Users\\RjKim\\AppData\\Local\\Temp\\ipykernel_21156\\3556282856.py:33: DeprecationWarning: __array__ implementation doesn't accept a copy keyword, so passing copy=False failed. __array__ must implement 'dtype' and 'copy' keyword arguments. To learn more, see the migration guide https://numpy.org/devdocs/numpy_2_0_migration_guide.html#adapting-to-changes-in-the-copy-keyword\n",
      "  return np.array(predictions)\n"
     ]
    },
    {
     "name": "stdout",
     "output_type": "stream",
     "text": [
      "\tStep 6 complete...\n",
      "\tRun complete...\n",
      "\n",
      "Starting yeast1 run 23...\n",
      "\tStep 1 complete...\n",
      "\tStep 2 complete...\n",
      "\tStep 3 complete...\n",
      "\tStep 4 complete...\n",
      "\tStep 5 complete...\n"
     ]
    },
    {
     "name": "stderr",
     "output_type": "stream",
     "text": [
      "C:\\Users\\RjKim\\AppData\\Local\\Temp\\ipykernel_21156\\3556282856.py:33: DeprecationWarning: __array__ implementation doesn't accept a copy keyword, so passing copy=False failed. __array__ must implement 'dtype' and 'copy' keyword arguments. To learn more, see the migration guide https://numpy.org/devdocs/numpy_2_0_migration_guide.html#adapting-to-changes-in-the-copy-keyword\n",
      "  return np.array(predictions)\n"
     ]
    },
    {
     "name": "stdout",
     "output_type": "stream",
     "text": [
      "\tStep 6 complete...\n",
      "\tRun complete...\n",
      "\n",
      "Starting yeast1 run 24...\n",
      "\tStep 1 complete...\n",
      "\tStep 2 complete...\n",
      "\tStep 3 complete...\n",
      "\tStep 4 complete...\n",
      "\tStep 5 complete...\n"
     ]
    },
    {
     "name": "stderr",
     "output_type": "stream",
     "text": [
      "C:\\Users\\RjKim\\AppData\\Local\\Temp\\ipykernel_21156\\3556282856.py:33: DeprecationWarning: __array__ implementation doesn't accept a copy keyword, so passing copy=False failed. __array__ must implement 'dtype' and 'copy' keyword arguments. To learn more, see the migration guide https://numpy.org/devdocs/numpy_2_0_migration_guide.html#adapting-to-changes-in-the-copy-keyword\n",
      "  return np.array(predictions)\n"
     ]
    },
    {
     "name": "stdout",
     "output_type": "stream",
     "text": [
      "\tStep 6 complete...\n",
      "\tRun complete...\n",
      "\n",
      "Starting yeast1 run 25...\n",
      "\tStep 1 complete...\n",
      "\tStep 2 complete...\n",
      "\tStep 3 complete...\n",
      "\tStep 4 complete...\n",
      "\tStep 5 complete...\n"
     ]
    },
    {
     "name": "stderr",
     "output_type": "stream",
     "text": [
      "C:\\Users\\RjKim\\AppData\\Local\\Temp\\ipykernel_21156\\3556282856.py:33: DeprecationWarning: __array__ implementation doesn't accept a copy keyword, so passing copy=False failed. __array__ must implement 'dtype' and 'copy' keyword arguments. To learn more, see the migration guide https://numpy.org/devdocs/numpy_2_0_migration_guide.html#adapting-to-changes-in-the-copy-keyword\n",
      "  return np.array(predictions)\n"
     ]
    },
    {
     "name": "stdout",
     "output_type": "stream",
     "text": [
      "\tStep 6 complete...\n",
      "\tRun complete...\n",
      "\n",
      "Starting yeast1 run 26...\n",
      "\tStep 1 complete...\n",
      "\tStep 2 complete...\n",
      "\tStep 3 complete...\n",
      "\tStep 4 complete...\n",
      "\tStep 5 complete...\n"
     ]
    },
    {
     "name": "stderr",
     "output_type": "stream",
     "text": [
      "C:\\Users\\RjKim\\AppData\\Local\\Temp\\ipykernel_21156\\3556282856.py:33: DeprecationWarning: __array__ implementation doesn't accept a copy keyword, so passing copy=False failed. __array__ must implement 'dtype' and 'copy' keyword arguments. To learn more, see the migration guide https://numpy.org/devdocs/numpy_2_0_migration_guide.html#adapting-to-changes-in-the-copy-keyword\n",
      "  return np.array(predictions)\n"
     ]
    },
    {
     "name": "stdout",
     "output_type": "stream",
     "text": [
      "\tStep 6 complete...\n",
      "\tRun complete...\n",
      "\n",
      "Starting yeast1 run 27...\n",
      "\tStep 1 complete...\n",
      "\tStep 2 complete...\n",
      "\tStep 3 complete...\n",
      "\tStep 4 complete...\n",
      "\tStep 5 complete...\n"
     ]
    },
    {
     "name": "stderr",
     "output_type": "stream",
     "text": [
      "C:\\Users\\RjKim\\AppData\\Local\\Temp\\ipykernel_21156\\3556282856.py:33: DeprecationWarning: __array__ implementation doesn't accept a copy keyword, so passing copy=False failed. __array__ must implement 'dtype' and 'copy' keyword arguments. To learn more, see the migration guide https://numpy.org/devdocs/numpy_2_0_migration_guide.html#adapting-to-changes-in-the-copy-keyword\n",
      "  return np.array(predictions)\n"
     ]
    },
    {
     "name": "stdout",
     "output_type": "stream",
     "text": [
      "\tStep 6 complete...\n",
      "\tRun complete...\n",
      "\n",
      "Starting yeast1 run 28...\n",
      "\tStep 1 complete...\n",
      "\tStep 2 complete...\n",
      "\tStep 3 complete...\n",
      "\tStep 4 complete...\n",
      "\tStep 5 complete...\n"
     ]
    },
    {
     "name": "stderr",
     "output_type": "stream",
     "text": [
      "C:\\Users\\RjKim\\AppData\\Local\\Temp\\ipykernel_21156\\3556282856.py:33: DeprecationWarning: __array__ implementation doesn't accept a copy keyword, so passing copy=False failed. __array__ must implement 'dtype' and 'copy' keyword arguments. To learn more, see the migration guide https://numpy.org/devdocs/numpy_2_0_migration_guide.html#adapting-to-changes-in-the-copy-keyword\n",
      "  return np.array(predictions)\n"
     ]
    },
    {
     "name": "stdout",
     "output_type": "stream",
     "text": [
      "\tStep 6 complete...\n",
      "\tRun complete...\n",
      "\n",
      "Starting yeast1 run 29...\n",
      "\tStep 1 complete...\n",
      "\tStep 2 complete...\n",
      "\tStep 3 complete...\n",
      "\tStep 4 complete...\n",
      "\tStep 5 complete...\n"
     ]
    },
    {
     "name": "stderr",
     "output_type": "stream",
     "text": [
      "C:\\Users\\RjKim\\AppData\\Local\\Temp\\ipykernel_21156\\3556282856.py:33: DeprecationWarning: __array__ implementation doesn't accept a copy keyword, so passing copy=False failed. __array__ must implement 'dtype' and 'copy' keyword arguments. To learn more, see the migration guide https://numpy.org/devdocs/numpy_2_0_migration_guide.html#adapting-to-changes-in-the-copy-keyword\n",
      "  return np.array(predictions)\n"
     ]
    },
    {
     "name": "stdout",
     "output_type": "stream",
     "text": [
      "\tStep 6 complete...\n",
      "\tRun complete...\n",
      "\n",
      "Starting yeast1 run 30...\n",
      "\tStep 1 complete...\n",
      "\tStep 2 complete...\n",
      "\tStep 3 complete...\n",
      "\tStep 4 complete...\n",
      "\tStep 5 complete...\n"
     ]
    },
    {
     "name": "stderr",
     "output_type": "stream",
     "text": [
      "C:\\Users\\RjKim\\AppData\\Local\\Temp\\ipykernel_21156\\3556282856.py:33: DeprecationWarning: __array__ implementation doesn't accept a copy keyword, so passing copy=False failed. __array__ must implement 'dtype' and 'copy' keyword arguments. To learn more, see the migration guide https://numpy.org/devdocs/numpy_2_0_migration_guide.html#adapting-to-changes-in-the-copy-keyword\n",
      "  return np.array(predictions)\n"
     ]
    },
    {
     "name": "stdout",
     "output_type": "stream",
     "text": [
      "\tStep 6 complete...\n",
      "\tRun complete...\n",
      "\n"
     ]
    }
   ],
   "source": [
    "for folder in os.listdir('../Datasets'):\n",
    "\tbaseline_validation = []\n",
    "\tbaseline_test = []\n",
    "\toptimized_test = []\n",
    "\toptimized_validation = []\n",
    "\n",
    "\tfor _ in range(31):\n",
    "\t\tif os.path.exists(f'runs/{folder}_{_}.pickle'):\n",
    "\t\t\tprint(f'passed on {folder}_{_}.pickle')\n",
    "\t\t\n",
    "\t\telse:\n",
    "\t\t\ttry:\n",
    "\t\t\t\tprint(f\"Starting {folder} run {_}...\")\n",
    "\t\t\t\t\t\n",
    "\t\t\t\tsplits = step_1(folder)\n",
    "\t\t\t\tprint(f\"\\tStep 1 complete...\")\n",
    "\n",
    "\t\t\t\tprimary_objective = GenericOptimizer.calculate_overall_error\n",
    "\t\t\t\tsecondary_objectives = [\n",
    "\t\t\t\t\t[GenericOptimizer.calculate_num_examples],\n",
    "\t\t\t\t\t[GenericOptimizer.calculate_class0_error],\n",
    "\t\t\t\t\t[GenericOptimizer.calculate_class0_inverse_f1],\n",
    "\t\t\t\t\t[GenericOptimizer.calculate_class0_inverse_precision],\n",
    "\t\t\t\t\t[GenericOptimizer.calculate_class0_inverse_recall],\n",
    "\t\t\t\t\t[GenericOptimizer.calculate_class1_error],\n",
    "\t\t\t\t\t[GenericOptimizer.calculate_class1_inverse_f1],\n",
    "\t\t\t\t\t[GenericOptimizer.calculate_class1_inverse_precision],\n",
    "\t\t\t\t\t[GenericOptimizer.calculate_class1_inverse_recall],\n",
    "\t\t\t\t\t[GenericOptimizer.calculate_overall_inverse_f1],\n",
    "\t\t\t\t\t[GenericOptimizer.calculate_overall_inverse_precision],\n",
    "\t\t\t\t\t[GenericOptimizer.calculate_overall_inverse_recall],\n",
    "\t\t\t\t\t[GenericOptimizer.calculate_class0_inverse_precision, GenericOptimizer.calculate_class1_inverse_precision],\n",
    "\t\t\t\t\t[GenericOptimizer.calculate_class0_inverse_recall, GenericOptimizer.calculate_class1_inverse_recall],\n",
    "\t\t\t\t\t[GenericOptimizer.calculate_class0_inverse_f1, GenericOptimizer.calculate_class1_inverse_f1],\n",
    "\t\t\t\t\t[GenericOptimizer.calculate_class0_error, GenericOptimizer.calculate_class1_error],\n",
    "\t\t\t\t]\n",
    "\t\t\t\tpopulations = step_2(\n",
    "\t\t\t\t\tsplits[\"X Train\"], \n",
    "\t\t\t\t\tsplits[\"Y Train\"], \n",
    "\t\t\t\t\tsplits[\"X Validation\"], \n",
    "\t\t\t\t\tsplits[\"Y Validation\"], \n",
    "\t\t\t\t\tprimary_objective, \n",
    "\t\t\t\t\tsecondary_objectives\n",
    "\t\t\t\t)\n",
    "\t\t\t\tprint(f\"\\tStep 2 complete...\")\n",
    "\n",
    "\t\t\t\tall_outcomes = step_3(populations)\n",
    "\t\t\t\tprint(f\"\\tStep 3 complete...\")\n",
    "\n",
    "\t\t\t\tx, y = step_4(all_outcomes)\n",
    "\t\t\t\tprint(f\"\\tStep 4 complete...\")\n",
    "\n",
    "\t\t\t\tmodel = step_5(x, y)\n",
    "\t\t\t\tprint(f\"\\tStep 5 complete...\")\n",
    "\n",
    "\t\t\t\tresult = step_6(\n",
    "\t\t\t\t\tmodel, \n",
    "\t\t\t\t\tsplits[\"X Train\"], \n",
    "\t\t\t\t\tsplits[\"Y Train\"], \n",
    "\t\t\t\t\tsplits[\"X Validation\"], \n",
    "\t\t\t\t\tsplits[\"Y Validation\"], \n",
    "\t\t\t\t)\n",
    "\t\t\t\tprint(f\"\\tStep 6 complete...\")\n",
    "\n",
    "\t\t\t\tbaseline_validation_err, optimized_validation_err, baseline_test_err, optimized_test_err, reduction_rate = benchmark(\n",
    "\t\t\t\t\tresult, \n",
    "\t\t\t\t\tsplits[\"X Train\"], \n",
    "\t\t\t\t\tsplits[\"Y Train\"], \n",
    "\t\t\t\t\tsplits[\"X Test\"], \n",
    "\t\t\t\t\tsplits[\"Y Test\"], \n",
    "\t\t\t\t\tsplits[\"X Validation\"], \n",
    "\t\t\t\t\tsplits[\"Y Validation\"], \n",
    "\t\t\t\t)\n",
    "\t\t\t\tprint(f\"\\tRun complete...\\n\")\n",
    "\n",
    "\t\t\t\twith open(f'runs/{folder}_{_}.pickle', 'wb') as fh:\n",
    "\t\t\t\t\tpickle.dump((baseline_test_err, baseline_validation_err, optimized_test_err, optimized_validation_err), fh)\n",
    "\t\t\texcept Exception as e:\n",
    "\t\t\t\tprint(f\"Error: {e}\")\n",
    "\t\t\t\t\n"
   ]
  },
  {
   "cell_type": "code",
   "execution_count": null,
   "metadata": {},
   "outputs": [],
   "source": []
  },
  {
   "cell_type": "code",
   "execution_count": null,
   "metadata": {},
   "outputs": [],
   "source": []
  }
 ],
 "metadata": {
  "kernelspec": {
   "display_name": "Python 3",
   "language": "python",
   "name": "python3"
  },
  "language_info": {
   "codemirror_mode": {
    "name": "ipython",
    "version": 3
   },
   "file_extension": ".py",
   "mimetype": "text/x-python",
   "name": "python",
   "nbconvert_exporter": "python",
   "pygments_lexer": "ipython3",
   "version": "3.13.2"
  }
 },
 "nbformat": 4,
 "nbformat_minor": 2
}
