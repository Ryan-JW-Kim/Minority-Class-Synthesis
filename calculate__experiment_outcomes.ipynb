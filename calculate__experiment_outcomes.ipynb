{
 "cells": [
  {
   "cell_type": "code",
   "execution_count": 4,
   "metadata": {},
   "outputs": [],
   "source": [
    "import os\n",
    "import numpy as np\n",
    "import pickle\n",
    "from scipy.stats import ranksums\n",
    "from generic_optimizer import *\n",
    "# rng = np.random.default_rng()\n",
    "# sample1 = rng.uniform(-1, 1, 200)\n",
    "# sample2 = rng.uniform(-0.5, 1.5, 300) # a shifted distribution\n",
    "# ranksums(sample1, sample2)\n",
    "# "
   ]
  },
  {
   "cell_type": "code",
   "execution_count": null,
   "metadata": {},
   "outputs": [],
   "source": [
    "baselines = {}\n",
    "\n",
    "for folder in os.listdir('Datasets'):\n",
    "    \n",
    "    data_points = []\n",
    "\n",
    "    x, y, splits = prepare_splits(os.path.join('Datasets', folder, f\"{folder}.csv\"))\n",
    "    for train_idx, test_idx, validation_idx in splits: # 31 splits for Wilcoxon rank-sum\n",
    "\n",
    "        x_train, y_train = x[train_idx], y[train_idx]\n",
    "        x_test, y_test = x[test_idx], y[test_idx]\n",
    "\n",
    "        baseline_test_err = GenericOptimizer.calculate_overall_error(\n",
    "            x_train,\n",
    "            y_train,\n",
    "            x_test,\n",
    "            y_test,\n",
    "            GenericOptimizer.n_neighbours\n",
    "        )\n",
    "\n",
    "        data_points.append(baseline_test_err)\n",
    "    \n",
    "    baselines[folder] = data_points"
   ]
  },
  {
   "cell_type": "code",
   "execution_count": null,
   "metadata": {},
   "outputs": [],
   "source": [
    "calculations = {}\n",
    "calc_path = \"\"\n",
    "for file in os.listdir(calc_path):\n",
    "\n",
    "    with open(os.path.join(calc_path, file), \"rb\") as fh:\n",
    "        data = pickle.load(fh)\n",
    "\n",
    "        # Extract data\n",
    "        over_sample = \n",
    "        init_pop =\n",
    "        dataset = \n",
    "        optimizers =  \n",
    "\n",
    "        key = f\"{over_sample}_{init_pop}_{dataset}_{optimizers}\"\n",
    "        if key in calculations:\n",
    "            calculations[key].append(data)\n",
    "        \n",
    "        else:\n",
    "            calculations[key] = [data]\n",
    "\n",
    "for key in calculations:\n",
    "\n",
    "    optimized_distribution = []\n",
    "\n",
    "    for data in calculations[key]:\n",
    "        optimized_distribution.append(data['Optimized Test Error'])"
   ]
  }
 ],
 "metadata": {
  "kernelspec": {
   "display_name": "Python 3",
   "language": "python",
   "name": "python3"
  },
  "language_info": {
   "codemirror_mode": {
    "name": "ipython",
    "version": 3
   },
   "file_extension": ".py",
   "mimetype": "text/x-python",
   "name": "python",
   "nbconvert_exporter": "python",
   "pygments_lexer": "ipython3",
   "version": "3.11.5"
  }
 },
 "nbformat": 4,
 "nbformat_minor": 2
}
