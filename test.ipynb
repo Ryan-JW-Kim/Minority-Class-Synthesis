{
 "cells": [
  {
   "cell_type": "code",
   "execution_count": 1,
   "metadata": {},
   "outputs": [],
   "source": [
    "import pandas as pd\n",
    "import numpy as np\n",
    "\n",
    "from execution_schemes import *\n",
    "from main import *\n",
    "\n",
    "from src import *\n",
    "datasets = load_datasets()"
   ]
  },
  {
   "cell_type": "code",
   "execution_count": 2,
   "metadata": {},
   "outputs": [],
   "source": [
    "from sklearn.preprocessing import OneHotEncoder, StandardScaler\n",
    "from sklearn.model_selection import train_test_split\n",
    "from sklearn.neighbors import KNeighborsClassifier\n",
    "from sklearn.metrics import accuracy_score, f1_score, recall_score, precision_score\n",
    "from sklearn.compose import ColumnTransformer\n",
    "from sklearn.impute import SimpleImputer\n",
    "from sklearn.pipeline import Pipeline\n",
    "from sklearn.preprocessing import LabelEncoder\n",
    "\n",
    "from pymoo.util.nds.non_dominated_sorting import NonDominatedSorting\n",
    "from pymoo.operators.sampling.rnd import BinaryRandomSampling\n",
    "from pymoo.operators.crossover.hux import HUX\n",
    "from pymoo.algorithms.moo.nsga2 import NSGA2\n",
    "from pymoo.indicators.hv import Hypervolume\n",
    "from pymoo.core.mutation import Mutation\n",
    "from pymoo.core.sampling import Sampling\n",
    "from pymoo.core.problem import Problem\n",
    "from pymoo.optimize import minimize\n",
    "\n",
    "from sklearn.model_selection import StratifiedShuffleSplit\n",
    "\n",
    "from joblib import Parallel, delayed\n",
    "\n",
    "from scipy.stats import ranksums\n",
    "\n",
    "import pickle\n",
    "import os\n",
    "import re\n",
    "\n",
    "import pandas as pd\n",
    "import numpy as np\n",
    "\n",
    "\n"
   ]
  },
  {
   "cell_type": "markdown",
   "metadata": {},
   "source": [
    "# Executions"
   ]
  },
  {
   "cell_type": "code",
   "execution_count": 3,
   "metadata": {},
   "outputs": [],
   "source": [
    "class GenericOptimizer(Problem):\n",
    "\tpopulation_size = 100\n",
    "\tn_neighbours = 5\n",
    "\tsequential = False\n",
    "\tdef __init__(self, X_train, y_train, X_val, y_val, objectives, exec_mode):\n",
    "\t\tself.mutation_history = {}\n",
    "\t\tself.generation_number = 0\n",
    "\n",
    "\t\tself.exec_mode = exec_mode\n",
    "\n",
    "\t\tself.X_train = X_train\n",
    "\t\tself.y_train = y_train\n",
    "\n",
    "\t\tself.X_val = X_val\n",
    "\t\tself.y_val = y_val\n",
    "\n",
    "\t\tself.training_data = X_train\n",
    "\t\tself.n_instances = X_train.shape[0]\n",
    "\t\t\n",
    "\t\tself.objectives = objectives\n",
    "\n",
    "\t\tsuper().__init__(\n",
    "\t\t\tn_var=self.n_instances,\n",
    "\t\t\tn_obj=len(objectives),               \n",
    "\t\t\tn_constr=0,            \n",
    "\t\t\txl=0,                  \n",
    "\t\t\txu=1,                  \n",
    "\t\t\ttype_var=np.bool_,     \n",
    "\t\t)\n",
    "\n",
    "\tdef _evaluate(self, x, out, *args, **kwargs):\n",
    "\t\t\n",
    "\t\tif self.exec_mode == \"sequential\":\n",
    "\t\t\tmetrics = []\n",
    "\t\t\tfor objective in self.objectives:\n",
    "\t\t\t\tmetrics.append(self.eval_objective((objective, x)))\n",
    "\t\telse:\n",
    "\t\t\tmetrics = Parallel(n_jobs=-1)(delayed(self.eval_objective)((objective, x)) for objective in self.objectives)\n",
    "\t\t\n",
    "\t\tself.generation_number += 1\n",
    "\n",
    "\t\tout[\"F\"] = np.column_stack(metrics)\n",
    "\n",
    "\tdef eval_objective(self, pack):\n",
    "\t\tobjective, x = pack\n",
    "\t\t\t\n",
    "\t\tif \"calculate_num_examples\" in repr(objective):\n",
    "\t\t\treturn GenericOptimizer.calculate_num_examples(x)\n",
    "\n",
    "\t\telif \"calculate_IR\" in repr(objective):\n",
    "\t\t\tvals = []\n",
    "\t\t\tfor instance in x:\n",
    "\t\t\t\tvals.append(GenericOptimizer.calculate_IR(self.y_train[instance]))\n",
    "\t\t\treturn vals\n",
    "\t\t\n",
    "\t\telse:\n",
    "\t\t\tvals = []\n",
    "\t\t\tfor instance in x:\n",
    "\t\t\t\tvals.append(objective(\n",
    "\t\t\t\t\tself.X_train[instance],\n",
    "\t\t\t\t\tself.y_train[instance],\n",
    "\t\t\t\t\tself.X_val,\n",
    "\t\t\t\t\tself.y_val,\n",
    "\t\t\t\t\tGenericOptimizer.n_neighbours\n",
    "\t\t\t\t))\n",
    "\t\t\treturn vals\n",
    "\n",
    "\t@classmethod\n",
    "\tdef calculate_IR(cls, y):\n",
    "\t\tdf = pd.DataFrame(y).value_counts()\n",
    "\t\treturn (df[1]/df[0]) if df.min() == 0 else (df[0]/df[1])\n",
    "\t\n",
    "\t@classmethod\n",
    "\tdef filter_by_class(cls, x, y, label):\n",
    "\t\tindices = np.where(y==label)\n",
    "\t\treturn x[indices], y[indices]\n",
    "\t\n",
    "\t@classmethod\n",
    "\tdef calculate_overall_error(cls, x_train, y_train, x_val, y_val, n):\n",
    "\t\t\t\t\n",
    "\t\tnum_included_instances = x_train.shape[0]\n",
    "\n",
    "\t\tif num_included_instances >= n:\n",
    "\t\t\toptimization_knn = KNeighborsClassifier(n_neighbors=n)\n",
    "\t\t\toptimization_knn.fit(x_train, y_train)\n",
    "\n",
    "\t\t\ty_pred = optimization_knn.predict(x_val)\n",
    "\t\t\tacc = accuracy_score(y_val, y_pred)\n",
    "\t\t\treturn 1-acc\n",
    "\t\telse:\n",
    "\t\t\treturn 1\n",
    "\n",
    "\t@classmethod\n",
    "\tdef calculate_class0_error(cls, x_train, y_train, x_val, y_val, n):\n",
    "\t\tclass0_x_train, class0_y_train = cls.filter_by_class(x_train, y_train, 0)\n",
    "\t\terr = cls.calculate_overall_error(\n",
    "\t\t\tclass0_x_train,\n",
    "\t\t\tclass0_y_train,\n",
    "\t\t\tx_val,\n",
    "\t\t\ty_val,\n",
    "\t\t\tn\n",
    "\t\t)\n",
    "\t\treturn err\n",
    "\n",
    "\t@classmethod\n",
    "\tdef calculate_class1_error(cls, x_train, y_train, x_val, y_val, n):\n",
    "\t\tclass0_x_train, class0_y_train = cls.filter_by_class(x_train, y_train, 1)\n",
    "\t\terr = cls.calculate_overall_error(\n",
    "\t\t\tclass0_x_train,\n",
    "\t\t\tclass0_y_train,\n",
    "\t\t\tx_val,\n",
    "\t\t\ty_val,\n",
    "\t\t\tn\n",
    "\t\t)\n",
    "\t\treturn err\n",
    "\n",
    "\t@classmethod\n",
    "\tdef calculate_overall_inverse_f1(cls, x_train, y_train, x_val, y_val, n):\n",
    "\t\t\t\t\n",
    "\t\tnum_included_instances = x_train.shape[0]\n",
    "\t\tcounts = pd.DataFrame(y_train).value_counts()\n",
    "\t\tif num_included_instances >= n:\n",
    "\t\t\toptimization_knn = KNeighborsClassifier(n_neighbors=n)\n",
    "\t\t\toptimization_knn.fit(x_train, y_train)\n",
    "\n",
    "\t\t\ty_pred = optimization_knn.predict(x_val)\n",
    "\t\t\tf1 = f1_score(y_val, y_pred, average='weighted')\n",
    "\t\t\treturn 1-f1\n",
    "\t\telse:\n",
    "\t\t\treturn 1\n",
    "\n",
    "\t@classmethod\n",
    "\tdef calculate_class0_inverse_f1(cls, x_train, y_train, x_val, y_val, n):\n",
    "\t\tclass0_x_train, class0_y_train = cls.filter_by_class(x_train, y_train, 0)\n",
    "\t\tinv_f1 = cls.calculate_overall_inverse_f1(\n",
    "\t\t\tclass0_x_train,\n",
    "\t\t\tclass0_y_train,\n",
    "\t\t\tx_val,\n",
    "\t\t\ty_val,\n",
    "\t\t\tn\n",
    "\t\t)\n",
    "\t\treturn inv_f1\n",
    "\n",
    "\t@classmethod\n",
    "\tdef calculate_class1_inverse_f1(cls, x_train, y_train, x_val, y_val, n):\n",
    "\t\tclass0_x_train, class0_y_train = cls.filter_by_class(x_train, y_train, 1)\n",
    "\t\tinv_f1 = cls.calculate_overall_inverse_f1(\n",
    "\t\t\tclass0_x_train,\n",
    "\t\t\tclass0_y_train,\n",
    "\t\t\tx_val,\n",
    "\t\t\ty_val,\n",
    "\t\t\tn\n",
    "\t\t)\n",
    "\t\treturn inv_f1\n",
    "\t\n",
    "\t@classmethod\n",
    "\tdef calculate_overall_inverse_precision(cls, x_train, y_train, x_val, y_val, n):\n",
    "\t\t\t\t\n",
    "\t\tnum_included_instances = x_train.shape[0]\n",
    "\n",
    "\t\tif num_included_instances >= n:\n",
    "\t\t\toptimization_knn = KNeighborsClassifier(n_neighbors=n)\n",
    "\t\t\toptimization_knn.fit(x_train, y_train)\n",
    "\n",
    "\t\t\ty_pred = optimization_knn.predict(x_val)\n",
    "\t\t\tprec = precision_score(y_val, y_pred)\n",
    "\t\t\treturn 1-prec\n",
    "\t\telse:\n",
    "\t\t\treturn 1\n",
    "\n",
    "\t@classmethod\n",
    "\tdef calculate_class0_inverse_precision(cls, x_train, y_train, x_val, y_val, n):\n",
    "\t\tclass0_x_train, class0_y_train = cls.filter_by_class(x_train, y_train, 0)\n",
    "\t\tinv_prec = cls.calculate_overall_inverse_precision(\n",
    "\t\t\tclass0_x_train,\n",
    "\t\t\tclass0_y_train,\n",
    "\t\t\tx_val,\n",
    "\t\t\ty_val,\n",
    "\t\t\tn\n",
    "\t\t)\n",
    "\t\treturn inv_prec\n",
    "\n",
    "\t@classmethod\n",
    "\tdef calculate_class1_inverse_precision(cls, x_train, y_train, x_val, y_val, n):\n",
    "\t\tclass0_x_train, class0_y_train = cls.filter_by_class(x_train, y_train, 1)\n",
    "\t\tinv_prec = cls.calculate_overall_inverse_precision(\n",
    "\t\t\tclass0_x_train,\n",
    "\t\t\tclass0_y_train,\n",
    "\t\t\tx_val,\n",
    "\t\t\ty_val,\n",
    "\t\t\tn\n",
    "\t\t)\n",
    "\t\treturn inv_prec\n",
    "\t\t\n",
    "\t@classmethod\n",
    "\tdef calculate_overall_inverse_recall(cls, x_train, y_train, x_val, y_val, n):\n",
    "\t\t\t\t\n",
    "\t\tnum_included_instances = x_train.shape[0]\n",
    "\n",
    "\t\tif num_included_instances >= n:\n",
    "\t\t\toptimization_knn = KNeighborsClassifier(n_neighbors=n)\n",
    "\t\t\toptimization_knn.fit(x_train, y_train)\n",
    "\n",
    "\t\t\ty_pred = optimization_knn.predict(x_val)\n",
    "\t\t\trecall = recall_score(y_val, y_pred)\n",
    "\t\t\treturn 1-recall\n",
    "\t\telse:\n",
    "\t\t\treturn 1\n",
    "\n",
    "\t@classmethod\n",
    "\tdef calculate_class0_inverse_recall(cls, x_train, y_train, x_val, y_val, n):\n",
    "\t\tclass0_x_train, class0_y_train = cls.filter_by_class(x_train, y_train, 0)\n",
    "\t\tinv_recall = cls.calculate_overall_inverse_recall(\n",
    "\t\t\tclass0_x_train,\n",
    "\t\t\tclass0_y_train,\n",
    "\t\t\tx_val,\n",
    "\t\t\ty_val,\n",
    "\t\t\tn\n",
    "\t\t)\n",
    "\t\treturn inv_recall\n",
    "\n",
    "\t@classmethod\n",
    "\tdef calculate_class1_inverse_recall(cls, x_train, y_train, x_val, y_val, n):\n",
    "\t\tclass0_x_train, class0_y_train = cls.filter_by_class(x_train, y_train, 1)\n",
    "\t\tinv_recall = cls.calculate_overall_inverse_recall(\n",
    "\t\t\tclass0_x_train,\n",
    "\t\t\tclass0_y_train,\n",
    "\t\t\tx_val,\n",
    "\t\t\ty_val,\n",
    "\t\t\tn\n",
    "\t\t)\n",
    "\t\treturn inv_recall\n",
    "\t\n",
    "\t@classmethod\n",
    "\tdef calculate_num_examples(cls, instances):\n",
    "\t\treturn np.sum(instances, axis=1)\n",
    "\n",
    "\t@classmethod\n",
    "\tdef quantify_performance(cls, population, objectives, x_train, y_train, x_validation, y_validation, x_test, y_test):\n",
    "\t\tpass\n",
    "\n",
    "\t@classmethod\n",
    "\tdef unbound_eval_objectives(cls, objective, instances, x_train, y_train, x_validation, y_validation):\n",
    "\t\tif \"calculate_num_examples\" in repr(objective):\n",
    "\t\t\treturn GenericOptimizer.calculate_num_examples(instances)\n",
    "\n",
    "\t\telif \"calculate_IR\" in repr(objective):\n",
    "\t\t\tvals = []\n",
    "\t\t\tfor instance in instances:\n",
    "\t\t\t\tvals.append(GenericOptimizer.calculate_IR(y_train[instance]))\n",
    "\t\t\treturn vals\n",
    "\t\t\n",
    "\t\telse:\n",
    "\t\t\tvals = []\n",
    "\t\t\tfor instance in instances:\n",
    "\t\t\t\tvals.append(objective(\n",
    "\t\t\t\t\tx_train[instance],\n",
    "\t\t\t\t\ty_train[instance],\n",
    "\t\t\t\t\tx_validation,\n",
    "\t\t\t\t\ty_validation,\n",
    "\t\t\t\t\tGenericOptimizer.n_neighbours\n",
    "\t\t\t\t))\n",
    "\t\t\treturn vals\n",
    "\t\t\n",
    "\t@classmethod\n",
    "\tdef calculate_optimal_instance(cls, x_train, y_train, x_val, y_val, metrics, population, n):\n",
    "\n",
    "\t\tfronts = NonDominatedSorting().do(metrics, only_non_dominated_front=True)\n",
    "\t\t_, pareto_indicies = np.unique(metrics[fronts], axis=0, return_index=True)\n",
    "\n",
    "\t\tbest_acc = 0\n",
    "\t\tbest_instance = None\n",
    "\t\tfor idx, instance in enumerate(population[pareto_indicies]):\n",
    "\t\t\tx_filtered, y_filtered = x_train[instance], y_train[instance]\n",
    "\t\t\tif x_filtered.shape[0] < n: \n",
    "\t\t\t\tacc = 0\n",
    "\t\t\telse:\n",
    "\t\t\t\tknn = KNeighborsClassifier(n_neighbors=n)\n",
    "\t\t\t\tknn.fit(x_filtered, y_filtered)\n",
    "\t\t\t\ty_pred = knn.predict(x_val)\n",
    "\t\t\t\tacc = accuracy_score(y_val, y_pred)\n",
    "\t\t\t\n",
    "\t\t\t\tif acc > best_acc:\n",
    "\t\t\t\t\tbest_acc = acc\n",
    "\t\t\t\t\tbest_instance = instance\n",
    "\t\t\t\t\n",
    "\t\treturn pareto_indicies, x_train[best_instance], y_train[best_instance]\n",
    "\t  \n",
    "class BiasedBinarySampling(Sampling):\n",
    "\tdef __init__(self, labels, major_prob, minor_prob):\n",
    "\t\t\n",
    "\t\tself.labels = labels\n",
    "\t\tcounts = pd.DataFrame(labels).value_counts()\n",
    "\t\tif counts[0] > counts[1]:\n",
    "\t\t\tself.c0_thresh = major_prob\n",
    "\t\t\tself.c1_thresh = minor_prob\n",
    "\t\telse:\n",
    "\t\t\tself.c0_thresh = minor_prob\n",
    "\t\t\tself.c1_thresh = major_prob\n",
    "\n",
    "\t\tsuper().__init__()\n",
    "\n",
    "\tdef _do(self, problem, n_samples, **kwargs):\n",
    "\n",
    "\t\trands = np.random.random((n_samples, problem.n_var))\n",
    "\t\tinit_pops = np.zeros((n_samples, problem.n_var), dtype=bool)\n",
    "\t\tfor idx, label in enumerate(self.labels):\n",
    "\t\t\tif label == 0:\n",
    "\t\t\t\tinit_pops[:, idx] = (rands[:, idx] < self.c0_thresh).astype(bool)\n",
    "\t\t\tif label == 1:\n",
    "\t\t\t\tinit_pops[:, idx] = (rands[:, idx] < self.c1_thresh).astype(bool)\n",
    "\n",
    "\n",
    "\t\treturn init_pops\n",
    "\t\n",
    "def prepare_splits(x, y):\n",
    "\ttrain_split = StratifiedShuffleSplit(\n",
    "\t\tn_splits=31, \n",
    "\t\ttest_size=0.5\n",
    "\t)\n",
    "\tsplits = []\n",
    "\tfor train_idx, temp_idx in train_split.split(x, y):\n",
    "\t\ttest_split = StratifiedShuffleSplit(\n",
    "\t\t\tn_splits=1, \n",
    "\t\t\ttest_size=0.5\n",
    "\t\t)\n",
    "\t\ttest_idx, validation_idx = next(test_split.split(x[temp_idx], y[temp_idx]))\n",
    "\n",
    "\t\tvalidation_idx = temp_idx[validation_idx]\n",
    "\t\ttest_idx = temp_idx[test_idx]\n",
    "\t\t\n",
    "\t\tsplits.append((train_idx, validation_idx, test_idx))\n",
    "\treturn splits\n",
    "\n",
    "def create_preprocessor_pipeline(variables):\n",
    "\t\n",
    "\ttype_mappings = {}\n",
    "\tfor variable_idx, variable_name in enumerate(variables['name']):\n",
    "\t\tvariable_type = variables['type'][variable_idx]\n",
    "\t\tif variable_type not in type_mappings:\n",
    "\t\t\ttype_mappings[variable_type] = []\n",
    "\n",
    "\t\tif variables['role'][variable_idx] == 'Feature':\n",
    "\t\t\ttype_mappings[variable_type].append(variable_name)\n",
    "\n",
    "\tcategorical_transformer = Pipeline(steps=[\n",
    "\t\t('imputer', SimpleImputer(strategy='most_frequent')),\n",
    "\t\t('onehot', OneHotEncoder(handle_unknown='ignore'))\n",
    "\t])\n",
    "\tnumerical_transformer = Pipeline(steps=[\n",
    "\t\t('imputer', SimpleImputer(strategy='mean')),\n",
    "\t\t('scaler', StandardScaler())\n",
    "\t])\n",
    "\n",
    "\tnumerical_features = []\n",
    "\tif 'Continuous' in type_mappings:\n",
    "\t\tfor feature in type_mappings['Continuous']:\n",
    "\t\t\tnumerical_features.append(feature)\n",
    "\tif 'Integer' in type_mappings:\n",
    "\t\tfor feature in type_mappings['Integer']:\n",
    "\t\t\tnumerical_features.append(feature)\n",
    "\t\t\t\n",
    "\ttransformer_steps = []\n",
    "\tif numerical_features != []:\n",
    "\t\ttransformer_steps.append(\n",
    "\t\t\t('num', numerical_transformer, numerical_features)\n",
    "\t\t)\n",
    "\tif 'Categorical' in type_mappings:\n",
    "\t\ttransformer_steps.append(\n",
    "\t\t\t('cat', categorical_transformer, type_mappings['Categorical'])\n",
    "\t\t)\n",
    "\tpreprocessor = ColumnTransformer(\n",
    "\t\ttransformers=transformer_steps\n",
    "\t)\n",
    "\tpipeline = Pipeline(steps=[\n",
    "\t\t('preprocessor', preprocessor)\n",
    "\t])\n",
    "\t\n",
    "\treturn pipeline\n",
    "\n",
    "def over_sample(x, y):\n",
    "\tcounts = pd.DataFrame(y).value_counts()\n",
    "\tminority_class_label = counts.index[np.argmin(counts)][0]\n",
    "\tminority_class_indicies = np.where(y == minority_class_label)[0]\n",
    "\t# y = y.reshape(-1, 1)\n",
    "\tover_sampled_x = np.concatenate((x, x[minority_class_indicies]), axis=0)\n",
    "\tover_sampled_y = np.concatenate((y, y[minority_class_indicies]), axis=0)\n",
    "\t# over_sampled_y = over_sampled_y.reshape(-1)    \n",
    "\treturn over_sampled_x, over_sampled_y\n",
    "\n",
    "def overSample_randPop_execute(package):\n",
    "\tx, y, train_idx, validation_idx, test_idx, objectives, run_name = package\n",
    "\n",
    "\tif os.path.exists(os.path.join(\"results\", f\"{run_name}.pickle\")):\n",
    "\t\treturn run_name\n",
    "\t\n",
    "\tx_train, y_train = x[train_idx], y[train_idx]\n",
    "\tx_validation, y_validation = x[validation_idx], y[validation_idx]\n",
    "\tx_train, y_train = over_sample(\n",
    "\t\tx_train, \n",
    "\t\ty_train\n",
    "\t)\n",
    "\tproblem = GenericOptimizer(\n",
    "\t\tx_train, \n",
    "\t\ty_train, \n",
    "\t\tx_validation, \n",
    "\t\ty_validation,\n",
    "\t\tobjectives,\n",
    "\t\t\"sequential\"\n",
    "\t)\t# BiasedBinarySampling(y_train, 0.5, 0.7)\n",
    "\talgorithm = NSGA2(\n",
    "\t\tpop_size=GenericOptimizer.population_size, \n",
    "\t\tsampling=BinaryRandomSampling(), \n",
    "\t\tcrossover=HUX(), \n",
    "\t\tmutation=BitflipMutation(), \n",
    "\t\teliminate_duplicates=True,\n",
    "\t)\n",
    "\tresult = minimize(\n",
    "\t\tproblem, \n",
    "\t\talgorithm, \n",
    "\t\t('n_gen', GenericOptimizer.population_size),\n",
    "\t\tsave_history=False\n",
    "\t)\n",
    "\tpackage = {\n",
    "\t\t\"name\": run_name,\n",
    "\t\t\"train\": train_idx,\n",
    "\t\t\"validation\": validation_idx,\n",
    "\t\t\"test\": test_idx,\n",
    "\t\t\"result\": result\n",
    "\t}\n",
    "\treturn package\n",
    "\n",
    "def regularSample_randPop_execute(package):\n",
    "\tx, y, train_idx, validation_idx, test_idx, objectives, run_name = package\n",
    "\n",
    "\tif os.path.exists(os.path.join(\"results\", f\"{run_name}.pickle\")):\n",
    "\t\treturn run_name\n",
    "\n",
    "\tx_train, y_train = x[train_idx], y[train_idx]\n",
    "\tx_validation, y_validation = x[validation_idx], y[validation_idx]\n",
    "\tproblem = GenericOptimizer(\n",
    "\t\tx_train, \n",
    "\t\ty_train, \n",
    "\t\tx_validation, \n",
    "\t\ty_validation,\n",
    "\t\tobjectives,\n",
    "\t\t\"sequential\"\n",
    "\t)\t# BiasedBinarySampling(y_train, 0.5, 0.7)\n",
    "\talgorithm = NSGA2(\n",
    "\t\tpop_size=GenericOptimizer.population_size, \n",
    "\t\tsampling=BinaryRandomSampling(), \n",
    "\t\tcrossover=HUX(), \n",
    "\t\tmutation=BitflipMutation(), \n",
    "\t\teliminate_duplicates=True,\n",
    "\t)\n",
    "\tresult = minimize(\n",
    "\t\tproblem, \n",
    "\t\talgorithm, \n",
    "\t\t('n_gen', GenericOptimizer.population_size),\n",
    "\t\tsave_history=False\n",
    "\t)\n",
    "\tpackage = {\n",
    "\t\t\"name\": run_name,\n",
    "\t\t\"train\": train_idx,\n",
    "\t\t\"validation\": validation_idx,\n",
    "\t\t\"test\": test_idx,\n",
    "\t\t\"result\": result\n",
    "\t}\n",
    "\treturn package\n",
    "\n",
    "def overSample_biasPop_execute(package):\n",
    "\tx, y, train_idx, validation_idx, test_idx, objectives, run_name = package\n",
    "\n",
    "\tif os.path.exists(os.path.join(\"results\", f\"{run_name}.pickle\")):\n",
    "\t\treturn run_name\n",
    "\n",
    "\tx_train, y_train = x[train_idx], y[train_idx]\n",
    "\tx_validation, y_validation = x[validation_idx], y[validation_idx]\n",
    "\tx_train, y_train = over_sample(\n",
    "\t\tx_train, \n",
    "\t\ty_train\n",
    "\t)\n",
    "\tproblem = GenericOptimizer(\n",
    "\t\tx_train, \n",
    "\t\ty_train, \n",
    "\t\tx_validation, \n",
    "\t\ty_validation,\n",
    "\t\tobjectives,\n",
    "\t\t\"sequential\"\n",
    "\t)\n",
    "\talgorithm = NSGA2(\n",
    "\t\tpop_size=GenericOptimizer.population_size, \n",
    "\t\tsampling=BiasedBinarySampling(y_train, 0.5, 0.7), \n",
    "\t\tcrossover=HUX(), \n",
    "\t\tmutation=BitflipMutation(), \n",
    "\t\teliminate_duplicates=True,\n",
    "\t)\n",
    "\tresult = minimize(\n",
    "\t\tproblem, \n",
    "\t\talgorithm, \n",
    "\t\t('n_gen', GenericOptimizer.population_size),\n",
    "\t\tsave_history=False\n",
    "\t)\n",
    "\tpackage = {\n",
    "\t\t\"name\": run_name,\n",
    "\t\t\"train\": train_idx,\n",
    "\t\t\"validation\": validation_idx,\n",
    "\t\t\"test\": test_idx,\n",
    "\t\t\"result\": result\n",
    "\t}\n",
    "\treturn package\n",
    "\n",
    "def regularSample_biasPop_execute(package):\n",
    "\tx, y, train_idx, validation_idx, test_idx, objectives, run_name = package\n",
    "\n",
    "\tif os.path.exists(os.path.join(\"results\", f\"{run_name}.pickle\")):\n",
    "\t\treturn run_name\n",
    "\t\n",
    "\tx_train, y_train = x[train_idx], y[train_idx]\n",
    "\tx_validation, y_validation = x[validation_idx], y[validation_idx]\n",
    "\tproblem = GenericOptimizer(\n",
    "\t\tx_train, \n",
    "\t\ty_train, \n",
    "\t\tx_validation, \n",
    "\t\ty_validation,\n",
    "\t\tobjectives,\n",
    "\t\t\"sequential\"\n",
    "\t)\t# BiasedBinarySampling(y_train, 0.5, 0.7)\n",
    "\talgorithm = NSGA2(\n",
    "\t\tpop_size=GenericOptimizer.population_size, \n",
    "\t\tsampling=BiasedBinarySampling(y_train, 0.5, 0.7), \n",
    "\t\tcrossover=HUX(), \n",
    "\t\tmutation=BitflipMutation(), \n",
    "\t\teliminate_duplicates=True,\n",
    "\t)\n",
    "\tresult = minimize(\n",
    "\t\tproblem, \n",
    "\t\talgorithm, \n",
    "\t\t('n_gen', GenericOptimizer.population_size),\n",
    "\t\tsave_history=False\n",
    "\t)\n",
    "\tpackage = {\n",
    "\t\t\"name\": run_name,\n",
    "\t\t\"train\": train_idx,\n",
    "\t\t\"validation\": validation_idx,\n",
    "\t\t\"test\": test_idx,\n",
    "\t\t\"result\": result\n",
    "\t}\n",
    "\treturn package\n",
    "\n",
    "objectives_sets = evaluation_schemes = [\n",
    "\t[GenericOptimizer.calculate_overall_error, GenericOptimizer.calculate_num_examples],\n",
    "\t[GenericOptimizer.calculate_overall_error, GenericOptimizer.calculate_overall_inverse_f1, GenericOptimizer.calculate_num_examples],\n",
    "\t[GenericOptimizer.calculate_class0_error, GenericOptimizer.calculate_class1_error],\n",
    "]"
   ]
  },
  {
   "cell_type": "code",
   "execution_count": 21,
   "metadata": {},
   "outputs": [
    {
     "name": "stderr",
     "output_type": "stream",
     "text": [
      "e:\\Code\\3_13_venv\\Lib\\site-packages\\sklearn\\preprocessing\\_label.py:110: DataConversionWarning: A column-vector y was passed when a 1d array was expected. Please change the shape of y to (n_samples, ), for example using ravel().\n",
      "  y = column_or_1d(y, warn=True)\n"
     ]
    },
    {
     "name": "stdout",
     "output_type": "stream",
     "text": [
      "Passed on: 0_ionosphere calculate_overall_error_calculate_num_examples overSample_randPop\n",
      "Passed on: 0_ionosphere calculate_overall_error_calculate_overall_inverse_f1_calculate_num_examples overSample_randPop\n",
      "Passed on: 0_ionosphere calculate_class0_error_calculate_class1_error overSample_randPop\n",
      "Passed on: 1_ionosphere calculate_overall_error_calculate_num_examples overSample_randPop\n",
      "Passed on: 1_ionosphere calculate_overall_error_calculate_overall_inverse_f1_calculate_num_examples overSample_randPop\n",
      "Passed on: 1_ionosphere calculate_class0_error_calculate_class1_error overSample_randPop\n",
      "Passed on: 2_ionosphere calculate_overall_error_calculate_num_examples overSample_randPop\n",
      "Passed on: 2_ionosphere calculate_overall_error_calculate_overall_inverse_f1_calculate_num_examples overSample_randPop\n",
      "Passed on: 2_ionosphere calculate_class0_error_calculate_class1_error overSample_randPop\n",
      "Passed on: 3_ionosphere calculate_overall_error_calculate_num_examples overSample_randPop\n",
      "Passed on: 3_ionosphere calculate_overall_error_calculate_overall_inverse_f1_calculate_num_examples overSample_randPop\n",
      "Passed on: 3_ionosphere calculate_class0_error_calculate_class1_error overSample_randPop\n",
      "Passed on: 4_ionosphere calculate_overall_error_calculate_num_examples overSample_randPop\n",
      "Passed on: 4_ionosphere calculate_overall_error_calculate_overall_inverse_f1_calculate_num_examples overSample_randPop\n",
      "Passed on: 4_ionosphere calculate_class0_error_calculate_class1_error overSample_randPop\n",
      "Passed on: 5_ionosphere calculate_overall_error_calculate_num_examples overSample_randPop\n",
      "Passed on: 5_ionosphere calculate_overall_error_calculate_overall_inverse_f1_calculate_num_examples overSample_randPop\n",
      "Passed on: 5_ionosphere calculate_class0_error_calculate_class1_error overSample_randPop\n",
      "Passed on: 6_ionosphere calculate_overall_error_calculate_num_examples overSample_randPop\n",
      "Passed on: 6_ionosphere calculate_overall_error_calculate_overall_inverse_f1_calculate_num_examples overSample_randPop\n",
      "Passed on: 6_ionosphere calculate_class0_error_calculate_class1_error overSample_randPop\n",
      "Passed on: 7_ionosphere calculate_overall_error_calculate_num_examples overSample_randPop\n",
      "Passed on: 7_ionosphere calculate_overall_error_calculate_overall_inverse_f1_calculate_num_examples overSample_randPop\n",
      "Passed on: 7_ionosphere calculate_class0_error_calculate_class1_error overSample_randPop\n",
      "Passed on: 8_ionosphere calculate_overall_error_calculate_num_examples overSample_randPop\n",
      "Passed on: 8_ionosphere calculate_overall_error_calculate_overall_inverse_f1_calculate_num_examples overSample_randPop\n",
      "Passed on: 8_ionosphere calculate_class0_error_calculate_class1_error overSample_randPop\n",
      "Passed on: 9_ionosphere calculate_overall_error_calculate_num_examples overSample_randPop\n",
      "Passed on: 9_ionosphere calculate_overall_error_calculate_overall_inverse_f1_calculate_num_examples overSample_randPop\n",
      "Passed on: 9_ionosphere calculate_class0_error_calculate_class1_error overSample_randPop\n",
      "Passed on: 10_ionosphere calculate_overall_error_calculate_num_examples overSample_randPop\n",
      "Passed on: 10_ionosphere calculate_overall_error_calculate_overall_inverse_f1_calculate_num_examples overSample_randPop\n",
      "Passed on: 10_ionosphere calculate_class0_error_calculate_class1_error overSample_randPop\n",
      "Passed on: 11_ionosphere calculate_overall_error_calculate_num_examples overSample_randPop\n",
      "Passed on: 11_ionosphere calculate_overall_error_calculate_overall_inverse_f1_calculate_num_examples overSample_randPop\n",
      "Passed on: 11_ionosphere calculate_class0_error_calculate_class1_error overSample_randPop\n",
      "Passed on: 12_ionosphere calculate_overall_error_calculate_num_examples overSample_randPop\n",
      "Passed on: 12_ionosphere calculate_overall_error_calculate_overall_inverse_f1_calculate_num_examples overSample_randPop\n",
      "Passed on: 12_ionosphere calculate_class0_error_calculate_class1_error overSample_randPop\n",
      "Passed on: 13_ionosphere calculate_overall_error_calculate_num_examples overSample_randPop\n",
      "Passed on: 13_ionosphere calculate_overall_error_calculate_overall_inverse_f1_calculate_num_examples overSample_randPop\n",
      "Passed on: 13_ionosphere calculate_class0_error_calculate_class1_error overSample_randPop\n",
      "Passed on: 14_ionosphere calculate_overall_error_calculate_num_examples overSample_randPop\n",
      "Passed on: 14_ionosphere calculate_overall_error_calculate_overall_inverse_f1_calculate_num_examples overSample_randPop\n",
      "Passed on: 14_ionosphere calculate_class0_error_calculate_class1_error overSample_randPop\n",
      "Passed on: 15_ionosphere calculate_overall_error_calculate_num_examples overSample_randPop\n",
      "Passed on: 15_ionosphere calculate_overall_error_calculate_overall_inverse_f1_calculate_num_examples overSample_randPop\n",
      "Passed on: 15_ionosphere calculate_class0_error_calculate_class1_error overSample_randPop\n",
      "Passed on: 16_ionosphere calculate_overall_error_calculate_num_examples overSample_randPop\n",
      "Passed on: 16_ionosphere calculate_overall_error_calculate_overall_inverse_f1_calculate_num_examples overSample_randPop\n",
      "Passed on: 16_ionosphere calculate_class0_error_calculate_class1_error overSample_randPop\n",
      "Passed on: 17_ionosphere calculate_overall_error_calculate_num_examples overSample_randPop\n",
      "Passed on: 17_ionosphere calculate_overall_error_calculate_overall_inverse_f1_calculate_num_examples overSample_randPop\n",
      "Passed on: 17_ionosphere calculate_class0_error_calculate_class1_error overSample_randPop\n",
      "Passed on: 18_ionosphere calculate_overall_error_calculate_num_examples overSample_randPop\n",
      "Passed on: 18_ionosphere calculate_overall_error_calculate_overall_inverse_f1_calculate_num_examples overSample_randPop\n",
      "Passed on: 18_ionosphere calculate_class0_error_calculate_class1_error overSample_randPop\n",
      "Passed on: 19_ionosphere calculate_overall_error_calculate_num_examples overSample_randPop\n",
      "Passed on: 19_ionosphere calculate_overall_error_calculate_overall_inverse_f1_calculate_num_examples overSample_randPop\n",
      "Passed on: 19_ionosphere calculate_class0_error_calculate_class1_error overSample_randPop\n",
      "Passed on: 20_ionosphere calculate_overall_error_calculate_num_examples overSample_randPop\n",
      "Passed on: 20_ionosphere calculate_overall_error_calculate_overall_inverse_f1_calculate_num_examples overSample_randPop\n",
      "Passed on: 20_ionosphere calculate_class0_error_calculate_class1_error overSample_randPop\n",
      "Passed on: 21_ionosphere calculate_overall_error_calculate_num_examples overSample_randPop\n",
      "Passed on: 21_ionosphere calculate_overall_error_calculate_overall_inverse_f1_calculate_num_examples overSample_randPop\n",
      "Passed on: 21_ionosphere calculate_class0_error_calculate_class1_error overSample_randPop\n",
      "Passed on: 22_ionosphere calculate_overall_error_calculate_num_examples overSample_randPop\n",
      "Passed on: 22_ionosphere calculate_overall_error_calculate_overall_inverse_f1_calculate_num_examples overSample_randPop\n",
      "Passed on: 22_ionosphere calculate_class0_error_calculate_class1_error overSample_randPop\n",
      "Passed on: 23_ionosphere calculate_overall_error_calculate_num_examples overSample_randPop\n",
      "Passed on: 23_ionosphere calculate_overall_error_calculate_overall_inverse_f1_calculate_num_examples overSample_randPop\n",
      "Passed on: 23_ionosphere calculate_class0_error_calculate_class1_error overSample_randPop\n",
      "Passed on: 24_ionosphere calculate_overall_error_calculate_num_examples overSample_randPop\n",
      "Passed on: 24_ionosphere calculate_overall_error_calculate_overall_inverse_f1_calculate_num_examples overSample_randPop\n",
      "Passed on: 24_ionosphere calculate_class0_error_calculate_class1_error overSample_randPop\n",
      "Passed on: 25_ionosphere calculate_overall_error_calculate_num_examples overSample_randPop\n",
      "Passed on: 25_ionosphere calculate_overall_error_calculate_overall_inverse_f1_calculate_num_examples overSample_randPop\n",
      "Passed on: 25_ionosphere calculate_class0_error_calculate_class1_error overSample_randPop\n",
      "Passed on: 26_ionosphere calculate_overall_error_calculate_num_examples overSample_randPop\n",
      "Passed on: 26_ionosphere calculate_overall_error_calculate_overall_inverse_f1_calculate_num_examples overSample_randPop\n",
      "Passed on: 26_ionosphere calculate_class0_error_calculate_class1_error overSample_randPop\n",
      "Passed on: 27_ionosphere calculate_overall_error_calculate_num_examples overSample_randPop\n",
      "Passed on: 27_ionosphere calculate_overall_error_calculate_overall_inverse_f1_calculate_num_examples overSample_randPop\n",
      "Passed on: 27_ionosphere calculate_class0_error_calculate_class1_error overSample_randPop\n",
      "Passed on: 28_ionosphere calculate_overall_error_calculate_num_examples overSample_randPop\n",
      "Passed on: 28_ionosphere calculate_overall_error_calculate_overall_inverse_f1_calculate_num_examples overSample_randPop\n",
      "Passed on: 28_ionosphere calculate_class0_error_calculate_class1_error overSample_randPop\n",
      "Passed on: 29_ionosphere calculate_overall_error_calculate_num_examples overSample_randPop\n",
      "Passed on: 29_ionosphere calculate_overall_error_calculate_overall_inverse_f1_calculate_num_examples overSample_randPop\n",
      "Passed on: 29_ionosphere calculate_class0_error_calculate_class1_error overSample_randPop\n",
      "Passed on: 30_ionosphere calculate_overall_error_calculate_num_examples overSample_randPop\n",
      "Passed on: 30_ionosphere calculate_overall_error_calculate_overall_inverse_f1_calculate_num_examples overSample_randPop\n",
      "Passed on: 30_ionosphere calculate_class0_error_calculate_class1_error overSample_randPop\n",
      "Passed on: 0_haberman calculate_overall_error_calculate_num_examples overSample_randPop\n",
      "Passed on: 0_haberman calculate_overall_error_calculate_overall_inverse_f1_calculate_num_examples overSample_randPop\n",
      "Passed on: 0_haberman calculate_class0_error_calculate_class1_error overSample_randPop\n",
      "Passed on: 1_haberman calculate_overall_error_calculate_num_examples overSample_randPop\n",
      "Passed on: 1_haberman calculate_overall_error_calculate_overall_inverse_f1_calculate_num_examples overSample_randPop\n",
      "Passed on: 1_haberman calculate_class0_error_calculate_class1_error overSample_randPop\n",
      "Passed on: 2_haberman calculate_overall_error_calculate_num_examples overSample_randPop\n",
      "Passed on: 2_haberman calculate_overall_error_calculate_overall_inverse_f1_calculate_num_examples overSample_randPop\n",
      "Passed on: 2_haberman calculate_class0_error_calculate_class1_error overSample_randPop\n",
      "Passed on: 3_haberman calculate_overall_error_calculate_num_examples overSample_randPop\n",
      "Passed on: 3_haberman calculate_overall_error_calculate_overall_inverse_f1_calculate_num_examples overSample_randPop\n",
      "Passed on: 3_haberman calculate_class0_error_calculate_class1_error overSample_randPop\n",
      "Passed on: 4_haberman calculate_overall_error_calculate_num_examples overSample_randPop\n",
      "Passed on: 4_haberman calculate_overall_error_calculate_overall_inverse_f1_calculate_num_examples overSample_randPop\n",
      "Passed on: 4_haberman calculate_class0_error_calculate_class1_error overSample_randPop\n",
      "Passed on: 5_haberman calculate_overall_error_calculate_num_examples overSample_randPop\n",
      "Passed on: 5_haberman calculate_overall_error_calculate_overall_inverse_f1_calculate_num_examples overSample_randPop\n",
      "Passed on: 5_haberman calculate_class0_error_calculate_class1_error overSample_randPop\n",
      "Passed on: 6_haberman calculate_overall_error_calculate_num_examples overSample_randPop\n",
      "Passed on: 6_haberman calculate_overall_error_calculate_overall_inverse_f1_calculate_num_examples overSample_randPop\n",
      "Passed on: 6_haberman calculate_class0_error_calculate_class1_error overSample_randPop\n",
      "Passed on: 7_haberman calculate_overall_error_calculate_num_examples overSample_randPop\n",
      "Passed on: 7_haberman calculate_overall_error_calculate_overall_inverse_f1_calculate_num_examples overSample_randPop\n",
      "Passed on: 7_haberman calculate_class0_error_calculate_class1_error overSample_randPop\n",
      "Passed on: 8_haberman calculate_overall_error_calculate_num_examples overSample_randPop\n",
      "Passed on: 8_haberman calculate_overall_error_calculate_overall_inverse_f1_calculate_num_examples overSample_randPop\n",
      "Passed on: 8_haberman calculate_class0_error_calculate_class1_error overSample_randPop\n",
      "Passed on: 9_haberman calculate_overall_error_calculate_num_examples overSample_randPop\n",
      "Passed on: 9_haberman calculate_overall_error_calculate_overall_inverse_f1_calculate_num_examples overSample_randPop\n",
      "Passed on: 9_haberman calculate_class0_error_calculate_class1_error overSample_randPop\n",
      "Passed on: 10_haberman calculate_overall_error_calculate_num_examples overSample_randPop\n",
      "Passed on: 10_haberman calculate_overall_error_calculate_overall_inverse_f1_calculate_num_examples overSample_randPop\n",
      "Passed on: 10_haberman calculate_class0_error_calculate_class1_error overSample_randPop\n",
      "Passed on: 11_haberman calculate_overall_error_calculate_num_examples overSample_randPop\n",
      "Passed on: 11_haberman calculate_overall_error_calculate_overall_inverse_f1_calculate_num_examples overSample_randPop\n",
      "Passed on: 11_haberman calculate_class0_error_calculate_class1_error overSample_randPop\n",
      "Passed on: 12_haberman calculate_overall_error_calculate_num_examples overSample_randPop\n",
      "Passed on: 12_haberman calculate_overall_error_calculate_overall_inverse_f1_calculate_num_examples overSample_randPop\n",
      "Passed on: 12_haberman calculate_class0_error_calculate_class1_error overSample_randPop\n",
      "Passed on: 13_haberman calculate_overall_error_calculate_num_examples overSample_randPop\n",
      "Passed on: 13_haberman calculate_overall_error_calculate_overall_inverse_f1_calculate_num_examples overSample_randPop\n",
      "Passed on: 13_haberman calculate_class0_error_calculate_class1_error overSample_randPop\n",
      "Passed on: 14_haberman calculate_overall_error_calculate_num_examples overSample_randPop\n",
      "Passed on: 14_haberman calculate_overall_error_calculate_overall_inverse_f1_calculate_num_examples overSample_randPop\n",
      "Passed on: 14_haberman calculate_class0_error_calculate_class1_error overSample_randPop\n",
      "Passed on: 15_haberman calculate_overall_error_calculate_num_examples overSample_randPop\n",
      "Passed on: 15_haberman calculate_overall_error_calculate_overall_inverse_f1_calculate_num_examples overSample_randPop\n",
      "Passed on: 15_haberman calculate_class0_error_calculate_class1_error overSample_randPop\n",
      "Passed on: 16_haberman calculate_overall_error_calculate_num_examples overSample_randPop\n",
      "Passed on: 16_haberman calculate_overall_error_calculate_overall_inverse_f1_calculate_num_examples overSample_randPop\n",
      "Passed on: 16_haberman calculate_class0_error_calculate_class1_error overSample_randPop\n",
      "Passed on: 17_haberman calculate_overall_error_calculate_num_examples overSample_randPop\n",
      "Passed on: 17_haberman calculate_overall_error_calculate_overall_inverse_f1_calculate_num_examples overSample_randPop\n",
      "Passed on: 17_haberman calculate_class0_error_calculate_class1_error overSample_randPop\n",
      "Passed on: 18_haberman calculate_overall_error_calculate_num_examples overSample_randPop\n",
      "Passed on: 18_haberman calculate_overall_error_calculate_overall_inverse_f1_calculate_num_examples overSample_randPop\n",
      "Passed on: 18_haberman calculate_class0_error_calculate_class1_error overSample_randPop\n",
      "Passed on: 19_haberman calculate_overall_error_calculate_num_examples overSample_randPop\n",
      "Passed on: 19_haberman calculate_overall_error_calculate_overall_inverse_f1_calculate_num_examples overSample_randPop\n",
      "Passed on: 19_haberman calculate_class0_error_calculate_class1_error overSample_randPop\n",
      "Passed on: 20_haberman calculate_overall_error_calculate_num_examples overSample_randPop\n",
      "Passed on: 20_haberman calculate_overall_error_calculate_overall_inverse_f1_calculate_num_examples overSample_randPop\n",
      "Passed on: 20_haberman calculate_class0_error_calculate_class1_error overSample_randPop\n",
      "Passed on: 21_haberman calculate_overall_error_calculate_num_examples overSample_randPop\n",
      "Passed on: 21_haberman calculate_overall_error_calculate_overall_inverse_f1_calculate_num_examples overSample_randPop\n",
      "Passed on: 21_haberman calculate_class0_error_calculate_class1_error overSample_randPop\n",
      "Passed on: 22_haberman calculate_overall_error_calculate_num_examples overSample_randPop\n",
      "Passed on: 22_haberman calculate_overall_error_calculate_overall_inverse_f1_calculate_num_examples overSample_randPop\n",
      "Passed on: 22_haberman calculate_class0_error_calculate_class1_error overSample_randPop\n",
      "Passed on: 23_haberman calculate_overall_error_calculate_num_examples overSample_randPop\n",
      "Passed on: 23_haberman calculate_overall_error_calculate_overall_inverse_f1_calculate_num_examples overSample_randPop\n",
      "Passed on: 23_haberman calculate_class0_error_calculate_class1_error overSample_randPop\n",
      "Passed on: 24_haberman calculate_overall_error_calculate_num_examples overSample_randPop\n",
      "Passed on: 24_haberman calculate_overall_error_calculate_overall_inverse_f1_calculate_num_examples overSample_randPop\n",
      "Passed on: 24_haberman calculate_class0_error_calculate_class1_error overSample_randPop\n",
      "Passed on: 25_haberman calculate_overall_error_calculate_num_examples overSample_randPop\n",
      "Passed on: 25_haberman calculate_overall_error_calculate_overall_inverse_f1_calculate_num_examples overSample_randPop\n",
      "Passed on: 25_haberman calculate_class0_error_calculate_class1_error overSample_randPop\n",
      "Passed on: 26_haberman calculate_overall_error_calculate_num_examples overSample_randPop\n",
      "Passed on: 26_haberman calculate_overall_error_calculate_overall_inverse_f1_calculate_num_examples overSample_randPop\n",
      "Passed on: 26_haberman calculate_class0_error_calculate_class1_error overSample_randPop\n",
      "Passed on: 27_haberman calculate_overall_error_calculate_num_examples overSample_randPop\n",
      "Passed on: 27_haberman calculate_overall_error_calculate_overall_inverse_f1_calculate_num_examples overSample_randPop\n",
      "Passed on: 27_haberman calculate_class0_error_calculate_class1_error overSample_randPop\n",
      "Passed on: 28_haberman calculate_overall_error_calculate_num_examples overSample_randPop\n",
      "Passed on: 28_haberman calculate_overall_error_calculate_overall_inverse_f1_calculate_num_examples overSample_randPop\n",
      "Passed on: 28_haberman calculate_class0_error_calculate_class1_error overSample_randPop\n",
      "Passed on: 29_haberman calculate_overall_error_calculate_num_examples overSample_randPop\n",
      "Passed on: 29_haberman calculate_overall_error_calculate_overall_inverse_f1_calculate_num_examples overSample_randPop\n",
      "Passed on: 29_haberman calculate_class0_error_calculate_class1_error overSample_randPop\n",
      "Passed on: 30_haberman calculate_overall_error_calculate_num_examples overSample_randPop\n",
      "Passed on: 30_haberman calculate_overall_error_calculate_overall_inverse_f1_calculate_num_examples overSample_randPop\n",
      "Passed on: 30_haberman calculate_class0_error_calculate_class1_error overSample_randPop\n"
     ]
    },
    {
     "name": "stderr",
     "output_type": "stream",
     "text": [
      "e:\\Code\\3_13_venv\\Lib\\site-packages\\sklearn\\preprocessing\\_label.py:110: DataConversionWarning: A column-vector y was passed when a 1d array was expected. Please change the shape of y to (n_samples, ), for example using ravel().\n",
      "  y = column_or_1d(y, warn=True)\n",
      "e:\\Code\\3_13_venv\\Lib\\site-packages\\sklearn\\preprocessing\\_label.py:110: DataConversionWarning: A column-vector y was passed when a 1d array was expected. Please change the shape of y to (n_samples, ), for example using ravel().\n",
      "  y = column_or_1d(y, warn=True)\n"
     ]
    },
    {
     "name": "stdout",
     "output_type": "stream",
     "text": [
      "Passed on: 0_iris0 calculate_overall_error_calculate_num_examples overSample_randPop\n",
      "Passed on: 0_iris0 calculate_overall_error_calculate_overall_inverse_f1_calculate_num_examples overSample_randPop\n",
      "Passed on: 0_iris0 calculate_class0_error_calculate_class1_error overSample_randPop\n",
      "Passed on: 1_iris0 calculate_overall_error_calculate_num_examples overSample_randPop\n",
      "Passed on: 1_iris0 calculate_overall_error_calculate_overall_inverse_f1_calculate_num_examples overSample_randPop\n",
      "Passed on: 1_iris0 calculate_class0_error_calculate_class1_error overSample_randPop\n",
      "Passed on: 2_iris0 calculate_overall_error_calculate_num_examples overSample_randPop\n",
      "Passed on: 2_iris0 calculate_overall_error_calculate_overall_inverse_f1_calculate_num_examples overSample_randPop\n",
      "Passed on: 2_iris0 calculate_class0_error_calculate_class1_error overSample_randPop\n",
      "Passed on: 3_iris0 calculate_overall_error_calculate_num_examples overSample_randPop\n",
      "Passed on: 3_iris0 calculate_overall_error_calculate_overall_inverse_f1_calculate_num_examples overSample_randPop\n",
      "Passed on: 3_iris0 calculate_class0_error_calculate_class1_error overSample_randPop\n",
      "Passed on: 4_iris0 calculate_overall_error_calculate_num_examples overSample_randPop\n",
      "Passed on: 4_iris0 calculate_overall_error_calculate_overall_inverse_f1_calculate_num_examples overSample_randPop\n",
      "Passed on: 4_iris0 calculate_class0_error_calculate_class1_error overSample_randPop\n",
      "Passed on: 5_iris0 calculate_overall_error_calculate_num_examples overSample_randPop\n",
      "Passed on: 5_iris0 calculate_overall_error_calculate_overall_inverse_f1_calculate_num_examples overSample_randPop\n",
      "Passed on: 5_iris0 calculate_class0_error_calculate_class1_error overSample_randPop\n",
      "Passed on: 6_iris0 calculate_overall_error_calculate_num_examples overSample_randPop\n",
      "Passed on: 6_iris0 calculate_overall_error_calculate_overall_inverse_f1_calculate_num_examples overSample_randPop\n",
      "Passed on: 6_iris0 calculate_class0_error_calculate_class1_error overSample_randPop\n",
      "Passed on: 7_iris0 calculate_overall_error_calculate_num_examples overSample_randPop\n",
      "Passed on: 7_iris0 calculate_overall_error_calculate_overall_inverse_f1_calculate_num_examples overSample_randPop\n",
      "Passed on: 7_iris0 calculate_class0_error_calculate_class1_error overSample_randPop\n",
      "Passed on: 8_iris0 calculate_overall_error_calculate_num_examples overSample_randPop\n",
      "Passed on: 8_iris0 calculate_overall_error_calculate_overall_inverse_f1_calculate_num_examples overSample_randPop\n",
      "Passed on: 8_iris0 calculate_class0_error_calculate_class1_error overSample_randPop\n",
      "Passed on: 9_iris0 calculate_overall_error_calculate_num_examples overSample_randPop\n",
      "Passed on: 9_iris0 calculate_overall_error_calculate_overall_inverse_f1_calculate_num_examples overSample_randPop\n",
      "Passed on: 9_iris0 calculate_class0_error_calculate_class1_error overSample_randPop\n",
      "Passed on: 10_iris0 calculate_overall_error_calculate_num_examples overSample_randPop\n",
      "Passed on: 10_iris0 calculate_overall_error_calculate_overall_inverse_f1_calculate_num_examples overSample_randPop\n",
      "Passed on: 10_iris0 calculate_class0_error_calculate_class1_error overSample_randPop\n",
      "Passed on: 11_iris0 calculate_overall_error_calculate_num_examples overSample_randPop\n",
      "Passed on: 11_iris0 calculate_overall_error_calculate_overall_inverse_f1_calculate_num_examples overSample_randPop\n",
      "Passed on: 11_iris0 calculate_class0_error_calculate_class1_error overSample_randPop\n",
      "Passed on: 12_iris0 calculate_overall_error_calculate_num_examples overSample_randPop\n",
      "Passed on: 12_iris0 calculate_overall_error_calculate_overall_inverse_f1_calculate_num_examples overSample_randPop\n",
      "Passed on: 12_iris0 calculate_class0_error_calculate_class1_error overSample_randPop\n",
      "Passed on: 13_iris0 calculate_overall_error_calculate_num_examples overSample_randPop\n",
      "Passed on: 13_iris0 calculate_overall_error_calculate_overall_inverse_f1_calculate_num_examples overSample_randPop\n",
      "Passed on: 13_iris0 calculate_class0_error_calculate_class1_error overSample_randPop\n",
      "Passed on: 14_iris0 calculate_overall_error_calculate_num_examples overSample_randPop\n",
      "Passed on: 14_iris0 calculate_overall_error_calculate_overall_inverse_f1_calculate_num_examples overSample_randPop\n",
      "Passed on: 14_iris0 calculate_class0_error_calculate_class1_error overSample_randPop\n",
      "Passed on: 15_iris0 calculate_overall_error_calculate_num_examples overSample_randPop\n",
      "Passed on: 15_iris0 calculate_overall_error_calculate_overall_inverse_f1_calculate_num_examples overSample_randPop\n",
      "Passed on: 15_iris0 calculate_class0_error_calculate_class1_error overSample_randPop\n",
      "Passed on: 16_iris0 calculate_overall_error_calculate_num_examples overSample_randPop\n",
      "Passed on: 16_iris0 calculate_overall_error_calculate_overall_inverse_f1_calculate_num_examples overSample_randPop\n",
      "Passed on: 16_iris0 calculate_class0_error_calculate_class1_error overSample_randPop\n",
      "Passed on: 17_iris0 calculate_overall_error_calculate_num_examples overSample_randPop\n",
      "Passed on: 17_iris0 calculate_overall_error_calculate_overall_inverse_f1_calculate_num_examples overSample_randPop\n",
      "Passed on: 17_iris0 calculate_class0_error_calculate_class1_error overSample_randPop\n",
      "Passed on: 18_iris0 calculate_overall_error_calculate_num_examples overSample_randPop\n",
      "Passed on: 18_iris0 calculate_overall_error_calculate_overall_inverse_f1_calculate_num_examples overSample_randPop\n",
      "Passed on: 18_iris0 calculate_class0_error_calculate_class1_error overSample_randPop\n",
      "Passed on: 19_iris0 calculate_overall_error_calculate_num_examples overSample_randPop\n",
      "Passed on: 19_iris0 calculate_overall_error_calculate_overall_inverse_f1_calculate_num_examples overSample_randPop\n",
      "Passed on: 19_iris0 calculate_class0_error_calculate_class1_error overSample_randPop\n",
      "Passed on: 20_iris0 calculate_overall_error_calculate_num_examples overSample_randPop\n",
      "Passed on: 20_iris0 calculate_overall_error_calculate_overall_inverse_f1_calculate_num_examples overSample_randPop\n",
      "Passed on: 20_iris0 calculate_class0_error_calculate_class1_error overSample_randPop\n",
      "Passed on: 21_iris0 calculate_overall_error_calculate_num_examples overSample_randPop\n",
      "Passed on: 21_iris0 calculate_overall_error_calculate_overall_inverse_f1_calculate_num_examples overSample_randPop\n",
      "Passed on: 21_iris0 calculate_class0_error_calculate_class1_error overSample_randPop\n",
      "Passed on: 22_iris0 calculate_overall_error_calculate_num_examples overSample_randPop\n",
      "Passed on: 22_iris0 calculate_overall_error_calculate_overall_inverse_f1_calculate_num_examples overSample_randPop\n",
      "Passed on: 22_iris0 calculate_class0_error_calculate_class1_error overSample_randPop\n",
      "Passed on: 23_iris0 calculate_overall_error_calculate_num_examples overSample_randPop\n",
      "Passed on: 23_iris0 calculate_overall_error_calculate_overall_inverse_f1_calculate_num_examples overSample_randPop\n",
      "Passed on: 23_iris0 calculate_class0_error_calculate_class1_error overSample_randPop\n",
      "Passed on: 24_iris0 calculate_overall_error_calculate_num_examples overSample_randPop\n",
      "Passed on: 24_iris0 calculate_overall_error_calculate_overall_inverse_f1_calculate_num_examples overSample_randPop\n",
      "Passed on: 24_iris0 calculate_class0_error_calculate_class1_error overSample_randPop\n",
      "Passed on: 25_iris0 calculate_overall_error_calculate_num_examples overSample_randPop\n",
      "Passed on: 25_iris0 calculate_overall_error_calculate_overall_inverse_f1_calculate_num_examples overSample_randPop\n",
      "Passed on: 25_iris0 calculate_class0_error_calculate_class1_error overSample_randPop\n",
      "Passed on: 26_iris0 calculate_overall_error_calculate_num_examples overSample_randPop\n",
      "Passed on: 26_iris0 calculate_overall_error_calculate_overall_inverse_f1_calculate_num_examples overSample_randPop\n",
      "Passed on: 26_iris0 calculate_class0_error_calculate_class1_error overSample_randPop\n",
      "Passed on: 27_iris0 calculate_overall_error_calculate_num_examples overSample_randPop\n",
      "Passed on: 27_iris0 calculate_overall_error_calculate_overall_inverse_f1_calculate_num_examples overSample_randPop\n",
      "Passed on: 27_iris0 calculate_class0_error_calculate_class1_error overSample_randPop\n",
      "Passed on: 28_iris0 calculate_overall_error_calculate_num_examples overSample_randPop\n",
      "Passed on: 28_iris0 calculate_overall_error_calculate_overall_inverse_f1_calculate_num_examples overSample_randPop\n",
      "Passed on: 28_iris0 calculate_class0_error_calculate_class1_error overSample_randPop\n",
      "Passed on: 29_iris0 calculate_overall_error_calculate_num_examples overSample_randPop\n",
      "Passed on: 29_iris0 calculate_overall_error_calculate_overall_inverse_f1_calculate_num_examples overSample_randPop\n",
      "Passed on: 29_iris0 calculate_class0_error_calculate_class1_error overSample_randPop\n",
      "Passed on: 30_iris0 calculate_overall_error_calculate_num_examples overSample_randPop\n",
      "Passed on: 30_iris0 calculate_overall_error_calculate_overall_inverse_f1_calculate_num_examples overSample_randPop\n",
      "Passed on: 30_iris0 calculate_class0_error_calculate_class1_error overSample_randPop\n"
     ]
    },
    {
     "name": "stderr",
     "output_type": "stream",
     "text": [
      "e:\\Code\\3_13_venv\\Lib\\site-packages\\sklearn\\preprocessing\\_label.py:110: DataConversionWarning: A column-vector y was passed when a 1d array was expected. Please change the shape of y to (n_samples, ), for example using ravel().\n",
      "  y = column_or_1d(y, warn=True)\n"
     ]
    },
    {
     "name": "stdout",
     "output_type": "stream",
     "text": [
      "Passed on: 0_glass1 calculate_overall_error_calculate_num_examples overSample_randPop\n",
      "Passed on: 0_glass1 calculate_overall_error_calculate_overall_inverse_f1_calculate_num_examples overSample_randPop\n",
      "Passed on: 0_glass1 calculate_class0_error_calculate_class1_error overSample_randPop\n",
      "Passed on: 1_glass1 calculate_overall_error_calculate_num_examples overSample_randPop\n",
      "Passed on: 1_glass1 calculate_overall_error_calculate_overall_inverse_f1_calculate_num_examples overSample_randPop\n",
      "Passed on: 1_glass1 calculate_class0_error_calculate_class1_error overSample_randPop\n",
      "Passed on: 2_glass1 calculate_overall_error_calculate_num_examples overSample_randPop\n",
      "Passed on: 2_glass1 calculate_overall_error_calculate_overall_inverse_f1_calculate_num_examples overSample_randPop\n",
      "Passed on: 2_glass1 calculate_class0_error_calculate_class1_error overSample_randPop\n",
      "Passed on: 3_glass1 calculate_overall_error_calculate_num_examples overSample_randPop\n",
      "Passed on: 3_glass1 calculate_overall_error_calculate_overall_inverse_f1_calculate_num_examples overSample_randPop\n",
      "Passed on: 3_glass1 calculate_class0_error_calculate_class1_error overSample_randPop\n",
      "Passed on: 4_glass1 calculate_overall_error_calculate_num_examples overSample_randPop\n",
      "Passed on: 4_glass1 calculate_overall_error_calculate_overall_inverse_f1_calculate_num_examples overSample_randPop\n",
      "Passed on: 4_glass1 calculate_class0_error_calculate_class1_error overSample_randPop\n",
      "Passed on: 5_glass1 calculate_overall_error_calculate_num_examples overSample_randPop\n",
      "Passed on: 5_glass1 calculate_overall_error_calculate_overall_inverse_f1_calculate_num_examples overSample_randPop\n",
      "Passed on: 5_glass1 calculate_class0_error_calculate_class1_error overSample_randPop\n",
      "Passed on: 6_glass1 calculate_overall_error_calculate_num_examples overSample_randPop\n",
      "Passed on: 6_glass1 calculate_overall_error_calculate_overall_inverse_f1_calculate_num_examples overSample_randPop\n",
      "Passed on: 6_glass1 calculate_class0_error_calculate_class1_error overSample_randPop\n",
      "Passed on: 7_glass1 calculate_overall_error_calculate_num_examples overSample_randPop\n",
      "Passed on: 7_glass1 calculate_overall_error_calculate_overall_inverse_f1_calculate_num_examples overSample_randPop\n",
      "Passed on: 7_glass1 calculate_class0_error_calculate_class1_error overSample_randPop\n",
      "Passed on: 8_glass1 calculate_overall_error_calculate_num_examples overSample_randPop\n",
      "Passed on: 8_glass1 calculate_overall_error_calculate_overall_inverse_f1_calculate_num_examples overSample_randPop\n",
      "Passed on: 8_glass1 calculate_class0_error_calculate_class1_error overSample_randPop\n",
      "Passed on: 9_glass1 calculate_overall_error_calculate_num_examples overSample_randPop\n",
      "Passed on: 9_glass1 calculate_overall_error_calculate_overall_inverse_f1_calculate_num_examples overSample_randPop\n",
      "Passed on: 9_glass1 calculate_class0_error_calculate_class1_error overSample_randPop\n",
      "Passed on: 10_glass1 calculate_overall_error_calculate_num_examples overSample_randPop\n",
      "Passed on: 10_glass1 calculate_overall_error_calculate_overall_inverse_f1_calculate_num_examples overSample_randPop\n",
      "Passed on: 10_glass1 calculate_class0_error_calculate_class1_error overSample_randPop\n",
      "Passed on: 11_glass1 calculate_overall_error_calculate_num_examples overSample_randPop\n",
      "Passed on: 11_glass1 calculate_overall_error_calculate_overall_inverse_f1_calculate_num_examples overSample_randPop\n",
      "Passed on: 11_glass1 calculate_class0_error_calculate_class1_error overSample_randPop\n",
      "Passed on: 12_glass1 calculate_overall_error_calculate_num_examples overSample_randPop\n",
      "Passed on: 12_glass1 calculate_overall_error_calculate_overall_inverse_f1_calculate_num_examples overSample_randPop\n",
      "Passed on: 12_glass1 calculate_class0_error_calculate_class1_error overSample_randPop\n",
      "Passed on: 13_glass1 calculate_overall_error_calculate_num_examples overSample_randPop\n",
      "Passed on: 13_glass1 calculate_overall_error_calculate_overall_inverse_f1_calculate_num_examples overSample_randPop\n",
      "Passed on: 13_glass1 calculate_class0_error_calculate_class1_error overSample_randPop\n",
      "Passed on: 14_glass1 calculate_overall_error_calculate_num_examples overSample_randPop\n",
      "Passed on: 14_glass1 calculate_overall_error_calculate_overall_inverse_f1_calculate_num_examples overSample_randPop\n",
      "Passed on: 14_glass1 calculate_class0_error_calculate_class1_error overSample_randPop\n",
      "Passed on: 15_glass1 calculate_overall_error_calculate_num_examples overSample_randPop\n",
      "Passed on: 15_glass1 calculate_overall_error_calculate_overall_inverse_f1_calculate_num_examples overSample_randPop\n",
      "Passed on: 15_glass1 calculate_class0_error_calculate_class1_error overSample_randPop\n",
      "Passed on: 16_glass1 calculate_overall_error_calculate_num_examples overSample_randPop\n",
      "Passed on: 16_glass1 calculate_overall_error_calculate_overall_inverse_f1_calculate_num_examples overSample_randPop\n",
      "Passed on: 16_glass1 calculate_class0_error_calculate_class1_error overSample_randPop\n",
      "Passed on: 17_glass1 calculate_overall_error_calculate_num_examples overSample_randPop\n",
      "Passed on: 17_glass1 calculate_overall_error_calculate_overall_inverse_f1_calculate_num_examples overSample_randPop\n",
      "Passed on: 17_glass1 calculate_class0_error_calculate_class1_error overSample_randPop\n",
      "Passed on: 18_glass1 calculate_overall_error_calculate_num_examples overSample_randPop\n",
      "Passed on: 18_glass1 calculate_overall_error_calculate_overall_inverse_f1_calculate_num_examples overSample_randPop\n",
      "Passed on: 18_glass1 calculate_class0_error_calculate_class1_error overSample_randPop\n",
      "Passed on: 19_glass1 calculate_overall_error_calculate_num_examples overSample_randPop\n",
      "Passed on: 19_glass1 calculate_overall_error_calculate_overall_inverse_f1_calculate_num_examples overSample_randPop\n",
      "Passed on: 19_glass1 calculate_class0_error_calculate_class1_error overSample_randPop\n",
      "Passed on: 20_glass1 calculate_overall_error_calculate_num_examples overSample_randPop\n",
      "Passed on: 20_glass1 calculate_overall_error_calculate_overall_inverse_f1_calculate_num_examples overSample_randPop\n",
      "Passed on: 20_glass1 calculate_class0_error_calculate_class1_error overSample_randPop\n",
      "Passed on: 21_glass1 calculate_overall_error_calculate_num_examples overSample_randPop\n",
      "Passed on: 21_glass1 calculate_overall_error_calculate_overall_inverse_f1_calculate_num_examples overSample_randPop\n",
      "Passed on: 21_glass1 calculate_class0_error_calculate_class1_error overSample_randPop\n",
      "Passed on: 22_glass1 calculate_overall_error_calculate_num_examples overSample_randPop\n",
      "Passed on: 22_glass1 calculate_overall_error_calculate_overall_inverse_f1_calculate_num_examples overSample_randPop\n",
      "Passed on: 22_glass1 calculate_class0_error_calculate_class1_error overSample_randPop\n",
      "Passed on: 23_glass1 calculate_overall_error_calculate_num_examples overSample_randPop\n",
      "Passed on: 23_glass1 calculate_overall_error_calculate_overall_inverse_f1_calculate_num_examples overSample_randPop\n",
      "Passed on: 23_glass1 calculate_class0_error_calculate_class1_error overSample_randPop\n",
      "Passed on: 24_glass1 calculate_overall_error_calculate_num_examples overSample_randPop\n",
      "Passed on: 24_glass1 calculate_overall_error_calculate_overall_inverse_f1_calculate_num_examples overSample_randPop\n",
      "Passed on: 24_glass1 calculate_class0_error_calculate_class1_error overSample_randPop\n",
      "Passed on: 25_glass1 calculate_overall_error_calculate_num_examples overSample_randPop\n",
      "Passed on: 25_glass1 calculate_overall_error_calculate_overall_inverse_f1_calculate_num_examples overSample_randPop\n",
      "Passed on: 25_glass1 calculate_class0_error_calculate_class1_error overSample_randPop\n",
      "Passed on: 26_glass1 calculate_overall_error_calculate_num_examples overSample_randPop\n",
      "Passed on: 26_glass1 calculate_overall_error_calculate_overall_inverse_f1_calculate_num_examples overSample_randPop\n",
      "Passed on: 26_glass1 calculate_class0_error_calculate_class1_error overSample_randPop\n",
      "Passed on: 27_glass1 calculate_overall_error_calculate_num_examples overSample_randPop\n",
      "Passed on: 27_glass1 calculate_overall_error_calculate_overall_inverse_f1_calculate_num_examples overSample_randPop\n",
      "Passed on: 27_glass1 calculate_class0_error_calculate_class1_error overSample_randPop\n",
      "Passed on: 28_glass1 calculate_overall_error_calculate_num_examples overSample_randPop\n",
      "Passed on: 28_glass1 calculate_overall_error_calculate_overall_inverse_f1_calculate_num_examples overSample_randPop\n",
      "Passed on: 28_glass1 calculate_class0_error_calculate_class1_error overSample_randPop\n",
      "Passed on: 29_glass1 calculate_overall_error_calculate_num_examples overSample_randPop\n",
      "Passed on: 29_glass1 calculate_overall_error_calculate_overall_inverse_f1_calculate_num_examples overSample_randPop\n",
      "Passed on: 29_glass1 calculate_class0_error_calculate_class1_error overSample_randPop\n",
      "Passed on: 30_glass1 calculate_overall_error_calculate_num_examples overSample_randPop\n",
      "Passed on: 30_glass1 calculate_overall_error_calculate_overall_inverse_f1_calculate_num_examples overSample_randPop\n",
      "Passed on: 30_glass1 calculate_class0_error_calculate_class1_error overSample_randPop\n"
     ]
    },
    {
     "name": "stderr",
     "output_type": "stream",
     "text": [
      "e:\\Code\\3_13_venv\\Lib\\site-packages\\sklearn\\preprocessing\\_label.py:110: DataConversionWarning: A column-vector y was passed when a 1d array was expected. Please change the shape of y to (n_samples, ), for example using ravel().\n",
      "  y = column_or_1d(y, warn=True)\n"
     ]
    },
    {
     "name": "stdout",
     "output_type": "stream",
     "text": [
      "Passed on: 0_australia calculate_overall_error_calculate_num_examples overSample_randPop\n",
      "Passed on: 0_australia calculate_overall_error_calculate_overall_inverse_f1_calculate_num_examples overSample_randPop\n",
      "Passed on: 0_australia calculate_class0_error_calculate_class1_error overSample_randPop\n",
      "Passed on: 1_australia calculate_overall_error_calculate_num_examples overSample_randPop\n",
      "Passed on: 1_australia calculate_overall_error_calculate_overall_inverse_f1_calculate_num_examples overSample_randPop\n",
      "Passed on: 1_australia calculate_class0_error_calculate_class1_error overSample_randPop\n",
      "Passed on: 2_australia calculate_overall_error_calculate_num_examples overSample_randPop\n",
      "Passed on: 2_australia calculate_overall_error_calculate_overall_inverse_f1_calculate_num_examples overSample_randPop\n",
      "Passed on: 2_australia calculate_class0_error_calculate_class1_error overSample_randPop\n",
      "Passed on: 3_australia calculate_overall_error_calculate_num_examples overSample_randPop\n",
      "Passed on: 3_australia calculate_overall_error_calculate_overall_inverse_f1_calculate_num_examples overSample_randPop\n",
      "Passed on: 3_australia calculate_class0_error_calculate_class1_error overSample_randPop\n",
      "Passed on: 4_australia calculate_overall_error_calculate_num_examples overSample_randPop\n",
      "Passed on: 4_australia calculate_overall_error_calculate_overall_inverse_f1_calculate_num_examples overSample_randPop\n",
      "Passed on: 4_australia calculate_class0_error_calculate_class1_error overSample_randPop\n",
      "Passed on: 5_australia calculate_overall_error_calculate_num_examples overSample_randPop\n",
      "Passed on: 5_australia calculate_overall_error_calculate_overall_inverse_f1_calculate_num_examples overSample_randPop\n",
      "Passed on: 5_australia calculate_class0_error_calculate_class1_error overSample_randPop\n",
      "Passed on: 6_australia calculate_overall_error_calculate_num_examples overSample_randPop\n",
      "Passed on: 6_australia calculate_overall_error_calculate_overall_inverse_f1_calculate_num_examples overSample_randPop\n",
      "Passed on: 6_australia calculate_class0_error_calculate_class1_error overSample_randPop\n",
      "Passed on: 7_australia calculate_overall_error_calculate_num_examples overSample_randPop\n",
      "Passed on: 7_australia calculate_overall_error_calculate_overall_inverse_f1_calculate_num_examples overSample_randPop\n",
      "Passed on: 7_australia calculate_class0_error_calculate_class1_error overSample_randPop\n",
      "Passed on: 8_australia calculate_overall_error_calculate_num_examples overSample_randPop\n",
      "Passed on: 8_australia calculate_overall_error_calculate_overall_inverse_f1_calculate_num_examples overSample_randPop\n",
      "Passed on: 8_australia calculate_class0_error_calculate_class1_error overSample_randPop\n",
      "Passed on: 9_australia calculate_overall_error_calculate_num_examples overSample_randPop\n",
      "Passed on: 9_australia calculate_overall_error_calculate_overall_inverse_f1_calculate_num_examples overSample_randPop\n",
      "Passed on: 9_australia calculate_class0_error_calculate_class1_error overSample_randPop\n",
      "Passed on: 10_australia calculate_overall_error_calculate_num_examples overSample_randPop\n",
      "Passed on: 10_australia calculate_overall_error_calculate_overall_inverse_f1_calculate_num_examples overSample_randPop\n",
      "Passed on: 10_australia calculate_class0_error_calculate_class1_error overSample_randPop\n",
      "Passed on: 11_australia calculate_overall_error_calculate_num_examples overSample_randPop\n",
      "Passed on: 11_australia calculate_overall_error_calculate_overall_inverse_f1_calculate_num_examples overSample_randPop\n",
      "Passed on: 11_australia calculate_class0_error_calculate_class1_error overSample_randPop\n",
      "Passed on: 12_australia calculate_overall_error_calculate_num_examples overSample_randPop\n",
      "Passed on: 12_australia calculate_overall_error_calculate_overall_inverse_f1_calculate_num_examples overSample_randPop\n",
      "Passed on: 12_australia calculate_class0_error_calculate_class1_error overSample_randPop\n",
      "Passed on: 13_australia calculate_overall_error_calculate_num_examples overSample_randPop\n",
      "Passed on: 13_australia calculate_overall_error_calculate_overall_inverse_f1_calculate_num_examples overSample_randPop\n",
      "Passed on: 13_australia calculate_class0_error_calculate_class1_error overSample_randPop\n",
      "Passed on: 14_australia calculate_overall_error_calculate_num_examples overSample_randPop\n",
      "Passed on: 14_australia calculate_overall_error_calculate_overall_inverse_f1_calculate_num_examples overSample_randPop\n",
      "Passed on: 14_australia calculate_class0_error_calculate_class1_error overSample_randPop\n",
      "Passed on: 15_australia calculate_overall_error_calculate_num_examples overSample_randPop\n",
      "Passed on: 15_australia calculate_overall_error_calculate_overall_inverse_f1_calculate_num_examples overSample_randPop\n",
      "Passed on: 15_australia calculate_class0_error_calculate_class1_error overSample_randPop\n",
      "Passed on: 16_australia calculate_overall_error_calculate_num_examples overSample_randPop\n",
      "Passed on: 16_australia calculate_overall_error_calculate_overall_inverse_f1_calculate_num_examples overSample_randPop\n",
      "Passed on: 16_australia calculate_class0_error_calculate_class1_error overSample_randPop\n",
      "Passed on: 17_australia calculate_overall_error_calculate_num_examples overSample_randPop\n",
      "Passed on: 17_australia calculate_overall_error_calculate_overall_inverse_f1_calculate_num_examples overSample_randPop\n",
      "Passed on: 17_australia calculate_class0_error_calculate_class1_error overSample_randPop\n",
      "Passed on: 18_australia calculate_overall_error_calculate_num_examples overSample_randPop\n",
      "Passed on: 18_australia calculate_overall_error_calculate_overall_inverse_f1_calculate_num_examples overSample_randPop\n",
      "Passed on: 18_australia calculate_class0_error_calculate_class1_error overSample_randPop\n",
      "Passed on: 19_australia calculate_overall_error_calculate_num_examples overSample_randPop\n",
      "Passed on: 19_australia calculate_overall_error_calculate_overall_inverse_f1_calculate_num_examples overSample_randPop\n",
      "Passed on: 19_australia calculate_class0_error_calculate_class1_error overSample_randPop\n",
      "Passed on: 20_australia calculate_overall_error_calculate_num_examples overSample_randPop\n",
      "Passed on: 20_australia calculate_overall_error_calculate_overall_inverse_f1_calculate_num_examples overSample_randPop\n",
      "Passed on: 20_australia calculate_class0_error_calculate_class1_error overSample_randPop\n",
      "Passed on: 21_australia calculate_overall_error_calculate_num_examples overSample_randPop\n",
      "Passed on: 21_australia calculate_overall_error_calculate_overall_inverse_f1_calculate_num_examples overSample_randPop\n",
      "Passed on: 21_australia calculate_class0_error_calculate_class1_error overSample_randPop\n",
      "Passed on: 22_australia calculate_overall_error_calculate_num_examples overSample_randPop\n",
      "Passed on: 22_australia calculate_overall_error_calculate_overall_inverse_f1_calculate_num_examples overSample_randPop\n",
      "Passed on: 22_australia calculate_class0_error_calculate_class1_error overSample_randPop\n",
      "Passed on: 23_australia calculate_overall_error_calculate_num_examples overSample_randPop\n",
      "Passed on: 23_australia calculate_overall_error_calculate_overall_inverse_f1_calculate_num_examples overSample_randPop\n",
      "Passed on: 23_australia calculate_class0_error_calculate_class1_error overSample_randPop\n",
      "Passed on: 24_australia calculate_overall_error_calculate_num_examples overSample_randPop\n",
      "Passed on: 24_australia calculate_overall_error_calculate_overall_inverse_f1_calculate_num_examples overSample_randPop\n",
      "Passed on: 24_australia calculate_class0_error_calculate_class1_error overSample_randPop\n",
      "Passed on: 25_australia calculate_overall_error_calculate_num_examples overSample_randPop\n",
      "Passed on: 25_australia calculate_overall_error_calculate_overall_inverse_f1_calculate_num_examples overSample_randPop\n",
      "Passed on: 25_australia calculate_class0_error_calculate_class1_error overSample_randPop\n",
      "Passed on: 26_australia calculate_overall_error_calculate_num_examples overSample_randPop\n",
      "Passed on: 26_australia calculate_overall_error_calculate_overall_inverse_f1_calculate_num_examples overSample_randPop\n",
      "Passed on: 26_australia calculate_class0_error_calculate_class1_error overSample_randPop\n",
      "Passed on: 27_australia calculate_overall_error_calculate_num_examples overSample_randPop\n",
      "Passed on: 27_australia calculate_overall_error_calculate_overall_inverse_f1_calculate_num_examples overSample_randPop\n",
      "Passed on: 27_australia calculate_class0_error_calculate_class1_error overSample_randPop\n",
      "Passed on: 28_australia calculate_overall_error_calculate_num_examples overSample_randPop\n",
      "Passed on: 28_australia calculate_overall_error_calculate_overall_inverse_f1_calculate_num_examples overSample_randPop\n",
      "Passed on: 28_australia calculate_class0_error_calculate_class1_error overSample_randPop\n",
      "Passed on: 29_australia calculate_overall_error_calculate_num_examples overSample_randPop\n",
      "Passed on: 29_australia calculate_overall_error_calculate_overall_inverse_f1_calculate_num_examples overSample_randPop\n",
      "Passed on: 29_australia calculate_class0_error_calculate_class1_error overSample_randPop\n",
      "Passed on: 30_australia calculate_overall_error_calculate_num_examples overSample_randPop\n",
      "Passed on: 30_australia calculate_overall_error_calculate_overall_inverse_f1_calculate_num_examples overSample_randPop\n",
      "Passed on: 30_australia calculate_class0_error_calculate_class1_error overSample_randPop\n"
     ]
    },
    {
     "name": "stderr",
     "output_type": "stream",
     "text": [
      "e:\\Code\\3_13_venv\\Lib\\site-packages\\sklearn\\preprocessing\\_label.py:110: DataConversionWarning: A column-vector y was passed when a 1d array was expected. Please change the shape of y to (n_samples, ), for example using ravel().\n",
      "  y = column_or_1d(y, warn=True)\n"
     ]
    },
    {
     "name": "stdout",
     "output_type": "stream",
     "text": [
      "Passed on: 0_thoracic calculate_overall_error_calculate_num_examples overSample_randPop\n",
      "Passed on: 0_thoracic calculate_overall_error_calculate_overall_inverse_f1_calculate_num_examples overSample_randPop\n",
      "Passed on: 0_thoracic calculate_class0_error_calculate_class1_error overSample_randPop\n",
      "Passed on: 1_thoracic calculate_overall_error_calculate_num_examples overSample_randPop\n",
      "Passed on: 1_thoracic calculate_overall_error_calculate_overall_inverse_f1_calculate_num_examples overSample_randPop\n",
      "Passed on: 1_thoracic calculate_class0_error_calculate_class1_error overSample_randPop\n",
      "Passed on: 2_thoracic calculate_overall_error_calculate_num_examples overSample_randPop\n",
      "Passed on: 2_thoracic calculate_overall_error_calculate_overall_inverse_f1_calculate_num_examples overSample_randPop\n",
      "Passed on: 2_thoracic calculate_class0_error_calculate_class1_error overSample_randPop\n",
      "Passed on: 3_thoracic calculate_overall_error_calculate_num_examples overSample_randPop\n",
      "Passed on: 3_thoracic calculate_overall_error_calculate_overall_inverse_f1_calculate_num_examples overSample_randPop\n",
      "Passed on: 3_thoracic calculate_class0_error_calculate_class1_error overSample_randPop\n",
      "Passed on: 4_thoracic calculate_overall_error_calculate_num_examples overSample_randPop\n",
      "Passed on: 4_thoracic calculate_overall_error_calculate_overall_inverse_f1_calculate_num_examples overSample_randPop\n",
      "Passed on: 4_thoracic calculate_class0_error_calculate_class1_error overSample_randPop\n",
      "Passed on: 5_thoracic calculate_overall_error_calculate_num_examples overSample_randPop\n",
      "Passed on: 5_thoracic calculate_overall_error_calculate_overall_inverse_f1_calculate_num_examples overSample_randPop\n",
      "Passed on: 5_thoracic calculate_class0_error_calculate_class1_error overSample_randPop\n",
      "Passed on: 6_thoracic calculate_overall_error_calculate_num_examples overSample_randPop\n",
      "Passed on: 6_thoracic calculate_overall_error_calculate_overall_inverse_f1_calculate_num_examples overSample_randPop\n",
      "Passed on: 6_thoracic calculate_class0_error_calculate_class1_error overSample_randPop\n",
      "Passed on: 7_thoracic calculate_overall_error_calculate_num_examples overSample_randPop\n",
      "Passed on: 7_thoracic calculate_overall_error_calculate_overall_inverse_f1_calculate_num_examples overSample_randPop\n",
      "Passed on: 7_thoracic calculate_class0_error_calculate_class1_error overSample_randPop\n",
      "Passed on: 8_thoracic calculate_overall_error_calculate_num_examples overSample_randPop\n",
      "Passed on: 8_thoracic calculate_overall_error_calculate_overall_inverse_f1_calculate_num_examples overSample_randPop\n",
      "Passed on: 8_thoracic calculate_class0_error_calculate_class1_error overSample_randPop\n",
      "Passed on: 9_thoracic calculate_overall_error_calculate_num_examples overSample_randPop\n",
      "Passed on: 9_thoracic calculate_overall_error_calculate_overall_inverse_f1_calculate_num_examples overSample_randPop\n",
      "Passed on: 9_thoracic calculate_class0_error_calculate_class1_error overSample_randPop\n",
      "Passed on: 10_thoracic calculate_overall_error_calculate_num_examples overSample_randPop\n",
      "Passed on: 10_thoracic calculate_overall_error_calculate_overall_inverse_f1_calculate_num_examples overSample_randPop\n",
      "Passed on: 10_thoracic calculate_class0_error_calculate_class1_error overSample_randPop\n",
      "Passed on: 11_thoracic calculate_overall_error_calculate_num_examples overSample_randPop\n",
      "Passed on: 11_thoracic calculate_overall_error_calculate_overall_inverse_f1_calculate_num_examples overSample_randPop\n",
      "Passed on: 11_thoracic calculate_class0_error_calculate_class1_error overSample_randPop\n",
      "Passed on: 12_thoracic calculate_overall_error_calculate_num_examples overSample_randPop\n",
      "Passed on: 12_thoracic calculate_overall_error_calculate_overall_inverse_f1_calculate_num_examples overSample_randPop\n",
      "Passed on: 12_thoracic calculate_class0_error_calculate_class1_error overSample_randPop\n",
      "Passed on: 13_thoracic calculate_overall_error_calculate_num_examples overSample_randPop\n",
      "Passed on: 13_thoracic calculate_overall_error_calculate_overall_inverse_f1_calculate_num_examples overSample_randPop\n",
      "Passed on: 13_thoracic calculate_class0_error_calculate_class1_error overSample_randPop\n",
      "Passed on: 14_thoracic calculate_overall_error_calculate_num_examples overSample_randPop\n",
      "Passed on: 14_thoracic calculate_overall_error_calculate_overall_inverse_f1_calculate_num_examples overSample_randPop\n",
      "Passed on: 14_thoracic calculate_class0_error_calculate_class1_error overSample_randPop\n",
      "Passed on: 15_thoracic calculate_overall_error_calculate_num_examples overSample_randPop\n",
      "Passed on: 15_thoracic calculate_overall_error_calculate_overall_inverse_f1_calculate_num_examples overSample_randPop\n",
      "Passed on: 15_thoracic calculate_class0_error_calculate_class1_error overSample_randPop\n",
      "Passed on: 16_thoracic calculate_overall_error_calculate_num_examples overSample_randPop\n",
      "Passed on: 16_thoracic calculate_overall_error_calculate_overall_inverse_f1_calculate_num_examples overSample_randPop\n",
      "Passed on: 16_thoracic calculate_class0_error_calculate_class1_error overSample_randPop\n",
      "Passed on: 17_thoracic calculate_overall_error_calculate_num_examples overSample_randPop\n",
      "Passed on: 17_thoracic calculate_overall_error_calculate_overall_inverse_f1_calculate_num_examples overSample_randPop\n",
      "Passed on: 17_thoracic calculate_class0_error_calculate_class1_error overSample_randPop\n",
      "Passed on: 18_thoracic calculate_overall_error_calculate_num_examples overSample_randPop\n",
      "Passed on: 18_thoracic calculate_overall_error_calculate_overall_inverse_f1_calculate_num_examples overSample_randPop\n",
      "Passed on: 18_thoracic calculate_class0_error_calculate_class1_error overSample_randPop\n",
      "Passed on: 19_thoracic calculate_overall_error_calculate_num_examples overSample_randPop\n",
      "Passed on: 19_thoracic calculate_overall_error_calculate_overall_inverse_f1_calculate_num_examples overSample_randPop\n",
      "Passed on: 19_thoracic calculate_class0_error_calculate_class1_error overSample_randPop\n",
      "Passed on: 20_thoracic calculate_overall_error_calculate_num_examples overSample_randPop\n",
      "Passed on: 20_thoracic calculate_overall_error_calculate_overall_inverse_f1_calculate_num_examples overSample_randPop\n",
      "Passed on: 20_thoracic calculate_class0_error_calculate_class1_error overSample_randPop\n",
      "Passed on: 21_thoracic calculate_overall_error_calculate_num_examples overSample_randPop\n",
      "Passed on: 21_thoracic calculate_overall_error_calculate_overall_inverse_f1_calculate_num_examples overSample_randPop\n",
      "Passed on: 21_thoracic calculate_class0_error_calculate_class1_error overSample_randPop\n",
      "Passed on: 22_thoracic calculate_overall_error_calculate_num_examples overSample_randPop\n",
      "Passed on: 22_thoracic calculate_overall_error_calculate_overall_inverse_f1_calculate_num_examples overSample_randPop\n",
      "Passed on: 22_thoracic calculate_class0_error_calculate_class1_error overSample_randPop\n",
      "Passed on: 23_thoracic calculate_overall_error_calculate_num_examples overSample_randPop\n",
      "Passed on: 23_thoracic calculate_overall_error_calculate_overall_inverse_f1_calculate_num_examples overSample_randPop\n",
      "Passed on: 23_thoracic calculate_class0_error_calculate_class1_error overSample_randPop\n",
      "Passed on: 24_thoracic calculate_overall_error_calculate_num_examples overSample_randPop\n",
      "Passed on: 24_thoracic calculate_overall_error_calculate_overall_inverse_f1_calculate_num_examples overSample_randPop\n",
      "Passed on: 24_thoracic calculate_class0_error_calculate_class1_error overSample_randPop\n",
      "Passed on: 25_thoracic calculate_overall_error_calculate_num_examples overSample_randPop\n",
      "Passed on: 25_thoracic calculate_overall_error_calculate_overall_inverse_f1_calculate_num_examples overSample_randPop\n",
      "Passed on: 25_thoracic calculate_class0_error_calculate_class1_error overSample_randPop\n",
      "Passed on: 26_thoracic calculate_overall_error_calculate_num_examples overSample_randPop\n",
      "Passed on: 26_thoracic calculate_overall_error_calculate_overall_inverse_f1_calculate_num_examples overSample_randPop\n",
      "Passed on: 26_thoracic calculate_class0_error_calculate_class1_error overSample_randPop\n",
      "Passed on: 27_thoracic calculate_overall_error_calculate_num_examples overSample_randPop\n",
      "Passed on: 27_thoracic calculate_overall_error_calculate_overall_inverse_f1_calculate_num_examples overSample_randPop\n",
      "Passed on: 27_thoracic calculate_class0_error_calculate_class1_error overSample_randPop\n",
      "Passed on: 28_thoracic calculate_overall_error_calculate_num_examples overSample_randPop\n",
      "Passed on: 28_thoracic calculate_overall_error_calculate_overall_inverse_f1_calculate_num_examples overSample_randPop\n",
      "Passed on: 28_thoracic calculate_class0_error_calculate_class1_error overSample_randPop\n",
      "Passed on: 29_thoracic calculate_overall_error_calculate_num_examples overSample_randPop\n",
      "Passed on: 29_thoracic calculate_overall_error_calculate_overall_inverse_f1_calculate_num_examples overSample_randPop\n",
      "Passed on: 29_thoracic calculate_class0_error_calculate_class1_error overSample_randPop\n",
      "Passed on: 30_thoracic calculate_overall_error_calculate_num_examples overSample_randPop\n",
      "Passed on: 30_thoracic calculate_overall_error_calculate_overall_inverse_f1_calculate_num_examples overSample_randPop\n",
      "Passed on: 30_thoracic calculate_class0_error_calculate_class1_error overSample_randPop\n"
     ]
    },
    {
     "name": "stderr",
     "output_type": "stream",
     "text": [
      "e:\\Code\\3_13_venv\\Lib\\site-packages\\sklearn\\preprocessing\\_label.py:110: DataConversionWarning: A column-vector y was passed when a 1d array was expected. Please change the shape of y to (n_samples, ), for example using ravel().\n",
      "  y = column_or_1d(y, warn=True)\n"
     ]
    },
    {
     "name": "stdout",
     "output_type": "stream",
     "text": [
      "Passed on: 0_segment0 calculate_overall_error_calculate_num_examples overSample_randPop\n",
      "Passed on: 0_segment0 calculate_overall_error_calculate_overall_inverse_f1_calculate_num_examples overSample_randPop\n",
      "Passed on: 0_segment0 calculate_class0_error_calculate_class1_error overSample_randPop\n",
      "Passed on: 1_segment0 calculate_overall_error_calculate_num_examples overSample_randPop\n",
      "Passed on: 1_segment0 calculate_overall_error_calculate_overall_inverse_f1_calculate_num_examples overSample_randPop\n",
      "Passed on: 1_segment0 calculate_class0_error_calculate_class1_error overSample_randPop\n",
      "Passed on: 2_segment0 calculate_overall_error_calculate_num_examples overSample_randPop\n",
      "Passed on: 2_segment0 calculate_overall_error_calculate_overall_inverse_f1_calculate_num_examples overSample_randPop\n",
      "Passed on: 2_segment0 calculate_class0_error_calculate_class1_error overSample_randPop\n",
      "Passed on: 3_segment0 calculate_overall_error_calculate_num_examples overSample_randPop\n",
      "Passed on: 3_segment0 calculate_overall_error_calculate_overall_inverse_f1_calculate_num_examples overSample_randPop\n",
      "Passed on: 3_segment0 calculate_class0_error_calculate_class1_error overSample_randPop\n",
      "Passed on: 4_segment0 calculate_overall_error_calculate_num_examples overSample_randPop\n",
      "Passed on: 4_segment0 calculate_overall_error_calculate_overall_inverse_f1_calculate_num_examples overSample_randPop\n",
      "Passed on: 4_segment0 calculate_class0_error_calculate_class1_error overSample_randPop\n",
      "Passed on: 5_segment0 calculate_overall_error_calculate_num_examples overSample_randPop\n",
      "Passed on: 5_segment0 calculate_overall_error_calculate_overall_inverse_f1_calculate_num_examples overSample_randPop\n",
      "Passed on: 5_segment0 calculate_class0_error_calculate_class1_error overSample_randPop\n",
      "Passed on: 6_segment0 calculate_overall_error_calculate_num_examples overSample_randPop\n",
      "Passed on: 6_segment0 calculate_overall_error_calculate_overall_inverse_f1_calculate_num_examples overSample_randPop\n",
      "Passed on: 6_segment0 calculate_class0_error_calculate_class1_error overSample_randPop\n",
      "Passed on: 7_segment0 calculate_overall_error_calculate_num_examples overSample_randPop\n",
      "Passed on: 7_segment0 calculate_overall_error_calculate_overall_inverse_f1_calculate_num_examples overSample_randPop\n",
      "Passed on: 7_segment0 calculate_class0_error_calculate_class1_error overSample_randPop\n",
      "Passed on: 8_segment0 calculate_overall_error_calculate_num_examples overSample_randPop\n",
      "Passed on: 8_segment0 calculate_overall_error_calculate_overall_inverse_f1_calculate_num_examples overSample_randPop\n",
      "Passed on: 8_segment0 calculate_class0_error_calculate_class1_error overSample_randPop\n",
      "Passed on: 9_segment0 calculate_overall_error_calculate_num_examples overSample_randPop\n",
      "Passed on: 9_segment0 calculate_overall_error_calculate_overall_inverse_f1_calculate_num_examples overSample_randPop\n",
      "Passed on: 9_segment0 calculate_class0_error_calculate_class1_error overSample_randPop\n",
      "Passed on: 10_segment0 calculate_overall_error_calculate_num_examples overSample_randPop\n",
      "Passed on: 10_segment0 calculate_overall_error_calculate_overall_inverse_f1_calculate_num_examples overSample_randPop\n",
      "Passed on: 10_segment0 calculate_class0_error_calculate_class1_error overSample_randPop\n",
      "Passed on: 11_segment0 calculate_overall_error_calculate_num_examples overSample_randPop\n",
      "Passed on: 11_segment0 calculate_overall_error_calculate_overall_inverse_f1_calculate_num_examples overSample_randPop\n",
      "Passed on: 11_segment0 calculate_class0_error_calculate_class1_error overSample_randPop\n",
      "Passed on: 12_segment0 calculate_overall_error_calculate_num_examples overSample_randPop\n",
      "Passed on: 12_segment0 calculate_overall_error_calculate_overall_inverse_f1_calculate_num_examples overSample_randPop\n",
      "Passed on: 12_segment0 calculate_class0_error_calculate_class1_error overSample_randPop\n",
      "Passed on: 13_segment0 calculate_overall_error_calculate_num_examples overSample_randPop\n",
      "Passed on: 13_segment0 calculate_overall_error_calculate_overall_inverse_f1_calculate_num_examples overSample_randPop\n",
      "Passed on: 13_segment0 calculate_class0_error_calculate_class1_error overSample_randPop\n",
      "Passed on: 14_segment0 calculate_overall_error_calculate_num_examples overSample_randPop\n",
      "Passed on: 14_segment0 calculate_overall_error_calculate_overall_inverse_f1_calculate_num_examples overSample_randPop\n",
      "Passed on: 14_segment0 calculate_class0_error_calculate_class1_error overSample_randPop\n",
      "Passed on: 15_segment0 calculate_overall_error_calculate_num_examples overSample_randPop\n",
      "Passed on: 15_segment0 calculate_overall_error_calculate_overall_inverse_f1_calculate_num_examples overSample_randPop\n",
      "Passed on: 15_segment0 calculate_class0_error_calculate_class1_error overSample_randPop\n",
      "Passed on: 16_segment0 calculate_overall_error_calculate_num_examples overSample_randPop\n",
      "Passed on: 16_segment0 calculate_overall_error_calculate_overall_inverse_f1_calculate_num_examples overSample_randPop\n",
      "Passed on: 16_segment0 calculate_class0_error_calculate_class1_error overSample_randPop\n",
      "Passed on: 17_segment0 calculate_overall_error_calculate_num_examples overSample_randPop\n",
      "Passed on: 17_segment0 calculate_overall_error_calculate_overall_inverse_f1_calculate_num_examples overSample_randPop\n",
      "Passed on: 17_segment0 calculate_class0_error_calculate_class1_error overSample_randPop\n",
      "Passed on: 18_segment0 calculate_overall_error_calculate_num_examples overSample_randPop\n",
      "Passed on: 18_segment0 calculate_overall_error_calculate_overall_inverse_f1_calculate_num_examples overSample_randPop\n",
      "Passed on: 18_segment0 calculate_class0_error_calculate_class1_error overSample_randPop\n",
      "Passed on: 19_segment0 calculate_overall_error_calculate_num_examples overSample_randPop\n",
      "Passed on: 19_segment0 calculate_overall_error_calculate_overall_inverse_f1_calculate_num_examples overSample_randPop\n",
      "Passed on: 19_segment0 calculate_class0_error_calculate_class1_error overSample_randPop\n",
      "Passed on: 20_segment0 calculate_overall_error_calculate_num_examples overSample_randPop\n",
      "Passed on: 20_segment0 calculate_overall_error_calculate_overall_inverse_f1_calculate_num_examples overSample_randPop\n",
      "Passed on: 20_segment0 calculate_class0_error_calculate_class1_error overSample_randPop\n",
      "Passed on: 21_segment0 calculate_overall_error_calculate_num_examples overSample_randPop\n",
      "Passed on: 21_segment0 calculate_overall_error_calculate_overall_inverse_f1_calculate_num_examples overSample_randPop\n",
      "Passed on: 21_segment0 calculate_class0_error_calculate_class1_error overSample_randPop\n",
      "Passed on: 22_segment0 calculate_overall_error_calculate_num_examples overSample_randPop\n",
      "Passed on: 22_segment0 calculate_overall_error_calculate_overall_inverse_f1_calculate_num_examples overSample_randPop\n",
      "Passed on: 22_segment0 calculate_class0_error_calculate_class1_error overSample_randPop\n",
      "Passed on: 23_segment0 calculate_overall_error_calculate_num_examples overSample_randPop\n",
      "Passed on: 23_segment0 calculate_overall_error_calculate_overall_inverse_f1_calculate_num_examples overSample_randPop\n",
      "Passed on: 23_segment0 calculate_class0_error_calculate_class1_error overSample_randPop\n",
      "Passed on: 24_segment0 calculate_overall_error_calculate_num_examples overSample_randPop\n",
      "Passed on: 24_segment0 calculate_overall_error_calculate_overall_inverse_f1_calculate_num_examples overSample_randPop\n",
      "Passed on: 24_segment0 calculate_class0_error_calculate_class1_error overSample_randPop\n",
      "Passed on: 25_segment0 calculate_overall_error_calculate_num_examples overSample_randPop\n",
      "Passed on: 25_segment0 calculate_overall_error_calculate_overall_inverse_f1_calculate_num_examples overSample_randPop\n",
      "Passed on: 25_segment0 calculate_class0_error_calculate_class1_error overSample_randPop\n",
      "Passed on: 26_segment0 calculate_overall_error_calculate_num_examples overSample_randPop\n",
      "Passed on: 26_segment0 calculate_overall_error_calculate_overall_inverse_f1_calculate_num_examples overSample_randPop\n",
      "Passed on: 26_segment0 calculate_class0_error_calculate_class1_error overSample_randPop\n",
      "Passed on: 27_segment0 calculate_overall_error_calculate_num_examples overSample_randPop\n",
      "Passed on: 27_segment0 calculate_overall_error_calculate_overall_inverse_f1_calculate_num_examples overSample_randPop\n",
      "Passed on: 27_segment0 calculate_class0_error_calculate_class1_error overSample_randPop\n",
      "Passed on: 28_segment0 calculate_overall_error_calculate_num_examples overSample_randPop\n",
      "Passed on: 28_segment0 calculate_overall_error_calculate_overall_inverse_f1_calculate_num_examples overSample_randPop\n",
      "Passed on: 28_segment0 calculate_class0_error_calculate_class1_error overSample_randPop\n",
      "Passed on: 29_segment0 calculate_overall_error_calculate_num_examples overSample_randPop\n",
      "Passed on: 29_segment0 calculate_overall_error_calculate_overall_inverse_f1_calculate_num_examples overSample_randPop\n",
      "Passed on: 29_segment0 calculate_class0_error_calculate_class1_error overSample_randPop\n",
      "Passed on: 30_segment0 calculate_overall_error_calculate_num_examples overSample_randPop\n",
      "Passed on: 30_segment0 calculate_overall_error_calculate_overall_inverse_f1_calculate_num_examples overSample_randPop\n",
      "Passed on: 30_segment0 calculate_class0_error_calculate_class1_error overSample_randPop\n"
     ]
    },
    {
     "name": "stderr",
     "output_type": "stream",
     "text": [
      "e:\\Code\\3_13_venv\\Lib\\site-packages\\sklearn\\preprocessing\\_label.py:110: DataConversionWarning: A column-vector y was passed when a 1d array was expected. Please change the shape of y to (n_samples, ), for example using ravel().\n",
      "  y = column_or_1d(y, warn=True)\n"
     ]
    },
    {
     "name": "stdout",
     "output_type": "stream",
     "text": [
      "Passed on: 0_wine calculate_overall_error_calculate_num_examples overSample_randPop\n",
      "Passed on: 0_wine calculate_overall_error_calculate_overall_inverse_f1_calculate_num_examples overSample_randPop\n",
      "Passed on: 0_wine calculate_class0_error_calculate_class1_error overSample_randPop\n",
      "Passed on: 1_wine calculate_overall_error_calculate_num_examples overSample_randPop\n",
      "Passed on: 1_wine calculate_overall_error_calculate_overall_inverse_f1_calculate_num_examples overSample_randPop\n",
      "Passed on: 1_wine calculate_class0_error_calculate_class1_error overSample_randPop\n",
      "Passed on: 2_wine calculate_overall_error_calculate_num_examples overSample_randPop\n",
      "Passed on: 2_wine calculate_overall_error_calculate_overall_inverse_f1_calculate_num_examples overSample_randPop\n",
      "Passed on: 2_wine calculate_class0_error_calculate_class1_error overSample_randPop\n",
      "Passed on: 3_wine calculate_overall_error_calculate_num_examples overSample_randPop\n",
      "Passed on: 3_wine calculate_overall_error_calculate_overall_inverse_f1_calculate_num_examples overSample_randPop\n",
      "Passed on: 3_wine calculate_class0_error_calculate_class1_error overSample_randPop\n",
      "Passed on: 4_wine calculate_overall_error_calculate_num_examples overSample_randPop\n",
      "Passed on: 4_wine calculate_overall_error_calculate_overall_inverse_f1_calculate_num_examples overSample_randPop\n",
      "Passed on: 4_wine calculate_class0_error_calculate_class1_error overSample_randPop\n",
      "Passed on: 5_wine calculate_overall_error_calculate_num_examples overSample_randPop\n",
      "Passed on: 5_wine calculate_overall_error_calculate_overall_inverse_f1_calculate_num_examples overSample_randPop\n",
      "Passed on: 5_wine calculate_class0_error_calculate_class1_error overSample_randPop\n",
      "Passed on: 6_wine calculate_overall_error_calculate_num_examples overSample_randPop\n",
      "Passed on: 6_wine calculate_overall_error_calculate_overall_inverse_f1_calculate_num_examples overSample_randPop\n",
      "Passed on: 6_wine calculate_class0_error_calculate_class1_error overSample_randPop\n",
      "Passed on: 7_wine calculate_overall_error_calculate_num_examples overSample_randPop\n",
      "Passed on: 7_wine calculate_overall_error_calculate_overall_inverse_f1_calculate_num_examples overSample_randPop\n",
      "Passed on: 7_wine calculate_class0_error_calculate_class1_error overSample_randPop\n",
      "Passed on: 8_wine calculate_overall_error_calculate_num_examples overSample_randPop\n",
      "Passed on: 8_wine calculate_overall_error_calculate_overall_inverse_f1_calculate_num_examples overSample_randPop\n",
      "Passed on: 8_wine calculate_class0_error_calculate_class1_error overSample_randPop\n",
      "Passed on: 9_wine calculate_overall_error_calculate_num_examples overSample_randPop\n",
      "Passed on: 9_wine calculate_overall_error_calculate_overall_inverse_f1_calculate_num_examples overSample_randPop\n",
      "Passed on: 9_wine calculate_class0_error_calculate_class1_error overSample_randPop\n",
      "Passed on: 10_wine calculate_overall_error_calculate_num_examples overSample_randPop\n",
      "Passed on: 10_wine calculate_overall_error_calculate_overall_inverse_f1_calculate_num_examples overSample_randPop\n",
      "Passed on: 10_wine calculate_class0_error_calculate_class1_error overSample_randPop\n",
      "Passed on: 11_wine calculate_overall_error_calculate_num_examples overSample_randPop\n",
      "Passed on: 11_wine calculate_overall_error_calculate_overall_inverse_f1_calculate_num_examples overSample_randPop\n",
      "Passed on: 11_wine calculate_class0_error_calculate_class1_error overSample_randPop\n",
      "Passed on: 12_wine calculate_overall_error_calculate_num_examples overSample_randPop\n",
      "Passed on: 12_wine calculate_overall_error_calculate_overall_inverse_f1_calculate_num_examples overSample_randPop\n",
      "Passed on: 12_wine calculate_class0_error_calculate_class1_error overSample_randPop\n",
      "Passed on: 13_wine calculate_overall_error_calculate_num_examples overSample_randPop\n",
      "Passed on: 13_wine calculate_overall_error_calculate_overall_inverse_f1_calculate_num_examples overSample_randPop\n",
      "Passed on: 13_wine calculate_class0_error_calculate_class1_error overSample_randPop\n",
      "Passed on: 14_wine calculate_overall_error_calculate_num_examples overSample_randPop\n",
      "Passed on: 14_wine calculate_overall_error_calculate_overall_inverse_f1_calculate_num_examples overSample_randPop\n",
      "Passed on: 14_wine calculate_class0_error_calculate_class1_error overSample_randPop\n",
      "Passed on: 15_wine calculate_overall_error_calculate_num_examples overSample_randPop\n",
      "Passed on: 15_wine calculate_overall_error_calculate_overall_inverse_f1_calculate_num_examples overSample_randPop\n",
      "Passed on: 15_wine calculate_class0_error_calculate_class1_error overSample_randPop\n",
      "Passed on: 16_wine calculate_overall_error_calculate_num_examples overSample_randPop\n",
      "Passed on: 16_wine calculate_overall_error_calculate_overall_inverse_f1_calculate_num_examples overSample_randPop\n",
      "Passed on: 16_wine calculate_class0_error_calculate_class1_error overSample_randPop\n",
      "Passed on: 17_wine calculate_overall_error_calculate_num_examples overSample_randPop\n",
      "Passed on: 17_wine calculate_overall_error_calculate_overall_inverse_f1_calculate_num_examples overSample_randPop\n",
      "Passed on: 17_wine calculate_class0_error_calculate_class1_error overSample_randPop\n",
      "Passed on: 18_wine calculate_overall_error_calculate_num_examples overSample_randPop\n",
      "Passed on: 18_wine calculate_overall_error_calculate_overall_inverse_f1_calculate_num_examples overSample_randPop\n",
      "Passed on: 18_wine calculate_class0_error_calculate_class1_error overSample_randPop\n",
      "Passed on: 19_wine calculate_overall_error_calculate_num_examples overSample_randPop\n",
      "Passed on: 19_wine calculate_overall_error_calculate_overall_inverse_f1_calculate_num_examples overSample_randPop\n",
      "Passed on: 19_wine calculate_class0_error_calculate_class1_error overSample_randPop\n",
      "Passed on: 20_wine calculate_overall_error_calculate_num_examples overSample_randPop\n",
      "Passed on: 20_wine calculate_overall_error_calculate_overall_inverse_f1_calculate_num_examples overSample_randPop\n",
      "Passed on: 20_wine calculate_class0_error_calculate_class1_error overSample_randPop\n",
      "Passed on: 21_wine calculate_overall_error_calculate_num_examples overSample_randPop\n",
      "Passed on: 21_wine calculate_overall_error_calculate_overall_inverse_f1_calculate_num_examples overSample_randPop\n",
      "Passed on: 21_wine calculate_class0_error_calculate_class1_error overSample_randPop\n",
      "Passed on: 22_wine calculate_overall_error_calculate_num_examples overSample_randPop\n",
      "Passed on: 22_wine calculate_overall_error_calculate_overall_inverse_f1_calculate_num_examples overSample_randPop\n",
      "Passed on: 22_wine calculate_class0_error_calculate_class1_error overSample_randPop\n",
      "Passed on: 23_wine calculate_overall_error_calculate_num_examples overSample_randPop\n",
      "Passed on: 23_wine calculate_overall_error_calculate_overall_inverse_f1_calculate_num_examples overSample_randPop\n",
      "Passed on: 23_wine calculate_class0_error_calculate_class1_error overSample_randPop\n",
      "Passed on: 24_wine calculate_overall_error_calculate_num_examples overSample_randPop\n",
      "Passed on: 24_wine calculate_overall_error_calculate_overall_inverse_f1_calculate_num_examples overSample_randPop\n",
      "Passed on: 24_wine calculate_class0_error_calculate_class1_error overSample_randPop\n",
      "Passed on: 25_wine calculate_overall_error_calculate_num_examples overSample_randPop\n",
      "Passed on: 25_wine calculate_overall_error_calculate_overall_inverse_f1_calculate_num_examples overSample_randPop\n",
      "Passed on: 25_wine calculate_class0_error_calculate_class1_error overSample_randPop\n",
      "Passed on: 26_wine calculate_overall_error_calculate_num_examples overSample_randPop\n",
      "Passed on: 26_wine calculate_overall_error_calculate_overall_inverse_f1_calculate_num_examples overSample_randPop\n",
      "Passed on: 26_wine calculate_class0_error_calculate_class1_error overSample_randPop\n",
      "Passed on: 27_wine calculate_overall_error_calculate_num_examples overSample_randPop\n",
      "Passed on: 27_wine calculate_overall_error_calculate_overall_inverse_f1_calculate_num_examples overSample_randPop\n",
      "Passed on: 27_wine calculate_class0_error_calculate_class1_error overSample_randPop\n",
      "Passed on: 28_wine calculate_overall_error_calculate_num_examples overSample_randPop\n",
      "Passed on: 28_wine calculate_overall_error_calculate_overall_inverse_f1_calculate_num_examples overSample_randPop\n",
      "Passed on: 28_wine calculate_class0_error_calculate_class1_error overSample_randPop\n",
      "Passed on: 29_wine calculate_overall_error_calculate_num_examples overSample_randPop\n",
      "Passed on: 29_wine calculate_overall_error_calculate_overall_inverse_f1_calculate_num_examples overSample_randPop\n",
      "Passed on: 29_wine calculate_class0_error_calculate_class1_error overSample_randPop\n",
      "Passed on: 30_wine calculate_overall_error_calculate_num_examples overSample_randPop\n",
      "Passed on: 30_wine calculate_overall_error_calculate_overall_inverse_f1_calculate_num_examples overSample_randPop\n",
      "Passed on: 30_wine calculate_class0_error_calculate_class1_error overSample_randPop\n"
     ]
    },
    {
     "name": "stderr",
     "output_type": "stream",
     "text": [
      "e:\\Code\\3_13_venv\\Lib\\site-packages\\sklearn\\preprocessing\\_label.py:110: DataConversionWarning: A column-vector y was passed when a 1d array was expected. Please change the shape of y to (n_samples, ), for example using ravel().\n",
      "  y = column_or_1d(y, warn=True)\n"
     ]
    },
    {
     "name": "stdout",
     "output_type": "stream",
     "text": [
      "Passed on: 0_ILPD calculate_overall_error_calculate_num_examples overSample_randPop\n",
      "Passed on: 0_ILPD calculate_overall_error_calculate_overall_inverse_f1_calculate_num_examples overSample_randPop\n",
      "Passed on: 0_ILPD calculate_class0_error_calculate_class1_error overSample_randPop\n",
      "Passed on: 1_ILPD calculate_overall_error_calculate_num_examples overSample_randPop\n",
      "Passed on: 1_ILPD calculate_overall_error_calculate_overall_inverse_f1_calculate_num_examples overSample_randPop\n",
      "Passed on: 1_ILPD calculate_class0_error_calculate_class1_error overSample_randPop\n",
      "Passed on: 2_ILPD calculate_overall_error_calculate_num_examples overSample_randPop\n",
      "Passed on: 2_ILPD calculate_overall_error_calculate_overall_inverse_f1_calculate_num_examples overSample_randPop\n",
      "Passed on: 2_ILPD calculate_class0_error_calculate_class1_error overSample_randPop\n",
      "Passed on: 3_ILPD calculate_overall_error_calculate_num_examples overSample_randPop\n",
      "Passed on: 3_ILPD calculate_overall_error_calculate_overall_inverse_f1_calculate_num_examples overSample_randPop\n",
      "Passed on: 3_ILPD calculate_class0_error_calculate_class1_error overSample_randPop\n",
      "Passed on: 4_ILPD calculate_overall_error_calculate_num_examples overSample_randPop\n",
      "Passed on: 4_ILPD calculate_overall_error_calculate_overall_inverse_f1_calculate_num_examples overSample_randPop\n",
      "Passed on: 4_ILPD calculate_class0_error_calculate_class1_error overSample_randPop\n",
      "Passed on: 5_ILPD calculate_overall_error_calculate_num_examples overSample_randPop\n",
      "Passed on: 5_ILPD calculate_overall_error_calculate_overall_inverse_f1_calculate_num_examples overSample_randPop\n",
      "Passed on: 5_ILPD calculate_class0_error_calculate_class1_error overSample_randPop\n",
      "Passed on: 6_ILPD calculate_overall_error_calculate_num_examples overSample_randPop\n",
      "Passed on: 6_ILPD calculate_overall_error_calculate_overall_inverse_f1_calculate_num_examples overSample_randPop\n",
      "Passed on: 6_ILPD calculate_class0_error_calculate_class1_error overSample_randPop\n",
      "Passed on: 7_ILPD calculate_overall_error_calculate_num_examples overSample_randPop\n",
      "Passed on: 7_ILPD calculate_overall_error_calculate_overall_inverse_f1_calculate_num_examples overSample_randPop\n",
      "Passed on: 7_ILPD calculate_class0_error_calculate_class1_error overSample_randPop\n",
      "Passed on: 8_ILPD calculate_overall_error_calculate_num_examples overSample_randPop\n",
      "Passed on: 8_ILPD calculate_overall_error_calculate_overall_inverse_f1_calculate_num_examples overSample_randPop\n",
      "Passed on: 8_ILPD calculate_class0_error_calculate_class1_error overSample_randPop\n",
      "Passed on: 9_ILPD calculate_overall_error_calculate_num_examples overSample_randPop\n",
      "Passed on: 9_ILPD calculate_overall_error_calculate_overall_inverse_f1_calculate_num_examples overSample_randPop\n",
      "Passed on: 9_ILPD calculate_class0_error_calculate_class1_error overSample_randPop\n",
      "Passed on: 10_ILPD calculate_overall_error_calculate_num_examples overSample_randPop\n",
      "Passed on: 10_ILPD calculate_overall_error_calculate_overall_inverse_f1_calculate_num_examples overSample_randPop\n",
      "Passed on: 10_ILPD calculate_class0_error_calculate_class1_error overSample_randPop\n",
      "Passed on: 11_ILPD calculate_overall_error_calculate_num_examples overSample_randPop\n",
      "Passed on: 11_ILPD calculate_overall_error_calculate_overall_inverse_f1_calculate_num_examples overSample_randPop\n",
      "Passed on: 11_ILPD calculate_class0_error_calculate_class1_error overSample_randPop\n",
      "Passed on: 12_ILPD calculate_overall_error_calculate_num_examples overSample_randPop\n",
      "Passed on: 12_ILPD calculate_overall_error_calculate_overall_inverse_f1_calculate_num_examples overSample_randPop\n",
      "Passed on: 12_ILPD calculate_class0_error_calculate_class1_error overSample_randPop\n",
      "Passed on: 13_ILPD calculate_overall_error_calculate_num_examples overSample_randPop\n",
      "Passed on: 13_ILPD calculate_overall_error_calculate_overall_inverse_f1_calculate_num_examples overSample_randPop\n",
      "Passed on: 13_ILPD calculate_class0_error_calculate_class1_error overSample_randPop\n",
      "Passed on: 14_ILPD calculate_overall_error_calculate_num_examples overSample_randPop\n",
      "Passed on: 14_ILPD calculate_overall_error_calculate_overall_inverse_f1_calculate_num_examples overSample_randPop\n",
      "Passed on: 14_ILPD calculate_class0_error_calculate_class1_error overSample_randPop\n",
      "Passed on: 15_ILPD calculate_overall_error_calculate_num_examples overSample_randPop\n",
      "Passed on: 15_ILPD calculate_overall_error_calculate_overall_inverse_f1_calculate_num_examples overSample_randPop\n",
      "Passed on: 15_ILPD calculate_class0_error_calculate_class1_error overSample_randPop\n",
      "Passed on: 16_ILPD calculate_overall_error_calculate_num_examples overSample_randPop\n",
      "Passed on: 16_ILPD calculate_overall_error_calculate_overall_inverse_f1_calculate_num_examples overSample_randPop\n",
      "Passed on: 16_ILPD calculate_class0_error_calculate_class1_error overSample_randPop\n",
      "Passed on: 17_ILPD calculate_overall_error_calculate_num_examples overSample_randPop\n",
      "Passed on: 17_ILPD calculate_overall_error_calculate_overall_inverse_f1_calculate_num_examples overSample_randPop\n",
      "Passed on: 17_ILPD calculate_class0_error_calculate_class1_error overSample_randPop\n",
      "Passed on: 18_ILPD calculate_overall_error_calculate_num_examples overSample_randPop\n",
      "Passed on: 18_ILPD calculate_overall_error_calculate_overall_inverse_f1_calculate_num_examples overSample_randPop\n",
      "Passed on: 18_ILPD calculate_class0_error_calculate_class1_error overSample_randPop\n",
      "Passed on: 19_ILPD calculate_overall_error_calculate_num_examples overSample_randPop\n",
      "Passed on: 19_ILPD calculate_overall_error_calculate_overall_inverse_f1_calculate_num_examples overSample_randPop\n",
      "Passed on: 19_ILPD calculate_class0_error_calculate_class1_error overSample_randPop\n",
      "Passed on: 20_ILPD calculate_overall_error_calculate_num_examples overSample_randPop\n",
      "Passed on: 20_ILPD calculate_overall_error_calculate_overall_inverse_f1_calculate_num_examples overSample_randPop\n",
      "Passed on: 20_ILPD calculate_class0_error_calculate_class1_error overSample_randPop\n",
      "Passed on: 21_ILPD calculate_overall_error_calculate_num_examples overSample_randPop\n",
      "Passed on: 21_ILPD calculate_overall_error_calculate_overall_inverse_f1_calculate_num_examples overSample_randPop\n",
      "Passed on: 21_ILPD calculate_class0_error_calculate_class1_error overSample_randPop\n",
      "Passed on: 22_ILPD calculate_overall_error_calculate_num_examples overSample_randPop\n",
      "Passed on: 22_ILPD calculate_overall_error_calculate_overall_inverse_f1_calculate_num_examples overSample_randPop\n",
      "Passed on: 22_ILPD calculate_class0_error_calculate_class1_error overSample_randPop\n",
      "Passed on: 23_ILPD calculate_overall_error_calculate_num_examples overSample_randPop\n",
      "Passed on: 23_ILPD calculate_overall_error_calculate_overall_inverse_f1_calculate_num_examples overSample_randPop\n",
      "Passed on: 23_ILPD calculate_class0_error_calculate_class1_error overSample_randPop\n",
      "Passed on: 24_ILPD calculate_overall_error_calculate_num_examples overSample_randPop\n",
      "Passed on: 24_ILPD calculate_overall_error_calculate_overall_inverse_f1_calculate_num_examples overSample_randPop\n",
      "Passed on: 24_ILPD calculate_class0_error_calculate_class1_error overSample_randPop\n",
      "Passed on: 25_ILPD calculate_overall_error_calculate_num_examples overSample_randPop\n",
      "Passed on: 25_ILPD calculate_overall_error_calculate_overall_inverse_f1_calculate_num_examples overSample_randPop\n",
      "Passed on: 25_ILPD calculate_class0_error_calculate_class1_error overSample_randPop\n",
      "Passed on: 26_ILPD calculate_overall_error_calculate_num_examples overSample_randPop\n",
      "Passed on: 26_ILPD calculate_overall_error_calculate_overall_inverse_f1_calculate_num_examples overSample_randPop\n",
      "Passed on: 26_ILPD calculate_class0_error_calculate_class1_error overSample_randPop\n",
      "Passed on: 27_ILPD calculate_overall_error_calculate_num_examples overSample_randPop\n",
      "Passed on: 27_ILPD calculate_overall_error_calculate_overall_inverse_f1_calculate_num_examples overSample_randPop\n",
      "Passed on: 27_ILPD calculate_class0_error_calculate_class1_error overSample_randPop\n",
      "Passed on: 28_ILPD calculate_overall_error_calculate_num_examples overSample_randPop\n",
      "Passed on: 28_ILPD calculate_overall_error_calculate_overall_inverse_f1_calculate_num_examples overSample_randPop\n",
      "Passed on: 28_ILPD calculate_class0_error_calculate_class1_error overSample_randPop\n",
      "Passed on: 29_ILPD calculate_overall_error_calculate_num_examples overSample_randPop\n",
      "Passed on: 29_ILPD calculate_overall_error_calculate_overall_inverse_f1_calculate_num_examples overSample_randPop\n",
      "Passed on: 29_ILPD calculate_class0_error_calculate_class1_error overSample_randPop\n",
      "Passed on: 30_ILPD calculate_overall_error_calculate_num_examples overSample_randPop\n",
      "Passed on: 30_ILPD calculate_overall_error_calculate_overall_inverse_f1_calculate_num_examples overSample_randPop\n",
      "Passed on: 30_ILPD calculate_class0_error_calculate_class1_error overSample_randPop\n"
     ]
    },
    {
     "name": "stderr",
     "output_type": "stream",
     "text": [
      "e:\\Code\\3_13_venv\\Lib\\site-packages\\sklearn\\preprocessing\\_label.py:110: DataConversionWarning: A column-vector y was passed when a 1d array was expected. Please change the shape of y to (n_samples, ), for example using ravel().\n",
      "  y = column_or_1d(y, warn=True)\n"
     ]
    },
    {
     "name": "stdout",
     "output_type": "stream",
     "text": [
      "Passed on: 0_heart_disease calculate_overall_error_calculate_num_examples overSample_randPop\n",
      "Passed on: 0_heart_disease calculate_overall_error_calculate_overall_inverse_f1_calculate_num_examples overSample_randPop\n",
      "Passed on: 0_heart_disease calculate_class0_error_calculate_class1_error overSample_randPop\n",
      "Passed on: 1_heart_disease calculate_overall_error_calculate_num_examples overSample_randPop\n",
      "Passed on: 1_heart_disease calculate_overall_error_calculate_overall_inverse_f1_calculate_num_examples overSample_randPop\n",
      "Passed on: 1_heart_disease calculate_class0_error_calculate_class1_error overSample_randPop\n",
      "Passed on: 2_heart_disease calculate_overall_error_calculate_num_examples overSample_randPop\n",
      "Passed on: 2_heart_disease calculate_overall_error_calculate_overall_inverse_f1_calculate_num_examples overSample_randPop\n",
      "Passed on: 2_heart_disease calculate_class0_error_calculate_class1_error overSample_randPop\n",
      "Passed on: 3_heart_disease calculate_overall_error_calculate_num_examples overSample_randPop\n",
      "Passed on: 3_heart_disease calculate_overall_error_calculate_overall_inverse_f1_calculate_num_examples overSample_randPop\n",
      "Passed on: 3_heart_disease calculate_class0_error_calculate_class1_error overSample_randPop\n",
      "Passed on: 4_heart_disease calculate_overall_error_calculate_num_examples overSample_randPop\n",
      "Passed on: 4_heart_disease calculate_overall_error_calculate_overall_inverse_f1_calculate_num_examples overSample_randPop\n",
      "Passed on: 4_heart_disease calculate_class0_error_calculate_class1_error overSample_randPop\n",
      "Passed on: 5_heart_disease calculate_overall_error_calculate_num_examples overSample_randPop\n",
      "Passed on: 5_heart_disease calculate_overall_error_calculate_overall_inverse_f1_calculate_num_examples overSample_randPop\n",
      "Passed on: 5_heart_disease calculate_class0_error_calculate_class1_error overSample_randPop\n",
      "Passed on: 6_heart_disease calculate_overall_error_calculate_num_examples overSample_randPop\n",
      "Passed on: 6_heart_disease calculate_overall_error_calculate_overall_inverse_f1_calculate_num_examples overSample_randPop\n",
      "Passed on: 6_heart_disease calculate_class0_error_calculate_class1_error overSample_randPop\n",
      "Passed on: 7_heart_disease calculate_overall_error_calculate_num_examples overSample_randPop\n",
      "Passed on: 7_heart_disease calculate_overall_error_calculate_overall_inverse_f1_calculate_num_examples overSample_randPop\n",
      "Passed on: 7_heart_disease calculate_class0_error_calculate_class1_error overSample_randPop\n",
      "Passed on: 8_heart_disease calculate_overall_error_calculate_num_examples overSample_randPop\n",
      "Passed on: 8_heart_disease calculate_overall_error_calculate_overall_inverse_f1_calculate_num_examples overSample_randPop\n",
      "Passed on: 8_heart_disease calculate_class0_error_calculate_class1_error overSample_randPop\n",
      "Passed on: 9_heart_disease calculate_overall_error_calculate_num_examples overSample_randPop\n",
      "Passed on: 9_heart_disease calculate_overall_error_calculate_overall_inverse_f1_calculate_num_examples overSample_randPop\n",
      "Passed on: 9_heart_disease calculate_class0_error_calculate_class1_error overSample_randPop\n",
      "Passed on: 10_heart_disease calculate_overall_error_calculate_num_examples overSample_randPop\n",
      "Passed on: 10_heart_disease calculate_overall_error_calculate_overall_inverse_f1_calculate_num_examples overSample_randPop\n",
      "Passed on: 10_heart_disease calculate_class0_error_calculate_class1_error overSample_randPop\n",
      "Passed on: 11_heart_disease calculate_overall_error_calculate_num_examples overSample_randPop\n",
      "Passed on: 11_heart_disease calculate_overall_error_calculate_overall_inverse_f1_calculate_num_examples overSample_randPop\n",
      "Passed on: 11_heart_disease calculate_class0_error_calculate_class1_error overSample_randPop\n",
      "Passed on: 12_heart_disease calculate_overall_error_calculate_num_examples overSample_randPop\n",
      "Passed on: 12_heart_disease calculate_overall_error_calculate_overall_inverse_f1_calculate_num_examples overSample_randPop\n",
      "Passed on: 12_heart_disease calculate_class0_error_calculate_class1_error overSample_randPop\n",
      "Passed on: 13_heart_disease calculate_overall_error_calculate_num_examples overSample_randPop\n",
      "Passed on: 13_heart_disease calculate_overall_error_calculate_overall_inverse_f1_calculate_num_examples overSample_randPop\n",
      "Passed on: 13_heart_disease calculate_class0_error_calculate_class1_error overSample_randPop\n",
      "Passed on: 14_heart_disease calculate_overall_error_calculate_num_examples overSample_randPop\n",
      "Passed on: 14_heart_disease calculate_overall_error_calculate_overall_inverse_f1_calculate_num_examples overSample_randPop\n",
      "Passed on: 14_heart_disease calculate_class0_error_calculate_class1_error overSample_randPop\n",
      "Passed on: 15_heart_disease calculate_overall_error_calculate_num_examples overSample_randPop\n",
      "Passed on: 15_heart_disease calculate_overall_error_calculate_overall_inverse_f1_calculate_num_examples overSample_randPop\n",
      "Passed on: 15_heart_disease calculate_class0_error_calculate_class1_error overSample_randPop\n",
      "Passed on: 16_heart_disease calculate_overall_error_calculate_num_examples overSample_randPop\n",
      "Passed on: 16_heart_disease calculate_overall_error_calculate_overall_inverse_f1_calculate_num_examples overSample_randPop\n",
      "Passed on: 16_heart_disease calculate_class0_error_calculate_class1_error overSample_randPop\n",
      "Passed on: 17_heart_disease calculate_overall_error_calculate_num_examples overSample_randPop\n",
      "Passed on: 17_heart_disease calculate_overall_error_calculate_overall_inverse_f1_calculate_num_examples overSample_randPop\n",
      "Passed on: 17_heart_disease calculate_class0_error_calculate_class1_error overSample_randPop\n",
      "Passed on: 18_heart_disease calculate_overall_error_calculate_num_examples overSample_randPop\n",
      "Passed on: 18_heart_disease calculate_overall_error_calculate_overall_inverse_f1_calculate_num_examples overSample_randPop\n",
      "Passed on: 18_heart_disease calculate_class0_error_calculate_class1_error overSample_randPop\n",
      "Passed on: 19_heart_disease calculate_overall_error_calculate_num_examples overSample_randPop\n",
      "Passed on: 19_heart_disease calculate_overall_error_calculate_overall_inverse_f1_calculate_num_examples overSample_randPop\n",
      "Passed on: 19_heart_disease calculate_class0_error_calculate_class1_error overSample_randPop\n",
      "Passed on: 20_heart_disease calculate_overall_error_calculate_num_examples overSample_randPop\n",
      "Passed on: 20_heart_disease calculate_overall_error_calculate_overall_inverse_f1_calculate_num_examples overSample_randPop\n",
      "Passed on: 20_heart_disease calculate_class0_error_calculate_class1_error overSample_randPop\n",
      "Passed on: 21_heart_disease calculate_overall_error_calculate_num_examples overSample_randPop\n",
      "Passed on: 21_heart_disease calculate_overall_error_calculate_overall_inverse_f1_calculate_num_examples overSample_randPop\n",
      "Passed on: 21_heart_disease calculate_class0_error_calculate_class1_error overSample_randPop\n",
      "Passed on: 22_heart_disease calculate_overall_error_calculate_num_examples overSample_randPop\n",
      "Passed on: 22_heart_disease calculate_overall_error_calculate_overall_inverse_f1_calculate_num_examples overSample_randPop\n",
      "Passed on: 22_heart_disease calculate_class0_error_calculate_class1_error overSample_randPop\n",
      "Passed on: 23_heart_disease calculate_overall_error_calculate_num_examples overSample_randPop\n",
      "Passed on: 23_heart_disease calculate_overall_error_calculate_overall_inverse_f1_calculate_num_examples overSample_randPop\n",
      "Passed on: 23_heart_disease calculate_class0_error_calculate_class1_error overSample_randPop\n",
      "Passed on: 24_heart_disease calculate_overall_error_calculate_num_examples overSample_randPop\n",
      "Passed on: 24_heart_disease calculate_overall_error_calculate_overall_inverse_f1_calculate_num_examples overSample_randPop\n",
      "Passed on: 24_heart_disease calculate_class0_error_calculate_class1_error overSample_randPop\n",
      "Passed on: 25_heart_disease calculate_overall_error_calculate_num_examples overSample_randPop\n",
      "Passed on: 25_heart_disease calculate_overall_error_calculate_overall_inverse_f1_calculate_num_examples overSample_randPop\n",
      "Passed on: 25_heart_disease calculate_class0_error_calculate_class1_error overSample_randPop\n",
      "Passed on: 26_heart_disease calculate_overall_error_calculate_num_examples overSample_randPop\n",
      "Passed on: 26_heart_disease calculate_overall_error_calculate_overall_inverse_f1_calculate_num_examples overSample_randPop\n",
      "Passed on: 26_heart_disease calculate_class0_error_calculate_class1_error overSample_randPop\n",
      "Passed on: 27_heart_disease calculate_overall_error_calculate_num_examples overSample_randPop\n",
      "Passed on: 27_heart_disease calculate_overall_error_calculate_overall_inverse_f1_calculate_num_examples overSample_randPop\n",
      "Passed on: 27_heart_disease calculate_class0_error_calculate_class1_error overSample_randPop\n",
      "Passed on: 28_heart_disease calculate_overall_error_calculate_num_examples overSample_randPop\n",
      "Passed on: 28_heart_disease calculate_overall_error_calculate_overall_inverse_f1_calculate_num_examples overSample_randPop\n",
      "Passed on: 28_heart_disease calculate_class0_error_calculate_class1_error overSample_randPop\n",
      "Passed on: 29_heart_disease calculate_overall_error_calculate_num_examples overSample_randPop\n",
      "Passed on: 29_heart_disease calculate_overall_error_calculate_overall_inverse_f1_calculate_num_examples overSample_randPop\n",
      "Passed on: 29_heart_disease calculate_class0_error_calculate_class1_error overSample_randPop\n",
      "Passed on: 30_heart_disease calculate_overall_error_calculate_num_examples overSample_randPop\n",
      "Passed on: 30_heart_disease calculate_overall_error_calculate_overall_inverse_f1_calculate_num_examples overSample_randPop\n",
      "Passed on: 30_heart_disease calculate_class0_error_calculate_class1_error overSample_randPop\n"
     ]
    },
    {
     "name": "stderr",
     "output_type": "stream",
     "text": [
      "e:\\Code\\3_13_venv\\Lib\\site-packages\\sklearn\\preprocessing\\_label.py:110: DataConversionWarning: A column-vector y was passed when a 1d array was expected. Please change the shape of y to (n_samples, ), for example using ravel().\n",
      "  y = column_or_1d(y, warn=True)\n"
     ]
    },
    {
     "name": "stdout",
     "output_type": "stream",
     "text": [
      "Passed on: 0_wisconsin calculate_overall_error_calculate_num_examples overSample_randPop\n",
      "Passed on: 0_wisconsin calculate_overall_error_calculate_overall_inverse_f1_calculate_num_examples overSample_randPop\n",
      "Passed on: 0_wisconsin calculate_class0_error_calculate_class1_error overSample_randPop\n",
      "Passed on: 1_wisconsin calculate_overall_error_calculate_num_examples overSample_randPop\n",
      "Passed on: 1_wisconsin calculate_overall_error_calculate_overall_inverse_f1_calculate_num_examples overSample_randPop\n",
      "Passed on: 1_wisconsin calculate_class0_error_calculate_class1_error overSample_randPop\n",
      "Passed on: 2_wisconsin calculate_overall_error_calculate_num_examples overSample_randPop\n",
      "Passed on: 2_wisconsin calculate_overall_error_calculate_overall_inverse_f1_calculate_num_examples overSample_randPop\n",
      "Passed on: 2_wisconsin calculate_class0_error_calculate_class1_error overSample_randPop\n",
      "Passed on: 3_wisconsin calculate_overall_error_calculate_num_examples overSample_randPop\n",
      "Passed on: 3_wisconsin calculate_overall_error_calculate_overall_inverse_f1_calculate_num_examples overSample_randPop\n",
      "Passed on: 3_wisconsin calculate_class0_error_calculate_class1_error overSample_randPop\n",
      "Passed on: 4_wisconsin calculate_overall_error_calculate_num_examples overSample_randPop\n",
      "Passed on: 4_wisconsin calculate_overall_error_calculate_overall_inverse_f1_calculate_num_examples overSample_randPop\n",
      "Passed on: 4_wisconsin calculate_class0_error_calculate_class1_error overSample_randPop\n",
      "Passed on: 5_wisconsin calculate_overall_error_calculate_num_examples overSample_randPop\n",
      "Passed on: 5_wisconsin calculate_overall_error_calculate_overall_inverse_f1_calculate_num_examples overSample_randPop\n",
      "Passed on: 5_wisconsin calculate_class0_error_calculate_class1_error overSample_randPop\n",
      "Passed on: 6_wisconsin calculate_overall_error_calculate_num_examples overSample_randPop\n",
      "Passed on: 6_wisconsin calculate_overall_error_calculate_overall_inverse_f1_calculate_num_examples overSample_randPop\n",
      "Passed on: 6_wisconsin calculate_class0_error_calculate_class1_error overSample_randPop\n",
      "Passed on: 7_wisconsin calculate_overall_error_calculate_num_examples overSample_randPop\n",
      "Passed on: 7_wisconsin calculate_overall_error_calculate_overall_inverse_f1_calculate_num_examples overSample_randPop\n",
      "Passed on: 7_wisconsin calculate_class0_error_calculate_class1_error overSample_randPop\n",
      "Passed on: 8_wisconsin calculate_overall_error_calculate_num_examples overSample_randPop\n",
      "Passed on: 8_wisconsin calculate_overall_error_calculate_overall_inverse_f1_calculate_num_examples overSample_randPop\n",
      "Passed on: 8_wisconsin calculate_class0_error_calculate_class1_error overSample_randPop\n",
      "Passed on: 9_wisconsin calculate_overall_error_calculate_num_examples overSample_randPop\n",
      "Passed on: 9_wisconsin calculate_overall_error_calculate_overall_inverse_f1_calculate_num_examples overSample_randPop\n",
      "Passed on: 9_wisconsin calculate_class0_error_calculate_class1_error overSample_randPop\n",
      "Passed on: 10_wisconsin calculate_overall_error_calculate_num_examples overSample_randPop\n",
      "Passed on: 10_wisconsin calculate_overall_error_calculate_overall_inverse_f1_calculate_num_examples overSample_randPop\n",
      "Passed on: 10_wisconsin calculate_class0_error_calculate_class1_error overSample_randPop\n",
      "Passed on: 11_wisconsin calculate_overall_error_calculate_num_examples overSample_randPop\n",
      "Passed on: 11_wisconsin calculate_overall_error_calculate_overall_inverse_f1_calculate_num_examples overSample_randPop\n",
      "Passed on: 11_wisconsin calculate_class0_error_calculate_class1_error overSample_randPop\n",
      "Passed on: 12_wisconsin calculate_overall_error_calculate_num_examples overSample_randPop\n",
      "Passed on: 12_wisconsin calculate_overall_error_calculate_overall_inverse_f1_calculate_num_examples overSample_randPop\n",
      "Passed on: 12_wisconsin calculate_class0_error_calculate_class1_error overSample_randPop\n",
      "Passed on: 13_wisconsin calculate_overall_error_calculate_num_examples overSample_randPop\n",
      "Passed on: 13_wisconsin calculate_overall_error_calculate_overall_inverse_f1_calculate_num_examples overSample_randPop\n",
      "Passed on: 13_wisconsin calculate_class0_error_calculate_class1_error overSample_randPop\n",
      "Passed on: 14_wisconsin calculate_overall_error_calculate_num_examples overSample_randPop\n",
      "Passed on: 14_wisconsin calculate_overall_error_calculate_overall_inverse_f1_calculate_num_examples overSample_randPop\n",
      "Passed on: 14_wisconsin calculate_class0_error_calculate_class1_error overSample_randPop\n",
      "Passed on: 15_wisconsin calculate_overall_error_calculate_num_examples overSample_randPop\n",
      "Passed on: 15_wisconsin calculate_overall_error_calculate_overall_inverse_f1_calculate_num_examples overSample_randPop\n",
      "Passed on: 15_wisconsin calculate_class0_error_calculate_class1_error overSample_randPop\n",
      "Passed on: 16_wisconsin calculate_overall_error_calculate_num_examples overSample_randPop\n",
      "Passed on: 16_wisconsin calculate_overall_error_calculate_overall_inverse_f1_calculate_num_examples overSample_randPop\n",
      "Passed on: 16_wisconsin calculate_class0_error_calculate_class1_error overSample_randPop\n",
      "Passed on: 17_wisconsin calculate_overall_error_calculate_num_examples overSample_randPop\n",
      "Passed on: 17_wisconsin calculate_overall_error_calculate_overall_inverse_f1_calculate_num_examples overSample_randPop\n",
      "Passed on: 17_wisconsin calculate_class0_error_calculate_class1_error overSample_randPop\n",
      "Passed on: 18_wisconsin calculate_overall_error_calculate_num_examples overSample_randPop\n",
      "Passed on: 18_wisconsin calculate_overall_error_calculate_overall_inverse_f1_calculate_num_examples overSample_randPop\n",
      "Passed on: 18_wisconsin calculate_class0_error_calculate_class1_error overSample_randPop\n",
      "Passed on: 19_wisconsin calculate_overall_error_calculate_num_examples overSample_randPop\n",
      "Passed on: 19_wisconsin calculate_overall_error_calculate_overall_inverse_f1_calculate_num_examples overSample_randPop\n",
      "Passed on: 19_wisconsin calculate_class0_error_calculate_class1_error overSample_randPop\n",
      "Passed on: 20_wisconsin calculate_overall_error_calculate_num_examples overSample_randPop\n",
      "Passed on: 20_wisconsin calculate_overall_error_calculate_overall_inverse_f1_calculate_num_examples overSample_randPop\n",
      "Passed on: 20_wisconsin calculate_class0_error_calculate_class1_error overSample_randPop\n",
      "Passed on: 21_wisconsin calculate_overall_error_calculate_num_examples overSample_randPop\n",
      "Passed on: 21_wisconsin calculate_overall_error_calculate_overall_inverse_f1_calculate_num_examples overSample_randPop\n",
      "Passed on: 21_wisconsin calculate_class0_error_calculate_class1_error overSample_randPop\n",
      "Passed on: 22_wisconsin calculate_overall_error_calculate_num_examples overSample_randPop\n",
      "Passed on: 22_wisconsin calculate_overall_error_calculate_overall_inverse_f1_calculate_num_examples overSample_randPop\n",
      "Passed on: 22_wisconsin calculate_class0_error_calculate_class1_error overSample_randPop\n",
      "Passed on: 23_wisconsin calculate_overall_error_calculate_num_examples overSample_randPop\n",
      "Passed on: 23_wisconsin calculate_overall_error_calculate_overall_inverse_f1_calculate_num_examples overSample_randPop\n",
      "Passed on: 23_wisconsin calculate_class0_error_calculate_class1_error overSample_randPop\n",
      "Passed on: 24_wisconsin calculate_overall_error_calculate_num_examples overSample_randPop\n",
      "Passed on: 24_wisconsin calculate_overall_error_calculate_overall_inverse_f1_calculate_num_examples overSample_randPop\n",
      "Passed on: 24_wisconsin calculate_class0_error_calculate_class1_error overSample_randPop\n",
      "Passed on: 25_wisconsin calculate_overall_error_calculate_num_examples overSample_randPop\n",
      "Passed on: 25_wisconsin calculate_overall_error_calculate_overall_inverse_f1_calculate_num_examples overSample_randPop\n",
      "Passed on: 25_wisconsin calculate_class0_error_calculate_class1_error overSample_randPop\n",
      "Passed on: 26_wisconsin calculate_overall_error_calculate_num_examples overSample_randPop\n",
      "Passed on: 26_wisconsin calculate_overall_error_calculate_overall_inverse_f1_calculate_num_examples overSample_randPop\n",
      "Passed on: 26_wisconsin calculate_class0_error_calculate_class1_error overSample_randPop\n",
      "Passed on: 27_wisconsin calculate_overall_error_calculate_num_examples overSample_randPop\n",
      "Passed on: 27_wisconsin calculate_overall_error_calculate_overall_inverse_f1_calculate_num_examples overSample_randPop\n",
      "Passed on: 27_wisconsin calculate_class0_error_calculate_class1_error overSample_randPop\n",
      "Passed on: 28_wisconsin calculate_overall_error_calculate_num_examples overSample_randPop\n",
      "Passed on: 28_wisconsin calculate_overall_error_calculate_overall_inverse_f1_calculate_num_examples overSample_randPop\n",
      "Passed on: 28_wisconsin calculate_class0_error_calculate_class1_error overSample_randPop\n",
      "Passed on: 29_wisconsin calculate_overall_error_calculate_num_examples overSample_randPop\n",
      "Passed on: 29_wisconsin calculate_overall_error_calculate_overall_inverse_f1_calculate_num_examples overSample_randPop\n",
      "Passed on: 29_wisconsin calculate_class0_error_calculate_class1_error overSample_randPop\n",
      "Passed on: 30_wisconsin calculate_overall_error_calculate_num_examples overSample_randPop\n",
      "Passed on: 30_wisconsin calculate_overall_error_calculate_overall_inverse_f1_calculate_num_examples overSample_randPop\n",
      "Passed on: 30_wisconsin calculate_class0_error_calculate_class1_error overSample_randPop\n"
     ]
    },
    {
     "name": "stderr",
     "output_type": "stream",
     "text": [
      "e:\\Code\\3_13_venv\\Lib\\site-packages\\sklearn\\preprocessing\\_label.py:110: DataConversionWarning: A column-vector y was passed when a 1d array was expected. Please change the shape of y to (n_samples, ), for example using ravel().\n",
      "  y = column_or_1d(y, warn=True)\n"
     ]
    },
    {
     "name": "stdout",
     "output_type": "stream",
     "text": [
      "Passed on: 0_spambase calculate_overall_error_calculate_num_examples overSample_randPop\n"
     ]
    },
    {
     "name": "stderr",
     "output_type": "stream",
     "text": [
      "e:\\Code\\3_13_venv\\Lib\\site-packages\\sklearn\\preprocessing\\_label.py:110: DataConversionWarning: A column-vector y was passed when a 1d array was expected. Please change the shape of y to (n_samples, ), for example using ravel().\n",
      "  y = column_or_1d(y, warn=True)\n"
     ]
    },
    {
     "name": "stdout",
     "output_type": "stream",
     "text": [
      "Passed on: 0_mammographic calculate_overall_error_calculate_num_examples overSample_randPop\n"
     ]
    },
    {
     "name": "stderr",
     "output_type": "stream",
     "text": [
      "e:\\Code\\3_13_venv\\Lib\\site-packages\\sklearn\\preprocessing\\_label.py:110: DataConversionWarning: A column-vector y was passed when a 1d array was expected. Please change the shape of y to (n_samples, ), for example using ravel().\n",
      "  y = column_or_1d(y, warn=True)\n"
     ]
    },
    {
     "name": "stdout",
     "output_type": "stream",
     "text": [
      "Passed on: 0_yeast1 calculate_overall_error_calculate_num_examples overSample_randPop\n"
     ]
    },
    {
     "name": "stderr",
     "output_type": "stream",
     "text": [
      "e:\\Code\\3_13_venv\\Lib\\site-packages\\sklearn\\preprocessing\\_label.py:110: DataConversionWarning: A column-vector y was passed when a 1d array was expected. Please change the shape of y to (n_samples, ), for example using ravel().\n",
      "  y = column_or_1d(y, warn=True)\n"
     ]
    },
    {
     "name": "stdout",
     "output_type": "stream",
     "text": [
      "Passed on: 0_coimbra calculate_overall_error_calculate_num_examples overSample_randPop\n"
     ]
    },
    {
     "name": "stderr",
     "output_type": "stream",
     "text": [
      "e:\\Code\\3_13_venv\\Lib\\site-packages\\sklearn\\preprocessing\\_label.py:110: DataConversionWarning: A column-vector y was passed when a 1d array was expected. Please change the shape of y to (n_samples, ), for example using ravel().\n",
      "  y = column_or_1d(y, warn=True)\n"
     ]
    },
    {
     "name": "stdout",
     "output_type": "stream",
     "text": [
      "Passed on: 0_fertility calculate_overall_error_calculate_num_examples overSample_randPop\n"
     ]
    }
   ],
   "source": [
    "for dataset, name in datasets:\n",
    "\t\n",
    "\traw_X, y = dataset.data.features, dataset.data.targets\n",
    "\tpipeline = create_preprocessor_pipeline(dataset.variables)\n",
    "\tpipeline.fit(raw_X, y)\n",
    "\tX = pipeline.transform(raw_X)\n",
    "\tlabel_encoder = LabelEncoder()\n",
    "\ty = label_encoder.fit_transform(y)\n",
    "\t\n",
    "\tpackages = []\n",
    "\tfor c, (train_idx, validation_idx, test_idx) in enumerate(prepare_splits(X, y)):\n",
    "\t\tfor objectives in objectives_sets:\n",
    "\t\t\tobjectives_names = [re.search(r'\\.([a-zA-Z_][a-zA-Z0-9_]*)\\s', str(objective_name)).group(1) for objective_name in objectives]\n",
    "\t\t\tobjectives_names = '_'.join(objectives_names)\t\t\t\n",
    "\t\t\tpackages.append((X, y, train_idx, validation_idx, test_idx, objectives, f\"{c}_{name} {objectives_names} overSample_randPop\"))\n",
    "\t\t\t\n",
    "\t# for package in packages:\n",
    "\t# \tif os.path.exists(os.path.join(\"results\", f\"{package[-1]}.pickle\")):\n",
    "\t# \t\tcontinue\n",
    "\t# \tprint(f\"Executing {package[-1]}\")\n",
    "\t# \toverSample_randPop_execute(package)\n",
    "\n",
    "\tresults = Parallel(n_jobs=-1)(delayed(overSample_randPop_execute)(package) for package in packages)\n",
    "\tfor result in results:\n",
    "\t\tif isinstance(result, str):\n",
    "\t\t\tprint(f\"Passed on: {result}\")\n",
    "\t\t\tcontinue\n",
    "\t\t\n",
    "\t\twith open(os.path.join(\"results\", f\"{result['name']}.pickle\"), 'wb') as fh:\n",
    "\t\t\tpickle.dump(result, fh)\t"
   ]
  },
  {
   "cell_type": "code",
   "execution_count": 23,
   "metadata": {},
   "outputs": [
    {
     "name": "stderr",
     "output_type": "stream",
     "text": [
      "e:\\Code\\3_13_venv\\Lib\\site-packages\\sklearn\\preprocessing\\_label.py:110: DataConversionWarning: A column-vector y was passed when a 1d array was expected. Please change the shape of y to (n_samples, ), for example using ravel().\n",
      "  y = column_or_1d(y, warn=True)\n",
      "e:\\Code\\3_13_venv\\Lib\\site-packages\\sklearn\\preprocessing\\_label.py:110: DataConversionWarning: A column-vector y was passed when a 1d array was expected. Please change the shape of y to (n_samples, ), for example using ravel().\n",
      "  y = column_or_1d(y, warn=True)\n"
     ]
    },
    {
     "name": "stdout",
     "output_type": "stream",
     "text": [
      "Passed on: 0_ionosphere calculate_overall_error_calculate_num_examples regSample_randPop\n",
      "Passed on: 0_ionosphere calculate_overall_error_calculate_overall_inverse_f1_calculate_num_examples regSample_randPop\n",
      "Passed on: 0_ionosphere calculate_class0_error_calculate_class1_error regSample_randPop\n",
      "Passed on: 1_ionosphere calculate_overall_error_calculate_num_examples regSample_randPop\n",
      "Passed on: 1_ionosphere calculate_overall_error_calculate_overall_inverse_f1_calculate_num_examples regSample_randPop\n",
      "Passed on: 1_ionosphere calculate_class0_error_calculate_class1_error regSample_randPop\n",
      "Passed on: 2_ionosphere calculate_overall_error_calculate_num_examples regSample_randPop\n",
      "Passed on: 2_ionosphere calculate_overall_error_calculate_overall_inverse_f1_calculate_num_examples regSample_randPop\n",
      "Passed on: 2_ionosphere calculate_class0_error_calculate_class1_error regSample_randPop\n",
      "Passed on: 3_ionosphere calculate_overall_error_calculate_num_examples regSample_randPop\n",
      "Passed on: 3_ionosphere calculate_overall_error_calculate_overall_inverse_f1_calculate_num_examples regSample_randPop\n",
      "Passed on: 3_ionosphere calculate_class0_error_calculate_class1_error regSample_randPop\n",
      "Passed on: 4_ionosphere calculate_overall_error_calculate_num_examples regSample_randPop\n",
      "Passed on: 4_ionosphere calculate_overall_error_calculate_overall_inverse_f1_calculate_num_examples regSample_randPop\n",
      "Passed on: 4_ionosphere calculate_class0_error_calculate_class1_error regSample_randPop\n",
      "Passed on: 5_ionosphere calculate_overall_error_calculate_num_examples regSample_randPop\n",
      "Passed on: 5_ionosphere calculate_overall_error_calculate_overall_inverse_f1_calculate_num_examples regSample_randPop\n",
      "Passed on: 5_ionosphere calculate_class0_error_calculate_class1_error regSample_randPop\n",
      "Passed on: 6_ionosphere calculate_overall_error_calculate_num_examples regSample_randPop\n",
      "Passed on: 6_ionosphere calculate_overall_error_calculate_overall_inverse_f1_calculate_num_examples regSample_randPop\n",
      "Passed on: 6_ionosphere calculate_class0_error_calculate_class1_error regSample_randPop\n",
      "Passed on: 7_ionosphere calculate_overall_error_calculate_num_examples regSample_randPop\n",
      "Passed on: 7_ionosphere calculate_overall_error_calculate_overall_inverse_f1_calculate_num_examples regSample_randPop\n",
      "Passed on: 7_ionosphere calculate_class0_error_calculate_class1_error regSample_randPop\n",
      "Passed on: 8_ionosphere calculate_overall_error_calculate_num_examples regSample_randPop\n",
      "Passed on: 8_ionosphere calculate_overall_error_calculate_overall_inverse_f1_calculate_num_examples regSample_randPop\n",
      "Passed on: 8_ionosphere calculate_class0_error_calculate_class1_error regSample_randPop\n",
      "Passed on: 9_ionosphere calculate_overall_error_calculate_num_examples regSample_randPop\n",
      "Passed on: 9_ionosphere calculate_overall_error_calculate_overall_inverse_f1_calculate_num_examples regSample_randPop\n",
      "Passed on: 9_ionosphere calculate_class0_error_calculate_class1_error regSample_randPop\n",
      "Passed on: 10_ionosphere calculate_overall_error_calculate_num_examples regSample_randPop\n",
      "Passed on: 10_ionosphere calculate_overall_error_calculate_overall_inverse_f1_calculate_num_examples regSample_randPop\n",
      "Passed on: 10_ionosphere calculate_class0_error_calculate_class1_error regSample_randPop\n",
      "Passed on: 11_ionosphere calculate_overall_error_calculate_num_examples regSample_randPop\n",
      "Passed on: 11_ionosphere calculate_overall_error_calculate_overall_inverse_f1_calculate_num_examples regSample_randPop\n",
      "Passed on: 11_ionosphere calculate_class0_error_calculate_class1_error regSample_randPop\n",
      "Passed on: 12_ionosphere calculate_overall_error_calculate_num_examples regSample_randPop\n",
      "Passed on: 12_ionosphere calculate_overall_error_calculate_overall_inverse_f1_calculate_num_examples regSample_randPop\n",
      "Passed on: 12_ionosphere calculate_class0_error_calculate_class1_error regSample_randPop\n",
      "Passed on: 13_ionosphere calculate_overall_error_calculate_num_examples regSample_randPop\n",
      "Passed on: 13_ionosphere calculate_overall_error_calculate_overall_inverse_f1_calculate_num_examples regSample_randPop\n",
      "Passed on: 13_ionosphere calculate_class0_error_calculate_class1_error regSample_randPop\n",
      "Passed on: 14_ionosphere calculate_overall_error_calculate_num_examples regSample_randPop\n",
      "Passed on: 14_ionosphere calculate_overall_error_calculate_overall_inverse_f1_calculate_num_examples regSample_randPop\n",
      "Passed on: 14_ionosphere calculate_class0_error_calculate_class1_error regSample_randPop\n",
      "Passed on: 15_ionosphere calculate_overall_error_calculate_num_examples regSample_randPop\n",
      "Passed on: 15_ionosphere calculate_overall_error_calculate_overall_inverse_f1_calculate_num_examples regSample_randPop\n",
      "Passed on: 15_ionosphere calculate_class0_error_calculate_class1_error regSample_randPop\n",
      "Passed on: 16_ionosphere calculate_overall_error_calculate_num_examples regSample_randPop\n",
      "Passed on: 16_ionosphere calculate_overall_error_calculate_overall_inverse_f1_calculate_num_examples regSample_randPop\n",
      "Passed on: 16_ionosphere calculate_class0_error_calculate_class1_error regSample_randPop\n",
      "Passed on: 17_ionosphere calculate_overall_error_calculate_num_examples regSample_randPop\n",
      "Passed on: 17_ionosphere calculate_overall_error_calculate_overall_inverse_f1_calculate_num_examples regSample_randPop\n",
      "Passed on: 17_ionosphere calculate_class0_error_calculate_class1_error regSample_randPop\n",
      "Passed on: 18_ionosphere calculate_overall_error_calculate_num_examples regSample_randPop\n",
      "Passed on: 18_ionosphere calculate_overall_error_calculate_overall_inverse_f1_calculate_num_examples regSample_randPop\n",
      "Passed on: 18_ionosphere calculate_class0_error_calculate_class1_error regSample_randPop\n",
      "Passed on: 19_ionosphere calculate_overall_error_calculate_num_examples regSample_randPop\n",
      "Passed on: 19_ionosphere calculate_overall_error_calculate_overall_inverse_f1_calculate_num_examples regSample_randPop\n",
      "Passed on: 19_ionosphere calculate_class0_error_calculate_class1_error regSample_randPop\n",
      "Passed on: 20_ionosphere calculate_overall_error_calculate_num_examples regSample_randPop\n",
      "Passed on: 20_ionosphere calculate_overall_error_calculate_overall_inverse_f1_calculate_num_examples regSample_randPop\n",
      "Passed on: 20_ionosphere calculate_class0_error_calculate_class1_error regSample_randPop\n",
      "Passed on: 21_ionosphere calculate_overall_error_calculate_num_examples regSample_randPop\n",
      "Passed on: 21_ionosphere calculate_overall_error_calculate_overall_inverse_f1_calculate_num_examples regSample_randPop\n",
      "Passed on: 21_ionosphere calculate_class0_error_calculate_class1_error regSample_randPop\n",
      "Passed on: 22_ionosphere calculate_overall_error_calculate_num_examples regSample_randPop\n",
      "Passed on: 22_ionosphere calculate_overall_error_calculate_overall_inverse_f1_calculate_num_examples regSample_randPop\n",
      "Passed on: 22_ionosphere calculate_class0_error_calculate_class1_error regSample_randPop\n",
      "Passed on: 23_ionosphere calculate_overall_error_calculate_num_examples regSample_randPop\n",
      "Passed on: 23_ionosphere calculate_overall_error_calculate_overall_inverse_f1_calculate_num_examples regSample_randPop\n",
      "Passed on: 23_ionosphere calculate_class0_error_calculate_class1_error regSample_randPop\n",
      "Passed on: 24_ionosphere calculate_overall_error_calculate_num_examples regSample_randPop\n",
      "Passed on: 24_ionosphere calculate_overall_error_calculate_overall_inverse_f1_calculate_num_examples regSample_randPop\n",
      "Passed on: 24_ionosphere calculate_class0_error_calculate_class1_error regSample_randPop\n",
      "Passed on: 25_ionosphere calculate_overall_error_calculate_num_examples regSample_randPop\n",
      "Passed on: 25_ionosphere calculate_overall_error_calculate_overall_inverse_f1_calculate_num_examples regSample_randPop\n",
      "Passed on: 25_ionosphere calculate_class0_error_calculate_class1_error regSample_randPop\n",
      "Passed on: 26_ionosphere calculate_overall_error_calculate_num_examples regSample_randPop\n",
      "Passed on: 26_ionosphere calculate_overall_error_calculate_overall_inverse_f1_calculate_num_examples regSample_randPop\n",
      "Passed on: 26_ionosphere calculate_class0_error_calculate_class1_error regSample_randPop\n",
      "Passed on: 27_ionosphere calculate_overall_error_calculate_num_examples regSample_randPop\n",
      "Passed on: 27_ionosphere calculate_overall_error_calculate_overall_inverse_f1_calculate_num_examples regSample_randPop\n",
      "Passed on: 27_ionosphere calculate_class0_error_calculate_class1_error regSample_randPop\n",
      "Passed on: 28_ionosphere calculate_overall_error_calculate_num_examples regSample_randPop\n",
      "Passed on: 28_ionosphere calculate_overall_error_calculate_overall_inverse_f1_calculate_num_examples regSample_randPop\n",
      "Passed on: 28_ionosphere calculate_class0_error_calculate_class1_error regSample_randPop\n",
      "Passed on: 29_ionosphere calculate_overall_error_calculate_num_examples regSample_randPop\n",
      "Passed on: 29_ionosphere calculate_overall_error_calculate_overall_inverse_f1_calculate_num_examples regSample_randPop\n",
      "Passed on: 29_ionosphere calculate_class0_error_calculate_class1_error regSample_randPop\n",
      "Passed on: 30_ionosphere calculate_overall_error_calculate_num_examples regSample_randPop\n",
      "Passed on: 30_ionosphere calculate_overall_error_calculate_overall_inverse_f1_calculate_num_examples regSample_randPop\n",
      "Passed on: 30_ionosphere calculate_class0_error_calculate_class1_error regSample_randPop\n",
      "Passed on: 0_haberman calculate_overall_error_calculate_num_examples regSample_randPop\n",
      "Passed on: 0_haberman calculate_overall_error_calculate_overall_inverse_f1_calculate_num_examples regSample_randPop\n",
      "Passed on: 0_haberman calculate_class0_error_calculate_class1_error regSample_randPop\n",
      "Passed on: 1_haberman calculate_overall_error_calculate_num_examples regSample_randPop\n",
      "Passed on: 1_haberman calculate_overall_error_calculate_overall_inverse_f1_calculate_num_examples regSample_randPop\n",
      "Passed on: 1_haberman calculate_class0_error_calculate_class1_error regSample_randPop\n",
      "Passed on: 2_haberman calculate_overall_error_calculate_num_examples regSample_randPop\n",
      "Passed on: 2_haberman calculate_overall_error_calculate_overall_inverse_f1_calculate_num_examples regSample_randPop\n",
      "Passed on: 2_haberman calculate_class0_error_calculate_class1_error regSample_randPop\n",
      "Passed on: 3_haberman calculate_overall_error_calculate_num_examples regSample_randPop\n",
      "Passed on: 3_haberman calculate_overall_error_calculate_overall_inverse_f1_calculate_num_examples regSample_randPop\n",
      "Passed on: 3_haberman calculate_class0_error_calculate_class1_error regSample_randPop\n",
      "Passed on: 4_haberman calculate_overall_error_calculate_num_examples regSample_randPop\n",
      "Passed on: 4_haberman calculate_overall_error_calculate_overall_inverse_f1_calculate_num_examples regSample_randPop\n",
      "Passed on: 4_haberman calculate_class0_error_calculate_class1_error regSample_randPop\n",
      "Passed on: 5_haberman calculate_overall_error_calculate_num_examples regSample_randPop\n",
      "Passed on: 5_haberman calculate_overall_error_calculate_overall_inverse_f1_calculate_num_examples regSample_randPop\n",
      "Passed on: 5_haberman calculate_class0_error_calculate_class1_error regSample_randPop\n",
      "Passed on: 6_haberman calculate_overall_error_calculate_num_examples regSample_randPop\n",
      "Passed on: 6_haberman calculate_overall_error_calculate_overall_inverse_f1_calculate_num_examples regSample_randPop\n",
      "Passed on: 6_haberman calculate_class0_error_calculate_class1_error regSample_randPop\n",
      "Passed on: 7_haberman calculate_overall_error_calculate_num_examples regSample_randPop\n",
      "Passed on: 7_haberman calculate_overall_error_calculate_overall_inverse_f1_calculate_num_examples regSample_randPop\n",
      "Passed on: 7_haberman calculate_class0_error_calculate_class1_error regSample_randPop\n",
      "Passed on: 8_haberman calculate_overall_error_calculate_num_examples regSample_randPop\n",
      "Passed on: 8_haberman calculate_overall_error_calculate_overall_inverse_f1_calculate_num_examples regSample_randPop\n",
      "Passed on: 8_haberman calculate_class0_error_calculate_class1_error regSample_randPop\n",
      "Passed on: 9_haberman calculate_overall_error_calculate_num_examples regSample_randPop\n",
      "Passed on: 9_haberman calculate_overall_error_calculate_overall_inverse_f1_calculate_num_examples regSample_randPop\n",
      "Passed on: 9_haberman calculate_class0_error_calculate_class1_error regSample_randPop\n",
      "Passed on: 10_haberman calculate_overall_error_calculate_num_examples regSample_randPop\n",
      "Passed on: 10_haberman calculate_overall_error_calculate_overall_inverse_f1_calculate_num_examples regSample_randPop\n",
      "Passed on: 10_haberman calculate_class0_error_calculate_class1_error regSample_randPop\n",
      "Passed on: 11_haberman calculate_overall_error_calculate_num_examples regSample_randPop\n",
      "Passed on: 11_haberman calculate_overall_error_calculate_overall_inverse_f1_calculate_num_examples regSample_randPop\n",
      "Passed on: 11_haberman calculate_class0_error_calculate_class1_error regSample_randPop\n",
      "Passed on: 12_haberman calculate_overall_error_calculate_num_examples regSample_randPop\n",
      "Passed on: 12_haberman calculate_overall_error_calculate_overall_inverse_f1_calculate_num_examples regSample_randPop\n",
      "Passed on: 12_haberman calculate_class0_error_calculate_class1_error regSample_randPop\n",
      "Passed on: 13_haberman calculate_overall_error_calculate_num_examples regSample_randPop\n",
      "Passed on: 13_haberman calculate_overall_error_calculate_overall_inverse_f1_calculate_num_examples regSample_randPop\n",
      "Passed on: 13_haberman calculate_class0_error_calculate_class1_error regSample_randPop\n",
      "Passed on: 14_haberman calculate_overall_error_calculate_num_examples regSample_randPop\n",
      "Passed on: 14_haberman calculate_overall_error_calculate_overall_inverse_f1_calculate_num_examples regSample_randPop\n",
      "Passed on: 14_haberman calculate_class0_error_calculate_class1_error regSample_randPop\n",
      "Passed on: 15_haberman calculate_overall_error_calculate_num_examples regSample_randPop\n",
      "Passed on: 15_haberman calculate_overall_error_calculate_overall_inverse_f1_calculate_num_examples regSample_randPop\n",
      "Passed on: 15_haberman calculate_class0_error_calculate_class1_error regSample_randPop\n",
      "Passed on: 16_haberman calculate_overall_error_calculate_num_examples regSample_randPop\n",
      "Passed on: 16_haberman calculate_overall_error_calculate_overall_inverse_f1_calculate_num_examples regSample_randPop\n",
      "Passed on: 16_haberman calculate_class0_error_calculate_class1_error regSample_randPop\n",
      "Passed on: 17_haberman calculate_overall_error_calculate_num_examples regSample_randPop\n",
      "Passed on: 17_haberman calculate_overall_error_calculate_overall_inverse_f1_calculate_num_examples regSample_randPop\n",
      "Passed on: 17_haberman calculate_class0_error_calculate_class1_error regSample_randPop\n",
      "Passed on: 18_haberman calculate_overall_error_calculate_num_examples regSample_randPop\n",
      "Passed on: 18_haberman calculate_overall_error_calculate_overall_inverse_f1_calculate_num_examples regSample_randPop\n",
      "Passed on: 18_haberman calculate_class0_error_calculate_class1_error regSample_randPop\n",
      "Passed on: 19_haberman calculate_overall_error_calculate_num_examples regSample_randPop\n",
      "Passed on: 19_haberman calculate_overall_error_calculate_overall_inverse_f1_calculate_num_examples regSample_randPop\n",
      "Passed on: 19_haberman calculate_class0_error_calculate_class1_error regSample_randPop\n",
      "Passed on: 20_haberman calculate_overall_error_calculate_num_examples regSample_randPop\n",
      "Passed on: 20_haberman calculate_overall_error_calculate_overall_inverse_f1_calculate_num_examples regSample_randPop\n",
      "Passed on: 20_haberman calculate_class0_error_calculate_class1_error regSample_randPop\n",
      "Passed on: 21_haberman calculate_overall_error_calculate_num_examples regSample_randPop\n",
      "Passed on: 21_haberman calculate_overall_error_calculate_overall_inverse_f1_calculate_num_examples regSample_randPop\n",
      "Passed on: 21_haberman calculate_class0_error_calculate_class1_error regSample_randPop\n",
      "Passed on: 22_haberman calculate_overall_error_calculate_num_examples regSample_randPop\n",
      "Passed on: 22_haberman calculate_overall_error_calculate_overall_inverse_f1_calculate_num_examples regSample_randPop\n",
      "Passed on: 22_haberman calculate_class0_error_calculate_class1_error regSample_randPop\n",
      "Passed on: 23_haberman calculate_overall_error_calculate_num_examples regSample_randPop\n",
      "Passed on: 23_haberman calculate_overall_error_calculate_overall_inverse_f1_calculate_num_examples regSample_randPop\n",
      "Passed on: 23_haberman calculate_class0_error_calculate_class1_error regSample_randPop\n",
      "Passed on: 24_haberman calculate_overall_error_calculate_num_examples regSample_randPop\n",
      "Passed on: 24_haberman calculate_overall_error_calculate_overall_inverse_f1_calculate_num_examples regSample_randPop\n",
      "Passed on: 24_haberman calculate_class0_error_calculate_class1_error regSample_randPop\n",
      "Passed on: 25_haberman calculate_overall_error_calculate_num_examples regSample_randPop\n",
      "Passed on: 25_haberman calculate_overall_error_calculate_overall_inverse_f1_calculate_num_examples regSample_randPop\n",
      "Passed on: 25_haberman calculate_class0_error_calculate_class1_error regSample_randPop\n",
      "Passed on: 26_haberman calculate_overall_error_calculate_num_examples regSample_randPop\n",
      "Passed on: 26_haberman calculate_overall_error_calculate_overall_inverse_f1_calculate_num_examples regSample_randPop\n",
      "Passed on: 26_haberman calculate_class0_error_calculate_class1_error regSample_randPop\n",
      "Passed on: 27_haberman calculate_overall_error_calculate_num_examples regSample_randPop\n",
      "Passed on: 27_haberman calculate_overall_error_calculate_overall_inverse_f1_calculate_num_examples regSample_randPop\n",
      "Passed on: 27_haberman calculate_class0_error_calculate_class1_error regSample_randPop\n",
      "Passed on: 28_haberman calculate_overall_error_calculate_num_examples regSample_randPop\n",
      "Passed on: 28_haberman calculate_overall_error_calculate_overall_inverse_f1_calculate_num_examples regSample_randPop\n",
      "Passed on: 28_haberman calculate_class0_error_calculate_class1_error regSample_randPop\n",
      "Passed on: 29_haberman calculate_overall_error_calculate_num_examples regSample_randPop\n",
      "Passed on: 29_haberman calculate_overall_error_calculate_overall_inverse_f1_calculate_num_examples regSample_randPop\n",
      "Passed on: 29_haberman calculate_class0_error_calculate_class1_error regSample_randPop\n",
      "Passed on: 30_haberman calculate_overall_error_calculate_num_examples regSample_randPop\n",
      "Passed on: 30_haberman calculate_overall_error_calculate_overall_inverse_f1_calculate_num_examples regSample_randPop\n",
      "Passed on: 30_haberman calculate_class0_error_calculate_class1_error regSample_randPop\n"
     ]
    },
    {
     "name": "stderr",
     "output_type": "stream",
     "text": [
      "e:\\Code\\3_13_venv\\Lib\\site-packages\\sklearn\\preprocessing\\_label.py:110: DataConversionWarning: A column-vector y was passed when a 1d array was expected. Please change the shape of y to (n_samples, ), for example using ravel().\n",
      "  y = column_or_1d(y, warn=True)\n",
      "e:\\Code\\3_13_venv\\Lib\\site-packages\\sklearn\\preprocessing\\_label.py:110: DataConversionWarning: A column-vector y was passed when a 1d array was expected. Please change the shape of y to (n_samples, ), for example using ravel().\n",
      "  y = column_or_1d(y, warn=True)\n"
     ]
    },
    {
     "name": "stdout",
     "output_type": "stream",
     "text": [
      "Passed on: 0_iris0 calculate_overall_error_calculate_num_examples regSample_randPop\n",
      "Passed on: 0_iris0 calculate_overall_error_calculate_overall_inverse_f1_calculate_num_examples regSample_randPop\n",
      "Passed on: 0_iris0 calculate_class0_error_calculate_class1_error regSample_randPop\n",
      "Passed on: 1_iris0 calculate_overall_error_calculate_num_examples regSample_randPop\n",
      "Passed on: 1_iris0 calculate_overall_error_calculate_overall_inverse_f1_calculate_num_examples regSample_randPop\n",
      "Passed on: 1_iris0 calculate_class0_error_calculate_class1_error regSample_randPop\n",
      "Passed on: 2_iris0 calculate_overall_error_calculate_num_examples regSample_randPop\n",
      "Passed on: 2_iris0 calculate_overall_error_calculate_overall_inverse_f1_calculate_num_examples regSample_randPop\n",
      "Passed on: 2_iris0 calculate_class0_error_calculate_class1_error regSample_randPop\n",
      "Passed on: 3_iris0 calculate_overall_error_calculate_num_examples regSample_randPop\n",
      "Passed on: 3_iris0 calculate_overall_error_calculate_overall_inverse_f1_calculate_num_examples regSample_randPop\n",
      "Passed on: 3_iris0 calculate_class0_error_calculate_class1_error regSample_randPop\n",
      "Passed on: 4_iris0 calculate_overall_error_calculate_num_examples regSample_randPop\n",
      "Passed on: 4_iris0 calculate_overall_error_calculate_overall_inverse_f1_calculate_num_examples regSample_randPop\n",
      "Passed on: 4_iris0 calculate_class0_error_calculate_class1_error regSample_randPop\n",
      "Passed on: 5_iris0 calculate_overall_error_calculate_num_examples regSample_randPop\n",
      "Passed on: 5_iris0 calculate_overall_error_calculate_overall_inverse_f1_calculate_num_examples regSample_randPop\n",
      "Passed on: 5_iris0 calculate_class0_error_calculate_class1_error regSample_randPop\n",
      "Passed on: 6_iris0 calculate_overall_error_calculate_num_examples regSample_randPop\n",
      "Passed on: 6_iris0 calculate_overall_error_calculate_overall_inverse_f1_calculate_num_examples regSample_randPop\n",
      "Passed on: 6_iris0 calculate_class0_error_calculate_class1_error regSample_randPop\n",
      "Passed on: 7_iris0 calculate_overall_error_calculate_num_examples regSample_randPop\n",
      "Passed on: 7_iris0 calculate_overall_error_calculate_overall_inverse_f1_calculate_num_examples regSample_randPop\n",
      "Passed on: 7_iris0 calculate_class0_error_calculate_class1_error regSample_randPop\n",
      "Passed on: 8_iris0 calculate_overall_error_calculate_num_examples regSample_randPop\n",
      "Passed on: 8_iris0 calculate_overall_error_calculate_overall_inverse_f1_calculate_num_examples regSample_randPop\n",
      "Passed on: 8_iris0 calculate_class0_error_calculate_class1_error regSample_randPop\n",
      "Passed on: 9_iris0 calculate_overall_error_calculate_num_examples regSample_randPop\n",
      "Passed on: 9_iris0 calculate_overall_error_calculate_overall_inverse_f1_calculate_num_examples regSample_randPop\n",
      "Passed on: 9_iris0 calculate_class0_error_calculate_class1_error regSample_randPop\n",
      "Passed on: 10_iris0 calculate_overall_error_calculate_num_examples regSample_randPop\n",
      "Passed on: 10_iris0 calculate_overall_error_calculate_overall_inverse_f1_calculate_num_examples regSample_randPop\n",
      "Passed on: 10_iris0 calculate_class0_error_calculate_class1_error regSample_randPop\n",
      "Passed on: 11_iris0 calculate_overall_error_calculate_num_examples regSample_randPop\n",
      "Passed on: 11_iris0 calculate_overall_error_calculate_overall_inverse_f1_calculate_num_examples regSample_randPop\n",
      "Passed on: 11_iris0 calculate_class0_error_calculate_class1_error regSample_randPop\n",
      "Passed on: 12_iris0 calculate_overall_error_calculate_num_examples regSample_randPop\n",
      "Passed on: 12_iris0 calculate_overall_error_calculate_overall_inverse_f1_calculate_num_examples regSample_randPop\n",
      "Passed on: 12_iris0 calculate_class0_error_calculate_class1_error regSample_randPop\n",
      "Passed on: 13_iris0 calculate_overall_error_calculate_num_examples regSample_randPop\n",
      "Passed on: 13_iris0 calculate_overall_error_calculate_overall_inverse_f1_calculate_num_examples regSample_randPop\n",
      "Passed on: 13_iris0 calculate_class0_error_calculate_class1_error regSample_randPop\n",
      "Passed on: 14_iris0 calculate_overall_error_calculate_num_examples regSample_randPop\n",
      "Passed on: 14_iris0 calculate_overall_error_calculate_overall_inverse_f1_calculate_num_examples regSample_randPop\n",
      "Passed on: 14_iris0 calculate_class0_error_calculate_class1_error regSample_randPop\n",
      "Passed on: 15_iris0 calculate_overall_error_calculate_num_examples regSample_randPop\n",
      "Passed on: 15_iris0 calculate_overall_error_calculate_overall_inverse_f1_calculate_num_examples regSample_randPop\n",
      "Passed on: 15_iris0 calculate_class0_error_calculate_class1_error regSample_randPop\n",
      "Passed on: 16_iris0 calculate_overall_error_calculate_num_examples regSample_randPop\n",
      "Passed on: 16_iris0 calculate_overall_error_calculate_overall_inverse_f1_calculate_num_examples regSample_randPop\n",
      "Passed on: 16_iris0 calculate_class0_error_calculate_class1_error regSample_randPop\n",
      "Passed on: 17_iris0 calculate_overall_error_calculate_num_examples regSample_randPop\n",
      "Passed on: 17_iris0 calculate_overall_error_calculate_overall_inverse_f1_calculate_num_examples regSample_randPop\n",
      "Passed on: 17_iris0 calculate_class0_error_calculate_class1_error regSample_randPop\n",
      "Passed on: 18_iris0 calculate_overall_error_calculate_num_examples regSample_randPop\n",
      "Passed on: 18_iris0 calculate_overall_error_calculate_overall_inverse_f1_calculate_num_examples regSample_randPop\n",
      "Passed on: 18_iris0 calculate_class0_error_calculate_class1_error regSample_randPop\n",
      "Passed on: 19_iris0 calculate_overall_error_calculate_num_examples regSample_randPop\n",
      "Passed on: 19_iris0 calculate_overall_error_calculate_overall_inverse_f1_calculate_num_examples regSample_randPop\n",
      "Passed on: 19_iris0 calculate_class0_error_calculate_class1_error regSample_randPop\n",
      "Passed on: 20_iris0 calculate_overall_error_calculate_num_examples regSample_randPop\n",
      "Passed on: 20_iris0 calculate_overall_error_calculate_overall_inverse_f1_calculate_num_examples regSample_randPop\n",
      "Passed on: 20_iris0 calculate_class0_error_calculate_class1_error regSample_randPop\n",
      "Passed on: 21_iris0 calculate_overall_error_calculate_num_examples regSample_randPop\n",
      "Passed on: 21_iris0 calculate_overall_error_calculate_overall_inverse_f1_calculate_num_examples regSample_randPop\n",
      "Passed on: 21_iris0 calculate_class0_error_calculate_class1_error regSample_randPop\n",
      "Passed on: 22_iris0 calculate_overall_error_calculate_num_examples regSample_randPop\n",
      "Passed on: 22_iris0 calculate_overall_error_calculate_overall_inverse_f1_calculate_num_examples regSample_randPop\n",
      "Passed on: 22_iris0 calculate_class0_error_calculate_class1_error regSample_randPop\n",
      "Passed on: 23_iris0 calculate_overall_error_calculate_num_examples regSample_randPop\n",
      "Passed on: 23_iris0 calculate_overall_error_calculate_overall_inverse_f1_calculate_num_examples regSample_randPop\n",
      "Passed on: 23_iris0 calculate_class0_error_calculate_class1_error regSample_randPop\n",
      "Passed on: 24_iris0 calculate_overall_error_calculate_num_examples regSample_randPop\n",
      "Passed on: 24_iris0 calculate_overall_error_calculate_overall_inverse_f1_calculate_num_examples regSample_randPop\n",
      "Passed on: 24_iris0 calculate_class0_error_calculate_class1_error regSample_randPop\n",
      "Passed on: 25_iris0 calculate_overall_error_calculate_num_examples regSample_randPop\n",
      "Passed on: 25_iris0 calculate_overall_error_calculate_overall_inverse_f1_calculate_num_examples regSample_randPop\n",
      "Passed on: 25_iris0 calculate_class0_error_calculate_class1_error regSample_randPop\n",
      "Passed on: 26_iris0 calculate_overall_error_calculate_num_examples regSample_randPop\n",
      "Passed on: 26_iris0 calculate_overall_error_calculate_overall_inverse_f1_calculate_num_examples regSample_randPop\n",
      "Passed on: 26_iris0 calculate_class0_error_calculate_class1_error regSample_randPop\n",
      "Passed on: 27_iris0 calculate_overall_error_calculate_num_examples regSample_randPop\n",
      "Passed on: 27_iris0 calculate_overall_error_calculate_overall_inverse_f1_calculate_num_examples regSample_randPop\n",
      "Passed on: 27_iris0 calculate_class0_error_calculate_class1_error regSample_randPop\n",
      "Passed on: 28_iris0 calculate_overall_error_calculate_num_examples regSample_randPop\n",
      "Passed on: 28_iris0 calculate_overall_error_calculate_overall_inverse_f1_calculate_num_examples regSample_randPop\n",
      "Passed on: 28_iris0 calculate_class0_error_calculate_class1_error regSample_randPop\n",
      "Passed on: 29_iris0 calculate_overall_error_calculate_num_examples regSample_randPop\n",
      "Passed on: 29_iris0 calculate_overall_error_calculate_overall_inverse_f1_calculate_num_examples regSample_randPop\n",
      "Passed on: 29_iris0 calculate_class0_error_calculate_class1_error regSample_randPop\n",
      "Passed on: 30_iris0 calculate_overall_error_calculate_num_examples regSample_randPop\n",
      "Passed on: 30_iris0 calculate_overall_error_calculate_overall_inverse_f1_calculate_num_examples regSample_randPop\n",
      "Passed on: 30_iris0 calculate_class0_error_calculate_class1_error regSample_randPop\n",
      "Passed on: 0_glass1 calculate_overall_error_calculate_num_examples regSample_randPop\n",
      "Passed on: 0_glass1 calculate_overall_error_calculate_overall_inverse_f1_calculate_num_examples regSample_randPop\n",
      "Passed on: 0_glass1 calculate_class0_error_calculate_class1_error regSample_randPop\n",
      "Passed on: 1_glass1 calculate_overall_error_calculate_num_examples regSample_randPop\n",
      "Passed on: 1_glass1 calculate_overall_error_calculate_overall_inverse_f1_calculate_num_examples regSample_randPop\n",
      "Passed on: 1_glass1 calculate_class0_error_calculate_class1_error regSample_randPop\n",
      "Passed on: 2_glass1 calculate_overall_error_calculate_num_examples regSample_randPop\n",
      "Passed on: 2_glass1 calculate_overall_error_calculate_overall_inverse_f1_calculate_num_examples regSample_randPop\n",
      "Passed on: 2_glass1 calculate_class0_error_calculate_class1_error regSample_randPop\n",
      "Passed on: 3_glass1 calculate_overall_error_calculate_num_examples regSample_randPop\n",
      "Passed on: 3_glass1 calculate_overall_error_calculate_overall_inverse_f1_calculate_num_examples regSample_randPop\n",
      "Passed on: 3_glass1 calculate_class0_error_calculate_class1_error regSample_randPop\n",
      "Passed on: 4_glass1 calculate_overall_error_calculate_num_examples regSample_randPop\n",
      "Passed on: 4_glass1 calculate_overall_error_calculate_overall_inverse_f1_calculate_num_examples regSample_randPop\n",
      "Passed on: 4_glass1 calculate_class0_error_calculate_class1_error regSample_randPop\n",
      "Passed on: 5_glass1 calculate_overall_error_calculate_num_examples regSample_randPop\n",
      "Passed on: 5_glass1 calculate_overall_error_calculate_overall_inverse_f1_calculate_num_examples regSample_randPop\n",
      "Passed on: 5_glass1 calculate_class0_error_calculate_class1_error regSample_randPop\n",
      "Passed on: 6_glass1 calculate_overall_error_calculate_num_examples regSample_randPop\n",
      "Passed on: 6_glass1 calculate_overall_error_calculate_overall_inverse_f1_calculate_num_examples regSample_randPop\n",
      "Passed on: 6_glass1 calculate_class0_error_calculate_class1_error regSample_randPop\n",
      "Passed on: 7_glass1 calculate_overall_error_calculate_num_examples regSample_randPop\n",
      "Passed on: 7_glass1 calculate_overall_error_calculate_overall_inverse_f1_calculate_num_examples regSample_randPop\n",
      "Passed on: 7_glass1 calculate_class0_error_calculate_class1_error regSample_randPop\n",
      "Passed on: 8_glass1 calculate_overall_error_calculate_num_examples regSample_randPop\n",
      "Passed on: 8_glass1 calculate_overall_error_calculate_overall_inverse_f1_calculate_num_examples regSample_randPop\n",
      "Passed on: 8_glass1 calculate_class0_error_calculate_class1_error regSample_randPop\n",
      "Passed on: 9_glass1 calculate_overall_error_calculate_num_examples regSample_randPop\n",
      "Passed on: 9_glass1 calculate_overall_error_calculate_overall_inverse_f1_calculate_num_examples regSample_randPop\n",
      "Passed on: 9_glass1 calculate_class0_error_calculate_class1_error regSample_randPop\n",
      "Passed on: 10_glass1 calculate_overall_error_calculate_num_examples regSample_randPop\n",
      "Passed on: 10_glass1 calculate_overall_error_calculate_overall_inverse_f1_calculate_num_examples regSample_randPop\n",
      "Passed on: 10_glass1 calculate_class0_error_calculate_class1_error regSample_randPop\n",
      "Passed on: 11_glass1 calculate_overall_error_calculate_num_examples regSample_randPop\n",
      "Passed on: 11_glass1 calculate_overall_error_calculate_overall_inverse_f1_calculate_num_examples regSample_randPop\n",
      "Passed on: 11_glass1 calculate_class0_error_calculate_class1_error regSample_randPop\n",
      "Passed on: 12_glass1 calculate_overall_error_calculate_num_examples regSample_randPop\n",
      "Passed on: 12_glass1 calculate_overall_error_calculate_overall_inverse_f1_calculate_num_examples regSample_randPop\n",
      "Passed on: 12_glass1 calculate_class0_error_calculate_class1_error regSample_randPop\n",
      "Passed on: 13_glass1 calculate_overall_error_calculate_num_examples regSample_randPop\n",
      "Passed on: 13_glass1 calculate_overall_error_calculate_overall_inverse_f1_calculate_num_examples regSample_randPop\n",
      "Passed on: 13_glass1 calculate_class0_error_calculate_class1_error regSample_randPop\n",
      "Passed on: 14_glass1 calculate_overall_error_calculate_num_examples regSample_randPop\n",
      "Passed on: 14_glass1 calculate_overall_error_calculate_overall_inverse_f1_calculate_num_examples regSample_randPop\n",
      "Passed on: 14_glass1 calculate_class0_error_calculate_class1_error regSample_randPop\n",
      "Passed on: 15_glass1 calculate_overall_error_calculate_num_examples regSample_randPop\n",
      "Passed on: 15_glass1 calculate_overall_error_calculate_overall_inverse_f1_calculate_num_examples regSample_randPop\n",
      "Passed on: 15_glass1 calculate_class0_error_calculate_class1_error regSample_randPop\n",
      "Passed on: 16_glass1 calculate_overall_error_calculate_num_examples regSample_randPop\n",
      "Passed on: 16_glass1 calculate_overall_error_calculate_overall_inverse_f1_calculate_num_examples regSample_randPop\n",
      "Passed on: 16_glass1 calculate_class0_error_calculate_class1_error regSample_randPop\n",
      "Passed on: 17_glass1 calculate_overall_error_calculate_num_examples regSample_randPop\n",
      "Passed on: 17_glass1 calculate_overall_error_calculate_overall_inverse_f1_calculate_num_examples regSample_randPop\n",
      "Passed on: 17_glass1 calculate_class0_error_calculate_class1_error regSample_randPop\n",
      "Passed on: 18_glass1 calculate_overall_error_calculate_num_examples regSample_randPop\n",
      "Passed on: 18_glass1 calculate_overall_error_calculate_overall_inverse_f1_calculate_num_examples regSample_randPop\n",
      "Passed on: 18_glass1 calculate_class0_error_calculate_class1_error regSample_randPop\n",
      "Passed on: 19_glass1 calculate_overall_error_calculate_num_examples regSample_randPop\n",
      "Passed on: 19_glass1 calculate_overall_error_calculate_overall_inverse_f1_calculate_num_examples regSample_randPop\n",
      "Passed on: 19_glass1 calculate_class0_error_calculate_class1_error regSample_randPop\n",
      "Passed on: 20_glass1 calculate_overall_error_calculate_num_examples regSample_randPop\n",
      "Passed on: 20_glass1 calculate_overall_error_calculate_overall_inverse_f1_calculate_num_examples regSample_randPop\n",
      "Passed on: 20_glass1 calculate_class0_error_calculate_class1_error regSample_randPop\n",
      "Passed on: 21_glass1 calculate_overall_error_calculate_num_examples regSample_randPop\n",
      "Passed on: 21_glass1 calculate_overall_error_calculate_overall_inverse_f1_calculate_num_examples regSample_randPop\n",
      "Passed on: 21_glass1 calculate_class0_error_calculate_class1_error regSample_randPop\n",
      "Passed on: 22_glass1 calculate_overall_error_calculate_num_examples regSample_randPop\n",
      "Passed on: 22_glass1 calculate_overall_error_calculate_overall_inverse_f1_calculate_num_examples regSample_randPop\n",
      "Passed on: 22_glass1 calculate_class0_error_calculate_class1_error regSample_randPop\n",
      "Passed on: 23_glass1 calculate_overall_error_calculate_num_examples regSample_randPop\n",
      "Passed on: 23_glass1 calculate_overall_error_calculate_overall_inverse_f1_calculate_num_examples regSample_randPop\n",
      "Passed on: 23_glass1 calculate_class0_error_calculate_class1_error regSample_randPop\n",
      "Passed on: 24_glass1 calculate_overall_error_calculate_num_examples regSample_randPop\n",
      "Passed on: 24_glass1 calculate_overall_error_calculate_overall_inverse_f1_calculate_num_examples regSample_randPop\n",
      "Passed on: 24_glass1 calculate_class0_error_calculate_class1_error regSample_randPop\n",
      "Passed on: 25_glass1 calculate_overall_error_calculate_num_examples regSample_randPop\n",
      "Passed on: 25_glass1 calculate_overall_error_calculate_overall_inverse_f1_calculate_num_examples regSample_randPop\n",
      "Passed on: 25_glass1 calculate_class0_error_calculate_class1_error regSample_randPop\n",
      "Passed on: 26_glass1 calculate_overall_error_calculate_num_examples regSample_randPop\n",
      "Passed on: 26_glass1 calculate_overall_error_calculate_overall_inverse_f1_calculate_num_examples regSample_randPop\n",
      "Passed on: 26_glass1 calculate_class0_error_calculate_class1_error regSample_randPop\n",
      "Passed on: 27_glass1 calculate_overall_error_calculate_num_examples regSample_randPop\n",
      "Passed on: 27_glass1 calculate_overall_error_calculate_overall_inverse_f1_calculate_num_examples regSample_randPop\n",
      "Passed on: 27_glass1 calculate_class0_error_calculate_class1_error regSample_randPop\n",
      "Passed on: 28_glass1 calculate_overall_error_calculate_num_examples regSample_randPop\n",
      "Passed on: 28_glass1 calculate_overall_error_calculate_overall_inverse_f1_calculate_num_examples regSample_randPop\n",
      "Passed on: 28_glass1 calculate_class0_error_calculate_class1_error regSample_randPop\n",
      "Passed on: 29_glass1 calculate_overall_error_calculate_num_examples regSample_randPop\n",
      "Passed on: 29_glass1 calculate_overall_error_calculate_overall_inverse_f1_calculate_num_examples regSample_randPop\n",
      "Passed on: 29_glass1 calculate_class0_error_calculate_class1_error regSample_randPop\n",
      "Passed on: 30_glass1 calculate_overall_error_calculate_num_examples regSample_randPop\n",
      "Passed on: 30_glass1 calculate_overall_error_calculate_overall_inverse_f1_calculate_num_examples regSample_randPop\n",
      "Passed on: 30_glass1 calculate_class0_error_calculate_class1_error regSample_randPop\n"
     ]
    },
    {
     "name": "stderr",
     "output_type": "stream",
     "text": [
      "e:\\Code\\3_13_venv\\Lib\\site-packages\\sklearn\\preprocessing\\_label.py:110: DataConversionWarning: A column-vector y was passed when a 1d array was expected. Please change the shape of y to (n_samples, ), for example using ravel().\n",
      "  y = column_or_1d(y, warn=True)\n",
      "e:\\Code\\3_13_venv\\Lib\\site-packages\\sklearn\\preprocessing\\_label.py:110: DataConversionWarning: A column-vector y was passed when a 1d array was expected. Please change the shape of y to (n_samples, ), for example using ravel().\n",
      "  y = column_or_1d(y, warn=True)\n"
     ]
    },
    {
     "name": "stdout",
     "output_type": "stream",
     "text": [
      "Passed on: 0_australia calculate_overall_error_calculate_num_examples regSample_randPop\n",
      "Passed on: 0_australia calculate_overall_error_calculate_overall_inverse_f1_calculate_num_examples regSample_randPop\n",
      "Passed on: 0_australia calculate_class0_error_calculate_class1_error regSample_randPop\n",
      "Passed on: 1_australia calculate_overall_error_calculate_num_examples regSample_randPop\n",
      "Passed on: 1_australia calculate_overall_error_calculate_overall_inverse_f1_calculate_num_examples regSample_randPop\n",
      "Passed on: 1_australia calculate_class0_error_calculate_class1_error regSample_randPop\n",
      "Passed on: 2_australia calculate_overall_error_calculate_num_examples regSample_randPop\n",
      "Passed on: 2_australia calculate_overall_error_calculate_overall_inverse_f1_calculate_num_examples regSample_randPop\n",
      "Passed on: 2_australia calculate_class0_error_calculate_class1_error regSample_randPop\n",
      "Passed on: 3_australia calculate_overall_error_calculate_num_examples regSample_randPop\n",
      "Passed on: 3_australia calculate_overall_error_calculate_overall_inverse_f1_calculate_num_examples regSample_randPop\n",
      "Passed on: 3_australia calculate_class0_error_calculate_class1_error regSample_randPop\n",
      "Passed on: 4_australia calculate_overall_error_calculate_num_examples regSample_randPop\n",
      "Passed on: 4_australia calculate_overall_error_calculate_overall_inverse_f1_calculate_num_examples regSample_randPop\n",
      "Passed on: 4_australia calculate_class0_error_calculate_class1_error regSample_randPop\n",
      "Passed on: 5_australia calculate_overall_error_calculate_num_examples regSample_randPop\n",
      "Passed on: 5_australia calculate_overall_error_calculate_overall_inverse_f1_calculate_num_examples regSample_randPop\n",
      "Passed on: 5_australia calculate_class0_error_calculate_class1_error regSample_randPop\n",
      "Passed on: 6_australia calculate_overall_error_calculate_num_examples regSample_randPop\n",
      "Passed on: 6_australia calculate_overall_error_calculate_overall_inverse_f1_calculate_num_examples regSample_randPop\n",
      "Passed on: 6_australia calculate_class0_error_calculate_class1_error regSample_randPop\n",
      "Passed on: 7_australia calculate_overall_error_calculate_num_examples regSample_randPop\n",
      "Passed on: 7_australia calculate_overall_error_calculate_overall_inverse_f1_calculate_num_examples regSample_randPop\n",
      "Passed on: 7_australia calculate_class0_error_calculate_class1_error regSample_randPop\n",
      "Passed on: 8_australia calculate_overall_error_calculate_num_examples regSample_randPop\n",
      "Passed on: 8_australia calculate_overall_error_calculate_overall_inverse_f1_calculate_num_examples regSample_randPop\n",
      "Passed on: 8_australia calculate_class0_error_calculate_class1_error regSample_randPop\n",
      "Passed on: 9_australia calculate_overall_error_calculate_num_examples regSample_randPop\n",
      "Passed on: 9_australia calculate_overall_error_calculate_overall_inverse_f1_calculate_num_examples regSample_randPop\n",
      "Passed on: 9_australia calculate_class0_error_calculate_class1_error regSample_randPop\n",
      "Passed on: 10_australia calculate_overall_error_calculate_num_examples regSample_randPop\n",
      "Passed on: 10_australia calculate_overall_error_calculate_overall_inverse_f1_calculate_num_examples regSample_randPop\n",
      "Passed on: 10_australia calculate_class0_error_calculate_class1_error regSample_randPop\n",
      "Passed on: 11_australia calculate_overall_error_calculate_num_examples regSample_randPop\n",
      "Passed on: 11_australia calculate_overall_error_calculate_overall_inverse_f1_calculate_num_examples regSample_randPop\n",
      "Passed on: 11_australia calculate_class0_error_calculate_class1_error regSample_randPop\n",
      "Passed on: 12_australia calculate_overall_error_calculate_num_examples regSample_randPop\n",
      "Passed on: 12_australia calculate_overall_error_calculate_overall_inverse_f1_calculate_num_examples regSample_randPop\n",
      "Passed on: 12_australia calculate_class0_error_calculate_class1_error regSample_randPop\n",
      "Passed on: 13_australia calculate_overall_error_calculate_num_examples regSample_randPop\n",
      "Passed on: 13_australia calculate_overall_error_calculate_overall_inverse_f1_calculate_num_examples regSample_randPop\n",
      "Passed on: 13_australia calculate_class0_error_calculate_class1_error regSample_randPop\n",
      "Passed on: 14_australia calculate_overall_error_calculate_num_examples regSample_randPop\n",
      "Passed on: 14_australia calculate_overall_error_calculate_overall_inverse_f1_calculate_num_examples regSample_randPop\n",
      "Passed on: 14_australia calculate_class0_error_calculate_class1_error regSample_randPop\n",
      "Passed on: 15_australia calculate_overall_error_calculate_num_examples regSample_randPop\n",
      "Passed on: 15_australia calculate_overall_error_calculate_overall_inverse_f1_calculate_num_examples regSample_randPop\n",
      "Passed on: 15_australia calculate_class0_error_calculate_class1_error regSample_randPop\n",
      "Passed on: 16_australia calculate_overall_error_calculate_num_examples regSample_randPop\n",
      "Passed on: 16_australia calculate_overall_error_calculate_overall_inverse_f1_calculate_num_examples regSample_randPop\n",
      "Passed on: 16_australia calculate_class0_error_calculate_class1_error regSample_randPop\n",
      "Passed on: 17_australia calculate_overall_error_calculate_num_examples regSample_randPop\n",
      "Passed on: 17_australia calculate_overall_error_calculate_overall_inverse_f1_calculate_num_examples regSample_randPop\n",
      "Passed on: 17_australia calculate_class0_error_calculate_class1_error regSample_randPop\n",
      "Passed on: 18_australia calculate_overall_error_calculate_num_examples regSample_randPop\n",
      "Passed on: 18_australia calculate_overall_error_calculate_overall_inverse_f1_calculate_num_examples regSample_randPop\n",
      "Passed on: 18_australia calculate_class0_error_calculate_class1_error regSample_randPop\n",
      "Passed on: 19_australia calculate_overall_error_calculate_num_examples regSample_randPop\n",
      "Passed on: 19_australia calculate_overall_error_calculate_overall_inverse_f1_calculate_num_examples regSample_randPop\n",
      "Passed on: 19_australia calculate_class0_error_calculate_class1_error regSample_randPop\n",
      "Passed on: 20_australia calculate_overall_error_calculate_num_examples regSample_randPop\n",
      "Passed on: 20_australia calculate_overall_error_calculate_overall_inverse_f1_calculate_num_examples regSample_randPop\n",
      "Passed on: 20_australia calculate_class0_error_calculate_class1_error regSample_randPop\n",
      "Passed on: 21_australia calculate_overall_error_calculate_num_examples regSample_randPop\n",
      "Passed on: 21_australia calculate_overall_error_calculate_overall_inverse_f1_calculate_num_examples regSample_randPop\n",
      "Passed on: 21_australia calculate_class0_error_calculate_class1_error regSample_randPop\n",
      "Passed on: 22_australia calculate_overall_error_calculate_num_examples regSample_randPop\n",
      "Passed on: 22_australia calculate_overall_error_calculate_overall_inverse_f1_calculate_num_examples regSample_randPop\n",
      "Passed on: 22_australia calculate_class0_error_calculate_class1_error regSample_randPop\n",
      "Passed on: 23_australia calculate_overall_error_calculate_num_examples regSample_randPop\n",
      "Passed on: 23_australia calculate_overall_error_calculate_overall_inverse_f1_calculate_num_examples regSample_randPop\n",
      "Passed on: 23_australia calculate_class0_error_calculate_class1_error regSample_randPop\n",
      "Passed on: 24_australia calculate_overall_error_calculate_num_examples regSample_randPop\n",
      "Passed on: 24_australia calculate_overall_error_calculate_overall_inverse_f1_calculate_num_examples regSample_randPop\n",
      "Passed on: 24_australia calculate_class0_error_calculate_class1_error regSample_randPop\n",
      "Passed on: 25_australia calculate_overall_error_calculate_num_examples regSample_randPop\n",
      "Passed on: 25_australia calculate_overall_error_calculate_overall_inverse_f1_calculate_num_examples regSample_randPop\n",
      "Passed on: 25_australia calculate_class0_error_calculate_class1_error regSample_randPop\n",
      "Passed on: 26_australia calculate_overall_error_calculate_num_examples regSample_randPop\n",
      "Passed on: 26_australia calculate_overall_error_calculate_overall_inverse_f1_calculate_num_examples regSample_randPop\n",
      "Passed on: 26_australia calculate_class0_error_calculate_class1_error regSample_randPop\n",
      "Passed on: 27_australia calculate_overall_error_calculate_num_examples regSample_randPop\n",
      "Passed on: 27_australia calculate_overall_error_calculate_overall_inverse_f1_calculate_num_examples regSample_randPop\n",
      "Passed on: 27_australia calculate_class0_error_calculate_class1_error regSample_randPop\n",
      "Passed on: 28_australia calculate_overall_error_calculate_num_examples regSample_randPop\n",
      "Passed on: 28_australia calculate_overall_error_calculate_overall_inverse_f1_calculate_num_examples regSample_randPop\n",
      "Passed on: 28_australia calculate_class0_error_calculate_class1_error regSample_randPop\n",
      "Passed on: 29_australia calculate_overall_error_calculate_num_examples regSample_randPop\n",
      "Passed on: 29_australia calculate_overall_error_calculate_overall_inverse_f1_calculate_num_examples regSample_randPop\n",
      "Passed on: 29_australia calculate_class0_error_calculate_class1_error regSample_randPop\n",
      "Passed on: 30_australia calculate_overall_error_calculate_num_examples regSample_randPop\n",
      "Passed on: 30_australia calculate_overall_error_calculate_overall_inverse_f1_calculate_num_examples regSample_randPop\n",
      "Passed on: 30_australia calculate_class0_error_calculate_class1_error regSample_randPop\n",
      "Passed on: 0_thoracic calculate_overall_error_calculate_num_examples regSample_randPop\n",
      "Passed on: 0_thoracic calculate_overall_error_calculate_overall_inverse_f1_calculate_num_examples regSample_randPop\n",
      "Passed on: 0_thoracic calculate_class0_error_calculate_class1_error regSample_randPop\n",
      "Passed on: 1_thoracic calculate_overall_error_calculate_num_examples regSample_randPop\n",
      "Passed on: 1_thoracic calculate_overall_error_calculate_overall_inverse_f1_calculate_num_examples regSample_randPop\n",
      "Passed on: 1_thoracic calculate_class0_error_calculate_class1_error regSample_randPop\n",
      "Passed on: 2_thoracic calculate_overall_error_calculate_num_examples regSample_randPop\n",
      "Passed on: 2_thoracic calculate_overall_error_calculate_overall_inverse_f1_calculate_num_examples regSample_randPop\n",
      "Passed on: 2_thoracic calculate_class0_error_calculate_class1_error regSample_randPop\n",
      "Passed on: 3_thoracic calculate_overall_error_calculate_num_examples regSample_randPop\n",
      "Passed on: 3_thoracic calculate_overall_error_calculate_overall_inverse_f1_calculate_num_examples regSample_randPop\n",
      "Passed on: 3_thoracic calculate_class0_error_calculate_class1_error regSample_randPop\n",
      "Passed on: 4_thoracic calculate_overall_error_calculate_num_examples regSample_randPop\n",
      "Passed on: 4_thoracic calculate_overall_error_calculate_overall_inverse_f1_calculate_num_examples regSample_randPop\n",
      "Passed on: 4_thoracic calculate_class0_error_calculate_class1_error regSample_randPop\n",
      "Passed on: 5_thoracic calculate_overall_error_calculate_num_examples regSample_randPop\n",
      "Passed on: 5_thoracic calculate_overall_error_calculate_overall_inverse_f1_calculate_num_examples regSample_randPop\n",
      "Passed on: 5_thoracic calculate_class0_error_calculate_class1_error regSample_randPop\n",
      "Passed on: 6_thoracic calculate_overall_error_calculate_num_examples regSample_randPop\n",
      "Passed on: 6_thoracic calculate_overall_error_calculate_overall_inverse_f1_calculate_num_examples regSample_randPop\n",
      "Passed on: 6_thoracic calculate_class0_error_calculate_class1_error regSample_randPop\n",
      "Passed on: 7_thoracic calculate_overall_error_calculate_num_examples regSample_randPop\n",
      "Passed on: 7_thoracic calculate_overall_error_calculate_overall_inverse_f1_calculate_num_examples regSample_randPop\n",
      "Passed on: 7_thoracic calculate_class0_error_calculate_class1_error regSample_randPop\n",
      "Passed on: 8_thoracic calculate_overall_error_calculate_num_examples regSample_randPop\n",
      "Passed on: 8_thoracic calculate_overall_error_calculate_overall_inverse_f1_calculate_num_examples regSample_randPop\n",
      "Passed on: 8_thoracic calculate_class0_error_calculate_class1_error regSample_randPop\n",
      "Passed on: 9_thoracic calculate_overall_error_calculate_num_examples regSample_randPop\n",
      "Passed on: 9_thoracic calculate_overall_error_calculate_overall_inverse_f1_calculate_num_examples regSample_randPop\n",
      "Passed on: 9_thoracic calculate_class0_error_calculate_class1_error regSample_randPop\n",
      "Passed on: 10_thoracic calculate_overall_error_calculate_num_examples regSample_randPop\n",
      "Passed on: 10_thoracic calculate_overall_error_calculate_overall_inverse_f1_calculate_num_examples regSample_randPop\n",
      "Passed on: 10_thoracic calculate_class0_error_calculate_class1_error regSample_randPop\n",
      "Passed on: 11_thoracic calculate_overall_error_calculate_num_examples regSample_randPop\n",
      "Passed on: 11_thoracic calculate_overall_error_calculate_overall_inverse_f1_calculate_num_examples regSample_randPop\n",
      "Passed on: 11_thoracic calculate_class0_error_calculate_class1_error regSample_randPop\n",
      "Passed on: 12_thoracic calculate_overall_error_calculate_num_examples regSample_randPop\n",
      "Passed on: 12_thoracic calculate_overall_error_calculate_overall_inverse_f1_calculate_num_examples regSample_randPop\n",
      "Passed on: 12_thoracic calculate_class0_error_calculate_class1_error regSample_randPop\n",
      "Passed on: 13_thoracic calculate_overall_error_calculate_num_examples regSample_randPop\n",
      "Passed on: 13_thoracic calculate_overall_error_calculate_overall_inverse_f1_calculate_num_examples regSample_randPop\n",
      "Passed on: 13_thoracic calculate_class0_error_calculate_class1_error regSample_randPop\n",
      "Passed on: 14_thoracic calculate_overall_error_calculate_num_examples regSample_randPop\n",
      "Passed on: 14_thoracic calculate_overall_error_calculate_overall_inverse_f1_calculate_num_examples regSample_randPop\n",
      "Passed on: 14_thoracic calculate_class0_error_calculate_class1_error regSample_randPop\n",
      "Passed on: 15_thoracic calculate_overall_error_calculate_num_examples regSample_randPop\n",
      "Passed on: 15_thoracic calculate_overall_error_calculate_overall_inverse_f1_calculate_num_examples regSample_randPop\n",
      "Passed on: 15_thoracic calculate_class0_error_calculate_class1_error regSample_randPop\n",
      "Passed on: 16_thoracic calculate_overall_error_calculate_num_examples regSample_randPop\n",
      "Passed on: 16_thoracic calculate_overall_error_calculate_overall_inverse_f1_calculate_num_examples regSample_randPop\n",
      "Passed on: 16_thoracic calculate_class0_error_calculate_class1_error regSample_randPop\n",
      "Passed on: 17_thoracic calculate_overall_error_calculate_num_examples regSample_randPop\n",
      "Passed on: 17_thoracic calculate_overall_error_calculate_overall_inverse_f1_calculate_num_examples regSample_randPop\n",
      "Passed on: 17_thoracic calculate_class0_error_calculate_class1_error regSample_randPop\n",
      "Passed on: 18_thoracic calculate_overall_error_calculate_num_examples regSample_randPop\n",
      "Passed on: 18_thoracic calculate_overall_error_calculate_overall_inverse_f1_calculate_num_examples regSample_randPop\n",
      "Passed on: 18_thoracic calculate_class0_error_calculate_class1_error regSample_randPop\n",
      "Passed on: 19_thoracic calculate_overall_error_calculate_num_examples regSample_randPop\n",
      "Passed on: 19_thoracic calculate_overall_error_calculate_overall_inverse_f1_calculate_num_examples regSample_randPop\n",
      "Passed on: 19_thoracic calculate_class0_error_calculate_class1_error regSample_randPop\n",
      "Passed on: 20_thoracic calculate_overall_error_calculate_num_examples regSample_randPop\n",
      "Passed on: 20_thoracic calculate_overall_error_calculate_overall_inverse_f1_calculate_num_examples regSample_randPop\n",
      "Passed on: 20_thoracic calculate_class0_error_calculate_class1_error regSample_randPop\n",
      "Passed on: 21_thoracic calculate_overall_error_calculate_num_examples regSample_randPop\n",
      "Passed on: 21_thoracic calculate_overall_error_calculate_overall_inverse_f1_calculate_num_examples regSample_randPop\n",
      "Passed on: 21_thoracic calculate_class0_error_calculate_class1_error regSample_randPop\n",
      "Passed on: 22_thoracic calculate_overall_error_calculate_num_examples regSample_randPop\n",
      "Passed on: 22_thoracic calculate_overall_error_calculate_overall_inverse_f1_calculate_num_examples regSample_randPop\n",
      "Passed on: 22_thoracic calculate_class0_error_calculate_class1_error regSample_randPop\n",
      "Passed on: 23_thoracic calculate_overall_error_calculate_num_examples regSample_randPop\n",
      "Passed on: 23_thoracic calculate_overall_error_calculate_overall_inverse_f1_calculate_num_examples regSample_randPop\n",
      "Passed on: 23_thoracic calculate_class0_error_calculate_class1_error regSample_randPop\n",
      "Passed on: 24_thoracic calculate_overall_error_calculate_num_examples regSample_randPop\n",
      "Passed on: 24_thoracic calculate_overall_error_calculate_overall_inverse_f1_calculate_num_examples regSample_randPop\n",
      "Passed on: 24_thoracic calculate_class0_error_calculate_class1_error regSample_randPop\n",
      "Passed on: 25_thoracic calculate_overall_error_calculate_num_examples regSample_randPop\n",
      "Passed on: 25_thoracic calculate_overall_error_calculate_overall_inverse_f1_calculate_num_examples regSample_randPop\n",
      "Passed on: 25_thoracic calculate_class0_error_calculate_class1_error regSample_randPop\n",
      "Passed on: 26_thoracic calculate_overall_error_calculate_num_examples regSample_randPop\n",
      "Passed on: 26_thoracic calculate_overall_error_calculate_overall_inverse_f1_calculate_num_examples regSample_randPop\n",
      "Passed on: 26_thoracic calculate_class0_error_calculate_class1_error regSample_randPop\n",
      "Passed on: 27_thoracic calculate_overall_error_calculate_num_examples regSample_randPop\n",
      "Passed on: 27_thoracic calculate_overall_error_calculate_overall_inverse_f1_calculate_num_examples regSample_randPop\n",
      "Passed on: 27_thoracic calculate_class0_error_calculate_class1_error regSample_randPop\n",
      "Passed on: 28_thoracic calculate_overall_error_calculate_num_examples regSample_randPop\n",
      "Passed on: 28_thoracic calculate_overall_error_calculate_overall_inverse_f1_calculate_num_examples regSample_randPop\n",
      "Passed on: 28_thoracic calculate_class0_error_calculate_class1_error regSample_randPop\n",
      "Passed on: 29_thoracic calculate_overall_error_calculate_num_examples regSample_randPop\n",
      "Passed on: 29_thoracic calculate_overall_error_calculate_overall_inverse_f1_calculate_num_examples regSample_randPop\n",
      "Passed on: 29_thoracic calculate_class0_error_calculate_class1_error regSample_randPop\n",
      "Passed on: 30_thoracic calculate_overall_error_calculate_num_examples regSample_randPop\n",
      "Passed on: 30_thoracic calculate_overall_error_calculate_overall_inverse_f1_calculate_num_examples regSample_randPop\n",
      "Passed on: 30_thoracic calculate_class0_error_calculate_class1_error regSample_randPop\n"
     ]
    },
    {
     "name": "stderr",
     "output_type": "stream",
     "text": [
      "e:\\Code\\3_13_venv\\Lib\\site-packages\\sklearn\\preprocessing\\_label.py:110: DataConversionWarning: A column-vector y was passed when a 1d array was expected. Please change the shape of y to (n_samples, ), for example using ravel().\n",
      "  y = column_or_1d(y, warn=True)\n",
      "e:\\Code\\3_13_venv\\Lib\\site-packages\\sklearn\\preprocessing\\_label.py:110: DataConversionWarning: A column-vector y was passed when a 1d array was expected. Please change the shape of y to (n_samples, ), for example using ravel().\n",
      "  y = column_or_1d(y, warn=True)\n"
     ]
    },
    {
     "name": "stdout",
     "output_type": "stream",
     "text": [
      "Passed on: 0_segment0 calculate_overall_error_calculate_num_examples regSample_randPop\n",
      "Passed on: 0_segment0 calculate_overall_error_calculate_overall_inverse_f1_calculate_num_examples regSample_randPop\n",
      "Passed on: 0_segment0 calculate_class0_error_calculate_class1_error regSample_randPop\n",
      "Passed on: 1_segment0 calculate_overall_error_calculate_num_examples regSample_randPop\n",
      "Passed on: 1_segment0 calculate_overall_error_calculate_overall_inverse_f1_calculate_num_examples regSample_randPop\n",
      "Passed on: 1_segment0 calculate_class0_error_calculate_class1_error regSample_randPop\n",
      "Passed on: 2_segment0 calculate_overall_error_calculate_num_examples regSample_randPop\n",
      "Passed on: 2_segment0 calculate_overall_error_calculate_overall_inverse_f1_calculate_num_examples regSample_randPop\n",
      "Passed on: 2_segment0 calculate_class0_error_calculate_class1_error regSample_randPop\n",
      "Passed on: 3_segment0 calculate_overall_error_calculate_num_examples regSample_randPop\n",
      "Passed on: 3_segment0 calculate_overall_error_calculate_overall_inverse_f1_calculate_num_examples regSample_randPop\n",
      "Passed on: 3_segment0 calculate_class0_error_calculate_class1_error regSample_randPop\n",
      "Passed on: 4_segment0 calculate_overall_error_calculate_num_examples regSample_randPop\n",
      "Passed on: 4_segment0 calculate_overall_error_calculate_overall_inverse_f1_calculate_num_examples regSample_randPop\n",
      "Passed on: 4_segment0 calculate_class0_error_calculate_class1_error regSample_randPop\n",
      "Passed on: 5_segment0 calculate_overall_error_calculate_num_examples regSample_randPop\n",
      "Passed on: 5_segment0 calculate_overall_error_calculate_overall_inverse_f1_calculate_num_examples regSample_randPop\n",
      "Passed on: 5_segment0 calculate_class0_error_calculate_class1_error regSample_randPop\n",
      "Passed on: 6_segment0 calculate_overall_error_calculate_num_examples regSample_randPop\n",
      "Passed on: 6_segment0 calculate_overall_error_calculate_overall_inverse_f1_calculate_num_examples regSample_randPop\n",
      "Passed on: 6_segment0 calculate_class0_error_calculate_class1_error regSample_randPop\n",
      "Passed on: 7_segment0 calculate_overall_error_calculate_num_examples regSample_randPop\n",
      "Passed on: 7_segment0 calculate_overall_error_calculate_overall_inverse_f1_calculate_num_examples regSample_randPop\n",
      "Passed on: 7_segment0 calculate_class0_error_calculate_class1_error regSample_randPop\n",
      "Passed on: 8_segment0 calculate_overall_error_calculate_num_examples regSample_randPop\n",
      "Passed on: 8_segment0 calculate_overall_error_calculate_overall_inverse_f1_calculate_num_examples regSample_randPop\n",
      "Passed on: 8_segment0 calculate_class0_error_calculate_class1_error regSample_randPop\n",
      "Passed on: 9_segment0 calculate_overall_error_calculate_num_examples regSample_randPop\n",
      "Passed on: 9_segment0 calculate_overall_error_calculate_overall_inverse_f1_calculate_num_examples regSample_randPop\n",
      "Passed on: 9_segment0 calculate_class0_error_calculate_class1_error regSample_randPop\n",
      "Passed on: 10_segment0 calculate_overall_error_calculate_num_examples regSample_randPop\n",
      "Passed on: 10_segment0 calculate_overall_error_calculate_overall_inverse_f1_calculate_num_examples regSample_randPop\n",
      "Passed on: 10_segment0 calculate_class0_error_calculate_class1_error regSample_randPop\n",
      "Passed on: 11_segment0 calculate_overall_error_calculate_num_examples regSample_randPop\n",
      "Passed on: 11_segment0 calculate_overall_error_calculate_overall_inverse_f1_calculate_num_examples regSample_randPop\n",
      "Passed on: 11_segment0 calculate_class0_error_calculate_class1_error regSample_randPop\n",
      "Passed on: 12_segment0 calculate_overall_error_calculate_num_examples regSample_randPop\n",
      "Passed on: 12_segment0 calculate_overall_error_calculate_overall_inverse_f1_calculate_num_examples regSample_randPop\n",
      "Passed on: 12_segment0 calculate_class0_error_calculate_class1_error regSample_randPop\n",
      "Passed on: 13_segment0 calculate_overall_error_calculate_num_examples regSample_randPop\n",
      "Passed on: 13_segment0 calculate_overall_error_calculate_overall_inverse_f1_calculate_num_examples regSample_randPop\n",
      "Passed on: 13_segment0 calculate_class0_error_calculate_class1_error regSample_randPop\n",
      "Passed on: 14_segment0 calculate_overall_error_calculate_num_examples regSample_randPop\n",
      "Passed on: 14_segment0 calculate_overall_error_calculate_overall_inverse_f1_calculate_num_examples regSample_randPop\n",
      "Passed on: 14_segment0 calculate_class0_error_calculate_class1_error regSample_randPop\n",
      "Passed on: 15_segment0 calculate_overall_error_calculate_num_examples regSample_randPop\n",
      "Passed on: 15_segment0 calculate_overall_error_calculate_overall_inverse_f1_calculate_num_examples regSample_randPop\n",
      "Passed on: 15_segment0 calculate_class0_error_calculate_class1_error regSample_randPop\n",
      "Passed on: 16_segment0 calculate_overall_error_calculate_num_examples regSample_randPop\n",
      "Passed on: 16_segment0 calculate_overall_error_calculate_overall_inverse_f1_calculate_num_examples regSample_randPop\n",
      "Passed on: 16_segment0 calculate_class0_error_calculate_class1_error regSample_randPop\n",
      "Passed on: 17_segment0 calculate_overall_error_calculate_num_examples regSample_randPop\n",
      "Passed on: 17_segment0 calculate_overall_error_calculate_overall_inverse_f1_calculate_num_examples regSample_randPop\n",
      "Passed on: 17_segment0 calculate_class0_error_calculate_class1_error regSample_randPop\n",
      "Passed on: 18_segment0 calculate_overall_error_calculate_num_examples regSample_randPop\n",
      "Passed on: 18_segment0 calculate_overall_error_calculate_overall_inverse_f1_calculate_num_examples regSample_randPop\n",
      "Passed on: 18_segment0 calculate_class0_error_calculate_class1_error regSample_randPop\n",
      "Passed on: 19_segment0 calculate_overall_error_calculate_num_examples regSample_randPop\n",
      "Passed on: 19_segment0 calculate_overall_error_calculate_overall_inverse_f1_calculate_num_examples regSample_randPop\n",
      "Passed on: 19_segment0 calculate_class0_error_calculate_class1_error regSample_randPop\n",
      "Passed on: 20_segment0 calculate_overall_error_calculate_num_examples regSample_randPop\n",
      "Passed on: 20_segment0 calculate_overall_error_calculate_overall_inverse_f1_calculate_num_examples regSample_randPop\n",
      "Passed on: 20_segment0 calculate_class0_error_calculate_class1_error regSample_randPop\n",
      "Passed on: 21_segment0 calculate_overall_error_calculate_num_examples regSample_randPop\n",
      "Passed on: 21_segment0 calculate_overall_error_calculate_overall_inverse_f1_calculate_num_examples regSample_randPop\n",
      "Passed on: 21_segment0 calculate_class0_error_calculate_class1_error regSample_randPop\n",
      "Passed on: 22_segment0 calculate_overall_error_calculate_num_examples regSample_randPop\n",
      "Passed on: 22_segment0 calculate_overall_error_calculate_overall_inverse_f1_calculate_num_examples regSample_randPop\n",
      "Passed on: 22_segment0 calculate_class0_error_calculate_class1_error regSample_randPop\n",
      "Passed on: 23_segment0 calculate_overall_error_calculate_num_examples regSample_randPop\n",
      "Passed on: 23_segment0 calculate_overall_error_calculate_overall_inverse_f1_calculate_num_examples regSample_randPop\n",
      "Passed on: 23_segment0 calculate_class0_error_calculate_class1_error regSample_randPop\n",
      "Passed on: 24_segment0 calculate_overall_error_calculate_num_examples regSample_randPop\n",
      "Passed on: 24_segment0 calculate_overall_error_calculate_overall_inverse_f1_calculate_num_examples regSample_randPop\n",
      "Passed on: 24_segment0 calculate_class0_error_calculate_class1_error regSample_randPop\n",
      "Passed on: 25_segment0 calculate_overall_error_calculate_num_examples regSample_randPop\n",
      "Passed on: 25_segment0 calculate_overall_error_calculate_overall_inverse_f1_calculate_num_examples regSample_randPop\n",
      "Passed on: 25_segment0 calculate_class0_error_calculate_class1_error regSample_randPop\n",
      "Passed on: 26_segment0 calculate_overall_error_calculate_num_examples regSample_randPop\n",
      "Passed on: 26_segment0 calculate_overall_error_calculate_overall_inverse_f1_calculate_num_examples regSample_randPop\n",
      "Passed on: 26_segment0 calculate_class0_error_calculate_class1_error regSample_randPop\n",
      "Passed on: 27_segment0 calculate_overall_error_calculate_num_examples regSample_randPop\n",
      "Passed on: 27_segment0 calculate_overall_error_calculate_overall_inverse_f1_calculate_num_examples regSample_randPop\n",
      "Passed on: 27_segment0 calculate_class0_error_calculate_class1_error regSample_randPop\n",
      "Passed on: 28_segment0 calculate_overall_error_calculate_num_examples regSample_randPop\n",
      "Passed on: 28_segment0 calculate_overall_error_calculate_overall_inverse_f1_calculate_num_examples regSample_randPop\n",
      "Passed on: 28_segment0 calculate_class0_error_calculate_class1_error regSample_randPop\n",
      "Passed on: 29_segment0 calculate_overall_error_calculate_num_examples regSample_randPop\n",
      "Passed on: 29_segment0 calculate_overall_error_calculate_overall_inverse_f1_calculate_num_examples regSample_randPop\n",
      "Passed on: 29_segment0 calculate_class0_error_calculate_class1_error regSample_randPop\n",
      "Passed on: 30_segment0 calculate_overall_error_calculate_num_examples regSample_randPop\n",
      "Passed on: 30_segment0 calculate_overall_error_calculate_overall_inverse_f1_calculate_num_examples regSample_randPop\n",
      "Passed on: 30_segment0 calculate_class0_error_calculate_class1_error regSample_randPop\n",
      "Passed on: 0_wine calculate_overall_error_calculate_num_examples regSample_randPop\n",
      "Passed on: 0_wine calculate_overall_error_calculate_overall_inverse_f1_calculate_num_examples regSample_randPop\n",
      "Passed on: 0_wine calculate_class0_error_calculate_class1_error regSample_randPop\n",
      "Passed on: 1_wine calculate_overall_error_calculate_num_examples regSample_randPop\n",
      "Passed on: 1_wine calculate_overall_error_calculate_overall_inverse_f1_calculate_num_examples regSample_randPop\n",
      "Passed on: 1_wine calculate_class0_error_calculate_class1_error regSample_randPop\n",
      "Passed on: 2_wine calculate_overall_error_calculate_num_examples regSample_randPop\n",
      "Passed on: 2_wine calculate_overall_error_calculate_overall_inverse_f1_calculate_num_examples regSample_randPop\n",
      "Passed on: 2_wine calculate_class0_error_calculate_class1_error regSample_randPop\n",
      "Passed on: 3_wine calculate_overall_error_calculate_num_examples regSample_randPop\n",
      "Passed on: 3_wine calculate_overall_error_calculate_overall_inverse_f1_calculate_num_examples regSample_randPop\n",
      "Passed on: 3_wine calculate_class0_error_calculate_class1_error regSample_randPop\n",
      "Passed on: 4_wine calculate_overall_error_calculate_num_examples regSample_randPop\n",
      "Passed on: 4_wine calculate_overall_error_calculate_overall_inverse_f1_calculate_num_examples regSample_randPop\n",
      "Passed on: 4_wine calculate_class0_error_calculate_class1_error regSample_randPop\n",
      "Passed on: 5_wine calculate_overall_error_calculate_num_examples regSample_randPop\n",
      "Passed on: 5_wine calculate_overall_error_calculate_overall_inverse_f1_calculate_num_examples regSample_randPop\n",
      "Passed on: 5_wine calculate_class0_error_calculate_class1_error regSample_randPop\n",
      "Passed on: 6_wine calculate_overall_error_calculate_num_examples regSample_randPop\n",
      "Passed on: 6_wine calculate_overall_error_calculate_overall_inverse_f1_calculate_num_examples regSample_randPop\n",
      "Passed on: 6_wine calculate_class0_error_calculate_class1_error regSample_randPop\n",
      "Passed on: 7_wine calculate_overall_error_calculate_num_examples regSample_randPop\n",
      "Passed on: 7_wine calculate_overall_error_calculate_overall_inverse_f1_calculate_num_examples regSample_randPop\n",
      "Passed on: 7_wine calculate_class0_error_calculate_class1_error regSample_randPop\n",
      "Passed on: 8_wine calculate_overall_error_calculate_num_examples regSample_randPop\n",
      "Passed on: 8_wine calculate_overall_error_calculate_overall_inverse_f1_calculate_num_examples regSample_randPop\n",
      "Passed on: 8_wine calculate_class0_error_calculate_class1_error regSample_randPop\n",
      "Passed on: 9_wine calculate_overall_error_calculate_num_examples regSample_randPop\n",
      "Passed on: 9_wine calculate_overall_error_calculate_overall_inverse_f1_calculate_num_examples regSample_randPop\n",
      "Passed on: 9_wine calculate_class0_error_calculate_class1_error regSample_randPop\n",
      "Passed on: 10_wine calculate_overall_error_calculate_num_examples regSample_randPop\n",
      "Passed on: 10_wine calculate_overall_error_calculate_overall_inverse_f1_calculate_num_examples regSample_randPop\n",
      "Passed on: 10_wine calculate_class0_error_calculate_class1_error regSample_randPop\n",
      "Passed on: 11_wine calculate_overall_error_calculate_num_examples regSample_randPop\n",
      "Passed on: 11_wine calculate_overall_error_calculate_overall_inverse_f1_calculate_num_examples regSample_randPop\n",
      "Passed on: 11_wine calculate_class0_error_calculate_class1_error regSample_randPop\n",
      "Passed on: 12_wine calculate_overall_error_calculate_num_examples regSample_randPop\n",
      "Passed on: 12_wine calculate_overall_error_calculate_overall_inverse_f1_calculate_num_examples regSample_randPop\n",
      "Passed on: 12_wine calculate_class0_error_calculate_class1_error regSample_randPop\n",
      "Passed on: 13_wine calculate_overall_error_calculate_num_examples regSample_randPop\n",
      "Passed on: 13_wine calculate_overall_error_calculate_overall_inverse_f1_calculate_num_examples regSample_randPop\n",
      "Passed on: 13_wine calculate_class0_error_calculate_class1_error regSample_randPop\n",
      "Passed on: 14_wine calculate_overall_error_calculate_num_examples regSample_randPop\n",
      "Passed on: 14_wine calculate_overall_error_calculate_overall_inverse_f1_calculate_num_examples regSample_randPop\n",
      "Passed on: 14_wine calculate_class0_error_calculate_class1_error regSample_randPop\n",
      "Passed on: 15_wine calculate_overall_error_calculate_num_examples regSample_randPop\n",
      "Passed on: 15_wine calculate_overall_error_calculate_overall_inverse_f1_calculate_num_examples regSample_randPop\n",
      "Passed on: 15_wine calculate_class0_error_calculate_class1_error regSample_randPop\n",
      "Passed on: 16_wine calculate_overall_error_calculate_num_examples regSample_randPop\n",
      "Passed on: 16_wine calculate_overall_error_calculate_overall_inverse_f1_calculate_num_examples regSample_randPop\n",
      "Passed on: 16_wine calculate_class0_error_calculate_class1_error regSample_randPop\n",
      "Passed on: 17_wine calculate_overall_error_calculate_num_examples regSample_randPop\n",
      "Passed on: 17_wine calculate_overall_error_calculate_overall_inverse_f1_calculate_num_examples regSample_randPop\n",
      "Passed on: 17_wine calculate_class0_error_calculate_class1_error regSample_randPop\n",
      "Passed on: 18_wine calculate_overall_error_calculate_num_examples regSample_randPop\n",
      "Passed on: 18_wine calculate_overall_error_calculate_overall_inverse_f1_calculate_num_examples regSample_randPop\n",
      "Passed on: 18_wine calculate_class0_error_calculate_class1_error regSample_randPop\n",
      "Passed on: 19_wine calculate_overall_error_calculate_num_examples regSample_randPop\n",
      "Passed on: 19_wine calculate_overall_error_calculate_overall_inverse_f1_calculate_num_examples regSample_randPop\n",
      "Passed on: 19_wine calculate_class0_error_calculate_class1_error regSample_randPop\n",
      "Passed on: 20_wine calculate_overall_error_calculate_num_examples regSample_randPop\n",
      "Passed on: 20_wine calculate_overall_error_calculate_overall_inverse_f1_calculate_num_examples regSample_randPop\n",
      "Passed on: 20_wine calculate_class0_error_calculate_class1_error regSample_randPop\n",
      "Passed on: 21_wine calculate_overall_error_calculate_num_examples regSample_randPop\n",
      "Passed on: 21_wine calculate_overall_error_calculate_overall_inverse_f1_calculate_num_examples regSample_randPop\n",
      "Passed on: 21_wine calculate_class0_error_calculate_class1_error regSample_randPop\n",
      "Passed on: 22_wine calculate_overall_error_calculate_num_examples regSample_randPop\n",
      "Passed on: 22_wine calculate_overall_error_calculate_overall_inverse_f1_calculate_num_examples regSample_randPop\n",
      "Passed on: 22_wine calculate_class0_error_calculate_class1_error regSample_randPop\n",
      "Passed on: 23_wine calculate_overall_error_calculate_num_examples regSample_randPop\n",
      "Passed on: 23_wine calculate_overall_error_calculate_overall_inverse_f1_calculate_num_examples regSample_randPop\n",
      "Passed on: 23_wine calculate_class0_error_calculate_class1_error regSample_randPop\n",
      "Passed on: 24_wine calculate_overall_error_calculate_num_examples regSample_randPop\n",
      "Passed on: 24_wine calculate_overall_error_calculate_overall_inverse_f1_calculate_num_examples regSample_randPop\n",
      "Passed on: 24_wine calculate_class0_error_calculate_class1_error regSample_randPop\n",
      "Passed on: 25_wine calculate_overall_error_calculate_num_examples regSample_randPop\n",
      "Passed on: 25_wine calculate_overall_error_calculate_overall_inverse_f1_calculate_num_examples regSample_randPop\n",
      "Passed on: 25_wine calculate_class0_error_calculate_class1_error regSample_randPop\n",
      "Passed on: 26_wine calculate_overall_error_calculate_num_examples regSample_randPop\n",
      "Passed on: 26_wine calculate_overall_error_calculate_overall_inverse_f1_calculate_num_examples regSample_randPop\n",
      "Passed on: 26_wine calculate_class0_error_calculate_class1_error regSample_randPop\n",
      "Passed on: 27_wine calculate_overall_error_calculate_num_examples regSample_randPop\n",
      "Passed on: 27_wine calculate_overall_error_calculate_overall_inverse_f1_calculate_num_examples regSample_randPop\n",
      "Passed on: 27_wine calculate_class0_error_calculate_class1_error regSample_randPop\n",
      "Passed on: 28_wine calculate_overall_error_calculate_num_examples regSample_randPop\n",
      "Passed on: 28_wine calculate_overall_error_calculate_overall_inverse_f1_calculate_num_examples regSample_randPop\n",
      "Passed on: 28_wine calculate_class0_error_calculate_class1_error regSample_randPop\n",
      "Passed on: 29_wine calculate_overall_error_calculate_num_examples regSample_randPop\n",
      "Passed on: 29_wine calculate_overall_error_calculate_overall_inverse_f1_calculate_num_examples regSample_randPop\n",
      "Passed on: 29_wine calculate_class0_error_calculate_class1_error regSample_randPop\n",
      "Passed on: 30_wine calculate_overall_error_calculate_num_examples regSample_randPop\n",
      "Passed on: 30_wine calculate_overall_error_calculate_overall_inverse_f1_calculate_num_examples regSample_randPop\n",
      "Passed on: 30_wine calculate_class0_error_calculate_class1_error regSample_randPop\n"
     ]
    },
    {
     "name": "stderr",
     "output_type": "stream",
     "text": [
      "e:\\Code\\3_13_venv\\Lib\\site-packages\\sklearn\\preprocessing\\_label.py:110: DataConversionWarning: A column-vector y was passed when a 1d array was expected. Please change the shape of y to (n_samples, ), for example using ravel().\n",
      "  y = column_or_1d(y, warn=True)\n",
      "e:\\Code\\3_13_venv\\Lib\\site-packages\\sklearn\\preprocessing\\_label.py:110: DataConversionWarning: A column-vector y was passed when a 1d array was expected. Please change the shape of y to (n_samples, ), for example using ravel().\n",
      "  y = column_or_1d(y, warn=True)\n"
     ]
    },
    {
     "name": "stdout",
     "output_type": "stream",
     "text": [
      "Passed on: 0_ILPD calculate_overall_error_calculate_num_examples regSample_randPop\n",
      "Passed on: 0_ILPD calculate_overall_error_calculate_overall_inverse_f1_calculate_num_examples regSample_randPop\n",
      "Passed on: 0_ILPD calculate_class0_error_calculate_class1_error regSample_randPop\n",
      "Passed on: 1_ILPD calculate_overall_error_calculate_num_examples regSample_randPop\n",
      "Passed on: 1_ILPD calculate_overall_error_calculate_overall_inverse_f1_calculate_num_examples regSample_randPop\n",
      "Passed on: 1_ILPD calculate_class0_error_calculate_class1_error regSample_randPop\n",
      "Passed on: 2_ILPD calculate_overall_error_calculate_num_examples regSample_randPop\n",
      "Passed on: 2_ILPD calculate_overall_error_calculate_overall_inverse_f1_calculate_num_examples regSample_randPop\n",
      "Passed on: 2_ILPD calculate_class0_error_calculate_class1_error regSample_randPop\n",
      "Passed on: 3_ILPD calculate_overall_error_calculate_num_examples regSample_randPop\n",
      "Passed on: 3_ILPD calculate_overall_error_calculate_overall_inverse_f1_calculate_num_examples regSample_randPop\n",
      "Passed on: 3_ILPD calculate_class0_error_calculate_class1_error regSample_randPop\n",
      "Passed on: 4_ILPD calculate_overall_error_calculate_num_examples regSample_randPop\n",
      "Passed on: 4_ILPD calculate_overall_error_calculate_overall_inverse_f1_calculate_num_examples regSample_randPop\n",
      "Passed on: 4_ILPD calculate_class0_error_calculate_class1_error regSample_randPop\n",
      "Passed on: 5_ILPD calculate_overall_error_calculate_num_examples regSample_randPop\n",
      "Passed on: 5_ILPD calculate_overall_error_calculate_overall_inverse_f1_calculate_num_examples regSample_randPop\n",
      "Passed on: 5_ILPD calculate_class0_error_calculate_class1_error regSample_randPop\n",
      "Passed on: 6_ILPD calculate_overall_error_calculate_num_examples regSample_randPop\n",
      "Passed on: 6_ILPD calculate_overall_error_calculate_overall_inverse_f1_calculate_num_examples regSample_randPop\n",
      "Passed on: 6_ILPD calculate_class0_error_calculate_class1_error regSample_randPop\n",
      "Passed on: 7_ILPD calculate_overall_error_calculate_num_examples regSample_randPop\n",
      "Passed on: 7_ILPD calculate_overall_error_calculate_overall_inverse_f1_calculate_num_examples regSample_randPop\n",
      "Passed on: 7_ILPD calculate_class0_error_calculate_class1_error regSample_randPop\n",
      "Passed on: 8_ILPD calculate_overall_error_calculate_num_examples regSample_randPop\n",
      "Passed on: 8_ILPD calculate_overall_error_calculate_overall_inverse_f1_calculate_num_examples regSample_randPop\n",
      "Passed on: 8_ILPD calculate_class0_error_calculate_class1_error regSample_randPop\n",
      "Passed on: 9_ILPD calculate_overall_error_calculate_num_examples regSample_randPop\n",
      "Passed on: 9_ILPD calculate_overall_error_calculate_overall_inverse_f1_calculate_num_examples regSample_randPop\n",
      "Passed on: 9_ILPD calculate_class0_error_calculate_class1_error regSample_randPop\n",
      "Passed on: 10_ILPD calculate_overall_error_calculate_num_examples regSample_randPop\n",
      "Passed on: 10_ILPD calculate_overall_error_calculate_overall_inverse_f1_calculate_num_examples regSample_randPop\n",
      "Passed on: 10_ILPD calculate_class0_error_calculate_class1_error regSample_randPop\n",
      "Passed on: 11_ILPD calculate_overall_error_calculate_num_examples regSample_randPop\n",
      "Passed on: 11_ILPD calculate_overall_error_calculate_overall_inverse_f1_calculate_num_examples regSample_randPop\n",
      "Passed on: 11_ILPD calculate_class0_error_calculate_class1_error regSample_randPop\n",
      "Passed on: 12_ILPD calculate_overall_error_calculate_num_examples regSample_randPop\n",
      "Passed on: 12_ILPD calculate_overall_error_calculate_overall_inverse_f1_calculate_num_examples regSample_randPop\n",
      "Passed on: 12_ILPD calculate_class0_error_calculate_class1_error regSample_randPop\n",
      "Passed on: 13_ILPD calculate_overall_error_calculate_num_examples regSample_randPop\n",
      "Passed on: 13_ILPD calculate_overall_error_calculate_overall_inverse_f1_calculate_num_examples regSample_randPop\n",
      "Passed on: 13_ILPD calculate_class0_error_calculate_class1_error regSample_randPop\n",
      "Passed on: 14_ILPD calculate_overall_error_calculate_num_examples regSample_randPop\n",
      "Passed on: 14_ILPD calculate_overall_error_calculate_overall_inverse_f1_calculate_num_examples regSample_randPop\n",
      "Passed on: 14_ILPD calculate_class0_error_calculate_class1_error regSample_randPop\n",
      "Passed on: 15_ILPD calculate_overall_error_calculate_num_examples regSample_randPop\n",
      "Passed on: 15_ILPD calculate_overall_error_calculate_overall_inverse_f1_calculate_num_examples regSample_randPop\n",
      "Passed on: 15_ILPD calculate_class0_error_calculate_class1_error regSample_randPop\n",
      "Passed on: 16_ILPD calculate_overall_error_calculate_num_examples regSample_randPop\n",
      "Passed on: 16_ILPD calculate_overall_error_calculate_overall_inverse_f1_calculate_num_examples regSample_randPop\n",
      "Passed on: 16_ILPD calculate_class0_error_calculate_class1_error regSample_randPop\n",
      "Passed on: 17_ILPD calculate_overall_error_calculate_num_examples regSample_randPop\n",
      "Passed on: 17_ILPD calculate_overall_error_calculate_overall_inverse_f1_calculate_num_examples regSample_randPop\n",
      "Passed on: 17_ILPD calculate_class0_error_calculate_class1_error regSample_randPop\n",
      "Passed on: 18_ILPD calculate_overall_error_calculate_num_examples regSample_randPop\n",
      "Passed on: 18_ILPD calculate_overall_error_calculate_overall_inverse_f1_calculate_num_examples regSample_randPop\n",
      "Passed on: 18_ILPD calculate_class0_error_calculate_class1_error regSample_randPop\n",
      "Passed on: 19_ILPD calculate_overall_error_calculate_num_examples regSample_randPop\n",
      "Passed on: 19_ILPD calculate_overall_error_calculate_overall_inverse_f1_calculate_num_examples regSample_randPop\n",
      "Passed on: 19_ILPD calculate_class0_error_calculate_class1_error regSample_randPop\n",
      "Passed on: 20_ILPD calculate_overall_error_calculate_num_examples regSample_randPop\n",
      "Passed on: 20_ILPD calculate_overall_error_calculate_overall_inverse_f1_calculate_num_examples regSample_randPop\n",
      "Passed on: 20_ILPD calculate_class0_error_calculate_class1_error regSample_randPop\n",
      "Passed on: 21_ILPD calculate_overall_error_calculate_num_examples regSample_randPop\n",
      "Passed on: 21_ILPD calculate_overall_error_calculate_overall_inverse_f1_calculate_num_examples regSample_randPop\n",
      "Passed on: 21_ILPD calculate_class0_error_calculate_class1_error regSample_randPop\n",
      "Passed on: 22_ILPD calculate_overall_error_calculate_num_examples regSample_randPop\n",
      "Passed on: 22_ILPD calculate_overall_error_calculate_overall_inverse_f1_calculate_num_examples regSample_randPop\n",
      "Passed on: 22_ILPD calculate_class0_error_calculate_class1_error regSample_randPop\n",
      "Passed on: 23_ILPD calculate_overall_error_calculate_num_examples regSample_randPop\n",
      "Passed on: 23_ILPD calculate_overall_error_calculate_overall_inverse_f1_calculate_num_examples regSample_randPop\n",
      "Passed on: 23_ILPD calculate_class0_error_calculate_class1_error regSample_randPop\n",
      "Passed on: 24_ILPD calculate_overall_error_calculate_num_examples regSample_randPop\n",
      "Passed on: 24_ILPD calculate_overall_error_calculate_overall_inverse_f1_calculate_num_examples regSample_randPop\n",
      "Passed on: 24_ILPD calculate_class0_error_calculate_class1_error regSample_randPop\n",
      "Passed on: 25_ILPD calculate_overall_error_calculate_num_examples regSample_randPop\n",
      "Passed on: 25_ILPD calculate_overall_error_calculate_overall_inverse_f1_calculate_num_examples regSample_randPop\n",
      "Passed on: 25_ILPD calculate_class0_error_calculate_class1_error regSample_randPop\n",
      "Passed on: 26_ILPD calculate_overall_error_calculate_num_examples regSample_randPop\n",
      "Passed on: 26_ILPD calculate_overall_error_calculate_overall_inverse_f1_calculate_num_examples regSample_randPop\n",
      "Passed on: 26_ILPD calculate_class0_error_calculate_class1_error regSample_randPop\n",
      "Passed on: 27_ILPD calculate_overall_error_calculate_num_examples regSample_randPop\n",
      "Passed on: 27_ILPD calculate_overall_error_calculate_overall_inverse_f1_calculate_num_examples regSample_randPop\n",
      "Passed on: 27_ILPD calculate_class0_error_calculate_class1_error regSample_randPop\n",
      "Passed on: 28_ILPD calculate_overall_error_calculate_num_examples regSample_randPop\n",
      "Passed on: 28_ILPD calculate_overall_error_calculate_overall_inverse_f1_calculate_num_examples regSample_randPop\n",
      "Passed on: 28_ILPD calculate_class0_error_calculate_class1_error regSample_randPop\n",
      "Passed on: 29_ILPD calculate_overall_error_calculate_num_examples regSample_randPop\n",
      "Passed on: 29_ILPD calculate_overall_error_calculate_overall_inverse_f1_calculate_num_examples regSample_randPop\n",
      "Passed on: 29_ILPD calculate_class0_error_calculate_class1_error regSample_randPop\n",
      "Passed on: 30_ILPD calculate_overall_error_calculate_num_examples regSample_randPop\n",
      "Passed on: 30_ILPD calculate_overall_error_calculate_overall_inverse_f1_calculate_num_examples regSample_randPop\n",
      "Passed on: 30_ILPD calculate_class0_error_calculate_class1_error regSample_randPop\n",
      "Passed on: 0_heart_disease calculate_overall_error_calculate_num_examples regSample_randPop\n",
      "Passed on: 0_heart_disease calculate_overall_error_calculate_overall_inverse_f1_calculate_num_examples regSample_randPop\n",
      "Passed on: 0_heart_disease calculate_class0_error_calculate_class1_error regSample_randPop\n",
      "Passed on: 1_heart_disease calculate_overall_error_calculate_num_examples regSample_randPop\n",
      "Passed on: 1_heart_disease calculate_overall_error_calculate_overall_inverse_f1_calculate_num_examples regSample_randPop\n",
      "Passed on: 1_heart_disease calculate_class0_error_calculate_class1_error regSample_randPop\n",
      "Passed on: 2_heart_disease calculate_overall_error_calculate_num_examples regSample_randPop\n",
      "Passed on: 2_heart_disease calculate_overall_error_calculate_overall_inverse_f1_calculate_num_examples regSample_randPop\n",
      "Passed on: 2_heart_disease calculate_class0_error_calculate_class1_error regSample_randPop\n",
      "Passed on: 3_heart_disease calculate_overall_error_calculate_num_examples regSample_randPop\n",
      "Passed on: 3_heart_disease calculate_overall_error_calculate_overall_inverse_f1_calculate_num_examples regSample_randPop\n",
      "Passed on: 3_heart_disease calculate_class0_error_calculate_class1_error regSample_randPop\n",
      "Passed on: 4_heart_disease calculate_overall_error_calculate_num_examples regSample_randPop\n",
      "Passed on: 4_heart_disease calculate_overall_error_calculate_overall_inverse_f1_calculate_num_examples regSample_randPop\n",
      "Passed on: 4_heart_disease calculate_class0_error_calculate_class1_error regSample_randPop\n",
      "Passed on: 5_heart_disease calculate_overall_error_calculate_num_examples regSample_randPop\n",
      "Passed on: 5_heart_disease calculate_overall_error_calculate_overall_inverse_f1_calculate_num_examples regSample_randPop\n",
      "Passed on: 5_heart_disease calculate_class0_error_calculate_class1_error regSample_randPop\n",
      "Passed on: 6_heart_disease calculate_overall_error_calculate_num_examples regSample_randPop\n",
      "Passed on: 6_heart_disease calculate_overall_error_calculate_overall_inverse_f1_calculate_num_examples regSample_randPop\n",
      "Passed on: 6_heart_disease calculate_class0_error_calculate_class1_error regSample_randPop\n",
      "Passed on: 7_heart_disease calculate_overall_error_calculate_num_examples regSample_randPop\n",
      "Passed on: 7_heart_disease calculate_overall_error_calculate_overall_inverse_f1_calculate_num_examples regSample_randPop\n",
      "Passed on: 7_heart_disease calculate_class0_error_calculate_class1_error regSample_randPop\n",
      "Passed on: 8_heart_disease calculate_overall_error_calculate_num_examples regSample_randPop\n",
      "Passed on: 8_heart_disease calculate_overall_error_calculate_overall_inverse_f1_calculate_num_examples regSample_randPop\n",
      "Passed on: 8_heart_disease calculate_class0_error_calculate_class1_error regSample_randPop\n",
      "Passed on: 9_heart_disease calculate_overall_error_calculate_num_examples regSample_randPop\n",
      "Passed on: 9_heart_disease calculate_overall_error_calculate_overall_inverse_f1_calculate_num_examples regSample_randPop\n",
      "Passed on: 9_heart_disease calculate_class0_error_calculate_class1_error regSample_randPop\n",
      "Passed on: 10_heart_disease calculate_overall_error_calculate_num_examples regSample_randPop\n",
      "Passed on: 10_heart_disease calculate_overall_error_calculate_overall_inverse_f1_calculate_num_examples regSample_randPop\n",
      "Passed on: 10_heart_disease calculate_class0_error_calculate_class1_error regSample_randPop\n",
      "Passed on: 11_heart_disease calculate_overall_error_calculate_num_examples regSample_randPop\n",
      "Passed on: 11_heart_disease calculate_overall_error_calculate_overall_inverse_f1_calculate_num_examples regSample_randPop\n",
      "Passed on: 11_heart_disease calculate_class0_error_calculate_class1_error regSample_randPop\n",
      "Passed on: 12_heart_disease calculate_overall_error_calculate_num_examples regSample_randPop\n",
      "Passed on: 12_heart_disease calculate_overall_error_calculate_overall_inverse_f1_calculate_num_examples regSample_randPop\n",
      "Passed on: 12_heart_disease calculate_class0_error_calculate_class1_error regSample_randPop\n",
      "Passed on: 13_heart_disease calculate_overall_error_calculate_num_examples regSample_randPop\n",
      "Passed on: 13_heart_disease calculate_overall_error_calculate_overall_inverse_f1_calculate_num_examples regSample_randPop\n",
      "Passed on: 13_heart_disease calculate_class0_error_calculate_class1_error regSample_randPop\n",
      "Passed on: 14_heart_disease calculate_overall_error_calculate_num_examples regSample_randPop\n",
      "Passed on: 14_heart_disease calculate_overall_error_calculate_overall_inverse_f1_calculate_num_examples regSample_randPop\n",
      "Passed on: 14_heart_disease calculate_class0_error_calculate_class1_error regSample_randPop\n",
      "Passed on: 15_heart_disease calculate_overall_error_calculate_num_examples regSample_randPop\n",
      "Passed on: 15_heart_disease calculate_overall_error_calculate_overall_inverse_f1_calculate_num_examples regSample_randPop\n",
      "Passed on: 15_heart_disease calculate_class0_error_calculate_class1_error regSample_randPop\n",
      "Passed on: 16_heart_disease calculate_overall_error_calculate_num_examples regSample_randPop\n",
      "Passed on: 16_heart_disease calculate_overall_error_calculate_overall_inverse_f1_calculate_num_examples regSample_randPop\n",
      "Passed on: 16_heart_disease calculate_class0_error_calculate_class1_error regSample_randPop\n",
      "Passed on: 17_heart_disease calculate_overall_error_calculate_num_examples regSample_randPop\n",
      "Passed on: 17_heart_disease calculate_overall_error_calculate_overall_inverse_f1_calculate_num_examples regSample_randPop\n",
      "Passed on: 17_heart_disease calculate_class0_error_calculate_class1_error regSample_randPop\n",
      "Passed on: 18_heart_disease calculate_overall_error_calculate_num_examples regSample_randPop\n",
      "Passed on: 18_heart_disease calculate_overall_error_calculate_overall_inverse_f1_calculate_num_examples regSample_randPop\n",
      "Passed on: 18_heart_disease calculate_class0_error_calculate_class1_error regSample_randPop\n",
      "Passed on: 19_heart_disease calculate_overall_error_calculate_num_examples regSample_randPop\n",
      "Passed on: 19_heart_disease calculate_overall_error_calculate_overall_inverse_f1_calculate_num_examples regSample_randPop\n",
      "Passed on: 19_heart_disease calculate_class0_error_calculate_class1_error regSample_randPop\n",
      "Passed on: 20_heart_disease calculate_overall_error_calculate_num_examples regSample_randPop\n",
      "Passed on: 20_heart_disease calculate_overall_error_calculate_overall_inverse_f1_calculate_num_examples regSample_randPop\n",
      "Passed on: 20_heart_disease calculate_class0_error_calculate_class1_error regSample_randPop\n",
      "Passed on: 21_heart_disease calculate_overall_error_calculate_num_examples regSample_randPop\n",
      "Passed on: 21_heart_disease calculate_overall_error_calculate_overall_inverse_f1_calculate_num_examples regSample_randPop\n",
      "Passed on: 21_heart_disease calculate_class0_error_calculate_class1_error regSample_randPop\n",
      "Passed on: 22_heart_disease calculate_overall_error_calculate_num_examples regSample_randPop\n",
      "Passed on: 22_heart_disease calculate_overall_error_calculate_overall_inverse_f1_calculate_num_examples regSample_randPop\n",
      "Passed on: 22_heart_disease calculate_class0_error_calculate_class1_error regSample_randPop\n",
      "Passed on: 23_heart_disease calculate_overall_error_calculate_num_examples regSample_randPop\n",
      "Passed on: 23_heart_disease calculate_overall_error_calculate_overall_inverse_f1_calculate_num_examples regSample_randPop\n",
      "Passed on: 23_heart_disease calculate_class0_error_calculate_class1_error regSample_randPop\n",
      "Passed on: 24_heart_disease calculate_overall_error_calculate_num_examples regSample_randPop\n",
      "Passed on: 24_heart_disease calculate_overall_error_calculate_overall_inverse_f1_calculate_num_examples regSample_randPop\n",
      "Passed on: 24_heart_disease calculate_class0_error_calculate_class1_error regSample_randPop\n",
      "Passed on: 25_heart_disease calculate_overall_error_calculate_num_examples regSample_randPop\n",
      "Passed on: 25_heart_disease calculate_overall_error_calculate_overall_inverse_f1_calculate_num_examples regSample_randPop\n",
      "Passed on: 25_heart_disease calculate_class0_error_calculate_class1_error regSample_randPop\n",
      "Passed on: 26_heart_disease calculate_overall_error_calculate_num_examples regSample_randPop\n",
      "Passed on: 26_heart_disease calculate_overall_error_calculate_overall_inverse_f1_calculate_num_examples regSample_randPop\n",
      "Passed on: 26_heart_disease calculate_class0_error_calculate_class1_error regSample_randPop\n",
      "Passed on: 27_heart_disease calculate_overall_error_calculate_num_examples regSample_randPop\n",
      "Passed on: 27_heart_disease calculate_overall_error_calculate_overall_inverse_f1_calculate_num_examples regSample_randPop\n",
      "Passed on: 27_heart_disease calculate_class0_error_calculate_class1_error regSample_randPop\n",
      "Passed on: 28_heart_disease calculate_overall_error_calculate_num_examples regSample_randPop\n",
      "Passed on: 28_heart_disease calculate_overall_error_calculate_overall_inverse_f1_calculate_num_examples regSample_randPop\n",
      "Passed on: 28_heart_disease calculate_class0_error_calculate_class1_error regSample_randPop\n",
      "Passed on: 29_heart_disease calculate_overall_error_calculate_num_examples regSample_randPop\n",
      "Passed on: 29_heart_disease calculate_overall_error_calculate_overall_inverse_f1_calculate_num_examples regSample_randPop\n",
      "Passed on: 29_heart_disease calculate_class0_error_calculate_class1_error regSample_randPop\n",
      "Passed on: 30_heart_disease calculate_overall_error_calculate_num_examples regSample_randPop\n",
      "Passed on: 30_heart_disease calculate_overall_error_calculate_overall_inverse_f1_calculate_num_examples regSample_randPop\n",
      "Passed on: 30_heart_disease calculate_class0_error_calculate_class1_error regSample_randPop\n"
     ]
    },
    {
     "name": "stderr",
     "output_type": "stream",
     "text": [
      "e:\\Code\\3_13_venv\\Lib\\site-packages\\sklearn\\preprocessing\\_label.py:110: DataConversionWarning: A column-vector y was passed when a 1d array was expected. Please change the shape of y to (n_samples, ), for example using ravel().\n",
      "  y = column_or_1d(y, warn=True)\n",
      "e:\\Code\\3_13_venv\\Lib\\site-packages\\sklearn\\preprocessing\\_label.py:110: DataConversionWarning: A column-vector y was passed when a 1d array was expected. Please change the shape of y to (n_samples, ), for example using ravel().\n",
      "  y = column_or_1d(y, warn=True)\n"
     ]
    },
    {
     "name": "stdout",
     "output_type": "stream",
     "text": [
      "Passed on: 0_wisconsin calculate_overall_error_calculate_num_examples regSample_randPop\n",
      "Passed on: 0_wisconsin calculate_overall_error_calculate_overall_inverse_f1_calculate_num_examples regSample_randPop\n",
      "Passed on: 0_wisconsin calculate_class0_error_calculate_class1_error regSample_randPop\n",
      "Passed on: 1_wisconsin calculate_overall_error_calculate_num_examples regSample_randPop\n",
      "Passed on: 1_wisconsin calculate_overall_error_calculate_overall_inverse_f1_calculate_num_examples regSample_randPop\n",
      "Passed on: 1_wisconsin calculate_class0_error_calculate_class1_error regSample_randPop\n",
      "Passed on: 2_wisconsin calculate_overall_error_calculate_num_examples regSample_randPop\n",
      "Passed on: 2_wisconsin calculate_overall_error_calculate_overall_inverse_f1_calculate_num_examples regSample_randPop\n",
      "Passed on: 2_wisconsin calculate_class0_error_calculate_class1_error regSample_randPop\n",
      "Passed on: 3_wisconsin calculate_overall_error_calculate_num_examples regSample_randPop\n",
      "Passed on: 3_wisconsin calculate_overall_error_calculate_overall_inverse_f1_calculate_num_examples regSample_randPop\n",
      "Passed on: 3_wisconsin calculate_class0_error_calculate_class1_error regSample_randPop\n",
      "Passed on: 4_wisconsin calculate_overall_error_calculate_num_examples regSample_randPop\n",
      "Passed on: 4_wisconsin calculate_overall_error_calculate_overall_inverse_f1_calculate_num_examples regSample_randPop\n",
      "Passed on: 4_wisconsin calculate_class0_error_calculate_class1_error regSample_randPop\n",
      "Passed on: 5_wisconsin calculate_overall_error_calculate_num_examples regSample_randPop\n",
      "Passed on: 5_wisconsin calculate_overall_error_calculate_overall_inverse_f1_calculate_num_examples regSample_randPop\n",
      "Passed on: 5_wisconsin calculate_class0_error_calculate_class1_error regSample_randPop\n",
      "Passed on: 6_wisconsin calculate_overall_error_calculate_num_examples regSample_randPop\n",
      "Passed on: 6_wisconsin calculate_overall_error_calculate_overall_inverse_f1_calculate_num_examples regSample_randPop\n",
      "Passed on: 6_wisconsin calculate_class0_error_calculate_class1_error regSample_randPop\n",
      "Passed on: 7_wisconsin calculate_overall_error_calculate_num_examples regSample_randPop\n",
      "Passed on: 7_wisconsin calculate_overall_error_calculate_overall_inverse_f1_calculate_num_examples regSample_randPop\n",
      "Passed on: 7_wisconsin calculate_class0_error_calculate_class1_error regSample_randPop\n",
      "Passed on: 8_wisconsin calculate_overall_error_calculate_num_examples regSample_randPop\n",
      "Passed on: 8_wisconsin calculate_overall_error_calculate_overall_inverse_f1_calculate_num_examples regSample_randPop\n",
      "Passed on: 8_wisconsin calculate_class0_error_calculate_class1_error regSample_randPop\n",
      "Passed on: 9_wisconsin calculate_overall_error_calculate_num_examples regSample_randPop\n",
      "Passed on: 9_wisconsin calculate_overall_error_calculate_overall_inverse_f1_calculate_num_examples regSample_randPop\n",
      "Passed on: 9_wisconsin calculate_class0_error_calculate_class1_error regSample_randPop\n",
      "Passed on: 10_wisconsin calculate_overall_error_calculate_num_examples regSample_randPop\n",
      "Passed on: 10_wisconsin calculate_overall_error_calculate_overall_inverse_f1_calculate_num_examples regSample_randPop\n",
      "Passed on: 10_wisconsin calculate_class0_error_calculate_class1_error regSample_randPop\n",
      "Passed on: 11_wisconsin calculate_overall_error_calculate_num_examples regSample_randPop\n",
      "Passed on: 11_wisconsin calculate_overall_error_calculate_overall_inverse_f1_calculate_num_examples regSample_randPop\n",
      "Passed on: 11_wisconsin calculate_class0_error_calculate_class1_error regSample_randPop\n",
      "Passed on: 12_wisconsin calculate_overall_error_calculate_num_examples regSample_randPop\n",
      "Passed on: 12_wisconsin calculate_overall_error_calculate_overall_inverse_f1_calculate_num_examples regSample_randPop\n",
      "Passed on: 12_wisconsin calculate_class0_error_calculate_class1_error regSample_randPop\n",
      "Passed on: 13_wisconsin calculate_overall_error_calculate_num_examples regSample_randPop\n",
      "Passed on: 13_wisconsin calculate_overall_error_calculate_overall_inverse_f1_calculate_num_examples regSample_randPop\n",
      "Passed on: 13_wisconsin calculate_class0_error_calculate_class1_error regSample_randPop\n",
      "Passed on: 14_wisconsin calculate_overall_error_calculate_num_examples regSample_randPop\n",
      "Passed on: 14_wisconsin calculate_overall_error_calculate_overall_inverse_f1_calculate_num_examples regSample_randPop\n",
      "Passed on: 14_wisconsin calculate_class0_error_calculate_class1_error regSample_randPop\n",
      "Passed on: 15_wisconsin calculate_overall_error_calculate_num_examples regSample_randPop\n",
      "Passed on: 15_wisconsin calculate_overall_error_calculate_overall_inverse_f1_calculate_num_examples regSample_randPop\n",
      "Passed on: 15_wisconsin calculate_class0_error_calculate_class1_error regSample_randPop\n",
      "Passed on: 16_wisconsin calculate_overall_error_calculate_num_examples regSample_randPop\n",
      "Passed on: 16_wisconsin calculate_overall_error_calculate_overall_inverse_f1_calculate_num_examples regSample_randPop\n",
      "Passed on: 16_wisconsin calculate_class0_error_calculate_class1_error regSample_randPop\n",
      "Passed on: 17_wisconsin calculate_overall_error_calculate_num_examples regSample_randPop\n",
      "Passed on: 17_wisconsin calculate_overall_error_calculate_overall_inverse_f1_calculate_num_examples regSample_randPop\n",
      "Passed on: 17_wisconsin calculate_class0_error_calculate_class1_error regSample_randPop\n",
      "Passed on: 18_wisconsin calculate_overall_error_calculate_num_examples regSample_randPop\n",
      "Passed on: 18_wisconsin calculate_overall_error_calculate_overall_inverse_f1_calculate_num_examples regSample_randPop\n",
      "Passed on: 18_wisconsin calculate_class0_error_calculate_class1_error regSample_randPop\n",
      "Passed on: 19_wisconsin calculate_overall_error_calculate_num_examples regSample_randPop\n",
      "Passed on: 19_wisconsin calculate_overall_error_calculate_overall_inverse_f1_calculate_num_examples regSample_randPop\n",
      "Passed on: 19_wisconsin calculate_class0_error_calculate_class1_error regSample_randPop\n",
      "Passed on: 20_wisconsin calculate_overall_error_calculate_num_examples regSample_randPop\n",
      "Passed on: 20_wisconsin calculate_overall_error_calculate_overall_inverse_f1_calculate_num_examples regSample_randPop\n",
      "Passed on: 20_wisconsin calculate_class0_error_calculate_class1_error regSample_randPop\n",
      "Passed on: 21_wisconsin calculate_overall_error_calculate_num_examples regSample_randPop\n",
      "Passed on: 21_wisconsin calculate_overall_error_calculate_overall_inverse_f1_calculate_num_examples regSample_randPop\n",
      "Passed on: 21_wisconsin calculate_class0_error_calculate_class1_error regSample_randPop\n",
      "Passed on: 22_wisconsin calculate_overall_error_calculate_num_examples regSample_randPop\n",
      "Passed on: 22_wisconsin calculate_overall_error_calculate_overall_inverse_f1_calculate_num_examples regSample_randPop\n",
      "Passed on: 22_wisconsin calculate_class0_error_calculate_class1_error regSample_randPop\n",
      "Passed on: 23_wisconsin calculate_overall_error_calculate_num_examples regSample_randPop\n",
      "Passed on: 23_wisconsin calculate_overall_error_calculate_overall_inverse_f1_calculate_num_examples regSample_randPop\n",
      "Passed on: 23_wisconsin calculate_class0_error_calculate_class1_error regSample_randPop\n",
      "Passed on: 24_wisconsin calculate_overall_error_calculate_num_examples regSample_randPop\n",
      "Passed on: 24_wisconsin calculate_overall_error_calculate_overall_inverse_f1_calculate_num_examples regSample_randPop\n",
      "Passed on: 24_wisconsin calculate_class0_error_calculate_class1_error regSample_randPop\n",
      "Passed on: 25_wisconsin calculate_overall_error_calculate_num_examples regSample_randPop\n",
      "Passed on: 25_wisconsin calculate_overall_error_calculate_overall_inverse_f1_calculate_num_examples regSample_randPop\n",
      "Passed on: 25_wisconsin calculate_class0_error_calculate_class1_error regSample_randPop\n",
      "Passed on: 26_wisconsin calculate_overall_error_calculate_num_examples regSample_randPop\n",
      "Passed on: 26_wisconsin calculate_overall_error_calculate_overall_inverse_f1_calculate_num_examples regSample_randPop\n",
      "Passed on: 26_wisconsin calculate_class0_error_calculate_class1_error regSample_randPop\n",
      "Passed on: 27_wisconsin calculate_overall_error_calculate_num_examples regSample_randPop\n",
      "Passed on: 27_wisconsin calculate_overall_error_calculate_overall_inverse_f1_calculate_num_examples regSample_randPop\n",
      "Passed on: 27_wisconsin calculate_class0_error_calculate_class1_error regSample_randPop\n",
      "Passed on: 28_wisconsin calculate_overall_error_calculate_num_examples regSample_randPop\n",
      "Passed on: 28_wisconsin calculate_overall_error_calculate_overall_inverse_f1_calculate_num_examples regSample_randPop\n",
      "Passed on: 28_wisconsin calculate_class0_error_calculate_class1_error regSample_randPop\n",
      "Passed on: 29_wisconsin calculate_overall_error_calculate_num_examples regSample_randPop\n",
      "Passed on: 29_wisconsin calculate_overall_error_calculate_overall_inverse_f1_calculate_num_examples regSample_randPop\n",
      "Passed on: 29_wisconsin calculate_class0_error_calculate_class1_error regSample_randPop\n",
      "Passed on: 30_wisconsin calculate_overall_error_calculate_num_examples regSample_randPop\n",
      "Passed on: 30_wisconsin calculate_overall_error_calculate_overall_inverse_f1_calculate_num_examples regSample_randPop\n",
      "Passed on: 30_wisconsin calculate_class0_error_calculate_class1_error regSample_randPop\n"
     ]
    },
    {
     "name": "stderr",
     "output_type": "stream",
     "text": [
      "e:\\Code\\3_13_venv\\Lib\\site-packages\\sklearn\\preprocessing\\_label.py:110: DataConversionWarning: A column-vector y was passed when a 1d array was expected. Please change the shape of y to (n_samples, ), for example using ravel().\n",
      "  y = column_or_1d(y, warn=True)\n",
      "e:\\Code\\3_13_venv\\Lib\\site-packages\\sklearn\\preprocessing\\_label.py:110: DataConversionWarning: A column-vector y was passed when a 1d array was expected. Please change the shape of y to (n_samples, ), for example using ravel().\n",
      "  y = column_or_1d(y, warn=True)\n",
      "e:\\Code\\3_13_venv\\Lib\\site-packages\\sklearn\\preprocessing\\_label.py:110: DataConversionWarning: A column-vector y was passed when a 1d array was expected. Please change the shape of y to (n_samples, ), for example using ravel().\n",
      "  y = column_or_1d(y, warn=True)\n",
      "e:\\Code\\3_13_venv\\Lib\\site-packages\\sklearn\\preprocessing\\_label.py:110: DataConversionWarning: A column-vector y was passed when a 1d array was expected. Please change the shape of y to (n_samples, ), for example using ravel().\n",
      "  y = column_or_1d(y, warn=True)\n"
     ]
    }
   ],
   "source": [
    "for dataset, name in datasets:\n",
    "\t\n",
    "\traw_X, y = dataset.data.features, dataset.data.targets\n",
    "\tpipeline = create_preprocessor_pipeline(dataset.variables)\n",
    "\tpipeline.fit(raw_X, y)\n",
    "\tX = pipeline.transform(raw_X)\n",
    "\tlabel_encoder = LabelEncoder()\n",
    "\ty = label_encoder.fit_transform(y)\n",
    "\t\n",
    "\tpackages = []\n",
    "\tfor c, (train_idx, validation_idx, test_idx) in enumerate(prepare_splits(X, y)):\n",
    "\t\tfor objectives in objectives_sets:\n",
    "\t\t\tobjectives_names = [re.search(r'\\.([a-zA-Z_][a-zA-Z0-9_]*)\\s', str(objective_name)).group(1) for objective_name in objectives]\n",
    "\t\t\tobjectives_names = '_'.join(objectives_names)\t\t\t\n",
    "\t\t\tpackages.append((X, y, train_idx, validation_idx, test_idx, objectives, f\"{c}_{name} {objectives_names} regSample_randPop\"))\n",
    "\n",
    "\t# for package in packages:\n",
    "\t# \tif os.path.exists(os.path.join(\"results\", f\"{package[-1]}.pickle\")):\n",
    "\t# \t\tcontinue\n",
    "\t# \tprint(f\"Executing {package[-1]}\")\n",
    "\t# \tregularSample_randPop_execute(package)\n",
    "\n",
    "\tresults = Parallel(n_jobs=-1)(delayed(regularSample_randPop_execute)(package) for package in packages)\n",
    "\tfor result in results:\n",
    "\t\tif isinstance(result, str):\n",
    "\t\t\tprint(f\"Passed on: {result}\")\n",
    "\t\t\tcontinue\n",
    "\n",
    "\t\twith open(os.path.join(\"results\", f\"{result['name']}.pickle\"), 'wb') as fh:\n",
    "\t\t\tpickle.dump(result, fh)\t"
   ]
  },
  {
   "cell_type": "code",
   "execution_count": 25,
   "metadata": {},
   "outputs": [
    {
     "name": "stderr",
     "output_type": "stream",
     "text": [
      "e:\\Code\\3_13_venv\\Lib\\site-packages\\sklearn\\preprocessing\\_label.py:110: DataConversionWarning: A column-vector y was passed when a 1d array was expected. Please change the shape of y to (n_samples, ), for example using ravel().\n",
      "  y = column_or_1d(y, warn=True)\n"
     ]
    },
    {
     "name": "stdout",
     "output_type": "stream",
     "text": [
      "Passed on: 0_ionosphere calculate_overall_error_calculate_num_examples overSample_biasPop\n",
      "Passed on: 0_ionosphere calculate_overall_error_calculate_overall_inverse_f1_calculate_num_examples overSample_biasPop\n",
      "Passed on: 0_ionosphere calculate_class0_error_calculate_class1_error overSample_biasPop\n",
      "Passed on: 1_ionosphere calculate_overall_error_calculate_num_examples overSample_biasPop\n",
      "Passed on: 1_ionosphere calculate_overall_error_calculate_overall_inverse_f1_calculate_num_examples overSample_biasPop\n",
      "Passed on: 1_ionosphere calculate_class0_error_calculate_class1_error overSample_biasPop\n",
      "Passed on: 2_ionosphere calculate_overall_error_calculate_num_examples overSample_biasPop\n",
      "Passed on: 2_ionosphere calculate_overall_error_calculate_overall_inverse_f1_calculate_num_examples overSample_biasPop\n",
      "Passed on: 2_ionosphere calculate_class0_error_calculate_class1_error overSample_biasPop\n",
      "Passed on: 3_ionosphere calculate_overall_error_calculate_num_examples overSample_biasPop\n",
      "Passed on: 3_ionosphere calculate_overall_error_calculate_overall_inverse_f1_calculate_num_examples overSample_biasPop\n",
      "Passed on: 3_ionosphere calculate_class0_error_calculate_class1_error overSample_biasPop\n",
      "Passed on: 4_ionosphere calculate_overall_error_calculate_num_examples overSample_biasPop\n",
      "Passed on: 4_ionosphere calculate_overall_error_calculate_overall_inverse_f1_calculate_num_examples overSample_biasPop\n",
      "Passed on: 4_ionosphere calculate_class0_error_calculate_class1_error overSample_biasPop\n",
      "Passed on: 5_ionosphere calculate_overall_error_calculate_num_examples overSample_biasPop\n",
      "Passed on: 5_ionosphere calculate_overall_error_calculate_overall_inverse_f1_calculate_num_examples overSample_biasPop\n",
      "Passed on: 5_ionosphere calculate_class0_error_calculate_class1_error overSample_biasPop\n",
      "Passed on: 6_ionosphere calculate_overall_error_calculate_num_examples overSample_biasPop\n",
      "Passed on: 6_ionosphere calculate_overall_error_calculate_overall_inverse_f1_calculate_num_examples overSample_biasPop\n",
      "Passed on: 6_ionosphere calculate_class0_error_calculate_class1_error overSample_biasPop\n",
      "Passed on: 7_ionosphere calculate_overall_error_calculate_num_examples overSample_biasPop\n",
      "Passed on: 7_ionosphere calculate_overall_error_calculate_overall_inverse_f1_calculate_num_examples overSample_biasPop\n",
      "Passed on: 7_ionosphere calculate_class0_error_calculate_class1_error overSample_biasPop\n",
      "Passed on: 8_ionosphere calculate_overall_error_calculate_num_examples overSample_biasPop\n",
      "Passed on: 8_ionosphere calculate_overall_error_calculate_overall_inverse_f1_calculate_num_examples overSample_biasPop\n",
      "Passed on: 8_ionosphere calculate_class0_error_calculate_class1_error overSample_biasPop\n",
      "Passed on: 9_ionosphere calculate_overall_error_calculate_num_examples overSample_biasPop\n",
      "Passed on: 9_ionosphere calculate_overall_error_calculate_overall_inverse_f1_calculate_num_examples overSample_biasPop\n",
      "Passed on: 9_ionosphere calculate_class0_error_calculate_class1_error overSample_biasPop\n",
      "Passed on: 10_ionosphere calculate_overall_error_calculate_num_examples overSample_biasPop\n",
      "Passed on: 10_ionosphere calculate_overall_error_calculate_overall_inverse_f1_calculate_num_examples overSample_biasPop\n",
      "Passed on: 10_ionosphere calculate_class0_error_calculate_class1_error overSample_biasPop\n",
      "Passed on: 11_ionosphere calculate_overall_error_calculate_num_examples overSample_biasPop\n",
      "Passed on: 11_ionosphere calculate_overall_error_calculate_overall_inverse_f1_calculate_num_examples overSample_biasPop\n",
      "Passed on: 11_ionosphere calculate_class0_error_calculate_class1_error overSample_biasPop\n",
      "Passed on: 12_ionosphere calculate_overall_error_calculate_num_examples overSample_biasPop\n",
      "Passed on: 12_ionosphere calculate_overall_error_calculate_overall_inverse_f1_calculate_num_examples overSample_biasPop\n",
      "Passed on: 12_ionosphere calculate_class0_error_calculate_class1_error overSample_biasPop\n",
      "Passed on: 13_ionosphere calculate_overall_error_calculate_num_examples overSample_biasPop\n",
      "Passed on: 13_ionosphere calculate_overall_error_calculate_overall_inverse_f1_calculate_num_examples overSample_biasPop\n",
      "Passed on: 13_ionosphere calculate_class0_error_calculate_class1_error overSample_biasPop\n",
      "Passed on: 14_ionosphere calculate_overall_error_calculate_num_examples overSample_biasPop\n",
      "Passed on: 14_ionosphere calculate_overall_error_calculate_overall_inverse_f1_calculate_num_examples overSample_biasPop\n",
      "Passed on: 14_ionosphere calculate_class0_error_calculate_class1_error overSample_biasPop\n",
      "Passed on: 15_ionosphere calculate_overall_error_calculate_num_examples overSample_biasPop\n",
      "Passed on: 15_ionosphere calculate_overall_error_calculate_overall_inverse_f1_calculate_num_examples overSample_biasPop\n",
      "Passed on: 15_ionosphere calculate_class0_error_calculate_class1_error overSample_biasPop\n",
      "Passed on: 16_ionosphere calculate_overall_error_calculate_num_examples overSample_biasPop\n",
      "Passed on: 16_ionosphere calculate_overall_error_calculate_overall_inverse_f1_calculate_num_examples overSample_biasPop\n",
      "Passed on: 16_ionosphere calculate_class0_error_calculate_class1_error overSample_biasPop\n",
      "Passed on: 17_ionosphere calculate_overall_error_calculate_num_examples overSample_biasPop\n",
      "Passed on: 17_ionosphere calculate_overall_error_calculate_overall_inverse_f1_calculate_num_examples overSample_biasPop\n",
      "Passed on: 17_ionosphere calculate_class0_error_calculate_class1_error overSample_biasPop\n",
      "Passed on: 18_ionosphere calculate_overall_error_calculate_num_examples overSample_biasPop\n",
      "Passed on: 18_ionosphere calculate_overall_error_calculate_overall_inverse_f1_calculate_num_examples overSample_biasPop\n",
      "Passed on: 18_ionosphere calculate_class0_error_calculate_class1_error overSample_biasPop\n",
      "Passed on: 19_ionosphere calculate_overall_error_calculate_num_examples overSample_biasPop\n",
      "Passed on: 19_ionosphere calculate_overall_error_calculate_overall_inverse_f1_calculate_num_examples overSample_biasPop\n",
      "Passed on: 19_ionosphere calculate_class0_error_calculate_class1_error overSample_biasPop\n",
      "Passed on: 20_ionosphere calculate_overall_error_calculate_num_examples overSample_biasPop\n",
      "Passed on: 20_ionosphere calculate_overall_error_calculate_overall_inverse_f1_calculate_num_examples overSample_biasPop\n",
      "Passed on: 20_ionosphere calculate_class0_error_calculate_class1_error overSample_biasPop\n",
      "Passed on: 21_ionosphere calculate_overall_error_calculate_num_examples overSample_biasPop\n",
      "Passed on: 21_ionosphere calculate_overall_error_calculate_overall_inverse_f1_calculate_num_examples overSample_biasPop\n",
      "Passed on: 21_ionosphere calculate_class0_error_calculate_class1_error overSample_biasPop\n",
      "Passed on: 22_ionosphere calculate_overall_error_calculate_num_examples overSample_biasPop\n",
      "Passed on: 22_ionosphere calculate_overall_error_calculate_overall_inverse_f1_calculate_num_examples overSample_biasPop\n",
      "Passed on: 22_ionosphere calculate_class0_error_calculate_class1_error overSample_biasPop\n",
      "Passed on: 23_ionosphere calculate_overall_error_calculate_num_examples overSample_biasPop\n",
      "Passed on: 23_ionosphere calculate_overall_error_calculate_overall_inverse_f1_calculate_num_examples overSample_biasPop\n",
      "Passed on: 23_ionosphere calculate_class0_error_calculate_class1_error overSample_biasPop\n",
      "Passed on: 24_ionosphere calculate_overall_error_calculate_num_examples overSample_biasPop\n",
      "Passed on: 24_ionosphere calculate_overall_error_calculate_overall_inverse_f1_calculate_num_examples overSample_biasPop\n",
      "Passed on: 24_ionosphere calculate_class0_error_calculate_class1_error overSample_biasPop\n",
      "Passed on: 25_ionosphere calculate_overall_error_calculate_num_examples overSample_biasPop\n",
      "Passed on: 25_ionosphere calculate_overall_error_calculate_overall_inverse_f1_calculate_num_examples overSample_biasPop\n",
      "Passed on: 25_ionosphere calculate_class0_error_calculate_class1_error overSample_biasPop\n",
      "Passed on: 26_ionosphere calculate_overall_error_calculate_num_examples overSample_biasPop\n",
      "Passed on: 26_ionosphere calculate_overall_error_calculate_overall_inverse_f1_calculate_num_examples overSample_biasPop\n",
      "Passed on: 26_ionosphere calculate_class0_error_calculate_class1_error overSample_biasPop\n",
      "Passed on: 27_ionosphere calculate_overall_error_calculate_num_examples overSample_biasPop\n",
      "Passed on: 27_ionosphere calculate_overall_error_calculate_overall_inverse_f1_calculate_num_examples overSample_biasPop\n",
      "Passed on: 27_ionosphere calculate_class0_error_calculate_class1_error overSample_biasPop\n",
      "Passed on: 28_ionosphere calculate_overall_error_calculate_num_examples overSample_biasPop\n",
      "Passed on: 28_ionosphere calculate_overall_error_calculate_overall_inverse_f1_calculate_num_examples overSample_biasPop\n",
      "Passed on: 28_ionosphere calculate_class0_error_calculate_class1_error overSample_biasPop\n",
      "Passed on: 29_ionosphere calculate_overall_error_calculate_num_examples overSample_biasPop\n",
      "Passed on: 29_ionosphere calculate_overall_error_calculate_overall_inverse_f1_calculate_num_examples overSample_biasPop\n",
      "Passed on: 29_ionosphere calculate_class0_error_calculate_class1_error overSample_biasPop\n",
      "Passed on: 30_ionosphere calculate_overall_error_calculate_num_examples overSample_biasPop\n",
      "Passed on: 30_ionosphere calculate_overall_error_calculate_overall_inverse_f1_calculate_num_examples overSample_biasPop\n",
      "Passed on: 30_ionosphere calculate_class0_error_calculate_class1_error overSample_biasPop\n",
      "Passed on: 0_haberman calculate_overall_error_calculate_num_examples overSample_biasPop\n",
      "Passed on: 0_haberman calculate_overall_error_calculate_overall_inverse_f1_calculate_num_examples overSample_biasPop\n",
      "Passed on: 0_haberman calculate_class0_error_calculate_class1_error overSample_biasPop\n",
      "Passed on: 1_haberman calculate_overall_error_calculate_num_examples overSample_biasPop\n",
      "Passed on: 1_haberman calculate_overall_error_calculate_overall_inverse_f1_calculate_num_examples overSample_biasPop\n",
      "Passed on: 1_haberman calculate_class0_error_calculate_class1_error overSample_biasPop\n",
      "Passed on: 2_haberman calculate_overall_error_calculate_num_examples overSample_biasPop\n",
      "Passed on: 2_haberman calculate_overall_error_calculate_overall_inverse_f1_calculate_num_examples overSample_biasPop\n",
      "Passed on: 2_haberman calculate_class0_error_calculate_class1_error overSample_biasPop\n",
      "Passed on: 3_haberman calculate_overall_error_calculate_num_examples overSample_biasPop\n",
      "Passed on: 3_haberman calculate_overall_error_calculate_overall_inverse_f1_calculate_num_examples overSample_biasPop\n",
      "Passed on: 3_haberman calculate_class0_error_calculate_class1_error overSample_biasPop\n",
      "Passed on: 4_haberman calculate_overall_error_calculate_num_examples overSample_biasPop\n",
      "Passed on: 4_haberman calculate_overall_error_calculate_overall_inverse_f1_calculate_num_examples overSample_biasPop\n",
      "Passed on: 4_haberman calculate_class0_error_calculate_class1_error overSample_biasPop\n",
      "Passed on: 5_haberman calculate_overall_error_calculate_num_examples overSample_biasPop\n",
      "Passed on: 5_haberman calculate_overall_error_calculate_overall_inverse_f1_calculate_num_examples overSample_biasPop\n",
      "Passed on: 5_haberman calculate_class0_error_calculate_class1_error overSample_biasPop\n",
      "Passed on: 6_haberman calculate_overall_error_calculate_num_examples overSample_biasPop\n",
      "Passed on: 6_haberman calculate_overall_error_calculate_overall_inverse_f1_calculate_num_examples overSample_biasPop\n",
      "Passed on: 6_haberman calculate_class0_error_calculate_class1_error overSample_biasPop\n",
      "Passed on: 7_haberman calculate_overall_error_calculate_num_examples overSample_biasPop\n",
      "Passed on: 7_haberman calculate_overall_error_calculate_overall_inverse_f1_calculate_num_examples overSample_biasPop\n",
      "Passed on: 7_haberman calculate_class0_error_calculate_class1_error overSample_biasPop\n",
      "Passed on: 8_haberman calculate_overall_error_calculate_num_examples overSample_biasPop\n",
      "Passed on: 8_haberman calculate_overall_error_calculate_overall_inverse_f1_calculate_num_examples overSample_biasPop\n",
      "Passed on: 8_haberman calculate_class0_error_calculate_class1_error overSample_biasPop\n",
      "Passed on: 9_haberman calculate_overall_error_calculate_num_examples overSample_biasPop\n",
      "Passed on: 9_haberman calculate_overall_error_calculate_overall_inverse_f1_calculate_num_examples overSample_biasPop\n",
      "Passed on: 9_haberman calculate_class0_error_calculate_class1_error overSample_biasPop\n",
      "Passed on: 10_haberman calculate_overall_error_calculate_num_examples overSample_biasPop\n",
      "Passed on: 10_haberman calculate_overall_error_calculate_overall_inverse_f1_calculate_num_examples overSample_biasPop\n",
      "Passed on: 10_haberman calculate_class0_error_calculate_class1_error overSample_biasPop\n",
      "Passed on: 11_haberman calculate_overall_error_calculate_num_examples overSample_biasPop\n",
      "Passed on: 11_haberman calculate_overall_error_calculate_overall_inverse_f1_calculate_num_examples overSample_biasPop\n",
      "Passed on: 11_haberman calculate_class0_error_calculate_class1_error overSample_biasPop\n",
      "Passed on: 12_haberman calculate_overall_error_calculate_num_examples overSample_biasPop\n",
      "Passed on: 12_haberman calculate_overall_error_calculate_overall_inverse_f1_calculate_num_examples overSample_biasPop\n",
      "Passed on: 12_haberman calculate_class0_error_calculate_class1_error overSample_biasPop\n",
      "Passed on: 13_haberman calculate_overall_error_calculate_num_examples overSample_biasPop\n",
      "Passed on: 13_haberman calculate_overall_error_calculate_overall_inverse_f1_calculate_num_examples overSample_biasPop\n",
      "Passed on: 13_haberman calculate_class0_error_calculate_class1_error overSample_biasPop\n",
      "Passed on: 14_haberman calculate_overall_error_calculate_num_examples overSample_biasPop\n",
      "Passed on: 14_haberman calculate_overall_error_calculate_overall_inverse_f1_calculate_num_examples overSample_biasPop\n",
      "Passed on: 14_haberman calculate_class0_error_calculate_class1_error overSample_biasPop\n",
      "Passed on: 15_haberman calculate_overall_error_calculate_num_examples overSample_biasPop\n",
      "Passed on: 15_haberman calculate_overall_error_calculate_overall_inverse_f1_calculate_num_examples overSample_biasPop\n",
      "Passed on: 15_haberman calculate_class0_error_calculate_class1_error overSample_biasPop\n",
      "Passed on: 16_haberman calculate_overall_error_calculate_num_examples overSample_biasPop\n",
      "Passed on: 16_haberman calculate_overall_error_calculate_overall_inverse_f1_calculate_num_examples overSample_biasPop\n",
      "Passed on: 16_haberman calculate_class0_error_calculate_class1_error overSample_biasPop\n",
      "Passed on: 17_haberman calculate_overall_error_calculate_num_examples overSample_biasPop\n",
      "Passed on: 17_haberman calculate_overall_error_calculate_overall_inverse_f1_calculate_num_examples overSample_biasPop\n",
      "Passed on: 17_haberman calculate_class0_error_calculate_class1_error overSample_biasPop\n",
      "Passed on: 18_haberman calculate_overall_error_calculate_num_examples overSample_biasPop\n",
      "Passed on: 18_haberman calculate_overall_error_calculate_overall_inverse_f1_calculate_num_examples overSample_biasPop\n",
      "Passed on: 18_haberman calculate_class0_error_calculate_class1_error overSample_biasPop\n",
      "Passed on: 19_haberman calculate_overall_error_calculate_num_examples overSample_biasPop\n",
      "Passed on: 19_haberman calculate_overall_error_calculate_overall_inverse_f1_calculate_num_examples overSample_biasPop\n",
      "Passed on: 19_haberman calculate_class0_error_calculate_class1_error overSample_biasPop\n",
      "Passed on: 20_haberman calculate_overall_error_calculate_num_examples overSample_biasPop\n",
      "Passed on: 20_haberman calculate_overall_error_calculate_overall_inverse_f1_calculate_num_examples overSample_biasPop\n",
      "Passed on: 20_haberman calculate_class0_error_calculate_class1_error overSample_biasPop\n",
      "Passed on: 21_haberman calculate_overall_error_calculate_num_examples overSample_biasPop\n",
      "Passed on: 21_haberman calculate_overall_error_calculate_overall_inverse_f1_calculate_num_examples overSample_biasPop\n",
      "Passed on: 21_haberman calculate_class0_error_calculate_class1_error overSample_biasPop\n",
      "Passed on: 22_haberman calculate_overall_error_calculate_num_examples overSample_biasPop\n",
      "Passed on: 22_haberman calculate_overall_error_calculate_overall_inverse_f1_calculate_num_examples overSample_biasPop\n",
      "Passed on: 22_haberman calculate_class0_error_calculate_class1_error overSample_biasPop\n",
      "Passed on: 23_haberman calculate_overall_error_calculate_num_examples overSample_biasPop\n",
      "Passed on: 23_haberman calculate_overall_error_calculate_overall_inverse_f1_calculate_num_examples overSample_biasPop\n",
      "Passed on: 23_haberman calculate_class0_error_calculate_class1_error overSample_biasPop\n",
      "Passed on: 24_haberman calculate_overall_error_calculate_num_examples overSample_biasPop\n",
      "Passed on: 24_haberman calculate_overall_error_calculate_overall_inverse_f1_calculate_num_examples overSample_biasPop\n",
      "Passed on: 24_haberman calculate_class0_error_calculate_class1_error overSample_biasPop\n",
      "Passed on: 25_haberman calculate_overall_error_calculate_num_examples overSample_biasPop\n",
      "Passed on: 25_haberman calculate_overall_error_calculate_overall_inverse_f1_calculate_num_examples overSample_biasPop\n",
      "Passed on: 25_haberman calculate_class0_error_calculate_class1_error overSample_biasPop\n",
      "Passed on: 26_haberman calculate_overall_error_calculate_num_examples overSample_biasPop\n",
      "Passed on: 26_haberman calculate_overall_error_calculate_overall_inverse_f1_calculate_num_examples overSample_biasPop\n",
      "Passed on: 26_haberman calculate_class0_error_calculate_class1_error overSample_biasPop\n",
      "Passed on: 27_haberman calculate_overall_error_calculate_num_examples overSample_biasPop\n",
      "Passed on: 27_haberman calculate_overall_error_calculate_overall_inverse_f1_calculate_num_examples overSample_biasPop\n",
      "Passed on: 27_haberman calculate_class0_error_calculate_class1_error overSample_biasPop\n",
      "Passed on: 28_haberman calculate_overall_error_calculate_num_examples overSample_biasPop\n",
      "Passed on: 28_haberman calculate_overall_error_calculate_overall_inverse_f1_calculate_num_examples overSample_biasPop\n",
      "Passed on: 28_haberman calculate_class0_error_calculate_class1_error overSample_biasPop\n",
      "Passed on: 29_haberman calculate_overall_error_calculate_num_examples overSample_biasPop\n",
      "Passed on: 29_haberman calculate_overall_error_calculate_overall_inverse_f1_calculate_num_examples overSample_biasPop\n",
      "Passed on: 29_haberman calculate_class0_error_calculate_class1_error overSample_biasPop\n",
      "Passed on: 30_haberman calculate_overall_error_calculate_num_examples overSample_biasPop\n",
      "Passed on: 30_haberman calculate_overall_error_calculate_overall_inverse_f1_calculate_num_examples overSample_biasPop\n",
      "Passed on: 30_haberman calculate_class0_error_calculate_class1_error overSample_biasPop\n"
     ]
    },
    {
     "name": "stderr",
     "output_type": "stream",
     "text": [
      "e:\\Code\\3_13_venv\\Lib\\site-packages\\sklearn\\preprocessing\\_label.py:110: DataConversionWarning: A column-vector y was passed when a 1d array was expected. Please change the shape of y to (n_samples, ), for example using ravel().\n",
      "  y = column_or_1d(y, warn=True)\n",
      "e:\\Code\\3_13_venv\\Lib\\site-packages\\sklearn\\preprocessing\\_label.py:110: DataConversionWarning: A column-vector y was passed when a 1d array was expected. Please change the shape of y to (n_samples, ), for example using ravel().\n",
      "  y = column_or_1d(y, warn=True)\n"
     ]
    },
    {
     "name": "stdout",
     "output_type": "stream",
     "text": [
      "Passed on: 0_iris0 calculate_overall_error_calculate_num_examples overSample_biasPop\n",
      "Passed on: 0_iris0 calculate_overall_error_calculate_overall_inverse_f1_calculate_num_examples overSample_biasPop\n",
      "Passed on: 0_iris0 calculate_class0_error_calculate_class1_error overSample_biasPop\n",
      "Passed on: 1_iris0 calculate_overall_error_calculate_num_examples overSample_biasPop\n",
      "Passed on: 1_iris0 calculate_overall_error_calculate_overall_inverse_f1_calculate_num_examples overSample_biasPop\n",
      "Passed on: 1_iris0 calculate_class0_error_calculate_class1_error overSample_biasPop\n",
      "Passed on: 2_iris0 calculate_overall_error_calculate_num_examples overSample_biasPop\n",
      "Passed on: 2_iris0 calculate_overall_error_calculate_overall_inverse_f1_calculate_num_examples overSample_biasPop\n",
      "Passed on: 2_iris0 calculate_class0_error_calculate_class1_error overSample_biasPop\n",
      "Passed on: 3_iris0 calculate_overall_error_calculate_num_examples overSample_biasPop\n",
      "Passed on: 3_iris0 calculate_overall_error_calculate_overall_inverse_f1_calculate_num_examples overSample_biasPop\n",
      "Passed on: 3_iris0 calculate_class0_error_calculate_class1_error overSample_biasPop\n",
      "Passed on: 4_iris0 calculate_overall_error_calculate_num_examples overSample_biasPop\n",
      "Passed on: 4_iris0 calculate_overall_error_calculate_overall_inverse_f1_calculate_num_examples overSample_biasPop\n",
      "Passed on: 4_iris0 calculate_class0_error_calculate_class1_error overSample_biasPop\n",
      "Passed on: 5_iris0 calculate_overall_error_calculate_num_examples overSample_biasPop\n",
      "Passed on: 5_iris0 calculate_overall_error_calculate_overall_inverse_f1_calculate_num_examples overSample_biasPop\n",
      "Passed on: 5_iris0 calculate_class0_error_calculate_class1_error overSample_biasPop\n",
      "Passed on: 6_iris0 calculate_overall_error_calculate_num_examples overSample_biasPop\n",
      "Passed on: 6_iris0 calculate_overall_error_calculate_overall_inverse_f1_calculate_num_examples overSample_biasPop\n",
      "Passed on: 6_iris0 calculate_class0_error_calculate_class1_error overSample_biasPop\n",
      "Passed on: 7_iris0 calculate_overall_error_calculate_num_examples overSample_biasPop\n",
      "Passed on: 7_iris0 calculate_overall_error_calculate_overall_inverse_f1_calculate_num_examples overSample_biasPop\n",
      "Passed on: 7_iris0 calculate_class0_error_calculate_class1_error overSample_biasPop\n",
      "Passed on: 8_iris0 calculate_overall_error_calculate_num_examples overSample_biasPop\n",
      "Passed on: 8_iris0 calculate_overall_error_calculate_overall_inverse_f1_calculate_num_examples overSample_biasPop\n",
      "Passed on: 8_iris0 calculate_class0_error_calculate_class1_error overSample_biasPop\n",
      "Passed on: 9_iris0 calculate_overall_error_calculate_num_examples overSample_biasPop\n",
      "Passed on: 9_iris0 calculate_overall_error_calculate_overall_inverse_f1_calculate_num_examples overSample_biasPop\n",
      "Passed on: 9_iris0 calculate_class0_error_calculate_class1_error overSample_biasPop\n",
      "Passed on: 10_iris0 calculate_overall_error_calculate_num_examples overSample_biasPop\n",
      "Passed on: 10_iris0 calculate_overall_error_calculate_overall_inverse_f1_calculate_num_examples overSample_biasPop\n",
      "Passed on: 10_iris0 calculate_class0_error_calculate_class1_error overSample_biasPop\n",
      "Passed on: 11_iris0 calculate_overall_error_calculate_num_examples overSample_biasPop\n",
      "Passed on: 11_iris0 calculate_overall_error_calculate_overall_inverse_f1_calculate_num_examples overSample_biasPop\n",
      "Passed on: 11_iris0 calculate_class0_error_calculate_class1_error overSample_biasPop\n",
      "Passed on: 12_iris0 calculate_overall_error_calculate_num_examples overSample_biasPop\n",
      "Passed on: 12_iris0 calculate_overall_error_calculate_overall_inverse_f1_calculate_num_examples overSample_biasPop\n",
      "Passed on: 12_iris0 calculate_class0_error_calculate_class1_error overSample_biasPop\n",
      "Passed on: 13_iris0 calculate_overall_error_calculate_num_examples overSample_biasPop\n",
      "Passed on: 13_iris0 calculate_overall_error_calculate_overall_inverse_f1_calculate_num_examples overSample_biasPop\n",
      "Passed on: 13_iris0 calculate_class0_error_calculate_class1_error overSample_biasPop\n",
      "Passed on: 14_iris0 calculate_overall_error_calculate_num_examples overSample_biasPop\n",
      "Passed on: 14_iris0 calculate_overall_error_calculate_overall_inverse_f1_calculate_num_examples overSample_biasPop\n",
      "Passed on: 14_iris0 calculate_class0_error_calculate_class1_error overSample_biasPop\n",
      "Passed on: 15_iris0 calculate_overall_error_calculate_num_examples overSample_biasPop\n",
      "Passed on: 15_iris0 calculate_overall_error_calculate_overall_inverse_f1_calculate_num_examples overSample_biasPop\n",
      "Passed on: 15_iris0 calculate_class0_error_calculate_class1_error overSample_biasPop\n",
      "Passed on: 16_iris0 calculate_overall_error_calculate_num_examples overSample_biasPop\n",
      "Passed on: 16_iris0 calculate_overall_error_calculate_overall_inverse_f1_calculate_num_examples overSample_biasPop\n",
      "Passed on: 16_iris0 calculate_class0_error_calculate_class1_error overSample_biasPop\n",
      "Passed on: 17_iris0 calculate_overall_error_calculate_num_examples overSample_biasPop\n",
      "Passed on: 17_iris0 calculate_overall_error_calculate_overall_inverse_f1_calculate_num_examples overSample_biasPop\n",
      "Passed on: 17_iris0 calculate_class0_error_calculate_class1_error overSample_biasPop\n",
      "Passed on: 18_iris0 calculate_overall_error_calculate_num_examples overSample_biasPop\n",
      "Passed on: 18_iris0 calculate_overall_error_calculate_overall_inverse_f1_calculate_num_examples overSample_biasPop\n",
      "Passed on: 18_iris0 calculate_class0_error_calculate_class1_error overSample_biasPop\n",
      "Passed on: 19_iris0 calculate_overall_error_calculate_num_examples overSample_biasPop\n",
      "Passed on: 19_iris0 calculate_overall_error_calculate_overall_inverse_f1_calculate_num_examples overSample_biasPop\n",
      "Passed on: 19_iris0 calculate_class0_error_calculate_class1_error overSample_biasPop\n",
      "Passed on: 20_iris0 calculate_overall_error_calculate_num_examples overSample_biasPop\n",
      "Passed on: 20_iris0 calculate_overall_error_calculate_overall_inverse_f1_calculate_num_examples overSample_biasPop\n",
      "Passed on: 20_iris0 calculate_class0_error_calculate_class1_error overSample_biasPop\n",
      "Passed on: 21_iris0 calculate_overall_error_calculate_num_examples overSample_biasPop\n",
      "Passed on: 21_iris0 calculate_overall_error_calculate_overall_inverse_f1_calculate_num_examples overSample_biasPop\n",
      "Passed on: 21_iris0 calculate_class0_error_calculate_class1_error overSample_biasPop\n",
      "Passed on: 22_iris0 calculate_overall_error_calculate_num_examples overSample_biasPop\n",
      "Passed on: 22_iris0 calculate_overall_error_calculate_overall_inverse_f1_calculate_num_examples overSample_biasPop\n",
      "Passed on: 22_iris0 calculate_class0_error_calculate_class1_error overSample_biasPop\n",
      "Passed on: 23_iris0 calculate_overall_error_calculate_num_examples overSample_biasPop\n",
      "Passed on: 23_iris0 calculate_overall_error_calculate_overall_inverse_f1_calculate_num_examples overSample_biasPop\n",
      "Passed on: 23_iris0 calculate_class0_error_calculate_class1_error overSample_biasPop\n",
      "Passed on: 24_iris0 calculate_overall_error_calculate_num_examples overSample_biasPop\n",
      "Passed on: 24_iris0 calculate_overall_error_calculate_overall_inverse_f1_calculate_num_examples overSample_biasPop\n",
      "Passed on: 24_iris0 calculate_class0_error_calculate_class1_error overSample_biasPop\n",
      "Passed on: 25_iris0 calculate_overall_error_calculate_num_examples overSample_biasPop\n",
      "Passed on: 25_iris0 calculate_overall_error_calculate_overall_inverse_f1_calculate_num_examples overSample_biasPop\n",
      "Passed on: 25_iris0 calculate_class0_error_calculate_class1_error overSample_biasPop\n",
      "Passed on: 26_iris0 calculate_overall_error_calculate_num_examples overSample_biasPop\n",
      "Passed on: 26_iris0 calculate_overall_error_calculate_overall_inverse_f1_calculate_num_examples overSample_biasPop\n",
      "Passed on: 26_iris0 calculate_class0_error_calculate_class1_error overSample_biasPop\n",
      "Passed on: 27_iris0 calculate_overall_error_calculate_num_examples overSample_biasPop\n",
      "Passed on: 27_iris0 calculate_overall_error_calculate_overall_inverse_f1_calculate_num_examples overSample_biasPop\n",
      "Passed on: 27_iris0 calculate_class0_error_calculate_class1_error overSample_biasPop\n",
      "Passed on: 28_iris0 calculate_overall_error_calculate_num_examples overSample_biasPop\n",
      "Passed on: 28_iris0 calculate_overall_error_calculate_overall_inverse_f1_calculate_num_examples overSample_biasPop\n",
      "Passed on: 28_iris0 calculate_class0_error_calculate_class1_error overSample_biasPop\n",
      "Passed on: 29_iris0 calculate_overall_error_calculate_num_examples overSample_biasPop\n",
      "Passed on: 29_iris0 calculate_overall_error_calculate_overall_inverse_f1_calculate_num_examples overSample_biasPop\n",
      "Passed on: 29_iris0 calculate_class0_error_calculate_class1_error overSample_biasPop\n",
      "Passed on: 30_iris0 calculate_overall_error_calculate_num_examples overSample_biasPop\n",
      "Passed on: 30_iris0 calculate_overall_error_calculate_overall_inverse_f1_calculate_num_examples overSample_biasPop\n",
      "Passed on: 30_iris0 calculate_class0_error_calculate_class1_error overSample_biasPop\n",
      "Passed on: 0_glass1 calculate_overall_error_calculate_num_examples overSample_biasPop\n",
      "Passed on: 0_glass1 calculate_overall_error_calculate_overall_inverse_f1_calculate_num_examples overSample_biasPop\n",
      "Passed on: 0_glass1 calculate_class0_error_calculate_class1_error overSample_biasPop\n",
      "Passed on: 1_glass1 calculate_overall_error_calculate_num_examples overSample_biasPop\n",
      "Passed on: 1_glass1 calculate_overall_error_calculate_overall_inverse_f1_calculate_num_examples overSample_biasPop\n",
      "Passed on: 1_glass1 calculate_class0_error_calculate_class1_error overSample_biasPop\n",
      "Passed on: 2_glass1 calculate_overall_error_calculate_num_examples overSample_biasPop\n",
      "Passed on: 2_glass1 calculate_overall_error_calculate_overall_inverse_f1_calculate_num_examples overSample_biasPop\n",
      "Passed on: 2_glass1 calculate_class0_error_calculate_class1_error overSample_biasPop\n",
      "Passed on: 3_glass1 calculate_overall_error_calculate_num_examples overSample_biasPop\n",
      "Passed on: 3_glass1 calculate_overall_error_calculate_overall_inverse_f1_calculate_num_examples overSample_biasPop\n",
      "Passed on: 3_glass1 calculate_class0_error_calculate_class1_error overSample_biasPop\n",
      "Passed on: 4_glass1 calculate_overall_error_calculate_num_examples overSample_biasPop\n",
      "Passed on: 4_glass1 calculate_overall_error_calculate_overall_inverse_f1_calculate_num_examples overSample_biasPop\n",
      "Passed on: 4_glass1 calculate_class0_error_calculate_class1_error overSample_biasPop\n",
      "Passed on: 5_glass1 calculate_overall_error_calculate_num_examples overSample_biasPop\n",
      "Passed on: 5_glass1 calculate_overall_error_calculate_overall_inverse_f1_calculate_num_examples overSample_biasPop\n",
      "Passed on: 5_glass1 calculate_class0_error_calculate_class1_error overSample_biasPop\n",
      "Passed on: 6_glass1 calculate_overall_error_calculate_num_examples overSample_biasPop\n",
      "Passed on: 6_glass1 calculate_overall_error_calculate_overall_inverse_f1_calculate_num_examples overSample_biasPop\n",
      "Passed on: 6_glass1 calculate_class0_error_calculate_class1_error overSample_biasPop\n",
      "Passed on: 7_glass1 calculate_overall_error_calculate_num_examples overSample_biasPop\n",
      "Passed on: 7_glass1 calculate_overall_error_calculate_overall_inverse_f1_calculate_num_examples overSample_biasPop\n",
      "Passed on: 7_glass1 calculate_class0_error_calculate_class1_error overSample_biasPop\n",
      "Passed on: 8_glass1 calculate_overall_error_calculate_num_examples overSample_biasPop\n",
      "Passed on: 8_glass1 calculate_overall_error_calculate_overall_inverse_f1_calculate_num_examples overSample_biasPop\n",
      "Passed on: 8_glass1 calculate_class0_error_calculate_class1_error overSample_biasPop\n",
      "Passed on: 9_glass1 calculate_overall_error_calculate_num_examples overSample_biasPop\n",
      "Passed on: 9_glass1 calculate_overall_error_calculate_overall_inverse_f1_calculate_num_examples overSample_biasPop\n",
      "Passed on: 9_glass1 calculate_class0_error_calculate_class1_error overSample_biasPop\n",
      "Passed on: 10_glass1 calculate_overall_error_calculate_num_examples overSample_biasPop\n",
      "Passed on: 10_glass1 calculate_overall_error_calculate_overall_inverse_f1_calculate_num_examples overSample_biasPop\n",
      "Passed on: 10_glass1 calculate_class0_error_calculate_class1_error overSample_biasPop\n",
      "Passed on: 11_glass1 calculate_overall_error_calculate_num_examples overSample_biasPop\n",
      "Passed on: 11_glass1 calculate_overall_error_calculate_overall_inverse_f1_calculate_num_examples overSample_biasPop\n",
      "Passed on: 11_glass1 calculate_class0_error_calculate_class1_error overSample_biasPop\n",
      "Passed on: 12_glass1 calculate_overall_error_calculate_num_examples overSample_biasPop\n",
      "Passed on: 12_glass1 calculate_overall_error_calculate_overall_inverse_f1_calculate_num_examples overSample_biasPop\n",
      "Passed on: 12_glass1 calculate_class0_error_calculate_class1_error overSample_biasPop\n",
      "Passed on: 13_glass1 calculate_overall_error_calculate_num_examples overSample_biasPop\n",
      "Passed on: 13_glass1 calculate_overall_error_calculate_overall_inverse_f1_calculate_num_examples overSample_biasPop\n",
      "Passed on: 13_glass1 calculate_class0_error_calculate_class1_error overSample_biasPop\n",
      "Passed on: 14_glass1 calculate_overall_error_calculate_num_examples overSample_biasPop\n",
      "Passed on: 14_glass1 calculate_overall_error_calculate_overall_inverse_f1_calculate_num_examples overSample_biasPop\n",
      "Passed on: 14_glass1 calculate_class0_error_calculate_class1_error overSample_biasPop\n",
      "Passed on: 15_glass1 calculate_overall_error_calculate_num_examples overSample_biasPop\n",
      "Passed on: 15_glass1 calculate_overall_error_calculate_overall_inverse_f1_calculate_num_examples overSample_biasPop\n",
      "Passed on: 15_glass1 calculate_class0_error_calculate_class1_error overSample_biasPop\n",
      "Passed on: 16_glass1 calculate_overall_error_calculate_num_examples overSample_biasPop\n",
      "Passed on: 16_glass1 calculate_overall_error_calculate_overall_inverse_f1_calculate_num_examples overSample_biasPop\n",
      "Passed on: 16_glass1 calculate_class0_error_calculate_class1_error overSample_biasPop\n",
      "Passed on: 17_glass1 calculate_overall_error_calculate_num_examples overSample_biasPop\n",
      "Passed on: 17_glass1 calculate_overall_error_calculate_overall_inverse_f1_calculate_num_examples overSample_biasPop\n",
      "Passed on: 17_glass1 calculate_class0_error_calculate_class1_error overSample_biasPop\n",
      "Passed on: 18_glass1 calculate_overall_error_calculate_num_examples overSample_biasPop\n",
      "Passed on: 18_glass1 calculate_overall_error_calculate_overall_inverse_f1_calculate_num_examples overSample_biasPop\n",
      "Passed on: 18_glass1 calculate_class0_error_calculate_class1_error overSample_biasPop\n",
      "Passed on: 19_glass1 calculate_overall_error_calculate_num_examples overSample_biasPop\n",
      "Passed on: 19_glass1 calculate_overall_error_calculate_overall_inverse_f1_calculate_num_examples overSample_biasPop\n",
      "Passed on: 19_glass1 calculate_class0_error_calculate_class1_error overSample_biasPop\n",
      "Passed on: 20_glass1 calculate_overall_error_calculate_num_examples overSample_biasPop\n",
      "Passed on: 20_glass1 calculate_overall_error_calculate_overall_inverse_f1_calculate_num_examples overSample_biasPop\n",
      "Passed on: 20_glass1 calculate_class0_error_calculate_class1_error overSample_biasPop\n",
      "Passed on: 21_glass1 calculate_overall_error_calculate_num_examples overSample_biasPop\n",
      "Passed on: 21_glass1 calculate_overall_error_calculate_overall_inverse_f1_calculate_num_examples overSample_biasPop\n",
      "Passed on: 21_glass1 calculate_class0_error_calculate_class1_error overSample_biasPop\n",
      "Passed on: 22_glass1 calculate_overall_error_calculate_num_examples overSample_biasPop\n",
      "Passed on: 22_glass1 calculate_overall_error_calculate_overall_inverse_f1_calculate_num_examples overSample_biasPop\n",
      "Passed on: 22_glass1 calculate_class0_error_calculate_class1_error overSample_biasPop\n",
      "Passed on: 23_glass1 calculate_overall_error_calculate_num_examples overSample_biasPop\n",
      "Passed on: 23_glass1 calculate_overall_error_calculate_overall_inverse_f1_calculate_num_examples overSample_biasPop\n",
      "Passed on: 23_glass1 calculate_class0_error_calculate_class1_error overSample_biasPop\n",
      "Passed on: 24_glass1 calculate_overall_error_calculate_num_examples overSample_biasPop\n",
      "Passed on: 24_glass1 calculate_overall_error_calculate_overall_inverse_f1_calculate_num_examples overSample_biasPop\n",
      "Passed on: 24_glass1 calculate_class0_error_calculate_class1_error overSample_biasPop\n",
      "Passed on: 25_glass1 calculate_overall_error_calculate_num_examples overSample_biasPop\n",
      "Passed on: 25_glass1 calculate_overall_error_calculate_overall_inverse_f1_calculate_num_examples overSample_biasPop\n",
      "Passed on: 25_glass1 calculate_class0_error_calculate_class1_error overSample_biasPop\n",
      "Passed on: 26_glass1 calculate_overall_error_calculate_num_examples overSample_biasPop\n",
      "Passed on: 26_glass1 calculate_overall_error_calculate_overall_inverse_f1_calculate_num_examples overSample_biasPop\n",
      "Passed on: 26_glass1 calculate_class0_error_calculate_class1_error overSample_biasPop\n",
      "Passed on: 27_glass1 calculate_overall_error_calculate_num_examples overSample_biasPop\n",
      "Passed on: 27_glass1 calculate_overall_error_calculate_overall_inverse_f1_calculate_num_examples overSample_biasPop\n",
      "Passed on: 27_glass1 calculate_class0_error_calculate_class1_error overSample_biasPop\n",
      "Passed on: 28_glass1 calculate_overall_error_calculate_num_examples overSample_biasPop\n",
      "Passed on: 28_glass1 calculate_overall_error_calculate_overall_inverse_f1_calculate_num_examples overSample_biasPop\n",
      "Passed on: 28_glass1 calculate_class0_error_calculate_class1_error overSample_biasPop\n",
      "Passed on: 29_glass1 calculate_overall_error_calculate_num_examples overSample_biasPop\n",
      "Passed on: 29_glass1 calculate_overall_error_calculate_overall_inverse_f1_calculate_num_examples overSample_biasPop\n",
      "Passed on: 29_glass1 calculate_class0_error_calculate_class1_error overSample_biasPop\n",
      "Passed on: 30_glass1 calculate_overall_error_calculate_num_examples overSample_biasPop\n",
      "Passed on: 30_glass1 calculate_overall_error_calculate_overall_inverse_f1_calculate_num_examples overSample_biasPop\n",
      "Passed on: 30_glass1 calculate_class0_error_calculate_class1_error overSample_biasPop\n"
     ]
    },
    {
     "name": "stderr",
     "output_type": "stream",
     "text": [
      "e:\\Code\\3_13_venv\\Lib\\site-packages\\sklearn\\preprocessing\\_label.py:110: DataConversionWarning: A column-vector y was passed when a 1d array was expected. Please change the shape of y to (n_samples, ), for example using ravel().\n",
      "  y = column_or_1d(y, warn=True)\n",
      "e:\\Code\\3_13_venv\\Lib\\site-packages\\sklearn\\preprocessing\\_label.py:110: DataConversionWarning: A column-vector y was passed when a 1d array was expected. Please change the shape of y to (n_samples, ), for example using ravel().\n",
      "  y = column_or_1d(y, warn=True)\n"
     ]
    },
    {
     "name": "stdout",
     "output_type": "stream",
     "text": [
      "Passed on: 0_australia calculate_overall_error_calculate_num_examples overSample_biasPop\n",
      "Passed on: 0_australia calculate_overall_error_calculate_overall_inverse_f1_calculate_num_examples overSample_biasPop\n",
      "Passed on: 0_australia calculate_class0_error_calculate_class1_error overSample_biasPop\n",
      "Passed on: 1_australia calculate_overall_error_calculate_num_examples overSample_biasPop\n",
      "Passed on: 1_australia calculate_overall_error_calculate_overall_inverse_f1_calculate_num_examples overSample_biasPop\n",
      "Passed on: 1_australia calculate_class0_error_calculate_class1_error overSample_biasPop\n",
      "Passed on: 2_australia calculate_overall_error_calculate_num_examples overSample_biasPop\n",
      "Passed on: 2_australia calculate_overall_error_calculate_overall_inverse_f1_calculate_num_examples overSample_biasPop\n",
      "Passed on: 2_australia calculate_class0_error_calculate_class1_error overSample_biasPop\n",
      "Passed on: 3_australia calculate_overall_error_calculate_num_examples overSample_biasPop\n",
      "Passed on: 3_australia calculate_overall_error_calculate_overall_inverse_f1_calculate_num_examples overSample_biasPop\n",
      "Passed on: 3_australia calculate_class0_error_calculate_class1_error overSample_biasPop\n",
      "Passed on: 4_australia calculate_overall_error_calculate_num_examples overSample_biasPop\n",
      "Passed on: 4_australia calculate_overall_error_calculate_overall_inverse_f1_calculate_num_examples overSample_biasPop\n",
      "Passed on: 4_australia calculate_class0_error_calculate_class1_error overSample_biasPop\n",
      "Passed on: 5_australia calculate_overall_error_calculate_num_examples overSample_biasPop\n",
      "Passed on: 5_australia calculate_overall_error_calculate_overall_inverse_f1_calculate_num_examples overSample_biasPop\n",
      "Passed on: 5_australia calculate_class0_error_calculate_class1_error overSample_biasPop\n",
      "Passed on: 6_australia calculate_overall_error_calculate_num_examples overSample_biasPop\n",
      "Passed on: 6_australia calculate_overall_error_calculate_overall_inverse_f1_calculate_num_examples overSample_biasPop\n",
      "Passed on: 6_australia calculate_class0_error_calculate_class1_error overSample_biasPop\n",
      "Passed on: 7_australia calculate_overall_error_calculate_num_examples overSample_biasPop\n",
      "Passed on: 7_australia calculate_overall_error_calculate_overall_inverse_f1_calculate_num_examples overSample_biasPop\n",
      "Passed on: 7_australia calculate_class0_error_calculate_class1_error overSample_biasPop\n",
      "Passed on: 8_australia calculate_overall_error_calculate_num_examples overSample_biasPop\n",
      "Passed on: 8_australia calculate_overall_error_calculate_overall_inverse_f1_calculate_num_examples overSample_biasPop\n",
      "Passed on: 8_australia calculate_class0_error_calculate_class1_error overSample_biasPop\n",
      "Passed on: 9_australia calculate_overall_error_calculate_num_examples overSample_biasPop\n",
      "Passed on: 9_australia calculate_overall_error_calculate_overall_inverse_f1_calculate_num_examples overSample_biasPop\n",
      "Passed on: 9_australia calculate_class0_error_calculate_class1_error overSample_biasPop\n",
      "Passed on: 10_australia calculate_overall_error_calculate_num_examples overSample_biasPop\n",
      "Passed on: 10_australia calculate_overall_error_calculate_overall_inverse_f1_calculate_num_examples overSample_biasPop\n",
      "Passed on: 10_australia calculate_class0_error_calculate_class1_error overSample_biasPop\n",
      "Passed on: 11_australia calculate_overall_error_calculate_num_examples overSample_biasPop\n",
      "Passed on: 11_australia calculate_overall_error_calculate_overall_inverse_f1_calculate_num_examples overSample_biasPop\n",
      "Passed on: 11_australia calculate_class0_error_calculate_class1_error overSample_biasPop\n",
      "Passed on: 12_australia calculate_overall_error_calculate_num_examples overSample_biasPop\n",
      "Passed on: 12_australia calculate_overall_error_calculate_overall_inverse_f1_calculate_num_examples overSample_biasPop\n",
      "Passed on: 12_australia calculate_class0_error_calculate_class1_error overSample_biasPop\n",
      "Passed on: 13_australia calculate_overall_error_calculate_num_examples overSample_biasPop\n",
      "Passed on: 13_australia calculate_overall_error_calculate_overall_inverse_f1_calculate_num_examples overSample_biasPop\n",
      "Passed on: 13_australia calculate_class0_error_calculate_class1_error overSample_biasPop\n",
      "Passed on: 14_australia calculate_overall_error_calculate_num_examples overSample_biasPop\n",
      "Passed on: 14_australia calculate_overall_error_calculate_overall_inverse_f1_calculate_num_examples overSample_biasPop\n",
      "Passed on: 14_australia calculate_class0_error_calculate_class1_error overSample_biasPop\n",
      "Passed on: 15_australia calculate_overall_error_calculate_num_examples overSample_biasPop\n",
      "Passed on: 15_australia calculate_overall_error_calculate_overall_inverse_f1_calculate_num_examples overSample_biasPop\n",
      "Passed on: 15_australia calculate_class0_error_calculate_class1_error overSample_biasPop\n",
      "Passed on: 16_australia calculate_overall_error_calculate_num_examples overSample_biasPop\n",
      "Passed on: 16_australia calculate_overall_error_calculate_overall_inverse_f1_calculate_num_examples overSample_biasPop\n",
      "Passed on: 16_australia calculate_class0_error_calculate_class1_error overSample_biasPop\n",
      "Passed on: 17_australia calculate_overall_error_calculate_num_examples overSample_biasPop\n",
      "Passed on: 17_australia calculate_overall_error_calculate_overall_inverse_f1_calculate_num_examples overSample_biasPop\n",
      "Passed on: 17_australia calculate_class0_error_calculate_class1_error overSample_biasPop\n",
      "Passed on: 18_australia calculate_overall_error_calculate_num_examples overSample_biasPop\n",
      "Passed on: 18_australia calculate_overall_error_calculate_overall_inverse_f1_calculate_num_examples overSample_biasPop\n",
      "Passed on: 18_australia calculate_class0_error_calculate_class1_error overSample_biasPop\n",
      "Passed on: 19_australia calculate_overall_error_calculate_num_examples overSample_biasPop\n",
      "Passed on: 19_australia calculate_overall_error_calculate_overall_inverse_f1_calculate_num_examples overSample_biasPop\n",
      "Passed on: 19_australia calculate_class0_error_calculate_class1_error overSample_biasPop\n",
      "Passed on: 20_australia calculate_overall_error_calculate_num_examples overSample_biasPop\n",
      "Passed on: 20_australia calculate_overall_error_calculate_overall_inverse_f1_calculate_num_examples overSample_biasPop\n",
      "Passed on: 20_australia calculate_class0_error_calculate_class1_error overSample_biasPop\n",
      "Passed on: 21_australia calculate_overall_error_calculate_num_examples overSample_biasPop\n",
      "Passed on: 21_australia calculate_overall_error_calculate_overall_inverse_f1_calculate_num_examples overSample_biasPop\n",
      "Passed on: 21_australia calculate_class0_error_calculate_class1_error overSample_biasPop\n",
      "Passed on: 22_australia calculate_overall_error_calculate_num_examples overSample_biasPop\n",
      "Passed on: 22_australia calculate_overall_error_calculate_overall_inverse_f1_calculate_num_examples overSample_biasPop\n",
      "Passed on: 22_australia calculate_class0_error_calculate_class1_error overSample_biasPop\n",
      "Passed on: 23_australia calculate_overall_error_calculate_num_examples overSample_biasPop\n",
      "Passed on: 23_australia calculate_overall_error_calculate_overall_inverse_f1_calculate_num_examples overSample_biasPop\n",
      "Passed on: 23_australia calculate_class0_error_calculate_class1_error overSample_biasPop\n",
      "Passed on: 24_australia calculate_overall_error_calculate_num_examples overSample_biasPop\n",
      "Passed on: 24_australia calculate_overall_error_calculate_overall_inverse_f1_calculate_num_examples overSample_biasPop\n",
      "Passed on: 24_australia calculate_class0_error_calculate_class1_error overSample_biasPop\n",
      "Passed on: 25_australia calculate_overall_error_calculate_num_examples overSample_biasPop\n",
      "Passed on: 25_australia calculate_overall_error_calculate_overall_inverse_f1_calculate_num_examples overSample_biasPop\n",
      "Passed on: 25_australia calculate_class0_error_calculate_class1_error overSample_biasPop\n",
      "Passed on: 26_australia calculate_overall_error_calculate_num_examples overSample_biasPop\n",
      "Passed on: 26_australia calculate_overall_error_calculate_overall_inverse_f1_calculate_num_examples overSample_biasPop\n",
      "Passed on: 26_australia calculate_class0_error_calculate_class1_error overSample_biasPop\n",
      "Passed on: 27_australia calculate_overall_error_calculate_num_examples overSample_biasPop\n",
      "Passed on: 27_australia calculate_overall_error_calculate_overall_inverse_f1_calculate_num_examples overSample_biasPop\n",
      "Passed on: 27_australia calculate_class0_error_calculate_class1_error overSample_biasPop\n",
      "Passed on: 28_australia calculate_overall_error_calculate_num_examples overSample_biasPop\n",
      "Passed on: 28_australia calculate_overall_error_calculate_overall_inverse_f1_calculate_num_examples overSample_biasPop\n",
      "Passed on: 28_australia calculate_class0_error_calculate_class1_error overSample_biasPop\n",
      "Passed on: 29_australia calculate_overall_error_calculate_num_examples overSample_biasPop\n",
      "Passed on: 29_australia calculate_overall_error_calculate_overall_inverse_f1_calculate_num_examples overSample_biasPop\n",
      "Passed on: 29_australia calculate_class0_error_calculate_class1_error overSample_biasPop\n",
      "Passed on: 30_australia calculate_overall_error_calculate_num_examples overSample_biasPop\n",
      "Passed on: 30_australia calculate_overall_error_calculate_overall_inverse_f1_calculate_num_examples overSample_biasPop\n",
      "Passed on: 30_australia calculate_class0_error_calculate_class1_error overSample_biasPop\n"
     ]
    },
    {
     "name": "stderr",
     "output_type": "stream",
     "text": [
      "e:\\Code\\3_13_venv\\Lib\\site-packages\\sklearn\\preprocessing\\_label.py:110: DataConversionWarning: A column-vector y was passed when a 1d array was expected. Please change the shape of y to (n_samples, ), for example using ravel().\n",
      "  y = column_or_1d(y, warn=True)\n"
     ]
    },
    {
     "name": "stdout",
     "output_type": "stream",
     "text": [
      "Passed on: 0_thoracic calculate_overall_error_calculate_num_examples overSample_biasPop\n",
      "Passed on: 0_thoracic calculate_overall_error_calculate_overall_inverse_f1_calculate_num_examples overSample_biasPop\n",
      "Passed on: 0_thoracic calculate_class0_error_calculate_class1_error overSample_biasPop\n",
      "Passed on: 1_thoracic calculate_overall_error_calculate_num_examples overSample_biasPop\n",
      "Passed on: 1_thoracic calculate_overall_error_calculate_overall_inverse_f1_calculate_num_examples overSample_biasPop\n",
      "Passed on: 1_thoracic calculate_class0_error_calculate_class1_error overSample_biasPop\n",
      "Passed on: 2_thoracic calculate_overall_error_calculate_num_examples overSample_biasPop\n",
      "Passed on: 2_thoracic calculate_overall_error_calculate_overall_inverse_f1_calculate_num_examples overSample_biasPop\n",
      "Passed on: 2_thoracic calculate_class0_error_calculate_class1_error overSample_biasPop\n",
      "Passed on: 3_thoracic calculate_overall_error_calculate_num_examples overSample_biasPop\n",
      "Passed on: 3_thoracic calculate_overall_error_calculate_overall_inverse_f1_calculate_num_examples overSample_biasPop\n",
      "Passed on: 3_thoracic calculate_class0_error_calculate_class1_error overSample_biasPop\n",
      "Passed on: 4_thoracic calculate_overall_error_calculate_num_examples overSample_biasPop\n",
      "Passed on: 4_thoracic calculate_overall_error_calculate_overall_inverse_f1_calculate_num_examples overSample_biasPop\n",
      "Passed on: 4_thoracic calculate_class0_error_calculate_class1_error overSample_biasPop\n",
      "Passed on: 5_thoracic calculate_overall_error_calculate_num_examples overSample_biasPop\n",
      "Passed on: 5_thoracic calculate_overall_error_calculate_overall_inverse_f1_calculate_num_examples overSample_biasPop\n",
      "Passed on: 5_thoracic calculate_class0_error_calculate_class1_error overSample_biasPop\n",
      "Passed on: 6_thoracic calculate_overall_error_calculate_num_examples overSample_biasPop\n",
      "Passed on: 6_thoracic calculate_overall_error_calculate_overall_inverse_f1_calculate_num_examples overSample_biasPop\n",
      "Passed on: 6_thoracic calculate_class0_error_calculate_class1_error overSample_biasPop\n",
      "Passed on: 7_thoracic calculate_overall_error_calculate_num_examples overSample_biasPop\n",
      "Passed on: 7_thoracic calculate_overall_error_calculate_overall_inverse_f1_calculate_num_examples overSample_biasPop\n",
      "Passed on: 7_thoracic calculate_class0_error_calculate_class1_error overSample_biasPop\n",
      "Passed on: 8_thoracic calculate_overall_error_calculate_num_examples overSample_biasPop\n",
      "Passed on: 8_thoracic calculate_overall_error_calculate_overall_inverse_f1_calculate_num_examples overSample_biasPop\n",
      "Passed on: 8_thoracic calculate_class0_error_calculate_class1_error overSample_biasPop\n",
      "Passed on: 9_thoracic calculate_overall_error_calculate_num_examples overSample_biasPop\n",
      "Passed on: 9_thoracic calculate_overall_error_calculate_overall_inverse_f1_calculate_num_examples overSample_biasPop\n",
      "Passed on: 9_thoracic calculate_class0_error_calculate_class1_error overSample_biasPop\n",
      "Passed on: 10_thoracic calculate_overall_error_calculate_num_examples overSample_biasPop\n",
      "Passed on: 10_thoracic calculate_overall_error_calculate_overall_inverse_f1_calculate_num_examples overSample_biasPop\n",
      "Passed on: 10_thoracic calculate_class0_error_calculate_class1_error overSample_biasPop\n",
      "Passed on: 11_thoracic calculate_overall_error_calculate_num_examples overSample_biasPop\n",
      "Passed on: 11_thoracic calculate_overall_error_calculate_overall_inverse_f1_calculate_num_examples overSample_biasPop\n",
      "Passed on: 11_thoracic calculate_class0_error_calculate_class1_error overSample_biasPop\n",
      "Passed on: 12_thoracic calculate_overall_error_calculate_num_examples overSample_biasPop\n",
      "Passed on: 12_thoracic calculate_overall_error_calculate_overall_inverse_f1_calculate_num_examples overSample_biasPop\n",
      "Passed on: 12_thoracic calculate_class0_error_calculate_class1_error overSample_biasPop\n",
      "Passed on: 13_thoracic calculate_overall_error_calculate_num_examples overSample_biasPop\n",
      "Passed on: 13_thoracic calculate_overall_error_calculate_overall_inverse_f1_calculate_num_examples overSample_biasPop\n",
      "Passed on: 13_thoracic calculate_class0_error_calculate_class1_error overSample_biasPop\n",
      "Passed on: 14_thoracic calculate_overall_error_calculate_num_examples overSample_biasPop\n",
      "Passed on: 14_thoracic calculate_overall_error_calculate_overall_inverse_f1_calculate_num_examples overSample_biasPop\n",
      "Passed on: 14_thoracic calculate_class0_error_calculate_class1_error overSample_biasPop\n",
      "Passed on: 15_thoracic calculate_overall_error_calculate_num_examples overSample_biasPop\n",
      "Passed on: 15_thoracic calculate_overall_error_calculate_overall_inverse_f1_calculate_num_examples overSample_biasPop\n",
      "Passed on: 15_thoracic calculate_class0_error_calculate_class1_error overSample_biasPop\n",
      "Passed on: 16_thoracic calculate_overall_error_calculate_num_examples overSample_biasPop\n",
      "Passed on: 16_thoracic calculate_overall_error_calculate_overall_inverse_f1_calculate_num_examples overSample_biasPop\n",
      "Passed on: 16_thoracic calculate_class0_error_calculate_class1_error overSample_biasPop\n",
      "Passed on: 17_thoracic calculate_overall_error_calculate_num_examples overSample_biasPop\n",
      "Passed on: 17_thoracic calculate_overall_error_calculate_overall_inverse_f1_calculate_num_examples overSample_biasPop\n",
      "Passed on: 17_thoracic calculate_class0_error_calculate_class1_error overSample_biasPop\n",
      "Passed on: 18_thoracic calculate_overall_error_calculate_num_examples overSample_biasPop\n",
      "Passed on: 18_thoracic calculate_overall_error_calculate_overall_inverse_f1_calculate_num_examples overSample_biasPop\n",
      "Passed on: 18_thoracic calculate_class0_error_calculate_class1_error overSample_biasPop\n",
      "Passed on: 19_thoracic calculate_overall_error_calculate_num_examples overSample_biasPop\n",
      "Passed on: 19_thoracic calculate_overall_error_calculate_overall_inverse_f1_calculate_num_examples overSample_biasPop\n",
      "Passed on: 19_thoracic calculate_class0_error_calculate_class1_error overSample_biasPop\n",
      "Passed on: 20_thoracic calculate_overall_error_calculate_num_examples overSample_biasPop\n",
      "Passed on: 20_thoracic calculate_overall_error_calculate_overall_inverse_f1_calculate_num_examples overSample_biasPop\n",
      "Passed on: 20_thoracic calculate_class0_error_calculate_class1_error overSample_biasPop\n",
      "Passed on: 21_thoracic calculate_overall_error_calculate_num_examples overSample_biasPop\n",
      "Passed on: 21_thoracic calculate_overall_error_calculate_overall_inverse_f1_calculate_num_examples overSample_biasPop\n",
      "Passed on: 21_thoracic calculate_class0_error_calculate_class1_error overSample_biasPop\n",
      "Passed on: 22_thoracic calculate_overall_error_calculate_num_examples overSample_biasPop\n",
      "Passed on: 22_thoracic calculate_overall_error_calculate_overall_inverse_f1_calculate_num_examples overSample_biasPop\n",
      "Passed on: 22_thoracic calculate_class0_error_calculate_class1_error overSample_biasPop\n",
      "Passed on: 23_thoracic calculate_overall_error_calculate_num_examples overSample_biasPop\n",
      "Passed on: 23_thoracic calculate_overall_error_calculate_overall_inverse_f1_calculate_num_examples overSample_biasPop\n",
      "Passed on: 23_thoracic calculate_class0_error_calculate_class1_error overSample_biasPop\n",
      "Passed on: 24_thoracic calculate_overall_error_calculate_num_examples overSample_biasPop\n",
      "Passed on: 24_thoracic calculate_overall_error_calculate_overall_inverse_f1_calculate_num_examples overSample_biasPop\n",
      "Passed on: 24_thoracic calculate_class0_error_calculate_class1_error overSample_biasPop\n",
      "Passed on: 25_thoracic calculate_overall_error_calculate_num_examples overSample_biasPop\n",
      "Passed on: 25_thoracic calculate_overall_error_calculate_overall_inverse_f1_calculate_num_examples overSample_biasPop\n",
      "Passed on: 25_thoracic calculate_class0_error_calculate_class1_error overSample_biasPop\n",
      "Passed on: 26_thoracic calculate_overall_error_calculate_num_examples overSample_biasPop\n",
      "Passed on: 26_thoracic calculate_overall_error_calculate_overall_inverse_f1_calculate_num_examples overSample_biasPop\n",
      "Passed on: 26_thoracic calculate_class0_error_calculate_class1_error overSample_biasPop\n",
      "Passed on: 27_thoracic calculate_overall_error_calculate_num_examples overSample_biasPop\n",
      "Passed on: 27_thoracic calculate_overall_error_calculate_overall_inverse_f1_calculate_num_examples overSample_biasPop\n",
      "Passed on: 27_thoracic calculate_class0_error_calculate_class1_error overSample_biasPop\n",
      "Passed on: 28_thoracic calculate_overall_error_calculate_num_examples overSample_biasPop\n",
      "Passed on: 28_thoracic calculate_overall_error_calculate_overall_inverse_f1_calculate_num_examples overSample_biasPop\n",
      "Passed on: 28_thoracic calculate_class0_error_calculate_class1_error overSample_biasPop\n",
      "Passed on: 29_thoracic calculate_overall_error_calculate_num_examples overSample_biasPop\n",
      "Passed on: 29_thoracic calculate_overall_error_calculate_overall_inverse_f1_calculate_num_examples overSample_biasPop\n",
      "Passed on: 29_thoracic calculate_class0_error_calculate_class1_error overSample_biasPop\n",
      "Passed on: 30_thoracic calculate_overall_error_calculate_num_examples overSample_biasPop\n",
      "Passed on: 30_thoracic calculate_overall_error_calculate_overall_inverse_f1_calculate_num_examples overSample_biasPop\n",
      "Passed on: 30_thoracic calculate_class0_error_calculate_class1_error overSample_biasPop\n"
     ]
    },
    {
     "name": "stderr",
     "output_type": "stream",
     "text": [
      "e:\\Code\\3_13_venv\\Lib\\site-packages\\sklearn\\preprocessing\\_label.py:110: DataConversionWarning: A column-vector y was passed when a 1d array was expected. Please change the shape of y to (n_samples, ), for example using ravel().\n",
      "  y = column_or_1d(y, warn=True)\n"
     ]
    },
    {
     "name": "stdout",
     "output_type": "stream",
     "text": [
      "Passed on: 0_segment0 calculate_overall_error_calculate_num_examples overSample_biasPop\n",
      "Passed on: 0_segment0 calculate_overall_error_calculate_overall_inverse_f1_calculate_num_examples overSample_biasPop\n",
      "Passed on: 0_segment0 calculate_class0_error_calculate_class1_error overSample_biasPop\n",
      "Passed on: 1_segment0 calculate_overall_error_calculate_num_examples overSample_biasPop\n",
      "Passed on: 1_segment0 calculate_overall_error_calculate_overall_inverse_f1_calculate_num_examples overSample_biasPop\n",
      "Passed on: 1_segment0 calculate_class0_error_calculate_class1_error overSample_biasPop\n",
      "Passed on: 2_segment0 calculate_overall_error_calculate_num_examples overSample_biasPop\n",
      "Passed on: 2_segment0 calculate_overall_error_calculate_overall_inverse_f1_calculate_num_examples overSample_biasPop\n",
      "Passed on: 2_segment0 calculate_class0_error_calculate_class1_error overSample_biasPop\n",
      "Passed on: 3_segment0 calculate_overall_error_calculate_num_examples overSample_biasPop\n",
      "Passed on: 3_segment0 calculate_overall_error_calculate_overall_inverse_f1_calculate_num_examples overSample_biasPop\n",
      "Passed on: 3_segment0 calculate_class0_error_calculate_class1_error overSample_biasPop\n",
      "Passed on: 4_segment0 calculate_overall_error_calculate_num_examples overSample_biasPop\n",
      "Passed on: 4_segment0 calculate_overall_error_calculate_overall_inverse_f1_calculate_num_examples overSample_biasPop\n",
      "Passed on: 4_segment0 calculate_class0_error_calculate_class1_error overSample_biasPop\n",
      "Passed on: 5_segment0 calculate_overall_error_calculate_num_examples overSample_biasPop\n",
      "Passed on: 5_segment0 calculate_overall_error_calculate_overall_inverse_f1_calculate_num_examples overSample_biasPop\n",
      "Passed on: 5_segment0 calculate_class0_error_calculate_class1_error overSample_biasPop\n",
      "Passed on: 6_segment0 calculate_overall_error_calculate_num_examples overSample_biasPop\n",
      "Passed on: 6_segment0 calculate_overall_error_calculate_overall_inverse_f1_calculate_num_examples overSample_biasPop\n",
      "Passed on: 6_segment0 calculate_class0_error_calculate_class1_error overSample_biasPop\n",
      "Passed on: 7_segment0 calculate_overall_error_calculate_num_examples overSample_biasPop\n",
      "Passed on: 7_segment0 calculate_overall_error_calculate_overall_inverse_f1_calculate_num_examples overSample_biasPop\n",
      "Passed on: 7_segment0 calculate_class0_error_calculate_class1_error overSample_biasPop\n",
      "Passed on: 8_segment0 calculate_overall_error_calculate_num_examples overSample_biasPop\n",
      "Passed on: 8_segment0 calculate_overall_error_calculate_overall_inverse_f1_calculate_num_examples overSample_biasPop\n",
      "Passed on: 8_segment0 calculate_class0_error_calculate_class1_error overSample_biasPop\n",
      "Passed on: 9_segment0 calculate_overall_error_calculate_num_examples overSample_biasPop\n",
      "Passed on: 9_segment0 calculate_overall_error_calculate_overall_inverse_f1_calculate_num_examples overSample_biasPop\n",
      "Passed on: 9_segment0 calculate_class0_error_calculate_class1_error overSample_biasPop\n",
      "Passed on: 10_segment0 calculate_overall_error_calculate_num_examples overSample_biasPop\n",
      "Passed on: 10_segment0 calculate_overall_error_calculate_overall_inverse_f1_calculate_num_examples overSample_biasPop\n",
      "Passed on: 10_segment0 calculate_class0_error_calculate_class1_error overSample_biasPop\n",
      "Passed on: 11_segment0 calculate_overall_error_calculate_num_examples overSample_biasPop\n",
      "Passed on: 11_segment0 calculate_overall_error_calculate_overall_inverse_f1_calculate_num_examples overSample_biasPop\n",
      "Passed on: 11_segment0 calculate_class0_error_calculate_class1_error overSample_biasPop\n",
      "Passed on: 12_segment0 calculate_overall_error_calculate_num_examples overSample_biasPop\n",
      "Passed on: 12_segment0 calculate_overall_error_calculate_overall_inverse_f1_calculate_num_examples overSample_biasPop\n",
      "Passed on: 12_segment0 calculate_class0_error_calculate_class1_error overSample_biasPop\n",
      "Passed on: 13_segment0 calculate_overall_error_calculate_num_examples overSample_biasPop\n",
      "Passed on: 13_segment0 calculate_overall_error_calculate_overall_inverse_f1_calculate_num_examples overSample_biasPop\n",
      "Passed on: 13_segment0 calculate_class0_error_calculate_class1_error overSample_biasPop\n",
      "Passed on: 14_segment0 calculate_overall_error_calculate_num_examples overSample_biasPop\n",
      "Passed on: 14_segment0 calculate_overall_error_calculate_overall_inverse_f1_calculate_num_examples overSample_biasPop\n",
      "Passed on: 14_segment0 calculate_class0_error_calculate_class1_error overSample_biasPop\n",
      "Passed on: 15_segment0 calculate_overall_error_calculate_num_examples overSample_biasPop\n",
      "Passed on: 15_segment0 calculate_overall_error_calculate_overall_inverse_f1_calculate_num_examples overSample_biasPop\n",
      "Passed on: 15_segment0 calculate_class0_error_calculate_class1_error overSample_biasPop\n",
      "Passed on: 16_segment0 calculate_overall_error_calculate_num_examples overSample_biasPop\n",
      "Passed on: 16_segment0 calculate_overall_error_calculate_overall_inverse_f1_calculate_num_examples overSample_biasPop\n",
      "Passed on: 16_segment0 calculate_class0_error_calculate_class1_error overSample_biasPop\n",
      "Passed on: 17_segment0 calculate_overall_error_calculate_num_examples overSample_biasPop\n",
      "Passed on: 17_segment0 calculate_overall_error_calculate_overall_inverse_f1_calculate_num_examples overSample_biasPop\n",
      "Passed on: 17_segment0 calculate_class0_error_calculate_class1_error overSample_biasPop\n",
      "Passed on: 18_segment0 calculate_overall_error_calculate_num_examples overSample_biasPop\n",
      "Passed on: 18_segment0 calculate_overall_error_calculate_overall_inverse_f1_calculate_num_examples overSample_biasPop\n",
      "Passed on: 18_segment0 calculate_class0_error_calculate_class1_error overSample_biasPop\n",
      "Passed on: 19_segment0 calculate_overall_error_calculate_num_examples overSample_biasPop\n",
      "Passed on: 19_segment0 calculate_overall_error_calculate_overall_inverse_f1_calculate_num_examples overSample_biasPop\n",
      "Passed on: 19_segment0 calculate_class0_error_calculate_class1_error overSample_biasPop\n",
      "Passed on: 20_segment0 calculate_overall_error_calculate_num_examples overSample_biasPop\n",
      "Passed on: 20_segment0 calculate_overall_error_calculate_overall_inverse_f1_calculate_num_examples overSample_biasPop\n",
      "Passed on: 20_segment0 calculate_class0_error_calculate_class1_error overSample_biasPop\n",
      "Passed on: 21_segment0 calculate_overall_error_calculate_num_examples overSample_biasPop\n",
      "Passed on: 21_segment0 calculate_overall_error_calculate_overall_inverse_f1_calculate_num_examples overSample_biasPop\n",
      "Passed on: 21_segment0 calculate_class0_error_calculate_class1_error overSample_biasPop\n",
      "Passed on: 22_segment0 calculate_overall_error_calculate_num_examples overSample_biasPop\n",
      "Passed on: 22_segment0 calculate_overall_error_calculate_overall_inverse_f1_calculate_num_examples overSample_biasPop\n",
      "Passed on: 22_segment0 calculate_class0_error_calculate_class1_error overSample_biasPop\n",
      "Passed on: 23_segment0 calculate_overall_error_calculate_num_examples overSample_biasPop\n",
      "Passed on: 23_segment0 calculate_overall_error_calculate_overall_inverse_f1_calculate_num_examples overSample_biasPop\n",
      "Passed on: 23_segment0 calculate_class0_error_calculate_class1_error overSample_biasPop\n",
      "Passed on: 24_segment0 calculate_overall_error_calculate_num_examples overSample_biasPop\n",
      "Passed on: 24_segment0 calculate_overall_error_calculate_overall_inverse_f1_calculate_num_examples overSample_biasPop\n",
      "Passed on: 24_segment0 calculate_class0_error_calculate_class1_error overSample_biasPop\n",
      "Passed on: 25_segment0 calculate_overall_error_calculate_num_examples overSample_biasPop\n",
      "Passed on: 25_segment0 calculate_overall_error_calculate_overall_inverse_f1_calculate_num_examples overSample_biasPop\n",
      "Passed on: 25_segment0 calculate_class0_error_calculate_class1_error overSample_biasPop\n",
      "Passed on: 26_segment0 calculate_overall_error_calculate_num_examples overSample_biasPop\n",
      "Passed on: 26_segment0 calculate_overall_error_calculate_overall_inverse_f1_calculate_num_examples overSample_biasPop\n",
      "Passed on: 26_segment0 calculate_class0_error_calculate_class1_error overSample_biasPop\n",
      "Passed on: 27_segment0 calculate_overall_error_calculate_num_examples overSample_biasPop\n",
      "Passed on: 27_segment0 calculate_overall_error_calculate_overall_inverse_f1_calculate_num_examples overSample_biasPop\n",
      "Passed on: 27_segment0 calculate_class0_error_calculate_class1_error overSample_biasPop\n",
      "Passed on: 28_segment0 calculate_overall_error_calculate_num_examples overSample_biasPop\n",
      "Passed on: 28_segment0 calculate_overall_error_calculate_overall_inverse_f1_calculate_num_examples overSample_biasPop\n",
      "Passed on: 28_segment0 calculate_class0_error_calculate_class1_error overSample_biasPop\n",
      "Passed on: 29_segment0 calculate_overall_error_calculate_num_examples overSample_biasPop\n",
      "Passed on: 29_segment0 calculate_overall_error_calculate_overall_inverse_f1_calculate_num_examples overSample_biasPop\n",
      "Passed on: 29_segment0 calculate_class0_error_calculate_class1_error overSample_biasPop\n",
      "Passed on: 30_segment0 calculate_overall_error_calculate_num_examples overSample_biasPop\n",
      "Passed on: 30_segment0 calculate_overall_error_calculate_overall_inverse_f1_calculate_num_examples overSample_biasPop\n",
      "Passed on: 30_segment0 calculate_class0_error_calculate_class1_error overSample_biasPop\n"
     ]
    },
    {
     "name": "stderr",
     "output_type": "stream",
     "text": [
      "e:\\Code\\3_13_venv\\Lib\\site-packages\\sklearn\\preprocessing\\_label.py:110: DataConversionWarning: A column-vector y was passed when a 1d array was expected. Please change the shape of y to (n_samples, ), for example using ravel().\n",
      "  y = column_or_1d(y, warn=True)\n"
     ]
    },
    {
     "name": "stdout",
     "output_type": "stream",
     "text": [
      "Passed on: 0_wine calculate_overall_error_calculate_num_examples overSample_biasPop\n",
      "Passed on: 0_wine calculate_overall_error_calculate_overall_inverse_f1_calculate_num_examples overSample_biasPop\n",
      "Passed on: 0_wine calculate_class0_error_calculate_class1_error overSample_biasPop\n",
      "Passed on: 1_wine calculate_overall_error_calculate_num_examples overSample_biasPop\n",
      "Passed on: 1_wine calculate_overall_error_calculate_overall_inverse_f1_calculate_num_examples overSample_biasPop\n",
      "Passed on: 1_wine calculate_class0_error_calculate_class1_error overSample_biasPop\n",
      "Passed on: 2_wine calculate_overall_error_calculate_num_examples overSample_biasPop\n",
      "Passed on: 2_wine calculate_overall_error_calculate_overall_inverse_f1_calculate_num_examples overSample_biasPop\n",
      "Passed on: 2_wine calculate_class0_error_calculate_class1_error overSample_biasPop\n",
      "Passed on: 3_wine calculate_overall_error_calculate_num_examples overSample_biasPop\n",
      "Passed on: 3_wine calculate_overall_error_calculate_overall_inverse_f1_calculate_num_examples overSample_biasPop\n",
      "Passed on: 3_wine calculate_class0_error_calculate_class1_error overSample_biasPop\n",
      "Passed on: 4_wine calculate_overall_error_calculate_num_examples overSample_biasPop\n",
      "Passed on: 4_wine calculate_overall_error_calculate_overall_inverse_f1_calculate_num_examples overSample_biasPop\n",
      "Passed on: 4_wine calculate_class0_error_calculate_class1_error overSample_biasPop\n",
      "Passed on: 5_wine calculate_overall_error_calculate_num_examples overSample_biasPop\n",
      "Passed on: 5_wine calculate_overall_error_calculate_overall_inverse_f1_calculate_num_examples overSample_biasPop\n",
      "Passed on: 5_wine calculate_class0_error_calculate_class1_error overSample_biasPop\n",
      "Passed on: 6_wine calculate_overall_error_calculate_num_examples overSample_biasPop\n",
      "Passed on: 6_wine calculate_overall_error_calculate_overall_inverse_f1_calculate_num_examples overSample_biasPop\n",
      "Passed on: 6_wine calculate_class0_error_calculate_class1_error overSample_biasPop\n",
      "Passed on: 7_wine calculate_overall_error_calculate_num_examples overSample_biasPop\n",
      "Passed on: 7_wine calculate_overall_error_calculate_overall_inverse_f1_calculate_num_examples overSample_biasPop\n",
      "Passed on: 7_wine calculate_class0_error_calculate_class1_error overSample_biasPop\n",
      "Passed on: 8_wine calculate_overall_error_calculate_num_examples overSample_biasPop\n",
      "Passed on: 8_wine calculate_overall_error_calculate_overall_inverse_f1_calculate_num_examples overSample_biasPop\n",
      "Passed on: 8_wine calculate_class0_error_calculate_class1_error overSample_biasPop\n",
      "Passed on: 9_wine calculate_overall_error_calculate_num_examples overSample_biasPop\n",
      "Passed on: 9_wine calculate_overall_error_calculate_overall_inverse_f1_calculate_num_examples overSample_biasPop\n",
      "Passed on: 9_wine calculate_class0_error_calculate_class1_error overSample_biasPop\n",
      "Passed on: 10_wine calculate_overall_error_calculate_num_examples overSample_biasPop\n",
      "Passed on: 10_wine calculate_overall_error_calculate_overall_inverse_f1_calculate_num_examples overSample_biasPop\n",
      "Passed on: 10_wine calculate_class0_error_calculate_class1_error overSample_biasPop\n",
      "Passed on: 11_wine calculate_overall_error_calculate_num_examples overSample_biasPop\n",
      "Passed on: 11_wine calculate_overall_error_calculate_overall_inverse_f1_calculate_num_examples overSample_biasPop\n",
      "Passed on: 11_wine calculate_class0_error_calculate_class1_error overSample_biasPop\n",
      "Passed on: 12_wine calculate_overall_error_calculate_num_examples overSample_biasPop\n",
      "Passed on: 12_wine calculate_overall_error_calculate_overall_inverse_f1_calculate_num_examples overSample_biasPop\n",
      "Passed on: 12_wine calculate_class0_error_calculate_class1_error overSample_biasPop\n",
      "Passed on: 13_wine calculate_overall_error_calculate_num_examples overSample_biasPop\n",
      "Passed on: 13_wine calculate_overall_error_calculate_overall_inverse_f1_calculate_num_examples overSample_biasPop\n",
      "Passed on: 13_wine calculate_class0_error_calculate_class1_error overSample_biasPop\n",
      "Passed on: 14_wine calculate_overall_error_calculate_num_examples overSample_biasPop\n",
      "Passed on: 14_wine calculate_overall_error_calculate_overall_inverse_f1_calculate_num_examples overSample_biasPop\n",
      "Passed on: 14_wine calculate_class0_error_calculate_class1_error overSample_biasPop\n",
      "Passed on: 15_wine calculate_overall_error_calculate_num_examples overSample_biasPop\n",
      "Passed on: 15_wine calculate_overall_error_calculate_overall_inverse_f1_calculate_num_examples overSample_biasPop\n",
      "Passed on: 15_wine calculate_class0_error_calculate_class1_error overSample_biasPop\n",
      "Passed on: 16_wine calculate_overall_error_calculate_num_examples overSample_biasPop\n",
      "Passed on: 16_wine calculate_overall_error_calculate_overall_inverse_f1_calculate_num_examples overSample_biasPop\n",
      "Passed on: 16_wine calculate_class0_error_calculate_class1_error overSample_biasPop\n",
      "Passed on: 17_wine calculate_overall_error_calculate_num_examples overSample_biasPop\n",
      "Passed on: 17_wine calculate_overall_error_calculate_overall_inverse_f1_calculate_num_examples overSample_biasPop\n",
      "Passed on: 17_wine calculate_class0_error_calculate_class1_error overSample_biasPop\n",
      "Passed on: 18_wine calculate_overall_error_calculate_num_examples overSample_biasPop\n",
      "Passed on: 18_wine calculate_overall_error_calculate_overall_inverse_f1_calculate_num_examples overSample_biasPop\n",
      "Passed on: 18_wine calculate_class0_error_calculate_class1_error overSample_biasPop\n",
      "Passed on: 19_wine calculate_overall_error_calculate_num_examples overSample_biasPop\n",
      "Passed on: 19_wine calculate_overall_error_calculate_overall_inverse_f1_calculate_num_examples overSample_biasPop\n",
      "Passed on: 19_wine calculate_class0_error_calculate_class1_error overSample_biasPop\n",
      "Passed on: 20_wine calculate_overall_error_calculate_num_examples overSample_biasPop\n",
      "Passed on: 20_wine calculate_overall_error_calculate_overall_inverse_f1_calculate_num_examples overSample_biasPop\n",
      "Passed on: 20_wine calculate_class0_error_calculate_class1_error overSample_biasPop\n",
      "Passed on: 21_wine calculate_overall_error_calculate_num_examples overSample_biasPop\n",
      "Passed on: 21_wine calculate_overall_error_calculate_overall_inverse_f1_calculate_num_examples overSample_biasPop\n",
      "Passed on: 21_wine calculate_class0_error_calculate_class1_error overSample_biasPop\n",
      "Passed on: 22_wine calculate_overall_error_calculate_num_examples overSample_biasPop\n",
      "Passed on: 22_wine calculate_overall_error_calculate_overall_inverse_f1_calculate_num_examples overSample_biasPop\n",
      "Passed on: 22_wine calculate_class0_error_calculate_class1_error overSample_biasPop\n",
      "Passed on: 23_wine calculate_overall_error_calculate_num_examples overSample_biasPop\n",
      "Passed on: 23_wine calculate_overall_error_calculate_overall_inverse_f1_calculate_num_examples overSample_biasPop\n",
      "Passed on: 23_wine calculate_class0_error_calculate_class1_error overSample_biasPop\n",
      "Passed on: 24_wine calculate_overall_error_calculate_num_examples overSample_biasPop\n",
      "Passed on: 24_wine calculate_overall_error_calculate_overall_inverse_f1_calculate_num_examples overSample_biasPop\n",
      "Passed on: 24_wine calculate_class0_error_calculate_class1_error overSample_biasPop\n",
      "Passed on: 25_wine calculate_overall_error_calculate_num_examples overSample_biasPop\n",
      "Passed on: 25_wine calculate_overall_error_calculate_overall_inverse_f1_calculate_num_examples overSample_biasPop\n",
      "Passed on: 25_wine calculate_class0_error_calculate_class1_error overSample_biasPop\n",
      "Passed on: 26_wine calculate_overall_error_calculate_num_examples overSample_biasPop\n",
      "Passed on: 26_wine calculate_overall_error_calculate_overall_inverse_f1_calculate_num_examples overSample_biasPop\n",
      "Passed on: 26_wine calculate_class0_error_calculate_class1_error overSample_biasPop\n",
      "Passed on: 27_wine calculate_overall_error_calculate_num_examples overSample_biasPop\n",
      "Passed on: 27_wine calculate_overall_error_calculate_overall_inverse_f1_calculate_num_examples overSample_biasPop\n",
      "Passed on: 27_wine calculate_class0_error_calculate_class1_error overSample_biasPop\n",
      "Passed on: 28_wine calculate_overall_error_calculate_num_examples overSample_biasPop\n",
      "Passed on: 28_wine calculate_overall_error_calculate_overall_inverse_f1_calculate_num_examples overSample_biasPop\n",
      "Passed on: 28_wine calculate_class0_error_calculate_class1_error overSample_biasPop\n",
      "Passed on: 29_wine calculate_overall_error_calculate_num_examples overSample_biasPop\n",
      "Passed on: 29_wine calculate_overall_error_calculate_overall_inverse_f1_calculate_num_examples overSample_biasPop\n",
      "Passed on: 29_wine calculate_class0_error_calculate_class1_error overSample_biasPop\n",
      "Passed on: 30_wine calculate_overall_error_calculate_num_examples overSample_biasPop\n",
      "Passed on: 30_wine calculate_overall_error_calculate_overall_inverse_f1_calculate_num_examples overSample_biasPop\n",
      "Passed on: 30_wine calculate_class0_error_calculate_class1_error overSample_biasPop\n",
      "Passed on: 0_ILPD calculate_overall_error_calculate_num_examples overSample_biasPop\n",
      "Passed on: 0_ILPD calculate_overall_error_calculate_overall_inverse_f1_calculate_num_examples overSample_biasPop\n",
      "Passed on: 0_ILPD calculate_class0_error_calculate_class1_error overSample_biasPop\n",
      "Passed on: 1_ILPD calculate_overall_error_calculate_num_examples overSample_biasPop\n",
      "Passed on: 1_ILPD calculate_overall_error_calculate_overall_inverse_f1_calculate_num_examples overSample_biasPop\n",
      "Passed on: 1_ILPD calculate_class0_error_calculate_class1_error overSample_biasPop\n",
      "Passed on: 2_ILPD calculate_overall_error_calculate_num_examples overSample_biasPop\n",
      "Passed on: 2_ILPD calculate_overall_error_calculate_overall_inverse_f1_calculate_num_examples overSample_biasPop\n",
      "Passed on: 2_ILPD calculate_class0_error_calculate_class1_error overSample_biasPop\n",
      "Passed on: 3_ILPD calculate_overall_error_calculate_num_examples overSample_biasPop\n",
      "Passed on: 3_ILPD calculate_overall_error_calculate_overall_inverse_f1_calculate_num_examples overSample_biasPop\n",
      "Passed on: 3_ILPD calculate_class0_error_calculate_class1_error overSample_biasPop\n",
      "Passed on: 4_ILPD calculate_overall_error_calculate_num_examples overSample_biasPop\n",
      "Passed on: 4_ILPD calculate_overall_error_calculate_overall_inverse_f1_calculate_num_examples overSample_biasPop\n",
      "Passed on: 4_ILPD calculate_class0_error_calculate_class1_error overSample_biasPop\n",
      "Passed on: 5_ILPD calculate_overall_error_calculate_num_examples overSample_biasPop\n",
      "Passed on: 5_ILPD calculate_overall_error_calculate_overall_inverse_f1_calculate_num_examples overSample_biasPop\n",
      "Passed on: 5_ILPD calculate_class0_error_calculate_class1_error overSample_biasPop\n",
      "Passed on: 6_ILPD calculate_overall_error_calculate_num_examples overSample_biasPop\n",
      "Passed on: 6_ILPD calculate_overall_error_calculate_overall_inverse_f1_calculate_num_examples overSample_biasPop\n",
      "Passed on: 6_ILPD calculate_class0_error_calculate_class1_error overSample_biasPop\n",
      "Passed on: 7_ILPD calculate_overall_error_calculate_num_examples overSample_biasPop\n",
      "Passed on: 7_ILPD calculate_overall_error_calculate_overall_inverse_f1_calculate_num_examples overSample_biasPop\n",
      "Passed on: 7_ILPD calculate_class0_error_calculate_class1_error overSample_biasPop\n",
      "Passed on: 8_ILPD calculate_overall_error_calculate_num_examples overSample_biasPop\n",
      "Passed on: 8_ILPD calculate_overall_error_calculate_overall_inverse_f1_calculate_num_examples overSample_biasPop\n",
      "Passed on: 8_ILPD calculate_class0_error_calculate_class1_error overSample_biasPop\n",
      "Passed on: 9_ILPD calculate_overall_error_calculate_num_examples overSample_biasPop\n",
      "Passed on: 9_ILPD calculate_overall_error_calculate_overall_inverse_f1_calculate_num_examples overSample_biasPop\n",
      "Passed on: 9_ILPD calculate_class0_error_calculate_class1_error overSample_biasPop\n",
      "Passed on: 10_ILPD calculate_overall_error_calculate_num_examples overSample_biasPop\n",
      "Passed on: 10_ILPD calculate_overall_error_calculate_overall_inverse_f1_calculate_num_examples overSample_biasPop\n",
      "Passed on: 10_ILPD calculate_class0_error_calculate_class1_error overSample_biasPop\n",
      "Passed on: 11_ILPD calculate_overall_error_calculate_num_examples overSample_biasPop\n",
      "Passed on: 11_ILPD calculate_overall_error_calculate_overall_inverse_f1_calculate_num_examples overSample_biasPop\n",
      "Passed on: 11_ILPD calculate_class0_error_calculate_class1_error overSample_biasPop\n",
      "Passed on: 12_ILPD calculate_overall_error_calculate_num_examples overSample_biasPop\n",
      "Passed on: 12_ILPD calculate_overall_error_calculate_overall_inverse_f1_calculate_num_examples overSample_biasPop\n",
      "Passed on: 12_ILPD calculate_class0_error_calculate_class1_error overSample_biasPop\n",
      "Passed on: 13_ILPD calculate_overall_error_calculate_num_examples overSample_biasPop\n",
      "Passed on: 13_ILPD calculate_overall_error_calculate_overall_inverse_f1_calculate_num_examples overSample_biasPop\n",
      "Passed on: 13_ILPD calculate_class0_error_calculate_class1_error overSample_biasPop\n",
      "Passed on: 14_ILPD calculate_overall_error_calculate_num_examples overSample_biasPop\n",
      "Passed on: 14_ILPD calculate_overall_error_calculate_overall_inverse_f1_calculate_num_examples overSample_biasPop\n",
      "Passed on: 14_ILPD calculate_class0_error_calculate_class1_error overSample_biasPop\n",
      "Passed on: 15_ILPD calculate_overall_error_calculate_num_examples overSample_biasPop\n",
      "Passed on: 15_ILPD calculate_overall_error_calculate_overall_inverse_f1_calculate_num_examples overSample_biasPop\n",
      "Passed on: 15_ILPD calculate_class0_error_calculate_class1_error overSample_biasPop\n",
      "Passed on: 16_ILPD calculate_overall_error_calculate_num_examples overSample_biasPop\n",
      "Passed on: 16_ILPD calculate_overall_error_calculate_overall_inverse_f1_calculate_num_examples overSample_biasPop\n",
      "Passed on: 16_ILPD calculate_class0_error_calculate_class1_error overSample_biasPop\n",
      "Passed on: 17_ILPD calculate_overall_error_calculate_num_examples overSample_biasPop\n",
      "Passed on: 17_ILPD calculate_overall_error_calculate_overall_inverse_f1_calculate_num_examples overSample_biasPop\n",
      "Passed on: 17_ILPD calculate_class0_error_calculate_class1_error overSample_biasPop\n",
      "Passed on: 18_ILPD calculate_overall_error_calculate_num_examples overSample_biasPop\n",
      "Passed on: 18_ILPD calculate_overall_error_calculate_overall_inverse_f1_calculate_num_examples overSample_biasPop\n",
      "Passed on: 18_ILPD calculate_class0_error_calculate_class1_error overSample_biasPop\n",
      "Passed on: 19_ILPD calculate_overall_error_calculate_num_examples overSample_biasPop\n",
      "Passed on: 19_ILPD calculate_overall_error_calculate_overall_inverse_f1_calculate_num_examples overSample_biasPop\n",
      "Passed on: 19_ILPD calculate_class0_error_calculate_class1_error overSample_biasPop\n",
      "Passed on: 20_ILPD calculate_overall_error_calculate_num_examples overSample_biasPop\n",
      "Passed on: 20_ILPD calculate_overall_error_calculate_overall_inverse_f1_calculate_num_examples overSample_biasPop\n",
      "Passed on: 20_ILPD calculate_class0_error_calculate_class1_error overSample_biasPop\n",
      "Passed on: 21_ILPD calculate_overall_error_calculate_num_examples overSample_biasPop\n",
      "Passed on: 21_ILPD calculate_overall_error_calculate_overall_inverse_f1_calculate_num_examples overSample_biasPop\n",
      "Passed on: 21_ILPD calculate_class0_error_calculate_class1_error overSample_biasPop\n",
      "Passed on: 22_ILPD calculate_overall_error_calculate_num_examples overSample_biasPop\n",
      "Passed on: 22_ILPD calculate_overall_error_calculate_overall_inverse_f1_calculate_num_examples overSample_biasPop\n",
      "Passed on: 22_ILPD calculate_class0_error_calculate_class1_error overSample_biasPop\n",
      "Passed on: 23_ILPD calculate_overall_error_calculate_num_examples overSample_biasPop\n",
      "Passed on: 23_ILPD calculate_overall_error_calculate_overall_inverse_f1_calculate_num_examples overSample_biasPop\n",
      "Passed on: 23_ILPD calculate_class0_error_calculate_class1_error overSample_biasPop\n",
      "Passed on: 24_ILPD calculate_overall_error_calculate_num_examples overSample_biasPop\n",
      "Passed on: 24_ILPD calculate_overall_error_calculate_overall_inverse_f1_calculate_num_examples overSample_biasPop\n",
      "Passed on: 24_ILPD calculate_class0_error_calculate_class1_error overSample_biasPop\n",
      "Passed on: 25_ILPD calculate_overall_error_calculate_num_examples overSample_biasPop\n",
      "Passed on: 25_ILPD calculate_overall_error_calculate_overall_inverse_f1_calculate_num_examples overSample_biasPop\n",
      "Passed on: 25_ILPD calculate_class0_error_calculate_class1_error overSample_biasPop\n",
      "Passed on: 26_ILPD calculate_overall_error_calculate_num_examples overSample_biasPop\n",
      "Passed on: 26_ILPD calculate_overall_error_calculate_overall_inverse_f1_calculate_num_examples overSample_biasPop\n",
      "Passed on: 26_ILPD calculate_class0_error_calculate_class1_error overSample_biasPop\n",
      "Passed on: 27_ILPD calculate_overall_error_calculate_num_examples overSample_biasPop\n",
      "Passed on: 27_ILPD calculate_overall_error_calculate_overall_inverse_f1_calculate_num_examples overSample_biasPop\n",
      "Passed on: 27_ILPD calculate_class0_error_calculate_class1_error overSample_biasPop\n",
      "Passed on: 28_ILPD calculate_overall_error_calculate_num_examples overSample_biasPop\n",
      "Passed on: 28_ILPD calculate_overall_error_calculate_overall_inverse_f1_calculate_num_examples overSample_biasPop\n",
      "Passed on: 28_ILPD calculate_class0_error_calculate_class1_error overSample_biasPop\n",
      "Passed on: 29_ILPD calculate_overall_error_calculate_num_examples overSample_biasPop\n",
      "Passed on: 29_ILPD calculate_overall_error_calculate_overall_inverse_f1_calculate_num_examples overSample_biasPop\n",
      "Passed on: 29_ILPD calculate_class0_error_calculate_class1_error overSample_biasPop\n",
      "Passed on: 30_ILPD calculate_overall_error_calculate_num_examples overSample_biasPop\n",
      "Passed on: 30_ILPD calculate_overall_error_calculate_overall_inverse_f1_calculate_num_examples overSample_biasPop\n",
      "Passed on: 30_ILPD calculate_class0_error_calculate_class1_error overSample_biasPop\n"
     ]
    },
    {
     "name": "stderr",
     "output_type": "stream",
     "text": [
      "e:\\Code\\3_13_venv\\Lib\\site-packages\\sklearn\\preprocessing\\_label.py:110: DataConversionWarning: A column-vector y was passed when a 1d array was expected. Please change the shape of y to (n_samples, ), for example using ravel().\n",
      "  y = column_or_1d(y, warn=True)\n",
      "e:\\Code\\3_13_venv\\Lib\\site-packages\\sklearn\\preprocessing\\_label.py:110: DataConversionWarning: A column-vector y was passed when a 1d array was expected. Please change the shape of y to (n_samples, ), for example using ravel().\n",
      "  y = column_or_1d(y, warn=True)\n"
     ]
    },
    {
     "name": "stdout",
     "output_type": "stream",
     "text": [
      "Passed on: 0_heart_disease calculate_overall_error_calculate_num_examples overSample_biasPop\n",
      "Passed on: 0_heart_disease calculate_overall_error_calculate_overall_inverse_f1_calculate_num_examples overSample_biasPop\n",
      "Passed on: 0_heart_disease calculate_class0_error_calculate_class1_error overSample_biasPop\n",
      "Passed on: 1_heart_disease calculate_overall_error_calculate_num_examples overSample_biasPop\n",
      "Passed on: 1_heart_disease calculate_overall_error_calculate_overall_inverse_f1_calculate_num_examples overSample_biasPop\n",
      "Passed on: 1_heart_disease calculate_class0_error_calculate_class1_error overSample_biasPop\n",
      "Passed on: 2_heart_disease calculate_overall_error_calculate_num_examples overSample_biasPop\n",
      "Passed on: 2_heart_disease calculate_overall_error_calculate_overall_inverse_f1_calculate_num_examples overSample_biasPop\n",
      "Passed on: 2_heart_disease calculate_class0_error_calculate_class1_error overSample_biasPop\n",
      "Passed on: 3_heart_disease calculate_overall_error_calculate_num_examples overSample_biasPop\n",
      "Passed on: 3_heart_disease calculate_overall_error_calculate_overall_inverse_f1_calculate_num_examples overSample_biasPop\n",
      "Passed on: 3_heart_disease calculate_class0_error_calculate_class1_error overSample_biasPop\n",
      "Passed on: 4_heart_disease calculate_overall_error_calculate_num_examples overSample_biasPop\n",
      "Passed on: 4_heart_disease calculate_overall_error_calculate_overall_inverse_f1_calculate_num_examples overSample_biasPop\n",
      "Passed on: 4_heart_disease calculate_class0_error_calculate_class1_error overSample_biasPop\n",
      "Passed on: 5_heart_disease calculate_overall_error_calculate_num_examples overSample_biasPop\n",
      "Passed on: 5_heart_disease calculate_overall_error_calculate_overall_inverse_f1_calculate_num_examples overSample_biasPop\n",
      "Passed on: 5_heart_disease calculate_class0_error_calculate_class1_error overSample_biasPop\n",
      "Passed on: 6_heart_disease calculate_overall_error_calculate_num_examples overSample_biasPop\n",
      "Passed on: 6_heart_disease calculate_overall_error_calculate_overall_inverse_f1_calculate_num_examples overSample_biasPop\n",
      "Passed on: 6_heart_disease calculate_class0_error_calculate_class1_error overSample_biasPop\n",
      "Passed on: 7_heart_disease calculate_overall_error_calculate_num_examples overSample_biasPop\n",
      "Passed on: 7_heart_disease calculate_overall_error_calculate_overall_inverse_f1_calculate_num_examples overSample_biasPop\n",
      "Passed on: 7_heart_disease calculate_class0_error_calculate_class1_error overSample_biasPop\n",
      "Passed on: 8_heart_disease calculate_overall_error_calculate_num_examples overSample_biasPop\n",
      "Passed on: 8_heart_disease calculate_overall_error_calculate_overall_inverse_f1_calculate_num_examples overSample_biasPop\n",
      "Passed on: 8_heart_disease calculate_class0_error_calculate_class1_error overSample_biasPop\n",
      "Passed on: 9_heart_disease calculate_overall_error_calculate_num_examples overSample_biasPop\n",
      "Passed on: 9_heart_disease calculate_overall_error_calculate_overall_inverse_f1_calculate_num_examples overSample_biasPop\n",
      "Passed on: 9_heart_disease calculate_class0_error_calculate_class1_error overSample_biasPop\n",
      "Passed on: 10_heart_disease calculate_overall_error_calculate_num_examples overSample_biasPop\n",
      "Passed on: 10_heart_disease calculate_overall_error_calculate_overall_inverse_f1_calculate_num_examples overSample_biasPop\n",
      "Passed on: 10_heart_disease calculate_class0_error_calculate_class1_error overSample_biasPop\n",
      "Passed on: 11_heart_disease calculate_overall_error_calculate_num_examples overSample_biasPop\n",
      "Passed on: 11_heart_disease calculate_overall_error_calculate_overall_inverse_f1_calculate_num_examples overSample_biasPop\n",
      "Passed on: 11_heart_disease calculate_class0_error_calculate_class1_error overSample_biasPop\n",
      "Passed on: 12_heart_disease calculate_overall_error_calculate_num_examples overSample_biasPop\n",
      "Passed on: 12_heart_disease calculate_overall_error_calculate_overall_inverse_f1_calculate_num_examples overSample_biasPop\n",
      "Passed on: 12_heart_disease calculate_class0_error_calculate_class1_error overSample_biasPop\n",
      "Passed on: 13_heart_disease calculate_overall_error_calculate_num_examples overSample_biasPop\n",
      "Passed on: 13_heart_disease calculate_overall_error_calculate_overall_inverse_f1_calculate_num_examples overSample_biasPop\n",
      "Passed on: 13_heart_disease calculate_class0_error_calculate_class1_error overSample_biasPop\n",
      "Passed on: 14_heart_disease calculate_overall_error_calculate_num_examples overSample_biasPop\n",
      "Passed on: 14_heart_disease calculate_overall_error_calculate_overall_inverse_f1_calculate_num_examples overSample_biasPop\n",
      "Passed on: 14_heart_disease calculate_class0_error_calculate_class1_error overSample_biasPop\n",
      "Passed on: 15_heart_disease calculate_overall_error_calculate_num_examples overSample_biasPop\n",
      "Passed on: 15_heart_disease calculate_overall_error_calculate_overall_inverse_f1_calculate_num_examples overSample_biasPop\n",
      "Passed on: 15_heart_disease calculate_class0_error_calculate_class1_error overSample_biasPop\n",
      "Passed on: 16_heart_disease calculate_overall_error_calculate_num_examples overSample_biasPop\n",
      "Passed on: 16_heart_disease calculate_overall_error_calculate_overall_inverse_f1_calculate_num_examples overSample_biasPop\n",
      "Passed on: 16_heart_disease calculate_class0_error_calculate_class1_error overSample_biasPop\n",
      "Passed on: 17_heart_disease calculate_overall_error_calculate_num_examples overSample_biasPop\n",
      "Passed on: 17_heart_disease calculate_overall_error_calculate_overall_inverse_f1_calculate_num_examples overSample_biasPop\n",
      "Passed on: 17_heart_disease calculate_class0_error_calculate_class1_error overSample_biasPop\n",
      "Passed on: 18_heart_disease calculate_overall_error_calculate_num_examples overSample_biasPop\n",
      "Passed on: 18_heart_disease calculate_overall_error_calculate_overall_inverse_f1_calculate_num_examples overSample_biasPop\n",
      "Passed on: 18_heart_disease calculate_class0_error_calculate_class1_error overSample_biasPop\n",
      "Passed on: 19_heart_disease calculate_overall_error_calculate_num_examples overSample_biasPop\n",
      "Passed on: 19_heart_disease calculate_overall_error_calculate_overall_inverse_f1_calculate_num_examples overSample_biasPop\n",
      "Passed on: 19_heart_disease calculate_class0_error_calculate_class1_error overSample_biasPop\n",
      "Passed on: 20_heart_disease calculate_overall_error_calculate_num_examples overSample_biasPop\n",
      "Passed on: 20_heart_disease calculate_overall_error_calculate_overall_inverse_f1_calculate_num_examples overSample_biasPop\n",
      "Passed on: 20_heart_disease calculate_class0_error_calculate_class1_error overSample_biasPop\n",
      "Passed on: 21_heart_disease calculate_overall_error_calculate_num_examples overSample_biasPop\n",
      "Passed on: 21_heart_disease calculate_overall_error_calculate_overall_inverse_f1_calculate_num_examples overSample_biasPop\n",
      "Passed on: 21_heart_disease calculate_class0_error_calculate_class1_error overSample_biasPop\n",
      "Passed on: 22_heart_disease calculate_overall_error_calculate_num_examples overSample_biasPop\n",
      "Passed on: 22_heart_disease calculate_overall_error_calculate_overall_inverse_f1_calculate_num_examples overSample_biasPop\n",
      "Passed on: 22_heart_disease calculate_class0_error_calculate_class1_error overSample_biasPop\n",
      "Passed on: 23_heart_disease calculate_overall_error_calculate_num_examples overSample_biasPop\n",
      "Passed on: 23_heart_disease calculate_overall_error_calculate_overall_inverse_f1_calculate_num_examples overSample_biasPop\n",
      "Passed on: 23_heart_disease calculate_class0_error_calculate_class1_error overSample_biasPop\n",
      "Passed on: 24_heart_disease calculate_overall_error_calculate_num_examples overSample_biasPop\n",
      "Passed on: 24_heart_disease calculate_overall_error_calculate_overall_inverse_f1_calculate_num_examples overSample_biasPop\n",
      "Passed on: 24_heart_disease calculate_class0_error_calculate_class1_error overSample_biasPop\n",
      "Passed on: 25_heart_disease calculate_overall_error_calculate_num_examples overSample_biasPop\n",
      "Passed on: 25_heart_disease calculate_overall_error_calculate_overall_inverse_f1_calculate_num_examples overSample_biasPop\n",
      "Passed on: 25_heart_disease calculate_class0_error_calculate_class1_error overSample_biasPop\n",
      "Passed on: 26_heart_disease calculate_overall_error_calculate_num_examples overSample_biasPop\n",
      "Passed on: 26_heart_disease calculate_overall_error_calculate_overall_inverse_f1_calculate_num_examples overSample_biasPop\n",
      "Passed on: 26_heart_disease calculate_class0_error_calculate_class1_error overSample_biasPop\n",
      "Passed on: 27_heart_disease calculate_overall_error_calculate_num_examples overSample_biasPop\n",
      "Passed on: 27_heart_disease calculate_overall_error_calculate_overall_inverse_f1_calculate_num_examples overSample_biasPop\n",
      "Passed on: 27_heart_disease calculate_class0_error_calculate_class1_error overSample_biasPop\n",
      "Passed on: 28_heart_disease calculate_overall_error_calculate_num_examples overSample_biasPop\n",
      "Passed on: 28_heart_disease calculate_overall_error_calculate_overall_inverse_f1_calculate_num_examples overSample_biasPop\n",
      "Passed on: 28_heart_disease calculate_class0_error_calculate_class1_error overSample_biasPop\n",
      "Passed on: 29_heart_disease calculate_overall_error_calculate_num_examples overSample_biasPop\n",
      "Passed on: 29_heart_disease calculate_overall_error_calculate_overall_inverse_f1_calculate_num_examples overSample_biasPop\n",
      "Passed on: 29_heart_disease calculate_class0_error_calculate_class1_error overSample_biasPop\n",
      "Passed on: 30_heart_disease calculate_overall_error_calculate_num_examples overSample_biasPop\n",
      "Passed on: 30_heart_disease calculate_overall_error_calculate_overall_inverse_f1_calculate_num_examples overSample_biasPop\n",
      "Passed on: 30_heart_disease calculate_class0_error_calculate_class1_error overSample_biasPop\n"
     ]
    },
    {
     "name": "stderr",
     "output_type": "stream",
     "text": [
      "e:\\Code\\3_13_venv\\Lib\\site-packages\\sklearn\\preprocessing\\_label.py:110: DataConversionWarning: A column-vector y was passed when a 1d array was expected. Please change the shape of y to (n_samples, ), for example using ravel().\n",
      "  y = column_or_1d(y, warn=True)\n"
     ]
    },
    {
     "name": "stdout",
     "output_type": "stream",
     "text": [
      "Passed on: 0_wisconsin calculate_overall_error_calculate_num_examples overSample_biasPop\n",
      "Passed on: 0_wisconsin calculate_overall_error_calculate_overall_inverse_f1_calculate_num_examples overSample_biasPop\n",
      "Passed on: 0_wisconsin calculate_class0_error_calculate_class1_error overSample_biasPop\n",
      "Passed on: 1_wisconsin calculate_overall_error_calculate_num_examples overSample_biasPop\n",
      "Passed on: 1_wisconsin calculate_overall_error_calculate_overall_inverse_f1_calculate_num_examples overSample_biasPop\n",
      "Passed on: 1_wisconsin calculate_class0_error_calculate_class1_error overSample_biasPop\n",
      "Passed on: 2_wisconsin calculate_overall_error_calculate_num_examples overSample_biasPop\n",
      "Passed on: 2_wisconsin calculate_overall_error_calculate_overall_inverse_f1_calculate_num_examples overSample_biasPop\n",
      "Passed on: 2_wisconsin calculate_class0_error_calculate_class1_error overSample_biasPop\n",
      "Passed on: 3_wisconsin calculate_overall_error_calculate_num_examples overSample_biasPop\n",
      "Passed on: 3_wisconsin calculate_overall_error_calculate_overall_inverse_f1_calculate_num_examples overSample_biasPop\n",
      "Passed on: 3_wisconsin calculate_class0_error_calculate_class1_error overSample_biasPop\n",
      "Passed on: 4_wisconsin calculate_overall_error_calculate_num_examples overSample_biasPop\n",
      "Passed on: 4_wisconsin calculate_overall_error_calculate_overall_inverse_f1_calculate_num_examples overSample_biasPop\n",
      "Passed on: 4_wisconsin calculate_class0_error_calculate_class1_error overSample_biasPop\n",
      "Passed on: 5_wisconsin calculate_overall_error_calculate_num_examples overSample_biasPop\n",
      "Passed on: 5_wisconsin calculate_overall_error_calculate_overall_inverse_f1_calculate_num_examples overSample_biasPop\n",
      "Passed on: 5_wisconsin calculate_class0_error_calculate_class1_error overSample_biasPop\n",
      "Passed on: 6_wisconsin calculate_overall_error_calculate_num_examples overSample_biasPop\n",
      "Passed on: 6_wisconsin calculate_overall_error_calculate_overall_inverse_f1_calculate_num_examples overSample_biasPop\n",
      "Passed on: 6_wisconsin calculate_class0_error_calculate_class1_error overSample_biasPop\n",
      "Passed on: 7_wisconsin calculate_overall_error_calculate_num_examples overSample_biasPop\n",
      "Passed on: 7_wisconsin calculate_overall_error_calculate_overall_inverse_f1_calculate_num_examples overSample_biasPop\n",
      "Passed on: 7_wisconsin calculate_class0_error_calculate_class1_error overSample_biasPop\n",
      "Passed on: 8_wisconsin calculate_overall_error_calculate_num_examples overSample_biasPop\n",
      "Passed on: 8_wisconsin calculate_overall_error_calculate_overall_inverse_f1_calculate_num_examples overSample_biasPop\n",
      "Passed on: 8_wisconsin calculate_class0_error_calculate_class1_error overSample_biasPop\n",
      "Passed on: 9_wisconsin calculate_overall_error_calculate_num_examples overSample_biasPop\n",
      "Passed on: 9_wisconsin calculate_overall_error_calculate_overall_inverse_f1_calculate_num_examples overSample_biasPop\n",
      "Passed on: 9_wisconsin calculate_class0_error_calculate_class1_error overSample_biasPop\n",
      "Passed on: 10_wisconsin calculate_overall_error_calculate_num_examples overSample_biasPop\n",
      "Passed on: 10_wisconsin calculate_overall_error_calculate_overall_inverse_f1_calculate_num_examples overSample_biasPop\n",
      "Passed on: 10_wisconsin calculate_class0_error_calculate_class1_error overSample_biasPop\n",
      "Passed on: 11_wisconsin calculate_overall_error_calculate_num_examples overSample_biasPop\n",
      "Passed on: 11_wisconsin calculate_overall_error_calculate_overall_inverse_f1_calculate_num_examples overSample_biasPop\n",
      "Passed on: 11_wisconsin calculate_class0_error_calculate_class1_error overSample_biasPop\n",
      "Passed on: 12_wisconsin calculate_overall_error_calculate_num_examples overSample_biasPop\n",
      "Passed on: 12_wisconsin calculate_overall_error_calculate_overall_inverse_f1_calculate_num_examples overSample_biasPop\n",
      "Passed on: 12_wisconsin calculate_class0_error_calculate_class1_error overSample_biasPop\n",
      "Passed on: 13_wisconsin calculate_overall_error_calculate_num_examples overSample_biasPop\n",
      "Passed on: 13_wisconsin calculate_overall_error_calculate_overall_inverse_f1_calculate_num_examples overSample_biasPop\n",
      "Passed on: 13_wisconsin calculate_class0_error_calculate_class1_error overSample_biasPop\n",
      "Passed on: 14_wisconsin calculate_overall_error_calculate_num_examples overSample_biasPop\n",
      "Passed on: 14_wisconsin calculate_overall_error_calculate_overall_inverse_f1_calculate_num_examples overSample_biasPop\n",
      "Passed on: 14_wisconsin calculate_class0_error_calculate_class1_error overSample_biasPop\n",
      "Passed on: 15_wisconsin calculate_overall_error_calculate_num_examples overSample_biasPop\n",
      "Passed on: 15_wisconsin calculate_overall_error_calculate_overall_inverse_f1_calculate_num_examples overSample_biasPop\n",
      "Passed on: 15_wisconsin calculate_class0_error_calculate_class1_error overSample_biasPop\n",
      "Passed on: 16_wisconsin calculate_overall_error_calculate_num_examples overSample_biasPop\n",
      "Passed on: 16_wisconsin calculate_overall_error_calculate_overall_inverse_f1_calculate_num_examples overSample_biasPop\n",
      "Passed on: 16_wisconsin calculate_class0_error_calculate_class1_error overSample_biasPop\n",
      "Passed on: 17_wisconsin calculate_overall_error_calculate_num_examples overSample_biasPop\n",
      "Passed on: 17_wisconsin calculate_overall_error_calculate_overall_inverse_f1_calculate_num_examples overSample_biasPop\n",
      "Passed on: 17_wisconsin calculate_class0_error_calculate_class1_error overSample_biasPop\n",
      "Passed on: 18_wisconsin calculate_overall_error_calculate_num_examples overSample_biasPop\n",
      "Passed on: 18_wisconsin calculate_overall_error_calculate_overall_inverse_f1_calculate_num_examples overSample_biasPop\n",
      "Passed on: 18_wisconsin calculate_class0_error_calculate_class1_error overSample_biasPop\n",
      "Passed on: 19_wisconsin calculate_overall_error_calculate_num_examples overSample_biasPop\n",
      "Passed on: 19_wisconsin calculate_overall_error_calculate_overall_inverse_f1_calculate_num_examples overSample_biasPop\n",
      "Passed on: 19_wisconsin calculate_class0_error_calculate_class1_error overSample_biasPop\n",
      "Passed on: 20_wisconsin calculate_overall_error_calculate_num_examples overSample_biasPop\n",
      "Passed on: 20_wisconsin calculate_overall_error_calculate_overall_inverse_f1_calculate_num_examples overSample_biasPop\n",
      "Passed on: 20_wisconsin calculate_class0_error_calculate_class1_error overSample_biasPop\n",
      "Passed on: 21_wisconsin calculate_overall_error_calculate_num_examples overSample_biasPop\n",
      "Passed on: 21_wisconsin calculate_overall_error_calculate_overall_inverse_f1_calculate_num_examples overSample_biasPop\n",
      "Passed on: 21_wisconsin calculate_class0_error_calculate_class1_error overSample_biasPop\n",
      "Passed on: 22_wisconsin calculate_overall_error_calculate_num_examples overSample_biasPop\n",
      "Passed on: 22_wisconsin calculate_overall_error_calculate_overall_inverse_f1_calculate_num_examples overSample_biasPop\n",
      "Passed on: 22_wisconsin calculate_class0_error_calculate_class1_error overSample_biasPop\n",
      "Passed on: 23_wisconsin calculate_overall_error_calculate_num_examples overSample_biasPop\n",
      "Passed on: 23_wisconsin calculate_overall_error_calculate_overall_inverse_f1_calculate_num_examples overSample_biasPop\n",
      "Passed on: 23_wisconsin calculate_class0_error_calculate_class1_error overSample_biasPop\n",
      "Passed on: 24_wisconsin calculate_overall_error_calculate_num_examples overSample_biasPop\n",
      "Passed on: 24_wisconsin calculate_overall_error_calculate_overall_inverse_f1_calculate_num_examples overSample_biasPop\n",
      "Passed on: 24_wisconsin calculate_class0_error_calculate_class1_error overSample_biasPop\n",
      "Passed on: 25_wisconsin calculate_overall_error_calculate_num_examples overSample_biasPop\n",
      "Passed on: 25_wisconsin calculate_overall_error_calculate_overall_inverse_f1_calculate_num_examples overSample_biasPop\n",
      "Passed on: 25_wisconsin calculate_class0_error_calculate_class1_error overSample_biasPop\n",
      "Passed on: 26_wisconsin calculate_overall_error_calculate_num_examples overSample_biasPop\n",
      "Passed on: 26_wisconsin calculate_overall_error_calculate_overall_inverse_f1_calculate_num_examples overSample_biasPop\n",
      "Passed on: 26_wisconsin calculate_class0_error_calculate_class1_error overSample_biasPop\n",
      "Passed on: 27_wisconsin calculate_overall_error_calculate_num_examples overSample_biasPop\n",
      "Passed on: 27_wisconsin calculate_overall_error_calculate_overall_inverse_f1_calculate_num_examples overSample_biasPop\n",
      "Passed on: 27_wisconsin calculate_class0_error_calculate_class1_error overSample_biasPop\n",
      "Passed on: 28_wisconsin calculate_overall_error_calculate_num_examples overSample_biasPop\n",
      "Passed on: 28_wisconsin calculate_overall_error_calculate_overall_inverse_f1_calculate_num_examples overSample_biasPop\n",
      "Passed on: 28_wisconsin calculate_class0_error_calculate_class1_error overSample_biasPop\n",
      "Passed on: 29_wisconsin calculate_overall_error_calculate_num_examples overSample_biasPop\n",
      "Passed on: 29_wisconsin calculate_overall_error_calculate_overall_inverse_f1_calculate_num_examples overSample_biasPop\n",
      "Passed on: 29_wisconsin calculate_class0_error_calculate_class1_error overSample_biasPop\n",
      "Passed on: 30_wisconsin calculate_overall_error_calculate_num_examples overSample_biasPop\n",
      "Passed on: 30_wisconsin calculate_overall_error_calculate_overall_inverse_f1_calculate_num_examples overSample_biasPop\n",
      "Passed on: 30_wisconsin calculate_class0_error_calculate_class1_error overSample_biasPop\n"
     ]
    },
    {
     "name": "stderr",
     "output_type": "stream",
     "text": [
      "e:\\Code\\3_13_venv\\Lib\\site-packages\\sklearn\\preprocessing\\_label.py:110: DataConversionWarning: A column-vector y was passed when a 1d array was expected. Please change the shape of y to (n_samples, ), for example using ravel().\n",
      "  y = column_or_1d(y, warn=True)\n",
      "e:\\Code\\3_13_venv\\Lib\\site-packages\\sklearn\\preprocessing\\_label.py:110: DataConversionWarning: A column-vector y was passed when a 1d array was expected. Please change the shape of y to (n_samples, ), for example using ravel().\n",
      "  y = column_or_1d(y, warn=True)\n",
      "e:\\Code\\3_13_venv\\Lib\\site-packages\\sklearn\\preprocessing\\_label.py:110: DataConversionWarning: A column-vector y was passed when a 1d array was expected. Please change the shape of y to (n_samples, ), for example using ravel().\n",
      "  y = column_or_1d(y, warn=True)\n",
      "e:\\Code\\3_13_venv\\Lib\\site-packages\\sklearn\\preprocessing\\_label.py:110: DataConversionWarning: A column-vector y was passed when a 1d array was expected. Please change the shape of y to (n_samples, ), for example using ravel().\n",
      "  y = column_or_1d(y, warn=True)\n",
      "e:\\Code\\3_13_venv\\Lib\\site-packages\\sklearn\\preprocessing\\_label.py:110: DataConversionWarning: A column-vector y was passed when a 1d array was expected. Please change the shape of y to (n_samples, ), for example using ravel().\n",
      "  y = column_or_1d(y, warn=True)\n"
     ]
    }
   ],
   "source": [
    "for dataset, name in datasets:\n",
    "\t\n",
    "\traw_X, y = dataset.data.features, dataset.data.targets\n",
    "\tpipeline = create_preprocessor_pipeline(dataset.variables)\n",
    "\tpipeline.fit(raw_X, y)\n",
    "\tX = pipeline.transform(raw_X)\n",
    "\tlabel_encoder = LabelEncoder()\n",
    "\ty = label_encoder.fit_transform(y)\n",
    "\t\n",
    "\tpackages = []\n",
    "\tfor c, (train_idx, validation_idx, test_idx) in enumerate(prepare_splits(X, y)):\n",
    "\t\tfor objectives in objectives_sets:\n",
    "\t\t\tobjectives_names = [re.search(r'\\.([a-zA-Z_][a-zA-Z0-9_]*)\\s', str(objective_name)).group(1) for objective_name in objectives]\n",
    "\t\t\tobjectives_names = '_'.join(objectives_names)\t\t\t\n",
    "\t\t\tpackages.append((X, y, train_idx, validation_idx, test_idx, objectives, f\"{c}_{name} {objectives_names} overSample_biasPop\"))\n",
    "\n",
    "\t# for package in packages:\n",
    "\t# \tif os.path.exists(os.path.join(\"results\", f\"{package[-1]}.pickle\")):\n",
    "\t# \t\tcontinue\n",
    "\t# \tprint(f\"Executing {package[-1]}\")\n",
    "\t\t# overSample_biasPop_execute(package)\n",
    "\n",
    "\tresults = Parallel(n_jobs=-1)(delayed(overSample_biasPop_execute)(package) for package in packages)\n",
    "\tfor result in results:\n",
    "\t\tif isinstance(result, str):\n",
    "\t\t\tprint(f\"Passed on: {result}\")\n",
    "\t\t\tcontinue\n",
    "\n",
    "\t\twith open(os.path.join(\"results\", f\"{result['name']}.pickle\"), 'wb') as fh:\n",
    "\t\t\tpickle.dump(result, fh)\t"
   ]
  },
  {
   "cell_type": "code",
   "execution_count": 26,
   "metadata": {},
   "outputs": [
    {
     "name": "stderr",
     "output_type": "stream",
     "text": [
      "e:\\Code\\3_13_venv\\Lib\\site-packages\\sklearn\\preprocessing\\_label.py:110: DataConversionWarning: A column-vector y was passed when a 1d array was expected. Please change the shape of y to (n_samples, ), for example using ravel().\n",
      "  y = column_or_1d(y, warn=True)\n"
     ]
    },
    {
     "name": "stdout",
     "output_type": "stream",
     "text": [
      "Passed on: 0_ionosphere calculate_overall_error_calculate_num_examples regSample_biasPop\n",
      "Passed on: 0_ionosphere calculate_overall_error_calculate_overall_inverse_f1_calculate_num_examples regSample_biasPop\n",
      "Passed on: 0_ionosphere calculate_class0_error_calculate_class1_error regSample_biasPop\n",
      "Passed on: 1_ionosphere calculate_overall_error_calculate_num_examples regSample_biasPop\n",
      "Passed on: 1_ionosphere calculate_overall_error_calculate_overall_inverse_f1_calculate_num_examples regSample_biasPop\n",
      "Passed on: 1_ionosphere calculate_class0_error_calculate_class1_error regSample_biasPop\n",
      "Passed on: 2_ionosphere calculate_overall_error_calculate_num_examples regSample_biasPop\n",
      "Passed on: 2_ionosphere calculate_overall_error_calculate_overall_inverse_f1_calculate_num_examples regSample_biasPop\n",
      "Passed on: 2_ionosphere calculate_class0_error_calculate_class1_error regSample_biasPop\n",
      "Passed on: 3_ionosphere calculate_overall_error_calculate_num_examples regSample_biasPop\n",
      "Passed on: 3_ionosphere calculate_overall_error_calculate_overall_inverse_f1_calculate_num_examples regSample_biasPop\n",
      "Passed on: 3_ionosphere calculate_class0_error_calculate_class1_error regSample_biasPop\n",
      "Passed on: 4_ionosphere calculate_overall_error_calculate_num_examples regSample_biasPop\n",
      "Passed on: 4_ionosphere calculate_overall_error_calculate_overall_inverse_f1_calculate_num_examples regSample_biasPop\n",
      "Passed on: 4_ionosphere calculate_class0_error_calculate_class1_error regSample_biasPop\n",
      "Passed on: 5_ionosphere calculate_overall_error_calculate_num_examples regSample_biasPop\n",
      "Passed on: 5_ionosphere calculate_overall_error_calculate_overall_inverse_f1_calculate_num_examples regSample_biasPop\n",
      "Passed on: 5_ionosphere calculate_class0_error_calculate_class1_error regSample_biasPop\n",
      "Passed on: 6_ionosphere calculate_overall_error_calculate_num_examples regSample_biasPop\n",
      "Passed on: 6_ionosphere calculate_overall_error_calculate_overall_inverse_f1_calculate_num_examples regSample_biasPop\n",
      "Passed on: 6_ionosphere calculate_class0_error_calculate_class1_error regSample_biasPop\n",
      "Passed on: 7_ionosphere calculate_overall_error_calculate_num_examples regSample_biasPop\n",
      "Passed on: 7_ionosphere calculate_overall_error_calculate_overall_inverse_f1_calculate_num_examples regSample_biasPop\n",
      "Passed on: 7_ionosphere calculate_class0_error_calculate_class1_error regSample_biasPop\n",
      "Passed on: 8_ionosphere calculate_overall_error_calculate_num_examples regSample_biasPop\n",
      "Passed on: 8_ionosphere calculate_overall_error_calculate_overall_inverse_f1_calculate_num_examples regSample_biasPop\n",
      "Passed on: 8_ionosphere calculate_class0_error_calculate_class1_error regSample_biasPop\n",
      "Passed on: 9_ionosphere calculate_overall_error_calculate_num_examples regSample_biasPop\n",
      "Passed on: 9_ionosphere calculate_overall_error_calculate_overall_inverse_f1_calculate_num_examples regSample_biasPop\n",
      "Passed on: 9_ionosphere calculate_class0_error_calculate_class1_error regSample_biasPop\n",
      "Passed on: 10_ionosphere calculate_overall_error_calculate_num_examples regSample_biasPop\n",
      "Passed on: 10_ionosphere calculate_overall_error_calculate_overall_inverse_f1_calculate_num_examples regSample_biasPop\n",
      "Passed on: 10_ionosphere calculate_class0_error_calculate_class1_error regSample_biasPop\n",
      "Passed on: 11_ionosphere calculate_overall_error_calculate_num_examples regSample_biasPop\n",
      "Passed on: 11_ionosphere calculate_overall_error_calculate_overall_inverse_f1_calculate_num_examples regSample_biasPop\n",
      "Passed on: 11_ionosphere calculate_class0_error_calculate_class1_error regSample_biasPop\n",
      "Passed on: 12_ionosphere calculate_overall_error_calculate_num_examples regSample_biasPop\n",
      "Passed on: 12_ionosphere calculate_overall_error_calculate_overall_inverse_f1_calculate_num_examples regSample_biasPop\n",
      "Passed on: 12_ionosphere calculate_class0_error_calculate_class1_error regSample_biasPop\n",
      "Passed on: 13_ionosphere calculate_overall_error_calculate_num_examples regSample_biasPop\n",
      "Passed on: 13_ionosphere calculate_overall_error_calculate_overall_inverse_f1_calculate_num_examples regSample_biasPop\n",
      "Passed on: 13_ionosphere calculate_class0_error_calculate_class1_error regSample_biasPop\n",
      "Passed on: 14_ionosphere calculate_overall_error_calculate_num_examples regSample_biasPop\n",
      "Passed on: 14_ionosphere calculate_overall_error_calculate_overall_inverse_f1_calculate_num_examples regSample_biasPop\n",
      "Passed on: 14_ionosphere calculate_class0_error_calculate_class1_error regSample_biasPop\n",
      "Passed on: 15_ionosphere calculate_overall_error_calculate_num_examples regSample_biasPop\n",
      "Passed on: 15_ionosphere calculate_overall_error_calculate_overall_inverse_f1_calculate_num_examples regSample_biasPop\n",
      "Passed on: 15_ionosphere calculate_class0_error_calculate_class1_error regSample_biasPop\n",
      "Passed on: 16_ionosphere calculate_overall_error_calculate_num_examples regSample_biasPop\n",
      "Passed on: 16_ionosphere calculate_overall_error_calculate_overall_inverse_f1_calculate_num_examples regSample_biasPop\n",
      "Passed on: 16_ionosphere calculate_class0_error_calculate_class1_error regSample_biasPop\n",
      "Passed on: 17_ionosphere calculate_overall_error_calculate_num_examples regSample_biasPop\n",
      "Passed on: 17_ionosphere calculate_overall_error_calculate_overall_inverse_f1_calculate_num_examples regSample_biasPop\n",
      "Passed on: 17_ionosphere calculate_class0_error_calculate_class1_error regSample_biasPop\n",
      "Passed on: 18_ionosphere calculate_overall_error_calculate_num_examples regSample_biasPop\n",
      "Passed on: 18_ionosphere calculate_overall_error_calculate_overall_inverse_f1_calculate_num_examples regSample_biasPop\n",
      "Passed on: 18_ionosphere calculate_class0_error_calculate_class1_error regSample_biasPop\n",
      "Passed on: 19_ionosphere calculate_overall_error_calculate_num_examples regSample_biasPop\n",
      "Passed on: 19_ionosphere calculate_overall_error_calculate_overall_inverse_f1_calculate_num_examples regSample_biasPop\n",
      "Passed on: 19_ionosphere calculate_class0_error_calculate_class1_error regSample_biasPop\n",
      "Passed on: 20_ionosphere calculate_overall_error_calculate_num_examples regSample_biasPop\n",
      "Passed on: 20_ionosphere calculate_overall_error_calculate_overall_inverse_f1_calculate_num_examples regSample_biasPop\n",
      "Passed on: 20_ionosphere calculate_class0_error_calculate_class1_error regSample_biasPop\n",
      "Passed on: 21_ionosphere calculate_overall_error_calculate_num_examples regSample_biasPop\n",
      "Passed on: 21_ionosphere calculate_overall_error_calculate_overall_inverse_f1_calculate_num_examples regSample_biasPop\n",
      "Passed on: 21_ionosphere calculate_class0_error_calculate_class1_error regSample_biasPop\n",
      "Passed on: 22_ionosphere calculate_overall_error_calculate_num_examples regSample_biasPop\n",
      "Passed on: 22_ionosphere calculate_overall_error_calculate_overall_inverse_f1_calculate_num_examples regSample_biasPop\n",
      "Passed on: 22_ionosphere calculate_class0_error_calculate_class1_error regSample_biasPop\n",
      "Passed on: 23_ionosphere calculate_overall_error_calculate_num_examples regSample_biasPop\n",
      "Passed on: 23_ionosphere calculate_overall_error_calculate_overall_inverse_f1_calculate_num_examples regSample_biasPop\n",
      "Passed on: 23_ionosphere calculate_class0_error_calculate_class1_error regSample_biasPop\n",
      "Passed on: 24_ionosphere calculate_overall_error_calculate_num_examples regSample_biasPop\n",
      "Passed on: 24_ionosphere calculate_overall_error_calculate_overall_inverse_f1_calculate_num_examples regSample_biasPop\n",
      "Passed on: 24_ionosphere calculate_class0_error_calculate_class1_error regSample_biasPop\n",
      "Passed on: 25_ionosphere calculate_overall_error_calculate_num_examples regSample_biasPop\n",
      "Passed on: 25_ionosphere calculate_overall_error_calculate_overall_inverse_f1_calculate_num_examples regSample_biasPop\n",
      "Passed on: 25_ionosphere calculate_class0_error_calculate_class1_error regSample_biasPop\n",
      "Passed on: 26_ionosphere calculate_overall_error_calculate_num_examples regSample_biasPop\n",
      "Passed on: 26_ionosphere calculate_overall_error_calculate_overall_inverse_f1_calculate_num_examples regSample_biasPop\n",
      "Passed on: 26_ionosphere calculate_class0_error_calculate_class1_error regSample_biasPop\n",
      "Passed on: 27_ionosphere calculate_overall_error_calculate_num_examples regSample_biasPop\n",
      "Passed on: 27_ionosphere calculate_overall_error_calculate_overall_inverse_f1_calculate_num_examples regSample_biasPop\n",
      "Passed on: 27_ionosphere calculate_class0_error_calculate_class1_error regSample_biasPop\n",
      "Passed on: 28_ionosphere calculate_overall_error_calculate_num_examples regSample_biasPop\n",
      "Passed on: 28_ionosphere calculate_overall_error_calculate_overall_inverse_f1_calculate_num_examples regSample_biasPop\n",
      "Passed on: 28_ionosphere calculate_class0_error_calculate_class1_error regSample_biasPop\n",
      "Passed on: 29_ionosphere calculate_overall_error_calculate_num_examples regSample_biasPop\n",
      "Passed on: 29_ionosphere calculate_overall_error_calculate_overall_inverse_f1_calculate_num_examples regSample_biasPop\n",
      "Passed on: 29_ionosphere calculate_class0_error_calculate_class1_error regSample_biasPop\n",
      "Passed on: 30_ionosphere calculate_overall_error_calculate_num_examples regSample_biasPop\n",
      "Passed on: 30_ionosphere calculate_overall_error_calculate_overall_inverse_f1_calculate_num_examples regSample_biasPop\n",
      "Passed on: 30_ionosphere calculate_class0_error_calculate_class1_error regSample_biasPop\n",
      "Passed on: 0_haberman calculate_overall_error_calculate_num_examples regSample_biasPop\n",
      "Passed on: 0_haberman calculate_overall_error_calculate_overall_inverse_f1_calculate_num_examples regSample_biasPop\n",
      "Passed on: 0_haberman calculate_class0_error_calculate_class1_error regSample_biasPop\n",
      "Passed on: 1_haberman calculate_overall_error_calculate_num_examples regSample_biasPop\n",
      "Passed on: 1_haberman calculate_overall_error_calculate_overall_inverse_f1_calculate_num_examples regSample_biasPop\n",
      "Passed on: 1_haberman calculate_class0_error_calculate_class1_error regSample_biasPop\n",
      "Passed on: 2_haberman calculate_overall_error_calculate_num_examples regSample_biasPop\n",
      "Passed on: 2_haberman calculate_overall_error_calculate_overall_inverse_f1_calculate_num_examples regSample_biasPop\n",
      "Passed on: 2_haberman calculate_class0_error_calculate_class1_error regSample_biasPop\n",
      "Passed on: 3_haberman calculate_overall_error_calculate_num_examples regSample_biasPop\n",
      "Passed on: 3_haberman calculate_overall_error_calculate_overall_inverse_f1_calculate_num_examples regSample_biasPop\n",
      "Passed on: 3_haberman calculate_class0_error_calculate_class1_error regSample_biasPop\n",
      "Passed on: 4_haberman calculate_overall_error_calculate_num_examples regSample_biasPop\n",
      "Passed on: 4_haberman calculate_overall_error_calculate_overall_inverse_f1_calculate_num_examples regSample_biasPop\n",
      "Passed on: 4_haberman calculate_class0_error_calculate_class1_error regSample_biasPop\n",
      "Passed on: 5_haberman calculate_overall_error_calculate_num_examples regSample_biasPop\n",
      "Passed on: 5_haberman calculate_overall_error_calculate_overall_inverse_f1_calculate_num_examples regSample_biasPop\n",
      "Passed on: 5_haberman calculate_class0_error_calculate_class1_error regSample_biasPop\n",
      "Passed on: 6_haberman calculate_overall_error_calculate_num_examples regSample_biasPop\n",
      "Passed on: 6_haberman calculate_overall_error_calculate_overall_inverse_f1_calculate_num_examples regSample_biasPop\n",
      "Passed on: 6_haberman calculate_class0_error_calculate_class1_error regSample_biasPop\n",
      "Passed on: 7_haberman calculate_overall_error_calculate_num_examples regSample_biasPop\n",
      "Passed on: 7_haberman calculate_overall_error_calculate_overall_inverse_f1_calculate_num_examples regSample_biasPop\n",
      "Passed on: 7_haberman calculate_class0_error_calculate_class1_error regSample_biasPop\n",
      "Passed on: 8_haberman calculate_overall_error_calculate_num_examples regSample_biasPop\n",
      "Passed on: 8_haberman calculate_overall_error_calculate_overall_inverse_f1_calculate_num_examples regSample_biasPop\n",
      "Passed on: 8_haberman calculate_class0_error_calculate_class1_error regSample_biasPop\n",
      "Passed on: 9_haberman calculate_overall_error_calculate_num_examples regSample_biasPop\n",
      "Passed on: 9_haberman calculate_overall_error_calculate_overall_inverse_f1_calculate_num_examples regSample_biasPop\n",
      "Passed on: 9_haberman calculate_class0_error_calculate_class1_error regSample_biasPop\n",
      "Passed on: 10_haberman calculate_overall_error_calculate_num_examples regSample_biasPop\n",
      "Passed on: 10_haberman calculate_overall_error_calculate_overall_inverse_f1_calculate_num_examples regSample_biasPop\n",
      "Passed on: 10_haberman calculate_class0_error_calculate_class1_error regSample_biasPop\n",
      "Passed on: 11_haberman calculate_overall_error_calculate_num_examples regSample_biasPop\n",
      "Passed on: 11_haberman calculate_overall_error_calculate_overall_inverse_f1_calculate_num_examples regSample_biasPop\n",
      "Passed on: 11_haberman calculate_class0_error_calculate_class1_error regSample_biasPop\n",
      "Passed on: 12_haberman calculate_overall_error_calculate_num_examples regSample_biasPop\n",
      "Passed on: 12_haberman calculate_overall_error_calculate_overall_inverse_f1_calculate_num_examples regSample_biasPop\n",
      "Passed on: 12_haberman calculate_class0_error_calculate_class1_error regSample_biasPop\n",
      "Passed on: 13_haberman calculate_overall_error_calculate_num_examples regSample_biasPop\n",
      "Passed on: 13_haberman calculate_overall_error_calculate_overall_inverse_f1_calculate_num_examples regSample_biasPop\n",
      "Passed on: 13_haberman calculate_class0_error_calculate_class1_error regSample_biasPop\n",
      "Passed on: 14_haberman calculate_overall_error_calculate_num_examples regSample_biasPop\n",
      "Passed on: 14_haberman calculate_overall_error_calculate_overall_inverse_f1_calculate_num_examples regSample_biasPop\n",
      "Passed on: 14_haberman calculate_class0_error_calculate_class1_error regSample_biasPop\n",
      "Passed on: 15_haberman calculate_overall_error_calculate_num_examples regSample_biasPop\n",
      "Passed on: 15_haberman calculate_overall_error_calculate_overall_inverse_f1_calculate_num_examples regSample_biasPop\n",
      "Passed on: 15_haberman calculate_class0_error_calculate_class1_error regSample_biasPop\n",
      "Passed on: 16_haberman calculate_overall_error_calculate_num_examples regSample_biasPop\n",
      "Passed on: 16_haberman calculate_overall_error_calculate_overall_inverse_f1_calculate_num_examples regSample_biasPop\n",
      "Passed on: 16_haberman calculate_class0_error_calculate_class1_error regSample_biasPop\n",
      "Passed on: 17_haberman calculate_overall_error_calculate_num_examples regSample_biasPop\n",
      "Passed on: 17_haberman calculate_overall_error_calculate_overall_inverse_f1_calculate_num_examples regSample_biasPop\n",
      "Passed on: 17_haberman calculate_class0_error_calculate_class1_error regSample_biasPop\n",
      "Passed on: 18_haberman calculate_overall_error_calculate_num_examples regSample_biasPop\n",
      "Passed on: 18_haberman calculate_overall_error_calculate_overall_inverse_f1_calculate_num_examples regSample_biasPop\n",
      "Passed on: 18_haberman calculate_class0_error_calculate_class1_error regSample_biasPop\n",
      "Passed on: 19_haberman calculate_overall_error_calculate_num_examples regSample_biasPop\n",
      "Passed on: 19_haberman calculate_overall_error_calculate_overall_inverse_f1_calculate_num_examples regSample_biasPop\n",
      "Passed on: 19_haberman calculate_class0_error_calculate_class1_error regSample_biasPop\n",
      "Passed on: 20_haberman calculate_overall_error_calculate_num_examples regSample_biasPop\n",
      "Passed on: 20_haberman calculate_overall_error_calculate_overall_inverse_f1_calculate_num_examples regSample_biasPop\n",
      "Passed on: 20_haberman calculate_class0_error_calculate_class1_error regSample_biasPop\n",
      "Passed on: 21_haberman calculate_overall_error_calculate_num_examples regSample_biasPop\n",
      "Passed on: 21_haberman calculate_overall_error_calculate_overall_inverse_f1_calculate_num_examples regSample_biasPop\n",
      "Passed on: 21_haberman calculate_class0_error_calculate_class1_error regSample_biasPop\n",
      "Passed on: 22_haberman calculate_overall_error_calculate_num_examples regSample_biasPop\n",
      "Passed on: 22_haberman calculate_overall_error_calculate_overall_inverse_f1_calculate_num_examples regSample_biasPop\n",
      "Passed on: 22_haberman calculate_class0_error_calculate_class1_error regSample_biasPop\n",
      "Passed on: 23_haberman calculate_overall_error_calculate_num_examples regSample_biasPop\n",
      "Passed on: 23_haberman calculate_overall_error_calculate_overall_inverse_f1_calculate_num_examples regSample_biasPop\n",
      "Passed on: 23_haberman calculate_class0_error_calculate_class1_error regSample_biasPop\n",
      "Passed on: 24_haberman calculate_overall_error_calculate_num_examples regSample_biasPop\n",
      "Passed on: 24_haberman calculate_overall_error_calculate_overall_inverse_f1_calculate_num_examples regSample_biasPop\n",
      "Passed on: 24_haberman calculate_class0_error_calculate_class1_error regSample_biasPop\n",
      "Passed on: 25_haberman calculate_overall_error_calculate_num_examples regSample_biasPop\n",
      "Passed on: 25_haberman calculate_overall_error_calculate_overall_inverse_f1_calculate_num_examples regSample_biasPop\n",
      "Passed on: 25_haberman calculate_class0_error_calculate_class1_error regSample_biasPop\n",
      "Passed on: 26_haberman calculate_overall_error_calculate_num_examples regSample_biasPop\n",
      "Passed on: 26_haberman calculate_overall_error_calculate_overall_inverse_f1_calculate_num_examples regSample_biasPop\n",
      "Passed on: 26_haberman calculate_class0_error_calculate_class1_error regSample_biasPop\n",
      "Passed on: 27_haberman calculate_overall_error_calculate_num_examples regSample_biasPop\n",
      "Passed on: 27_haberman calculate_overall_error_calculate_overall_inverse_f1_calculate_num_examples regSample_biasPop\n",
      "Passed on: 27_haberman calculate_class0_error_calculate_class1_error regSample_biasPop\n",
      "Passed on: 28_haberman calculate_overall_error_calculate_num_examples regSample_biasPop\n",
      "Passed on: 28_haberman calculate_overall_error_calculate_overall_inverse_f1_calculate_num_examples regSample_biasPop\n",
      "Passed on: 28_haberman calculate_class0_error_calculate_class1_error regSample_biasPop\n",
      "Passed on: 29_haberman calculate_overall_error_calculate_num_examples regSample_biasPop\n",
      "Passed on: 29_haberman calculate_overall_error_calculate_overall_inverse_f1_calculate_num_examples regSample_biasPop\n",
      "Passed on: 29_haberman calculate_class0_error_calculate_class1_error regSample_biasPop\n",
      "Passed on: 30_haberman calculate_overall_error_calculate_num_examples regSample_biasPop\n",
      "Passed on: 30_haberman calculate_overall_error_calculate_overall_inverse_f1_calculate_num_examples regSample_biasPop\n",
      "Passed on: 30_haberman calculate_class0_error_calculate_class1_error regSample_biasPop\n"
     ]
    },
    {
     "name": "stderr",
     "output_type": "stream",
     "text": [
      "e:\\Code\\3_13_venv\\Lib\\site-packages\\sklearn\\preprocessing\\_label.py:110: DataConversionWarning: A column-vector y was passed when a 1d array was expected. Please change the shape of y to (n_samples, ), for example using ravel().\n",
      "  y = column_or_1d(y, warn=True)\n",
      "e:\\Code\\3_13_venv\\Lib\\site-packages\\sklearn\\preprocessing\\_label.py:110: DataConversionWarning: A column-vector y was passed when a 1d array was expected. Please change the shape of y to (n_samples, ), for example using ravel().\n",
      "  y = column_or_1d(y, warn=True)\n"
     ]
    },
    {
     "name": "stdout",
     "output_type": "stream",
     "text": [
      "Passed on: 0_iris0 calculate_overall_error_calculate_num_examples regSample_biasPop\n",
      "Passed on: 0_iris0 calculate_overall_error_calculate_overall_inverse_f1_calculate_num_examples regSample_biasPop\n",
      "Passed on: 0_iris0 calculate_class0_error_calculate_class1_error regSample_biasPop\n",
      "Passed on: 1_iris0 calculate_overall_error_calculate_num_examples regSample_biasPop\n",
      "Passed on: 1_iris0 calculate_overall_error_calculate_overall_inverse_f1_calculate_num_examples regSample_biasPop\n",
      "Passed on: 1_iris0 calculate_class0_error_calculate_class1_error regSample_biasPop\n",
      "Passed on: 2_iris0 calculate_overall_error_calculate_num_examples regSample_biasPop\n",
      "Passed on: 2_iris0 calculate_overall_error_calculate_overall_inverse_f1_calculate_num_examples regSample_biasPop\n",
      "Passed on: 2_iris0 calculate_class0_error_calculate_class1_error regSample_biasPop\n",
      "Passed on: 3_iris0 calculate_overall_error_calculate_num_examples regSample_biasPop\n",
      "Passed on: 3_iris0 calculate_overall_error_calculate_overall_inverse_f1_calculate_num_examples regSample_biasPop\n",
      "Passed on: 3_iris0 calculate_class0_error_calculate_class1_error regSample_biasPop\n",
      "Passed on: 4_iris0 calculate_overall_error_calculate_num_examples regSample_biasPop\n",
      "Passed on: 4_iris0 calculate_overall_error_calculate_overall_inverse_f1_calculate_num_examples regSample_biasPop\n",
      "Passed on: 4_iris0 calculate_class0_error_calculate_class1_error regSample_biasPop\n",
      "Passed on: 5_iris0 calculate_overall_error_calculate_num_examples regSample_biasPop\n",
      "Passed on: 5_iris0 calculate_overall_error_calculate_overall_inverse_f1_calculate_num_examples regSample_biasPop\n",
      "Passed on: 5_iris0 calculate_class0_error_calculate_class1_error regSample_biasPop\n",
      "Passed on: 6_iris0 calculate_overall_error_calculate_num_examples regSample_biasPop\n",
      "Passed on: 6_iris0 calculate_overall_error_calculate_overall_inverse_f1_calculate_num_examples regSample_biasPop\n",
      "Passed on: 6_iris0 calculate_class0_error_calculate_class1_error regSample_biasPop\n",
      "Passed on: 7_iris0 calculate_overall_error_calculate_num_examples regSample_biasPop\n",
      "Passed on: 7_iris0 calculate_overall_error_calculate_overall_inverse_f1_calculate_num_examples regSample_biasPop\n",
      "Passed on: 7_iris0 calculate_class0_error_calculate_class1_error regSample_biasPop\n",
      "Passed on: 8_iris0 calculate_overall_error_calculate_num_examples regSample_biasPop\n",
      "Passed on: 8_iris0 calculate_overall_error_calculate_overall_inverse_f1_calculate_num_examples regSample_biasPop\n",
      "Passed on: 8_iris0 calculate_class0_error_calculate_class1_error regSample_biasPop\n",
      "Passed on: 9_iris0 calculate_overall_error_calculate_num_examples regSample_biasPop\n",
      "Passed on: 9_iris0 calculate_overall_error_calculate_overall_inverse_f1_calculate_num_examples regSample_biasPop\n",
      "Passed on: 9_iris0 calculate_class0_error_calculate_class1_error regSample_biasPop\n",
      "Passed on: 10_iris0 calculate_overall_error_calculate_num_examples regSample_biasPop\n",
      "Passed on: 10_iris0 calculate_overall_error_calculate_overall_inverse_f1_calculate_num_examples regSample_biasPop\n",
      "Passed on: 10_iris0 calculate_class0_error_calculate_class1_error regSample_biasPop\n",
      "Passed on: 11_iris0 calculate_overall_error_calculate_num_examples regSample_biasPop\n",
      "Passed on: 11_iris0 calculate_overall_error_calculate_overall_inverse_f1_calculate_num_examples regSample_biasPop\n",
      "Passed on: 11_iris0 calculate_class0_error_calculate_class1_error regSample_biasPop\n",
      "Passed on: 12_iris0 calculate_overall_error_calculate_num_examples regSample_biasPop\n",
      "Passed on: 12_iris0 calculate_overall_error_calculate_overall_inverse_f1_calculate_num_examples regSample_biasPop\n",
      "Passed on: 12_iris0 calculate_class0_error_calculate_class1_error regSample_biasPop\n",
      "Passed on: 13_iris0 calculate_overall_error_calculate_num_examples regSample_biasPop\n",
      "Passed on: 13_iris0 calculate_overall_error_calculate_overall_inverse_f1_calculate_num_examples regSample_biasPop\n",
      "Passed on: 13_iris0 calculate_class0_error_calculate_class1_error regSample_biasPop\n",
      "Passed on: 14_iris0 calculate_overall_error_calculate_num_examples regSample_biasPop\n",
      "Passed on: 14_iris0 calculate_overall_error_calculate_overall_inverse_f1_calculate_num_examples regSample_biasPop\n",
      "Passed on: 14_iris0 calculate_class0_error_calculate_class1_error regSample_biasPop\n",
      "Passed on: 15_iris0 calculate_overall_error_calculate_num_examples regSample_biasPop\n",
      "Passed on: 15_iris0 calculate_overall_error_calculate_overall_inverse_f1_calculate_num_examples regSample_biasPop\n",
      "Passed on: 15_iris0 calculate_class0_error_calculate_class1_error regSample_biasPop\n",
      "Passed on: 16_iris0 calculate_overall_error_calculate_num_examples regSample_biasPop\n",
      "Passed on: 16_iris0 calculate_overall_error_calculate_overall_inverse_f1_calculate_num_examples regSample_biasPop\n",
      "Passed on: 16_iris0 calculate_class0_error_calculate_class1_error regSample_biasPop\n",
      "Passed on: 17_iris0 calculate_overall_error_calculate_num_examples regSample_biasPop\n",
      "Passed on: 17_iris0 calculate_overall_error_calculate_overall_inverse_f1_calculate_num_examples regSample_biasPop\n",
      "Passed on: 17_iris0 calculate_class0_error_calculate_class1_error regSample_biasPop\n",
      "Passed on: 18_iris0 calculate_overall_error_calculate_num_examples regSample_biasPop\n",
      "Passed on: 18_iris0 calculate_overall_error_calculate_overall_inverse_f1_calculate_num_examples regSample_biasPop\n",
      "Passed on: 18_iris0 calculate_class0_error_calculate_class1_error regSample_biasPop\n",
      "Passed on: 19_iris0 calculate_overall_error_calculate_num_examples regSample_biasPop\n",
      "Passed on: 19_iris0 calculate_overall_error_calculate_overall_inverse_f1_calculate_num_examples regSample_biasPop\n",
      "Passed on: 19_iris0 calculate_class0_error_calculate_class1_error regSample_biasPop\n",
      "Passed on: 20_iris0 calculate_overall_error_calculate_num_examples regSample_biasPop\n",
      "Passed on: 20_iris0 calculate_overall_error_calculate_overall_inverse_f1_calculate_num_examples regSample_biasPop\n",
      "Passed on: 20_iris0 calculate_class0_error_calculate_class1_error regSample_biasPop\n",
      "Passed on: 21_iris0 calculate_overall_error_calculate_num_examples regSample_biasPop\n",
      "Passed on: 21_iris0 calculate_overall_error_calculate_overall_inverse_f1_calculate_num_examples regSample_biasPop\n",
      "Passed on: 21_iris0 calculate_class0_error_calculate_class1_error regSample_biasPop\n",
      "Passed on: 22_iris0 calculate_overall_error_calculate_num_examples regSample_biasPop\n",
      "Passed on: 22_iris0 calculate_overall_error_calculate_overall_inverse_f1_calculate_num_examples regSample_biasPop\n",
      "Passed on: 22_iris0 calculate_class0_error_calculate_class1_error regSample_biasPop\n",
      "Passed on: 23_iris0 calculate_overall_error_calculate_num_examples regSample_biasPop\n",
      "Passed on: 23_iris0 calculate_overall_error_calculate_overall_inverse_f1_calculate_num_examples regSample_biasPop\n",
      "Passed on: 23_iris0 calculate_class0_error_calculate_class1_error regSample_biasPop\n",
      "Passed on: 24_iris0 calculate_overall_error_calculate_num_examples regSample_biasPop\n",
      "Passed on: 24_iris0 calculate_overall_error_calculate_overall_inverse_f1_calculate_num_examples regSample_biasPop\n",
      "Passed on: 24_iris0 calculate_class0_error_calculate_class1_error regSample_biasPop\n",
      "Passed on: 25_iris0 calculate_overall_error_calculate_num_examples regSample_biasPop\n",
      "Passed on: 25_iris0 calculate_overall_error_calculate_overall_inverse_f1_calculate_num_examples regSample_biasPop\n",
      "Passed on: 25_iris0 calculate_class0_error_calculate_class1_error regSample_biasPop\n",
      "Passed on: 26_iris0 calculate_overall_error_calculate_num_examples regSample_biasPop\n",
      "Passed on: 26_iris0 calculate_overall_error_calculate_overall_inverse_f1_calculate_num_examples regSample_biasPop\n",
      "Passed on: 26_iris0 calculate_class0_error_calculate_class1_error regSample_biasPop\n",
      "Passed on: 27_iris0 calculate_overall_error_calculate_num_examples regSample_biasPop\n",
      "Passed on: 27_iris0 calculate_overall_error_calculate_overall_inverse_f1_calculate_num_examples regSample_biasPop\n",
      "Passed on: 27_iris0 calculate_class0_error_calculate_class1_error regSample_biasPop\n",
      "Passed on: 28_iris0 calculate_overall_error_calculate_num_examples regSample_biasPop\n",
      "Passed on: 28_iris0 calculate_overall_error_calculate_overall_inverse_f1_calculate_num_examples regSample_biasPop\n",
      "Passed on: 28_iris0 calculate_class0_error_calculate_class1_error regSample_biasPop\n",
      "Passed on: 29_iris0 calculate_overall_error_calculate_num_examples regSample_biasPop\n",
      "Passed on: 29_iris0 calculate_overall_error_calculate_overall_inverse_f1_calculate_num_examples regSample_biasPop\n",
      "Passed on: 29_iris0 calculate_class0_error_calculate_class1_error regSample_biasPop\n",
      "Passed on: 30_iris0 calculate_overall_error_calculate_num_examples regSample_biasPop\n",
      "Passed on: 30_iris0 calculate_overall_error_calculate_overall_inverse_f1_calculate_num_examples regSample_biasPop\n",
      "Passed on: 30_iris0 calculate_class0_error_calculate_class1_error regSample_biasPop\n",
      "Passed on: 0_glass1 calculate_overall_error_calculate_num_examples regSample_biasPop\n",
      "Passed on: 0_glass1 calculate_overall_error_calculate_overall_inverse_f1_calculate_num_examples regSample_biasPop\n",
      "Passed on: 0_glass1 calculate_class0_error_calculate_class1_error regSample_biasPop\n",
      "Passed on: 1_glass1 calculate_overall_error_calculate_num_examples regSample_biasPop\n",
      "Passed on: 1_glass1 calculate_overall_error_calculate_overall_inverse_f1_calculate_num_examples regSample_biasPop\n",
      "Passed on: 1_glass1 calculate_class0_error_calculate_class1_error regSample_biasPop\n",
      "Passed on: 2_glass1 calculate_overall_error_calculate_num_examples regSample_biasPop\n",
      "Passed on: 2_glass1 calculate_overall_error_calculate_overall_inverse_f1_calculate_num_examples regSample_biasPop\n",
      "Passed on: 2_glass1 calculate_class0_error_calculate_class1_error regSample_biasPop\n",
      "Passed on: 3_glass1 calculate_overall_error_calculate_num_examples regSample_biasPop\n",
      "Passed on: 3_glass1 calculate_overall_error_calculate_overall_inverse_f1_calculate_num_examples regSample_biasPop\n",
      "Passed on: 3_glass1 calculate_class0_error_calculate_class1_error regSample_biasPop\n",
      "Passed on: 4_glass1 calculate_overall_error_calculate_num_examples regSample_biasPop\n",
      "Passed on: 4_glass1 calculate_overall_error_calculate_overall_inverse_f1_calculate_num_examples regSample_biasPop\n",
      "Passed on: 4_glass1 calculate_class0_error_calculate_class1_error regSample_biasPop\n",
      "Passed on: 5_glass1 calculate_overall_error_calculate_num_examples regSample_biasPop\n",
      "Passed on: 5_glass1 calculate_overall_error_calculate_overall_inverse_f1_calculate_num_examples regSample_biasPop\n",
      "Passed on: 5_glass1 calculate_class0_error_calculate_class1_error regSample_biasPop\n",
      "Passed on: 6_glass1 calculate_overall_error_calculate_num_examples regSample_biasPop\n",
      "Passed on: 6_glass1 calculate_overall_error_calculate_overall_inverse_f1_calculate_num_examples regSample_biasPop\n",
      "Passed on: 6_glass1 calculate_class0_error_calculate_class1_error regSample_biasPop\n",
      "Passed on: 7_glass1 calculate_overall_error_calculate_num_examples regSample_biasPop\n",
      "Passed on: 7_glass1 calculate_overall_error_calculate_overall_inverse_f1_calculate_num_examples regSample_biasPop\n",
      "Passed on: 7_glass1 calculate_class0_error_calculate_class1_error regSample_biasPop\n",
      "Passed on: 8_glass1 calculate_overall_error_calculate_num_examples regSample_biasPop\n",
      "Passed on: 8_glass1 calculate_overall_error_calculate_overall_inverse_f1_calculate_num_examples regSample_biasPop\n",
      "Passed on: 8_glass1 calculate_class0_error_calculate_class1_error regSample_biasPop\n",
      "Passed on: 9_glass1 calculate_overall_error_calculate_num_examples regSample_biasPop\n",
      "Passed on: 9_glass1 calculate_overall_error_calculate_overall_inverse_f1_calculate_num_examples regSample_biasPop\n",
      "Passed on: 9_glass1 calculate_class0_error_calculate_class1_error regSample_biasPop\n",
      "Passed on: 10_glass1 calculate_overall_error_calculate_num_examples regSample_biasPop\n",
      "Passed on: 10_glass1 calculate_overall_error_calculate_overall_inverse_f1_calculate_num_examples regSample_biasPop\n",
      "Passed on: 10_glass1 calculate_class0_error_calculate_class1_error regSample_biasPop\n",
      "Passed on: 11_glass1 calculate_overall_error_calculate_num_examples regSample_biasPop\n",
      "Passed on: 11_glass1 calculate_overall_error_calculate_overall_inverse_f1_calculate_num_examples regSample_biasPop\n",
      "Passed on: 11_glass1 calculate_class0_error_calculate_class1_error regSample_biasPop\n",
      "Passed on: 12_glass1 calculate_overall_error_calculate_num_examples regSample_biasPop\n",
      "Passed on: 12_glass1 calculate_overall_error_calculate_overall_inverse_f1_calculate_num_examples regSample_biasPop\n",
      "Passed on: 12_glass1 calculate_class0_error_calculate_class1_error regSample_biasPop\n",
      "Passed on: 13_glass1 calculate_overall_error_calculate_num_examples regSample_biasPop\n",
      "Passed on: 13_glass1 calculate_overall_error_calculate_overall_inverse_f1_calculate_num_examples regSample_biasPop\n",
      "Passed on: 13_glass1 calculate_class0_error_calculate_class1_error regSample_biasPop\n",
      "Passed on: 14_glass1 calculate_overall_error_calculate_num_examples regSample_biasPop\n",
      "Passed on: 14_glass1 calculate_overall_error_calculate_overall_inverse_f1_calculate_num_examples regSample_biasPop\n",
      "Passed on: 14_glass1 calculate_class0_error_calculate_class1_error regSample_biasPop\n",
      "Passed on: 15_glass1 calculate_overall_error_calculate_num_examples regSample_biasPop\n",
      "Passed on: 15_glass1 calculate_overall_error_calculate_overall_inverse_f1_calculate_num_examples regSample_biasPop\n",
      "Passed on: 15_glass1 calculate_class0_error_calculate_class1_error regSample_biasPop\n",
      "Passed on: 16_glass1 calculate_overall_error_calculate_num_examples regSample_biasPop\n",
      "Passed on: 16_glass1 calculate_overall_error_calculate_overall_inverse_f1_calculate_num_examples regSample_biasPop\n",
      "Passed on: 16_glass1 calculate_class0_error_calculate_class1_error regSample_biasPop\n",
      "Passed on: 17_glass1 calculate_overall_error_calculate_num_examples regSample_biasPop\n",
      "Passed on: 17_glass1 calculate_overall_error_calculate_overall_inverse_f1_calculate_num_examples regSample_biasPop\n",
      "Passed on: 17_glass1 calculate_class0_error_calculate_class1_error regSample_biasPop\n",
      "Passed on: 18_glass1 calculate_overall_error_calculate_num_examples regSample_biasPop\n",
      "Passed on: 18_glass1 calculate_overall_error_calculate_overall_inverse_f1_calculate_num_examples regSample_biasPop\n",
      "Passed on: 18_glass1 calculate_class0_error_calculate_class1_error regSample_biasPop\n",
      "Passed on: 19_glass1 calculate_overall_error_calculate_num_examples regSample_biasPop\n",
      "Passed on: 19_glass1 calculate_overall_error_calculate_overall_inverse_f1_calculate_num_examples regSample_biasPop\n",
      "Passed on: 19_glass1 calculate_class0_error_calculate_class1_error regSample_biasPop\n",
      "Passed on: 20_glass1 calculate_overall_error_calculate_num_examples regSample_biasPop\n",
      "Passed on: 20_glass1 calculate_overall_error_calculate_overall_inverse_f1_calculate_num_examples regSample_biasPop\n",
      "Passed on: 20_glass1 calculate_class0_error_calculate_class1_error regSample_biasPop\n",
      "Passed on: 21_glass1 calculate_overall_error_calculate_num_examples regSample_biasPop\n",
      "Passed on: 21_glass1 calculate_overall_error_calculate_overall_inverse_f1_calculate_num_examples regSample_biasPop\n",
      "Passed on: 21_glass1 calculate_class0_error_calculate_class1_error regSample_biasPop\n",
      "Passed on: 22_glass1 calculate_overall_error_calculate_num_examples regSample_biasPop\n",
      "Passed on: 22_glass1 calculate_overall_error_calculate_overall_inverse_f1_calculate_num_examples regSample_biasPop\n",
      "Passed on: 22_glass1 calculate_class0_error_calculate_class1_error regSample_biasPop\n",
      "Passed on: 23_glass1 calculate_overall_error_calculate_num_examples regSample_biasPop\n",
      "Passed on: 23_glass1 calculate_overall_error_calculate_overall_inverse_f1_calculate_num_examples regSample_biasPop\n",
      "Passed on: 23_glass1 calculate_class0_error_calculate_class1_error regSample_biasPop\n",
      "Passed on: 24_glass1 calculate_overall_error_calculate_num_examples regSample_biasPop\n",
      "Passed on: 24_glass1 calculate_overall_error_calculate_overall_inverse_f1_calculate_num_examples regSample_biasPop\n",
      "Passed on: 24_glass1 calculate_class0_error_calculate_class1_error regSample_biasPop\n",
      "Passed on: 25_glass1 calculate_overall_error_calculate_num_examples regSample_biasPop\n",
      "Passed on: 25_glass1 calculate_overall_error_calculate_overall_inverse_f1_calculate_num_examples regSample_biasPop\n",
      "Passed on: 25_glass1 calculate_class0_error_calculate_class1_error regSample_biasPop\n",
      "Passed on: 26_glass1 calculate_overall_error_calculate_num_examples regSample_biasPop\n",
      "Passed on: 26_glass1 calculate_overall_error_calculate_overall_inverse_f1_calculate_num_examples regSample_biasPop\n",
      "Passed on: 26_glass1 calculate_class0_error_calculate_class1_error regSample_biasPop\n",
      "Passed on: 27_glass1 calculate_overall_error_calculate_num_examples regSample_biasPop\n",
      "Passed on: 27_glass1 calculate_overall_error_calculate_overall_inverse_f1_calculate_num_examples regSample_biasPop\n",
      "Passed on: 27_glass1 calculate_class0_error_calculate_class1_error regSample_biasPop\n",
      "Passed on: 28_glass1 calculate_overall_error_calculate_num_examples regSample_biasPop\n",
      "Passed on: 28_glass1 calculate_overall_error_calculate_overall_inverse_f1_calculate_num_examples regSample_biasPop\n",
      "Passed on: 28_glass1 calculate_class0_error_calculate_class1_error regSample_biasPop\n",
      "Passed on: 29_glass1 calculate_overall_error_calculate_num_examples regSample_biasPop\n",
      "Passed on: 29_glass1 calculate_overall_error_calculate_overall_inverse_f1_calculate_num_examples regSample_biasPop\n",
      "Passed on: 29_glass1 calculate_class0_error_calculate_class1_error regSample_biasPop\n",
      "Passed on: 30_glass1 calculate_overall_error_calculate_num_examples regSample_biasPop\n",
      "Passed on: 30_glass1 calculate_overall_error_calculate_overall_inverse_f1_calculate_num_examples regSample_biasPop\n",
      "Passed on: 30_glass1 calculate_class0_error_calculate_class1_error regSample_biasPop\n"
     ]
    },
    {
     "name": "stderr",
     "output_type": "stream",
     "text": [
      "e:\\Code\\3_13_venv\\Lib\\site-packages\\sklearn\\preprocessing\\_label.py:110: DataConversionWarning: A column-vector y was passed when a 1d array was expected. Please change the shape of y to (n_samples, ), for example using ravel().\n",
      "  y = column_or_1d(y, warn=True)\n",
      "e:\\Code\\3_13_venv\\Lib\\site-packages\\sklearn\\preprocessing\\_label.py:110: DataConversionWarning: A column-vector y was passed when a 1d array was expected. Please change the shape of y to (n_samples, ), for example using ravel().\n",
      "  y = column_or_1d(y, warn=True)\n"
     ]
    },
    {
     "name": "stdout",
     "output_type": "stream",
     "text": [
      "Passed on: 0_australia calculate_overall_error_calculate_num_examples regSample_biasPop\n",
      "Passed on: 0_australia calculate_overall_error_calculate_overall_inverse_f1_calculate_num_examples regSample_biasPop\n",
      "Passed on: 0_australia calculate_class0_error_calculate_class1_error regSample_biasPop\n",
      "Passed on: 1_australia calculate_overall_error_calculate_num_examples regSample_biasPop\n",
      "Passed on: 1_australia calculate_overall_error_calculate_overall_inverse_f1_calculate_num_examples regSample_biasPop\n",
      "Passed on: 1_australia calculate_class0_error_calculate_class1_error regSample_biasPop\n",
      "Passed on: 2_australia calculate_overall_error_calculate_num_examples regSample_biasPop\n",
      "Passed on: 2_australia calculate_overall_error_calculate_overall_inverse_f1_calculate_num_examples regSample_biasPop\n",
      "Passed on: 2_australia calculate_class0_error_calculate_class1_error regSample_biasPop\n",
      "Passed on: 3_australia calculate_overall_error_calculate_num_examples regSample_biasPop\n",
      "Passed on: 3_australia calculate_overall_error_calculate_overall_inverse_f1_calculate_num_examples regSample_biasPop\n",
      "Passed on: 3_australia calculate_class0_error_calculate_class1_error regSample_biasPop\n",
      "Passed on: 4_australia calculate_overall_error_calculate_num_examples regSample_biasPop\n",
      "Passed on: 4_australia calculate_overall_error_calculate_overall_inverse_f1_calculate_num_examples regSample_biasPop\n",
      "Passed on: 4_australia calculate_class0_error_calculate_class1_error regSample_biasPop\n",
      "Passed on: 5_australia calculate_overall_error_calculate_num_examples regSample_biasPop\n",
      "Passed on: 5_australia calculate_overall_error_calculate_overall_inverse_f1_calculate_num_examples regSample_biasPop\n",
      "Passed on: 5_australia calculate_class0_error_calculate_class1_error regSample_biasPop\n",
      "Passed on: 6_australia calculate_overall_error_calculate_num_examples regSample_biasPop\n",
      "Passed on: 6_australia calculate_overall_error_calculate_overall_inverse_f1_calculate_num_examples regSample_biasPop\n",
      "Passed on: 6_australia calculate_class0_error_calculate_class1_error regSample_biasPop\n",
      "Passed on: 7_australia calculate_overall_error_calculate_num_examples regSample_biasPop\n",
      "Passed on: 7_australia calculate_overall_error_calculate_overall_inverse_f1_calculate_num_examples regSample_biasPop\n",
      "Passed on: 7_australia calculate_class0_error_calculate_class1_error regSample_biasPop\n",
      "Passed on: 8_australia calculate_overall_error_calculate_num_examples regSample_biasPop\n",
      "Passed on: 8_australia calculate_overall_error_calculate_overall_inverse_f1_calculate_num_examples regSample_biasPop\n",
      "Passed on: 8_australia calculate_class0_error_calculate_class1_error regSample_biasPop\n",
      "Passed on: 9_australia calculate_overall_error_calculate_num_examples regSample_biasPop\n",
      "Passed on: 9_australia calculate_overall_error_calculate_overall_inverse_f1_calculate_num_examples regSample_biasPop\n",
      "Passed on: 9_australia calculate_class0_error_calculate_class1_error regSample_biasPop\n",
      "Passed on: 10_australia calculate_overall_error_calculate_num_examples regSample_biasPop\n",
      "Passed on: 10_australia calculate_overall_error_calculate_overall_inverse_f1_calculate_num_examples regSample_biasPop\n",
      "Passed on: 10_australia calculate_class0_error_calculate_class1_error regSample_biasPop\n",
      "Passed on: 11_australia calculate_overall_error_calculate_num_examples regSample_biasPop\n",
      "Passed on: 11_australia calculate_overall_error_calculate_overall_inverse_f1_calculate_num_examples regSample_biasPop\n",
      "Passed on: 11_australia calculate_class0_error_calculate_class1_error regSample_biasPop\n",
      "Passed on: 12_australia calculate_overall_error_calculate_num_examples regSample_biasPop\n",
      "Passed on: 12_australia calculate_overall_error_calculate_overall_inverse_f1_calculate_num_examples regSample_biasPop\n",
      "Passed on: 12_australia calculate_class0_error_calculate_class1_error regSample_biasPop\n",
      "Passed on: 13_australia calculate_overall_error_calculate_num_examples regSample_biasPop\n",
      "Passed on: 13_australia calculate_overall_error_calculate_overall_inverse_f1_calculate_num_examples regSample_biasPop\n",
      "Passed on: 13_australia calculate_class0_error_calculate_class1_error regSample_biasPop\n",
      "Passed on: 14_australia calculate_overall_error_calculate_num_examples regSample_biasPop\n",
      "Passed on: 14_australia calculate_overall_error_calculate_overall_inverse_f1_calculate_num_examples regSample_biasPop\n",
      "Passed on: 14_australia calculate_class0_error_calculate_class1_error regSample_biasPop\n",
      "Passed on: 15_australia calculate_overall_error_calculate_num_examples regSample_biasPop\n",
      "Passed on: 15_australia calculate_overall_error_calculate_overall_inverse_f1_calculate_num_examples regSample_biasPop\n",
      "Passed on: 15_australia calculate_class0_error_calculate_class1_error regSample_biasPop\n",
      "Passed on: 16_australia calculate_overall_error_calculate_num_examples regSample_biasPop\n",
      "Passed on: 16_australia calculate_overall_error_calculate_overall_inverse_f1_calculate_num_examples regSample_biasPop\n",
      "Passed on: 16_australia calculate_class0_error_calculate_class1_error regSample_biasPop\n",
      "Passed on: 17_australia calculate_overall_error_calculate_num_examples regSample_biasPop\n",
      "Passed on: 17_australia calculate_overall_error_calculate_overall_inverse_f1_calculate_num_examples regSample_biasPop\n",
      "Passed on: 17_australia calculate_class0_error_calculate_class1_error regSample_biasPop\n",
      "Passed on: 18_australia calculate_overall_error_calculate_num_examples regSample_biasPop\n",
      "Passed on: 18_australia calculate_overall_error_calculate_overall_inverse_f1_calculate_num_examples regSample_biasPop\n",
      "Passed on: 18_australia calculate_class0_error_calculate_class1_error regSample_biasPop\n",
      "Passed on: 19_australia calculate_overall_error_calculate_num_examples regSample_biasPop\n",
      "Passed on: 19_australia calculate_overall_error_calculate_overall_inverse_f1_calculate_num_examples regSample_biasPop\n",
      "Passed on: 19_australia calculate_class0_error_calculate_class1_error regSample_biasPop\n",
      "Passed on: 20_australia calculate_overall_error_calculate_num_examples regSample_biasPop\n",
      "Passed on: 20_australia calculate_overall_error_calculate_overall_inverse_f1_calculate_num_examples regSample_biasPop\n",
      "Passed on: 20_australia calculate_class0_error_calculate_class1_error regSample_biasPop\n",
      "Passed on: 21_australia calculate_overall_error_calculate_num_examples regSample_biasPop\n",
      "Passed on: 21_australia calculate_overall_error_calculate_overall_inverse_f1_calculate_num_examples regSample_biasPop\n",
      "Passed on: 21_australia calculate_class0_error_calculate_class1_error regSample_biasPop\n",
      "Passed on: 22_australia calculate_overall_error_calculate_num_examples regSample_biasPop\n",
      "Passed on: 22_australia calculate_overall_error_calculate_overall_inverse_f1_calculate_num_examples regSample_biasPop\n",
      "Passed on: 22_australia calculate_class0_error_calculate_class1_error regSample_biasPop\n",
      "Passed on: 23_australia calculate_overall_error_calculate_num_examples regSample_biasPop\n",
      "Passed on: 23_australia calculate_overall_error_calculate_overall_inverse_f1_calculate_num_examples regSample_biasPop\n",
      "Passed on: 23_australia calculate_class0_error_calculate_class1_error regSample_biasPop\n",
      "Passed on: 24_australia calculate_overall_error_calculate_num_examples regSample_biasPop\n",
      "Passed on: 24_australia calculate_overall_error_calculate_overall_inverse_f1_calculate_num_examples regSample_biasPop\n",
      "Passed on: 24_australia calculate_class0_error_calculate_class1_error regSample_biasPop\n",
      "Passed on: 25_australia calculate_overall_error_calculate_num_examples regSample_biasPop\n",
      "Passed on: 25_australia calculate_overall_error_calculate_overall_inverse_f1_calculate_num_examples regSample_biasPop\n",
      "Passed on: 25_australia calculate_class0_error_calculate_class1_error regSample_biasPop\n",
      "Passed on: 26_australia calculate_overall_error_calculate_num_examples regSample_biasPop\n",
      "Passed on: 26_australia calculate_overall_error_calculate_overall_inverse_f1_calculate_num_examples regSample_biasPop\n",
      "Passed on: 26_australia calculate_class0_error_calculate_class1_error regSample_biasPop\n",
      "Passed on: 27_australia calculate_overall_error_calculate_num_examples regSample_biasPop\n",
      "Passed on: 27_australia calculate_overall_error_calculate_overall_inverse_f1_calculate_num_examples regSample_biasPop\n",
      "Passed on: 27_australia calculate_class0_error_calculate_class1_error regSample_biasPop\n",
      "Passed on: 28_australia calculate_overall_error_calculate_num_examples regSample_biasPop\n",
      "Passed on: 28_australia calculate_overall_error_calculate_overall_inverse_f1_calculate_num_examples regSample_biasPop\n",
      "Passed on: 28_australia calculate_class0_error_calculate_class1_error regSample_biasPop\n",
      "Passed on: 29_australia calculate_overall_error_calculate_num_examples regSample_biasPop\n",
      "Passed on: 29_australia calculate_overall_error_calculate_overall_inverse_f1_calculate_num_examples regSample_biasPop\n",
      "Passed on: 29_australia calculate_class0_error_calculate_class1_error regSample_biasPop\n",
      "Passed on: 30_australia calculate_overall_error_calculate_num_examples regSample_biasPop\n",
      "Passed on: 30_australia calculate_overall_error_calculate_overall_inverse_f1_calculate_num_examples regSample_biasPop\n",
      "Passed on: 30_australia calculate_class0_error_calculate_class1_error regSample_biasPop\n",
      "Passed on: 0_thoracic calculate_overall_error_calculate_num_examples regSample_biasPop\n",
      "Passed on: 0_thoracic calculate_overall_error_calculate_overall_inverse_f1_calculate_num_examples regSample_biasPop\n",
      "Passed on: 0_thoracic calculate_class0_error_calculate_class1_error regSample_biasPop\n",
      "Passed on: 1_thoracic calculate_overall_error_calculate_num_examples regSample_biasPop\n",
      "Passed on: 1_thoracic calculate_overall_error_calculate_overall_inverse_f1_calculate_num_examples regSample_biasPop\n",
      "Passed on: 1_thoracic calculate_class0_error_calculate_class1_error regSample_biasPop\n",
      "Passed on: 2_thoracic calculate_overall_error_calculate_num_examples regSample_biasPop\n",
      "Passed on: 2_thoracic calculate_overall_error_calculate_overall_inverse_f1_calculate_num_examples regSample_biasPop\n",
      "Passed on: 2_thoracic calculate_class0_error_calculate_class1_error regSample_biasPop\n",
      "Passed on: 3_thoracic calculate_overall_error_calculate_num_examples regSample_biasPop\n",
      "Passed on: 3_thoracic calculate_overall_error_calculate_overall_inverse_f1_calculate_num_examples regSample_biasPop\n",
      "Passed on: 3_thoracic calculate_class0_error_calculate_class1_error regSample_biasPop\n",
      "Passed on: 4_thoracic calculate_overall_error_calculate_num_examples regSample_biasPop\n",
      "Passed on: 4_thoracic calculate_overall_error_calculate_overall_inverse_f1_calculate_num_examples regSample_biasPop\n",
      "Passed on: 4_thoracic calculate_class0_error_calculate_class1_error regSample_biasPop\n",
      "Passed on: 5_thoracic calculate_overall_error_calculate_num_examples regSample_biasPop\n",
      "Passed on: 5_thoracic calculate_overall_error_calculate_overall_inverse_f1_calculate_num_examples regSample_biasPop\n",
      "Passed on: 5_thoracic calculate_class0_error_calculate_class1_error regSample_biasPop\n",
      "Passed on: 6_thoracic calculate_overall_error_calculate_num_examples regSample_biasPop\n",
      "Passed on: 6_thoracic calculate_overall_error_calculate_overall_inverse_f1_calculate_num_examples regSample_biasPop\n",
      "Passed on: 6_thoracic calculate_class0_error_calculate_class1_error regSample_biasPop\n",
      "Passed on: 7_thoracic calculate_overall_error_calculate_num_examples regSample_biasPop\n",
      "Passed on: 7_thoracic calculate_overall_error_calculate_overall_inverse_f1_calculate_num_examples regSample_biasPop\n",
      "Passed on: 7_thoracic calculate_class0_error_calculate_class1_error regSample_biasPop\n",
      "Passed on: 8_thoracic calculate_overall_error_calculate_num_examples regSample_biasPop\n",
      "Passed on: 8_thoracic calculate_overall_error_calculate_overall_inverse_f1_calculate_num_examples regSample_biasPop\n",
      "Passed on: 8_thoracic calculate_class0_error_calculate_class1_error regSample_biasPop\n",
      "Passed on: 9_thoracic calculate_overall_error_calculate_num_examples regSample_biasPop\n",
      "Passed on: 9_thoracic calculate_overall_error_calculate_overall_inverse_f1_calculate_num_examples regSample_biasPop\n",
      "Passed on: 9_thoracic calculate_class0_error_calculate_class1_error regSample_biasPop\n",
      "Passed on: 10_thoracic calculate_overall_error_calculate_num_examples regSample_biasPop\n",
      "Passed on: 10_thoracic calculate_overall_error_calculate_overall_inverse_f1_calculate_num_examples regSample_biasPop\n",
      "Passed on: 10_thoracic calculate_class0_error_calculate_class1_error regSample_biasPop\n",
      "Passed on: 11_thoracic calculate_overall_error_calculate_num_examples regSample_biasPop\n",
      "Passed on: 11_thoracic calculate_overall_error_calculate_overall_inverse_f1_calculate_num_examples regSample_biasPop\n",
      "Passed on: 11_thoracic calculate_class0_error_calculate_class1_error regSample_biasPop\n",
      "Passed on: 12_thoracic calculate_overall_error_calculate_num_examples regSample_biasPop\n",
      "Passed on: 12_thoracic calculate_overall_error_calculate_overall_inverse_f1_calculate_num_examples regSample_biasPop\n",
      "Passed on: 12_thoracic calculate_class0_error_calculate_class1_error regSample_biasPop\n",
      "Passed on: 13_thoracic calculate_overall_error_calculate_num_examples regSample_biasPop\n",
      "Passed on: 13_thoracic calculate_overall_error_calculate_overall_inverse_f1_calculate_num_examples regSample_biasPop\n",
      "Passed on: 13_thoracic calculate_class0_error_calculate_class1_error regSample_biasPop\n",
      "Passed on: 14_thoracic calculate_overall_error_calculate_num_examples regSample_biasPop\n",
      "Passed on: 14_thoracic calculate_overall_error_calculate_overall_inverse_f1_calculate_num_examples regSample_biasPop\n",
      "Passed on: 14_thoracic calculate_class0_error_calculate_class1_error regSample_biasPop\n",
      "Passed on: 15_thoracic calculate_overall_error_calculate_num_examples regSample_biasPop\n",
      "Passed on: 15_thoracic calculate_overall_error_calculate_overall_inverse_f1_calculate_num_examples regSample_biasPop\n",
      "Passed on: 15_thoracic calculate_class0_error_calculate_class1_error regSample_biasPop\n",
      "Passed on: 16_thoracic calculate_overall_error_calculate_num_examples regSample_biasPop\n",
      "Passed on: 16_thoracic calculate_overall_error_calculate_overall_inverse_f1_calculate_num_examples regSample_biasPop\n",
      "Passed on: 16_thoracic calculate_class0_error_calculate_class1_error regSample_biasPop\n",
      "Passed on: 17_thoracic calculate_overall_error_calculate_num_examples regSample_biasPop\n",
      "Passed on: 17_thoracic calculate_overall_error_calculate_overall_inverse_f1_calculate_num_examples regSample_biasPop\n",
      "Passed on: 17_thoracic calculate_class0_error_calculate_class1_error regSample_biasPop\n",
      "Passed on: 18_thoracic calculate_overall_error_calculate_num_examples regSample_biasPop\n",
      "Passed on: 18_thoracic calculate_overall_error_calculate_overall_inverse_f1_calculate_num_examples regSample_biasPop\n",
      "Passed on: 18_thoracic calculate_class0_error_calculate_class1_error regSample_biasPop\n",
      "Passed on: 19_thoracic calculate_overall_error_calculate_num_examples regSample_biasPop\n",
      "Passed on: 19_thoracic calculate_overall_error_calculate_overall_inverse_f1_calculate_num_examples regSample_biasPop\n",
      "Passed on: 19_thoracic calculate_class0_error_calculate_class1_error regSample_biasPop\n",
      "Passed on: 20_thoracic calculate_overall_error_calculate_num_examples regSample_biasPop\n",
      "Passed on: 20_thoracic calculate_overall_error_calculate_overall_inverse_f1_calculate_num_examples regSample_biasPop\n",
      "Passed on: 20_thoracic calculate_class0_error_calculate_class1_error regSample_biasPop\n",
      "Passed on: 21_thoracic calculate_overall_error_calculate_num_examples regSample_biasPop\n",
      "Passed on: 21_thoracic calculate_overall_error_calculate_overall_inverse_f1_calculate_num_examples regSample_biasPop\n",
      "Passed on: 21_thoracic calculate_class0_error_calculate_class1_error regSample_biasPop\n",
      "Passed on: 22_thoracic calculate_overall_error_calculate_num_examples regSample_biasPop\n",
      "Passed on: 22_thoracic calculate_overall_error_calculate_overall_inverse_f1_calculate_num_examples regSample_biasPop\n",
      "Passed on: 22_thoracic calculate_class0_error_calculate_class1_error regSample_biasPop\n",
      "Passed on: 23_thoracic calculate_overall_error_calculate_num_examples regSample_biasPop\n",
      "Passed on: 23_thoracic calculate_overall_error_calculate_overall_inverse_f1_calculate_num_examples regSample_biasPop\n",
      "Passed on: 23_thoracic calculate_class0_error_calculate_class1_error regSample_biasPop\n",
      "Passed on: 24_thoracic calculate_overall_error_calculate_num_examples regSample_biasPop\n",
      "Passed on: 24_thoracic calculate_overall_error_calculate_overall_inverse_f1_calculate_num_examples regSample_biasPop\n",
      "Passed on: 24_thoracic calculate_class0_error_calculate_class1_error regSample_biasPop\n",
      "Passed on: 25_thoracic calculate_overall_error_calculate_num_examples regSample_biasPop\n",
      "Passed on: 25_thoracic calculate_overall_error_calculate_overall_inverse_f1_calculate_num_examples regSample_biasPop\n",
      "Passed on: 25_thoracic calculate_class0_error_calculate_class1_error regSample_biasPop\n",
      "Passed on: 26_thoracic calculate_overall_error_calculate_num_examples regSample_biasPop\n",
      "Passed on: 26_thoracic calculate_overall_error_calculate_overall_inverse_f1_calculate_num_examples regSample_biasPop\n",
      "Passed on: 26_thoracic calculate_class0_error_calculate_class1_error regSample_biasPop\n",
      "Passed on: 27_thoracic calculate_overall_error_calculate_num_examples regSample_biasPop\n",
      "Passed on: 27_thoracic calculate_overall_error_calculate_overall_inverse_f1_calculate_num_examples regSample_biasPop\n",
      "Passed on: 27_thoracic calculate_class0_error_calculate_class1_error regSample_biasPop\n",
      "Passed on: 28_thoracic calculate_overall_error_calculate_num_examples regSample_biasPop\n",
      "Passed on: 28_thoracic calculate_overall_error_calculate_overall_inverse_f1_calculate_num_examples regSample_biasPop\n",
      "Passed on: 28_thoracic calculate_class0_error_calculate_class1_error regSample_biasPop\n",
      "Passed on: 29_thoracic calculate_overall_error_calculate_num_examples regSample_biasPop\n",
      "Passed on: 29_thoracic calculate_overall_error_calculate_overall_inverse_f1_calculate_num_examples regSample_biasPop\n",
      "Passed on: 29_thoracic calculate_class0_error_calculate_class1_error regSample_biasPop\n",
      "Passed on: 30_thoracic calculate_overall_error_calculate_num_examples regSample_biasPop\n",
      "Passed on: 30_thoracic calculate_overall_error_calculate_overall_inverse_f1_calculate_num_examples regSample_biasPop\n",
      "Passed on: 30_thoracic calculate_class0_error_calculate_class1_error regSample_biasPop\n"
     ]
    },
    {
     "name": "stderr",
     "output_type": "stream",
     "text": [
      "e:\\Code\\3_13_venv\\Lib\\site-packages\\sklearn\\preprocessing\\_label.py:110: DataConversionWarning: A column-vector y was passed when a 1d array was expected. Please change the shape of y to (n_samples, ), for example using ravel().\n",
      "  y = column_or_1d(y, warn=True)\n",
      "e:\\Code\\3_13_venv\\Lib\\site-packages\\sklearn\\preprocessing\\_label.py:110: DataConversionWarning: A column-vector y was passed when a 1d array was expected. Please change the shape of y to (n_samples, ), for example using ravel().\n",
      "  y = column_or_1d(y, warn=True)\n"
     ]
    },
    {
     "name": "stdout",
     "output_type": "stream",
     "text": [
      "Passed on: 0_segment0 calculate_overall_error_calculate_num_examples regSample_biasPop\n",
      "Passed on: 0_segment0 calculate_overall_error_calculate_overall_inverse_f1_calculate_num_examples regSample_biasPop\n",
      "Passed on: 0_segment0 calculate_class0_error_calculate_class1_error regSample_biasPop\n",
      "Passed on: 1_segment0 calculate_overall_error_calculate_num_examples regSample_biasPop\n",
      "Passed on: 1_segment0 calculate_overall_error_calculate_overall_inverse_f1_calculate_num_examples regSample_biasPop\n",
      "Passed on: 1_segment0 calculate_class0_error_calculate_class1_error regSample_biasPop\n",
      "Passed on: 2_segment0 calculate_overall_error_calculate_num_examples regSample_biasPop\n",
      "Passed on: 2_segment0 calculate_overall_error_calculate_overall_inverse_f1_calculate_num_examples regSample_biasPop\n",
      "Passed on: 2_segment0 calculate_class0_error_calculate_class1_error regSample_biasPop\n",
      "Passed on: 3_segment0 calculate_overall_error_calculate_num_examples regSample_biasPop\n",
      "Passed on: 3_segment0 calculate_overall_error_calculate_overall_inverse_f1_calculate_num_examples regSample_biasPop\n",
      "Passed on: 3_segment0 calculate_class0_error_calculate_class1_error regSample_biasPop\n",
      "Passed on: 4_segment0 calculate_overall_error_calculate_num_examples regSample_biasPop\n",
      "Passed on: 4_segment0 calculate_overall_error_calculate_overall_inverse_f1_calculate_num_examples regSample_biasPop\n",
      "Passed on: 4_segment0 calculate_class0_error_calculate_class1_error regSample_biasPop\n",
      "Passed on: 5_segment0 calculate_overall_error_calculate_num_examples regSample_biasPop\n",
      "Passed on: 5_segment0 calculate_overall_error_calculate_overall_inverse_f1_calculate_num_examples regSample_biasPop\n",
      "Passed on: 5_segment0 calculate_class0_error_calculate_class1_error regSample_biasPop\n",
      "Passed on: 6_segment0 calculate_overall_error_calculate_num_examples regSample_biasPop\n",
      "Passed on: 6_segment0 calculate_overall_error_calculate_overall_inverse_f1_calculate_num_examples regSample_biasPop\n",
      "Passed on: 6_segment0 calculate_class0_error_calculate_class1_error regSample_biasPop\n",
      "Passed on: 7_segment0 calculate_overall_error_calculate_num_examples regSample_biasPop\n",
      "Passed on: 7_segment0 calculate_overall_error_calculate_overall_inverse_f1_calculate_num_examples regSample_biasPop\n",
      "Passed on: 7_segment0 calculate_class0_error_calculate_class1_error regSample_biasPop\n",
      "Passed on: 8_segment0 calculate_overall_error_calculate_num_examples regSample_biasPop\n",
      "Passed on: 8_segment0 calculate_overall_error_calculate_overall_inverse_f1_calculate_num_examples regSample_biasPop\n",
      "Passed on: 8_segment0 calculate_class0_error_calculate_class1_error regSample_biasPop\n",
      "Passed on: 9_segment0 calculate_overall_error_calculate_num_examples regSample_biasPop\n",
      "Passed on: 9_segment0 calculate_overall_error_calculate_overall_inverse_f1_calculate_num_examples regSample_biasPop\n",
      "Passed on: 9_segment0 calculate_class0_error_calculate_class1_error regSample_biasPop\n",
      "Passed on: 10_segment0 calculate_overall_error_calculate_num_examples regSample_biasPop\n",
      "Passed on: 10_segment0 calculate_overall_error_calculate_overall_inverse_f1_calculate_num_examples regSample_biasPop\n",
      "Passed on: 10_segment0 calculate_class0_error_calculate_class1_error regSample_biasPop\n",
      "Passed on: 11_segment0 calculate_overall_error_calculate_num_examples regSample_biasPop\n",
      "Passed on: 11_segment0 calculate_overall_error_calculate_overall_inverse_f1_calculate_num_examples regSample_biasPop\n",
      "Passed on: 11_segment0 calculate_class0_error_calculate_class1_error regSample_biasPop\n",
      "Passed on: 12_segment0 calculate_overall_error_calculate_num_examples regSample_biasPop\n",
      "Passed on: 12_segment0 calculate_overall_error_calculate_overall_inverse_f1_calculate_num_examples regSample_biasPop\n",
      "Passed on: 12_segment0 calculate_class0_error_calculate_class1_error regSample_biasPop\n",
      "Passed on: 13_segment0 calculate_overall_error_calculate_num_examples regSample_biasPop\n",
      "Passed on: 13_segment0 calculate_overall_error_calculate_overall_inverse_f1_calculate_num_examples regSample_biasPop\n",
      "Passed on: 13_segment0 calculate_class0_error_calculate_class1_error regSample_biasPop\n",
      "Passed on: 14_segment0 calculate_overall_error_calculate_num_examples regSample_biasPop\n",
      "Passed on: 14_segment0 calculate_overall_error_calculate_overall_inverse_f1_calculate_num_examples regSample_biasPop\n",
      "Passed on: 14_segment0 calculate_class0_error_calculate_class1_error regSample_biasPop\n",
      "Passed on: 15_segment0 calculate_overall_error_calculate_num_examples regSample_biasPop\n",
      "Passed on: 15_segment0 calculate_overall_error_calculate_overall_inverse_f1_calculate_num_examples regSample_biasPop\n",
      "Passed on: 15_segment0 calculate_class0_error_calculate_class1_error regSample_biasPop\n",
      "Passed on: 16_segment0 calculate_overall_error_calculate_num_examples regSample_biasPop\n",
      "Passed on: 16_segment0 calculate_overall_error_calculate_overall_inverse_f1_calculate_num_examples regSample_biasPop\n",
      "Passed on: 16_segment0 calculate_class0_error_calculate_class1_error regSample_biasPop\n",
      "Passed on: 17_segment0 calculate_overall_error_calculate_num_examples regSample_biasPop\n",
      "Passed on: 17_segment0 calculate_overall_error_calculate_overall_inverse_f1_calculate_num_examples regSample_biasPop\n",
      "Passed on: 17_segment0 calculate_class0_error_calculate_class1_error regSample_biasPop\n",
      "Passed on: 18_segment0 calculate_overall_error_calculate_num_examples regSample_biasPop\n",
      "Passed on: 18_segment0 calculate_overall_error_calculate_overall_inverse_f1_calculate_num_examples regSample_biasPop\n",
      "Passed on: 18_segment0 calculate_class0_error_calculate_class1_error regSample_biasPop\n",
      "Passed on: 19_segment0 calculate_overall_error_calculate_num_examples regSample_biasPop\n",
      "Passed on: 19_segment0 calculate_overall_error_calculate_overall_inverse_f1_calculate_num_examples regSample_biasPop\n",
      "Passed on: 19_segment0 calculate_class0_error_calculate_class1_error regSample_biasPop\n",
      "Passed on: 20_segment0 calculate_overall_error_calculate_num_examples regSample_biasPop\n",
      "Passed on: 20_segment0 calculate_overall_error_calculate_overall_inverse_f1_calculate_num_examples regSample_biasPop\n",
      "Passed on: 20_segment0 calculate_class0_error_calculate_class1_error regSample_biasPop\n",
      "Passed on: 21_segment0 calculate_overall_error_calculate_num_examples regSample_biasPop\n",
      "Passed on: 21_segment0 calculate_overall_error_calculate_overall_inverse_f1_calculate_num_examples regSample_biasPop\n",
      "Passed on: 21_segment0 calculate_class0_error_calculate_class1_error regSample_biasPop\n",
      "Passed on: 22_segment0 calculate_overall_error_calculate_num_examples regSample_biasPop\n",
      "Passed on: 22_segment0 calculate_overall_error_calculate_overall_inverse_f1_calculate_num_examples regSample_biasPop\n",
      "Passed on: 22_segment0 calculate_class0_error_calculate_class1_error regSample_biasPop\n",
      "Passed on: 23_segment0 calculate_overall_error_calculate_num_examples regSample_biasPop\n",
      "Passed on: 23_segment0 calculate_overall_error_calculate_overall_inverse_f1_calculate_num_examples regSample_biasPop\n",
      "Passed on: 23_segment0 calculate_class0_error_calculate_class1_error regSample_biasPop\n",
      "Passed on: 24_segment0 calculate_overall_error_calculate_num_examples regSample_biasPop\n",
      "Passed on: 24_segment0 calculate_overall_error_calculate_overall_inverse_f1_calculate_num_examples regSample_biasPop\n",
      "Passed on: 24_segment0 calculate_class0_error_calculate_class1_error regSample_biasPop\n",
      "Passed on: 25_segment0 calculate_overall_error_calculate_num_examples regSample_biasPop\n",
      "Passed on: 25_segment0 calculate_overall_error_calculate_overall_inverse_f1_calculate_num_examples regSample_biasPop\n",
      "Passed on: 25_segment0 calculate_class0_error_calculate_class1_error regSample_biasPop\n",
      "Passed on: 26_segment0 calculate_overall_error_calculate_num_examples regSample_biasPop\n",
      "Passed on: 26_segment0 calculate_overall_error_calculate_overall_inverse_f1_calculate_num_examples regSample_biasPop\n",
      "Passed on: 26_segment0 calculate_class0_error_calculate_class1_error regSample_biasPop\n",
      "Passed on: 27_segment0 calculate_overall_error_calculate_num_examples regSample_biasPop\n",
      "Passed on: 27_segment0 calculate_overall_error_calculate_overall_inverse_f1_calculate_num_examples regSample_biasPop\n",
      "Passed on: 27_segment0 calculate_class0_error_calculate_class1_error regSample_biasPop\n",
      "Passed on: 28_segment0 calculate_overall_error_calculate_num_examples regSample_biasPop\n",
      "Passed on: 28_segment0 calculate_overall_error_calculate_overall_inverse_f1_calculate_num_examples regSample_biasPop\n",
      "Passed on: 28_segment0 calculate_class0_error_calculate_class1_error regSample_biasPop\n",
      "Passed on: 29_segment0 calculate_overall_error_calculate_num_examples regSample_biasPop\n",
      "Passed on: 29_segment0 calculate_overall_error_calculate_overall_inverse_f1_calculate_num_examples regSample_biasPop\n",
      "Passed on: 29_segment0 calculate_class0_error_calculate_class1_error regSample_biasPop\n",
      "Passed on: 30_segment0 calculate_overall_error_calculate_num_examples regSample_biasPop\n",
      "Passed on: 30_segment0 calculate_overall_error_calculate_overall_inverse_f1_calculate_num_examples regSample_biasPop\n",
      "Passed on: 30_segment0 calculate_class0_error_calculate_class1_error regSample_biasPop\n",
      "Passed on: 0_wine calculate_overall_error_calculate_num_examples regSample_biasPop\n",
      "Passed on: 0_wine calculate_overall_error_calculate_overall_inverse_f1_calculate_num_examples regSample_biasPop\n",
      "Passed on: 0_wine calculate_class0_error_calculate_class1_error regSample_biasPop\n",
      "Passed on: 1_wine calculate_overall_error_calculate_num_examples regSample_biasPop\n",
      "Passed on: 1_wine calculate_overall_error_calculate_overall_inverse_f1_calculate_num_examples regSample_biasPop\n",
      "Passed on: 1_wine calculate_class0_error_calculate_class1_error regSample_biasPop\n",
      "Passed on: 2_wine calculate_overall_error_calculate_num_examples regSample_biasPop\n",
      "Passed on: 2_wine calculate_overall_error_calculate_overall_inverse_f1_calculate_num_examples regSample_biasPop\n",
      "Passed on: 2_wine calculate_class0_error_calculate_class1_error regSample_biasPop\n",
      "Passed on: 3_wine calculate_overall_error_calculate_num_examples regSample_biasPop\n",
      "Passed on: 3_wine calculate_overall_error_calculate_overall_inverse_f1_calculate_num_examples regSample_biasPop\n",
      "Passed on: 3_wine calculate_class0_error_calculate_class1_error regSample_biasPop\n",
      "Passed on: 4_wine calculate_overall_error_calculate_num_examples regSample_biasPop\n",
      "Passed on: 4_wine calculate_overall_error_calculate_overall_inverse_f1_calculate_num_examples regSample_biasPop\n",
      "Passed on: 4_wine calculate_class0_error_calculate_class1_error regSample_biasPop\n",
      "Passed on: 5_wine calculate_overall_error_calculate_num_examples regSample_biasPop\n",
      "Passed on: 5_wine calculate_overall_error_calculate_overall_inverse_f1_calculate_num_examples regSample_biasPop\n",
      "Passed on: 5_wine calculate_class0_error_calculate_class1_error regSample_biasPop\n",
      "Passed on: 6_wine calculate_overall_error_calculate_num_examples regSample_biasPop\n",
      "Passed on: 6_wine calculate_overall_error_calculate_overall_inverse_f1_calculate_num_examples regSample_biasPop\n",
      "Passed on: 6_wine calculate_class0_error_calculate_class1_error regSample_biasPop\n",
      "Passed on: 7_wine calculate_overall_error_calculate_num_examples regSample_biasPop\n",
      "Passed on: 7_wine calculate_overall_error_calculate_overall_inverse_f1_calculate_num_examples regSample_biasPop\n",
      "Passed on: 7_wine calculate_class0_error_calculate_class1_error regSample_biasPop\n",
      "Passed on: 8_wine calculate_overall_error_calculate_num_examples regSample_biasPop\n",
      "Passed on: 8_wine calculate_overall_error_calculate_overall_inverse_f1_calculate_num_examples regSample_biasPop\n",
      "Passed on: 8_wine calculate_class0_error_calculate_class1_error regSample_biasPop\n",
      "Passed on: 9_wine calculate_overall_error_calculate_num_examples regSample_biasPop\n",
      "Passed on: 9_wine calculate_overall_error_calculate_overall_inverse_f1_calculate_num_examples regSample_biasPop\n",
      "Passed on: 9_wine calculate_class0_error_calculate_class1_error regSample_biasPop\n",
      "Passed on: 10_wine calculate_overall_error_calculate_num_examples regSample_biasPop\n",
      "Passed on: 10_wine calculate_overall_error_calculate_overall_inverse_f1_calculate_num_examples regSample_biasPop\n",
      "Passed on: 10_wine calculate_class0_error_calculate_class1_error regSample_biasPop\n",
      "Passed on: 11_wine calculate_overall_error_calculate_num_examples regSample_biasPop\n",
      "Passed on: 11_wine calculate_overall_error_calculate_overall_inverse_f1_calculate_num_examples regSample_biasPop\n",
      "Passed on: 11_wine calculate_class0_error_calculate_class1_error regSample_biasPop\n",
      "Passed on: 12_wine calculate_overall_error_calculate_num_examples regSample_biasPop\n",
      "Passed on: 12_wine calculate_overall_error_calculate_overall_inverse_f1_calculate_num_examples regSample_biasPop\n",
      "Passed on: 12_wine calculate_class0_error_calculate_class1_error regSample_biasPop\n",
      "Passed on: 13_wine calculate_overall_error_calculate_num_examples regSample_biasPop\n",
      "Passed on: 13_wine calculate_overall_error_calculate_overall_inverse_f1_calculate_num_examples regSample_biasPop\n",
      "Passed on: 13_wine calculate_class0_error_calculate_class1_error regSample_biasPop\n",
      "Passed on: 14_wine calculate_overall_error_calculate_num_examples regSample_biasPop\n",
      "Passed on: 14_wine calculate_overall_error_calculate_overall_inverse_f1_calculate_num_examples regSample_biasPop\n",
      "Passed on: 14_wine calculate_class0_error_calculate_class1_error regSample_biasPop\n",
      "Passed on: 15_wine calculate_overall_error_calculate_num_examples regSample_biasPop\n",
      "Passed on: 15_wine calculate_overall_error_calculate_overall_inverse_f1_calculate_num_examples regSample_biasPop\n",
      "Passed on: 15_wine calculate_class0_error_calculate_class1_error regSample_biasPop\n",
      "Passed on: 16_wine calculate_overall_error_calculate_num_examples regSample_biasPop\n",
      "Passed on: 16_wine calculate_overall_error_calculate_overall_inverse_f1_calculate_num_examples regSample_biasPop\n",
      "Passed on: 16_wine calculate_class0_error_calculate_class1_error regSample_biasPop\n",
      "Passed on: 17_wine calculate_overall_error_calculate_num_examples regSample_biasPop\n",
      "Passed on: 17_wine calculate_overall_error_calculate_overall_inverse_f1_calculate_num_examples regSample_biasPop\n",
      "Passed on: 17_wine calculate_class0_error_calculate_class1_error regSample_biasPop\n",
      "Passed on: 18_wine calculate_overall_error_calculate_num_examples regSample_biasPop\n",
      "Passed on: 18_wine calculate_overall_error_calculate_overall_inverse_f1_calculate_num_examples regSample_biasPop\n",
      "Passed on: 18_wine calculate_class0_error_calculate_class1_error regSample_biasPop\n",
      "Passed on: 19_wine calculate_overall_error_calculate_num_examples regSample_biasPop\n",
      "Passed on: 19_wine calculate_overall_error_calculate_overall_inverse_f1_calculate_num_examples regSample_biasPop\n",
      "Passed on: 19_wine calculate_class0_error_calculate_class1_error regSample_biasPop\n",
      "Passed on: 20_wine calculate_overall_error_calculate_num_examples regSample_biasPop\n",
      "Passed on: 20_wine calculate_overall_error_calculate_overall_inverse_f1_calculate_num_examples regSample_biasPop\n",
      "Passed on: 20_wine calculate_class0_error_calculate_class1_error regSample_biasPop\n",
      "Passed on: 21_wine calculate_overall_error_calculate_num_examples regSample_biasPop\n",
      "Passed on: 21_wine calculate_overall_error_calculate_overall_inverse_f1_calculate_num_examples regSample_biasPop\n",
      "Passed on: 21_wine calculate_class0_error_calculate_class1_error regSample_biasPop\n",
      "Passed on: 22_wine calculate_overall_error_calculate_num_examples regSample_biasPop\n",
      "Passed on: 22_wine calculate_overall_error_calculate_overall_inverse_f1_calculate_num_examples regSample_biasPop\n",
      "Passed on: 22_wine calculate_class0_error_calculate_class1_error regSample_biasPop\n",
      "Passed on: 23_wine calculate_overall_error_calculate_num_examples regSample_biasPop\n",
      "Passed on: 23_wine calculate_overall_error_calculate_overall_inverse_f1_calculate_num_examples regSample_biasPop\n",
      "Passed on: 23_wine calculate_class0_error_calculate_class1_error regSample_biasPop\n",
      "Passed on: 24_wine calculate_overall_error_calculate_num_examples regSample_biasPop\n",
      "Passed on: 24_wine calculate_overall_error_calculate_overall_inverse_f1_calculate_num_examples regSample_biasPop\n",
      "Passed on: 24_wine calculate_class0_error_calculate_class1_error regSample_biasPop\n",
      "Passed on: 25_wine calculate_overall_error_calculate_num_examples regSample_biasPop\n",
      "Passed on: 25_wine calculate_overall_error_calculate_overall_inverse_f1_calculate_num_examples regSample_biasPop\n",
      "Passed on: 25_wine calculate_class0_error_calculate_class1_error regSample_biasPop\n",
      "Passed on: 26_wine calculate_overall_error_calculate_num_examples regSample_biasPop\n",
      "Passed on: 26_wine calculate_overall_error_calculate_overall_inverse_f1_calculate_num_examples regSample_biasPop\n",
      "Passed on: 26_wine calculate_class0_error_calculate_class1_error regSample_biasPop\n",
      "Passed on: 27_wine calculate_overall_error_calculate_num_examples regSample_biasPop\n",
      "Passed on: 27_wine calculate_overall_error_calculate_overall_inverse_f1_calculate_num_examples regSample_biasPop\n",
      "Passed on: 27_wine calculate_class0_error_calculate_class1_error regSample_biasPop\n",
      "Passed on: 28_wine calculate_overall_error_calculate_num_examples regSample_biasPop\n",
      "Passed on: 28_wine calculate_overall_error_calculate_overall_inverse_f1_calculate_num_examples regSample_biasPop\n",
      "Passed on: 28_wine calculate_class0_error_calculate_class1_error regSample_biasPop\n",
      "Passed on: 29_wine calculate_overall_error_calculate_num_examples regSample_biasPop\n",
      "Passed on: 29_wine calculate_overall_error_calculate_overall_inverse_f1_calculate_num_examples regSample_biasPop\n",
      "Passed on: 29_wine calculate_class0_error_calculate_class1_error regSample_biasPop\n",
      "Passed on: 30_wine calculate_overall_error_calculate_num_examples regSample_biasPop\n",
      "Passed on: 30_wine calculate_overall_error_calculate_overall_inverse_f1_calculate_num_examples regSample_biasPop\n",
      "Passed on: 30_wine calculate_class0_error_calculate_class1_error regSample_biasPop\n"
     ]
    },
    {
     "name": "stderr",
     "output_type": "stream",
     "text": [
      "e:\\Code\\3_13_venv\\Lib\\site-packages\\sklearn\\preprocessing\\_label.py:110: DataConversionWarning: A column-vector y was passed when a 1d array was expected. Please change the shape of y to (n_samples, ), for example using ravel().\n",
      "  y = column_or_1d(y, warn=True)\n",
      "e:\\Code\\3_13_venv\\Lib\\site-packages\\sklearn\\preprocessing\\_label.py:110: DataConversionWarning: A column-vector y was passed when a 1d array was expected. Please change the shape of y to (n_samples, ), for example using ravel().\n",
      "  y = column_or_1d(y, warn=True)\n"
     ]
    },
    {
     "name": "stdout",
     "output_type": "stream",
     "text": [
      "Passed on: 0_ILPD calculate_overall_error_calculate_num_examples regSample_biasPop\n",
      "Passed on: 0_ILPD calculate_overall_error_calculate_overall_inverse_f1_calculate_num_examples regSample_biasPop\n",
      "Passed on: 0_ILPD calculate_class0_error_calculate_class1_error regSample_biasPop\n",
      "Passed on: 1_ILPD calculate_overall_error_calculate_num_examples regSample_biasPop\n",
      "Passed on: 1_ILPD calculate_overall_error_calculate_overall_inverse_f1_calculate_num_examples regSample_biasPop\n",
      "Passed on: 1_ILPD calculate_class0_error_calculate_class1_error regSample_biasPop\n",
      "Passed on: 2_ILPD calculate_overall_error_calculate_num_examples regSample_biasPop\n",
      "Passed on: 2_ILPD calculate_overall_error_calculate_overall_inverse_f1_calculate_num_examples regSample_biasPop\n",
      "Passed on: 2_ILPD calculate_class0_error_calculate_class1_error regSample_biasPop\n",
      "Passed on: 3_ILPD calculate_overall_error_calculate_num_examples regSample_biasPop\n",
      "Passed on: 3_ILPD calculate_overall_error_calculate_overall_inverse_f1_calculate_num_examples regSample_biasPop\n",
      "Passed on: 3_ILPD calculate_class0_error_calculate_class1_error regSample_biasPop\n",
      "Passed on: 4_ILPD calculate_overall_error_calculate_num_examples regSample_biasPop\n",
      "Passed on: 4_ILPD calculate_overall_error_calculate_overall_inverse_f1_calculate_num_examples regSample_biasPop\n",
      "Passed on: 4_ILPD calculate_class0_error_calculate_class1_error regSample_biasPop\n",
      "Passed on: 5_ILPD calculate_overall_error_calculate_num_examples regSample_biasPop\n",
      "Passed on: 5_ILPD calculate_overall_error_calculate_overall_inverse_f1_calculate_num_examples regSample_biasPop\n",
      "Passed on: 5_ILPD calculate_class0_error_calculate_class1_error regSample_biasPop\n",
      "Passed on: 6_ILPD calculate_overall_error_calculate_num_examples regSample_biasPop\n",
      "Passed on: 6_ILPD calculate_overall_error_calculate_overall_inverse_f1_calculate_num_examples regSample_biasPop\n",
      "Passed on: 6_ILPD calculate_class0_error_calculate_class1_error regSample_biasPop\n",
      "Passed on: 7_ILPD calculate_overall_error_calculate_num_examples regSample_biasPop\n",
      "Passed on: 7_ILPD calculate_overall_error_calculate_overall_inverse_f1_calculate_num_examples regSample_biasPop\n",
      "Passed on: 7_ILPD calculate_class0_error_calculate_class1_error regSample_biasPop\n",
      "Passed on: 8_ILPD calculate_overall_error_calculate_num_examples regSample_biasPop\n",
      "Passed on: 8_ILPD calculate_overall_error_calculate_overall_inverse_f1_calculate_num_examples regSample_biasPop\n",
      "Passed on: 8_ILPD calculate_class0_error_calculate_class1_error regSample_biasPop\n",
      "Passed on: 9_ILPD calculate_overall_error_calculate_num_examples regSample_biasPop\n",
      "Passed on: 9_ILPD calculate_overall_error_calculate_overall_inverse_f1_calculate_num_examples regSample_biasPop\n",
      "Passed on: 9_ILPD calculate_class0_error_calculate_class1_error regSample_biasPop\n",
      "Passed on: 10_ILPD calculate_overall_error_calculate_num_examples regSample_biasPop\n",
      "Passed on: 10_ILPD calculate_overall_error_calculate_overall_inverse_f1_calculate_num_examples regSample_biasPop\n",
      "Passed on: 10_ILPD calculate_class0_error_calculate_class1_error regSample_biasPop\n",
      "Passed on: 11_ILPD calculate_overall_error_calculate_num_examples regSample_biasPop\n",
      "Passed on: 11_ILPD calculate_overall_error_calculate_overall_inverse_f1_calculate_num_examples regSample_biasPop\n",
      "Passed on: 11_ILPD calculate_class0_error_calculate_class1_error regSample_biasPop\n",
      "Passed on: 12_ILPD calculate_overall_error_calculate_num_examples regSample_biasPop\n",
      "Passed on: 12_ILPD calculate_overall_error_calculate_overall_inverse_f1_calculate_num_examples regSample_biasPop\n",
      "Passed on: 12_ILPD calculate_class0_error_calculate_class1_error regSample_biasPop\n",
      "Passed on: 13_ILPD calculate_overall_error_calculate_num_examples regSample_biasPop\n",
      "Passed on: 13_ILPD calculate_overall_error_calculate_overall_inverse_f1_calculate_num_examples regSample_biasPop\n",
      "Passed on: 13_ILPD calculate_class0_error_calculate_class1_error regSample_biasPop\n",
      "Passed on: 14_ILPD calculate_overall_error_calculate_num_examples regSample_biasPop\n",
      "Passed on: 14_ILPD calculate_overall_error_calculate_overall_inverse_f1_calculate_num_examples regSample_biasPop\n",
      "Passed on: 14_ILPD calculate_class0_error_calculate_class1_error regSample_biasPop\n",
      "Passed on: 15_ILPD calculate_overall_error_calculate_num_examples regSample_biasPop\n",
      "Passed on: 15_ILPD calculate_overall_error_calculate_overall_inverse_f1_calculate_num_examples regSample_biasPop\n",
      "Passed on: 15_ILPD calculate_class0_error_calculate_class1_error regSample_biasPop\n",
      "Passed on: 16_ILPD calculate_overall_error_calculate_num_examples regSample_biasPop\n",
      "Passed on: 16_ILPD calculate_overall_error_calculate_overall_inverse_f1_calculate_num_examples regSample_biasPop\n",
      "Passed on: 16_ILPD calculate_class0_error_calculate_class1_error regSample_biasPop\n",
      "Passed on: 17_ILPD calculate_overall_error_calculate_num_examples regSample_biasPop\n",
      "Passed on: 17_ILPD calculate_overall_error_calculate_overall_inverse_f1_calculate_num_examples regSample_biasPop\n",
      "Passed on: 17_ILPD calculate_class0_error_calculate_class1_error regSample_biasPop\n",
      "Passed on: 18_ILPD calculate_overall_error_calculate_num_examples regSample_biasPop\n",
      "Passed on: 18_ILPD calculate_overall_error_calculate_overall_inverse_f1_calculate_num_examples regSample_biasPop\n",
      "Passed on: 18_ILPD calculate_class0_error_calculate_class1_error regSample_biasPop\n",
      "Passed on: 19_ILPD calculate_overall_error_calculate_num_examples regSample_biasPop\n",
      "Passed on: 19_ILPD calculate_overall_error_calculate_overall_inverse_f1_calculate_num_examples regSample_biasPop\n",
      "Passed on: 19_ILPD calculate_class0_error_calculate_class1_error regSample_biasPop\n",
      "Passed on: 20_ILPD calculate_overall_error_calculate_num_examples regSample_biasPop\n",
      "Passed on: 20_ILPD calculate_overall_error_calculate_overall_inverse_f1_calculate_num_examples regSample_biasPop\n",
      "Passed on: 20_ILPD calculate_class0_error_calculate_class1_error regSample_biasPop\n",
      "Passed on: 21_ILPD calculate_overall_error_calculate_num_examples regSample_biasPop\n",
      "Passed on: 21_ILPD calculate_overall_error_calculate_overall_inverse_f1_calculate_num_examples regSample_biasPop\n",
      "Passed on: 21_ILPD calculate_class0_error_calculate_class1_error regSample_biasPop\n",
      "Passed on: 22_ILPD calculate_overall_error_calculate_num_examples regSample_biasPop\n",
      "Passed on: 22_ILPD calculate_overall_error_calculate_overall_inverse_f1_calculate_num_examples regSample_biasPop\n",
      "Passed on: 22_ILPD calculate_class0_error_calculate_class1_error regSample_biasPop\n",
      "Passed on: 23_ILPD calculate_overall_error_calculate_num_examples regSample_biasPop\n",
      "Passed on: 23_ILPD calculate_overall_error_calculate_overall_inverse_f1_calculate_num_examples regSample_biasPop\n",
      "Passed on: 23_ILPD calculate_class0_error_calculate_class1_error regSample_biasPop\n",
      "Passed on: 24_ILPD calculate_overall_error_calculate_num_examples regSample_biasPop\n",
      "Passed on: 24_ILPD calculate_overall_error_calculate_overall_inverse_f1_calculate_num_examples regSample_biasPop\n",
      "Passed on: 24_ILPD calculate_class0_error_calculate_class1_error regSample_biasPop\n",
      "Passed on: 25_ILPD calculate_overall_error_calculate_num_examples regSample_biasPop\n",
      "Passed on: 25_ILPD calculate_overall_error_calculate_overall_inverse_f1_calculate_num_examples regSample_biasPop\n",
      "Passed on: 25_ILPD calculate_class0_error_calculate_class1_error regSample_biasPop\n",
      "Passed on: 26_ILPD calculate_overall_error_calculate_num_examples regSample_biasPop\n",
      "Passed on: 26_ILPD calculate_overall_error_calculate_overall_inverse_f1_calculate_num_examples regSample_biasPop\n",
      "Passed on: 26_ILPD calculate_class0_error_calculate_class1_error regSample_biasPop\n",
      "Passed on: 27_ILPD calculate_overall_error_calculate_num_examples regSample_biasPop\n",
      "Passed on: 27_ILPD calculate_overall_error_calculate_overall_inverse_f1_calculate_num_examples regSample_biasPop\n",
      "Passed on: 27_ILPD calculate_class0_error_calculate_class1_error regSample_biasPop\n",
      "Passed on: 28_ILPD calculate_overall_error_calculate_num_examples regSample_biasPop\n",
      "Passed on: 28_ILPD calculate_overall_error_calculate_overall_inverse_f1_calculate_num_examples regSample_biasPop\n",
      "Passed on: 28_ILPD calculate_class0_error_calculate_class1_error regSample_biasPop\n",
      "Passed on: 29_ILPD calculate_overall_error_calculate_num_examples regSample_biasPop\n",
      "Passed on: 29_ILPD calculate_overall_error_calculate_overall_inverse_f1_calculate_num_examples regSample_biasPop\n",
      "Passed on: 29_ILPD calculate_class0_error_calculate_class1_error regSample_biasPop\n",
      "Passed on: 30_ILPD calculate_overall_error_calculate_num_examples regSample_biasPop\n",
      "Passed on: 30_ILPD calculate_overall_error_calculate_overall_inverse_f1_calculate_num_examples regSample_biasPop\n",
      "Passed on: 30_ILPD calculate_class0_error_calculate_class1_error regSample_biasPop\n",
      "Passed on: 0_heart_disease calculate_overall_error_calculate_num_examples regSample_biasPop\n",
      "Passed on: 0_heart_disease calculate_overall_error_calculate_overall_inverse_f1_calculate_num_examples regSample_biasPop\n",
      "Passed on: 0_heart_disease calculate_class0_error_calculate_class1_error regSample_biasPop\n",
      "Passed on: 1_heart_disease calculate_overall_error_calculate_num_examples regSample_biasPop\n",
      "Passed on: 1_heart_disease calculate_overall_error_calculate_overall_inverse_f1_calculate_num_examples regSample_biasPop\n",
      "Passed on: 1_heart_disease calculate_class0_error_calculate_class1_error regSample_biasPop\n",
      "Passed on: 2_heart_disease calculate_overall_error_calculate_num_examples regSample_biasPop\n",
      "Passed on: 2_heart_disease calculate_overall_error_calculate_overall_inverse_f1_calculate_num_examples regSample_biasPop\n",
      "Passed on: 2_heart_disease calculate_class0_error_calculate_class1_error regSample_biasPop\n",
      "Passed on: 3_heart_disease calculate_overall_error_calculate_num_examples regSample_biasPop\n",
      "Passed on: 3_heart_disease calculate_overall_error_calculate_overall_inverse_f1_calculate_num_examples regSample_biasPop\n",
      "Passed on: 3_heart_disease calculate_class0_error_calculate_class1_error regSample_biasPop\n",
      "Passed on: 4_heart_disease calculate_overall_error_calculate_num_examples regSample_biasPop\n",
      "Passed on: 4_heart_disease calculate_overall_error_calculate_overall_inverse_f1_calculate_num_examples regSample_biasPop\n",
      "Passed on: 4_heart_disease calculate_class0_error_calculate_class1_error regSample_biasPop\n",
      "Passed on: 5_heart_disease calculate_overall_error_calculate_num_examples regSample_biasPop\n",
      "Passed on: 5_heart_disease calculate_overall_error_calculate_overall_inverse_f1_calculate_num_examples regSample_biasPop\n",
      "Passed on: 5_heart_disease calculate_class0_error_calculate_class1_error regSample_biasPop\n",
      "Passed on: 6_heart_disease calculate_overall_error_calculate_num_examples regSample_biasPop\n",
      "Passed on: 6_heart_disease calculate_overall_error_calculate_overall_inverse_f1_calculate_num_examples regSample_biasPop\n",
      "Passed on: 6_heart_disease calculate_class0_error_calculate_class1_error regSample_biasPop\n",
      "Passed on: 7_heart_disease calculate_overall_error_calculate_num_examples regSample_biasPop\n",
      "Passed on: 7_heart_disease calculate_overall_error_calculate_overall_inverse_f1_calculate_num_examples regSample_biasPop\n",
      "Passed on: 7_heart_disease calculate_class0_error_calculate_class1_error regSample_biasPop\n",
      "Passed on: 8_heart_disease calculate_overall_error_calculate_num_examples regSample_biasPop\n",
      "Passed on: 8_heart_disease calculate_overall_error_calculate_overall_inverse_f1_calculate_num_examples regSample_biasPop\n",
      "Passed on: 8_heart_disease calculate_class0_error_calculate_class1_error regSample_biasPop\n",
      "Passed on: 9_heart_disease calculate_overall_error_calculate_num_examples regSample_biasPop\n",
      "Passed on: 9_heart_disease calculate_overall_error_calculate_overall_inverse_f1_calculate_num_examples regSample_biasPop\n",
      "Passed on: 9_heart_disease calculate_class0_error_calculate_class1_error regSample_biasPop\n",
      "Passed on: 10_heart_disease calculate_overall_error_calculate_num_examples regSample_biasPop\n",
      "Passed on: 10_heart_disease calculate_overall_error_calculate_overall_inverse_f1_calculate_num_examples regSample_biasPop\n",
      "Passed on: 10_heart_disease calculate_class0_error_calculate_class1_error regSample_biasPop\n",
      "Passed on: 11_heart_disease calculate_overall_error_calculate_num_examples regSample_biasPop\n",
      "Passed on: 11_heart_disease calculate_overall_error_calculate_overall_inverse_f1_calculate_num_examples regSample_biasPop\n",
      "Passed on: 11_heart_disease calculate_class0_error_calculate_class1_error regSample_biasPop\n",
      "Passed on: 12_heart_disease calculate_overall_error_calculate_num_examples regSample_biasPop\n",
      "Passed on: 12_heart_disease calculate_overall_error_calculate_overall_inverse_f1_calculate_num_examples regSample_biasPop\n",
      "Passed on: 12_heart_disease calculate_class0_error_calculate_class1_error regSample_biasPop\n",
      "Passed on: 13_heart_disease calculate_overall_error_calculate_num_examples regSample_biasPop\n",
      "Passed on: 13_heart_disease calculate_overall_error_calculate_overall_inverse_f1_calculate_num_examples regSample_biasPop\n",
      "Passed on: 13_heart_disease calculate_class0_error_calculate_class1_error regSample_biasPop\n",
      "Passed on: 14_heart_disease calculate_overall_error_calculate_num_examples regSample_biasPop\n",
      "Passed on: 14_heart_disease calculate_overall_error_calculate_overall_inverse_f1_calculate_num_examples regSample_biasPop\n",
      "Passed on: 14_heart_disease calculate_class0_error_calculate_class1_error regSample_biasPop\n",
      "Passed on: 15_heart_disease calculate_overall_error_calculate_num_examples regSample_biasPop\n",
      "Passed on: 15_heart_disease calculate_overall_error_calculate_overall_inverse_f1_calculate_num_examples regSample_biasPop\n",
      "Passed on: 15_heart_disease calculate_class0_error_calculate_class1_error regSample_biasPop\n",
      "Passed on: 16_heart_disease calculate_overall_error_calculate_num_examples regSample_biasPop\n",
      "Passed on: 16_heart_disease calculate_overall_error_calculate_overall_inverse_f1_calculate_num_examples regSample_biasPop\n",
      "Passed on: 16_heart_disease calculate_class0_error_calculate_class1_error regSample_biasPop\n",
      "Passed on: 17_heart_disease calculate_overall_error_calculate_num_examples regSample_biasPop\n",
      "Passed on: 17_heart_disease calculate_overall_error_calculate_overall_inverse_f1_calculate_num_examples regSample_biasPop\n",
      "Passed on: 17_heart_disease calculate_class0_error_calculate_class1_error regSample_biasPop\n",
      "Passed on: 18_heart_disease calculate_overall_error_calculate_num_examples regSample_biasPop\n",
      "Passed on: 18_heart_disease calculate_overall_error_calculate_overall_inverse_f1_calculate_num_examples regSample_biasPop\n",
      "Passed on: 18_heart_disease calculate_class0_error_calculate_class1_error regSample_biasPop\n",
      "Passed on: 19_heart_disease calculate_overall_error_calculate_num_examples regSample_biasPop\n",
      "Passed on: 19_heart_disease calculate_overall_error_calculate_overall_inverse_f1_calculate_num_examples regSample_biasPop\n",
      "Passed on: 19_heart_disease calculate_class0_error_calculate_class1_error regSample_biasPop\n",
      "Passed on: 20_heart_disease calculate_overall_error_calculate_num_examples regSample_biasPop\n",
      "Passed on: 20_heart_disease calculate_overall_error_calculate_overall_inverse_f1_calculate_num_examples regSample_biasPop\n",
      "Passed on: 20_heart_disease calculate_class0_error_calculate_class1_error regSample_biasPop\n",
      "Passed on: 21_heart_disease calculate_overall_error_calculate_num_examples regSample_biasPop\n",
      "Passed on: 21_heart_disease calculate_overall_error_calculate_overall_inverse_f1_calculate_num_examples regSample_biasPop\n",
      "Passed on: 21_heart_disease calculate_class0_error_calculate_class1_error regSample_biasPop\n",
      "Passed on: 22_heart_disease calculate_overall_error_calculate_num_examples regSample_biasPop\n",
      "Passed on: 22_heart_disease calculate_overall_error_calculate_overall_inverse_f1_calculate_num_examples regSample_biasPop\n",
      "Passed on: 22_heart_disease calculate_class0_error_calculate_class1_error regSample_biasPop\n",
      "Passed on: 23_heart_disease calculate_overall_error_calculate_num_examples regSample_biasPop\n",
      "Passed on: 23_heart_disease calculate_overall_error_calculate_overall_inverse_f1_calculate_num_examples regSample_biasPop\n",
      "Passed on: 23_heart_disease calculate_class0_error_calculate_class1_error regSample_biasPop\n",
      "Passed on: 24_heart_disease calculate_overall_error_calculate_num_examples regSample_biasPop\n",
      "Passed on: 24_heart_disease calculate_overall_error_calculate_overall_inverse_f1_calculate_num_examples regSample_biasPop\n",
      "Passed on: 24_heart_disease calculate_class0_error_calculate_class1_error regSample_biasPop\n",
      "Passed on: 25_heart_disease calculate_overall_error_calculate_num_examples regSample_biasPop\n",
      "Passed on: 25_heart_disease calculate_overall_error_calculate_overall_inverse_f1_calculate_num_examples regSample_biasPop\n",
      "Passed on: 25_heart_disease calculate_class0_error_calculate_class1_error regSample_biasPop\n",
      "Passed on: 26_heart_disease calculate_overall_error_calculate_num_examples regSample_biasPop\n",
      "Passed on: 26_heart_disease calculate_overall_error_calculate_overall_inverse_f1_calculate_num_examples regSample_biasPop\n",
      "Passed on: 26_heart_disease calculate_class0_error_calculate_class1_error regSample_biasPop\n",
      "Passed on: 27_heart_disease calculate_overall_error_calculate_num_examples regSample_biasPop\n",
      "Passed on: 27_heart_disease calculate_overall_error_calculate_overall_inverse_f1_calculate_num_examples regSample_biasPop\n",
      "Passed on: 27_heart_disease calculate_class0_error_calculate_class1_error regSample_biasPop\n",
      "Passed on: 28_heart_disease calculate_overall_error_calculate_num_examples regSample_biasPop\n",
      "Passed on: 28_heart_disease calculate_overall_error_calculate_overall_inverse_f1_calculate_num_examples regSample_biasPop\n",
      "Passed on: 28_heart_disease calculate_class0_error_calculate_class1_error regSample_biasPop\n",
      "Passed on: 29_heart_disease calculate_overall_error_calculate_num_examples regSample_biasPop\n",
      "Passed on: 29_heart_disease calculate_overall_error_calculate_overall_inverse_f1_calculate_num_examples regSample_biasPop\n",
      "Passed on: 29_heart_disease calculate_class0_error_calculate_class1_error regSample_biasPop\n",
      "Passed on: 30_heart_disease calculate_overall_error_calculate_num_examples regSample_biasPop\n",
      "Passed on: 30_heart_disease calculate_overall_error_calculate_overall_inverse_f1_calculate_num_examples regSample_biasPop\n",
      "Passed on: 30_heart_disease calculate_class0_error_calculate_class1_error regSample_biasPop\n"
     ]
    },
    {
     "name": "stderr",
     "output_type": "stream",
     "text": [
      "e:\\Code\\3_13_venv\\Lib\\site-packages\\sklearn\\preprocessing\\_label.py:110: DataConversionWarning: A column-vector y was passed when a 1d array was expected. Please change the shape of y to (n_samples, ), for example using ravel().\n",
      "  y = column_or_1d(y, warn=True)\n",
      "e:\\Code\\3_13_venv\\Lib\\site-packages\\sklearn\\preprocessing\\_label.py:110: DataConversionWarning: A column-vector y was passed when a 1d array was expected. Please change the shape of y to (n_samples, ), for example using ravel().\n",
      "  y = column_or_1d(y, warn=True)\n"
     ]
    },
    {
     "name": "stdout",
     "output_type": "stream",
     "text": [
      "Passed on: 0_wisconsin calculate_overall_error_calculate_num_examples regSample_biasPop\n",
      "Passed on: 0_wisconsin calculate_overall_error_calculate_overall_inverse_f1_calculate_num_examples regSample_biasPop\n",
      "Passed on: 0_wisconsin calculate_class0_error_calculate_class1_error regSample_biasPop\n",
      "Passed on: 1_wisconsin calculate_overall_error_calculate_num_examples regSample_biasPop\n",
      "Passed on: 1_wisconsin calculate_overall_error_calculate_overall_inverse_f1_calculate_num_examples regSample_biasPop\n",
      "Passed on: 1_wisconsin calculate_class0_error_calculate_class1_error regSample_biasPop\n",
      "Passed on: 2_wisconsin calculate_overall_error_calculate_num_examples regSample_biasPop\n",
      "Passed on: 2_wisconsin calculate_overall_error_calculate_overall_inverse_f1_calculate_num_examples regSample_biasPop\n",
      "Passed on: 2_wisconsin calculate_class0_error_calculate_class1_error regSample_biasPop\n",
      "Passed on: 3_wisconsin calculate_overall_error_calculate_num_examples regSample_biasPop\n",
      "Passed on: 3_wisconsin calculate_overall_error_calculate_overall_inverse_f1_calculate_num_examples regSample_biasPop\n",
      "Passed on: 3_wisconsin calculate_class0_error_calculate_class1_error regSample_biasPop\n",
      "Passed on: 4_wisconsin calculate_overall_error_calculate_num_examples regSample_biasPop\n",
      "Passed on: 4_wisconsin calculate_overall_error_calculate_overall_inverse_f1_calculate_num_examples regSample_biasPop\n",
      "Passed on: 4_wisconsin calculate_class0_error_calculate_class1_error regSample_biasPop\n",
      "Passed on: 5_wisconsin calculate_overall_error_calculate_num_examples regSample_biasPop\n",
      "Passed on: 5_wisconsin calculate_overall_error_calculate_overall_inverse_f1_calculate_num_examples regSample_biasPop\n",
      "Passed on: 5_wisconsin calculate_class0_error_calculate_class1_error regSample_biasPop\n",
      "Passed on: 6_wisconsin calculate_overall_error_calculate_num_examples regSample_biasPop\n",
      "Passed on: 6_wisconsin calculate_overall_error_calculate_overall_inverse_f1_calculate_num_examples regSample_biasPop\n",
      "Passed on: 6_wisconsin calculate_class0_error_calculate_class1_error regSample_biasPop\n",
      "Passed on: 7_wisconsin calculate_overall_error_calculate_num_examples regSample_biasPop\n",
      "Passed on: 7_wisconsin calculate_overall_error_calculate_overall_inverse_f1_calculate_num_examples regSample_biasPop\n",
      "Passed on: 7_wisconsin calculate_class0_error_calculate_class1_error regSample_biasPop\n",
      "Passed on: 8_wisconsin calculate_overall_error_calculate_num_examples regSample_biasPop\n",
      "Passed on: 8_wisconsin calculate_overall_error_calculate_overall_inverse_f1_calculate_num_examples regSample_biasPop\n",
      "Passed on: 8_wisconsin calculate_class0_error_calculate_class1_error regSample_biasPop\n",
      "Passed on: 9_wisconsin calculate_overall_error_calculate_num_examples regSample_biasPop\n",
      "Passed on: 9_wisconsin calculate_overall_error_calculate_overall_inverse_f1_calculate_num_examples regSample_biasPop\n",
      "Passed on: 9_wisconsin calculate_class0_error_calculate_class1_error regSample_biasPop\n",
      "Passed on: 10_wisconsin calculate_overall_error_calculate_num_examples regSample_biasPop\n",
      "Passed on: 10_wisconsin calculate_overall_error_calculate_overall_inverse_f1_calculate_num_examples regSample_biasPop\n",
      "Passed on: 10_wisconsin calculate_class0_error_calculate_class1_error regSample_biasPop\n",
      "Passed on: 11_wisconsin calculate_overall_error_calculate_num_examples regSample_biasPop\n",
      "Passed on: 11_wisconsin calculate_overall_error_calculate_overall_inverse_f1_calculate_num_examples regSample_biasPop\n",
      "Passed on: 11_wisconsin calculate_class0_error_calculate_class1_error regSample_biasPop\n",
      "Passed on: 12_wisconsin calculate_overall_error_calculate_num_examples regSample_biasPop\n",
      "Passed on: 12_wisconsin calculate_overall_error_calculate_overall_inverse_f1_calculate_num_examples regSample_biasPop\n",
      "Passed on: 12_wisconsin calculate_class0_error_calculate_class1_error regSample_biasPop\n",
      "Passed on: 13_wisconsin calculate_overall_error_calculate_num_examples regSample_biasPop\n",
      "Passed on: 13_wisconsin calculate_overall_error_calculate_overall_inverse_f1_calculate_num_examples regSample_biasPop\n",
      "Passed on: 13_wisconsin calculate_class0_error_calculate_class1_error regSample_biasPop\n",
      "Passed on: 14_wisconsin calculate_overall_error_calculate_num_examples regSample_biasPop\n",
      "Passed on: 14_wisconsin calculate_overall_error_calculate_overall_inverse_f1_calculate_num_examples regSample_biasPop\n",
      "Passed on: 14_wisconsin calculate_class0_error_calculate_class1_error regSample_biasPop\n",
      "Passed on: 15_wisconsin calculate_overall_error_calculate_num_examples regSample_biasPop\n",
      "Passed on: 15_wisconsin calculate_overall_error_calculate_overall_inverse_f1_calculate_num_examples regSample_biasPop\n",
      "Passed on: 15_wisconsin calculate_class0_error_calculate_class1_error regSample_biasPop\n",
      "Passed on: 16_wisconsin calculate_overall_error_calculate_num_examples regSample_biasPop\n",
      "Passed on: 16_wisconsin calculate_overall_error_calculate_overall_inverse_f1_calculate_num_examples regSample_biasPop\n",
      "Passed on: 16_wisconsin calculate_class0_error_calculate_class1_error regSample_biasPop\n",
      "Passed on: 17_wisconsin calculate_overall_error_calculate_num_examples regSample_biasPop\n",
      "Passed on: 17_wisconsin calculate_overall_error_calculate_overall_inverse_f1_calculate_num_examples regSample_biasPop\n",
      "Passed on: 17_wisconsin calculate_class0_error_calculate_class1_error regSample_biasPop\n",
      "Passed on: 18_wisconsin calculate_overall_error_calculate_num_examples regSample_biasPop\n",
      "Passed on: 18_wisconsin calculate_overall_error_calculate_overall_inverse_f1_calculate_num_examples regSample_biasPop\n",
      "Passed on: 18_wisconsin calculate_class0_error_calculate_class1_error regSample_biasPop\n",
      "Passed on: 19_wisconsin calculate_overall_error_calculate_num_examples regSample_biasPop\n",
      "Passed on: 19_wisconsin calculate_overall_error_calculate_overall_inverse_f1_calculate_num_examples regSample_biasPop\n",
      "Passed on: 19_wisconsin calculate_class0_error_calculate_class1_error regSample_biasPop\n",
      "Passed on: 20_wisconsin calculate_overall_error_calculate_num_examples regSample_biasPop\n",
      "Passed on: 20_wisconsin calculate_overall_error_calculate_overall_inverse_f1_calculate_num_examples regSample_biasPop\n",
      "Passed on: 20_wisconsin calculate_class0_error_calculate_class1_error regSample_biasPop\n",
      "Passed on: 21_wisconsin calculate_overall_error_calculate_num_examples regSample_biasPop\n",
      "Passed on: 21_wisconsin calculate_overall_error_calculate_overall_inverse_f1_calculate_num_examples regSample_biasPop\n",
      "Passed on: 21_wisconsin calculate_class0_error_calculate_class1_error regSample_biasPop\n",
      "Passed on: 22_wisconsin calculate_overall_error_calculate_num_examples regSample_biasPop\n",
      "Passed on: 22_wisconsin calculate_overall_error_calculate_overall_inverse_f1_calculate_num_examples regSample_biasPop\n",
      "Passed on: 22_wisconsin calculate_class0_error_calculate_class1_error regSample_biasPop\n",
      "Passed on: 23_wisconsin calculate_overall_error_calculate_num_examples regSample_biasPop\n",
      "Passed on: 23_wisconsin calculate_overall_error_calculate_overall_inverse_f1_calculate_num_examples regSample_biasPop\n",
      "Passed on: 23_wisconsin calculate_class0_error_calculate_class1_error regSample_biasPop\n",
      "Passed on: 24_wisconsin calculate_overall_error_calculate_num_examples regSample_biasPop\n",
      "Passed on: 24_wisconsin calculate_overall_error_calculate_overall_inverse_f1_calculate_num_examples regSample_biasPop\n",
      "Passed on: 24_wisconsin calculate_class0_error_calculate_class1_error regSample_biasPop\n",
      "Passed on: 25_wisconsin calculate_overall_error_calculate_num_examples regSample_biasPop\n",
      "Passed on: 25_wisconsin calculate_overall_error_calculate_overall_inverse_f1_calculate_num_examples regSample_biasPop\n",
      "Passed on: 25_wisconsin calculate_class0_error_calculate_class1_error regSample_biasPop\n",
      "Passed on: 26_wisconsin calculate_overall_error_calculate_num_examples regSample_biasPop\n",
      "Passed on: 26_wisconsin calculate_overall_error_calculate_overall_inverse_f1_calculate_num_examples regSample_biasPop\n",
      "Passed on: 26_wisconsin calculate_class0_error_calculate_class1_error regSample_biasPop\n",
      "Passed on: 27_wisconsin calculate_overall_error_calculate_num_examples regSample_biasPop\n",
      "Passed on: 27_wisconsin calculate_overall_error_calculate_overall_inverse_f1_calculate_num_examples regSample_biasPop\n",
      "Passed on: 27_wisconsin calculate_class0_error_calculate_class1_error regSample_biasPop\n",
      "Passed on: 28_wisconsin calculate_overall_error_calculate_num_examples regSample_biasPop\n",
      "Passed on: 28_wisconsin calculate_overall_error_calculate_overall_inverse_f1_calculate_num_examples regSample_biasPop\n",
      "Passed on: 28_wisconsin calculate_class0_error_calculate_class1_error regSample_biasPop\n",
      "Passed on: 29_wisconsin calculate_overall_error_calculate_num_examples regSample_biasPop\n",
      "Passed on: 29_wisconsin calculate_overall_error_calculate_overall_inverse_f1_calculate_num_examples regSample_biasPop\n",
      "Passed on: 29_wisconsin calculate_class0_error_calculate_class1_error regSample_biasPop\n",
      "Passed on: 30_wisconsin calculate_overall_error_calculate_num_examples regSample_biasPop\n",
      "Passed on: 30_wisconsin calculate_overall_error_calculate_overall_inverse_f1_calculate_num_examples regSample_biasPop\n",
      "Passed on: 30_wisconsin calculate_class0_error_calculate_class1_error regSample_biasPop\n"
     ]
    },
    {
     "name": "stderr",
     "output_type": "stream",
     "text": [
      "e:\\Code\\3_13_venv\\Lib\\site-packages\\sklearn\\preprocessing\\_label.py:110: DataConversionWarning: A column-vector y was passed when a 1d array was expected. Please change the shape of y to (n_samples, ), for example using ravel().\n",
      "  y = column_or_1d(y, warn=True)\n",
      "e:\\Code\\3_13_venv\\Lib\\site-packages\\sklearn\\preprocessing\\_label.py:110: DataConversionWarning: A column-vector y was passed when a 1d array was expected. Please change the shape of y to (n_samples, ), for example using ravel().\n",
      "  y = column_or_1d(y, warn=True)\n",
      "e:\\Code\\3_13_venv\\Lib\\site-packages\\sklearn\\preprocessing\\_label.py:110: DataConversionWarning: A column-vector y was passed when a 1d array was expected. Please change the shape of y to (n_samples, ), for example using ravel().\n",
      "  y = column_or_1d(y, warn=True)\n",
      "e:\\Code\\3_13_venv\\Lib\\site-packages\\sklearn\\preprocessing\\_label.py:110: DataConversionWarning: A column-vector y was passed when a 1d array was expected. Please change the shape of y to (n_samples, ), for example using ravel().\n",
      "  y = column_or_1d(y, warn=True)\n",
      "e:\\Code\\3_13_venv\\Lib\\site-packages\\sklearn\\preprocessing\\_label.py:110: DataConversionWarning: A column-vector y was passed when a 1d array was expected. Please change the shape of y to (n_samples, ), for example using ravel().\n",
      "  y = column_or_1d(y, warn=True)\n"
     ]
    }
   ],
   "source": [
    "for dataset, name in datasets:\n",
    "\t\n",
    "\traw_X, y = dataset.data.features, dataset.data.targets\n",
    "\tpipeline = create_preprocessor_pipeline(dataset.variables)\n",
    "\tpipeline.fit(raw_X, y)\n",
    "\tX = pipeline.transform(raw_X)\n",
    "\tlabel_encoder = LabelEncoder()\n",
    "\ty = label_encoder.fit_transform(y)\n",
    "\t\n",
    "\tpackages = []\n",
    "\tfor c, (train_idx, validation_idx, test_idx) in enumerate(prepare_splits(X, y)):\n",
    "\t\tfor objectives in objectives_sets:\n",
    "\t\t\tobjectives_names = [re.search(r'\\.([a-zA-Z_][a-zA-Z0-9_]*)\\s', str(objective_name)).group(1) for objective_name in objectives]\n",
    "\t\t\tobjectives_names = '_'.join(objectives_names)\t\t\t\n",
    "\t\t\tpackages.append((X, y, train_idx, validation_idx, test_idx, objectives, f\"{c}_{name} {objectives_names} regSample_biasPop\"))\n",
    "\n",
    "\t# for package in packages:\n",
    "\t# \tif os.path.exists(os.path.join(\"results\", f\"{package[-1]}.pickle\")):\n",
    "\t# \t\tcontinue\n",
    "\t# \tprint(f\"Executing {package[-1]}\")\n",
    "\t# \toverSample_biasPop_execute(package)\n",
    "\n",
    "\tresults = Parallel(n_jobs=-1)(delayed(regularSample_biasPop_execute)(package) for package in packages)\n",
    "\tfor result in results:\n",
    "\t\tif isinstance(result, str):\n",
    "\t\t\tprint(f\"Passed on: {result}\")\n",
    "\t\t\tcontinue\n",
    "\n",
    "\t\twith open(os.path.join(\"results\", f\"{result['name']}.pickle\"), 'wb') as fh:\n",
    "\t\t\tpickle.dump(result, fh)\t\n"
   ]
  },
  {
   "cell_type": "markdown",
   "metadata": {},
   "source": [
    "# Calculations"
   ]
  },
  {
   "cell_type": "code",
   "execution_count": 4,
   "metadata": {},
   "outputs": [],
   "source": [
    "def parallel_error(instance, x_train, y_train, x_compare, y_compare):\n",
    "\tx_filtered, y_filtered = x_train[instance], y_train[instance]\n",
    "\tif x_filtered.shape[0] < GenericOptimizer.n_neighbours: \n",
    "\t\terror = 1\n",
    "\telse:\n",
    "\t\tknn = KNeighborsClassifier(n_neighbors=GenericOptimizer.n_neighbours)\n",
    "\t\tknn.fit(x_filtered, y_filtered)\n",
    "\t\ty_pred = knn.predict(x_compare)\n",
    "\t\terror = 1 - accuracy_score(y_compare, y_pred)\n",
    "\treturn error\n",
    "\n",
    "def calculate_metrics(x_train, y_train, x_validation, y_validation, x_test, y_test, result):\n",
    "\tbaseline_validation_err = GenericOptimizer.calculate_overall_error(\n",
    "\t\tx_train, y_train,\n",
    "\t\tx_validation, y_validation,\n",
    "\t\tGenericOptimizer.n_neighbours\n",
    "\t)\n",
    "\tbaseline_test_err = GenericOptimizer.calculate_overall_error(\n",
    "\t\tx_train, y_train,\n",
    "\t\tx_test, y_test,\n",
    "\t\tGenericOptimizer.n_neighbours\n",
    "\t)\n",
    "\n",
    "\tvalidation_F = Parallel(n_jobs=-1)(delayed(parallel_error)(instance, x_train, y_train, x_validation, y_validation) for instance in result.X)\n",
    "\ttest_F = Parallel(n_jobs=-1)(delayed(parallel_error)(instance, x_train, y_train, x_test, y_test) for instance in result.X)\n",
    "\tideal_validation = result.X[np.argmin(validation_F)]\n",
    "\tideal_test = result.X[np.argmin(test_F)]\n",
    "\t\n",
    "\tvalidation_inclusions = np.sum(ideal_validation)\n",
    "\ttest_inclusions = np.sum(ideal_test)\n",
    "\n",
    "\t# reduction_rate = 1 - (best_x_train.shape[0] / x_train.shape[0])\n",
    "\t# optimized_ir = GenericOptimizer.calculate_IR(best_y_train)\n",
    "\toptimized_validation_err = GenericOptimizer.calculate_overall_error(\n",
    "\t\tx_train[ideal_validation],\n",
    "\t\ty_train[ideal_validation],\n",
    "\t\tx_validation,\n",
    "\t\ty_validation,\n",
    "\t\tGenericOptimizer.n_neighbours\n",
    "\t)\n",
    "\toptimized_test_err = GenericOptimizer.calculate_overall_error(\n",
    "\t\tx_train[ideal_validation],\n",
    "\t\ty_train[ideal_validation],\n",
    "\t\tx_test,\n",
    "\t\ty_test,\n",
    "\t\tGenericOptimizer.n_neighbours\n",
    "\t)\n",
    "\tideal_optimized_test_err = GenericOptimizer.calculate_overall_error(\n",
    "\t\tx_train[ideal_test],\n",
    "\t\ty_train[ideal_test],\n",
    "\t\tx_test,\n",
    "\t\ty_test,\n",
    "\t\tGenericOptimizer.n_neighbours\n",
    "\t)\n",
    "\treturn validation_inclusions, test_inclusions, baseline_validation_err, baseline_test_err, optimized_validation_err, optimized_test_err, ideal_optimized_test_err\n"
   ]
  },
  {
   "cell_type": "code",
   "execution_count": 5,
   "metadata": {},
   "outputs": [],
   "source": [
    "save_path = \"results\"\n",
    "\n",
    "iteration_mappings = {}\n",
    "for file in os.listdir(\"results\"):\n",
    "\texecution_name = \"_\".join(file.replace(\".pickle\", \"\").split(\"_\")[1:])\n",
    "\tif execution_name not in iteration_mappings:\n",
    "\t\titeration_mappings[execution_name] = []\n",
    "\titeration_mappings[execution_name].append(file)"
   ]
  },
  {
   "cell_type": "code",
   "execution_count": 17,
   "metadata": {},
   "outputs": [
    {
     "name": "stderr",
     "output_type": "stream",
     "text": [
      "e:\\Code\\3_13_venv\\Lib\\site-packages\\sklearn\\preprocessing\\_label.py:110: DataConversionWarning: A column-vector y was passed when a 1d array was expected. Please change the shape of y to (n_samples, ), for example using ravel().\n",
      "  y = column_or_1d(y, warn=True)\n"
     ]
    },
    {
     "name": "stdout",
     "output_type": "stream",
     "text": [
      "690 267\n"
     ]
    },
    {
     "name": "stderr",
     "output_type": "stream",
     "text": [
      "e:\\Code\\3_13_venv\\Lib\\site-packages\\sklearn\\preprocessing\\_label.py:110: DataConversionWarning: A column-vector y was passed when a 1d array was expected. Please change the shape of y to (n_samples, ), for example using ravel().\n",
      "  y = column_or_1d(y, warn=True)\n"
     ]
    },
    {
     "name": "stdout",
     "output_type": "stream",
     "text": [
      "690 269\n"
     ]
    },
    {
     "name": "stderr",
     "output_type": "stream",
     "text": [
      "e:\\Code\\3_13_venv\\Lib\\site-packages\\sklearn\\preprocessing\\_label.py:110: DataConversionWarning: A column-vector y was passed when a 1d array was expected. Please change the shape of y to (n_samples, ), for example using ravel().\n",
      "  y = column_or_1d(y, warn=True)\n"
     ]
    },
    {
     "name": "stdout",
     "output_type": "stream",
     "text": [
      "690 198\n"
     ]
    },
    {
     "name": "stderr",
     "output_type": "stream",
     "text": [
      "e:\\Code\\3_13_venv\\Lib\\site-packages\\sklearn\\preprocessing\\_label.py:110: DataConversionWarning: A column-vector y was passed when a 1d array was expected. Please change the shape of y to (n_samples, ), for example using ravel().\n",
      "  y = column_or_1d(y, warn=True)\n"
     ]
    },
    {
     "name": "stdout",
     "output_type": "stream",
     "text": [
      "690 172\n"
     ]
    },
    {
     "name": "stderr",
     "output_type": "stream",
     "text": [
      "e:\\Code\\3_13_venv\\Lib\\site-packages\\sklearn\\preprocessing\\_label.py:110: DataConversionWarning: A column-vector y was passed when a 1d array was expected. Please change the shape of y to (n_samples, ), for example using ravel().\n",
      "  y = column_or_1d(y, warn=True)\n"
     ]
    },
    {
     "name": "stdout",
     "output_type": "stream",
     "text": [
      "690 68\n"
     ]
    },
    {
     "name": "stderr",
     "output_type": "stream",
     "text": [
      "e:\\Code\\3_13_venv\\Lib\\site-packages\\sklearn\\preprocessing\\_label.py:110: DataConversionWarning: A column-vector y was passed when a 1d array was expected. Please change the shape of y to (n_samples, ), for example using ravel().\n",
      "  y = column_or_1d(y, warn=True)\n"
     ]
    },
    {
     "name": "stdout",
     "output_type": "stream",
     "text": [
      "690 51\n"
     ]
    },
    {
     "name": "stderr",
     "output_type": "stream",
     "text": [
      "e:\\Code\\3_13_venv\\Lib\\site-packages\\sklearn\\preprocessing\\_label.py:110: DataConversionWarning: A column-vector y was passed when a 1d array was expected. Please change the shape of y to (n_samples, ), for example using ravel().\n",
      "  y = column_or_1d(y, warn=True)\n"
     ]
    },
    {
     "name": "stdout",
     "output_type": "stream",
     "text": [
      "690 46\n"
     ]
    },
    {
     "name": "stderr",
     "output_type": "stream",
     "text": [
      "e:\\Code\\3_13_venv\\Lib\\site-packages\\sklearn\\preprocessing\\_label.py:110: DataConversionWarning: A column-vector y was passed when a 1d array was expected. Please change the shape of y to (n_samples, ), for example using ravel().\n",
      "  y = column_or_1d(y, warn=True)\n"
     ]
    },
    {
     "name": "stdout",
     "output_type": "stream",
     "text": [
      "690 37\n"
     ]
    },
    {
     "name": "stderr",
     "output_type": "stream",
     "text": [
      "e:\\Code\\3_13_venv\\Lib\\site-packages\\sklearn\\preprocessing\\_label.py:110: DataConversionWarning: A column-vector y was passed when a 1d array was expected. Please change the shape of y to (n_samples, ), for example using ravel().\n",
      "  y = column_or_1d(y, warn=True)\n"
     ]
    },
    {
     "name": "stdout",
     "output_type": "stream",
     "text": [
      "690 111\n"
     ]
    },
    {
     "name": "stderr",
     "output_type": "stream",
     "text": [
      "e:\\Code\\3_13_venv\\Lib\\site-packages\\sklearn\\preprocessing\\_label.py:110: DataConversionWarning: A column-vector y was passed when a 1d array was expected. Please change the shape of y to (n_samples, ), for example using ravel().\n",
      "  y = column_or_1d(y, warn=True)\n"
     ]
    },
    {
     "name": "stdout",
     "output_type": "stream",
     "text": [
      "690 117\n"
     ]
    },
    {
     "name": "stderr",
     "output_type": "stream",
     "text": [
      "e:\\Code\\3_13_venv\\Lib\\site-packages\\sklearn\\preprocessing\\_label.py:110: DataConversionWarning: A column-vector y was passed when a 1d array was expected. Please change the shape of y to (n_samples, ), for example using ravel().\n",
      "  y = column_or_1d(y, warn=True)\n"
     ]
    },
    {
     "name": "stdout",
     "output_type": "stream",
     "text": [
      "690 52\n"
     ]
    },
    {
     "name": "stderr",
     "output_type": "stream",
     "text": [
      "e:\\Code\\3_13_venv\\Lib\\site-packages\\sklearn\\preprocessing\\_label.py:110: DataConversionWarning: A column-vector y was passed when a 1d array was expected. Please change the shape of y to (n_samples, ), for example using ravel().\n",
      "  y = column_or_1d(y, warn=True)\n"
     ]
    },
    {
     "name": "stdout",
     "output_type": "stream",
     "text": [
      "690 48\n"
     ]
    },
    {
     "name": "stderr",
     "output_type": "stream",
     "text": [
      "e:\\Code\\3_13_venv\\Lib\\site-packages\\sklearn\\preprocessing\\_label.py:110: DataConversionWarning: A column-vector y was passed when a 1d array was expected. Please change the shape of y to (n_samples, ), for example using ravel().\n",
      "  y = column_or_1d(y, warn=True)\n"
     ]
    },
    {
     "name": "stdout",
     "output_type": "stream",
     "text": [
      "116 45\n"
     ]
    },
    {
     "name": "stderr",
     "output_type": "stream",
     "text": [
      "e:\\Code\\3_13_venv\\Lib\\site-packages\\sklearn\\preprocessing\\_label.py:110: DataConversionWarning: A column-vector y was passed when a 1d array was expected. Please change the shape of y to (n_samples, ), for example using ravel().\n",
      "  y = column_or_1d(y, warn=True)\n"
     ]
    },
    {
     "name": "stdout",
     "output_type": "stream",
     "text": [
      "116 38\n"
     ]
    },
    {
     "name": "stderr",
     "output_type": "stream",
     "text": [
      "e:\\Code\\3_13_venv\\Lib\\site-packages\\sklearn\\preprocessing\\_label.py:110: DataConversionWarning: A column-vector y was passed when a 1d array was expected. Please change the shape of y to (n_samples, ), for example using ravel().\n",
      "  y = column_or_1d(y, warn=True)\n"
     ]
    },
    {
     "name": "stdout",
     "output_type": "stream",
     "text": [
      "116 31\n"
     ]
    },
    {
     "name": "stderr",
     "output_type": "stream",
     "text": [
      "e:\\Code\\3_13_venv\\Lib\\site-packages\\sklearn\\preprocessing\\_label.py:110: DataConversionWarning: A column-vector y was passed when a 1d array was expected. Please change the shape of y to (n_samples, ), for example using ravel().\n",
      "  y = column_or_1d(y, warn=True)\n"
     ]
    },
    {
     "name": "stdout",
     "output_type": "stream",
     "text": [
      "116 31\n"
     ]
    },
    {
     "name": "stderr",
     "output_type": "stream",
     "text": [
      "e:\\Code\\3_13_venv\\Lib\\site-packages\\sklearn\\preprocessing\\_label.py:110: DataConversionWarning: A column-vector y was passed when a 1d array was expected. Please change the shape of y to (n_samples, ), for example using ravel().\n",
      "  y = column_or_1d(y, warn=True)\n"
     ]
    },
    {
     "name": "stdout",
     "output_type": "stream",
     "text": [
      "116 6\n"
     ]
    },
    {
     "name": "stderr",
     "output_type": "stream",
     "text": [
      "e:\\Code\\3_13_venv\\Lib\\site-packages\\sklearn\\preprocessing\\_label.py:110: DataConversionWarning: A column-vector y was passed when a 1d array was expected. Please change the shape of y to (n_samples, ), for example using ravel().\n",
      "  y = column_or_1d(y, warn=True)\n"
     ]
    },
    {
     "name": "stdout",
     "output_type": "stream",
     "text": [
      "116 13\n"
     ]
    },
    {
     "name": "stderr",
     "output_type": "stream",
     "text": [
      "e:\\Code\\3_13_venv\\Lib\\site-packages\\sklearn\\preprocessing\\_label.py:110: DataConversionWarning: A column-vector y was passed when a 1d array was expected. Please change the shape of y to (n_samples, ), for example using ravel().\n",
      "  y = column_or_1d(y, warn=True)\n"
     ]
    },
    {
     "name": "stdout",
     "output_type": "stream",
     "text": [
      "116 7\n"
     ]
    },
    {
     "name": "stderr",
     "output_type": "stream",
     "text": [
      "e:\\Code\\3_13_venv\\Lib\\site-packages\\sklearn\\preprocessing\\_label.py:110: DataConversionWarning: A column-vector y was passed when a 1d array was expected. Please change the shape of y to (n_samples, ), for example using ravel().\n",
      "  y = column_or_1d(y, warn=True)\n"
     ]
    },
    {
     "name": "stdout",
     "output_type": "stream",
     "text": [
      "116 6\n"
     ]
    },
    {
     "name": "stderr",
     "output_type": "stream",
     "text": [
      "e:\\Code\\3_13_venv\\Lib\\site-packages\\sklearn\\preprocessing\\_label.py:110: DataConversionWarning: A column-vector y was passed when a 1d array was expected. Please change the shape of y to (n_samples, ), for example using ravel().\n",
      "  y = column_or_1d(y, warn=True)\n"
     ]
    },
    {
     "name": "stdout",
     "output_type": "stream",
     "text": [
      "116 14\n"
     ]
    },
    {
     "name": "stderr",
     "output_type": "stream",
     "text": [
      "e:\\Code\\3_13_venv\\Lib\\site-packages\\sklearn\\preprocessing\\_label.py:110: DataConversionWarning: A column-vector y was passed when a 1d array was expected. Please change the shape of y to (n_samples, ), for example using ravel().\n",
      "  y = column_or_1d(y, warn=True)\n"
     ]
    },
    {
     "name": "stdout",
     "output_type": "stream",
     "text": [
      "116 14\n"
     ]
    },
    {
     "name": "stderr",
     "output_type": "stream",
     "text": [
      "e:\\Code\\3_13_venv\\Lib\\site-packages\\sklearn\\preprocessing\\_label.py:110: DataConversionWarning: A column-vector y was passed when a 1d array was expected. Please change the shape of y to (n_samples, ), for example using ravel().\n",
      "  y = column_or_1d(y, warn=True)\n"
     ]
    },
    {
     "name": "stdout",
     "output_type": "stream",
     "text": [
      "116 8\n"
     ]
    },
    {
     "name": "stderr",
     "output_type": "stream",
     "text": [
      "e:\\Code\\3_13_venv\\Lib\\site-packages\\sklearn\\preprocessing\\_label.py:110: DataConversionWarning: A column-vector y was passed when a 1d array was expected. Please change the shape of y to (n_samples, ), for example using ravel().\n",
      "  y = column_or_1d(y, warn=True)\n"
     ]
    },
    {
     "name": "stdout",
     "output_type": "stream",
     "text": [
      "116 7\n"
     ]
    },
    {
     "name": "stderr",
     "output_type": "stream",
     "text": [
      "e:\\Code\\3_13_venv\\Lib\\site-packages\\sklearn\\preprocessing\\_label.py:110: DataConversionWarning: A column-vector y was passed when a 1d array was expected. Please change the shape of y to (n_samples, ), for example using ravel().\n",
      "  y = column_or_1d(y, warn=True)\n"
     ]
    },
    {
     "name": "stdout",
     "output_type": "stream",
     "text": [
      "100 32\n"
     ]
    },
    {
     "name": "stderr",
     "output_type": "stream",
     "text": [
      "e:\\Code\\3_13_venv\\Lib\\site-packages\\sklearn\\preprocessing\\_label.py:110: DataConversionWarning: A column-vector y was passed when a 1d array was expected. Please change the shape of y to (n_samples, ), for example using ravel().\n",
      "  y = column_or_1d(y, warn=True)\n"
     ]
    },
    {
     "name": "stdout",
     "output_type": "stream",
     "text": [
      "100 28\n"
     ]
    },
    {
     "name": "stderr",
     "output_type": "stream",
     "text": [
      "e:\\Code\\3_13_venv\\Lib\\site-packages\\sklearn\\preprocessing\\_label.py:110: DataConversionWarning: A column-vector y was passed when a 1d array was expected. Please change the shape of y to (n_samples, ), for example using ravel().\n",
      "  y = column_or_1d(y, warn=True)\n"
     ]
    },
    {
     "name": "stdout",
     "output_type": "stream",
     "text": [
      "100 28\n"
     ]
    },
    {
     "name": "stderr",
     "output_type": "stream",
     "text": [
      "e:\\Code\\3_13_venv\\Lib\\site-packages\\sklearn\\preprocessing\\_label.py:110: DataConversionWarning: A column-vector y was passed when a 1d array was expected. Please change the shape of y to (n_samples, ), for example using ravel().\n",
      "  y = column_or_1d(y, warn=True)\n"
     ]
    },
    {
     "name": "stdout",
     "output_type": "stream",
     "text": [
      "100 27\n"
     ]
    },
    {
     "name": "stderr",
     "output_type": "stream",
     "text": [
      "e:\\Code\\3_13_venv\\Lib\\site-packages\\sklearn\\preprocessing\\_label.py:110: DataConversionWarning: A column-vector y was passed when a 1d array was expected. Please change the shape of y to (n_samples, ), for example using ravel().\n",
      "  y = column_or_1d(y, warn=True)\n"
     ]
    },
    {
     "name": "stdout",
     "output_type": "stream",
     "text": [
      "100 7\n"
     ]
    },
    {
     "name": "stderr",
     "output_type": "stream",
     "text": [
      "e:\\Code\\3_13_venv\\Lib\\site-packages\\sklearn\\preprocessing\\_label.py:110: DataConversionWarning: A column-vector y was passed when a 1d array was expected. Please change the shape of y to (n_samples, ), for example using ravel().\n",
      "  y = column_or_1d(y, warn=True)\n"
     ]
    },
    {
     "name": "stdout",
     "output_type": "stream",
     "text": [
      "100 5\n"
     ]
    },
    {
     "name": "stderr",
     "output_type": "stream",
     "text": [
      "e:\\Code\\3_13_venv\\Lib\\site-packages\\sklearn\\preprocessing\\_label.py:110: DataConversionWarning: A column-vector y was passed when a 1d array was expected. Please change the shape of y to (n_samples, ), for example using ravel().\n",
      "  y = column_or_1d(y, warn=True)\n"
     ]
    },
    {
     "name": "stdout",
     "output_type": "stream",
     "text": [
      "100 5\n"
     ]
    },
    {
     "name": "stderr",
     "output_type": "stream",
     "text": [
      "e:\\Code\\3_13_venv\\Lib\\site-packages\\sklearn\\preprocessing\\_label.py:110: DataConversionWarning: A column-vector y was passed when a 1d array was expected. Please change the shape of y to (n_samples, ), for example using ravel().\n",
      "  y = column_or_1d(y, warn=True)\n"
     ]
    },
    {
     "name": "stdout",
     "output_type": "stream",
     "text": [
      "100 5\n"
     ]
    },
    {
     "name": "stderr",
     "output_type": "stream",
     "text": [
      "e:\\Code\\3_13_venv\\Lib\\site-packages\\sklearn\\preprocessing\\_label.py:110: DataConversionWarning: A column-vector y was passed when a 1d array was expected. Please change the shape of y to (n_samples, ), for example using ravel().\n",
      "  y = column_or_1d(y, warn=True)\n"
     ]
    },
    {
     "name": "stdout",
     "output_type": "stream",
     "text": [
      "100 5\n"
     ]
    },
    {
     "name": "stderr",
     "output_type": "stream",
     "text": [
      "e:\\Code\\3_13_venv\\Lib\\site-packages\\sklearn\\preprocessing\\_label.py:110: DataConversionWarning: A column-vector y was passed when a 1d array was expected. Please change the shape of y to (n_samples, ), for example using ravel().\n",
      "  y = column_or_1d(y, warn=True)\n"
     ]
    },
    {
     "name": "stdout",
     "output_type": "stream",
     "text": [
      "100 5\n"
     ]
    },
    {
     "name": "stderr",
     "output_type": "stream",
     "text": [
      "e:\\Code\\3_13_venv\\Lib\\site-packages\\sklearn\\preprocessing\\_label.py:110: DataConversionWarning: A column-vector y was passed when a 1d array was expected. Please change the shape of y to (n_samples, ), for example using ravel().\n",
      "  y = column_or_1d(y, warn=True)\n"
     ]
    },
    {
     "name": "stdout",
     "output_type": "stream",
     "text": [
      "100 5\n"
     ]
    },
    {
     "name": "stderr",
     "output_type": "stream",
     "text": [
      "e:\\Code\\3_13_venv\\Lib\\site-packages\\sklearn\\preprocessing\\_label.py:110: DataConversionWarning: A column-vector y was passed when a 1d array was expected. Please change the shape of y to (n_samples, ), for example using ravel().\n",
      "  y = column_or_1d(y, warn=True)\n"
     ]
    },
    {
     "name": "stdout",
     "output_type": "stream",
     "text": [
      "100 5\n"
     ]
    },
    {
     "name": "stderr",
     "output_type": "stream",
     "text": [
      "e:\\Code\\3_13_venv\\Lib\\site-packages\\sklearn\\preprocessing\\_label.py:110: DataConversionWarning: A column-vector y was passed when a 1d array was expected. Please change the shape of y to (n_samples, ), for example using ravel().\n",
      "  y = column_or_1d(y, warn=True)\n"
     ]
    },
    {
     "name": "stdout",
     "output_type": "stream",
     "text": [
      "214 52\n"
     ]
    },
    {
     "name": "stderr",
     "output_type": "stream",
     "text": [
      "e:\\Code\\3_13_venv\\Lib\\site-packages\\sklearn\\preprocessing\\_label.py:110: DataConversionWarning: A column-vector y was passed when a 1d array was expected. Please change the shape of y to (n_samples, ), for example using ravel().\n",
      "  y = column_or_1d(y, warn=True)\n"
     ]
    },
    {
     "name": "stdout",
     "output_type": "stream",
     "text": [
      "214 60\n"
     ]
    },
    {
     "name": "stderr",
     "output_type": "stream",
     "text": [
      "e:\\Code\\3_13_venv\\Lib\\site-packages\\sklearn\\preprocessing\\_label.py:110: DataConversionWarning: A column-vector y was passed when a 1d array was expected. Please change the shape of y to (n_samples, ), for example using ravel().\n",
      "  y = column_or_1d(y, warn=True)\n"
     ]
    },
    {
     "name": "stdout",
     "output_type": "stream",
     "text": [
      "214 53\n"
     ]
    },
    {
     "name": "stderr",
     "output_type": "stream",
     "text": [
      "e:\\Code\\3_13_venv\\Lib\\site-packages\\sklearn\\preprocessing\\_label.py:110: DataConversionWarning: A column-vector y was passed when a 1d array was expected. Please change the shape of y to (n_samples, ), for example using ravel().\n",
      "  y = column_or_1d(y, warn=True)\n"
     ]
    },
    {
     "name": "stdout",
     "output_type": "stream",
     "text": [
      "214 61\n"
     ]
    },
    {
     "name": "stderr",
     "output_type": "stream",
     "text": [
      "e:\\Code\\3_13_venv\\Lib\\site-packages\\sklearn\\preprocessing\\_label.py:110: DataConversionWarning: A column-vector y was passed when a 1d array was expected. Please change the shape of y to (n_samples, ), for example using ravel().\n",
      "  y = column_or_1d(y, warn=True)\n"
     ]
    },
    {
     "name": "stdout",
     "output_type": "stream",
     "text": [
      "214 20\n"
     ]
    },
    {
     "name": "stderr",
     "output_type": "stream",
     "text": [
      "e:\\Code\\3_13_venv\\Lib\\site-packages\\sklearn\\preprocessing\\_label.py:110: DataConversionWarning: A column-vector y was passed when a 1d array was expected. Please change the shape of y to (n_samples, ), for example using ravel().\n",
      "  y = column_or_1d(y, warn=True)\n"
     ]
    },
    {
     "name": "stdout",
     "output_type": "stream",
     "text": [
      "214 26\n"
     ]
    },
    {
     "name": "stderr",
     "output_type": "stream",
     "text": [
      "e:\\Code\\3_13_venv\\Lib\\site-packages\\sklearn\\preprocessing\\_label.py:110: DataConversionWarning: A column-vector y was passed when a 1d array was expected. Please change the shape of y to (n_samples, ), for example using ravel().\n",
      "  y = column_or_1d(y, warn=True)\n"
     ]
    },
    {
     "name": "stdout",
     "output_type": "stream",
     "text": [
      "214 14\n"
     ]
    },
    {
     "name": "stderr",
     "output_type": "stream",
     "text": [
      "e:\\Code\\3_13_venv\\Lib\\site-packages\\sklearn\\preprocessing\\_label.py:110: DataConversionWarning: A column-vector y was passed when a 1d array was expected. Please change the shape of y to (n_samples, ), for example using ravel().\n",
      "  y = column_or_1d(y, warn=True)\n"
     ]
    },
    {
     "name": "stdout",
     "output_type": "stream",
     "text": [
      "214 35\n"
     ]
    },
    {
     "name": "stderr",
     "output_type": "stream",
     "text": [
      "e:\\Code\\3_13_venv\\Lib\\site-packages\\sklearn\\preprocessing\\_label.py:110: DataConversionWarning: A column-vector y was passed when a 1d array was expected. Please change the shape of y to (n_samples, ), for example using ravel().\n",
      "  y = column_or_1d(y, warn=True)\n"
     ]
    },
    {
     "name": "stdout",
     "output_type": "stream",
     "text": [
      "214 21\n"
     ]
    },
    {
     "name": "stderr",
     "output_type": "stream",
     "text": [
      "e:\\Code\\3_13_venv\\Lib\\site-packages\\sklearn\\preprocessing\\_label.py:110: DataConversionWarning: A column-vector y was passed when a 1d array was expected. Please change the shape of y to (n_samples, ), for example using ravel().\n",
      "  y = column_or_1d(y, warn=True)\n"
     ]
    },
    {
     "name": "stdout",
     "output_type": "stream",
     "text": [
      "214 12\n"
     ]
    },
    {
     "name": "stderr",
     "output_type": "stream",
     "text": [
      "e:\\Code\\3_13_venv\\Lib\\site-packages\\sklearn\\preprocessing\\_label.py:110: DataConversionWarning: A column-vector y was passed when a 1d array was expected. Please change the shape of y to (n_samples, ), for example using ravel().\n",
      "  y = column_or_1d(y, warn=True)\n"
     ]
    },
    {
     "name": "stdout",
     "output_type": "stream",
     "text": [
      "214 12\n"
     ]
    },
    {
     "name": "stderr",
     "output_type": "stream",
     "text": [
      "e:\\Code\\3_13_venv\\Lib\\site-packages\\sklearn\\preprocessing\\_label.py:110: DataConversionWarning: A column-vector y was passed when a 1d array was expected. Please change the shape of y to (n_samples, ), for example using ravel().\n",
      "  y = column_or_1d(y, warn=True)\n"
     ]
    },
    {
     "name": "stdout",
     "output_type": "stream",
     "text": [
      "214 28\n"
     ]
    },
    {
     "name": "stderr",
     "output_type": "stream",
     "text": [
      "e:\\Code\\3_13_venv\\Lib\\site-packages\\sklearn\\preprocessing\\_label.py:110: DataConversionWarning: A column-vector y was passed when a 1d array was expected. Please change the shape of y to (n_samples, ), for example using ravel().\n",
      "  y = column_or_1d(y, warn=True)\n"
     ]
    },
    {
     "name": "stdout",
     "output_type": "stream",
     "text": [
      "306 103\n"
     ]
    },
    {
     "name": "stderr",
     "output_type": "stream",
     "text": [
      "e:\\Code\\3_13_venv\\Lib\\site-packages\\sklearn\\preprocessing\\_label.py:110: DataConversionWarning: A column-vector y was passed when a 1d array was expected. Please change the shape of y to (n_samples, ), for example using ravel().\n",
      "  y = column_or_1d(y, warn=True)\n"
     ]
    },
    {
     "name": "stdout",
     "output_type": "stream",
     "text": [
      "306 99\n"
     ]
    },
    {
     "name": "stderr",
     "output_type": "stream",
     "text": [
      "e:\\Code\\3_13_venv\\Lib\\site-packages\\sklearn\\preprocessing\\_label.py:110: DataConversionWarning: A column-vector y was passed when a 1d array was expected. Please change the shape of y to (n_samples, ), for example using ravel().\n",
      "  y = column_or_1d(y, warn=True)\n"
     ]
    },
    {
     "name": "stdout",
     "output_type": "stream",
     "text": [
      "306 75\n"
     ]
    },
    {
     "name": "stderr",
     "output_type": "stream",
     "text": [
      "e:\\Code\\3_13_venv\\Lib\\site-packages\\sklearn\\preprocessing\\_label.py:110: DataConversionWarning: A column-vector y was passed when a 1d array was expected. Please change the shape of y to (n_samples, ), for example using ravel().\n",
      "  y = column_or_1d(y, warn=True)\n"
     ]
    },
    {
     "name": "stdout",
     "output_type": "stream",
     "text": [
      "306 65\n"
     ]
    },
    {
     "name": "stderr",
     "output_type": "stream",
     "text": [
      "e:\\Code\\3_13_venv\\Lib\\site-packages\\sklearn\\preprocessing\\_label.py:110: DataConversionWarning: A column-vector y was passed when a 1d array was expected. Please change the shape of y to (n_samples, ), for example using ravel().\n",
      "  y = column_or_1d(y, warn=True)\n"
     ]
    },
    {
     "name": "stdout",
     "output_type": "stream",
     "text": [
      "306 5\n"
     ]
    },
    {
     "name": "stderr",
     "output_type": "stream",
     "text": [
      "e:\\Code\\3_13_venv\\Lib\\site-packages\\sklearn\\preprocessing\\_label.py:110: DataConversionWarning: A column-vector y was passed when a 1d array was expected. Please change the shape of y to (n_samples, ), for example using ravel().\n",
      "  y = column_or_1d(y, warn=True)\n"
     ]
    },
    {
     "name": "stdout",
     "output_type": "stream",
     "text": [
      "306 6\n"
     ]
    },
    {
     "name": "stderr",
     "output_type": "stream",
     "text": [
      "e:\\Code\\3_13_venv\\Lib\\site-packages\\sklearn\\preprocessing\\_label.py:110: DataConversionWarning: A column-vector y was passed when a 1d array was expected. Please change the shape of y to (n_samples, ), for example using ravel().\n",
      "  y = column_or_1d(y, warn=True)\n"
     ]
    },
    {
     "name": "stdout",
     "output_type": "stream",
     "text": [
      "306 10\n"
     ]
    },
    {
     "name": "stderr",
     "output_type": "stream",
     "text": [
      "e:\\Code\\3_13_venv\\Lib\\site-packages\\sklearn\\preprocessing\\_label.py:110: DataConversionWarning: A column-vector y was passed when a 1d array was expected. Please change the shape of y to (n_samples, ), for example using ravel().\n",
      "  y = column_or_1d(y, warn=True)\n"
     ]
    },
    {
     "name": "stdout",
     "output_type": "stream",
     "text": [
      "306 6\n"
     ]
    },
    {
     "name": "stderr",
     "output_type": "stream",
     "text": [
      "e:\\Code\\3_13_venv\\Lib\\site-packages\\sklearn\\preprocessing\\_label.py:110: DataConversionWarning: A column-vector y was passed when a 1d array was expected. Please change the shape of y to (n_samples, ), for example using ravel().\n",
      "  y = column_or_1d(y, warn=True)\n"
     ]
    },
    {
     "name": "stdout",
     "output_type": "stream",
     "text": [
      "306 6\n"
     ]
    },
    {
     "name": "stderr",
     "output_type": "stream",
     "text": [
      "e:\\Code\\3_13_venv\\Lib\\site-packages\\sklearn\\preprocessing\\_label.py:110: DataConversionWarning: A column-vector y was passed when a 1d array was expected. Please change the shape of y to (n_samples, ), for example using ravel().\n",
      "  y = column_or_1d(y, warn=True)\n"
     ]
    },
    {
     "name": "stdout",
     "output_type": "stream",
     "text": [
      "306 7\n"
     ]
    },
    {
     "name": "stderr",
     "output_type": "stream",
     "text": [
      "e:\\Code\\3_13_venv\\Lib\\site-packages\\sklearn\\preprocessing\\_label.py:110: DataConversionWarning: A column-vector y was passed when a 1d array was expected. Please change the shape of y to (n_samples, ), for example using ravel().\n",
      "  y = column_or_1d(y, warn=True)\n"
     ]
    },
    {
     "name": "stdout",
     "output_type": "stream",
     "text": [
      "306 44\n"
     ]
    },
    {
     "name": "stderr",
     "output_type": "stream",
     "text": [
      "e:\\Code\\3_13_venv\\Lib\\site-packages\\sklearn\\preprocessing\\_label.py:110: DataConversionWarning: A column-vector y was passed when a 1d array was expected. Please change the shape of y to (n_samples, ), for example using ravel().\n",
      "  y = column_or_1d(y, warn=True)\n"
     ]
    },
    {
     "name": "stdout",
     "output_type": "stream",
     "text": [
      "306 8\n"
     ]
    },
    {
     "name": "stderr",
     "output_type": "stream",
     "text": [
      "e:\\Code\\3_13_venv\\Lib\\site-packages\\sklearn\\preprocessing\\_label.py:110: DataConversionWarning: A column-vector y was passed when a 1d array was expected. Please change the shape of y to (n_samples, ), for example using ravel().\n",
      "  y = column_or_1d(y, warn=True)\n"
     ]
    },
    {
     "name": "stdout",
     "output_type": "stream",
     "text": [
      "303 89\n"
     ]
    },
    {
     "name": "stderr",
     "output_type": "stream",
     "text": [
      "e:\\Code\\3_13_venv\\Lib\\site-packages\\sklearn\\preprocessing\\_label.py:110: DataConversionWarning: A column-vector y was passed when a 1d array was expected. Please change the shape of y to (n_samples, ), for example using ravel().\n",
      "  y = column_or_1d(y, warn=True)\n"
     ]
    },
    {
     "name": "stdout",
     "output_type": "stream",
     "text": [
      "303 78\n"
     ]
    },
    {
     "name": "stderr",
     "output_type": "stream",
     "text": [
      "e:\\Code\\3_13_venv\\Lib\\site-packages\\sklearn\\preprocessing\\_label.py:110: DataConversionWarning: A column-vector y was passed when a 1d array was expected. Please change the shape of y to (n_samples, ), for example using ravel().\n",
      "  y = column_or_1d(y, warn=True)\n"
     ]
    },
    {
     "name": "stdout",
     "output_type": "stream",
     "text": [
      "303 70\n"
     ]
    },
    {
     "name": "stderr",
     "output_type": "stream",
     "text": [
      "e:\\Code\\3_13_venv\\Lib\\site-packages\\sklearn\\preprocessing\\_label.py:110: DataConversionWarning: A column-vector y was passed when a 1d array was expected. Please change the shape of y to (n_samples, ), for example using ravel().\n",
      "  y = column_or_1d(y, warn=True)\n"
     ]
    },
    {
     "name": "stdout",
     "output_type": "stream",
     "text": [
      "303 74\n"
     ]
    },
    {
     "name": "stderr",
     "output_type": "stream",
     "text": [
      "e:\\Code\\3_13_venv\\Lib\\site-packages\\sklearn\\preprocessing\\_label.py:110: DataConversionWarning: A column-vector y was passed when a 1d array was expected. Please change the shape of y to (n_samples, ), for example using ravel().\n",
      "  y = column_or_1d(y, warn=True)\n"
     ]
    },
    {
     "name": "stdout",
     "output_type": "stream",
     "text": [
      "303 6\n"
     ]
    },
    {
     "name": "stderr",
     "output_type": "stream",
     "text": [
      "e:\\Code\\3_13_venv\\Lib\\site-packages\\sklearn\\preprocessing\\_label.py:110: DataConversionWarning: A column-vector y was passed when a 1d array was expected. Please change the shape of y to (n_samples, ), for example using ravel().\n",
      "  y = column_or_1d(y, warn=True)\n"
     ]
    },
    {
     "name": "stdout",
     "output_type": "stream",
     "text": [
      "303 8\n"
     ]
    },
    {
     "name": "stderr",
     "output_type": "stream",
     "text": [
      "e:\\Code\\3_13_venv\\Lib\\site-packages\\sklearn\\preprocessing\\_label.py:110: DataConversionWarning: A column-vector y was passed when a 1d array was expected. Please change the shape of y to (n_samples, ), for example using ravel().\n",
      "  y = column_or_1d(y, warn=True)\n"
     ]
    },
    {
     "name": "stdout",
     "output_type": "stream",
     "text": [
      "303 26\n"
     ]
    },
    {
     "name": "stderr",
     "output_type": "stream",
     "text": [
      "e:\\Code\\3_13_venv\\Lib\\site-packages\\sklearn\\preprocessing\\_label.py:110: DataConversionWarning: A column-vector y was passed when a 1d array was expected. Please change the shape of y to (n_samples, ), for example using ravel().\n",
      "  y = column_or_1d(y, warn=True)\n"
     ]
    },
    {
     "name": "stdout",
     "output_type": "stream",
     "text": [
      "303 19\n"
     ]
    },
    {
     "name": "stderr",
     "output_type": "stream",
     "text": [
      "e:\\Code\\3_13_venv\\Lib\\site-packages\\sklearn\\preprocessing\\_label.py:110: DataConversionWarning: A column-vector y was passed when a 1d array was expected. Please change the shape of y to (n_samples, ), for example using ravel().\n",
      "  y = column_or_1d(y, warn=True)\n"
     ]
    },
    {
     "name": "stdout",
     "output_type": "stream",
     "text": [
      "303 17\n"
     ]
    },
    {
     "name": "stderr",
     "output_type": "stream",
     "text": [
      "e:\\Code\\3_13_venv\\Lib\\site-packages\\sklearn\\preprocessing\\_label.py:110: DataConversionWarning: A column-vector y was passed when a 1d array was expected. Please change the shape of y to (n_samples, ), for example using ravel().\n",
      "  y = column_or_1d(y, warn=True)\n"
     ]
    },
    {
     "name": "stdout",
     "output_type": "stream",
     "text": [
      "303 8\n"
     ]
    },
    {
     "name": "stderr",
     "output_type": "stream",
     "text": [
      "e:\\Code\\3_13_venv\\Lib\\site-packages\\sklearn\\preprocessing\\_label.py:110: DataConversionWarning: A column-vector y was passed when a 1d array was expected. Please change the shape of y to (n_samples, ), for example using ravel().\n",
      "  y = column_or_1d(y, warn=True)\n"
     ]
    },
    {
     "name": "stdout",
     "output_type": "stream",
     "text": [
      "303 40\n"
     ]
    },
    {
     "name": "stderr",
     "output_type": "stream",
     "text": [
      "e:\\Code\\3_13_venv\\Lib\\site-packages\\sklearn\\preprocessing\\_label.py:110: DataConversionWarning: A column-vector y was passed when a 1d array was expected. Please change the shape of y to (n_samples, ), for example using ravel().\n",
      "  y = column_or_1d(y, warn=True)\n"
     ]
    },
    {
     "name": "stdout",
     "output_type": "stream",
     "text": [
      "303 30\n"
     ]
    },
    {
     "name": "stderr",
     "output_type": "stream",
     "text": [
      "e:\\Code\\3_13_venv\\Lib\\site-packages\\sklearn\\preprocessing\\_label.py:110: DataConversionWarning: A column-vector y was passed when a 1d array was expected. Please change the shape of y to (n_samples, ), for example using ravel().\n",
      "  y = column_or_1d(y, warn=True)\n"
     ]
    },
    {
     "name": "stdout",
     "output_type": "stream",
     "text": [
      "583 212\n"
     ]
    },
    {
     "name": "stderr",
     "output_type": "stream",
     "text": [
      "e:\\Code\\3_13_venv\\Lib\\site-packages\\sklearn\\preprocessing\\_label.py:110: DataConversionWarning: A column-vector y was passed when a 1d array was expected. Please change the shape of y to (n_samples, ), for example using ravel().\n",
      "  y = column_or_1d(y, warn=True)\n"
     ]
    },
    {
     "name": "stdout",
     "output_type": "stream",
     "text": [
      "583 195\n"
     ]
    },
    {
     "name": "stderr",
     "output_type": "stream",
     "text": [
      "e:\\Code\\3_13_venv\\Lib\\site-packages\\sklearn\\preprocessing\\_label.py:110: DataConversionWarning: A column-vector y was passed when a 1d array was expected. Please change the shape of y to (n_samples, ), for example using ravel().\n",
      "  y = column_or_1d(y, warn=True)\n"
     ]
    },
    {
     "name": "stdout",
     "output_type": "stream",
     "text": [
      "583 143\n"
     ]
    },
    {
     "name": "stderr",
     "output_type": "stream",
     "text": [
      "e:\\Code\\3_13_venv\\Lib\\site-packages\\sklearn\\preprocessing\\_label.py:110: DataConversionWarning: A column-vector y was passed when a 1d array was expected. Please change the shape of y to (n_samples, ), for example using ravel().\n",
      "  y = column_or_1d(y, warn=True)\n"
     ]
    },
    {
     "name": "stdout",
     "output_type": "stream",
     "text": [
      "583 147\n"
     ]
    },
    {
     "name": "stderr",
     "output_type": "stream",
     "text": [
      "e:\\Code\\3_13_venv\\Lib\\site-packages\\sklearn\\preprocessing\\_label.py:110: DataConversionWarning: A column-vector y was passed when a 1d array was expected. Please change the shape of y to (n_samples, ), for example using ravel().\n",
      "  y = column_or_1d(y, warn=True)\n"
     ]
    },
    {
     "name": "stdout",
     "output_type": "stream",
     "text": [
      "583 59\n"
     ]
    },
    {
     "name": "stderr",
     "output_type": "stream",
     "text": [
      "e:\\Code\\3_13_venv\\Lib\\site-packages\\sklearn\\preprocessing\\_label.py:110: DataConversionWarning: A column-vector y was passed when a 1d array was expected. Please change the shape of y to (n_samples, ), for example using ravel().\n",
      "  y = column_or_1d(y, warn=True)\n"
     ]
    },
    {
     "name": "stdout",
     "output_type": "stream",
     "text": [
      "583 60\n"
     ]
    },
    {
     "name": "stderr",
     "output_type": "stream",
     "text": [
      "e:\\Code\\3_13_venv\\Lib\\site-packages\\sklearn\\preprocessing\\_label.py:110: DataConversionWarning: A column-vector y was passed when a 1d array was expected. Please change the shape of y to (n_samples, ), for example using ravel().\n",
      "  y = column_or_1d(y, warn=True)\n"
     ]
    },
    {
     "name": "stdout",
     "output_type": "stream",
     "text": [
      "583 16\n"
     ]
    },
    {
     "name": "stderr",
     "output_type": "stream",
     "text": [
      "e:\\Code\\3_13_venv\\Lib\\site-packages\\sklearn\\preprocessing\\_label.py:110: DataConversionWarning: A column-vector y was passed when a 1d array was expected. Please change the shape of y to (n_samples, ), for example using ravel().\n",
      "  y = column_or_1d(y, warn=True)\n"
     ]
    },
    {
     "name": "stdout",
     "output_type": "stream",
     "text": [
      "583 26\n"
     ]
    },
    {
     "name": "stderr",
     "output_type": "stream",
     "text": [
      "e:\\Code\\3_13_venv\\Lib\\site-packages\\sklearn\\preprocessing\\_label.py:110: DataConversionWarning: A column-vector y was passed when a 1d array was expected. Please change the shape of y to (n_samples, ), for example using ravel().\n",
      "  y = column_or_1d(y, warn=True)\n"
     ]
    },
    {
     "name": "stdout",
     "output_type": "stream",
     "text": [
      "583 99\n"
     ]
    },
    {
     "name": "stderr",
     "output_type": "stream",
     "text": [
      "e:\\Code\\3_13_venv\\Lib\\site-packages\\sklearn\\preprocessing\\_label.py:110: DataConversionWarning: A column-vector y was passed when a 1d array was expected. Please change the shape of y to (n_samples, ), for example using ravel().\n",
      "  y = column_or_1d(y, warn=True)\n"
     ]
    },
    {
     "name": "stdout",
     "output_type": "stream",
     "text": [
      "583 77\n"
     ]
    },
    {
     "name": "stderr",
     "output_type": "stream",
     "text": [
      "e:\\Code\\3_13_venv\\Lib\\site-packages\\sklearn\\preprocessing\\_label.py:110: DataConversionWarning: A column-vector y was passed when a 1d array was expected. Please change the shape of y to (n_samples, ), for example using ravel().\n",
      "  y = column_or_1d(y, warn=True)\n"
     ]
    },
    {
     "name": "stdout",
     "output_type": "stream",
     "text": [
      "583 51\n"
     ]
    },
    {
     "name": "stderr",
     "output_type": "stream",
     "text": [
      "e:\\Code\\3_13_venv\\Lib\\site-packages\\sklearn\\preprocessing\\_label.py:110: DataConversionWarning: A column-vector y was passed when a 1d array was expected. Please change the shape of y to (n_samples, ), for example using ravel().\n",
      "  y = column_or_1d(y, warn=True)\n"
     ]
    },
    {
     "name": "stdout",
     "output_type": "stream",
     "text": [
      "583 8\n"
     ]
    },
    {
     "name": "stderr",
     "output_type": "stream",
     "text": [
      "e:\\Code\\3_13_venv\\Lib\\site-packages\\sklearn\\preprocessing\\_label.py:110: DataConversionWarning: A column-vector y was passed when a 1d array was expected. Please change the shape of y to (n_samples, ), for example using ravel().\n",
      "  y = column_or_1d(y, warn=True)\n"
     ]
    },
    {
     "name": "stdout",
     "output_type": "stream",
     "text": [
      "351 141\n"
     ]
    },
    {
     "name": "stderr",
     "output_type": "stream",
     "text": [
      "e:\\Code\\3_13_venv\\Lib\\site-packages\\sklearn\\preprocessing\\_label.py:110: DataConversionWarning: A column-vector y was passed when a 1d array was expected. Please change the shape of y to (n_samples, ), for example using ravel().\n",
      "  y = column_or_1d(y, warn=True)\n"
     ]
    },
    {
     "name": "stdout",
     "output_type": "stream",
     "text": [
      "351 117\n"
     ]
    },
    {
     "name": "stderr",
     "output_type": "stream",
     "text": [
      "e:\\Code\\3_13_venv\\Lib\\site-packages\\sklearn\\preprocessing\\_label.py:110: DataConversionWarning: A column-vector y was passed when a 1d array was expected. Please change the shape of y to (n_samples, ), for example using ravel().\n",
      "  y = column_or_1d(y, warn=True)\n"
     ]
    },
    {
     "name": "stdout",
     "output_type": "stream",
     "text": [
      "351 95\n"
     ]
    },
    {
     "name": "stderr",
     "output_type": "stream",
     "text": [
      "e:\\Code\\3_13_venv\\Lib\\site-packages\\sklearn\\preprocessing\\_label.py:110: DataConversionWarning: A column-vector y was passed when a 1d array was expected. Please change the shape of y to (n_samples, ), for example using ravel().\n",
      "  y = column_or_1d(y, warn=True)\n"
     ]
    },
    {
     "name": "stdout",
     "output_type": "stream",
     "text": [
      "351 86\n"
     ]
    },
    {
     "name": "stderr",
     "output_type": "stream",
     "text": [
      "e:\\Code\\3_13_venv\\Lib\\site-packages\\sklearn\\preprocessing\\_label.py:110: DataConversionWarning: A column-vector y was passed when a 1d array was expected. Please change the shape of y to (n_samples, ), for example using ravel().\n",
      "  y = column_or_1d(y, warn=True)\n"
     ]
    },
    {
     "name": "stdout",
     "output_type": "stream",
     "text": [
      "351 35\n"
     ]
    },
    {
     "name": "stderr",
     "output_type": "stream",
     "text": [
      "e:\\Code\\3_13_venv\\Lib\\site-packages\\sklearn\\preprocessing\\_label.py:110: DataConversionWarning: A column-vector y was passed when a 1d array was expected. Please change the shape of y to (n_samples, ), for example using ravel().\n",
      "  y = column_or_1d(y, warn=True)\n"
     ]
    },
    {
     "name": "stdout",
     "output_type": "stream",
     "text": [
      "351 31\n"
     ]
    },
    {
     "name": "stderr",
     "output_type": "stream",
     "text": [
      "e:\\Code\\3_13_venv\\Lib\\site-packages\\sklearn\\preprocessing\\_label.py:110: DataConversionWarning: A column-vector y was passed when a 1d array was expected. Please change the shape of y to (n_samples, ), for example using ravel().\n",
      "  y = column_or_1d(y, warn=True)\n"
     ]
    },
    {
     "name": "stdout",
     "output_type": "stream",
     "text": [
      "351 23\n"
     ]
    },
    {
     "name": "stderr",
     "output_type": "stream",
     "text": [
      "e:\\Code\\3_13_venv\\Lib\\site-packages\\sklearn\\preprocessing\\_label.py:110: DataConversionWarning: A column-vector y was passed when a 1d array was expected. Please change the shape of y to (n_samples, ), for example using ravel().\n",
      "  y = column_or_1d(y, warn=True)\n"
     ]
    },
    {
     "name": "stdout",
     "output_type": "stream",
     "text": [
      "351 11\n"
     ]
    },
    {
     "name": "stderr",
     "output_type": "stream",
     "text": [
      "e:\\Code\\3_13_venv\\Lib\\site-packages\\sklearn\\preprocessing\\_label.py:110: DataConversionWarning: A column-vector y was passed when a 1d array was expected. Please change the shape of y to (n_samples, ), for example using ravel().\n",
      "  y = column_or_1d(y, warn=True)\n"
     ]
    },
    {
     "name": "stdout",
     "output_type": "stream",
     "text": [
      "351 13\n"
     ]
    },
    {
     "name": "stderr",
     "output_type": "stream",
     "text": [
      "e:\\Code\\3_13_venv\\Lib\\site-packages\\sklearn\\preprocessing\\_label.py:110: DataConversionWarning: A column-vector y was passed when a 1d array was expected. Please change the shape of y to (n_samples, ), for example using ravel().\n",
      "  y = column_or_1d(y, warn=True)\n"
     ]
    },
    {
     "name": "stdout",
     "output_type": "stream",
     "text": [
      "351 23\n"
     ]
    },
    {
     "name": "stderr",
     "output_type": "stream",
     "text": [
      "e:\\Code\\3_13_venv\\Lib\\site-packages\\sklearn\\preprocessing\\_label.py:110: DataConversionWarning: A column-vector y was passed when a 1d array was expected. Please change the shape of y to (n_samples, ), for example using ravel().\n",
      "  y = column_or_1d(y, warn=True)\n"
     ]
    },
    {
     "name": "stdout",
     "output_type": "stream",
     "text": [
      "351 10\n"
     ]
    },
    {
     "name": "stderr",
     "output_type": "stream",
     "text": [
      "e:\\Code\\3_13_venv\\Lib\\site-packages\\sklearn\\preprocessing\\_label.py:110: DataConversionWarning: A column-vector y was passed when a 1d array was expected. Please change the shape of y to (n_samples, ), for example using ravel().\n",
      "  y = column_or_1d(y, warn=True)\n"
     ]
    },
    {
     "name": "stdout",
     "output_type": "stream",
     "text": [
      "351 11\n"
     ]
    },
    {
     "name": "stderr",
     "output_type": "stream",
     "text": [
      "e:\\Code\\3_13_venv\\Lib\\site-packages\\sklearn\\preprocessing\\_label.py:110: DataConversionWarning: A column-vector y was passed when a 1d array was expected. Please change the shape of y to (n_samples, ), for example using ravel().\n",
      "  y = column_or_1d(y, warn=True)\n"
     ]
    },
    {
     "name": "stdout",
     "output_type": "stream",
     "text": [
      "150 52\n"
     ]
    },
    {
     "name": "stderr",
     "output_type": "stream",
     "text": [
      "e:\\Code\\3_13_venv\\Lib\\site-packages\\sklearn\\preprocessing\\_label.py:110: DataConversionWarning: A column-vector y was passed when a 1d array was expected. Please change the shape of y to (n_samples, ), for example using ravel().\n",
      "  y = column_or_1d(y, warn=True)\n"
     ]
    },
    {
     "name": "stdout",
     "output_type": "stream",
     "text": [
      "150 55\n"
     ]
    },
    {
     "name": "stderr",
     "output_type": "stream",
     "text": [
      "e:\\Code\\3_13_venv\\Lib\\site-packages\\sklearn\\preprocessing\\_label.py:110: DataConversionWarning: A column-vector y was passed when a 1d array was expected. Please change the shape of y to (n_samples, ), for example using ravel().\n",
      "  y = column_or_1d(y, warn=True)\n"
     ]
    },
    {
     "name": "stdout",
     "output_type": "stream",
     "text": [
      "150 34\n"
     ]
    },
    {
     "name": "stderr",
     "output_type": "stream",
     "text": [
      "e:\\Code\\3_13_venv\\Lib\\site-packages\\sklearn\\preprocessing\\_label.py:110: DataConversionWarning: A column-vector y was passed when a 1d array was expected. Please change the shape of y to (n_samples, ), for example using ravel().\n",
      "  y = column_or_1d(y, warn=True)\n"
     ]
    },
    {
     "name": "stdout",
     "output_type": "stream",
     "text": [
      "150 36\n"
     ]
    },
    {
     "name": "stderr",
     "output_type": "stream",
     "text": [
      "e:\\Code\\3_13_venv\\Lib\\site-packages\\sklearn\\preprocessing\\_label.py:110: DataConversionWarning: A column-vector y was passed when a 1d array was expected. Please change the shape of y to (n_samples, ), for example using ravel().\n",
      "  y = column_or_1d(y, warn=True)\n"
     ]
    },
    {
     "name": "stdout",
     "output_type": "stream",
     "text": [
      "150 10\n"
     ]
    },
    {
     "name": "stderr",
     "output_type": "stream",
     "text": [
      "e:\\Code\\3_13_venv\\Lib\\site-packages\\sklearn\\preprocessing\\_label.py:110: DataConversionWarning: A column-vector y was passed when a 1d array was expected. Please change the shape of y to (n_samples, ), for example using ravel().\n",
      "  y = column_or_1d(y, warn=True)\n"
     ]
    },
    {
     "name": "stdout",
     "output_type": "stream",
     "text": [
      "150 8\n"
     ]
    },
    {
     "name": "stderr",
     "output_type": "stream",
     "text": [
      "e:\\Code\\3_13_venv\\Lib\\site-packages\\sklearn\\preprocessing\\_label.py:110: DataConversionWarning: A column-vector y was passed when a 1d array was expected. Please change the shape of y to (n_samples, ), for example using ravel().\n",
      "  y = column_or_1d(y, warn=True)\n"
     ]
    },
    {
     "name": "stdout",
     "output_type": "stream",
     "text": [
      "150 10\n"
     ]
    },
    {
     "name": "stderr",
     "output_type": "stream",
     "text": [
      "e:\\Code\\3_13_venv\\Lib\\site-packages\\sklearn\\preprocessing\\_label.py:110: DataConversionWarning: A column-vector y was passed when a 1d array was expected. Please change the shape of y to (n_samples, ), for example using ravel().\n",
      "  y = column_or_1d(y, warn=True)\n"
     ]
    },
    {
     "name": "stdout",
     "output_type": "stream",
     "text": [
      "150 10\n"
     ]
    },
    {
     "name": "stderr",
     "output_type": "stream",
     "text": [
      "e:\\Code\\3_13_venv\\Lib\\site-packages\\sklearn\\preprocessing\\_label.py:110: DataConversionWarning: A column-vector y was passed when a 1d array was expected. Please change the shape of y to (n_samples, ), for example using ravel().\n",
      "  y = column_or_1d(y, warn=True)\n"
     ]
    },
    {
     "name": "stdout",
     "output_type": "stream",
     "text": [
      "150 9\n"
     ]
    },
    {
     "name": "stderr",
     "output_type": "stream",
     "text": [
      "e:\\Code\\3_13_venv\\Lib\\site-packages\\sklearn\\preprocessing\\_label.py:110: DataConversionWarning: A column-vector y was passed when a 1d array was expected. Please change the shape of y to (n_samples, ), for example using ravel().\n",
      "  y = column_or_1d(y, warn=True)\n"
     ]
    },
    {
     "name": "stdout",
     "output_type": "stream",
     "text": [
      "150 9\n"
     ]
    },
    {
     "name": "stderr",
     "output_type": "stream",
     "text": [
      "e:\\Code\\3_13_venv\\Lib\\site-packages\\sklearn\\preprocessing\\_label.py:110: DataConversionWarning: A column-vector y was passed when a 1d array was expected. Please change the shape of y to (n_samples, ), for example using ravel().\n",
      "  y = column_or_1d(y, warn=True)\n"
     ]
    },
    {
     "name": "stdout",
     "output_type": "stream",
     "text": [
      "150 9\n"
     ]
    },
    {
     "name": "stderr",
     "output_type": "stream",
     "text": [
      "e:\\Code\\3_13_venv\\Lib\\site-packages\\sklearn\\preprocessing\\_label.py:110: DataConversionWarning: A column-vector y was passed when a 1d array was expected. Please change the shape of y to (n_samples, ), for example using ravel().\n",
      "  y = column_or_1d(y, warn=True)\n"
     ]
    },
    {
     "name": "stdout",
     "output_type": "stream",
     "text": [
      "150 9\n"
     ]
    },
    {
     "name": "stderr",
     "output_type": "stream",
     "text": [
      "e:\\Code\\3_13_venv\\Lib\\site-packages\\sklearn\\preprocessing\\_label.py:110: DataConversionWarning: A column-vector y was passed when a 1d array was expected. Please change the shape of y to (n_samples, ), for example using ravel().\n",
      "  y = column_or_1d(y, warn=True)\n"
     ]
    },
    {
     "name": "stdout",
     "output_type": "stream",
     "text": [
      "961 418\n"
     ]
    },
    {
     "name": "stderr",
     "output_type": "stream",
     "text": [
      "e:\\Code\\3_13_venv\\Lib\\site-packages\\sklearn\\preprocessing\\_label.py:110: DataConversionWarning: A column-vector y was passed when a 1d array was expected. Please change the shape of y to (n_samples, ), for example using ravel().\n",
      "  y = column_or_1d(y, warn=True)\n"
     ]
    },
    {
     "name": "stdout",
     "output_type": "stream",
     "text": [
      "961 334\n"
     ]
    },
    {
     "name": "stderr",
     "output_type": "stream",
     "text": [
      "e:\\Code\\3_13_venv\\Lib\\site-packages\\sklearn\\preprocessing\\_label.py:110: DataConversionWarning: A column-vector y was passed when a 1d array was expected. Please change the shape of y to (n_samples, ), for example using ravel().\n",
      "  y = column_or_1d(y, warn=True)\n"
     ]
    },
    {
     "name": "stdout",
     "output_type": "stream",
     "text": [
      "961 283\n"
     ]
    },
    {
     "name": "stderr",
     "output_type": "stream",
     "text": [
      "e:\\Code\\3_13_venv\\Lib\\site-packages\\sklearn\\preprocessing\\_label.py:110: DataConversionWarning: A column-vector y was passed when a 1d array was expected. Please change the shape of y to (n_samples, ), for example using ravel().\n",
      "  y = column_or_1d(y, warn=True)\n"
     ]
    },
    {
     "name": "stdout",
     "output_type": "stream",
     "text": [
      "961 240\n"
     ]
    },
    {
     "name": "stderr",
     "output_type": "stream",
     "text": [
      "e:\\Code\\3_13_venv\\Lib\\site-packages\\sklearn\\preprocessing\\_label.py:110: DataConversionWarning: A column-vector y was passed when a 1d array was expected. Please change the shape of y to (n_samples, ), for example using ravel().\n",
      "  y = column_or_1d(y, warn=True)\n"
     ]
    },
    {
     "name": "stdout",
     "output_type": "stream",
     "text": [
      "961 176\n"
     ]
    },
    {
     "name": "stderr",
     "output_type": "stream",
     "text": [
      "e:\\Code\\3_13_venv\\Lib\\site-packages\\sklearn\\preprocessing\\_label.py:110: DataConversionWarning: A column-vector y was passed when a 1d array was expected. Please change the shape of y to (n_samples, ), for example using ravel().\n",
      "  y = column_or_1d(y, warn=True)\n"
     ]
    },
    {
     "name": "stdout",
     "output_type": "stream",
     "text": [
      "961 112\n"
     ]
    },
    {
     "name": "stderr",
     "output_type": "stream",
     "text": [
      "e:\\Code\\3_13_venv\\Lib\\site-packages\\sklearn\\preprocessing\\_label.py:110: DataConversionWarning: A column-vector y was passed when a 1d array was expected. Please change the shape of y to (n_samples, ), for example using ravel().\n",
      "  y = column_or_1d(y, warn=True)\n"
     ]
    },
    {
     "name": "stdout",
     "output_type": "stream",
     "text": [
      "961 95\n"
     ]
    },
    {
     "name": "stderr",
     "output_type": "stream",
     "text": [
      "e:\\Code\\3_13_venv\\Lib\\site-packages\\sklearn\\preprocessing\\_label.py:110: DataConversionWarning: A column-vector y was passed when a 1d array was expected. Please change the shape of y to (n_samples, ), for example using ravel().\n",
      "  y = column_or_1d(y, warn=True)\n"
     ]
    },
    {
     "name": "stdout",
     "output_type": "stream",
     "text": [
      "961 76\n"
     ]
    },
    {
     "name": "stderr",
     "output_type": "stream",
     "text": [
      "e:\\Code\\3_13_venv\\Lib\\site-packages\\sklearn\\preprocessing\\_label.py:110: DataConversionWarning: A column-vector y was passed when a 1d array was expected. Please change the shape of y to (n_samples, ), for example using ravel().\n",
      "  y = column_or_1d(y, warn=True)\n"
     ]
    },
    {
     "name": "stdout",
     "output_type": "stream",
     "text": [
      "961 193\n"
     ]
    },
    {
     "name": "stderr",
     "output_type": "stream",
     "text": [
      "e:\\Code\\3_13_venv\\Lib\\site-packages\\sklearn\\preprocessing\\_label.py:110: DataConversionWarning: A column-vector y was passed when a 1d array was expected. Please change the shape of y to (n_samples, ), for example using ravel().\n",
      "  y = column_or_1d(y, warn=True)\n"
     ]
    },
    {
     "name": "stdout",
     "output_type": "stream",
     "text": [
      "961 104\n"
     ]
    },
    {
     "name": "stderr",
     "output_type": "stream",
     "text": [
      "e:\\Code\\3_13_venv\\Lib\\site-packages\\sklearn\\preprocessing\\_label.py:110: DataConversionWarning: A column-vector y was passed when a 1d array was expected. Please change the shape of y to (n_samples, ), for example using ravel().\n",
      "  y = column_or_1d(y, warn=True)\n"
     ]
    },
    {
     "name": "stdout",
     "output_type": "stream",
     "text": [
      "961 95\n"
     ]
    },
    {
     "name": "stderr",
     "output_type": "stream",
     "text": [
      "e:\\Code\\3_13_venv\\Lib\\site-packages\\sklearn\\preprocessing\\_label.py:110: DataConversionWarning: A column-vector y was passed when a 1d array was expected. Please change the shape of y to (n_samples, ), for example using ravel().\n",
      "  y = column_or_1d(y, warn=True)\n"
     ]
    },
    {
     "name": "stdout",
     "output_type": "stream",
     "text": [
      "961 49\n"
     ]
    },
    {
     "name": "stderr",
     "output_type": "stream",
     "text": [
      "e:\\Code\\3_13_venv\\Lib\\site-packages\\sklearn\\preprocessing\\_label.py:110: DataConversionWarning: A column-vector y was passed when a 1d array was expected. Please change the shape of y to (n_samples, ), for example using ravel().\n",
      "  y = column_or_1d(y, warn=True)\n"
     ]
    },
    {
     "name": "stdout",
     "output_type": "stream",
     "text": [
      "210 42\n"
     ]
    },
    {
     "name": "stderr",
     "output_type": "stream",
     "text": [
      "e:\\Code\\3_13_venv\\Lib\\site-packages\\sklearn\\preprocessing\\_label.py:110: DataConversionWarning: A column-vector y was passed when a 1d array was expected. Please change the shape of y to (n_samples, ), for example using ravel().\n",
      "  y = column_or_1d(y, warn=True)\n"
     ]
    },
    {
     "name": "stdout",
     "output_type": "stream",
     "text": [
      "210 61\n"
     ]
    },
    {
     "name": "stderr",
     "output_type": "stream",
     "text": [
      "e:\\Code\\3_13_venv\\Lib\\site-packages\\sklearn\\preprocessing\\_label.py:110: DataConversionWarning: A column-vector y was passed when a 1d array was expected. Please change the shape of y to (n_samples, ), for example using ravel().\n",
      "  y = column_or_1d(y, warn=True)\n"
     ]
    },
    {
     "name": "stdout",
     "output_type": "stream",
     "text": [
      "210 48\n"
     ]
    },
    {
     "name": "stderr",
     "output_type": "stream",
     "text": [
      "e:\\Code\\3_13_venv\\Lib\\site-packages\\sklearn\\preprocessing\\_label.py:110: DataConversionWarning: A column-vector y was passed when a 1d array was expected. Please change the shape of y to (n_samples, ), for example using ravel().\n",
      "  y = column_or_1d(y, warn=True)\n"
     ]
    },
    {
     "name": "stdout",
     "output_type": "stream",
     "text": [
      "210 55\n"
     ]
    },
    {
     "name": "stderr",
     "output_type": "stream",
     "text": [
      "e:\\Code\\3_13_venv\\Lib\\site-packages\\sklearn\\preprocessing\\_label.py:110: DataConversionWarning: A column-vector y was passed when a 1d array was expected. Please change the shape of y to (n_samples, ), for example using ravel().\n",
      "  y = column_or_1d(y, warn=True)\n"
     ]
    },
    {
     "name": "stdout",
     "output_type": "stream",
     "text": [
      "210 12\n"
     ]
    },
    {
     "name": "stderr",
     "output_type": "stream",
     "text": [
      "e:\\Code\\3_13_venv\\Lib\\site-packages\\sklearn\\preprocessing\\_label.py:110: DataConversionWarning: A column-vector y was passed when a 1d array was expected. Please change the shape of y to (n_samples, ), for example using ravel().\n",
      "  y = column_or_1d(y, warn=True)\n"
     ]
    },
    {
     "name": "stdout",
     "output_type": "stream",
     "text": [
      "210 27\n"
     ]
    },
    {
     "name": "stderr",
     "output_type": "stream",
     "text": [
      "e:\\Code\\3_13_venv\\Lib\\site-packages\\sklearn\\preprocessing\\_label.py:110: DataConversionWarning: A column-vector y was passed when a 1d array was expected. Please change the shape of y to (n_samples, ), for example using ravel().\n",
      "  y = column_or_1d(y, warn=True)\n"
     ]
    },
    {
     "name": "stdout",
     "output_type": "stream",
     "text": [
      "210 13\n"
     ]
    },
    {
     "name": "stderr",
     "output_type": "stream",
     "text": [
      "e:\\Code\\3_13_venv\\Lib\\site-packages\\sklearn\\preprocessing\\_label.py:110: DataConversionWarning: A column-vector y was passed when a 1d array was expected. Please change the shape of y to (n_samples, ), for example using ravel().\n",
      "  y = column_or_1d(y, warn=True)\n"
     ]
    },
    {
     "name": "stdout",
     "output_type": "stream",
     "text": [
      "210 23\n"
     ]
    },
    {
     "name": "stderr",
     "output_type": "stream",
     "text": [
      "e:\\Code\\3_13_venv\\Lib\\site-packages\\sklearn\\preprocessing\\_label.py:110: DataConversionWarning: A column-vector y was passed when a 1d array was expected. Please change the shape of y to (n_samples, ), for example using ravel().\n",
      "  y = column_or_1d(y, warn=True)\n"
     ]
    },
    {
     "name": "stdout",
     "output_type": "stream",
     "text": [
      "210 23\n"
     ]
    },
    {
     "name": "stderr",
     "output_type": "stream",
     "text": [
      "e:\\Code\\3_13_venv\\Lib\\site-packages\\sklearn\\preprocessing\\_label.py:110: DataConversionWarning: A column-vector y was passed when a 1d array was expected. Please change the shape of y to (n_samples, ), for example using ravel().\n",
      "  y = column_or_1d(y, warn=True)\n"
     ]
    },
    {
     "name": "stdout",
     "output_type": "stream",
     "text": [
      "210 35\n"
     ]
    },
    {
     "name": "stderr",
     "output_type": "stream",
     "text": [
      "e:\\Code\\3_13_venv\\Lib\\site-packages\\sklearn\\preprocessing\\_label.py:110: DataConversionWarning: A column-vector y was passed when a 1d array was expected. Please change the shape of y to (n_samples, ), for example using ravel().\n",
      "  y = column_or_1d(y, warn=True)\n"
     ]
    },
    {
     "name": "stdout",
     "output_type": "stream",
     "text": [
      "210 21\n"
     ]
    },
    {
     "name": "stderr",
     "output_type": "stream",
     "text": [
      "e:\\Code\\3_13_venv\\Lib\\site-packages\\sklearn\\preprocessing\\_label.py:110: DataConversionWarning: A column-vector y was passed when a 1d array was expected. Please change the shape of y to (n_samples, ), for example using ravel().\n",
      "  y = column_or_1d(y, warn=True)\n"
     ]
    },
    {
     "name": "stdout",
     "output_type": "stream",
     "text": [
      "210 32\n"
     ]
    },
    {
     "name": "stderr",
     "output_type": "stream",
     "text": [
      "e:\\Code\\3_13_venv\\Lib\\site-packages\\sklearn\\preprocessing\\_label.py:110: DataConversionWarning: A column-vector y was passed when a 1d array was expected. Please change the shape of y to (n_samples, ), for example using ravel().\n",
      "  y = column_or_1d(y, warn=True)\n"
     ]
    },
    {
     "name": "stdout",
     "output_type": "stream",
     "text": [
      "4601 1847\n"
     ]
    },
    {
     "name": "stderr",
     "output_type": "stream",
     "text": [
      "e:\\Code\\3_13_venv\\Lib\\site-packages\\sklearn\\preprocessing\\_label.py:110: DataConversionWarning: A column-vector y was passed when a 1d array was expected. Please change the shape of y to (n_samples, ), for example using ravel().\n",
      "  y = column_or_1d(y, warn=True)\n"
     ]
    },
    {
     "name": "stdout",
     "output_type": "stream",
     "text": [
      "4601 1594\n"
     ]
    },
    {
     "name": "stderr",
     "output_type": "stream",
     "text": [
      "e:\\Code\\3_13_venv\\Lib\\site-packages\\sklearn\\preprocessing\\_label.py:110: DataConversionWarning: A column-vector y was passed when a 1d array was expected. Please change the shape of y to (n_samples, ), for example using ravel().\n",
      "  y = column_or_1d(y, warn=True)\n"
     ]
    },
    {
     "name": "stdout",
     "output_type": "stream",
     "text": [
      "4601 1325\n"
     ]
    },
    {
     "name": "stderr",
     "output_type": "stream",
     "text": [
      "e:\\Code\\3_13_venv\\Lib\\site-packages\\sklearn\\preprocessing\\_label.py:110: DataConversionWarning: A column-vector y was passed when a 1d array was expected. Please change the shape of y to (n_samples, ), for example using ravel().\n",
      "  y = column_or_1d(y, warn=True)\n"
     ]
    },
    {
     "name": "stdout",
     "output_type": "stream",
     "text": [
      "4601 1132\n"
     ]
    },
    {
     "name": "stderr",
     "output_type": "stream",
     "text": [
      "e:\\Code\\3_13_venv\\Lib\\site-packages\\sklearn\\preprocessing\\_label.py:110: DataConversionWarning: A column-vector y was passed when a 1d array was expected. Please change the shape of y to (n_samples, ), for example using ravel().\n",
      "  y = column_or_1d(y, warn=True)\n"
     ]
    },
    {
     "name": "stdout",
     "output_type": "stream",
     "text": [
      "4601 1362\n"
     ]
    },
    {
     "name": "stderr",
     "output_type": "stream",
     "text": [
      "e:\\Code\\3_13_venv\\Lib\\site-packages\\sklearn\\preprocessing\\_label.py:110: DataConversionWarning: A column-vector y was passed when a 1d array was expected. Please change the shape of y to (n_samples, ), for example using ravel().\n",
      "  y = column_or_1d(y, warn=True)\n"
     ]
    },
    {
     "name": "stdout",
     "output_type": "stream",
     "text": [
      "4601 1077\n"
     ]
    },
    {
     "name": "stderr",
     "output_type": "stream",
     "text": [
      "e:\\Code\\3_13_venv\\Lib\\site-packages\\sklearn\\preprocessing\\_label.py:110: DataConversionWarning: A column-vector y was passed when a 1d array was expected. Please change the shape of y to (n_samples, ), for example using ravel().\n",
      "  y = column_or_1d(y, warn=True)\n"
     ]
    },
    {
     "name": "stdout",
     "output_type": "stream",
     "text": [
      "4601 941\n"
     ]
    },
    {
     "name": "stderr",
     "output_type": "stream",
     "text": [
      "e:\\Code\\3_13_venv\\Lib\\site-packages\\sklearn\\preprocessing\\_label.py:110: DataConversionWarning: A column-vector y was passed when a 1d array was expected. Please change the shape of y to (n_samples, ), for example using ravel().\n",
      "  y = column_or_1d(y, warn=True)\n"
     ]
    },
    {
     "name": "stdout",
     "output_type": "stream",
     "text": [
      "4601 766\n"
     ]
    },
    {
     "name": "stderr",
     "output_type": "stream",
     "text": [
      "e:\\Code\\3_13_venv\\Lib\\site-packages\\sklearn\\preprocessing\\_label.py:110: DataConversionWarning: A column-vector y was passed when a 1d array was expected. Please change the shape of y to (n_samples, ), for example using ravel().\n",
      "  y = column_or_1d(y, warn=True)\n"
     ]
    },
    {
     "name": "stdout",
     "output_type": "stream",
     "text": [
      "4601 1342\n"
     ]
    },
    {
     "name": "stderr",
     "output_type": "stream",
     "text": [
      "e:\\Code\\3_13_venv\\Lib\\site-packages\\sklearn\\preprocessing\\_label.py:110: DataConversionWarning: A column-vector y was passed when a 1d array was expected. Please change the shape of y to (n_samples, ), for example using ravel().\n",
      "  y = column_or_1d(y, warn=True)\n"
     ]
    },
    {
     "name": "stdout",
     "output_type": "stream",
     "text": [
      "4601 995\n"
     ]
    },
    {
     "name": "stderr",
     "output_type": "stream",
     "text": [
      "e:\\Code\\3_13_venv\\Lib\\site-packages\\sklearn\\preprocessing\\_label.py:110: DataConversionWarning: A column-vector y was passed when a 1d array was expected. Please change the shape of y to (n_samples, ), for example using ravel().\n",
      "  y = column_or_1d(y, warn=True)\n"
     ]
    },
    {
     "name": "stdout",
     "output_type": "stream",
     "text": [
      "4601 901\n"
     ]
    },
    {
     "name": "stderr",
     "output_type": "stream",
     "text": [
      "e:\\Code\\3_13_venv\\Lib\\site-packages\\sklearn\\preprocessing\\_label.py:110: DataConversionWarning: A column-vector y was passed when a 1d array was expected. Please change the shape of y to (n_samples, ), for example using ravel().\n",
      "  y = column_or_1d(y, warn=True)\n"
     ]
    },
    {
     "name": "stdout",
     "output_type": "stream",
     "text": [
      "4601 851\n"
     ]
    },
    {
     "name": "stderr",
     "output_type": "stream",
     "text": [
      "e:\\Code\\3_13_venv\\Lib\\site-packages\\sklearn\\preprocessing\\_label.py:110: DataConversionWarning: A column-vector y was passed when a 1d array was expected. Please change the shape of y to (n_samples, ), for example using ravel().\n",
      "  y = column_or_1d(y, warn=True)\n"
     ]
    },
    {
     "name": "stdout",
     "output_type": "stream",
     "text": [
      "470 137\n"
     ]
    },
    {
     "name": "stderr",
     "output_type": "stream",
     "text": [
      "e:\\Code\\3_13_venv\\Lib\\site-packages\\sklearn\\preprocessing\\_label.py:110: DataConversionWarning: A column-vector y was passed when a 1d array was expected. Please change the shape of y to (n_samples, ), for example using ravel().\n",
      "  y = column_or_1d(y, warn=True)\n"
     ]
    },
    {
     "name": "stdout",
     "output_type": "stream",
     "text": [
      "470 122\n"
     ]
    },
    {
     "name": "stderr",
     "output_type": "stream",
     "text": [
      "e:\\Code\\3_13_venv\\Lib\\site-packages\\sklearn\\preprocessing\\_label.py:110: DataConversionWarning: A column-vector y was passed when a 1d array was expected. Please change the shape of y to (n_samples, ), for example using ravel().\n",
      "  y = column_or_1d(y, warn=True)\n"
     ]
    },
    {
     "name": "stdout",
     "output_type": "stream",
     "text": [
      "470 123\n"
     ]
    },
    {
     "name": "stderr",
     "output_type": "stream",
     "text": [
      "e:\\Code\\3_13_venv\\Lib\\site-packages\\sklearn\\preprocessing\\_label.py:110: DataConversionWarning: A column-vector y was passed when a 1d array was expected. Please change the shape of y to (n_samples, ), for example using ravel().\n",
      "  y = column_or_1d(y, warn=True)\n"
     ]
    },
    {
     "name": "stdout",
     "output_type": "stream",
     "text": [
      "470 123\n"
     ]
    },
    {
     "name": "stderr",
     "output_type": "stream",
     "text": [
      "e:\\Code\\3_13_venv\\Lib\\site-packages\\sklearn\\preprocessing\\_label.py:110: DataConversionWarning: A column-vector y was passed when a 1d array was expected. Please change the shape of y to (n_samples, ), for example using ravel().\n",
      "  y = column_or_1d(y, warn=True)\n"
     ]
    },
    {
     "name": "stdout",
     "output_type": "stream",
     "text": [
      "470 26\n"
     ]
    },
    {
     "name": "stderr",
     "output_type": "stream",
     "text": [
      "e:\\Code\\3_13_venv\\Lib\\site-packages\\sklearn\\preprocessing\\_label.py:110: DataConversionWarning: A column-vector y was passed when a 1d array was expected. Please change the shape of y to (n_samples, ), for example using ravel().\n",
      "  y = column_or_1d(y, warn=True)\n"
     ]
    },
    {
     "name": "stdout",
     "output_type": "stream",
     "text": [
      "470 5\n"
     ]
    },
    {
     "name": "stderr",
     "output_type": "stream",
     "text": [
      "e:\\Code\\3_13_venv\\Lib\\site-packages\\sklearn\\preprocessing\\_label.py:110: DataConversionWarning: A column-vector y was passed when a 1d array was expected. Please change the shape of y to (n_samples, ), for example using ravel().\n",
      "  y = column_or_1d(y, warn=True)\n"
     ]
    },
    {
     "name": "stdout",
     "output_type": "stream",
     "text": [
      "470 5\n"
     ]
    },
    {
     "name": "stderr",
     "output_type": "stream",
     "text": [
      "e:\\Code\\3_13_venv\\Lib\\site-packages\\sklearn\\preprocessing\\_label.py:110: DataConversionWarning: A column-vector y was passed when a 1d array was expected. Please change the shape of y to (n_samples, ), for example using ravel().\n",
      "  y = column_or_1d(y, warn=True)\n"
     ]
    },
    {
     "name": "stdout",
     "output_type": "stream",
     "text": [
      "470 5\n"
     ]
    },
    {
     "name": "stderr",
     "output_type": "stream",
     "text": [
      "e:\\Code\\3_13_venv\\Lib\\site-packages\\sklearn\\preprocessing\\_label.py:110: DataConversionWarning: A column-vector y was passed when a 1d array was expected. Please change the shape of y to (n_samples, ), for example using ravel().\n",
      "  y = column_or_1d(y, warn=True)\n"
     ]
    },
    {
     "name": "stdout",
     "output_type": "stream",
     "text": [
      "470 13\n"
     ]
    },
    {
     "name": "stderr",
     "output_type": "stream",
     "text": [
      "e:\\Code\\3_13_venv\\Lib\\site-packages\\sklearn\\preprocessing\\_label.py:110: DataConversionWarning: A column-vector y was passed when a 1d array was expected. Please change the shape of y to (n_samples, ), for example using ravel().\n",
      "  y = column_or_1d(y, warn=True)\n"
     ]
    },
    {
     "name": "stdout",
     "output_type": "stream",
     "text": [
      "470 10\n"
     ]
    },
    {
     "name": "stderr",
     "output_type": "stream",
     "text": [
      "e:\\Code\\3_13_venv\\Lib\\site-packages\\sklearn\\preprocessing\\_label.py:110: DataConversionWarning: A column-vector y was passed when a 1d array was expected. Please change the shape of y to (n_samples, ), for example using ravel().\n",
      "  y = column_or_1d(y, warn=True)\n"
     ]
    },
    {
     "name": "stdout",
     "output_type": "stream",
     "text": [
      "470 20\n"
     ]
    },
    {
     "name": "stderr",
     "output_type": "stream",
     "text": [
      "e:\\Code\\3_13_venv\\Lib\\site-packages\\sklearn\\preprocessing\\_label.py:110: DataConversionWarning: A column-vector y was passed when a 1d array was expected. Please change the shape of y to (n_samples, ), for example using ravel().\n",
      "  y = column_or_1d(y, warn=True)\n"
     ]
    },
    {
     "name": "stdout",
     "output_type": "stream",
     "text": [
      "470 12\n"
     ]
    },
    {
     "name": "stderr",
     "output_type": "stream",
     "text": [
      "e:\\Code\\3_13_venv\\Lib\\site-packages\\sklearn\\preprocessing\\_label.py:110: DataConversionWarning: A column-vector y was passed when a 1d array was expected. Please change the shape of y to (n_samples, ), for example using ravel().\n",
      "  y = column_or_1d(y, warn=True)\n"
     ]
    },
    {
     "name": "stdout",
     "output_type": "stream",
     "text": [
      "178 45\n"
     ]
    },
    {
     "name": "stderr",
     "output_type": "stream",
     "text": [
      "e:\\Code\\3_13_venv\\Lib\\site-packages\\sklearn\\preprocessing\\_label.py:110: DataConversionWarning: A column-vector y was passed when a 1d array was expected. Please change the shape of y to (n_samples, ), for example using ravel().\n",
      "  y = column_or_1d(y, warn=True)\n"
     ]
    },
    {
     "name": "stdout",
     "output_type": "stream",
     "text": [
      "178 53\n"
     ]
    },
    {
     "name": "stderr",
     "output_type": "stream",
     "text": [
      "e:\\Code\\3_13_venv\\Lib\\site-packages\\sklearn\\preprocessing\\_label.py:110: DataConversionWarning: A column-vector y was passed when a 1d array was expected. Please change the shape of y to (n_samples, ), for example using ravel().\n",
      "  y = column_or_1d(y, warn=True)\n"
     ]
    },
    {
     "name": "stdout",
     "output_type": "stream",
     "text": [
      "178 34\n"
     ]
    },
    {
     "name": "stderr",
     "output_type": "stream",
     "text": [
      "e:\\Code\\3_13_venv\\Lib\\site-packages\\sklearn\\preprocessing\\_label.py:110: DataConversionWarning: A column-vector y was passed when a 1d array was expected. Please change the shape of y to (n_samples, ), for example using ravel().\n",
      "  y = column_or_1d(y, warn=True)\n"
     ]
    },
    {
     "name": "stdout",
     "output_type": "stream",
     "text": [
      "178 48\n"
     ]
    },
    {
     "name": "stderr",
     "output_type": "stream",
     "text": [
      "e:\\Code\\3_13_venv\\Lib\\site-packages\\sklearn\\preprocessing\\_label.py:110: DataConversionWarning: A column-vector y was passed when a 1d array was expected. Please change the shape of y to (n_samples, ), for example using ravel().\n",
      "  y = column_or_1d(y, warn=True)\n"
     ]
    },
    {
     "name": "stdout",
     "output_type": "stream",
     "text": [
      "178 12\n"
     ]
    },
    {
     "name": "stderr",
     "output_type": "stream",
     "text": [
      "e:\\Code\\3_13_venv\\Lib\\site-packages\\sklearn\\preprocessing\\_label.py:110: DataConversionWarning: A column-vector y was passed when a 1d array was expected. Please change the shape of y to (n_samples, ), for example using ravel().\n",
      "  y = column_or_1d(y, warn=True)\n"
     ]
    },
    {
     "name": "stdout",
     "output_type": "stream",
     "text": [
      "178 9\n"
     ]
    },
    {
     "name": "stderr",
     "output_type": "stream",
     "text": [
      "e:\\Code\\3_13_venv\\Lib\\site-packages\\sklearn\\preprocessing\\_label.py:110: DataConversionWarning: A column-vector y was passed when a 1d array was expected. Please change the shape of y to (n_samples, ), for example using ravel().\n",
      "  y = column_or_1d(y, warn=True)\n"
     ]
    },
    {
     "name": "stdout",
     "output_type": "stream",
     "text": [
      "178 10\n"
     ]
    },
    {
     "name": "stderr",
     "output_type": "stream",
     "text": [
      "e:\\Code\\3_13_venv\\Lib\\site-packages\\sklearn\\preprocessing\\_label.py:110: DataConversionWarning: A column-vector y was passed when a 1d array was expected. Please change the shape of y to (n_samples, ), for example using ravel().\n",
      "  y = column_or_1d(y, warn=True)\n"
     ]
    },
    {
     "name": "stdout",
     "output_type": "stream",
     "text": [
      "178 9\n"
     ]
    },
    {
     "name": "stderr",
     "output_type": "stream",
     "text": [
      "e:\\Code\\3_13_venv\\Lib\\site-packages\\sklearn\\preprocessing\\_label.py:110: DataConversionWarning: A column-vector y was passed when a 1d array was expected. Please change the shape of y to (n_samples, ), for example using ravel().\n",
      "  y = column_or_1d(y, warn=True)\n"
     ]
    },
    {
     "name": "stdout",
     "output_type": "stream",
     "text": [
      "178 9\n"
     ]
    },
    {
     "name": "stderr",
     "output_type": "stream",
     "text": [
      "e:\\Code\\3_13_venv\\Lib\\site-packages\\sklearn\\preprocessing\\_label.py:110: DataConversionWarning: A column-vector y was passed when a 1d array was expected. Please change the shape of y to (n_samples, ), for example using ravel().\n",
      "  y = column_or_1d(y, warn=True)\n"
     ]
    },
    {
     "name": "stdout",
     "output_type": "stream",
     "text": [
      "178 9\n"
     ]
    },
    {
     "name": "stderr",
     "output_type": "stream",
     "text": [
      "e:\\Code\\3_13_venv\\Lib\\site-packages\\sklearn\\preprocessing\\_label.py:110: DataConversionWarning: A column-vector y was passed when a 1d array was expected. Please change the shape of y to (n_samples, ), for example using ravel().\n",
      "  y = column_or_1d(y, warn=True)\n"
     ]
    },
    {
     "name": "stdout",
     "output_type": "stream",
     "text": [
      "178 10\n"
     ]
    },
    {
     "name": "stderr",
     "output_type": "stream",
     "text": [
      "e:\\Code\\3_13_venv\\Lib\\site-packages\\sklearn\\preprocessing\\_label.py:110: DataConversionWarning: A column-vector y was passed when a 1d array was expected. Please change the shape of y to (n_samples, ), for example using ravel().\n",
      "  y = column_or_1d(y, warn=True)\n"
     ]
    },
    {
     "name": "stdout",
     "output_type": "stream",
     "text": [
      "178 9\n"
     ]
    },
    {
     "name": "stderr",
     "output_type": "stream",
     "text": [
      "e:\\Code\\3_13_venv\\Lib\\site-packages\\sklearn\\preprocessing\\_label.py:110: DataConversionWarning: A column-vector y was passed when a 1d array was expected. Please change the shape of y to (n_samples, ), for example using ravel().\n",
      "  y = column_or_1d(y, warn=True)\n"
     ]
    },
    {
     "name": "stdout",
     "output_type": "stream",
     "text": [
      "569 226\n"
     ]
    },
    {
     "name": "stderr",
     "output_type": "stream",
     "text": [
      "e:\\Code\\3_13_venv\\Lib\\site-packages\\sklearn\\preprocessing\\_label.py:110: DataConversionWarning: A column-vector y was passed when a 1d array was expected. Please change the shape of y to (n_samples, ), for example using ravel().\n",
      "  y = column_or_1d(y, warn=True)\n"
     ]
    },
    {
     "name": "stdout",
     "output_type": "stream",
     "text": [
      "569 199\n"
     ]
    },
    {
     "name": "stderr",
     "output_type": "stream",
     "text": [
      "e:\\Code\\3_13_venv\\Lib\\site-packages\\sklearn\\preprocessing\\_label.py:110: DataConversionWarning: A column-vector y was passed when a 1d array was expected. Please change the shape of y to (n_samples, ), for example using ravel().\n",
      "  y = column_or_1d(y, warn=True)\n"
     ]
    },
    {
     "name": "stdout",
     "output_type": "stream",
     "text": [
      "569 167\n"
     ]
    },
    {
     "name": "stderr",
     "output_type": "stream",
     "text": [
      "e:\\Code\\3_13_venv\\Lib\\site-packages\\sklearn\\preprocessing\\_label.py:110: DataConversionWarning: A column-vector y was passed when a 1d array was expected. Please change the shape of y to (n_samples, ), for example using ravel().\n",
      "  y = column_or_1d(y, warn=True)\n"
     ]
    },
    {
     "name": "stdout",
     "output_type": "stream",
     "text": [
      "569 147\n"
     ]
    },
    {
     "name": "stderr",
     "output_type": "stream",
     "text": [
      "e:\\Code\\3_13_venv\\Lib\\site-packages\\sklearn\\preprocessing\\_label.py:110: DataConversionWarning: A column-vector y was passed when a 1d array was expected. Please change the shape of y to (n_samples, ), for example using ravel().\n",
      "  y = column_or_1d(y, warn=True)\n"
     ]
    },
    {
     "name": "stdout",
     "output_type": "stream",
     "text": [
      "569 7\n"
     ]
    },
    {
     "name": "stderr",
     "output_type": "stream",
     "text": [
      "e:\\Code\\3_13_venv\\Lib\\site-packages\\sklearn\\preprocessing\\_label.py:110: DataConversionWarning: A column-vector y was passed when a 1d array was expected. Please change the shape of y to (n_samples, ), for example using ravel().\n",
      "  y = column_or_1d(y, warn=True)\n"
     ]
    },
    {
     "name": "stdout",
     "output_type": "stream",
     "text": [
      "569 7\n"
     ]
    },
    {
     "name": "stderr",
     "output_type": "stream",
     "text": [
      "e:\\Code\\3_13_venv\\Lib\\site-packages\\sklearn\\preprocessing\\_label.py:110: DataConversionWarning: A column-vector y was passed when a 1d array was expected. Please change the shape of y to (n_samples, ), for example using ravel().\n",
      "  y = column_or_1d(y, warn=True)\n"
     ]
    },
    {
     "name": "stdout",
     "output_type": "stream",
     "text": [
      "569 17\n"
     ]
    },
    {
     "name": "stderr",
     "output_type": "stream",
     "text": [
      "e:\\Code\\3_13_venv\\Lib\\site-packages\\sklearn\\preprocessing\\_label.py:110: DataConversionWarning: A column-vector y was passed when a 1d array was expected. Please change the shape of y to (n_samples, ), for example using ravel().\n",
      "  y = column_or_1d(y, warn=True)\n"
     ]
    },
    {
     "name": "stdout",
     "output_type": "stream",
     "text": [
      "569 6\n"
     ]
    },
    {
     "name": "stderr",
     "output_type": "stream",
     "text": [
      "e:\\Code\\3_13_venv\\Lib\\site-packages\\sklearn\\preprocessing\\_label.py:110: DataConversionWarning: A column-vector y was passed when a 1d array was expected. Please change the shape of y to (n_samples, ), for example using ravel().\n",
      "  y = column_or_1d(y, warn=True)\n"
     ]
    },
    {
     "name": "stdout",
     "output_type": "stream",
     "text": [
      "569 17\n"
     ]
    },
    {
     "name": "stderr",
     "output_type": "stream",
     "text": [
      "e:\\Code\\3_13_venv\\Lib\\site-packages\\sklearn\\preprocessing\\_label.py:110: DataConversionWarning: A column-vector y was passed when a 1d array was expected. Please change the shape of y to (n_samples, ), for example using ravel().\n",
      "  y = column_or_1d(y, warn=True)\n"
     ]
    },
    {
     "name": "stdout",
     "output_type": "stream",
     "text": [
      "569 12\n"
     ]
    },
    {
     "name": "stderr",
     "output_type": "stream",
     "text": [
      "e:\\Code\\3_13_venv\\Lib\\site-packages\\sklearn\\preprocessing\\_label.py:110: DataConversionWarning: A column-vector y was passed when a 1d array was expected. Please change the shape of y to (n_samples, ), for example using ravel().\n",
      "  y = column_or_1d(y, warn=True)\n"
     ]
    },
    {
     "name": "stdout",
     "output_type": "stream",
     "text": [
      "569 8\n"
     ]
    },
    {
     "name": "stderr",
     "output_type": "stream",
     "text": [
      "e:\\Code\\3_13_venv\\Lib\\site-packages\\sklearn\\preprocessing\\_label.py:110: DataConversionWarning: A column-vector y was passed when a 1d array was expected. Please change the shape of y to (n_samples, ), for example using ravel().\n",
      "  y = column_or_1d(y, warn=True)\n"
     ]
    },
    {
     "name": "stdout",
     "output_type": "stream",
     "text": [
      "569 10\n"
     ]
    },
    {
     "name": "stderr",
     "output_type": "stream",
     "text": [
      "e:\\Code\\3_13_venv\\Lib\\site-packages\\sklearn\\preprocessing\\_label.py:110: DataConversionWarning: A column-vector y was passed when a 1d array was expected. Please change the shape of y to (n_samples, ), for example using ravel().\n",
      "  y = column_or_1d(y, warn=True)\n"
     ]
    },
    {
     "name": "stdout",
     "output_type": "stream",
     "text": [
      "1484 158\n"
     ]
    },
    {
     "name": "stderr",
     "output_type": "stream",
     "text": [
      "e:\\Code\\3_13_venv\\Lib\\site-packages\\sklearn\\preprocessing\\_label.py:110: DataConversionWarning: A column-vector y was passed when a 1d array was expected. Please change the shape of y to (n_samples, ), for example using ravel().\n",
      "  y = column_or_1d(y, warn=True)\n"
     ]
    },
    {
     "name": "stdout",
     "output_type": "stream",
     "text": [
      "1484 380\n"
     ]
    },
    {
     "name": "stderr",
     "output_type": "stream",
     "text": [
      "e:\\Code\\3_13_venv\\Lib\\site-packages\\sklearn\\preprocessing\\_label.py:110: DataConversionWarning: A column-vector y was passed when a 1d array was expected. Please change the shape of y to (n_samples, ), for example using ravel().\n",
      "  y = column_or_1d(y, warn=True)\n"
     ]
    },
    {
     "name": "stdout",
     "output_type": "stream",
     "text": [
      "1484 155\n"
     ]
    },
    {
     "name": "stderr",
     "output_type": "stream",
     "text": [
      "e:\\Code\\3_13_venv\\Lib\\site-packages\\sklearn\\preprocessing\\_label.py:110: DataConversionWarning: A column-vector y was passed when a 1d array was expected. Please change the shape of y to (n_samples, ), for example using ravel().\n",
      "  y = column_or_1d(y, warn=True)\n"
     ]
    },
    {
     "name": "stdout",
     "output_type": "stream",
     "text": [
      "1484 377\n"
     ]
    },
    {
     "name": "stderr",
     "output_type": "stream",
     "text": [
      "e:\\Code\\3_13_venv\\Lib\\site-packages\\sklearn\\preprocessing\\_label.py:110: DataConversionWarning: A column-vector y was passed when a 1d array was expected. Please change the shape of y to (n_samples, ), for example using ravel().\n",
      "  y = column_or_1d(y, warn=True)\n"
     ]
    },
    {
     "name": "stdout",
     "output_type": "stream",
     "text": [
      "1484 36\n"
     ]
    },
    {
     "name": "stderr",
     "output_type": "stream",
     "text": [
      "e:\\Code\\3_13_venv\\Lib\\site-packages\\sklearn\\preprocessing\\_label.py:110: DataConversionWarning: A column-vector y was passed when a 1d array was expected. Please change the shape of y to (n_samples, ), for example using ravel().\n",
      "  y = column_or_1d(y, warn=True)\n"
     ]
    },
    {
     "name": "stdout",
     "output_type": "stream",
     "text": [
      "1484 157\n"
     ]
    },
    {
     "name": "stderr",
     "output_type": "stream",
     "text": [
      "e:\\Code\\3_13_venv\\Lib\\site-packages\\sklearn\\preprocessing\\_label.py:110: DataConversionWarning: A column-vector y was passed when a 1d array was expected. Please change the shape of y to (n_samples, ), for example using ravel().\n",
      "  y = column_or_1d(y, warn=True)\n"
     ]
    },
    {
     "name": "stdout",
     "output_type": "stream",
     "text": [
      "1484 25\n"
     ]
    },
    {
     "name": "stderr",
     "output_type": "stream",
     "text": [
      "e:\\Code\\3_13_venv\\Lib\\site-packages\\sklearn\\preprocessing\\_label.py:110: DataConversionWarning: A column-vector y was passed when a 1d array was expected. Please change the shape of y to (n_samples, ), for example using ravel().\n",
      "  y = column_or_1d(y, warn=True)\n"
     ]
    },
    {
     "name": "stdout",
     "output_type": "stream",
     "text": [
      "1484 165\n"
     ]
    },
    {
     "name": "stderr",
     "output_type": "stream",
     "text": [
      "e:\\Code\\3_13_venv\\Lib\\site-packages\\sklearn\\preprocessing\\_label.py:110: DataConversionWarning: A column-vector y was passed when a 1d array was expected. Please change the shape of y to (n_samples, ), for example using ravel().\n",
      "  y = column_or_1d(y, warn=True)\n"
     ]
    },
    {
     "name": "stdout",
     "output_type": "stream",
     "text": [
      "1484 19\n"
     ]
    },
    {
     "name": "stderr",
     "output_type": "stream",
     "text": [
      "e:\\Code\\3_13_venv\\Lib\\site-packages\\sklearn\\preprocessing\\_label.py:110: DataConversionWarning: A column-vector y was passed when a 1d array was expected. Please change the shape of y to (n_samples, ), for example using ravel().\n",
      "  y = column_or_1d(y, warn=True)\n"
     ]
    },
    {
     "name": "stdout",
     "output_type": "stream",
     "text": [
      "1484 209\n"
     ]
    },
    {
     "name": "stderr",
     "output_type": "stream",
     "text": [
      "e:\\Code\\3_13_venv\\Lib\\site-packages\\sklearn\\preprocessing\\_label.py:110: DataConversionWarning: A column-vector y was passed when a 1d array was expected. Please change the shape of y to (n_samples, ), for example using ravel().\n",
      "  y = column_or_1d(y, warn=True)\n"
     ]
    },
    {
     "name": "stdout",
     "output_type": "stream",
     "text": [
      "1484 49\n"
     ]
    },
    {
     "name": "stderr",
     "output_type": "stream",
     "text": [
      "e:\\Code\\3_13_venv\\Lib\\site-packages\\sklearn\\preprocessing\\_label.py:110: DataConversionWarning: A column-vector y was passed when a 1d array was expected. Please change the shape of y to (n_samples, ), for example using ravel().\n",
      "  y = column_or_1d(y, warn=True)\n"
     ]
    },
    {
     "name": "stdout",
     "output_type": "stream",
     "text": [
      "1484 191\n"
     ]
    }
   ],
   "source": [
    "rows = []\n",
    "\n",
    "for execution_name in iteration_mappings:\n",
    "\n",
    "\toptimized_validation_acc = []\n",
    "\toptimized_test_acc = []\n",
    "\toptimized_ideal_test_acc = []\n",
    "\n",
    "\tbaseline_test_acc = []\n",
    "\tbaseline_validaion_acc = []\n",
    "\n",
    "\tvalidation_inclusions = []\n",
    "\ttest_inclusions = []\n",
    "\tcurr_dataset = execution_name.split(\" \")[0].strip()\n",
    "\tfor dataset, name in datasets:\n",
    "\t\tif name == curr_dataset:\n",
    "\t\t\traw_X, y = dataset.data.features, dataset.data.targets\n",
    "\t\t\tpipeline = create_preprocessor_pipeline(dataset.variables)\n",
    "\t\t\tpipeline.fit(raw_X, y)\n",
    "\t\t\tX = pipeline.transform(raw_X)\n",
    "\t\t\tlabel_encoder = LabelEncoder()\n",
    "\t\t\ty = label_encoder.fit_transform(y)\n",
    "\t\t\tbreak\n",
    "\t\n",
    "\tfor filename in iteration_mappings[execution_name]:\n",
    "\t\twith open(os.path.join(save_path, filename), 'rb') as fh:\n",
    "\t\t\tresult_dict = pickle.load(fh)\n",
    "\n",
    "\t\ttrain_idx = result_dict['train']\n",
    "\t\tvalidation_idx = result_dict['validation']\n",
    "\t\ttest_idx = result_dict['test']\n",
    "\t\tresult = result_dict['result']\n",
    "\t\trun_name = result_dict['name']\n",
    "\n",
    "\t\tx_train, y_train = X[train_idx], y[train_idx]\n",
    "\t\tx_validation, y_validation = X[validation_idx], y[validation_idx]\n",
    "\t\tx_test, y_test = X[test_idx], y[test_idx]\n",
    "\n",
    "\t\tif \"overSample\" in run_name:\n",
    "\t\t\tx_train, y_train = over_sample(\n",
    "\t\t\t\tx_train, \n",
    "\t\t\t\ty_train\n",
    "\t\t\t)\n",
    "\t\t\n",
    "\t\tnum_validation, num_test, baseline_validation_err, baseline_test_err, optimized_validation_err, optimized_test_err, ideal_optimized_test_err = calculate_metrics(\n",
    "\t\t\tx_train, \n",
    "\t\t\ty_train, \n",
    "\t\t\tx_validation, \n",
    "\t\t\ty_validation, \n",
    "\t\t\tx_test, \n",
    "\t\t\ty_test, \n",
    "\t\t\tresult\n",
    "\t\t)\n",
    "\n",
    "\t\tvalidation_inclusions.append(num_validation)\n",
    "\t\ttest_inclusions.append(num_test)\n",
    "\n",
    "\t\tbaseline_validaion_acc.append(1-baseline_validation_err)\n",
    "\t\tbaseline_test_acc.append(1-baseline_test_err)\n",
    "\t\toptimized_validation_acc.append(1-optimized_validation_err)\n",
    "\t\toptimized_test_acc.append(1-optimized_test_err)\n",
    "\t\toptimized_ideal_test_acc.append(1-ideal_optimized_test_err)\n",
    "\n",
    "\tval_pval = ranksums(baseline_validaion_acc, optimized_validation_acc).pvalue\n",
    "\ttest_pval = ranksums(baseline_test_acc, optimized_test_acc).pvalue\n",
    "\tideal_test_pval = ranksums(baseline_test_acc, optimized_ideal_test_acc).pvalue\n",
    "\tprint(X.shape[0], num_test)\n",
    "\trow = {\n",
    "\t\t\"Dataset\": curr_dataset,\n",
    "\t\t\"Sampling\": \"over sampling\" if \"overSample\" in execution_name else \"regular sampling\",\n",
    "\t\t\"Population\": \"random population\" if \"randPop\" in execution_name else \"biased population\",\n",
    "\t\t\"Total Size\": X.shape[0],\n",
    "\t\t\"Optimized Validation Size\": validation_inclusions,\n",
    "\t\t\"Optimized Test Size\": test_inclusions,\n",
    "\t\t\"Validation Baseline Acc\": baseline_validaion_acc,\n",
    "\t\t\"Test Baseline Acc\": baseline_test_acc,\n",
    "\t\t\"Optimized Validation Acc\": optimized_validation_acc,\n",
    "\t\t\"Optimized Test Acc\": optimized_test_acc,\n",
    "\t\t\"Ideal Test Acc\": optimized_ideal_test_acc,\n",
    "\t\t\"Validation P-value\": val_pval,\n",
    "\t\t\"Test P-value\": test_pval,\n",
    "\t\t\"Ideal Test P-value\": ideal_test_pval\n",
    "\t}\n",
    "\trows.append(row)\n",
    "\t\t\n",
    "\n"
   ]
  },
  {
   "cell_type": "code",
   "execution_count": 55,
   "metadata": {},
   "outputs": [
    {
     "name": "stdout",
     "output_type": "stream",
     "text": [
      "ionosphere\n",
      "0\n",
      "1    225\n",
      "0    126\n",
      "Name: count, dtype: int64\n",
      "\n",
      "\n",
      "\n",
      "haberman\n",
      "0\n",
      "0    225\n",
      "1     81\n",
      "Name: count, dtype: int64\n",
      "\n",
      "\n",
      "\n",
      "iris0\n",
      "0\n",
      "0    50\n",
      "1    50\n",
      "2    50\n",
      "Name: count, dtype: int64\n",
      "\n",
      "\n",
      "\n",
      "glass1\n",
      "0\n",
      "1    76\n",
      "0    70\n",
      "5    29\n",
      "2    17\n",
      "3    13\n",
      "4     9\n",
      "Name: count, dtype: int64\n",
      "\n",
      "\n",
      "\n",
      "australia\n",
      "0\n",
      "0    383\n",
      "1    307\n",
      "Name: count, dtype: int64\n",
      "\n",
      "\n",
      "\n",
      "thoracic\n",
      "0\n",
      "0    400\n",
      "1     70\n",
      "Name: count, dtype: int64\n",
      "\n",
      "\n",
      "\n",
      "segment0\n",
      "0\n",
      "0    30\n",
      "1    30\n",
      "2    30\n",
      "3    30\n",
      "4    30\n",
      "5    30\n",
      "6    30\n",
      "Name: count, dtype: int64\n",
      "\n",
      "\n",
      "\n",
      "wine\n",
      "0\n",
      "1    71\n",
      "0    59\n",
      "2    48\n",
      "Name: count, dtype: int64\n",
      "\n",
      "\n",
      "\n",
      "ILPD\n",
      "0\n",
      "0    416\n",
      "1    167\n",
      "Name: count, dtype: int64\n",
      "\n",
      "\n",
      "\n",
      "heart_disease\n",
      "0\n",
      "0    164\n",
      "1     55\n",
      "2     36\n",
      "3     35\n",
      "4     13\n",
      "Name: count, dtype: int64\n",
      "\n",
      "\n",
      "\n",
      "wisconsin\n",
      "0\n",
      "0    357\n",
      "1    212\n",
      "Name: count, dtype: int64\n",
      "\n",
      "\n",
      "\n",
      "spambase\n",
      "0\n",
      "0    2788\n",
      "1    1813\n",
      "Name: count, dtype: int64\n",
      "\n",
      "\n",
      "\n",
      "mammographic\n",
      "0\n",
      "0    516\n",
      "1    445\n",
      "Name: count, dtype: int64\n",
      "\n",
      "\n",
      "\n",
      "yeast1\n",
      "0\n",
      "0    463\n",
      "7    429\n",
      "6    244\n",
      "5    163\n",
      "4     51\n",
      "3     44\n",
      "2     35\n",
      "9     30\n",
      "8     20\n",
      "1      5\n",
      "Name: count, dtype: int64\n",
      "\n",
      "\n",
      "\n",
      "coimbra\n",
      "0\n",
      "1    64\n",
      "0    52\n",
      "Name: count, dtype: int64\n",
      "\n",
      "\n",
      "\n",
      "fertility\n",
      "0\n",
      "0    88\n",
      "1    12\n",
      "Name: count, dtype: int64\n",
      "\n",
      "\n",
      "\n"
     ]
    },
    {
     "name": "stderr",
     "output_type": "stream",
     "text": [
      "e:\\Code\\3_13_venv\\Lib\\site-packages\\sklearn\\preprocessing\\_label.py:110: DataConversionWarning: A column-vector y was passed when a 1d array was expected. Please change the shape of y to (n_samples, ), for example using ravel().\n",
      "  y = column_or_1d(y, warn=True)\n",
      "e:\\Code\\3_13_venv\\Lib\\site-packages\\sklearn\\preprocessing\\_label.py:110: DataConversionWarning: A column-vector y was passed when a 1d array was expected. Please change the shape of y to (n_samples, ), for example using ravel().\n",
      "  y = column_or_1d(y, warn=True)\n",
      "e:\\Code\\3_13_venv\\Lib\\site-packages\\sklearn\\preprocessing\\_label.py:110: DataConversionWarning: A column-vector y was passed when a 1d array was expected. Please change the shape of y to (n_samples, ), for example using ravel().\n",
      "  y = column_or_1d(y, warn=True)\n",
      "e:\\Code\\3_13_venv\\Lib\\site-packages\\sklearn\\preprocessing\\_label.py:110: DataConversionWarning: A column-vector y was passed when a 1d array was expected. Please change the shape of y to (n_samples, ), for example using ravel().\n",
      "  y = column_or_1d(y, warn=True)\n",
      "e:\\Code\\3_13_venv\\Lib\\site-packages\\sklearn\\preprocessing\\_label.py:110: DataConversionWarning: A column-vector y was passed when a 1d array was expected. Please change the shape of y to (n_samples, ), for example using ravel().\n",
      "  y = column_or_1d(y, warn=True)\n",
      "e:\\Code\\3_13_venv\\Lib\\site-packages\\sklearn\\preprocessing\\_label.py:110: DataConversionWarning: A column-vector y was passed when a 1d array was expected. Please change the shape of y to (n_samples, ), for example using ravel().\n",
      "  y = column_or_1d(y, warn=True)\n",
      "e:\\Code\\3_13_venv\\Lib\\site-packages\\sklearn\\preprocessing\\_label.py:110: DataConversionWarning: A column-vector y was passed when a 1d array was expected. Please change the shape of y to (n_samples, ), for example using ravel().\n",
      "  y = column_or_1d(y, warn=True)\n",
      "e:\\Code\\3_13_venv\\Lib\\site-packages\\sklearn\\preprocessing\\_label.py:110: DataConversionWarning: A column-vector y was passed when a 1d array was expected. Please change the shape of y to (n_samples, ), for example using ravel().\n",
      "  y = column_or_1d(y, warn=True)\n",
      "e:\\Code\\3_13_venv\\Lib\\site-packages\\sklearn\\preprocessing\\_label.py:110: DataConversionWarning: A column-vector y was passed when a 1d array was expected. Please change the shape of y to (n_samples, ), for example using ravel().\n",
      "  y = column_or_1d(y, warn=True)\n",
      "e:\\Code\\3_13_venv\\Lib\\site-packages\\sklearn\\preprocessing\\_label.py:110: DataConversionWarning: A column-vector y was passed when a 1d array was expected. Please change the shape of y to (n_samples, ), for example using ravel().\n",
      "  y = column_or_1d(y, warn=True)\n",
      "e:\\Code\\3_13_venv\\Lib\\site-packages\\sklearn\\preprocessing\\_label.py:110: DataConversionWarning: A column-vector y was passed when a 1d array was expected. Please change the shape of y to (n_samples, ), for example using ravel().\n",
      "  y = column_or_1d(y, warn=True)\n",
      "e:\\Code\\3_13_venv\\Lib\\site-packages\\sklearn\\preprocessing\\_label.py:110: DataConversionWarning: A column-vector y was passed when a 1d array was expected. Please change the shape of y to (n_samples, ), for example using ravel().\n",
      "  y = column_or_1d(y, warn=True)\n",
      "e:\\Code\\3_13_venv\\Lib\\site-packages\\sklearn\\preprocessing\\_label.py:110: DataConversionWarning: A column-vector y was passed when a 1d array was expected. Please change the shape of y to (n_samples, ), for example using ravel().\n",
      "  y = column_or_1d(y, warn=True)\n",
      "e:\\Code\\3_13_venv\\Lib\\site-packages\\sklearn\\preprocessing\\_label.py:110: DataConversionWarning: A column-vector y was passed when a 1d array was expected. Please change the shape of y to (n_samples, ), for example using ravel().\n",
      "  y = column_or_1d(y, warn=True)\n",
      "e:\\Code\\3_13_venv\\Lib\\site-packages\\sklearn\\preprocessing\\_label.py:110: DataConversionWarning: A column-vector y was passed when a 1d array was expected. Please change the shape of y to (n_samples, ), for example using ravel().\n",
      "  y = column_or_1d(y, warn=True)\n",
      "e:\\Code\\3_13_venv\\Lib\\site-packages\\sklearn\\preprocessing\\_label.py:110: DataConversionWarning: A column-vector y was passed when a 1d array was expected. Please change the shape of y to (n_samples, ), for example using ravel().\n",
      "  y = column_or_1d(y, warn=True)\n"
     ]
    }
   ],
   "source": [
    "\n",
    "for dataset, name in datasets:\n",
    "\t\n",
    "\traw_X, y = dataset.data.features, dataset.data.targets\n",
    "\tpipeline = create_preprocessor_pipeline(dataset.variables)\n",
    "\tpipeline.fit(raw_X, y)\n",
    "\tX = pipeline.transform(raw_X)\n",
    "\tlabel_encoder = LabelEncoder()\n",
    "\ty = label_encoder.fit_transform(y)\n",
    "\n",
    "\tprint(name)\n",
    "\tprint(pd.DataFrame(y).value_counts())\n",
    "\tprint(\"\\n\\n\")"
   ]
  },
  {
   "cell_type": "code",
   "execution_count": 1,
   "metadata": {},
   "outputs": [
    {
     "ename": "NameError",
     "evalue": "name 'iteration_mappings' is not defined",
     "output_type": "error",
     "traceback": [
      "\u001b[1;31m---------------------------------------------------------------------------\u001b[0m",
      "\u001b[1;31mNameError\u001b[0m                                 Traceback (most recent call last)",
      "Cell \u001b[1;32mIn[1], line 2\u001b[0m\n\u001b[0;32m      1\u001b[0m obj_by_idx \u001b[38;5;241m=\u001b[39m []\n\u001b[1;32m----> 2\u001b[0m \u001b[38;5;28;01mfor\u001b[39;00m name \u001b[38;5;129;01min\u001b[39;00m \u001b[43miteration_mappings\u001b[49m:\n\u001b[0;32m      3\u001b[0m \tobj_by_idx\u001b[38;5;241m.\u001b[39mappend(name\u001b[38;5;241m.\u001b[39msplit(\u001b[38;5;124m'\u001b[39m\u001b[38;5;124m \u001b[39m\u001b[38;5;124m'\u001b[39m)[\u001b[38;5;241m1\u001b[39m])\n\u001b[0;32m      5\u001b[0m records \u001b[38;5;241m=\u001b[39m []\n",
      "\u001b[1;31mNameError\u001b[0m: name 'iteration_mappings' is not defined"
     ]
    }
   ],
   "source": [
    "obj_by_idx = []\n",
    "for name in iteration_mappings:\n",
    "\tobj_by_idx.append(name.split(' ')[1])\n",
    "\n",
    "records = []\n",
    "for idx, title in enumerate(iteration_mappings):\n",
    "\trecord = rows[idx]\n",
    "\tdataset = None\n",
    "\n",
    "\tfor folder in os.listdir(\"Datasets\"):\n",
    "\t\tif folder in title:\n",
    "\t\t\tdataset = folder\n",
    "\t\t\tbreak\n",
    "\n",
    "\trecords.append({\n",
    "\t\t\"Dataset\": record['Dataset'],\n",
    "\t\t\"Sampling\": record['Sampling'],\n",
    "\t\t\"Population\": record['Population'],\n",
    "\t\t\"Objectives\": obj_by_idx[idx],\n",
    "\t\t\"Mean Validation Set\": np.mean(record['Optimized Validation Size']),\n",
    "\t\t\"Total Size\": record['Total Size'],\n",
    "\t\t\"Mean Test Set\": np.mean(record['Optimized Test Size']),\n",
    "\t\t\"Baseline validation acc\": np.mean(record['Validation Baseline Acc']),\n",
    "\t\t\"Baseline test acc\": np.mean(record['Test Baseline Acc']),\n",
    "\t\t\"Optimized validation acc\": np.mean(record['Optimized Validation Acc']),\n",
    "\t\t\"Optimized test acc\": np.mean(record['Optimized Test Acc']),\n",
    "\t\t\"Optimized ideal test acc\": np.mean(record['Ideal Test Acc']),\n",
    "\t\t\"Validation PVal\": record['Validation P-value'],\n",
    "\t\t\"Test PVal\": record['Test P-value'],\n",
    "\t\t\"Ideal Test PVal\": record['Ideal Test P-value'],\n",
    "\t\t\"Validation Diff\": np.mean(np.subtract(record['Optimized Validation Acc'], record['Validation Baseline Acc'])),\n",
    "\t\t\"Test Diff\": np.mean(np.subtract(record['Optimized Test Acc'], record['Test Baseline Acc'])),\n",
    "\t\t\"Ideal Diff\": np.mean(np.subtract(record['Ideal Test Acc'], record['Test Baseline Acc']))\n",
    "\t})\n",
    "pd.DataFrame.from_records(records).to_excel(\"ALL_METRICS.xlsx\", index=False)\n",
    "metrics = pd.DataFrame.from_records(records)"
   ]
  },
  {
   "cell_type": "code",
   "execution_count": 6,
   "metadata": {},
   "outputs": [],
   "source": [
    "metrics = pd.read_excel('ALL_METRICS.xlsx')"
   ]
  },
  {
   "cell_type": "code",
   "execution_count": 7,
   "metadata": {},
   "outputs": [
    {
     "data": {
      "text/plain": [
       "16"
      ]
     },
     "execution_count": 7,
     "metadata": {},
     "output_type": "execute_result"
    }
   ],
   "source": [
    "dataset_names = []\n",
    "for _, name in datasets:\n",
    "    dataset_names.append(name)\n",
    "len(dataset_names)"
   ]
  },
  {
   "cell_type": "code",
   "execution_count": 15,
   "metadata": {},
   "outputs": [],
   "source": [
    "keep_idx = np.where(metrics['Ideal Test PVal'] <= 0.05)\n",
    "sig_df = metrics.iloc[keep_idx]\n",
    "\n",
    "winners = []\n",
    "for name in dataset_names:\n",
    "\tdataset_idx = np.where(sig_df['Dataset'] == name)\n",
    "\tdataset_df = sig_df.iloc[dataset_idx]\n",
    "\tbias_idx = np.where(dataset_df['Population'] == 'biased population')\n",
    "\tdataset_df = dataset_df.iloc[bias_idx]\n",
    "\tdataset_df = dataset_df.sort_values('Ideal Diff')\n",
    "\n",
    "\treduction_rate = (dataset_df['Total Size'] - dataset_df['Mean Test Set']) / dataset_df['Total Size']\n",
    "\tdataset_df['Reduction Rate'] = reduction_rate\n",
    "\twinners.append(dataset_df.iloc[-1]\t)\n",
    "\n",
    "\n",
    "df = pd.DataFrame(winners).to_excel(\"FINAL_WINNERS.xlsx\", index=False)\n",
    "df\n",
    "# print(df['Sampling'].value_counts(), \"\\n\")\n",
    "# print(df['Population'].value_counts(), '\\n')\n",
    "# print(df['Objectives'].value_counts(), '\\n')"
   ]
  }
 ],
 "metadata": {
  "kernelspec": {
   "display_name": "3_13_venv",
   "language": "python",
   "name": "python3"
  },
  "language_info": {
   "codemirror_mode": {
    "name": "ipython",
    "version": 3
   },
   "file_extension": ".py",
   "mimetype": "text/x-python",
   "name": "python",
   "nbconvert_exporter": "python",
   "pygments_lexer": "ipython3",
   "version": "3.13.3"
  }
 },
 "nbformat": 4,
 "nbformat_minor": 2
}
