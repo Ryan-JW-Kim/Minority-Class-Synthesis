{
 "cells": [
  {
   "cell_type": "code",
   "execution_count": 1,
   "metadata": {},
   "outputs": [],
   "source": [
    "# from pymoo.util.nds.non_dominated_sorting import NonDominatedSorting\n",
    "# from pymoo.operators.sampling.rnd import BinaryRandomSampling\n",
    "# from pymoo.operators.crossover.hux import HUX\n",
    "# from pymoo.algorithms.moo.nsga2 import NSGA2\n",
    "# from pymoo.indicators.hv import Hypervolume\n",
    "# from pymoo.core.mutation import Mutation\n",
    "# from pymoo.core.sampling import Sampling\n",
    "# from pymoo.core.problem import Problem\n",
    "# from pymoo.optimize import minimize\n",
    "\n",
    "# from joblib import Parallel, delayed\n",
    "\n",
    "# from torch.utils.data import Dataset, DataLoader, TensorDataset\n",
    "# import torch\n",
    "\n",
    "# from scipy.stats import ranksums\n",
    "# import matplotlib.pyplot as plt\n",
    "# import torch.nn as nn\n",
    "\n",
    "# import pandas as pd\n",
    "# import numpy as np\n",
    "\n",
    "# import dill\n",
    "\n",
    "# import pickle\n",
    "# import os\n",
    "# import re\n",
    "\n",
    "# from sklearn.metrics import accuracy_score, f1_score, recall_score, precision_score\n",
    "# from sklearn.model_selection import StratifiedShuffleSplit\n",
    "# from sklearn.model_selection import train_test_split\n",
    "# from sklearn.neighbors import KNeighborsClassifier\n",
    "# from sklearn.preprocessing import LabelEncoder\n",
    "# from sklearn.preprocessing import LabelEncoder\n",
    "\n",
    "from main import *\n",
    "from execution_schemes import *\n",
    "\n",
    "datasets_path = \"Datasets\"\n",
    "save_path = \"_runs\""
   ]
  },
  {
   "cell_type": "code",
   "execution_count": 2,
   "metadata": {},
   "outputs": [],
   "source": [
    "class GenericOptimizer(Problem):\n",
    "\tpopulation_size = 100\n",
    "\tn_neighbours = 5\n",
    "\tsequential = False\n",
    "\tdef __init__(self, X_train, y_train, X_val, y_val, objectives, exec_mode):\n",
    "\t\tself.mutation_history = {}\n",
    "\t\tself.generation_number = 0\n",
    "\n",
    "\t\tself.exec_mode = exec_mode\n",
    "\n",
    "\t\tself.X_train = X_train\n",
    "\t\tself.y_train = y_train\n",
    "\n",
    "\t\tself.X_val = X_val\n",
    "\t\tself.y_val = y_val\n",
    "\n",
    "\t\tself.training_data = X_train\n",
    "\t\tself.n_instances = X_train.shape[0]\n",
    "\t\t\n",
    "\t\tself.objectives = objectives\n",
    "\n",
    "\t\tsuper().__init__(\n",
    "\t\t\tn_var=self.n_instances,\n",
    "\t\t\tn_obj=len(objectives),               \n",
    "\t\t\tn_constr=0,            \n",
    "\t\t\txl=0,                  \n",
    "\t\t\txu=1,                  \n",
    "\t\t\ttype_var=np.bool_,     \n",
    "\t\t)\n",
    "\n",
    "\tdef _evaluate(self, x, out, *args, **kwargs):\n",
    "\t\t\n",
    "\t\tif self.exec_mode == \"sequential\":\n",
    "\t\t\tmetrics = []\n",
    "\t\t\tfor objective in self.objectives:\n",
    "\t\t\t\tmetrics.append(self.eval_objective((objective, x)))\n",
    "\t\telse:\n",
    "\t\t\tmetrics = Parallel(n_jobs=-1)(delayed(self.eval_objective)((objective, x)) for objective in self.objectives)\n",
    "\t\t\n",
    "\t\tself.generation_number += 1\n",
    "\n",
    "\t\tout[\"F\"] = np.column_stack(metrics)\n",
    "\n",
    "\tdef eval_objective(self, pack):\n",
    "\t\tobjective, x = pack\n",
    "\t\t\t\n",
    "\t\tif \"calculate_num_examples\" in repr(objective):\n",
    "\t\t\treturn GenericOptimizer.calculate_num_examples(x)\n",
    "\n",
    "\t\telif \"calculate_IR\" in repr(objective):\n",
    "\t\t\tvals = []\n",
    "\t\t\tfor instance in x:\n",
    "\t\t\t\tvals.append(GenericOptimizer.calculate_IR(self.y_train[instance]))\n",
    "\t\t\treturn vals\n",
    "\t\t\n",
    "\t\telse:\n",
    "\t\t\tvals = []\n",
    "\t\t\tfor instance in x:\n",
    "\t\t\t\tvals.append(objective(\n",
    "\t\t\t\t\tself.X_train[instance],\n",
    "\t\t\t\t\tself.y_train[instance],\n",
    "\t\t\t\t\tself.X_val,\n",
    "\t\t\t\t\tself.y_val,\n",
    "\t\t\t\t\tGenericOptimizer.n_neighbours\n",
    "\t\t\t\t))\n",
    "\t\t\treturn vals\n",
    "\n",
    "\t@classmethod\n",
    "\tdef calculate_IR(cls, y):\n",
    "\t\tdf = pd.DataFrame(y).value_counts()\n",
    "\t\treturn (df[1]/df[0]) if df.min() == 0 else (df[0]/df[1])\n",
    "\t\n",
    "\t@classmethod\n",
    "\tdef filter_by_class(cls, x, y, label):\n",
    "\t\tindices = np.where(y==label)\n",
    "\t\treturn x[indices], y[indices]\n",
    "\t\n",
    "\t@classmethod\n",
    "\tdef calculate_overall_error(cls, x_train, y_train, x_val, y_val, n):\n",
    "\t\t\t\t\n",
    "\t\tnum_included_instances = x_train.shape[0]\n",
    "\n",
    "\t\tif num_included_instances >= n:\n",
    "\t\t\toptimization_knn = KNeighborsClassifier(n_neighbors=n)\n",
    "\t\t\toptimization_knn.fit(x_train, y_train)\n",
    "\n",
    "\t\t\ty_pred = optimization_knn.predict(x_val)\n",
    "\t\t\tacc = accuracy_score(y_val, y_pred)\n",
    "\t\t\treturn 1-acc\n",
    "\t\telse:\n",
    "\t\t\treturn 1\n",
    "\n",
    "\t@classmethod\n",
    "\tdef calculate_class0_error(cls, x_train, y_train, x_val, y_val, n):\n",
    "\t\tclass0_x_train, class0_y_train = cls.filter_by_class(x_train, y_train, 0)\n",
    "\t\terr = cls.calculate_overall_error(\n",
    "\t\t\tclass0_x_train,\n",
    "\t\t\tclass0_y_train,\n",
    "\t\t\tx_val,\n",
    "\t\t\ty_val,\n",
    "\t\t\tn\n",
    "\t\t)\n",
    "\t\treturn err\n",
    "\n",
    "\t@classmethod\n",
    "\tdef calculate_class1_error(cls, x_train, y_train, x_val, y_val, n):\n",
    "\t\tclass0_x_train, class0_y_train = cls.filter_by_class(x_train, y_train, 1)\n",
    "\t\terr = cls.calculate_overall_error(\n",
    "\t\t\tclass0_x_train,\n",
    "\t\t\tclass0_y_train,\n",
    "\t\t\tx_val,\n",
    "\t\t\ty_val,\n",
    "\t\t\tn\n",
    "\t\t)\n",
    "\t\treturn err\n",
    "\n",
    "\t@classmethod\n",
    "\tdef calculate_overall_inverse_f1(cls, x_train, y_train, x_val, y_val, n):\n",
    "\t\t\t\t\n",
    "\t\tnum_included_instances = x_train.shape[0]\n",
    "\n",
    "\t\tif num_included_instances >= n:\n",
    "\t\t\toptimization_knn = KNeighborsClassifier(n_neighbors=n)\n",
    "\t\t\toptimization_knn.fit(x_train, y_train)\n",
    "\n",
    "\t\t\ty_pred = optimization_knn.predict(x_val)\n",
    "\t\t\tf1 = f1_score(y_val, y_pred)\n",
    "\t\t\treturn 1-f1\n",
    "\t\telse:\n",
    "\t\t\treturn 1\n",
    "\n",
    "\t@classmethod\n",
    "\tdef calculate_class0_inverse_f1(cls, x_train, y_train, x_val, y_val, n):\n",
    "\t\tclass0_x_train, class0_y_train = cls.filter_by_class(x_train, y_train, 0)\n",
    "\t\tinv_f1 = cls.calculate_overall_inverse_f1(\n",
    "\t\t\tclass0_x_train,\n",
    "\t\t\tclass0_y_train,\n",
    "\t\t\tx_val,\n",
    "\t\t\ty_val,\n",
    "\t\t\tn\n",
    "\t\t)\n",
    "\t\treturn inv_f1\n",
    "\n",
    "\t@classmethod\n",
    "\tdef calculate_class1_inverse_f1(cls, x_train, y_train, x_val, y_val, n):\n",
    "\t\tclass0_x_train, class0_y_train = cls.filter_by_class(x_train, y_train, 1)\n",
    "\t\tinv_f1 = cls.calculate_overall_inverse_f1(\n",
    "\t\t\tclass0_x_train,\n",
    "\t\t\tclass0_y_train,\n",
    "\t\t\tx_val,\n",
    "\t\t\ty_val,\n",
    "\t\t\tn\n",
    "\t\t)\n",
    "\t\treturn inv_f1\n",
    "\t\n",
    "\t@classmethod\n",
    "\tdef calculate_overall_inverse_precision(cls, x_train, y_train, x_val, y_val, n):\n",
    "\t\t\t\t\n",
    "\t\tnum_included_instances = x_train.shape[0]\n",
    "\n",
    "\t\tif num_included_instances >= n:\n",
    "\t\t\toptimization_knn = KNeighborsClassifier(n_neighbors=n)\n",
    "\t\t\toptimization_knn.fit(x_train, y_train)\n",
    "\n",
    "\t\t\ty_pred = optimization_knn.predict(x_val)\n",
    "\t\t\tprec = precision_score(y_val, y_pred)\n",
    "\t\t\treturn 1-prec\n",
    "\t\telse:\n",
    "\t\t\treturn 1\n",
    "\n",
    "\t@classmethod\n",
    "\tdef calculate_class0_inverse_precision(cls, x_train, y_train, x_val, y_val, n):\n",
    "\t\tclass0_x_train, class0_y_train = cls.filter_by_class(x_train, y_train, 0)\n",
    "\t\tinv_prec = cls.calculate_overall_inverse_precision(\n",
    "\t\t\tclass0_x_train,\n",
    "\t\t\tclass0_y_train,\n",
    "\t\t\tx_val,\n",
    "\t\t\ty_val,\n",
    "\t\t\tn\n",
    "\t\t)\n",
    "\t\treturn inv_prec\n",
    "\n",
    "\t@classmethod\n",
    "\tdef calculate_class1_inverse_precision(cls, x_train, y_train, x_val, y_val, n):\n",
    "\t\tclass0_x_train, class0_y_train = cls.filter_by_class(x_train, y_train, 1)\n",
    "\t\tinv_prec = cls.calculate_overall_inverse_precision(\n",
    "\t\t\tclass0_x_train,\n",
    "\t\t\tclass0_y_train,\n",
    "\t\t\tx_val,\n",
    "\t\t\ty_val,\n",
    "\t\t\tn\n",
    "\t\t)\n",
    "\t\treturn inv_prec\n",
    "\t\t\n",
    "\t@classmethod\n",
    "\tdef calculate_overall_inverse_recall(cls, x_train, y_train, x_val, y_val, n):\n",
    "\t\t\t\t\n",
    "\t\tnum_included_instances = x_train.shape[0]\n",
    "\n",
    "\t\tif num_included_instances >= n:\n",
    "\t\t\toptimization_knn = KNeighborsClassifier(n_neighbors=n)\n",
    "\t\t\toptimization_knn.fit(x_train, y_train)\n",
    "\n",
    "\t\t\ty_pred = optimization_knn.predict(x_val)\n",
    "\t\t\trecall = recall_score(y_val, y_pred)\n",
    "\t\t\treturn 1-recall\n",
    "\t\telse:\n",
    "\t\t\treturn 1\n",
    "\n",
    "\t@classmethod\n",
    "\tdef calculate_class0_inverse_recall(cls, x_train, y_train, x_val, y_val, n):\n",
    "\t\tclass0_x_train, class0_y_train = cls.filter_by_class(x_train, y_train, 0)\n",
    "\t\tinv_recall = cls.calculate_overall_inverse_recall(\n",
    "\t\t\tclass0_x_train,\n",
    "\t\t\tclass0_y_train,\n",
    "\t\t\tx_val,\n",
    "\t\t\ty_val,\n",
    "\t\t\tn\n",
    "\t\t)\n",
    "\t\treturn inv_recall\n",
    "\n",
    "\t@classmethod\n",
    "\tdef calculate_class1_inverse_recall(cls, x_train, y_train, x_val, y_val, n):\n",
    "\t\tclass0_x_train, class0_y_train = cls.filter_by_class(x_train, y_train, 1)\n",
    "\t\tinv_recall = cls.calculate_overall_inverse_recall(\n",
    "\t\t\tclass0_x_train,\n",
    "\t\t\tclass0_y_train,\n",
    "\t\t\tx_val,\n",
    "\t\t\ty_val,\n",
    "\t\t\tn\n",
    "\t\t)\n",
    "\t\treturn inv_recall\n",
    "\t\n",
    "\t@classmethod\n",
    "\tdef calculate_num_examples(cls, instances):\n",
    "\t\treturn np.sum(instances, axis=1)\n",
    "\n",
    "\t@classmethod\n",
    "\tdef quantify_performance(cls, population, objectives, x_train, y_train, x_validation, y_validation, x_test, y_test):\n",
    "\t\tpass\n",
    "\n",
    "\t@classmethod\n",
    "\tdef unbound_eval_objectives(cls, objective, instances, x_train, y_train, x_validation, y_validation):\n",
    "\t\tif \"calculate_num_examples\" in repr(objective):\n",
    "\t\t\treturn GenericOptimizer.calculate_num_examples(instances)\n",
    "\n",
    "\t\telif \"calculate_IR\" in repr(objective):\n",
    "\t\t\tvals = []\n",
    "\t\t\tfor instance in instances:\n",
    "\t\t\t\tvals.append(GenericOptimizer.calculate_IR(y_train[instance]))\n",
    "\t\t\treturn vals\n",
    "\t\t\n",
    "\t\telse:\n",
    "\t\t\tvals = []\n",
    "\t\t\tfor instance in instances:\n",
    "\t\t\t\tvals.append(objective(\n",
    "\t\t\t\t\tx_train[instance],\n",
    "\t\t\t\t\ty_train[instance],\n",
    "\t\t\t\t\tx_validation,\n",
    "\t\t\t\t\ty_validation,\n",
    "\t\t\t\t\tGenericOptimizer.n_neighbours\n",
    "\t\t\t\t))\n",
    "\t\t\treturn vals\n",
    "\t\t\n",
    "\t@classmethod\n",
    "\tdef calculate_optimal_instance(cls, x_train, y_train, x_val, y_val, metrics, population, n):\n",
    "\n",
    "\t\tfronts = NonDominatedSorting().do(metrics, only_non_dominated_front=True)\n",
    "\t\t_, pareto_indicies = np.unique(metrics[fronts], axis=0, return_index=True)\n",
    "\n",
    "\t\tbest_acc = 0\n",
    "\t\tbest_instance = None\n",
    "\t\tfor idx, instance in enumerate(population[pareto_indicies]):\n",
    "\t\t\tx_filtered, y_filtered = x_train[instance], y_train[instance]\n",
    "\t\t\tif x_filtered.shape[0] < n: \n",
    "\t\t\t\tacc = 0\n",
    "\t\t\telse:\n",
    "\t\t\t\tknn = KNeighborsClassifier(n_neighbors=n)\n",
    "\t\t\t\tknn.fit(x_filtered, y_filtered)\n",
    "\t\t\t\ty_pred = knn.predict(x_val)\n",
    "\t\t\t\tacc = accuracy_score(y_val, y_pred)\n",
    "\t\t\t\n",
    "\t\t\t\tif acc > best_acc:\n",
    "\t\t\t\t\tbest_acc = acc\n",
    "\t\t\t\t\tbest_instance = instance\n",
    "\t\t\t\t\n",
    "\t\treturn pareto_indicies, x_train[best_instance], y_train[best_instance]\n",
    "\t  \n",
    "def prepare_splits(path):\n",
    "\ttry:\n",
    "\t\tdf = pd.read_csv(path, delimiter=', ', engine='python')\n",
    "\t\tx = df.drop(columns='Class')\n",
    "\t\ty = df['Class']\n",
    "\texcept KeyError:\n",
    "\t\tdf = pd.read_csv(path, delimiter=',')\n",
    "\t\tx = df.drop(columns='Class')\n",
    "\t\ty = df['Class']\n",
    "\n",
    "\tx = np.array(x)\n",
    "\t\n",
    "\tlabel_encoder = LabelEncoder()\n",
    "\ty = label_encoder.fit_transform(y)\n",
    "\t\n",
    "\ttrain_split = StratifiedShuffleSplit(\n",
    "\t\tn_splits=31,\n",
    "\t\ttest_size=0.5,\n",
    "\t)\n",
    "\n",
    "\tsplits = []\n",
    "\n",
    "\tfor train_idx, temp_idx in train_split.split(x, y):\n",
    "\n",
    "\t\ttest_split = StratifiedShuffleSplit(\n",
    "\t\t\tn_splits=1,\n",
    "\t\t\ttest_size=0.5\n",
    "\t\t)\n",
    "\n",
    "\t\tx_temp, y_temp = x[temp_idx], y[temp_idx]\n",
    "\n",
    "\t\ttest_idx, validation_idx = next(test_split.split(x_temp, y_temp))\n",
    "\n",
    "\t\tvalidation_idx = temp_idx[validation_idx]\n",
    "\t\ttest_idx = temp_idx[test_idx]\n",
    "\n",
    "\t\tsplits.append((train_idx, validation_idx, test_idx))\n",
    "\t\n",
    "\treturn x, y, splits\n",
    "\n",
    "def over_sample(x, y):\n",
    "\t\n",
    "\tcounts = pd.DataFrame(y).value_counts()\n",
    "\n",
    "\tif counts[0] < counts[1]:\n",
    "\t\tminority_class_indicies = np.where(y == 1)\n",
    "\telse:\n",
    "\t\tminority_class_indicies = np.where(y == 0)\n",
    "\n",
    "\tover_sampled_x = np.concatenate((x, x[minority_class_indicies]), axis=0)\n",
    "\tover_sampled_y = np.concatenate((y, y[minority_class_indicies]), axis=0)\n",
    "\n",
    "\treturn over_sampled_x, over_sampled_y\n",
    "\n",
    "class CustomDataset(Dataset):\n",
    "\tdef __init__(self, x_train, y_train):\n",
    "\t\tself.x_train = x_train\n",
    "\t\tself.y_train = y_train\n",
    "\tdef __len__(self):\n",
    "\t\treturn self.x_train.shape[0]\n",
    "\tdef __getitem__(self, ind):\n",
    "\t\tx = self.x_train[ind]\n",
    "\t\ty = self.y_train[ind]\n",
    "\t\treturn x, y\n",
    "\n",
    "class MLP(nn.Module):\n",
    "\tdef __init__(self, input_dim):\n",
    "\t\tsuper(MLP, self).__init__()\n",
    "\t\tself.linear1 = nn.Linear(input_dim, input_dim//2)\n",
    "\t\tself.relu1 = nn.ReLU()\n",
    "\t\tself.linear2 = nn.Linear(input_dim//2, input_dim//3)\n",
    "\t\tself.relu2 = nn.ReLU()\n",
    "\t\tself.linear3 = nn.Linear(input_dim//3, input_dim)\n",
    "\n",
    "\tdef forward(self, x):\n",
    "\t\tx = self.linear1(x)\n",
    "\t\tx = self.relu1(x)\n",
    "\t\tx = self.linear2(x)\n",
    "\t\tx = self.relu2(x)\n",
    "\t\tx = self.linear3(x)\n",
    "\t\treturn x\n",
    "\t\n",
    "class CustomMutation(Mutation):\n",
    "\tcurr_MLP = None\n",
    "\tdevice = torch.device('cuda' if torch.cuda.is_available() else 'cpu')\n",
    "\tnum_synthetic_examples = 500000\n",
    "\ttrain_epochs = 50\n",
    "\tbatch_size = 215\n",
    "\tprimary_objective = GenericOptimizer.calculate_overall_error\n",
    "\tsecondary_objectives = [\n",
    "\t\t[GenericOptimizer.calculate_num_examples],\n",
    "\t\t[GenericOptimizer.calculate_class0_error],\n",
    "\t\t[GenericOptimizer.calculate_class0_inverse_f1],\n",
    "\t\t[GenericOptimizer.calculate_class0_inverse_precision],\n",
    "\t\t[GenericOptimizer.calculate_class0_inverse_recall],\n",
    "\t\t[GenericOptimizer.calculate_class1_error],\n",
    "\t\t[GenericOptimizer.calculate_class1_inverse_f1],\n",
    "\t\t[GenericOptimizer.calculate_class1_inverse_precision],\n",
    "\t\t[GenericOptimizer.calculate_class1_inverse_recall],\n",
    "\t\t[GenericOptimizer.calculate_overall_inverse_f1],\n",
    "\t\t[GenericOptimizer.calculate_overall_inverse_precision],\n",
    "\t\t[GenericOptimizer.calculate_overall_inverse_recall],\n",
    "\t\t[GenericOptimizer.calculate_class0_inverse_precision, GenericOptimizer.calculate_class1_inverse_precision],\n",
    "\t\t[GenericOptimizer.calculate_class0_inverse_recall, GenericOptimizer.calculate_class1_inverse_recall],\n",
    "\t\t[GenericOptimizer.calculate_class0_inverse_f1, GenericOptimizer.calculate_class1_inverse_f1],\n",
    "\t\t[GenericOptimizer.calculate_class0_error, GenericOptimizer.calculate_class1_error],\n",
    "\t]\n",
    "\n",
    "\tdef __init__(self, x_train, y_train, x_validation, y_validation, prediction_threshold=0.5):\n",
    "\t\tsuper().__init__()\n",
    "\t\tself.prediction_thresh = prediction_threshold\n",
    "\t\tsynthesized_x, synthesized_y = CustomMutation.create_training_data(x_train, y_train, x_validation, y_validation)\n",
    "\t\tself.model = CustomMutation.train_mutation(synthesized_x, synthesized_y)\n",
    "\n",
    "\tdef _do(self, problem, X, **kwargs):\n",
    "\n",
    "\t\tint_x = np.array(X, dtype=np.float32)\n",
    "\t\tdataset = CustomDataset(int_x, int_x)\n",
    "\t\tloader = DataLoader(dataset, batch_size=X.shape[0], shuffle=False)\n",
    "\n",
    "\t\tself.model.eval()\n",
    "\t\twith torch.no_grad():\n",
    "\t\t\tfor data, _ in loader:\n",
    "\t\t\t\tdata = data.to(CustomMutation.device)\n",
    "\t\t\t\toutputs = self.model(data)\n",
    "\t\t\t\tpredictions = (outputs > self.prediction_thresh).bool()\n",
    "\n",
    "\t\tprediction = np.array(predictions)\n",
    "\n",
    "\t\ttotal_number_of_genes = X.shape[0] * X.shape[1]\n",
    "\t\tgenes_effected = np.sum(X ^ prediction)\n",
    "\n",
    "\t\tif problem.generation_number not in problem.mutation_history:\n",
    "\t\t\tproblem.mutation_history[problem.generation_number] = []\n",
    "\t\t\n",
    "\t\tproblem.mutation_history[problem.generation_number].append(genes_effected/total_number_of_genes)\n",
    "\t\treturn prediction\n",
    "\n",
    "\t@classmethod\n",
    "\tdef train_mutation(cls, x_train, y_train):\n",
    "\t\ttrain_set = CustomDataset(x_train, y_train)\n",
    "\t\tinput_dim = x_train.shape[1]\n",
    "\t\tbatch_size = cls.batch_size\n",
    "\t\ttrain_loader = DataLoader(train_set, batch_size=batch_size, shuffle=True)\n",
    "\n",
    "\t\tdevice = torch.device('cuda' if torch.cuda.is_available() else 'cpu')\n",
    "\n",
    "\t\t \n",
    "\t\tmodel = MLP(input_dim).to(device)\n",
    "\t\toptimizer = torch.optim.Adam(model.parameters(), lr=0.000001)\n",
    "\t\tcriterion = nn.BCEWithLogitsLoss()\n",
    "\n",
    "\t\tmodel.train()\n",
    "\t\tfor epoch in range(cls.train_epochs):\n",
    "\t\t\tlosses = []\n",
    "\t\t\tfor batch_num, input_data in enumerate(train_loader):\n",
    "\t\t\t\toptimizer.zero_grad()\n",
    "\t\t\t\tx, y = input_data\n",
    "\t\t\t\tx, y = x.to(device).float(), y.to(device)\n",
    "\n",
    "\t\t\t\toutput = model(x)\n",
    "\t\t\t\tloss = criterion(output, y)\n",
    "\t\t\t\tloss.backward()\n",
    "\t\t\t\tlosses.append(loss.item())\n",
    "\t\t\t\toptimizer.step()\n",
    "\n",
    "\t\treturn model\n",
    "\t\n",
    "\t@classmethod\n",
    "\tdef create_training_data(cls, x_train, y_train, x_validation, y_validation):\n",
    "\t\t\n",
    "\t\tsynthesizing_splits = StratifiedShuffleSplit(\n",
    "\t\t\tn_splits=len(cls.secondary_objectives), # create a split for each secondary objective\n",
    "\t\t\ttest_size=0.5, # Half the validation set is randomly excluded\n",
    "\t\t)\t\n",
    "\t\tpackages = []\n",
    "\t\tfor idx, (sub_validation_idx, _) in enumerate(synthesizing_splits.split(x_validation, y_validation)):\n",
    "\t\t\tpackages.append((\n",
    "\t\t\t\tcls.secondary_objectives[idx],\n",
    "\t\t\t\tx_train,\n",
    "\t\t\t\ty_train,\n",
    "\t\t\t\tx_validation[sub_validation_idx],\n",
    "\t\t\t\ty_validation[sub_validation_idx]\n",
    "\t\t\t))\n",
    "\n",
    "\t\t# Execute optimization and extract the final populations\n",
    "\t\tpopulations = Parallel(n_jobs=-1)(delayed(cls.execute_training_data_gen)(package) for package in packages)\n",
    "\t\t\n",
    "\t\t# Aggregate all populations into single list containing every unique instance\n",
    "\t\tall_instances = []\n",
    "\t\tfor population in populations:\n",
    "\t\t\tfor individual in population.pop:\n",
    "\t\t\t\tall_instances.append(list(individual.X))\n",
    "\t\t\t\t\n",
    "\t\tall_instances = np.array(all_instances)\n",
    "\n",
    "\t\t# Create synthetic examples by adding randin noise to each instance. Repeat until threshold is reached.\n",
    "\t\tsynthetic_x, synthetic_y = [], []\n",
    "\t\twhile len(synthetic_x) < cls.num_synthetic_examples:\n",
    "\t\t\t\n",
    "\t\t\tfor y_true in all_instances:\n",
    "\t\t\t\tx_noised = []\n",
    "\t\t\t\tfor idx, probability in enumerate(np.random.uniform(0.1, 1.0, y_true.shape[0])):\n",
    "\t\t\t\t\tif probability < 0.85:\n",
    "\t\t\t\t\t\tx_noised.append(y_true[idx])                \n",
    "\t\t\t\t\telse:\n",
    "\t\t\t\t\t\tx_noised.append(0 if y_true[idx] == 1 else 1)\n",
    "\n",
    "\t\t\t\tsynthetic_x.append(np.array(x_noised, dtype=np.float32))\n",
    "\t\t\t\tsynthetic_y.append(np.array(y_true, dtype=np.float32))\n",
    "\n",
    "\t\treturn np.array(synthetic_x), np.array(synthetic_y)\n",
    "\t\n",
    "\t@classmethod\n",
    "\tdef execute_training_data_gen(cls, package):\n",
    "\n",
    "\t\tobjectives, x_train, y_train, x_validation, y_validation = package\n",
    "\t\t\n",
    "\t\tobjectives.append(cls.primary_objective)\n",
    "\n",
    "\t\tproblem = GenericOptimizer(\n",
    "\t\t\tx_train, \n",
    "\t\t\ty_train, \n",
    "\t\t\tx_validation, \n",
    "\t\t\ty_validation,\n",
    "\t\t\tobjectives,\n",
    "\t\t\t\"Sequential\"\n",
    "\t\t)\n",
    "\n",
    "\t\talgorithm = NSGA2(\n",
    "\t\t\tpop_size=GenericOptimizer.population_size, \n",
    "\t\t\tsampling=BinaryRandomSampling(), \n",
    "\t\t\tcrossover=HUX(), \n",
    "\t\t\tmutation=BitflipMutation(), \n",
    "\t\t\teliminate_duplicates=True\n",
    "\t\t)\n",
    "\t\tresult = minimize(\n",
    "\t\t\tproblem, \n",
    "\t\t\talgorithm, \n",
    "\t\t\t('n_gen', GenericOptimizer.population_size)\n",
    "\t\t)\n",
    "\t\t\n",
    "\t\treturn result\n",
    "\t\n",
    "class BitflipMutation(Mutation):\n",
    "\n",
    "\tdef _do(self, problem, X, **kwargs):\n",
    "\t\t\n",
    "\t\tprob_var = self.get_prob_var(problem, size=(len(X), 1))\n",
    "\t\tXp = np.copy(X)\n",
    "\t\tflip = np.random.random(X.shape) < prob_var\n",
    "\t\tXp[flip] = ~X[flip]\n",
    "\t\t\n",
    "\t\ttotal_number_of_genes = X.shape[0] * X.shape[1]\n",
    "\t\tgenes_effected = np.sum(X ^ Xp)\n",
    "\n",
    "\t\tif problem.generation_number not in problem.mutation_history:\n",
    "\t\t\tproblem.mutation_history[problem.generation_number] = []\n",
    "\t\t\n",
    "\t\tproblem.mutation_history[problem.generation_number].append(genes_effected/total_number_of_genes)\n",
    "\n",
    "\t\treturn Xp\n",
    "\n",
    "class BiasedBinarySampling(Sampling):\n",
    "\tdef __init__(self, labels, major_prob, minor_prob):\n",
    "\t\t\n",
    "\t\tself.labels = labels\n",
    "\t\tcounts = pd.DataFrame(labels).value_counts()\n",
    "\t\tif counts[0] > counts[1]:\n",
    "\t\t\tself.c0_thresh = major_prob\n",
    "\t\t\tself.c1_thresh = minor_prob\n",
    "\t\telse:\n",
    "\t\t\tself.c0_thresh = minor_prob\n",
    "\t\t\tself.c1_thresh = major_prob\n",
    "\n",
    "\t\tsuper().__init__()\n",
    "\n",
    "\tdef _do(self, problem, n_samples, **kwargs):\n",
    "\n",
    "\t\trands = np.random.random((n_samples, problem.n_var))\n",
    "\t\tinit_pops = np.zeros((n_samples, problem.n_var), dtype=bool)\n",
    "\t\tfor idx, label in enumerate(self.labels):\n",
    "\t\t\tif label == 0:\n",
    "\t\t\t\tinit_pops[:, idx] = (rands[:, idx] < self.c0_thresh).astype(bool)\n",
    "\t\t\tif label == 1:\n",
    "\t\t\t\tinit_pops[:, idx] = (rands[:, idx] < self.c1_thresh).astype(bool)\n",
    "\n",
    "\n",
    "\t\treturn init_pops\n"
   ]
  },
  {
   "cell_type": "markdown",
   "metadata": {},
   "source": [
    "# Legacy optimization"
   ]
  },
  {
   "cell_type": "code",
   "execution_count": null,
   "metadata": {},
   "outputs": [
    {
     "name": "stdout",
     "output_type": "stream",
     "text": [
      "\n",
      "Created 31 packages\n",
      "\t- Finished 31 optimizations\n",
      "\t> Saved: 0_overSample_randPop_australian_calculate_overall_error_calculate_num_examples\n",
      "\t> Saved: 1_overSample_randPop_australian_calculate_overall_error_calculate_num_examples\n",
      "\t> Saved: 2_overSample_randPop_australian_calculate_overall_error_calculate_num_examples\n",
      "\t> Saved: 3_overSample_randPop_australian_calculate_overall_error_calculate_num_examples\n",
      "\t> Saved: 4_overSample_randPop_australian_calculate_overall_error_calculate_num_examples\n",
      "\t> Saved: 5_overSample_randPop_australian_calculate_overall_error_calculate_num_examples\n",
      "\t> Saved: 6_overSample_randPop_australian_calculate_overall_error_calculate_num_examples\n",
      "\t> Saved: 7_overSample_randPop_australian_calculate_overall_error_calculate_num_examples\n",
      "\t> Saved: 8_overSample_randPop_australian_calculate_overall_error_calculate_num_examples\n",
      "\t> Saved: 9_overSample_randPop_australian_calculate_overall_error_calculate_num_examples\n",
      "\t> Saved: 10_overSample_randPop_australian_calculate_overall_error_calculate_num_examples\n",
      "\t> Saved: 11_overSample_randPop_australian_calculate_overall_error_calculate_num_examples\n",
      "\t> Saved: 12_overSample_randPop_australian_calculate_overall_error_calculate_num_examples\n",
      "\t> Saved: 13_overSample_randPop_australian_calculate_overall_error_calculate_num_examples\n",
      "\t> Saved: 14_overSample_randPop_australian_calculate_overall_error_calculate_num_examples\n",
      "\t> Saved: 15_overSample_randPop_australian_calculate_overall_error_calculate_num_examples\n",
      "\t> Saved: 16_overSample_randPop_australian_calculate_overall_error_calculate_num_examples\n",
      "\t> Saved: 17_overSample_randPop_australian_calculate_overall_error_calculate_num_examples\n",
      "\t> Saved: 18_overSample_randPop_australian_calculate_overall_error_calculate_num_examples\n",
      "\t> Saved: 19_overSample_randPop_australian_calculate_overall_error_calculate_num_examples\n",
      "\t> Saved: 20_overSample_randPop_australian_calculate_overall_error_calculate_num_examples\n",
      "\t> Saved: 21_overSample_randPop_australian_calculate_overall_error_calculate_num_examples\n",
      "\t> Saved: 22_overSample_randPop_australian_calculate_overall_error_calculate_num_examples\n",
      "\t> Saved: 23_overSample_randPop_australian_calculate_overall_error_calculate_num_examples\n",
      "\t> Saved: 24_overSample_randPop_australian_calculate_overall_error_calculate_num_examples\n",
      "\t> Saved: 25_overSample_randPop_australian_calculate_overall_error_calculate_num_examples\n",
      "\t> Saved: 26_overSample_randPop_australian_calculate_overall_error_calculate_num_examples\n",
      "\t> Saved: 27_overSample_randPop_australian_calculate_overall_error_calculate_num_examples\n",
      "\t> Saved: 28_overSample_randPop_australian_calculate_overall_error_calculate_num_examples\n",
      "\t> Saved: 29_overSample_randPop_australian_calculate_overall_error_calculate_num_examples\n",
      "\t> Saved: 30_overSample_randPop_australian_calculate_overall_error_calculate_num_examples\n",
      "\n",
      "Created 31 packages\n",
      "\t- Finished 31 optimizations\n",
      "\t> Saved: 0_regularSample_randPop_australian_calculate_overall_error_calculate_num_examples\n",
      "\t> Saved: 1_regularSample_randPop_australian_calculate_overall_error_calculate_num_examples\n",
      "\t> Saved: 2_regularSample_randPop_australian_calculate_overall_error_calculate_num_examples\n",
      "\t> Saved: 3_regularSample_randPop_australian_calculate_overall_error_calculate_num_examples\n",
      "\t> Saved: 4_regularSample_randPop_australian_calculate_overall_error_calculate_num_examples\n",
      "\t> Saved: 5_regularSample_randPop_australian_calculate_overall_error_calculate_num_examples\n",
      "\t> Saved: 6_regularSample_randPop_australian_calculate_overall_error_calculate_num_examples\n",
      "\t> Saved: 7_regularSample_randPop_australian_calculate_overall_error_calculate_num_examples\n",
      "\t> Saved: 8_regularSample_randPop_australian_calculate_overall_error_calculate_num_examples\n",
      "\t> Saved: 9_regularSample_randPop_australian_calculate_overall_error_calculate_num_examples\n",
      "\t> Saved: 10_regularSample_randPop_australian_calculate_overall_error_calculate_num_examples\n",
      "\t> Saved: 11_regularSample_randPop_australian_calculate_overall_error_calculate_num_examples\n",
      "\t> Saved: 12_regularSample_randPop_australian_calculate_overall_error_calculate_num_examples\n",
      "\t> Saved: 13_regularSample_randPop_australian_calculate_overall_error_calculate_num_examples\n",
      "\t> Saved: 14_regularSample_randPop_australian_calculate_overall_error_calculate_num_examples\n",
      "\t> Saved: 15_regularSample_randPop_australian_calculate_overall_error_calculate_num_examples\n",
      "\t> Saved: 16_regularSample_randPop_australian_calculate_overall_error_calculate_num_examples\n",
      "\t> Saved: 17_regularSample_randPop_australian_calculate_overall_error_calculate_num_examples\n",
      "\t> Saved: 18_regularSample_randPop_australian_calculate_overall_error_calculate_num_examples\n",
      "\t> Saved: 19_regularSample_randPop_australian_calculate_overall_error_calculate_num_examples\n",
      "\t> Saved: 20_regularSample_randPop_australian_calculate_overall_error_calculate_num_examples\n",
      "\t> Saved: 21_regularSample_randPop_australian_calculate_overall_error_calculate_num_examples\n",
      "\t> Saved: 22_regularSample_randPop_australian_calculate_overall_error_calculate_num_examples\n",
      "\t> Saved: 23_regularSample_randPop_australian_calculate_overall_error_calculate_num_examples\n",
      "\t> Saved: 24_regularSample_randPop_australian_calculate_overall_error_calculate_num_examples\n",
      "\t> Saved: 25_regularSample_randPop_australian_calculate_overall_error_calculate_num_examples\n",
      "\t> Saved: 26_regularSample_randPop_australian_calculate_overall_error_calculate_num_examples\n",
      "\t> Saved: 27_regularSample_randPop_australian_calculate_overall_error_calculate_num_examples\n",
      "\t> Saved: 28_regularSample_randPop_australian_calculate_overall_error_calculate_num_examples\n",
      "\t> Saved: 29_regularSample_randPop_australian_calculate_overall_error_calculate_num_examples\n",
      "\t> Saved: 30_regularSample_randPop_australian_calculate_overall_error_calculate_num_examples\n",
      "\n",
      "Created 31 packages\n",
      "\t- Finished 31 optimizations\n",
      "\t> Saved: 0_overSample_biasPop_australian_calculate_overall_error_calculate_num_examples\n",
      "\t> Saved: 1_overSample_biasPop_australian_calculate_overall_error_calculate_num_examples\n",
      "\t> Saved: 2_overSample_biasPop_australian_calculate_overall_error_calculate_num_examples\n",
      "\t> Saved: 3_overSample_biasPop_australian_calculate_overall_error_calculate_num_examples\n",
      "\t> Saved: 4_overSample_biasPop_australian_calculate_overall_error_calculate_num_examples\n",
      "\t> Saved: 5_overSample_biasPop_australian_calculate_overall_error_calculate_num_examples\n",
      "\t> Saved: 6_overSample_biasPop_australian_calculate_overall_error_calculate_num_examples\n",
      "\t> Saved: 7_overSample_biasPop_australian_calculate_overall_error_calculate_num_examples\n",
      "\t> Saved: 8_overSample_biasPop_australian_calculate_overall_error_calculate_num_examples\n",
      "\t> Saved: 9_overSample_biasPop_australian_calculate_overall_error_calculate_num_examples\n",
      "\t> Saved: 10_overSample_biasPop_australian_calculate_overall_error_calculate_num_examples\n",
      "\t> Saved: 11_overSample_biasPop_australian_calculate_overall_error_calculate_num_examples\n",
      "\t> Saved: 12_overSample_biasPop_australian_calculate_overall_error_calculate_num_examples\n",
      "\t> Saved: 13_overSample_biasPop_australian_calculate_overall_error_calculate_num_examples\n",
      "\t> Saved: 14_overSample_biasPop_australian_calculate_overall_error_calculate_num_examples\n",
      "\t> Saved: 15_overSample_biasPop_australian_calculate_overall_error_calculate_num_examples\n",
      "\t> Saved: 16_overSample_biasPop_australian_calculate_overall_error_calculate_num_examples\n",
      "\t> Saved: 17_overSample_biasPop_australian_calculate_overall_error_calculate_num_examples\n",
      "\t> Saved: 18_overSample_biasPop_australian_calculate_overall_error_calculate_num_examples\n",
      "\t> Saved: 19_overSample_biasPop_australian_calculate_overall_error_calculate_num_examples\n",
      "\t> Saved: 20_overSample_biasPop_australian_calculate_overall_error_calculate_num_examples\n",
      "\t> Saved: 21_overSample_biasPop_australian_calculate_overall_error_calculate_num_examples\n",
      "\t> Saved: 22_overSample_biasPop_australian_calculate_overall_error_calculate_num_examples\n",
      "\t> Saved: 23_overSample_biasPop_australian_calculate_overall_error_calculate_num_examples\n",
      "\t> Saved: 24_overSample_biasPop_australian_calculate_overall_error_calculate_num_examples\n",
      "\t> Saved: 25_overSample_biasPop_australian_calculate_overall_error_calculate_num_examples\n",
      "\t> Saved: 26_overSample_biasPop_australian_calculate_overall_error_calculate_num_examples\n",
      "\t> Saved: 27_overSample_biasPop_australian_calculate_overall_error_calculate_num_examples\n",
      "\t> Saved: 28_overSample_biasPop_australian_calculate_overall_error_calculate_num_examples\n",
      "\t> Saved: 29_overSample_biasPop_australian_calculate_overall_error_calculate_num_examples\n",
      "\t> Saved: 30_overSample_biasPop_australian_calculate_overall_error_calculate_num_examples\n",
      "\n",
      "Created 31 packages\n",
      "\t- Finished 31 optimizations\n",
      "\t> Saved: 0_regularSample_biasPop_australian_calculate_overall_error_calculate_num_examples\n",
      "\t> Saved: 1_regularSample_biasPop_australian_calculate_overall_error_calculate_num_examples\n",
      "\t> Saved: 2_regularSample_biasPop_australian_calculate_overall_error_calculate_num_examples\n",
      "\t> Saved: 3_regularSample_biasPop_australian_calculate_overall_error_calculate_num_examples\n",
      "\t> Saved: 4_regularSample_biasPop_australian_calculate_overall_error_calculate_num_examples\n",
      "\t> Saved: 5_regularSample_biasPop_australian_calculate_overall_error_calculate_num_examples\n",
      "\t> Saved: 6_regularSample_biasPop_australian_calculate_overall_error_calculate_num_examples\n",
      "\t> Saved: 7_regularSample_biasPop_australian_calculate_overall_error_calculate_num_examples\n",
      "\t> Saved: 8_regularSample_biasPop_australian_calculate_overall_error_calculate_num_examples\n",
      "\t> Saved: 9_regularSample_biasPop_australian_calculate_overall_error_calculate_num_examples\n",
      "\t> Saved: 10_regularSample_biasPop_australian_calculate_overall_error_calculate_num_examples\n",
      "\t> Saved: 11_regularSample_biasPop_australian_calculate_overall_error_calculate_num_examples\n",
      "\t> Saved: 12_regularSample_biasPop_australian_calculate_overall_error_calculate_num_examples\n",
      "\t> Saved: 13_regularSample_biasPop_australian_calculate_overall_error_calculate_num_examples\n",
      "\t> Saved: 14_regularSample_biasPop_australian_calculate_overall_error_calculate_num_examples\n",
      "\t> Saved: 15_regularSample_biasPop_australian_calculate_overall_error_calculate_num_examples\n",
      "\t> Saved: 16_regularSample_biasPop_australian_calculate_overall_error_calculate_num_examples\n",
      "\t> Saved: 17_regularSample_biasPop_australian_calculate_overall_error_calculate_num_examples\n",
      "\t> Saved: 18_regularSample_biasPop_australian_calculate_overall_error_calculate_num_examples\n",
      "\t> Saved: 19_regularSample_biasPop_australian_calculate_overall_error_calculate_num_examples\n",
      "\t> Saved: 20_regularSample_biasPop_australian_calculate_overall_error_calculate_num_examples\n",
      "\t> Saved: 21_regularSample_biasPop_australian_calculate_overall_error_calculate_num_examples\n",
      "\t> Saved: 22_regularSample_biasPop_australian_calculate_overall_error_calculate_num_examples\n",
      "\t> Saved: 23_regularSample_biasPop_australian_calculate_overall_error_calculate_num_examples\n",
      "\t> Saved: 24_regularSample_biasPop_australian_calculate_overall_error_calculate_num_examples\n",
      "\t> Saved: 25_regularSample_biasPop_australian_calculate_overall_error_calculate_num_examples\n",
      "\t> Saved: 26_regularSample_biasPop_australian_calculate_overall_error_calculate_num_examples\n",
      "\t> Saved: 27_regularSample_biasPop_australian_calculate_overall_error_calculate_num_examples\n",
      "\t> Saved: 28_regularSample_biasPop_australian_calculate_overall_error_calculate_num_examples\n",
      "\t> Saved: 29_regularSample_biasPop_australian_calculate_overall_error_calculate_num_examples\n",
      "\t> Saved: 30_regularSample_biasPop_australian_calculate_overall_error_calculate_num_examples\n",
      "\n",
      "Created 31 packages\n",
      "\t- Finished 31 optimizations\n",
      "\t> Saved: 0_overSample_randPop_bupa_calculate_overall_error_calculate_num_examples\n",
      "\t> Saved: 1_overSample_randPop_bupa_calculate_overall_error_calculate_num_examples\n",
      "\t> Saved: 2_overSample_randPop_bupa_calculate_overall_error_calculate_num_examples\n",
      "\t> Saved: 3_overSample_randPop_bupa_calculate_overall_error_calculate_num_examples\n",
      "\t> Saved: 4_overSample_randPop_bupa_calculate_overall_error_calculate_num_examples\n",
      "\t> Saved: 5_overSample_randPop_bupa_calculate_overall_error_calculate_num_examples\n",
      "\t> Saved: 6_overSample_randPop_bupa_calculate_overall_error_calculate_num_examples\n",
      "\t> Saved: 7_overSample_randPop_bupa_calculate_overall_error_calculate_num_examples\n",
      "\t> Saved: 8_overSample_randPop_bupa_calculate_overall_error_calculate_num_examples\n",
      "\t> Saved: 9_overSample_randPop_bupa_calculate_overall_error_calculate_num_examples\n",
      "\t> Saved: 10_overSample_randPop_bupa_calculate_overall_error_calculate_num_examples\n",
      "\t> Saved: 11_overSample_randPop_bupa_calculate_overall_error_calculate_num_examples\n",
      "\t> Saved: 12_overSample_randPop_bupa_calculate_overall_error_calculate_num_examples\n",
      "\t> Saved: 13_overSample_randPop_bupa_calculate_overall_error_calculate_num_examples\n",
      "\t> Saved: 14_overSample_randPop_bupa_calculate_overall_error_calculate_num_examples\n",
      "\t> Saved: 15_overSample_randPop_bupa_calculate_overall_error_calculate_num_examples\n",
      "\t> Saved: 16_overSample_randPop_bupa_calculate_overall_error_calculate_num_examples\n",
      "\t> Saved: 17_overSample_randPop_bupa_calculate_overall_error_calculate_num_examples\n",
      "\t> Saved: 18_overSample_randPop_bupa_calculate_overall_error_calculate_num_examples\n",
      "\t> Saved: 19_overSample_randPop_bupa_calculate_overall_error_calculate_num_examples\n",
      "\t> Saved: 20_overSample_randPop_bupa_calculate_overall_error_calculate_num_examples\n",
      "\t> Saved: 21_overSample_randPop_bupa_calculate_overall_error_calculate_num_examples\n",
      "\t> Saved: 22_overSample_randPop_bupa_calculate_overall_error_calculate_num_examples\n",
      "\t> Saved: 23_overSample_randPop_bupa_calculate_overall_error_calculate_num_examples\n",
      "\t> Saved: 24_overSample_randPop_bupa_calculate_overall_error_calculate_num_examples\n",
      "\t> Saved: 25_overSample_randPop_bupa_calculate_overall_error_calculate_num_examples\n",
      "\t> Saved: 26_overSample_randPop_bupa_calculate_overall_error_calculate_num_examples\n",
      "\t> Saved: 27_overSample_randPop_bupa_calculate_overall_error_calculate_num_examples\n",
      "\t> Saved: 28_overSample_randPop_bupa_calculate_overall_error_calculate_num_examples\n",
      "\t> Saved: 29_overSample_randPop_bupa_calculate_overall_error_calculate_num_examples\n",
      "\t> Saved: 30_overSample_randPop_bupa_calculate_overall_error_calculate_num_examples\n",
      "\n",
      "Created 31 packages\n",
      "\t- Finished 31 optimizations\n",
      "\t> Saved: 0_regularSample_randPop_bupa_calculate_overall_error_calculate_num_examples\n",
      "\t> Saved: 1_regularSample_randPop_bupa_calculate_overall_error_calculate_num_examples\n",
      "\t> Saved: 2_regularSample_randPop_bupa_calculate_overall_error_calculate_num_examples\n",
      "\t> Saved: 3_regularSample_randPop_bupa_calculate_overall_error_calculate_num_examples\n",
      "\t> Saved: 4_regularSample_randPop_bupa_calculate_overall_error_calculate_num_examples\n",
      "\t> Saved: 5_regularSample_randPop_bupa_calculate_overall_error_calculate_num_examples\n",
      "\t> Saved: 6_regularSample_randPop_bupa_calculate_overall_error_calculate_num_examples\n",
      "\t> Saved: 7_regularSample_randPop_bupa_calculate_overall_error_calculate_num_examples\n",
      "\t> Saved: 8_regularSample_randPop_bupa_calculate_overall_error_calculate_num_examples\n",
      "\t> Saved: 9_regularSample_randPop_bupa_calculate_overall_error_calculate_num_examples\n",
      "\t> Saved: 10_regularSample_randPop_bupa_calculate_overall_error_calculate_num_examples\n",
      "\t> Saved: 11_regularSample_randPop_bupa_calculate_overall_error_calculate_num_examples\n",
      "\t> Saved: 12_regularSample_randPop_bupa_calculate_overall_error_calculate_num_examples\n",
      "\t> Saved: 13_regularSample_randPop_bupa_calculate_overall_error_calculate_num_examples\n",
      "\t> Saved: 14_regularSample_randPop_bupa_calculate_overall_error_calculate_num_examples\n",
      "\t> Saved: 15_regularSample_randPop_bupa_calculate_overall_error_calculate_num_examples\n",
      "\t> Saved: 16_regularSample_randPop_bupa_calculate_overall_error_calculate_num_examples\n",
      "\t> Saved: 17_regularSample_randPop_bupa_calculate_overall_error_calculate_num_examples\n",
      "\t> Saved: 18_regularSample_randPop_bupa_calculate_overall_error_calculate_num_examples\n",
      "\t> Saved: 19_regularSample_randPop_bupa_calculate_overall_error_calculate_num_examples\n",
      "\t> Saved: 20_regularSample_randPop_bupa_calculate_overall_error_calculate_num_examples\n",
      "\t> Saved: 21_regularSample_randPop_bupa_calculate_overall_error_calculate_num_examples\n",
      "\t> Saved: 22_regularSample_randPop_bupa_calculate_overall_error_calculate_num_examples\n",
      "\t> Saved: 23_regularSample_randPop_bupa_calculate_overall_error_calculate_num_examples\n",
      "\t> Saved: 24_regularSample_randPop_bupa_calculate_overall_error_calculate_num_examples\n",
      "\t> Saved: 25_regularSample_randPop_bupa_calculate_overall_error_calculate_num_examples\n",
      "\t> Saved: 26_regularSample_randPop_bupa_calculate_overall_error_calculate_num_examples\n",
      "\t> Saved: 27_regularSample_randPop_bupa_calculate_overall_error_calculate_num_examples\n",
      "\t> Saved: 28_regularSample_randPop_bupa_calculate_overall_error_calculate_num_examples\n",
      "\t> Saved: 29_regularSample_randPop_bupa_calculate_overall_error_calculate_num_examples\n",
      "\t> Saved: 30_regularSample_randPop_bupa_calculate_overall_error_calculate_num_examples\n",
      "\n",
      "Created 31 packages\n",
      "\t- Finished 31 optimizations\n",
      "\t> Saved: 0_overSample_biasPop_bupa_calculate_overall_error_calculate_num_examples\n",
      "\t> Saved: 1_overSample_biasPop_bupa_calculate_overall_error_calculate_num_examples\n",
      "\t> Saved: 2_overSample_biasPop_bupa_calculate_overall_error_calculate_num_examples\n",
      "\t> Saved: 3_overSample_biasPop_bupa_calculate_overall_error_calculate_num_examples\n",
      "\t> Saved: 4_overSample_biasPop_bupa_calculate_overall_error_calculate_num_examples\n",
      "\t> Saved: 5_overSample_biasPop_bupa_calculate_overall_error_calculate_num_examples\n",
      "\t> Saved: 6_overSample_biasPop_bupa_calculate_overall_error_calculate_num_examples\n",
      "\t> Saved: 7_overSample_biasPop_bupa_calculate_overall_error_calculate_num_examples\n",
      "\t> Saved: 8_overSample_biasPop_bupa_calculate_overall_error_calculate_num_examples\n",
      "\t> Saved: 9_overSample_biasPop_bupa_calculate_overall_error_calculate_num_examples\n",
      "\t> Saved: 10_overSample_biasPop_bupa_calculate_overall_error_calculate_num_examples\n",
      "\t> Saved: 11_overSample_biasPop_bupa_calculate_overall_error_calculate_num_examples\n",
      "\t> Saved: 12_overSample_biasPop_bupa_calculate_overall_error_calculate_num_examples\n",
      "\t> Saved: 13_overSample_biasPop_bupa_calculate_overall_error_calculate_num_examples\n",
      "\t> Saved: 14_overSample_biasPop_bupa_calculate_overall_error_calculate_num_examples\n",
      "\t> Saved: 15_overSample_biasPop_bupa_calculate_overall_error_calculate_num_examples\n",
      "\t> Saved: 16_overSample_biasPop_bupa_calculate_overall_error_calculate_num_examples\n",
      "\t> Saved: 17_overSample_biasPop_bupa_calculate_overall_error_calculate_num_examples\n",
      "\t> Saved: 18_overSample_biasPop_bupa_calculate_overall_error_calculate_num_examples\n",
      "\t> Saved: 19_overSample_biasPop_bupa_calculate_overall_error_calculate_num_examples\n",
      "\t> Saved: 20_overSample_biasPop_bupa_calculate_overall_error_calculate_num_examples\n",
      "\t> Saved: 21_overSample_biasPop_bupa_calculate_overall_error_calculate_num_examples\n",
      "\t> Saved: 22_overSample_biasPop_bupa_calculate_overall_error_calculate_num_examples\n",
      "\t> Saved: 23_overSample_biasPop_bupa_calculate_overall_error_calculate_num_examples\n",
      "\t> Saved: 24_overSample_biasPop_bupa_calculate_overall_error_calculate_num_examples\n",
      "\t> Saved: 25_overSample_biasPop_bupa_calculate_overall_error_calculate_num_examples\n",
      "\t> Saved: 26_overSample_biasPop_bupa_calculate_overall_error_calculate_num_examples\n",
      "\t> Saved: 27_overSample_biasPop_bupa_calculate_overall_error_calculate_num_examples\n",
      "\t> Saved: 28_overSample_biasPop_bupa_calculate_overall_error_calculate_num_examples\n",
      "\t> Saved: 29_overSample_biasPop_bupa_calculate_overall_error_calculate_num_examples\n",
      "\t> Saved: 30_overSample_biasPop_bupa_calculate_overall_error_calculate_num_examples\n",
      "\n",
      "Created 31 packages\n",
      "\t- Finished 31 optimizations\n",
      "\t> Saved: 0_regularSample_biasPop_bupa_calculate_overall_error_calculate_num_examples\n",
      "\t> Saved: 1_regularSample_biasPop_bupa_calculate_overall_error_calculate_num_examples\n",
      "\t> Saved: 2_regularSample_biasPop_bupa_calculate_overall_error_calculate_num_examples\n",
      "\t> Saved: 3_regularSample_biasPop_bupa_calculate_overall_error_calculate_num_examples\n",
      "\t> Saved: 4_regularSample_biasPop_bupa_calculate_overall_error_calculate_num_examples\n",
      "\t> Saved: 5_regularSample_biasPop_bupa_calculate_overall_error_calculate_num_examples\n",
      "\t> Saved: 6_regularSample_biasPop_bupa_calculate_overall_error_calculate_num_examples\n",
      "\t> Saved: 7_regularSample_biasPop_bupa_calculate_overall_error_calculate_num_examples\n",
      "\t> Saved: 8_regularSample_biasPop_bupa_calculate_overall_error_calculate_num_examples\n",
      "\t> Saved: 9_regularSample_biasPop_bupa_calculate_overall_error_calculate_num_examples\n",
      "\t> Saved: 10_regularSample_biasPop_bupa_calculate_overall_error_calculate_num_examples\n",
      "\t> Saved: 11_regularSample_biasPop_bupa_calculate_overall_error_calculate_num_examples\n",
      "\t> Saved: 12_regularSample_biasPop_bupa_calculate_overall_error_calculate_num_examples\n",
      "\t> Saved: 13_regularSample_biasPop_bupa_calculate_overall_error_calculate_num_examples\n",
      "\t> Saved: 14_regularSample_biasPop_bupa_calculate_overall_error_calculate_num_examples\n",
      "\t> Saved: 15_regularSample_biasPop_bupa_calculate_overall_error_calculate_num_examples\n",
      "\t> Saved: 16_regularSample_biasPop_bupa_calculate_overall_error_calculate_num_examples\n",
      "\t> Saved: 17_regularSample_biasPop_bupa_calculate_overall_error_calculate_num_examples\n",
      "\t> Saved: 18_regularSample_biasPop_bupa_calculate_overall_error_calculate_num_examples\n",
      "\t> Saved: 19_regularSample_biasPop_bupa_calculate_overall_error_calculate_num_examples\n",
      "\t> Saved: 20_regularSample_biasPop_bupa_calculate_overall_error_calculate_num_examples\n",
      "\t> Saved: 21_regularSample_biasPop_bupa_calculate_overall_error_calculate_num_examples\n",
      "\t> Saved: 22_regularSample_biasPop_bupa_calculate_overall_error_calculate_num_examples\n",
      "\t> Saved: 23_regularSample_biasPop_bupa_calculate_overall_error_calculate_num_examples\n",
      "\t> Saved: 24_regularSample_biasPop_bupa_calculate_overall_error_calculate_num_examples\n",
      "\t> Saved: 25_regularSample_biasPop_bupa_calculate_overall_error_calculate_num_examples\n",
      "\t> Saved: 26_regularSample_biasPop_bupa_calculate_overall_error_calculate_num_examples\n",
      "\t> Saved: 27_regularSample_biasPop_bupa_calculate_overall_error_calculate_num_examples\n",
      "\t> Saved: 28_regularSample_biasPop_bupa_calculate_overall_error_calculate_num_examples\n",
      "\t> Saved: 29_regularSample_biasPop_bupa_calculate_overall_error_calculate_num_examples\n",
      "\t> Saved: 30_regularSample_biasPop_bupa_calculate_overall_error_calculate_num_examples\n",
      "\n",
      "Created 31 packages\n",
      "\t- Finished 31 optimizations\n",
      "\t> Saved: 0_overSample_randPop_glass1_calculate_overall_error_calculate_num_examples\n",
      "\t> Saved: 1_overSample_randPop_glass1_calculate_overall_error_calculate_num_examples\n",
      "\t> Saved: 2_overSample_randPop_glass1_calculate_overall_error_calculate_num_examples\n",
      "\t> Saved: 3_overSample_randPop_glass1_calculate_overall_error_calculate_num_examples\n",
      "\t> Saved: 4_overSample_randPop_glass1_calculate_overall_error_calculate_num_examples\n",
      "\t> Saved: 5_overSample_randPop_glass1_calculate_overall_error_calculate_num_examples\n",
      "\t> Saved: 6_overSample_randPop_glass1_calculate_overall_error_calculate_num_examples\n",
      "\t> Saved: 7_overSample_randPop_glass1_calculate_overall_error_calculate_num_examples\n",
      "\t> Saved: 8_overSample_randPop_glass1_calculate_overall_error_calculate_num_examples\n",
      "\t> Saved: 9_overSample_randPop_glass1_calculate_overall_error_calculate_num_examples\n",
      "\t> Saved: 10_overSample_randPop_glass1_calculate_overall_error_calculate_num_examples\n",
      "\t> Saved: 11_overSample_randPop_glass1_calculate_overall_error_calculate_num_examples\n",
      "\t> Saved: 12_overSample_randPop_glass1_calculate_overall_error_calculate_num_examples\n",
      "\t> Saved: 13_overSample_randPop_glass1_calculate_overall_error_calculate_num_examples\n",
      "\t> Saved: 14_overSample_randPop_glass1_calculate_overall_error_calculate_num_examples\n",
      "\t> Saved: 15_overSample_randPop_glass1_calculate_overall_error_calculate_num_examples\n",
      "\t> Saved: 16_overSample_randPop_glass1_calculate_overall_error_calculate_num_examples\n",
      "\t> Saved: 17_overSample_randPop_glass1_calculate_overall_error_calculate_num_examples\n",
      "\t> Saved: 18_overSample_randPop_glass1_calculate_overall_error_calculate_num_examples\n",
      "\t> Saved: 19_overSample_randPop_glass1_calculate_overall_error_calculate_num_examples\n",
      "\t> Saved: 20_overSample_randPop_glass1_calculate_overall_error_calculate_num_examples\n",
      "\t> Saved: 21_overSample_randPop_glass1_calculate_overall_error_calculate_num_examples\n",
      "\t> Saved: 22_overSample_randPop_glass1_calculate_overall_error_calculate_num_examples\n",
      "\t> Saved: 23_overSample_randPop_glass1_calculate_overall_error_calculate_num_examples\n",
      "\t> Saved: 24_overSample_randPop_glass1_calculate_overall_error_calculate_num_examples\n",
      "\t> Saved: 25_overSample_randPop_glass1_calculate_overall_error_calculate_num_examples\n",
      "\t> Saved: 26_overSample_randPop_glass1_calculate_overall_error_calculate_num_examples\n",
      "\t> Saved: 27_overSample_randPop_glass1_calculate_overall_error_calculate_num_examples\n",
      "\t> Saved: 28_overSample_randPop_glass1_calculate_overall_error_calculate_num_examples\n",
      "\t> Saved: 29_overSample_randPop_glass1_calculate_overall_error_calculate_num_examples\n",
      "\t> Saved: 30_overSample_randPop_glass1_calculate_overall_error_calculate_num_examples\n",
      "\n",
      "Created 31 packages\n",
      "\t- Finished 31 optimizations\n",
      "\t> Saved: 0_regularSample_randPop_glass1_calculate_overall_error_calculate_num_examples\n",
      "\t> Saved: 1_regularSample_randPop_glass1_calculate_overall_error_calculate_num_examples\n",
      "\t> Saved: 2_regularSample_randPop_glass1_calculate_overall_error_calculate_num_examples\n",
      "\t> Saved: 3_regularSample_randPop_glass1_calculate_overall_error_calculate_num_examples\n",
      "\t> Saved: 4_regularSample_randPop_glass1_calculate_overall_error_calculate_num_examples\n",
      "\t> Saved: 5_regularSample_randPop_glass1_calculate_overall_error_calculate_num_examples\n",
      "\t> Saved: 6_regularSample_randPop_glass1_calculate_overall_error_calculate_num_examples\n",
      "\t> Saved: 7_regularSample_randPop_glass1_calculate_overall_error_calculate_num_examples\n",
      "\t> Saved: 8_regularSample_randPop_glass1_calculate_overall_error_calculate_num_examples\n",
      "\t> Saved: 9_regularSample_randPop_glass1_calculate_overall_error_calculate_num_examples\n",
      "\t> Saved: 10_regularSample_randPop_glass1_calculate_overall_error_calculate_num_examples\n",
      "\t> Saved: 11_regularSample_randPop_glass1_calculate_overall_error_calculate_num_examples\n",
      "\t> Saved: 12_regularSample_randPop_glass1_calculate_overall_error_calculate_num_examples\n",
      "\t> Saved: 13_regularSample_randPop_glass1_calculate_overall_error_calculate_num_examples\n",
      "\t> Saved: 14_regularSample_randPop_glass1_calculate_overall_error_calculate_num_examples\n",
      "\t> Saved: 15_regularSample_randPop_glass1_calculate_overall_error_calculate_num_examples\n",
      "\t> Saved: 16_regularSample_randPop_glass1_calculate_overall_error_calculate_num_examples\n",
      "\t> Saved: 17_regularSample_randPop_glass1_calculate_overall_error_calculate_num_examples\n",
      "\t> Saved: 18_regularSample_randPop_glass1_calculate_overall_error_calculate_num_examples\n",
      "\t> Saved: 19_regularSample_randPop_glass1_calculate_overall_error_calculate_num_examples\n",
      "\t> Saved: 20_regularSample_randPop_glass1_calculate_overall_error_calculate_num_examples\n",
      "\t> Saved: 21_regularSample_randPop_glass1_calculate_overall_error_calculate_num_examples\n",
      "\t> Saved: 22_regularSample_randPop_glass1_calculate_overall_error_calculate_num_examples\n",
      "\t> Saved: 23_regularSample_randPop_glass1_calculate_overall_error_calculate_num_examples\n",
      "\t> Saved: 24_regularSample_randPop_glass1_calculate_overall_error_calculate_num_examples\n",
      "\t> Saved: 25_regularSample_randPop_glass1_calculate_overall_error_calculate_num_examples\n",
      "\t> Saved: 26_regularSample_randPop_glass1_calculate_overall_error_calculate_num_examples\n",
      "\t> Saved: 27_regularSample_randPop_glass1_calculate_overall_error_calculate_num_examples\n",
      "\t> Saved: 28_regularSample_randPop_glass1_calculate_overall_error_calculate_num_examples\n",
      "\t> Saved: 29_regularSample_randPop_glass1_calculate_overall_error_calculate_num_examples\n",
      "\t> Saved: 30_regularSample_randPop_glass1_calculate_overall_error_calculate_num_examples\n",
      "\n",
      "Created 31 packages\n",
      "\t- Finished 31 optimizations\n",
      "\t> Saved: 0_overSample_biasPop_glass1_calculate_overall_error_calculate_num_examples\n",
      "\t> Saved: 1_overSample_biasPop_glass1_calculate_overall_error_calculate_num_examples\n",
      "\t> Saved: 2_overSample_biasPop_glass1_calculate_overall_error_calculate_num_examples\n",
      "\t> Saved: 3_overSample_biasPop_glass1_calculate_overall_error_calculate_num_examples\n",
      "\t> Saved: 4_overSample_biasPop_glass1_calculate_overall_error_calculate_num_examples\n",
      "\t> Saved: 5_overSample_biasPop_glass1_calculate_overall_error_calculate_num_examples\n",
      "\t> Saved: 6_overSample_biasPop_glass1_calculate_overall_error_calculate_num_examples\n",
      "\t> Saved: 7_overSample_biasPop_glass1_calculate_overall_error_calculate_num_examples\n",
      "\t> Saved: 8_overSample_biasPop_glass1_calculate_overall_error_calculate_num_examples\n",
      "\t> Saved: 9_overSample_biasPop_glass1_calculate_overall_error_calculate_num_examples\n",
      "\t> Saved: 10_overSample_biasPop_glass1_calculate_overall_error_calculate_num_examples\n",
      "\t> Saved: 11_overSample_biasPop_glass1_calculate_overall_error_calculate_num_examples\n",
      "\t> Saved: 12_overSample_biasPop_glass1_calculate_overall_error_calculate_num_examples\n",
      "\t> Saved: 13_overSample_biasPop_glass1_calculate_overall_error_calculate_num_examples\n",
      "\t> Saved: 14_overSample_biasPop_glass1_calculate_overall_error_calculate_num_examples\n",
      "\t> Saved: 15_overSample_biasPop_glass1_calculate_overall_error_calculate_num_examples\n",
      "\t> Saved: 16_overSample_biasPop_glass1_calculate_overall_error_calculate_num_examples\n",
      "\t> Saved: 17_overSample_biasPop_glass1_calculate_overall_error_calculate_num_examples\n",
      "\t> Saved: 18_overSample_biasPop_glass1_calculate_overall_error_calculate_num_examples\n",
      "\t> Saved: 19_overSample_biasPop_glass1_calculate_overall_error_calculate_num_examples\n",
      "\t> Saved: 20_overSample_biasPop_glass1_calculate_overall_error_calculate_num_examples\n",
      "\t> Saved: 21_overSample_biasPop_glass1_calculate_overall_error_calculate_num_examples\n",
      "\t> Saved: 22_overSample_biasPop_glass1_calculate_overall_error_calculate_num_examples\n",
      "\t> Saved: 23_overSample_biasPop_glass1_calculate_overall_error_calculate_num_examples\n",
      "\t> Saved: 24_overSample_biasPop_glass1_calculate_overall_error_calculate_num_examples\n",
      "\t> Saved: 25_overSample_biasPop_glass1_calculate_overall_error_calculate_num_examples\n",
      "\t> Saved: 26_overSample_biasPop_glass1_calculate_overall_error_calculate_num_examples\n",
      "\t> Saved: 27_overSample_biasPop_glass1_calculate_overall_error_calculate_num_examples\n",
      "\t> Saved: 28_overSample_biasPop_glass1_calculate_overall_error_calculate_num_examples\n",
      "\t> Saved: 29_overSample_biasPop_glass1_calculate_overall_error_calculate_num_examples\n",
      "\t> Saved: 30_overSample_biasPop_glass1_calculate_overall_error_calculate_num_examples\n",
      "\n",
      "Created 31 packages\n",
      "\t- Finished 31 optimizations\n",
      "\t> Saved: 0_regularSample_biasPop_glass1_calculate_overall_error_calculate_num_examples\n",
      "\t> Saved: 1_regularSample_biasPop_glass1_calculate_overall_error_calculate_num_examples\n",
      "\t> Saved: 2_regularSample_biasPop_glass1_calculate_overall_error_calculate_num_examples\n",
      "\t> Saved: 3_regularSample_biasPop_glass1_calculate_overall_error_calculate_num_examples\n",
      "\t> Saved: 4_regularSample_biasPop_glass1_calculate_overall_error_calculate_num_examples\n",
      "\t> Saved: 5_regularSample_biasPop_glass1_calculate_overall_error_calculate_num_examples\n",
      "\t> Saved: 6_regularSample_biasPop_glass1_calculate_overall_error_calculate_num_examples\n",
      "\t> Saved: 7_regularSample_biasPop_glass1_calculate_overall_error_calculate_num_examples\n",
      "\t> Saved: 8_regularSample_biasPop_glass1_calculate_overall_error_calculate_num_examples\n",
      "\t> Saved: 9_regularSample_biasPop_glass1_calculate_overall_error_calculate_num_examples\n",
      "\t> Saved: 10_regularSample_biasPop_glass1_calculate_overall_error_calculate_num_examples\n",
      "\t> Saved: 11_regularSample_biasPop_glass1_calculate_overall_error_calculate_num_examples\n",
      "\t> Saved: 12_regularSample_biasPop_glass1_calculate_overall_error_calculate_num_examples\n",
      "\t> Saved: 13_regularSample_biasPop_glass1_calculate_overall_error_calculate_num_examples\n",
      "\t> Saved: 14_regularSample_biasPop_glass1_calculate_overall_error_calculate_num_examples\n",
      "\t> Saved: 15_regularSample_biasPop_glass1_calculate_overall_error_calculate_num_examples\n",
      "\t> Saved: 16_regularSample_biasPop_glass1_calculate_overall_error_calculate_num_examples\n",
      "\t> Saved: 17_regularSample_biasPop_glass1_calculate_overall_error_calculate_num_examples\n",
      "\t> Saved: 18_regularSample_biasPop_glass1_calculate_overall_error_calculate_num_examples\n",
      "\t> Saved: 19_regularSample_biasPop_glass1_calculate_overall_error_calculate_num_examples\n",
      "\t> Saved: 20_regularSample_biasPop_glass1_calculate_overall_error_calculate_num_examples\n",
      "\t> Saved: 21_regularSample_biasPop_glass1_calculate_overall_error_calculate_num_examples\n",
      "\t> Saved: 22_regularSample_biasPop_glass1_calculate_overall_error_calculate_num_examples\n",
      "\t> Saved: 23_regularSample_biasPop_glass1_calculate_overall_error_calculate_num_examples\n",
      "\t> Saved: 24_regularSample_biasPop_glass1_calculate_overall_error_calculate_num_examples\n",
      "\t> Saved: 25_regularSample_biasPop_glass1_calculate_overall_error_calculate_num_examples\n",
      "\t> Saved: 26_regularSample_biasPop_glass1_calculate_overall_error_calculate_num_examples\n",
      "\t> Saved: 27_regularSample_biasPop_glass1_calculate_overall_error_calculate_num_examples\n",
      "\t> Saved: 28_regularSample_biasPop_glass1_calculate_overall_error_calculate_num_examples\n",
      "\t> Saved: 29_regularSample_biasPop_glass1_calculate_overall_error_calculate_num_examples\n",
      "\t> Saved: 30_regularSample_biasPop_glass1_calculate_overall_error_calculate_num_examples\n",
      "\n",
      "Created 31 packages\n",
      "\t- Finished 31 optimizations\n",
      "\t> Saved: 0_overSample_randPop_pima_calculate_overall_error_calculate_num_examples\n",
      "\t> Saved: 1_overSample_randPop_pima_calculate_overall_error_calculate_num_examples\n",
      "\t> Saved: 2_overSample_randPop_pima_calculate_overall_error_calculate_num_examples\n",
      "\t> Saved: 3_overSample_randPop_pima_calculate_overall_error_calculate_num_examples\n",
      "\t> Saved: 4_overSample_randPop_pima_calculate_overall_error_calculate_num_examples\n",
      "\t> Saved: 5_overSample_randPop_pima_calculate_overall_error_calculate_num_examples\n",
      "\t> Saved: 6_overSample_randPop_pima_calculate_overall_error_calculate_num_examples\n",
      "\t> Saved: 7_overSample_randPop_pima_calculate_overall_error_calculate_num_examples\n",
      "\t> Saved: 8_overSample_randPop_pima_calculate_overall_error_calculate_num_examples\n",
      "\t> Saved: 9_overSample_randPop_pima_calculate_overall_error_calculate_num_examples\n",
      "\t> Saved: 10_overSample_randPop_pima_calculate_overall_error_calculate_num_examples\n",
      "\t> Saved: 11_overSample_randPop_pima_calculate_overall_error_calculate_num_examples\n",
      "\t> Saved: 12_overSample_randPop_pima_calculate_overall_error_calculate_num_examples\n",
      "\t> Saved: 13_overSample_randPop_pima_calculate_overall_error_calculate_num_examples\n",
      "\t> Saved: 14_overSample_randPop_pima_calculate_overall_error_calculate_num_examples\n",
      "\t> Saved: 15_overSample_randPop_pima_calculate_overall_error_calculate_num_examples\n",
      "\t> Saved: 16_overSample_randPop_pima_calculate_overall_error_calculate_num_examples\n",
      "\t> Saved: 17_overSample_randPop_pima_calculate_overall_error_calculate_num_examples\n",
      "\t> Saved: 18_overSample_randPop_pima_calculate_overall_error_calculate_num_examples\n",
      "\t> Saved: 19_overSample_randPop_pima_calculate_overall_error_calculate_num_examples\n",
      "\t> Saved: 20_overSample_randPop_pima_calculate_overall_error_calculate_num_examples\n",
      "\t> Saved: 21_overSample_randPop_pima_calculate_overall_error_calculate_num_examples\n",
      "\t> Saved: 22_overSample_randPop_pima_calculate_overall_error_calculate_num_examples\n",
      "\t> Saved: 23_overSample_randPop_pima_calculate_overall_error_calculate_num_examples\n",
      "\t> Saved: 24_overSample_randPop_pima_calculate_overall_error_calculate_num_examples\n",
      "\t> Saved: 25_overSample_randPop_pima_calculate_overall_error_calculate_num_examples\n",
      "\t> Saved: 26_overSample_randPop_pima_calculate_overall_error_calculate_num_examples\n",
      "\t> Saved: 27_overSample_randPop_pima_calculate_overall_error_calculate_num_examples\n",
      "\t> Saved: 28_overSample_randPop_pima_calculate_overall_error_calculate_num_examples\n",
      "\t> Saved: 29_overSample_randPop_pima_calculate_overall_error_calculate_num_examples\n",
      "\t> Saved: 30_overSample_randPop_pima_calculate_overall_error_calculate_num_examples\n",
      "\n",
      "Created 31 packages\n",
      "\t- Finished 31 optimizations\n",
      "\t> Saved: 0_regularSample_randPop_pima_calculate_overall_error_calculate_num_examples\n",
      "\t> Saved: 1_regularSample_randPop_pima_calculate_overall_error_calculate_num_examples\n",
      "\t> Saved: 2_regularSample_randPop_pima_calculate_overall_error_calculate_num_examples\n",
      "\t> Saved: 3_regularSample_randPop_pima_calculate_overall_error_calculate_num_examples\n",
      "\t> Saved: 4_regularSample_randPop_pima_calculate_overall_error_calculate_num_examples\n",
      "\t> Saved: 5_regularSample_randPop_pima_calculate_overall_error_calculate_num_examples\n",
      "\t> Saved: 6_regularSample_randPop_pima_calculate_overall_error_calculate_num_examples\n",
      "\t> Saved: 7_regularSample_randPop_pima_calculate_overall_error_calculate_num_examples\n",
      "\t> Saved: 8_regularSample_randPop_pima_calculate_overall_error_calculate_num_examples\n",
      "\t> Saved: 9_regularSample_randPop_pima_calculate_overall_error_calculate_num_examples\n",
      "\t> Saved: 10_regularSample_randPop_pima_calculate_overall_error_calculate_num_examples\n",
      "\t> Saved: 11_regularSample_randPop_pima_calculate_overall_error_calculate_num_examples\n",
      "\t> Saved: 12_regularSample_randPop_pima_calculate_overall_error_calculate_num_examples\n",
      "\t> Saved: 13_regularSample_randPop_pima_calculate_overall_error_calculate_num_examples\n",
      "\t> Saved: 14_regularSample_randPop_pima_calculate_overall_error_calculate_num_examples\n",
      "\t> Saved: 15_regularSample_randPop_pima_calculate_overall_error_calculate_num_examples\n",
      "\t> Saved: 16_regularSample_randPop_pima_calculate_overall_error_calculate_num_examples\n",
      "\t> Saved: 17_regularSample_randPop_pima_calculate_overall_error_calculate_num_examples\n",
      "\t> Saved: 18_regularSample_randPop_pima_calculate_overall_error_calculate_num_examples\n",
      "\t> Saved: 19_regularSample_randPop_pima_calculate_overall_error_calculate_num_examples\n",
      "\t> Saved: 20_regularSample_randPop_pima_calculate_overall_error_calculate_num_examples\n",
      "\t> Saved: 21_regularSample_randPop_pima_calculate_overall_error_calculate_num_examples\n",
      "\t> Saved: 22_regularSample_randPop_pima_calculate_overall_error_calculate_num_examples\n",
      "\t> Saved: 23_regularSample_randPop_pima_calculate_overall_error_calculate_num_examples\n",
      "\t> Saved: 24_regularSample_randPop_pima_calculate_overall_error_calculate_num_examples\n",
      "\t> Saved: 25_regularSample_randPop_pima_calculate_overall_error_calculate_num_examples\n",
      "\t> Saved: 26_regularSample_randPop_pima_calculate_overall_error_calculate_num_examples\n",
      "\t> Saved: 27_regularSample_randPop_pima_calculate_overall_error_calculate_num_examples\n",
      "\t> Saved: 28_regularSample_randPop_pima_calculate_overall_error_calculate_num_examples\n",
      "\t> Saved: 29_regularSample_randPop_pima_calculate_overall_error_calculate_num_examples\n",
      "\t> Saved: 30_regularSample_randPop_pima_calculate_overall_error_calculate_num_examples\n",
      "\n",
      "Created 31 packages\n",
      "\t- Finished 31 optimizations\n",
      "\t> Saved: 0_overSample_biasPop_pima_calculate_overall_error_calculate_num_examples\n",
      "\t> Saved: 1_overSample_biasPop_pima_calculate_overall_error_calculate_num_examples\n",
      "\t> Saved: 2_overSample_biasPop_pima_calculate_overall_error_calculate_num_examples\n",
      "\t> Saved: 3_overSample_biasPop_pima_calculate_overall_error_calculate_num_examples\n",
      "\t> Saved: 4_overSample_biasPop_pima_calculate_overall_error_calculate_num_examples\n",
      "\t> Saved: 5_overSample_biasPop_pima_calculate_overall_error_calculate_num_examples\n",
      "\t> Saved: 6_overSample_biasPop_pima_calculate_overall_error_calculate_num_examples\n",
      "\t> Saved: 7_overSample_biasPop_pima_calculate_overall_error_calculate_num_examples\n",
      "\t> Saved: 8_overSample_biasPop_pima_calculate_overall_error_calculate_num_examples\n",
      "\t> Saved: 9_overSample_biasPop_pima_calculate_overall_error_calculate_num_examples\n",
      "\t> Saved: 10_overSample_biasPop_pima_calculate_overall_error_calculate_num_examples\n",
      "\t> Saved: 11_overSample_biasPop_pima_calculate_overall_error_calculate_num_examples\n",
      "\t> Saved: 12_overSample_biasPop_pima_calculate_overall_error_calculate_num_examples\n",
      "\t> Saved: 13_overSample_biasPop_pima_calculate_overall_error_calculate_num_examples\n",
      "\t> Saved: 14_overSample_biasPop_pima_calculate_overall_error_calculate_num_examples\n",
      "\t> Saved: 15_overSample_biasPop_pima_calculate_overall_error_calculate_num_examples\n",
      "\t> Saved: 16_overSample_biasPop_pima_calculate_overall_error_calculate_num_examples\n",
      "\t> Saved: 17_overSample_biasPop_pima_calculate_overall_error_calculate_num_examples\n",
      "\t> Saved: 18_overSample_biasPop_pima_calculate_overall_error_calculate_num_examples\n",
      "\t> Saved: 19_overSample_biasPop_pima_calculate_overall_error_calculate_num_examples\n",
      "\t> Saved: 20_overSample_biasPop_pima_calculate_overall_error_calculate_num_examples\n",
      "\t> Saved: 21_overSample_biasPop_pima_calculate_overall_error_calculate_num_examples\n",
      "\t> Saved: 22_overSample_biasPop_pima_calculate_overall_error_calculate_num_examples\n",
      "\t> Saved: 23_overSample_biasPop_pima_calculate_overall_error_calculate_num_examples\n",
      "\t> Saved: 24_overSample_biasPop_pima_calculate_overall_error_calculate_num_examples\n",
      "\t> Saved: 25_overSample_biasPop_pima_calculate_overall_error_calculate_num_examples\n",
      "\t> Saved: 26_overSample_biasPop_pima_calculate_overall_error_calculate_num_examples\n",
      "\t> Saved: 27_overSample_biasPop_pima_calculate_overall_error_calculate_num_examples\n",
      "\t> Saved: 28_overSample_biasPop_pima_calculate_overall_error_calculate_num_examples\n",
      "\t> Saved: 29_overSample_biasPop_pima_calculate_overall_error_calculate_num_examples\n",
      "\t> Saved: 30_overSample_biasPop_pima_calculate_overall_error_calculate_num_examples\n",
      "\n",
      "Created 31 packages\n",
      "\t- Finished 31 optimizations\n",
      "\t> Saved: 0_regularSample_biasPop_pima_calculate_overall_error_calculate_num_examples\n",
      "\t> Saved: 1_regularSample_biasPop_pima_calculate_overall_error_calculate_num_examples\n",
      "\t> Saved: 2_regularSample_biasPop_pima_calculate_overall_error_calculate_num_examples\n",
      "\t> Saved: 3_regularSample_biasPop_pima_calculate_overall_error_calculate_num_examples\n",
      "\t> Saved: 4_regularSample_biasPop_pima_calculate_overall_error_calculate_num_examples\n",
      "\t> Saved: 5_regularSample_biasPop_pima_calculate_overall_error_calculate_num_examples\n",
      "\t> Saved: 6_regularSample_biasPop_pima_calculate_overall_error_calculate_num_examples\n",
      "\t> Saved: 7_regularSample_biasPop_pima_calculate_overall_error_calculate_num_examples\n",
      "\t> Saved: 8_regularSample_biasPop_pima_calculate_overall_error_calculate_num_examples\n",
      "\t> Saved: 9_regularSample_biasPop_pima_calculate_overall_error_calculate_num_examples\n",
      "\t> Saved: 10_regularSample_biasPop_pima_calculate_overall_error_calculate_num_examples\n",
      "\t> Saved: 11_regularSample_biasPop_pima_calculate_overall_error_calculate_num_examples\n",
      "\t> Saved: 12_regularSample_biasPop_pima_calculate_overall_error_calculate_num_examples\n",
      "\t> Saved: 13_regularSample_biasPop_pima_calculate_overall_error_calculate_num_examples\n",
      "\t> Saved: 14_regularSample_biasPop_pima_calculate_overall_error_calculate_num_examples\n",
      "\t> Saved: 15_regularSample_biasPop_pima_calculate_overall_error_calculate_num_examples\n",
      "\t> Saved: 16_regularSample_biasPop_pima_calculate_overall_error_calculate_num_examples\n",
      "\t> Saved: 17_regularSample_biasPop_pima_calculate_overall_error_calculate_num_examples\n",
      "\t> Saved: 18_regularSample_biasPop_pima_calculate_overall_error_calculate_num_examples\n",
      "\t> Saved: 19_regularSample_biasPop_pima_calculate_overall_error_calculate_num_examples\n",
      "\t> Saved: 20_regularSample_biasPop_pima_calculate_overall_error_calculate_num_examples\n",
      "\t> Saved: 21_regularSample_biasPop_pima_calculate_overall_error_calculate_num_examples\n",
      "\t> Saved: 22_regularSample_biasPop_pima_calculate_overall_error_calculate_num_examples\n",
      "\t> Saved: 23_regularSample_biasPop_pima_calculate_overall_error_calculate_num_examples\n",
      "\t> Saved: 24_regularSample_biasPop_pima_calculate_overall_error_calculate_num_examples\n",
      "\t> Saved: 25_regularSample_biasPop_pima_calculate_overall_error_calculate_num_examples\n",
      "\t> Saved: 26_regularSample_biasPop_pima_calculate_overall_error_calculate_num_examples\n",
      "\t> Saved: 27_regularSample_biasPop_pima_calculate_overall_error_calculate_num_examples\n",
      "\t> Saved: 28_regularSample_biasPop_pima_calculate_overall_error_calculate_num_examples\n",
      "\t> Saved: 29_regularSample_biasPop_pima_calculate_overall_error_calculate_num_examples\n",
      "\t> Saved: 30_regularSample_biasPop_pima_calculate_overall_error_calculate_num_examples\n",
      "\n",
      "Created 31 packages\n",
      "\t- Finished 31 optimizations\n",
      "\t> Saved: 0_overSample_randPop_segment0_calculate_overall_error_calculate_num_examples\n",
      "\t> Saved: 1_overSample_randPop_segment0_calculate_overall_error_calculate_num_examples\n",
      "\t> Saved: 2_overSample_randPop_segment0_calculate_overall_error_calculate_num_examples\n",
      "\t> Saved: 3_overSample_randPop_segment0_calculate_overall_error_calculate_num_examples\n",
      "\t> Saved: 4_overSample_randPop_segment0_calculate_overall_error_calculate_num_examples\n",
      "\t> Saved: 5_overSample_randPop_segment0_calculate_overall_error_calculate_num_examples\n",
      "\t> Saved: 6_overSample_randPop_segment0_calculate_overall_error_calculate_num_examples\n",
      "\t> Saved: 7_overSample_randPop_segment0_calculate_overall_error_calculate_num_examples\n",
      "\t> Saved: 8_overSample_randPop_segment0_calculate_overall_error_calculate_num_examples\n",
      "\t> Saved: 9_overSample_randPop_segment0_calculate_overall_error_calculate_num_examples\n",
      "\t> Saved: 10_overSample_randPop_segment0_calculate_overall_error_calculate_num_examples\n",
      "\t> Saved: 11_overSample_randPop_segment0_calculate_overall_error_calculate_num_examples\n",
      "\t> Saved: 12_overSample_randPop_segment0_calculate_overall_error_calculate_num_examples\n",
      "\t> Saved: 13_overSample_randPop_segment0_calculate_overall_error_calculate_num_examples\n",
      "\t> Saved: 14_overSample_randPop_segment0_calculate_overall_error_calculate_num_examples\n",
      "\t> Saved: 15_overSample_randPop_segment0_calculate_overall_error_calculate_num_examples\n",
      "\t> Saved: 16_overSample_randPop_segment0_calculate_overall_error_calculate_num_examples\n",
      "\t> Saved: 17_overSample_randPop_segment0_calculate_overall_error_calculate_num_examples\n",
      "\t> Saved: 18_overSample_randPop_segment0_calculate_overall_error_calculate_num_examples\n",
      "\t> Saved: 19_overSample_randPop_segment0_calculate_overall_error_calculate_num_examples\n",
      "\t> Saved: 20_overSample_randPop_segment0_calculate_overall_error_calculate_num_examples\n",
      "\t> Saved: 21_overSample_randPop_segment0_calculate_overall_error_calculate_num_examples\n",
      "\t> Saved: 22_overSample_randPop_segment0_calculate_overall_error_calculate_num_examples\n",
      "\t> Saved: 23_overSample_randPop_segment0_calculate_overall_error_calculate_num_examples\n",
      "\t> Saved: 24_overSample_randPop_segment0_calculate_overall_error_calculate_num_examples\n",
      "\t> Saved: 25_overSample_randPop_segment0_calculate_overall_error_calculate_num_examples\n",
      "\t> Saved: 26_overSample_randPop_segment0_calculate_overall_error_calculate_num_examples\n",
      "\t> Saved: 27_overSample_randPop_segment0_calculate_overall_error_calculate_num_examples\n",
      "\t> Saved: 28_overSample_randPop_segment0_calculate_overall_error_calculate_num_examples\n",
      "\t> Saved: 29_overSample_randPop_segment0_calculate_overall_error_calculate_num_examples\n",
      "\t> Saved: 30_overSample_randPop_segment0_calculate_overall_error_calculate_num_examples\n",
      "\n",
      "Created 31 packages\n",
      "\t- Finished 31 optimizations\n",
      "\t> Saved: 0_regularSample_randPop_segment0_calculate_overall_error_calculate_num_examples\n",
      "\t> Saved: 1_regularSample_randPop_segment0_calculate_overall_error_calculate_num_examples\n",
      "\t> Saved: 2_regularSample_randPop_segment0_calculate_overall_error_calculate_num_examples\n",
      "\t> Saved: 3_regularSample_randPop_segment0_calculate_overall_error_calculate_num_examples\n",
      "\t> Saved: 4_regularSample_randPop_segment0_calculate_overall_error_calculate_num_examples\n",
      "\t> Saved: 5_regularSample_randPop_segment0_calculate_overall_error_calculate_num_examples\n",
      "\t> Saved: 6_regularSample_randPop_segment0_calculate_overall_error_calculate_num_examples\n",
      "\t> Saved: 7_regularSample_randPop_segment0_calculate_overall_error_calculate_num_examples\n",
      "\t> Saved: 8_regularSample_randPop_segment0_calculate_overall_error_calculate_num_examples\n",
      "\t> Saved: 9_regularSample_randPop_segment0_calculate_overall_error_calculate_num_examples\n",
      "\t> Saved: 10_regularSample_randPop_segment0_calculate_overall_error_calculate_num_examples\n",
      "\t> Saved: 11_regularSample_randPop_segment0_calculate_overall_error_calculate_num_examples\n",
      "\t> Saved: 12_regularSample_randPop_segment0_calculate_overall_error_calculate_num_examples\n",
      "\t> Saved: 13_regularSample_randPop_segment0_calculate_overall_error_calculate_num_examples\n",
      "\t> Saved: 14_regularSample_randPop_segment0_calculate_overall_error_calculate_num_examples\n",
      "\t> Saved: 15_regularSample_randPop_segment0_calculate_overall_error_calculate_num_examples\n",
      "\t> Saved: 16_regularSample_randPop_segment0_calculate_overall_error_calculate_num_examples\n",
      "\t> Saved: 17_regularSample_randPop_segment0_calculate_overall_error_calculate_num_examples\n",
      "\t> Saved: 18_regularSample_randPop_segment0_calculate_overall_error_calculate_num_examples\n",
      "\t> Saved: 19_regularSample_randPop_segment0_calculate_overall_error_calculate_num_examples\n",
      "\t> Saved: 20_regularSample_randPop_segment0_calculate_overall_error_calculate_num_examples\n",
      "\t> Saved: 21_regularSample_randPop_segment0_calculate_overall_error_calculate_num_examples\n",
      "\t> Saved: 22_regularSample_randPop_segment0_calculate_overall_error_calculate_num_examples\n",
      "\t> Saved: 23_regularSample_randPop_segment0_calculate_overall_error_calculate_num_examples\n",
      "\t> Saved: 24_regularSample_randPop_segment0_calculate_overall_error_calculate_num_examples\n",
      "\t> Saved: 25_regularSample_randPop_segment0_calculate_overall_error_calculate_num_examples\n",
      "\t> Saved: 26_regularSample_randPop_segment0_calculate_overall_error_calculate_num_examples\n",
      "\t> Saved: 27_regularSample_randPop_segment0_calculate_overall_error_calculate_num_examples\n",
      "\t> Saved: 28_regularSample_randPop_segment0_calculate_overall_error_calculate_num_examples\n",
      "\t> Saved: 29_regularSample_randPop_segment0_calculate_overall_error_calculate_num_examples\n",
      "\t> Saved: 30_regularSample_randPop_segment0_calculate_overall_error_calculate_num_examples\n",
      "\n",
      "Created 31 packages\n",
      "\t- Finished 31 optimizations\n",
      "\t> Saved: 0_overSample_biasPop_segment0_calculate_overall_error_calculate_num_examples\n",
      "\t> Saved: 1_overSample_biasPop_segment0_calculate_overall_error_calculate_num_examples\n",
      "\t> Saved: 2_overSample_biasPop_segment0_calculate_overall_error_calculate_num_examples\n",
      "\t> Saved: 3_overSample_biasPop_segment0_calculate_overall_error_calculate_num_examples\n",
      "\t> Saved: 4_overSample_biasPop_segment0_calculate_overall_error_calculate_num_examples\n",
      "\t> Saved: 5_overSample_biasPop_segment0_calculate_overall_error_calculate_num_examples\n",
      "\t> Saved: 6_overSample_biasPop_segment0_calculate_overall_error_calculate_num_examples\n",
      "\t> Saved: 7_overSample_biasPop_segment0_calculate_overall_error_calculate_num_examples\n",
      "\t> Saved: 8_overSample_biasPop_segment0_calculate_overall_error_calculate_num_examples\n",
      "\t> Saved: 9_overSample_biasPop_segment0_calculate_overall_error_calculate_num_examples\n",
      "\t> Saved: 10_overSample_biasPop_segment0_calculate_overall_error_calculate_num_examples\n",
      "\t> Saved: 11_overSample_biasPop_segment0_calculate_overall_error_calculate_num_examples\n",
      "\t> Saved: 12_overSample_biasPop_segment0_calculate_overall_error_calculate_num_examples\n",
      "\t> Saved: 13_overSample_biasPop_segment0_calculate_overall_error_calculate_num_examples\n",
      "\t> Saved: 14_overSample_biasPop_segment0_calculate_overall_error_calculate_num_examples\n",
      "\t> Saved: 15_overSample_biasPop_segment0_calculate_overall_error_calculate_num_examples\n",
      "\t> Saved: 16_overSample_biasPop_segment0_calculate_overall_error_calculate_num_examples\n",
      "\t> Saved: 17_overSample_biasPop_segment0_calculate_overall_error_calculate_num_examples\n",
      "\t> Saved: 18_overSample_biasPop_segment0_calculate_overall_error_calculate_num_examples\n",
      "\t> Saved: 19_overSample_biasPop_segment0_calculate_overall_error_calculate_num_examples\n",
      "\t> Saved: 20_overSample_biasPop_segment0_calculate_overall_error_calculate_num_examples\n",
      "\t> Saved: 21_overSample_biasPop_segment0_calculate_overall_error_calculate_num_examples\n",
      "\t> Saved: 22_overSample_biasPop_segment0_calculate_overall_error_calculate_num_examples\n",
      "\t> Saved: 23_overSample_biasPop_segment0_calculate_overall_error_calculate_num_examples\n",
      "\t> Saved: 24_overSample_biasPop_segment0_calculate_overall_error_calculate_num_examples\n",
      "\t> Saved: 25_overSample_biasPop_segment0_calculate_overall_error_calculate_num_examples\n",
      "\t> Saved: 26_overSample_biasPop_segment0_calculate_overall_error_calculate_num_examples\n",
      "\t> Saved: 27_overSample_biasPop_segment0_calculate_overall_error_calculate_num_examples\n",
      "\t> Saved: 28_overSample_biasPop_segment0_calculate_overall_error_calculate_num_examples\n",
      "\t> Saved: 29_overSample_biasPop_segment0_calculate_overall_error_calculate_num_examples\n",
      "\t> Saved: 30_overSample_biasPop_segment0_calculate_overall_error_calculate_num_examples\n",
      "\n",
      "Created 31 packages\n",
      "\t- Finished 31 optimizations\n",
      "\t> Saved: 0_regularSample_biasPop_segment0_calculate_overall_error_calculate_num_examples\n",
      "\t> Saved: 1_regularSample_biasPop_segment0_calculate_overall_error_calculate_num_examples\n",
      "\t> Saved: 2_regularSample_biasPop_segment0_calculate_overall_error_calculate_num_examples\n",
      "\t> Saved: 3_regularSample_biasPop_segment0_calculate_overall_error_calculate_num_examples\n",
      "\t> Saved: 4_regularSample_biasPop_segment0_calculate_overall_error_calculate_num_examples\n",
      "\t> Saved: 5_regularSample_biasPop_segment0_calculate_overall_error_calculate_num_examples\n",
      "\t> Saved: 6_regularSample_biasPop_segment0_calculate_overall_error_calculate_num_examples\n",
      "\t> Saved: 7_regularSample_biasPop_segment0_calculate_overall_error_calculate_num_examples\n",
      "\t> Saved: 8_regularSample_biasPop_segment0_calculate_overall_error_calculate_num_examples\n",
      "\t> Saved: 9_regularSample_biasPop_segment0_calculate_overall_error_calculate_num_examples\n",
      "\t> Saved: 10_regularSample_biasPop_segment0_calculate_overall_error_calculate_num_examples\n",
      "\t> Saved: 11_regularSample_biasPop_segment0_calculate_overall_error_calculate_num_examples\n",
      "\t> Saved: 12_regularSample_biasPop_segment0_calculate_overall_error_calculate_num_examples\n",
      "\t> Saved: 13_regularSample_biasPop_segment0_calculate_overall_error_calculate_num_examples\n",
      "\t> Saved: 14_regularSample_biasPop_segment0_calculate_overall_error_calculate_num_examples\n",
      "\t> Saved: 15_regularSample_biasPop_segment0_calculate_overall_error_calculate_num_examples\n",
      "\t> Saved: 16_regularSample_biasPop_segment0_calculate_overall_error_calculate_num_examples\n",
      "\t> Saved: 17_regularSample_biasPop_segment0_calculate_overall_error_calculate_num_examples\n",
      "\t> Saved: 18_regularSample_biasPop_segment0_calculate_overall_error_calculate_num_examples\n",
      "\t> Saved: 19_regularSample_biasPop_segment0_calculate_overall_error_calculate_num_examples\n",
      "\t> Saved: 20_regularSample_biasPop_segment0_calculate_overall_error_calculate_num_examples\n",
      "\t> Saved: 21_regularSample_biasPop_segment0_calculate_overall_error_calculate_num_examples\n",
      "\t> Saved: 22_regularSample_biasPop_segment0_calculate_overall_error_calculate_num_examples\n",
      "\t> Saved: 23_regularSample_biasPop_segment0_calculate_overall_error_calculate_num_examples\n",
      "\t> Saved: 24_regularSample_biasPop_segment0_calculate_overall_error_calculate_num_examples\n",
      "\t> Saved: 25_regularSample_biasPop_segment0_calculate_overall_error_calculate_num_examples\n",
      "\t> Saved: 26_regularSample_biasPop_segment0_calculate_overall_error_calculate_num_examples\n",
      "\t> Saved: 27_regularSample_biasPop_segment0_calculate_overall_error_calculate_num_examples\n",
      "\t> Saved: 28_regularSample_biasPop_segment0_calculate_overall_error_calculate_num_examples\n",
      "\t> Saved: 29_regularSample_biasPop_segment0_calculate_overall_error_calculate_num_examples\n",
      "\t> Saved: 30_regularSample_biasPop_segment0_calculate_overall_error_calculate_num_examples\n",
      "\n",
      "Created 31 packages\n",
      "\t- Finished 31 optimizations\n",
      "\t> Saved: 0_overSample_randPop_sonar_calculate_overall_error_calculate_num_examples\n",
      "\t> Saved: 1_overSample_randPop_sonar_calculate_overall_error_calculate_num_examples\n",
      "\t> Saved: 2_overSample_randPop_sonar_calculate_overall_error_calculate_num_examples\n",
      "\t> Saved: 3_overSample_randPop_sonar_calculate_overall_error_calculate_num_examples\n",
      "\t> Saved: 4_overSample_randPop_sonar_calculate_overall_error_calculate_num_examples\n",
      "\t> Saved: 5_overSample_randPop_sonar_calculate_overall_error_calculate_num_examples\n",
      "\t> Saved: 6_overSample_randPop_sonar_calculate_overall_error_calculate_num_examples\n",
      "\t> Saved: 7_overSample_randPop_sonar_calculate_overall_error_calculate_num_examples\n",
      "\t> Saved: 8_overSample_randPop_sonar_calculate_overall_error_calculate_num_examples\n",
      "\t> Saved: 9_overSample_randPop_sonar_calculate_overall_error_calculate_num_examples\n",
      "\t> Saved: 10_overSample_randPop_sonar_calculate_overall_error_calculate_num_examples\n",
      "\t> Saved: 11_overSample_randPop_sonar_calculate_overall_error_calculate_num_examples\n",
      "\t> Saved: 12_overSample_randPop_sonar_calculate_overall_error_calculate_num_examples\n",
      "\t> Saved: 13_overSample_randPop_sonar_calculate_overall_error_calculate_num_examples\n",
      "\t> Saved: 14_overSample_randPop_sonar_calculate_overall_error_calculate_num_examples\n",
      "\t> Saved: 15_overSample_randPop_sonar_calculate_overall_error_calculate_num_examples\n",
      "\t> Saved: 16_overSample_randPop_sonar_calculate_overall_error_calculate_num_examples\n",
      "\t> Saved: 17_overSample_randPop_sonar_calculate_overall_error_calculate_num_examples\n",
      "\t> Saved: 18_overSample_randPop_sonar_calculate_overall_error_calculate_num_examples\n",
      "\t> Saved: 19_overSample_randPop_sonar_calculate_overall_error_calculate_num_examples\n",
      "\t> Saved: 20_overSample_randPop_sonar_calculate_overall_error_calculate_num_examples\n",
      "\t> Saved: 21_overSample_randPop_sonar_calculate_overall_error_calculate_num_examples\n",
      "\t> Saved: 22_overSample_randPop_sonar_calculate_overall_error_calculate_num_examples\n",
      "\t> Saved: 23_overSample_randPop_sonar_calculate_overall_error_calculate_num_examples\n",
      "\t> Saved: 24_overSample_randPop_sonar_calculate_overall_error_calculate_num_examples\n",
      "\t> Saved: 25_overSample_randPop_sonar_calculate_overall_error_calculate_num_examples\n",
      "\t> Saved: 26_overSample_randPop_sonar_calculate_overall_error_calculate_num_examples\n",
      "\t> Saved: 27_overSample_randPop_sonar_calculate_overall_error_calculate_num_examples\n",
      "\t> Saved: 28_overSample_randPop_sonar_calculate_overall_error_calculate_num_examples\n",
      "\t> Saved: 29_overSample_randPop_sonar_calculate_overall_error_calculate_num_examples\n",
      "\t> Saved: 30_overSample_randPop_sonar_calculate_overall_error_calculate_num_examples\n",
      "\n",
      "Created 31 packages\n",
      "\t- Finished 31 optimizations\n",
      "\t> Saved: 0_regularSample_randPop_sonar_calculate_overall_error_calculate_num_examples\n",
      "\t> Saved: 1_regularSample_randPop_sonar_calculate_overall_error_calculate_num_examples\n",
      "\t> Saved: 2_regularSample_randPop_sonar_calculate_overall_error_calculate_num_examples\n",
      "\t> Saved: 3_regularSample_randPop_sonar_calculate_overall_error_calculate_num_examples\n",
      "\t> Saved: 4_regularSample_randPop_sonar_calculate_overall_error_calculate_num_examples\n",
      "\t> Saved: 5_regularSample_randPop_sonar_calculate_overall_error_calculate_num_examples\n",
      "\t> Saved: 6_regularSample_randPop_sonar_calculate_overall_error_calculate_num_examples\n",
      "\t> Saved: 7_regularSample_randPop_sonar_calculate_overall_error_calculate_num_examples\n",
      "\t> Saved: 8_regularSample_randPop_sonar_calculate_overall_error_calculate_num_examples\n",
      "\t> Saved: 9_regularSample_randPop_sonar_calculate_overall_error_calculate_num_examples\n",
      "\t> Saved: 10_regularSample_randPop_sonar_calculate_overall_error_calculate_num_examples\n",
      "\t> Saved: 11_regularSample_randPop_sonar_calculate_overall_error_calculate_num_examples\n",
      "\t> Saved: 12_regularSample_randPop_sonar_calculate_overall_error_calculate_num_examples\n",
      "\t> Saved: 13_regularSample_randPop_sonar_calculate_overall_error_calculate_num_examples\n",
      "\t> Saved: 14_regularSample_randPop_sonar_calculate_overall_error_calculate_num_examples\n",
      "\t> Saved: 15_regularSample_randPop_sonar_calculate_overall_error_calculate_num_examples\n",
      "\t> Saved: 16_regularSample_randPop_sonar_calculate_overall_error_calculate_num_examples\n",
      "\t> Saved: 17_regularSample_randPop_sonar_calculate_overall_error_calculate_num_examples\n",
      "\t> Saved: 18_regularSample_randPop_sonar_calculate_overall_error_calculate_num_examples\n",
      "\t> Saved: 19_regularSample_randPop_sonar_calculate_overall_error_calculate_num_examples\n",
      "\t> Saved: 20_regularSample_randPop_sonar_calculate_overall_error_calculate_num_examples\n",
      "\t> Saved: 21_regularSample_randPop_sonar_calculate_overall_error_calculate_num_examples\n",
      "\t> Saved: 22_regularSample_randPop_sonar_calculate_overall_error_calculate_num_examples\n",
      "\t> Saved: 23_regularSample_randPop_sonar_calculate_overall_error_calculate_num_examples\n",
      "\t> Saved: 24_regularSample_randPop_sonar_calculate_overall_error_calculate_num_examples\n",
      "\t> Saved: 25_regularSample_randPop_sonar_calculate_overall_error_calculate_num_examples\n",
      "\t> Saved: 26_regularSample_randPop_sonar_calculate_overall_error_calculate_num_examples\n",
      "\t> Saved: 27_regularSample_randPop_sonar_calculate_overall_error_calculate_num_examples\n",
      "\t> Saved: 28_regularSample_randPop_sonar_calculate_overall_error_calculate_num_examples\n",
      "\t> Saved: 29_regularSample_randPop_sonar_calculate_overall_error_calculate_num_examples\n",
      "\t> Saved: 30_regularSample_randPop_sonar_calculate_overall_error_calculate_num_examples\n",
      "\n",
      "Created 31 packages\n",
      "\t- Finished 31 optimizations\n",
      "\t> Saved: 0_overSample_biasPop_sonar_calculate_overall_error_calculate_num_examples\n",
      "\t> Saved: 1_overSample_biasPop_sonar_calculate_overall_error_calculate_num_examples\n",
      "\t> Saved: 2_overSample_biasPop_sonar_calculate_overall_error_calculate_num_examples\n",
      "\t> Saved: 3_overSample_biasPop_sonar_calculate_overall_error_calculate_num_examples\n",
      "\t> Saved: 4_overSample_biasPop_sonar_calculate_overall_error_calculate_num_examples\n",
      "\t> Saved: 5_overSample_biasPop_sonar_calculate_overall_error_calculate_num_examples\n",
      "\t> Saved: 6_overSample_biasPop_sonar_calculate_overall_error_calculate_num_examples\n",
      "\t> Saved: 7_overSample_biasPop_sonar_calculate_overall_error_calculate_num_examples\n",
      "\t> Saved: 8_overSample_biasPop_sonar_calculate_overall_error_calculate_num_examples\n",
      "\t> Saved: 9_overSample_biasPop_sonar_calculate_overall_error_calculate_num_examples\n",
      "\t> Saved: 10_overSample_biasPop_sonar_calculate_overall_error_calculate_num_examples\n",
      "\t> Saved: 11_overSample_biasPop_sonar_calculate_overall_error_calculate_num_examples\n",
      "\t> Saved: 12_overSample_biasPop_sonar_calculate_overall_error_calculate_num_examples\n",
      "\t> Saved: 13_overSample_biasPop_sonar_calculate_overall_error_calculate_num_examples\n",
      "\t> Saved: 14_overSample_biasPop_sonar_calculate_overall_error_calculate_num_examples\n",
      "\t> Saved: 15_overSample_biasPop_sonar_calculate_overall_error_calculate_num_examples\n",
      "\t> Saved: 16_overSample_biasPop_sonar_calculate_overall_error_calculate_num_examples\n",
      "\t> Saved: 17_overSample_biasPop_sonar_calculate_overall_error_calculate_num_examples\n",
      "\t> Saved: 18_overSample_biasPop_sonar_calculate_overall_error_calculate_num_examples\n",
      "\t> Saved: 19_overSample_biasPop_sonar_calculate_overall_error_calculate_num_examples\n",
      "\t> Saved: 20_overSample_biasPop_sonar_calculate_overall_error_calculate_num_examples\n",
      "\t> Saved: 21_overSample_biasPop_sonar_calculate_overall_error_calculate_num_examples\n",
      "\t> Saved: 22_overSample_biasPop_sonar_calculate_overall_error_calculate_num_examples\n",
      "\t> Saved: 23_overSample_biasPop_sonar_calculate_overall_error_calculate_num_examples\n",
      "\t> Saved: 24_overSample_biasPop_sonar_calculate_overall_error_calculate_num_examples\n",
      "\t> Saved: 25_overSample_biasPop_sonar_calculate_overall_error_calculate_num_examples\n",
      "\t> Saved: 26_overSample_biasPop_sonar_calculate_overall_error_calculate_num_examples\n",
      "\t> Saved: 27_overSample_biasPop_sonar_calculate_overall_error_calculate_num_examples\n",
      "\t> Saved: 28_overSample_biasPop_sonar_calculate_overall_error_calculate_num_examples\n",
      "\t> Saved: 29_overSample_biasPop_sonar_calculate_overall_error_calculate_num_examples\n",
      "\t> Saved: 30_overSample_biasPop_sonar_calculate_overall_error_calculate_num_examples\n",
      "\n",
      "Created 31 packages\n",
      "\t- Finished 31 optimizations\n",
      "\t> Saved: 0_regularSample_biasPop_sonar_calculate_overall_error_calculate_num_examples\n",
      "\t> Saved: 1_regularSample_biasPop_sonar_calculate_overall_error_calculate_num_examples\n",
      "\t> Saved: 2_regularSample_biasPop_sonar_calculate_overall_error_calculate_num_examples\n",
      "\t> Saved: 3_regularSample_biasPop_sonar_calculate_overall_error_calculate_num_examples\n",
      "\t> Saved: 4_regularSample_biasPop_sonar_calculate_overall_error_calculate_num_examples\n",
      "\t> Saved: 5_regularSample_biasPop_sonar_calculate_overall_error_calculate_num_examples\n",
      "\t> Saved: 6_regularSample_biasPop_sonar_calculate_overall_error_calculate_num_examples\n",
      "\t> Saved: 7_regularSample_biasPop_sonar_calculate_overall_error_calculate_num_examples\n",
      "\t> Saved: 8_regularSample_biasPop_sonar_calculate_overall_error_calculate_num_examples\n",
      "\t> Saved: 9_regularSample_biasPop_sonar_calculate_overall_error_calculate_num_examples\n",
      "\t> Saved: 10_regularSample_biasPop_sonar_calculate_overall_error_calculate_num_examples\n",
      "\t> Saved: 11_regularSample_biasPop_sonar_calculate_overall_error_calculate_num_examples\n",
      "\t> Saved: 12_regularSample_biasPop_sonar_calculate_overall_error_calculate_num_examples\n",
      "\t> Saved: 13_regularSample_biasPop_sonar_calculate_overall_error_calculate_num_examples\n",
      "\t> Saved: 14_regularSample_biasPop_sonar_calculate_overall_error_calculate_num_examples\n",
      "\t> Saved: 15_regularSample_biasPop_sonar_calculate_overall_error_calculate_num_examples\n",
      "\t> Saved: 16_regularSample_biasPop_sonar_calculate_overall_error_calculate_num_examples\n",
      "\t> Saved: 17_regularSample_biasPop_sonar_calculate_overall_error_calculate_num_examples\n",
      "\t> Saved: 18_regularSample_biasPop_sonar_calculate_overall_error_calculate_num_examples\n",
      "\t> Saved: 19_regularSample_biasPop_sonar_calculate_overall_error_calculate_num_examples\n",
      "\t> Saved: 20_regularSample_biasPop_sonar_calculate_overall_error_calculate_num_examples\n",
      "\t> Saved: 21_regularSample_biasPop_sonar_calculate_overall_error_calculate_num_examples\n",
      "\t> Saved: 22_regularSample_biasPop_sonar_calculate_overall_error_calculate_num_examples\n",
      "\t> Saved: 23_regularSample_biasPop_sonar_calculate_overall_error_calculate_num_examples\n",
      "\t> Saved: 24_regularSample_biasPop_sonar_calculate_overall_error_calculate_num_examples\n",
      "\t> Saved: 25_regularSample_biasPop_sonar_calculate_overall_error_calculate_num_examples\n",
      "\t> Saved: 26_regularSample_biasPop_sonar_calculate_overall_error_calculate_num_examples\n",
      "\t> Saved: 27_regularSample_biasPop_sonar_calculate_overall_error_calculate_num_examples\n",
      "\t> Saved: 28_regularSample_biasPop_sonar_calculate_overall_error_calculate_num_examples\n",
      "\t> Saved: 29_regularSample_biasPop_sonar_calculate_overall_error_calculate_num_examples\n",
      "\t> Saved: 30_regularSample_biasPop_sonar_calculate_overall_error_calculate_num_examples\n",
      "\n",
      "Created 31 packages\n",
      "\t- Finished 31 optimizations\n",
      "\t> Saved: 0_overSample_randPop_vehicle0_calculate_overall_error_calculate_num_examples\n",
      "\t> Saved: 1_overSample_randPop_vehicle0_calculate_overall_error_calculate_num_examples\n",
      "\t> Saved: 2_overSample_randPop_vehicle0_calculate_overall_error_calculate_num_examples\n",
      "\t> Saved: 3_overSample_randPop_vehicle0_calculate_overall_error_calculate_num_examples\n",
      "\t> Saved: 4_overSample_randPop_vehicle0_calculate_overall_error_calculate_num_examples\n",
      "\t> Saved: 5_overSample_randPop_vehicle0_calculate_overall_error_calculate_num_examples\n",
      "\t> Saved: 6_overSample_randPop_vehicle0_calculate_overall_error_calculate_num_examples\n",
      "\t> Saved: 7_overSample_randPop_vehicle0_calculate_overall_error_calculate_num_examples\n",
      "\t> Saved: 8_overSample_randPop_vehicle0_calculate_overall_error_calculate_num_examples\n",
      "\t> Saved: 9_overSample_randPop_vehicle0_calculate_overall_error_calculate_num_examples\n",
      "\t> Saved: 10_overSample_randPop_vehicle0_calculate_overall_error_calculate_num_examples\n",
      "\t> Saved: 11_overSample_randPop_vehicle0_calculate_overall_error_calculate_num_examples\n",
      "\t> Saved: 12_overSample_randPop_vehicle0_calculate_overall_error_calculate_num_examples\n",
      "\t> Saved: 13_overSample_randPop_vehicle0_calculate_overall_error_calculate_num_examples\n",
      "\t> Saved: 14_overSample_randPop_vehicle0_calculate_overall_error_calculate_num_examples\n",
      "\t> Saved: 15_overSample_randPop_vehicle0_calculate_overall_error_calculate_num_examples\n",
      "\t> Saved: 16_overSample_randPop_vehicle0_calculate_overall_error_calculate_num_examples\n",
      "\t> Saved: 17_overSample_randPop_vehicle0_calculate_overall_error_calculate_num_examples\n",
      "\t> Saved: 18_overSample_randPop_vehicle0_calculate_overall_error_calculate_num_examples\n",
      "\t> Saved: 19_overSample_randPop_vehicle0_calculate_overall_error_calculate_num_examples\n",
      "\t> Saved: 20_overSample_randPop_vehicle0_calculate_overall_error_calculate_num_examples\n",
      "\t> Saved: 21_overSample_randPop_vehicle0_calculate_overall_error_calculate_num_examples\n",
      "\t> Saved: 22_overSample_randPop_vehicle0_calculate_overall_error_calculate_num_examples\n",
      "\t> Saved: 23_overSample_randPop_vehicle0_calculate_overall_error_calculate_num_examples\n",
      "\t> Saved: 24_overSample_randPop_vehicle0_calculate_overall_error_calculate_num_examples\n",
      "\t> Saved: 25_overSample_randPop_vehicle0_calculate_overall_error_calculate_num_examples\n",
      "\t> Saved: 26_overSample_randPop_vehicle0_calculate_overall_error_calculate_num_examples\n",
      "\t> Saved: 27_overSample_randPop_vehicle0_calculate_overall_error_calculate_num_examples\n",
      "\t> Saved: 28_overSample_randPop_vehicle0_calculate_overall_error_calculate_num_examples\n",
      "\t> Saved: 29_overSample_randPop_vehicle0_calculate_overall_error_calculate_num_examples\n",
      "\t> Saved: 30_overSample_randPop_vehicle0_calculate_overall_error_calculate_num_examples\n",
      "\n",
      "Created 31 packages\n",
      "\t- Finished 31 optimizations\n",
      "\t> Saved: 0_regularSample_randPop_vehicle0_calculate_overall_error_calculate_num_examples\n",
      "\t> Saved: 1_regularSample_randPop_vehicle0_calculate_overall_error_calculate_num_examples\n",
      "\t> Saved: 2_regularSample_randPop_vehicle0_calculate_overall_error_calculate_num_examples\n",
      "\t> Saved: 3_regularSample_randPop_vehicle0_calculate_overall_error_calculate_num_examples\n",
      "\t> Saved: 4_regularSample_randPop_vehicle0_calculate_overall_error_calculate_num_examples\n",
      "\t> Saved: 5_regularSample_randPop_vehicle0_calculate_overall_error_calculate_num_examples\n",
      "\t> Saved: 6_regularSample_randPop_vehicle0_calculate_overall_error_calculate_num_examples\n",
      "\t> Saved: 7_regularSample_randPop_vehicle0_calculate_overall_error_calculate_num_examples\n",
      "\t> Saved: 8_regularSample_randPop_vehicle0_calculate_overall_error_calculate_num_examples\n",
      "\t> Saved: 9_regularSample_randPop_vehicle0_calculate_overall_error_calculate_num_examples\n",
      "\t> Saved: 10_regularSample_randPop_vehicle0_calculate_overall_error_calculate_num_examples\n",
      "\t> Saved: 11_regularSample_randPop_vehicle0_calculate_overall_error_calculate_num_examples\n",
      "\t> Saved: 12_regularSample_randPop_vehicle0_calculate_overall_error_calculate_num_examples\n",
      "\t> Saved: 13_regularSample_randPop_vehicle0_calculate_overall_error_calculate_num_examples\n",
      "\t> Saved: 14_regularSample_randPop_vehicle0_calculate_overall_error_calculate_num_examples\n",
      "\t> Saved: 15_regularSample_randPop_vehicle0_calculate_overall_error_calculate_num_examples\n",
      "\t> Saved: 16_regularSample_randPop_vehicle0_calculate_overall_error_calculate_num_examples\n",
      "\t> Saved: 17_regularSample_randPop_vehicle0_calculate_overall_error_calculate_num_examples\n",
      "\t> Saved: 18_regularSample_randPop_vehicle0_calculate_overall_error_calculate_num_examples\n",
      "\t> Saved: 19_regularSample_randPop_vehicle0_calculate_overall_error_calculate_num_examples\n",
      "\t> Saved: 20_regularSample_randPop_vehicle0_calculate_overall_error_calculate_num_examples\n",
      "\t> Saved: 21_regularSample_randPop_vehicle0_calculate_overall_error_calculate_num_examples\n",
      "\t> Saved: 22_regularSample_randPop_vehicle0_calculate_overall_error_calculate_num_examples\n",
      "\t> Saved: 23_regularSample_randPop_vehicle0_calculate_overall_error_calculate_num_examples\n",
      "\t> Saved: 24_regularSample_randPop_vehicle0_calculate_overall_error_calculate_num_examples\n",
      "\t> Saved: 25_regularSample_randPop_vehicle0_calculate_overall_error_calculate_num_examples\n",
      "\t> Saved: 26_regularSample_randPop_vehicle0_calculate_overall_error_calculate_num_examples\n",
      "\t> Saved: 27_regularSample_randPop_vehicle0_calculate_overall_error_calculate_num_examples\n",
      "\t> Saved: 28_regularSample_randPop_vehicle0_calculate_overall_error_calculate_num_examples\n",
      "\t> Saved: 29_regularSample_randPop_vehicle0_calculate_overall_error_calculate_num_examples\n",
      "\t> Saved: 30_regularSample_randPop_vehicle0_calculate_overall_error_calculate_num_examples\n",
      "\n",
      "Created 31 packages\n",
      "\t- Finished 31 optimizations\n",
      "\t> Saved: 0_overSample_biasPop_vehicle0_calculate_overall_error_calculate_num_examples\n",
      "\t> Saved: 1_overSample_biasPop_vehicle0_calculate_overall_error_calculate_num_examples\n",
      "\t> Saved: 2_overSample_biasPop_vehicle0_calculate_overall_error_calculate_num_examples\n",
      "\t> Saved: 3_overSample_biasPop_vehicle0_calculate_overall_error_calculate_num_examples\n",
      "\t> Saved: 4_overSample_biasPop_vehicle0_calculate_overall_error_calculate_num_examples\n",
      "\t> Saved: 5_overSample_biasPop_vehicle0_calculate_overall_error_calculate_num_examples\n",
      "\t> Saved: 6_overSample_biasPop_vehicle0_calculate_overall_error_calculate_num_examples\n",
      "\t> Saved: 7_overSample_biasPop_vehicle0_calculate_overall_error_calculate_num_examples\n",
      "\t> Saved: 8_overSample_biasPop_vehicle0_calculate_overall_error_calculate_num_examples\n",
      "\t> Saved: 9_overSample_biasPop_vehicle0_calculate_overall_error_calculate_num_examples\n",
      "\t> Saved: 10_overSample_biasPop_vehicle0_calculate_overall_error_calculate_num_examples\n",
      "\t> Saved: 11_overSample_biasPop_vehicle0_calculate_overall_error_calculate_num_examples\n",
      "\t> Saved: 12_overSample_biasPop_vehicle0_calculate_overall_error_calculate_num_examples\n",
      "\t> Saved: 13_overSample_biasPop_vehicle0_calculate_overall_error_calculate_num_examples\n",
      "\t> Saved: 14_overSample_biasPop_vehicle0_calculate_overall_error_calculate_num_examples\n",
      "\t> Saved: 15_overSample_biasPop_vehicle0_calculate_overall_error_calculate_num_examples\n",
      "\t> Saved: 16_overSample_biasPop_vehicle0_calculate_overall_error_calculate_num_examples\n",
      "\t> Saved: 17_overSample_biasPop_vehicle0_calculate_overall_error_calculate_num_examples\n",
      "\t> Saved: 18_overSample_biasPop_vehicle0_calculate_overall_error_calculate_num_examples\n",
      "\t> Saved: 19_overSample_biasPop_vehicle0_calculate_overall_error_calculate_num_examples\n",
      "\t> Saved: 20_overSample_biasPop_vehicle0_calculate_overall_error_calculate_num_examples\n",
      "\t> Saved: 21_overSample_biasPop_vehicle0_calculate_overall_error_calculate_num_examples\n",
      "\t> Saved: 22_overSample_biasPop_vehicle0_calculate_overall_error_calculate_num_examples\n",
      "\t> Saved: 23_overSample_biasPop_vehicle0_calculate_overall_error_calculate_num_examples\n",
      "\t> Saved: 24_overSample_biasPop_vehicle0_calculate_overall_error_calculate_num_examples\n",
      "\t> Saved: 25_overSample_biasPop_vehicle0_calculate_overall_error_calculate_num_examples\n",
      "\t> Saved: 26_overSample_biasPop_vehicle0_calculate_overall_error_calculate_num_examples\n",
      "\t> Saved: 27_overSample_biasPop_vehicle0_calculate_overall_error_calculate_num_examples\n",
      "\t> Saved: 28_overSample_biasPop_vehicle0_calculate_overall_error_calculate_num_examples\n",
      "\t> Saved: 29_overSample_biasPop_vehicle0_calculate_overall_error_calculate_num_examples\n",
      "\t> Saved: 30_overSample_biasPop_vehicle0_calculate_overall_error_calculate_num_examples\n",
      "\n",
      "Created 31 packages\n",
      "\t- Finished 31 optimizations\n",
      "\t> Saved: 0_regularSample_biasPop_vehicle0_calculate_overall_error_calculate_num_examples\n",
      "\t> Saved: 1_regularSample_biasPop_vehicle0_calculate_overall_error_calculate_num_examples\n",
      "\t> Saved: 2_regularSample_biasPop_vehicle0_calculate_overall_error_calculate_num_examples\n",
      "\t> Saved: 3_regularSample_biasPop_vehicle0_calculate_overall_error_calculate_num_examples\n",
      "\t> Saved: 4_regularSample_biasPop_vehicle0_calculate_overall_error_calculate_num_examples\n",
      "\t> Saved: 5_regularSample_biasPop_vehicle0_calculate_overall_error_calculate_num_examples\n",
      "\t> Saved: 6_regularSample_biasPop_vehicle0_calculate_overall_error_calculate_num_examples\n",
      "\t> Saved: 7_regularSample_biasPop_vehicle0_calculate_overall_error_calculate_num_examples\n",
      "\t> Saved: 8_regularSample_biasPop_vehicle0_calculate_overall_error_calculate_num_examples\n",
      "\t> Saved: 9_regularSample_biasPop_vehicle0_calculate_overall_error_calculate_num_examples\n",
      "\t> Saved: 10_regularSample_biasPop_vehicle0_calculate_overall_error_calculate_num_examples\n",
      "\t> Saved: 11_regularSample_biasPop_vehicle0_calculate_overall_error_calculate_num_examples\n",
      "\t> Saved: 12_regularSample_biasPop_vehicle0_calculate_overall_error_calculate_num_examples\n",
      "\t> Saved: 13_regularSample_biasPop_vehicle0_calculate_overall_error_calculate_num_examples\n",
      "\t> Saved: 14_regularSample_biasPop_vehicle0_calculate_overall_error_calculate_num_examples\n",
      "\t> Saved: 15_regularSample_biasPop_vehicle0_calculate_overall_error_calculate_num_examples\n",
      "\t> Saved: 16_regularSample_biasPop_vehicle0_calculate_overall_error_calculate_num_examples\n",
      "\t> Saved: 17_regularSample_biasPop_vehicle0_calculate_overall_error_calculate_num_examples\n",
      "\t> Saved: 18_regularSample_biasPop_vehicle0_calculate_overall_error_calculate_num_examples\n",
      "\t> Saved: 19_regularSample_biasPop_vehicle0_calculate_overall_error_calculate_num_examples\n",
      "\t> Saved: 20_regularSample_biasPop_vehicle0_calculate_overall_error_calculate_num_examples\n",
      "\t> Saved: 21_regularSample_biasPop_vehicle0_calculate_overall_error_calculate_num_examples\n",
      "\t> Saved: 22_regularSample_biasPop_vehicle0_calculate_overall_error_calculate_num_examples\n",
      "\t> Saved: 23_regularSample_biasPop_vehicle0_calculate_overall_error_calculate_num_examples\n",
      "\t> Saved: 24_regularSample_biasPop_vehicle0_calculate_overall_error_calculate_num_examples\n",
      "\t> Saved: 25_regularSample_biasPop_vehicle0_calculate_overall_error_calculate_num_examples\n",
      "\t> Saved: 26_regularSample_biasPop_vehicle0_calculate_overall_error_calculate_num_examples\n",
      "\t> Saved: 27_regularSample_biasPop_vehicle0_calculate_overall_error_calculate_num_examples\n",
      "\t> Saved: 28_regularSample_biasPop_vehicle0_calculate_overall_error_calculate_num_examples\n",
      "\t> Saved: 29_regularSample_biasPop_vehicle0_calculate_overall_error_calculate_num_examples\n",
      "\t> Saved: 30_regularSample_biasPop_vehicle0_calculate_overall_error_calculate_num_examples\n",
      "\n",
      "Created 31 packages\n",
      "\t- Finished 31 optimizations\n",
      "\t> Saved: 0_overSample_randPop_yeast1_calculate_overall_error_calculate_num_examples\n",
      "\t> Saved: 1_overSample_randPop_yeast1_calculate_overall_error_calculate_num_examples\n",
      "\t> Saved: 2_overSample_randPop_yeast1_calculate_overall_error_calculate_num_examples\n",
      "\t> Saved: 3_overSample_randPop_yeast1_calculate_overall_error_calculate_num_examples\n",
      "\t> Saved: 4_overSample_randPop_yeast1_calculate_overall_error_calculate_num_examples\n",
      "\t> Saved: 5_overSample_randPop_yeast1_calculate_overall_error_calculate_num_examples\n",
      "\t> Saved: 6_overSample_randPop_yeast1_calculate_overall_error_calculate_num_examples\n",
      "\t> Saved: 7_overSample_randPop_yeast1_calculate_overall_error_calculate_num_examples\n",
      "\t> Saved: 8_overSample_randPop_yeast1_calculate_overall_error_calculate_num_examples\n",
      "\t> Saved: 9_overSample_randPop_yeast1_calculate_overall_error_calculate_num_examples\n",
      "\t> Saved: 10_overSample_randPop_yeast1_calculate_overall_error_calculate_num_examples\n",
      "\t> Saved: 11_overSample_randPop_yeast1_calculate_overall_error_calculate_num_examples\n",
      "\t> Saved: 12_overSample_randPop_yeast1_calculate_overall_error_calculate_num_examples\n",
      "\t> Saved: 13_overSample_randPop_yeast1_calculate_overall_error_calculate_num_examples\n",
      "\t> Saved: 14_overSample_randPop_yeast1_calculate_overall_error_calculate_num_examples\n",
      "\t> Saved: 15_overSample_randPop_yeast1_calculate_overall_error_calculate_num_examples\n",
      "\t> Saved: 16_overSample_randPop_yeast1_calculate_overall_error_calculate_num_examples\n",
      "\t> Saved: 17_overSample_randPop_yeast1_calculate_overall_error_calculate_num_examples\n",
      "\t> Saved: 18_overSample_randPop_yeast1_calculate_overall_error_calculate_num_examples\n",
      "\t> Saved: 19_overSample_randPop_yeast1_calculate_overall_error_calculate_num_examples\n",
      "\t> Saved: 20_overSample_randPop_yeast1_calculate_overall_error_calculate_num_examples\n",
      "\t> Saved: 21_overSample_randPop_yeast1_calculate_overall_error_calculate_num_examples\n",
      "\t> Saved: 22_overSample_randPop_yeast1_calculate_overall_error_calculate_num_examples\n",
      "\t> Saved: 23_overSample_randPop_yeast1_calculate_overall_error_calculate_num_examples\n",
      "\t> Saved: 24_overSample_randPop_yeast1_calculate_overall_error_calculate_num_examples\n",
      "\t> Saved: 25_overSample_randPop_yeast1_calculate_overall_error_calculate_num_examples\n",
      "\t> Saved: 26_overSample_randPop_yeast1_calculate_overall_error_calculate_num_examples\n",
      "\t> Saved: 27_overSample_randPop_yeast1_calculate_overall_error_calculate_num_examples\n",
      "\t> Saved: 28_overSample_randPop_yeast1_calculate_overall_error_calculate_num_examples\n",
      "\t> Saved: 29_overSample_randPop_yeast1_calculate_overall_error_calculate_num_examples\n",
      "\t> Saved: 30_overSample_randPop_yeast1_calculate_overall_error_calculate_num_examples\n",
      "\n",
      "Created 31 packages\n",
      "\t- Finished 31 optimizations\n",
      "\t> Saved: 0_regularSample_randPop_yeast1_calculate_overall_error_calculate_num_examples\n",
      "\t> Saved: 1_regularSample_randPop_yeast1_calculate_overall_error_calculate_num_examples\n",
      "\t> Saved: 2_regularSample_randPop_yeast1_calculate_overall_error_calculate_num_examples\n",
      "\t> Saved: 3_regularSample_randPop_yeast1_calculate_overall_error_calculate_num_examples\n",
      "\t> Saved: 4_regularSample_randPop_yeast1_calculate_overall_error_calculate_num_examples\n",
      "\t> Saved: 5_regularSample_randPop_yeast1_calculate_overall_error_calculate_num_examples\n",
      "\t> Saved: 6_regularSample_randPop_yeast1_calculate_overall_error_calculate_num_examples\n",
      "\t> Saved: 7_regularSample_randPop_yeast1_calculate_overall_error_calculate_num_examples\n",
      "\t> Saved: 8_regularSample_randPop_yeast1_calculate_overall_error_calculate_num_examples\n",
      "\t> Saved: 9_regularSample_randPop_yeast1_calculate_overall_error_calculate_num_examples\n",
      "\t> Saved: 10_regularSample_randPop_yeast1_calculate_overall_error_calculate_num_examples\n",
      "\t> Saved: 11_regularSample_randPop_yeast1_calculate_overall_error_calculate_num_examples\n",
      "\t> Saved: 12_regularSample_randPop_yeast1_calculate_overall_error_calculate_num_examples\n",
      "\t> Saved: 13_regularSample_randPop_yeast1_calculate_overall_error_calculate_num_examples\n",
      "\t> Saved: 14_regularSample_randPop_yeast1_calculate_overall_error_calculate_num_examples\n",
      "\t> Saved: 15_regularSample_randPop_yeast1_calculate_overall_error_calculate_num_examples\n",
      "\t> Saved: 16_regularSample_randPop_yeast1_calculate_overall_error_calculate_num_examples\n",
      "\t> Saved: 17_regularSample_randPop_yeast1_calculate_overall_error_calculate_num_examples\n",
      "\t> Saved: 18_regularSample_randPop_yeast1_calculate_overall_error_calculate_num_examples\n",
      "\t> Saved: 19_regularSample_randPop_yeast1_calculate_overall_error_calculate_num_examples\n",
      "\t> Saved: 20_regularSample_randPop_yeast1_calculate_overall_error_calculate_num_examples\n",
      "\t> Saved: 21_regularSample_randPop_yeast1_calculate_overall_error_calculate_num_examples\n",
      "\t> Saved: 22_regularSample_randPop_yeast1_calculate_overall_error_calculate_num_examples\n",
      "\t> Saved: 23_regularSample_randPop_yeast1_calculate_overall_error_calculate_num_examples\n",
      "\t> Saved: 24_regularSample_randPop_yeast1_calculate_overall_error_calculate_num_examples\n",
      "\t> Saved: 25_regularSample_randPop_yeast1_calculate_overall_error_calculate_num_examples\n",
      "\t> Saved: 26_regularSample_randPop_yeast1_calculate_overall_error_calculate_num_examples\n",
      "\t> Saved: 27_regularSample_randPop_yeast1_calculate_overall_error_calculate_num_examples\n",
      "\t> Saved: 28_regularSample_randPop_yeast1_calculate_overall_error_calculate_num_examples\n",
      "\t> Saved: 29_regularSample_randPop_yeast1_calculate_overall_error_calculate_num_examples\n",
      "\t> Saved: 30_regularSample_randPop_yeast1_calculate_overall_error_calculate_num_examples\n",
      "\n",
      "Created 31 packages\n",
      "\t- Finished 31 optimizations\n",
      "\t> Saved: 0_overSample_biasPop_yeast1_calculate_overall_error_calculate_num_examples\n",
      "\t> Saved: 1_overSample_biasPop_yeast1_calculate_overall_error_calculate_num_examples\n",
      "\t> Saved: 2_overSample_biasPop_yeast1_calculate_overall_error_calculate_num_examples\n",
      "\t> Saved: 3_overSample_biasPop_yeast1_calculate_overall_error_calculate_num_examples\n",
      "\t> Saved: 4_overSample_biasPop_yeast1_calculate_overall_error_calculate_num_examples\n",
      "\t> Saved: 5_overSample_biasPop_yeast1_calculate_overall_error_calculate_num_examples\n",
      "\t> Saved: 6_overSample_biasPop_yeast1_calculate_overall_error_calculate_num_examples\n",
      "\t> Saved: 7_overSample_biasPop_yeast1_calculate_overall_error_calculate_num_examples\n",
      "\t> Saved: 8_overSample_biasPop_yeast1_calculate_overall_error_calculate_num_examples\n",
      "\t> Saved: 9_overSample_biasPop_yeast1_calculate_overall_error_calculate_num_examples\n",
      "\t> Saved: 10_overSample_biasPop_yeast1_calculate_overall_error_calculate_num_examples\n",
      "\t> Saved: 11_overSample_biasPop_yeast1_calculate_overall_error_calculate_num_examples\n",
      "\t> Saved: 12_overSample_biasPop_yeast1_calculate_overall_error_calculate_num_examples\n",
      "\t> Saved: 13_overSample_biasPop_yeast1_calculate_overall_error_calculate_num_examples\n",
      "\t> Saved: 14_overSample_biasPop_yeast1_calculate_overall_error_calculate_num_examples\n",
      "\t> Saved: 15_overSample_biasPop_yeast1_calculate_overall_error_calculate_num_examples\n",
      "\t> Saved: 16_overSample_biasPop_yeast1_calculate_overall_error_calculate_num_examples\n",
      "\t> Saved: 17_overSample_biasPop_yeast1_calculate_overall_error_calculate_num_examples\n",
      "\t> Saved: 18_overSample_biasPop_yeast1_calculate_overall_error_calculate_num_examples\n",
      "\t> Saved: 19_overSample_biasPop_yeast1_calculate_overall_error_calculate_num_examples\n",
      "\t> Saved: 20_overSample_biasPop_yeast1_calculate_overall_error_calculate_num_examples\n",
      "\t> Saved: 21_overSample_biasPop_yeast1_calculate_overall_error_calculate_num_examples\n",
      "\t> Saved: 22_overSample_biasPop_yeast1_calculate_overall_error_calculate_num_examples\n",
      "\t> Saved: 23_overSample_biasPop_yeast1_calculate_overall_error_calculate_num_examples\n",
      "\t> Saved: 24_overSample_biasPop_yeast1_calculate_overall_error_calculate_num_examples\n",
      "\t> Saved: 25_overSample_biasPop_yeast1_calculate_overall_error_calculate_num_examples\n",
      "\t> Saved: 26_overSample_biasPop_yeast1_calculate_overall_error_calculate_num_examples\n",
      "\t> Saved: 27_overSample_biasPop_yeast1_calculate_overall_error_calculate_num_examples\n",
      "\t> Saved: 28_overSample_biasPop_yeast1_calculate_overall_error_calculate_num_examples\n",
      "\t> Saved: 29_overSample_biasPop_yeast1_calculate_overall_error_calculate_num_examples\n",
      "\t> Saved: 30_overSample_biasPop_yeast1_calculate_overall_error_calculate_num_examples\n",
      "\n",
      "Created 31 packages\n",
      "\t- Finished 31 optimizations\n",
      "\t> Saved: 0_regularSample_biasPop_yeast1_calculate_overall_error_calculate_num_examples\n",
      "\t> Saved: 1_regularSample_biasPop_yeast1_calculate_overall_error_calculate_num_examples\n",
      "\t> Saved: 2_regularSample_biasPop_yeast1_calculate_overall_error_calculate_num_examples\n",
      "\t> Saved: 3_regularSample_biasPop_yeast1_calculate_overall_error_calculate_num_examples\n",
      "\t> Saved: 4_regularSample_biasPop_yeast1_calculate_overall_error_calculate_num_examples\n",
      "\t> Saved: 5_regularSample_biasPop_yeast1_calculate_overall_error_calculate_num_examples\n",
      "\t> Saved: 6_regularSample_biasPop_yeast1_calculate_overall_error_calculate_num_examples\n",
      "\t> Saved: 7_regularSample_biasPop_yeast1_calculate_overall_error_calculate_num_examples\n",
      "\t> Saved: 8_regularSample_biasPop_yeast1_calculate_overall_error_calculate_num_examples\n",
      "\t> Saved: 9_regularSample_biasPop_yeast1_calculate_overall_error_calculate_num_examples\n",
      "\t> Saved: 10_regularSample_biasPop_yeast1_calculate_overall_error_calculate_num_examples\n",
      "\t> Saved: 11_regularSample_biasPop_yeast1_calculate_overall_error_calculate_num_examples\n",
      "\t> Saved: 12_regularSample_biasPop_yeast1_calculate_overall_error_calculate_num_examples\n",
      "\t> Saved: 13_regularSample_biasPop_yeast1_calculate_overall_error_calculate_num_examples\n",
      "\t> Saved: 14_regularSample_biasPop_yeast1_calculate_overall_error_calculate_num_examples\n",
      "\t> Saved: 15_regularSample_biasPop_yeast1_calculate_overall_error_calculate_num_examples\n",
      "\t> Saved: 16_regularSample_biasPop_yeast1_calculate_overall_error_calculate_num_examples\n",
      "\t> Saved: 17_regularSample_biasPop_yeast1_calculate_overall_error_calculate_num_examples\n",
      "\t> Saved: 18_regularSample_biasPop_yeast1_calculate_overall_error_calculate_num_examples\n",
      "\t> Saved: 19_regularSample_biasPop_yeast1_calculate_overall_error_calculate_num_examples\n",
      "\t> Saved: 20_regularSample_biasPop_yeast1_calculate_overall_error_calculate_num_examples\n",
      "\t> Saved: 21_regularSample_biasPop_yeast1_calculate_overall_error_calculate_num_examples\n",
      "\t> Saved: 22_regularSample_biasPop_yeast1_calculate_overall_error_calculate_num_examples\n",
      "\t> Saved: 23_regularSample_biasPop_yeast1_calculate_overall_error_calculate_num_examples\n",
      "\t> Saved: 24_regularSample_biasPop_yeast1_calculate_overall_error_calculate_num_examples\n",
      "\t> Saved: 25_regularSample_biasPop_yeast1_calculate_overall_error_calculate_num_examples\n",
      "\t> Saved: 26_regularSample_biasPop_yeast1_calculate_overall_error_calculate_num_examples\n",
      "\t> Saved: 27_regularSample_biasPop_yeast1_calculate_overall_error_calculate_num_examples\n",
      "\t> Saved: 28_regularSample_biasPop_yeast1_calculate_overall_error_calculate_num_examples\n",
      "\t> Saved: 29_regularSample_biasPop_yeast1_calculate_overall_error_calculate_num_examples\n",
      "\t> Saved: 30_regularSample_biasPop_yeast1_calculate_overall_error_calculate_num_examples\n",
      "\n",
      "Created 31 packages\n",
      "\t- Finished 31 optimizations\n",
      "\t> Saved: 0_overSample_randPop_australian_calculate_overall_error_calculate_overall_inverse_f1_calculate_num_examples\n",
      "\t> Saved: 1_overSample_randPop_australian_calculate_overall_error_calculate_overall_inverse_f1_calculate_num_examples\n",
      "\t> Saved: 2_overSample_randPop_australian_calculate_overall_error_calculate_overall_inverse_f1_calculate_num_examples\n",
      "\t> Saved: 3_overSample_randPop_australian_calculate_overall_error_calculate_overall_inverse_f1_calculate_num_examples\n",
      "\t> Saved: 4_overSample_randPop_australian_calculate_overall_error_calculate_overall_inverse_f1_calculate_num_examples\n",
      "\t> Saved: 5_overSample_randPop_australian_calculate_overall_error_calculate_overall_inverse_f1_calculate_num_examples\n",
      "\t> Saved: 6_overSample_randPop_australian_calculate_overall_error_calculate_overall_inverse_f1_calculate_num_examples\n",
      "\t> Saved: 7_overSample_randPop_australian_calculate_overall_error_calculate_overall_inverse_f1_calculate_num_examples\n",
      "\t> Saved: 8_overSample_randPop_australian_calculate_overall_error_calculate_overall_inverse_f1_calculate_num_examples\n",
      "\t> Saved: 9_overSample_randPop_australian_calculate_overall_error_calculate_overall_inverse_f1_calculate_num_examples\n",
      "\t> Saved: 10_overSample_randPop_australian_calculate_overall_error_calculate_overall_inverse_f1_calculate_num_examples\n",
      "\t> Saved: 11_overSample_randPop_australian_calculate_overall_error_calculate_overall_inverse_f1_calculate_num_examples\n",
      "\t> Saved: 12_overSample_randPop_australian_calculate_overall_error_calculate_overall_inverse_f1_calculate_num_examples\n",
      "\t> Saved: 13_overSample_randPop_australian_calculate_overall_error_calculate_overall_inverse_f1_calculate_num_examples\n",
      "\t> Saved: 14_overSample_randPop_australian_calculate_overall_error_calculate_overall_inverse_f1_calculate_num_examples\n",
      "\t> Saved: 15_overSample_randPop_australian_calculate_overall_error_calculate_overall_inverse_f1_calculate_num_examples\n",
      "\t> Saved: 16_overSample_randPop_australian_calculate_overall_error_calculate_overall_inverse_f1_calculate_num_examples\n",
      "\t> Saved: 17_overSample_randPop_australian_calculate_overall_error_calculate_overall_inverse_f1_calculate_num_examples\n",
      "\t> Saved: 18_overSample_randPop_australian_calculate_overall_error_calculate_overall_inverse_f1_calculate_num_examples\n",
      "\t> Saved: 19_overSample_randPop_australian_calculate_overall_error_calculate_overall_inverse_f1_calculate_num_examples\n",
      "\t> Saved: 20_overSample_randPop_australian_calculate_overall_error_calculate_overall_inverse_f1_calculate_num_examples\n",
      "\t> Saved: 21_overSample_randPop_australian_calculate_overall_error_calculate_overall_inverse_f1_calculate_num_examples\n",
      "\t> Saved: 22_overSample_randPop_australian_calculate_overall_error_calculate_overall_inverse_f1_calculate_num_examples\n",
      "\t> Saved: 23_overSample_randPop_australian_calculate_overall_error_calculate_overall_inverse_f1_calculate_num_examples\n",
      "\t> Saved: 24_overSample_randPop_australian_calculate_overall_error_calculate_overall_inverse_f1_calculate_num_examples\n",
      "\t> Saved: 25_overSample_randPop_australian_calculate_overall_error_calculate_overall_inverse_f1_calculate_num_examples\n",
      "\t> Saved: 26_overSample_randPop_australian_calculate_overall_error_calculate_overall_inverse_f1_calculate_num_examples\n",
      "\t> Saved: 27_overSample_randPop_australian_calculate_overall_error_calculate_overall_inverse_f1_calculate_num_examples\n",
      "\t> Saved: 28_overSample_randPop_australian_calculate_overall_error_calculate_overall_inverse_f1_calculate_num_examples\n",
      "\t> Saved: 29_overSample_randPop_australian_calculate_overall_error_calculate_overall_inverse_f1_calculate_num_examples\n",
      "\t> Saved: 30_overSample_randPop_australian_calculate_overall_error_calculate_overall_inverse_f1_calculate_num_examples\n",
      "\n",
      "Created 31 packages\n",
      "\t- Finished 31 optimizations\n",
      "\t> Saved: 0_regularSample_randPop_australian_calculate_overall_error_calculate_overall_inverse_f1_calculate_num_examples\n",
      "\t> Saved: 1_regularSample_randPop_australian_calculate_overall_error_calculate_overall_inverse_f1_calculate_num_examples\n",
      "\t> Saved: 2_regularSample_randPop_australian_calculate_overall_error_calculate_overall_inverse_f1_calculate_num_examples\n",
      "\t> Saved: 3_regularSample_randPop_australian_calculate_overall_error_calculate_overall_inverse_f1_calculate_num_examples\n",
      "\t> Saved: 4_regularSample_randPop_australian_calculate_overall_error_calculate_overall_inverse_f1_calculate_num_examples\n",
      "\t> Saved: 5_regularSample_randPop_australian_calculate_overall_error_calculate_overall_inverse_f1_calculate_num_examples\n",
      "\t> Saved: 6_regularSample_randPop_australian_calculate_overall_error_calculate_overall_inverse_f1_calculate_num_examples\n",
      "\t> Saved: 7_regularSample_randPop_australian_calculate_overall_error_calculate_overall_inverse_f1_calculate_num_examples\n",
      "\t> Saved: 8_regularSample_randPop_australian_calculate_overall_error_calculate_overall_inverse_f1_calculate_num_examples\n",
      "\t> Saved: 9_regularSample_randPop_australian_calculate_overall_error_calculate_overall_inverse_f1_calculate_num_examples\n",
      "\t> Saved: 10_regularSample_randPop_australian_calculate_overall_error_calculate_overall_inverse_f1_calculate_num_examples\n",
      "\t> Saved: 11_regularSample_randPop_australian_calculate_overall_error_calculate_overall_inverse_f1_calculate_num_examples\n",
      "\t> Saved: 12_regularSample_randPop_australian_calculate_overall_error_calculate_overall_inverse_f1_calculate_num_examples\n",
      "\t> Saved: 13_regularSample_randPop_australian_calculate_overall_error_calculate_overall_inverse_f1_calculate_num_examples\n",
      "\t> Saved: 14_regularSample_randPop_australian_calculate_overall_error_calculate_overall_inverse_f1_calculate_num_examples\n",
      "\t> Saved: 15_regularSample_randPop_australian_calculate_overall_error_calculate_overall_inverse_f1_calculate_num_examples\n",
      "\t> Saved: 16_regularSample_randPop_australian_calculate_overall_error_calculate_overall_inverse_f1_calculate_num_examples\n",
      "\t> Saved: 17_regularSample_randPop_australian_calculate_overall_error_calculate_overall_inverse_f1_calculate_num_examples\n",
      "\t> Saved: 18_regularSample_randPop_australian_calculate_overall_error_calculate_overall_inverse_f1_calculate_num_examples\n",
      "\t> Saved: 19_regularSample_randPop_australian_calculate_overall_error_calculate_overall_inverse_f1_calculate_num_examples\n",
      "\t> Saved: 20_regularSample_randPop_australian_calculate_overall_error_calculate_overall_inverse_f1_calculate_num_examples\n",
      "\t> Saved: 21_regularSample_randPop_australian_calculate_overall_error_calculate_overall_inverse_f1_calculate_num_examples\n",
      "\t> Saved: 22_regularSample_randPop_australian_calculate_overall_error_calculate_overall_inverse_f1_calculate_num_examples\n",
      "\t> Saved: 23_regularSample_randPop_australian_calculate_overall_error_calculate_overall_inverse_f1_calculate_num_examples\n",
      "\t> Saved: 24_regularSample_randPop_australian_calculate_overall_error_calculate_overall_inverse_f1_calculate_num_examples\n",
      "\t> Saved: 25_regularSample_randPop_australian_calculate_overall_error_calculate_overall_inverse_f1_calculate_num_examples\n",
      "\t> Saved: 26_regularSample_randPop_australian_calculate_overall_error_calculate_overall_inverse_f1_calculate_num_examples\n",
      "\t> Saved: 27_regularSample_randPop_australian_calculate_overall_error_calculate_overall_inverse_f1_calculate_num_examples\n",
      "\t> Saved: 28_regularSample_randPop_australian_calculate_overall_error_calculate_overall_inverse_f1_calculate_num_examples\n",
      "\t> Saved: 29_regularSample_randPop_australian_calculate_overall_error_calculate_overall_inverse_f1_calculate_num_examples\n",
      "\t> Saved: 30_regularSample_randPop_australian_calculate_overall_error_calculate_overall_inverse_f1_calculate_num_examples\n",
      "\n",
      "Created 31 packages\n",
      "\t- Finished 31 optimizations\n",
      "\t> Saved: 0_overSample_biasPop_australian_calculate_overall_error_calculate_overall_inverse_f1_calculate_num_examples\n",
      "\t> Saved: 1_overSample_biasPop_australian_calculate_overall_error_calculate_overall_inverse_f1_calculate_num_examples\n",
      "\t> Saved: 2_overSample_biasPop_australian_calculate_overall_error_calculate_overall_inverse_f1_calculate_num_examples\n",
      "\t> Saved: 3_overSample_biasPop_australian_calculate_overall_error_calculate_overall_inverse_f1_calculate_num_examples\n",
      "\t> Saved: 4_overSample_biasPop_australian_calculate_overall_error_calculate_overall_inverse_f1_calculate_num_examples\n",
      "\t> Saved: 5_overSample_biasPop_australian_calculate_overall_error_calculate_overall_inverse_f1_calculate_num_examples\n",
      "\t> Saved: 6_overSample_biasPop_australian_calculate_overall_error_calculate_overall_inverse_f1_calculate_num_examples\n",
      "\t> Saved: 7_overSample_biasPop_australian_calculate_overall_error_calculate_overall_inverse_f1_calculate_num_examples\n",
      "\t> Saved: 8_overSample_biasPop_australian_calculate_overall_error_calculate_overall_inverse_f1_calculate_num_examples\n",
      "\t> Saved: 9_overSample_biasPop_australian_calculate_overall_error_calculate_overall_inverse_f1_calculate_num_examples\n",
      "\t> Saved: 10_overSample_biasPop_australian_calculate_overall_error_calculate_overall_inverse_f1_calculate_num_examples\n",
      "\t> Saved: 11_overSample_biasPop_australian_calculate_overall_error_calculate_overall_inverse_f1_calculate_num_examples\n",
      "\t> Saved: 12_overSample_biasPop_australian_calculate_overall_error_calculate_overall_inverse_f1_calculate_num_examples\n",
      "\t> Saved: 13_overSample_biasPop_australian_calculate_overall_error_calculate_overall_inverse_f1_calculate_num_examples\n",
      "\t> Saved: 14_overSample_biasPop_australian_calculate_overall_error_calculate_overall_inverse_f1_calculate_num_examples\n",
      "\t> Saved: 15_overSample_biasPop_australian_calculate_overall_error_calculate_overall_inverse_f1_calculate_num_examples\n",
      "\t> Saved: 16_overSample_biasPop_australian_calculate_overall_error_calculate_overall_inverse_f1_calculate_num_examples\n",
      "\t> Saved: 17_overSample_biasPop_australian_calculate_overall_error_calculate_overall_inverse_f1_calculate_num_examples\n",
      "\t> Saved: 18_overSample_biasPop_australian_calculate_overall_error_calculate_overall_inverse_f1_calculate_num_examples\n",
      "\t> Saved: 19_overSample_biasPop_australian_calculate_overall_error_calculate_overall_inverse_f1_calculate_num_examples\n",
      "\t> Saved: 20_overSample_biasPop_australian_calculate_overall_error_calculate_overall_inverse_f1_calculate_num_examples\n",
      "\t> Saved: 21_overSample_biasPop_australian_calculate_overall_error_calculate_overall_inverse_f1_calculate_num_examples\n",
      "\t> Saved: 22_overSample_biasPop_australian_calculate_overall_error_calculate_overall_inverse_f1_calculate_num_examples\n",
      "\t> Saved: 23_overSample_biasPop_australian_calculate_overall_error_calculate_overall_inverse_f1_calculate_num_examples\n",
      "\t> Saved: 24_overSample_biasPop_australian_calculate_overall_error_calculate_overall_inverse_f1_calculate_num_examples\n",
      "\t> Saved: 25_overSample_biasPop_australian_calculate_overall_error_calculate_overall_inverse_f1_calculate_num_examples\n",
      "\t> Saved: 26_overSample_biasPop_australian_calculate_overall_error_calculate_overall_inverse_f1_calculate_num_examples\n",
      "\t> Saved: 27_overSample_biasPop_australian_calculate_overall_error_calculate_overall_inverse_f1_calculate_num_examples\n",
      "\t> Saved: 28_overSample_biasPop_australian_calculate_overall_error_calculate_overall_inverse_f1_calculate_num_examples\n",
      "\t> Saved: 29_overSample_biasPop_australian_calculate_overall_error_calculate_overall_inverse_f1_calculate_num_examples\n",
      "\t> Saved: 30_overSample_biasPop_australian_calculate_overall_error_calculate_overall_inverse_f1_calculate_num_examples\n",
      "\n",
      "Created 31 packages\n",
      "\t- Finished 31 optimizations\n",
      "\t> Saved: 0_regularSample_biasPop_australian_calculate_overall_error_calculate_overall_inverse_f1_calculate_num_examples\n",
      "\t> Saved: 1_regularSample_biasPop_australian_calculate_overall_error_calculate_overall_inverse_f1_calculate_num_examples\n",
      "\t> Saved: 2_regularSample_biasPop_australian_calculate_overall_error_calculate_overall_inverse_f1_calculate_num_examples\n",
      "\t> Saved: 3_regularSample_biasPop_australian_calculate_overall_error_calculate_overall_inverse_f1_calculate_num_examples\n",
      "\t> Saved: 4_regularSample_biasPop_australian_calculate_overall_error_calculate_overall_inverse_f1_calculate_num_examples\n",
      "\t> Saved: 5_regularSample_biasPop_australian_calculate_overall_error_calculate_overall_inverse_f1_calculate_num_examples\n",
      "\t> Saved: 6_regularSample_biasPop_australian_calculate_overall_error_calculate_overall_inverse_f1_calculate_num_examples\n",
      "\t> Saved: 7_regularSample_biasPop_australian_calculate_overall_error_calculate_overall_inverse_f1_calculate_num_examples\n",
      "\t> Saved: 8_regularSample_biasPop_australian_calculate_overall_error_calculate_overall_inverse_f1_calculate_num_examples\n",
      "\t> Saved: 9_regularSample_biasPop_australian_calculate_overall_error_calculate_overall_inverse_f1_calculate_num_examples\n",
      "\t> Saved: 10_regularSample_biasPop_australian_calculate_overall_error_calculate_overall_inverse_f1_calculate_num_examples\n",
      "\t> Saved: 11_regularSample_biasPop_australian_calculate_overall_error_calculate_overall_inverse_f1_calculate_num_examples\n",
      "\t> Saved: 12_regularSample_biasPop_australian_calculate_overall_error_calculate_overall_inverse_f1_calculate_num_examples\n",
      "\t> Saved: 13_regularSample_biasPop_australian_calculate_overall_error_calculate_overall_inverse_f1_calculate_num_examples\n",
      "\t> Saved: 14_regularSample_biasPop_australian_calculate_overall_error_calculate_overall_inverse_f1_calculate_num_examples\n",
      "\t> Saved: 15_regularSample_biasPop_australian_calculate_overall_error_calculate_overall_inverse_f1_calculate_num_examples\n",
      "\t> Saved: 16_regularSample_biasPop_australian_calculate_overall_error_calculate_overall_inverse_f1_calculate_num_examples\n",
      "\t> Saved: 17_regularSample_biasPop_australian_calculate_overall_error_calculate_overall_inverse_f1_calculate_num_examples\n",
      "\t> Saved: 18_regularSample_biasPop_australian_calculate_overall_error_calculate_overall_inverse_f1_calculate_num_examples\n",
      "\t> Saved: 19_regularSample_biasPop_australian_calculate_overall_error_calculate_overall_inverse_f1_calculate_num_examples\n",
      "\t> Saved: 20_regularSample_biasPop_australian_calculate_overall_error_calculate_overall_inverse_f1_calculate_num_examples\n",
      "\t> Saved: 21_regularSample_biasPop_australian_calculate_overall_error_calculate_overall_inverse_f1_calculate_num_examples\n",
      "\t> Saved: 22_regularSample_biasPop_australian_calculate_overall_error_calculate_overall_inverse_f1_calculate_num_examples\n",
      "\t> Saved: 23_regularSample_biasPop_australian_calculate_overall_error_calculate_overall_inverse_f1_calculate_num_examples\n",
      "\t> Saved: 24_regularSample_biasPop_australian_calculate_overall_error_calculate_overall_inverse_f1_calculate_num_examples\n",
      "\t> Saved: 25_regularSample_biasPop_australian_calculate_overall_error_calculate_overall_inverse_f1_calculate_num_examples\n",
      "\t> Saved: 26_regularSample_biasPop_australian_calculate_overall_error_calculate_overall_inverse_f1_calculate_num_examples\n",
      "\t> Saved: 27_regularSample_biasPop_australian_calculate_overall_error_calculate_overall_inverse_f1_calculate_num_examples\n",
      "\t> Saved: 28_regularSample_biasPop_australian_calculate_overall_error_calculate_overall_inverse_f1_calculate_num_examples\n",
      "\t> Saved: 29_regularSample_biasPop_australian_calculate_overall_error_calculate_overall_inverse_f1_calculate_num_examples\n",
      "\t> Saved: 30_regularSample_biasPop_australian_calculate_overall_error_calculate_overall_inverse_f1_calculate_num_examples\n",
      "\n",
      "Created 31 packages\n",
      "\t- Finished 31 optimizations\n",
      "\t> Saved: 0_overSample_randPop_bupa_calculate_overall_error_calculate_overall_inverse_f1_calculate_num_examples\n",
      "\t> Saved: 1_overSample_randPop_bupa_calculate_overall_error_calculate_overall_inverse_f1_calculate_num_examples\n",
      "\t> Saved: 2_overSample_randPop_bupa_calculate_overall_error_calculate_overall_inverse_f1_calculate_num_examples\n",
      "\t> Saved: 3_overSample_randPop_bupa_calculate_overall_error_calculate_overall_inverse_f1_calculate_num_examples\n",
      "\t> Saved: 4_overSample_randPop_bupa_calculate_overall_error_calculate_overall_inverse_f1_calculate_num_examples\n",
      "\t> Saved: 5_overSample_randPop_bupa_calculate_overall_error_calculate_overall_inverse_f1_calculate_num_examples\n",
      "\t> Saved: 6_overSample_randPop_bupa_calculate_overall_error_calculate_overall_inverse_f1_calculate_num_examples\n",
      "\t> Saved: 7_overSample_randPop_bupa_calculate_overall_error_calculate_overall_inverse_f1_calculate_num_examples\n",
      "\t> Saved: 8_overSample_randPop_bupa_calculate_overall_error_calculate_overall_inverse_f1_calculate_num_examples\n",
      "\t> Saved: 9_overSample_randPop_bupa_calculate_overall_error_calculate_overall_inverse_f1_calculate_num_examples\n",
      "\t> Saved: 10_overSample_randPop_bupa_calculate_overall_error_calculate_overall_inverse_f1_calculate_num_examples\n",
      "\t> Saved: 11_overSample_randPop_bupa_calculate_overall_error_calculate_overall_inverse_f1_calculate_num_examples\n",
      "\t> Saved: 12_overSample_randPop_bupa_calculate_overall_error_calculate_overall_inverse_f1_calculate_num_examples\n",
      "\t> Saved: 13_overSample_randPop_bupa_calculate_overall_error_calculate_overall_inverse_f1_calculate_num_examples\n",
      "\t> Saved: 14_overSample_randPop_bupa_calculate_overall_error_calculate_overall_inverse_f1_calculate_num_examples\n",
      "\t> Saved: 15_overSample_randPop_bupa_calculate_overall_error_calculate_overall_inverse_f1_calculate_num_examples\n",
      "\t> Saved: 16_overSample_randPop_bupa_calculate_overall_error_calculate_overall_inverse_f1_calculate_num_examples\n",
      "\t> Saved: 17_overSample_randPop_bupa_calculate_overall_error_calculate_overall_inverse_f1_calculate_num_examples\n",
      "\t> Saved: 18_overSample_randPop_bupa_calculate_overall_error_calculate_overall_inverse_f1_calculate_num_examples\n",
      "\t> Saved: 19_overSample_randPop_bupa_calculate_overall_error_calculate_overall_inverse_f1_calculate_num_examples\n",
      "\t> Saved: 20_overSample_randPop_bupa_calculate_overall_error_calculate_overall_inverse_f1_calculate_num_examples\n",
      "\t> Saved: 21_overSample_randPop_bupa_calculate_overall_error_calculate_overall_inverse_f1_calculate_num_examples\n",
      "\t> Saved: 22_overSample_randPop_bupa_calculate_overall_error_calculate_overall_inverse_f1_calculate_num_examples\n",
      "\t> Saved: 23_overSample_randPop_bupa_calculate_overall_error_calculate_overall_inverse_f1_calculate_num_examples\n",
      "\t> Saved: 24_overSample_randPop_bupa_calculate_overall_error_calculate_overall_inverse_f1_calculate_num_examples\n",
      "\t> Saved: 25_overSample_randPop_bupa_calculate_overall_error_calculate_overall_inverse_f1_calculate_num_examples\n",
      "\t> Saved: 26_overSample_randPop_bupa_calculate_overall_error_calculate_overall_inverse_f1_calculate_num_examples\n",
      "\t> Saved: 27_overSample_randPop_bupa_calculate_overall_error_calculate_overall_inverse_f1_calculate_num_examples\n",
      "\t> Saved: 28_overSample_randPop_bupa_calculate_overall_error_calculate_overall_inverse_f1_calculate_num_examples\n",
      "\t> Saved: 29_overSample_randPop_bupa_calculate_overall_error_calculate_overall_inverse_f1_calculate_num_examples\n",
      "\t> Saved: 30_overSample_randPop_bupa_calculate_overall_error_calculate_overall_inverse_f1_calculate_num_examples\n",
      "\n",
      "Created 31 packages\n",
      "\t- Finished 31 optimizations\n",
      "\t> Saved: 0_regularSample_randPop_bupa_calculate_overall_error_calculate_overall_inverse_f1_calculate_num_examples\n",
      "\t> Saved: 1_regularSample_randPop_bupa_calculate_overall_error_calculate_overall_inverse_f1_calculate_num_examples\n",
      "\t> Saved: 2_regularSample_randPop_bupa_calculate_overall_error_calculate_overall_inverse_f1_calculate_num_examples\n",
      "\t> Saved: 3_regularSample_randPop_bupa_calculate_overall_error_calculate_overall_inverse_f1_calculate_num_examples\n",
      "\t> Saved: 4_regularSample_randPop_bupa_calculate_overall_error_calculate_overall_inverse_f1_calculate_num_examples\n",
      "\t> Saved: 5_regularSample_randPop_bupa_calculate_overall_error_calculate_overall_inverse_f1_calculate_num_examples\n",
      "\t> Saved: 6_regularSample_randPop_bupa_calculate_overall_error_calculate_overall_inverse_f1_calculate_num_examples\n",
      "\t> Saved: 7_regularSample_randPop_bupa_calculate_overall_error_calculate_overall_inverse_f1_calculate_num_examples\n",
      "\t> Saved: 8_regularSample_randPop_bupa_calculate_overall_error_calculate_overall_inverse_f1_calculate_num_examples\n",
      "\t> Saved: 9_regularSample_randPop_bupa_calculate_overall_error_calculate_overall_inverse_f1_calculate_num_examples\n",
      "\t> Saved: 10_regularSample_randPop_bupa_calculate_overall_error_calculate_overall_inverse_f1_calculate_num_examples\n",
      "\t> Saved: 11_regularSample_randPop_bupa_calculate_overall_error_calculate_overall_inverse_f1_calculate_num_examples\n",
      "\t> Saved: 12_regularSample_randPop_bupa_calculate_overall_error_calculate_overall_inverse_f1_calculate_num_examples\n",
      "\t> Saved: 13_regularSample_randPop_bupa_calculate_overall_error_calculate_overall_inverse_f1_calculate_num_examples\n",
      "\t> Saved: 14_regularSample_randPop_bupa_calculate_overall_error_calculate_overall_inverse_f1_calculate_num_examples\n",
      "\t> Saved: 15_regularSample_randPop_bupa_calculate_overall_error_calculate_overall_inverse_f1_calculate_num_examples\n",
      "\t> Saved: 16_regularSample_randPop_bupa_calculate_overall_error_calculate_overall_inverse_f1_calculate_num_examples\n",
      "\t> Saved: 17_regularSample_randPop_bupa_calculate_overall_error_calculate_overall_inverse_f1_calculate_num_examples\n",
      "\t> Saved: 18_regularSample_randPop_bupa_calculate_overall_error_calculate_overall_inverse_f1_calculate_num_examples\n",
      "\t> Saved: 19_regularSample_randPop_bupa_calculate_overall_error_calculate_overall_inverse_f1_calculate_num_examples\n",
      "\t> Saved: 20_regularSample_randPop_bupa_calculate_overall_error_calculate_overall_inverse_f1_calculate_num_examples\n",
      "\t> Saved: 21_regularSample_randPop_bupa_calculate_overall_error_calculate_overall_inverse_f1_calculate_num_examples\n",
      "\t> Saved: 22_regularSample_randPop_bupa_calculate_overall_error_calculate_overall_inverse_f1_calculate_num_examples\n",
      "\t> Saved: 23_regularSample_randPop_bupa_calculate_overall_error_calculate_overall_inverse_f1_calculate_num_examples\n",
      "\t> Saved: 24_regularSample_randPop_bupa_calculate_overall_error_calculate_overall_inverse_f1_calculate_num_examples\n",
      "\t> Saved: 25_regularSample_randPop_bupa_calculate_overall_error_calculate_overall_inverse_f1_calculate_num_examples\n",
      "\t> Saved: 26_regularSample_randPop_bupa_calculate_overall_error_calculate_overall_inverse_f1_calculate_num_examples\n",
      "\t> Saved: 27_regularSample_randPop_bupa_calculate_overall_error_calculate_overall_inverse_f1_calculate_num_examples\n",
      "\t> Saved: 28_regularSample_randPop_bupa_calculate_overall_error_calculate_overall_inverse_f1_calculate_num_examples\n",
      "\t> Saved: 29_regularSample_randPop_bupa_calculate_overall_error_calculate_overall_inverse_f1_calculate_num_examples\n",
      "\t> Saved: 30_regularSample_randPop_bupa_calculate_overall_error_calculate_overall_inverse_f1_calculate_num_examples\n",
      "\n",
      "Created 31 packages\n",
      "\t- Finished 31 optimizations\n",
      "\t> Saved: 0_overSample_biasPop_bupa_calculate_overall_error_calculate_overall_inverse_f1_calculate_num_examples\n",
      "\t> Saved: 1_overSample_biasPop_bupa_calculate_overall_error_calculate_overall_inverse_f1_calculate_num_examples\n",
      "\t> Saved: 2_overSample_biasPop_bupa_calculate_overall_error_calculate_overall_inverse_f1_calculate_num_examples\n",
      "\t> Saved: 3_overSample_biasPop_bupa_calculate_overall_error_calculate_overall_inverse_f1_calculate_num_examples\n",
      "\t> Saved: 4_overSample_biasPop_bupa_calculate_overall_error_calculate_overall_inverse_f1_calculate_num_examples\n",
      "\t> Saved: 5_overSample_biasPop_bupa_calculate_overall_error_calculate_overall_inverse_f1_calculate_num_examples\n",
      "\t> Saved: 6_overSample_biasPop_bupa_calculate_overall_error_calculate_overall_inverse_f1_calculate_num_examples\n",
      "\t> Saved: 7_overSample_biasPop_bupa_calculate_overall_error_calculate_overall_inverse_f1_calculate_num_examples\n",
      "\t> Saved: 8_overSample_biasPop_bupa_calculate_overall_error_calculate_overall_inverse_f1_calculate_num_examples\n",
      "\t> Saved: 9_overSample_biasPop_bupa_calculate_overall_error_calculate_overall_inverse_f1_calculate_num_examples\n",
      "\t> Saved: 10_overSample_biasPop_bupa_calculate_overall_error_calculate_overall_inverse_f1_calculate_num_examples\n",
      "\t> Saved: 11_overSample_biasPop_bupa_calculate_overall_error_calculate_overall_inverse_f1_calculate_num_examples\n",
      "\t> Saved: 12_overSample_biasPop_bupa_calculate_overall_error_calculate_overall_inverse_f1_calculate_num_examples\n",
      "\t> Saved: 13_overSample_biasPop_bupa_calculate_overall_error_calculate_overall_inverse_f1_calculate_num_examples\n",
      "\t> Saved: 14_overSample_biasPop_bupa_calculate_overall_error_calculate_overall_inverse_f1_calculate_num_examples\n",
      "\t> Saved: 15_overSample_biasPop_bupa_calculate_overall_error_calculate_overall_inverse_f1_calculate_num_examples\n",
      "\t> Saved: 16_overSample_biasPop_bupa_calculate_overall_error_calculate_overall_inverse_f1_calculate_num_examples\n",
      "\t> Saved: 17_overSample_biasPop_bupa_calculate_overall_error_calculate_overall_inverse_f1_calculate_num_examples\n",
      "\t> Saved: 18_overSample_biasPop_bupa_calculate_overall_error_calculate_overall_inverse_f1_calculate_num_examples\n",
      "\t> Saved: 19_overSample_biasPop_bupa_calculate_overall_error_calculate_overall_inverse_f1_calculate_num_examples\n",
      "\t> Saved: 20_overSample_biasPop_bupa_calculate_overall_error_calculate_overall_inverse_f1_calculate_num_examples\n",
      "\t> Saved: 21_overSample_biasPop_bupa_calculate_overall_error_calculate_overall_inverse_f1_calculate_num_examples\n",
      "\t> Saved: 22_overSample_biasPop_bupa_calculate_overall_error_calculate_overall_inverse_f1_calculate_num_examples\n",
      "\t> Saved: 23_overSample_biasPop_bupa_calculate_overall_error_calculate_overall_inverse_f1_calculate_num_examples\n",
      "\t> Saved: 24_overSample_biasPop_bupa_calculate_overall_error_calculate_overall_inverse_f1_calculate_num_examples\n",
      "\t> Saved: 25_overSample_biasPop_bupa_calculate_overall_error_calculate_overall_inverse_f1_calculate_num_examples\n",
      "\t> Saved: 26_overSample_biasPop_bupa_calculate_overall_error_calculate_overall_inverse_f1_calculate_num_examples\n",
      "\t> Saved: 27_overSample_biasPop_bupa_calculate_overall_error_calculate_overall_inverse_f1_calculate_num_examples\n",
      "\t> Saved: 28_overSample_biasPop_bupa_calculate_overall_error_calculate_overall_inverse_f1_calculate_num_examples\n",
      "\t> Saved: 29_overSample_biasPop_bupa_calculate_overall_error_calculate_overall_inverse_f1_calculate_num_examples\n",
      "\t> Saved: 30_overSample_biasPop_bupa_calculate_overall_error_calculate_overall_inverse_f1_calculate_num_examples\n",
      "\n",
      "Created 31 packages\n",
      "\t- Finished 31 optimizations\n",
      "\t> Saved: 0_regularSample_biasPop_bupa_calculate_overall_error_calculate_overall_inverse_f1_calculate_num_examples\n",
      "\t> Saved: 1_regularSample_biasPop_bupa_calculate_overall_error_calculate_overall_inverse_f1_calculate_num_examples\n",
      "\t> Saved: 2_regularSample_biasPop_bupa_calculate_overall_error_calculate_overall_inverse_f1_calculate_num_examples\n",
      "\t> Saved: 3_regularSample_biasPop_bupa_calculate_overall_error_calculate_overall_inverse_f1_calculate_num_examples\n",
      "\t> Saved: 4_regularSample_biasPop_bupa_calculate_overall_error_calculate_overall_inverse_f1_calculate_num_examples\n",
      "\t> Saved: 5_regularSample_biasPop_bupa_calculate_overall_error_calculate_overall_inverse_f1_calculate_num_examples\n",
      "\t> Saved: 6_regularSample_biasPop_bupa_calculate_overall_error_calculate_overall_inverse_f1_calculate_num_examples\n",
      "\t> Saved: 7_regularSample_biasPop_bupa_calculate_overall_error_calculate_overall_inverse_f1_calculate_num_examples\n",
      "\t> Saved: 8_regularSample_biasPop_bupa_calculate_overall_error_calculate_overall_inverse_f1_calculate_num_examples\n",
      "\t> Saved: 9_regularSample_biasPop_bupa_calculate_overall_error_calculate_overall_inverse_f1_calculate_num_examples\n",
      "\t> Saved: 10_regularSample_biasPop_bupa_calculate_overall_error_calculate_overall_inverse_f1_calculate_num_examples\n",
      "\t> Saved: 11_regularSample_biasPop_bupa_calculate_overall_error_calculate_overall_inverse_f1_calculate_num_examples\n",
      "\t> Saved: 12_regularSample_biasPop_bupa_calculate_overall_error_calculate_overall_inverse_f1_calculate_num_examples\n",
      "\t> Saved: 13_regularSample_biasPop_bupa_calculate_overall_error_calculate_overall_inverse_f1_calculate_num_examples\n",
      "\t> Saved: 14_regularSample_biasPop_bupa_calculate_overall_error_calculate_overall_inverse_f1_calculate_num_examples\n",
      "\t> Saved: 15_regularSample_biasPop_bupa_calculate_overall_error_calculate_overall_inverse_f1_calculate_num_examples\n",
      "\t> Saved: 16_regularSample_biasPop_bupa_calculate_overall_error_calculate_overall_inverse_f1_calculate_num_examples\n",
      "\t> Saved: 17_regularSample_biasPop_bupa_calculate_overall_error_calculate_overall_inverse_f1_calculate_num_examples\n",
      "\t> Saved: 18_regularSample_biasPop_bupa_calculate_overall_error_calculate_overall_inverse_f1_calculate_num_examples\n",
      "\t> Saved: 19_regularSample_biasPop_bupa_calculate_overall_error_calculate_overall_inverse_f1_calculate_num_examples\n",
      "\t> Saved: 20_regularSample_biasPop_bupa_calculate_overall_error_calculate_overall_inverse_f1_calculate_num_examples\n",
      "\t> Saved: 21_regularSample_biasPop_bupa_calculate_overall_error_calculate_overall_inverse_f1_calculate_num_examples\n",
      "\t> Saved: 22_regularSample_biasPop_bupa_calculate_overall_error_calculate_overall_inverse_f1_calculate_num_examples\n",
      "\t> Saved: 23_regularSample_biasPop_bupa_calculate_overall_error_calculate_overall_inverse_f1_calculate_num_examples\n",
      "\t> Saved: 24_regularSample_biasPop_bupa_calculate_overall_error_calculate_overall_inverse_f1_calculate_num_examples\n",
      "\t> Saved: 25_regularSample_biasPop_bupa_calculate_overall_error_calculate_overall_inverse_f1_calculate_num_examples\n",
      "\t> Saved: 26_regularSample_biasPop_bupa_calculate_overall_error_calculate_overall_inverse_f1_calculate_num_examples\n",
      "\t> Saved: 27_regularSample_biasPop_bupa_calculate_overall_error_calculate_overall_inverse_f1_calculate_num_examples\n",
      "\t> Saved: 28_regularSample_biasPop_bupa_calculate_overall_error_calculate_overall_inverse_f1_calculate_num_examples\n",
      "\t> Saved: 29_regularSample_biasPop_bupa_calculate_overall_error_calculate_overall_inverse_f1_calculate_num_examples\n",
      "\t> Saved: 30_regularSample_biasPop_bupa_calculate_overall_error_calculate_overall_inverse_f1_calculate_num_examples\n",
      "\n",
      "Created 31 packages\n",
      "\t- Finished 31 optimizations\n",
      "\t> Saved: 0_overSample_randPop_glass1_calculate_overall_error_calculate_overall_inverse_f1_calculate_num_examples\n",
      "\t> Saved: 1_overSample_randPop_glass1_calculate_overall_error_calculate_overall_inverse_f1_calculate_num_examples\n",
      "\t> Saved: 2_overSample_randPop_glass1_calculate_overall_error_calculate_overall_inverse_f1_calculate_num_examples\n",
      "\t> Saved: 3_overSample_randPop_glass1_calculate_overall_error_calculate_overall_inverse_f1_calculate_num_examples\n",
      "\t> Saved: 4_overSample_randPop_glass1_calculate_overall_error_calculate_overall_inverse_f1_calculate_num_examples\n",
      "\t> Saved: 5_overSample_randPop_glass1_calculate_overall_error_calculate_overall_inverse_f1_calculate_num_examples\n",
      "\t> Saved: 6_overSample_randPop_glass1_calculate_overall_error_calculate_overall_inverse_f1_calculate_num_examples\n",
      "\t> Saved: 7_overSample_randPop_glass1_calculate_overall_error_calculate_overall_inverse_f1_calculate_num_examples\n",
      "\t> Saved: 8_overSample_randPop_glass1_calculate_overall_error_calculate_overall_inverse_f1_calculate_num_examples\n",
      "\t> Saved: 9_overSample_randPop_glass1_calculate_overall_error_calculate_overall_inverse_f1_calculate_num_examples\n",
      "\t> Saved: 10_overSample_randPop_glass1_calculate_overall_error_calculate_overall_inverse_f1_calculate_num_examples\n",
      "\t> Saved: 11_overSample_randPop_glass1_calculate_overall_error_calculate_overall_inverse_f1_calculate_num_examples\n",
      "\t> Saved: 12_overSample_randPop_glass1_calculate_overall_error_calculate_overall_inverse_f1_calculate_num_examples\n",
      "\t> Saved: 13_overSample_randPop_glass1_calculate_overall_error_calculate_overall_inverse_f1_calculate_num_examples\n",
      "\t> Saved: 14_overSample_randPop_glass1_calculate_overall_error_calculate_overall_inverse_f1_calculate_num_examples\n",
      "\t> Saved: 15_overSample_randPop_glass1_calculate_overall_error_calculate_overall_inverse_f1_calculate_num_examples\n",
      "\t> Saved: 16_overSample_randPop_glass1_calculate_overall_error_calculate_overall_inverse_f1_calculate_num_examples\n",
      "\t> Saved: 17_overSample_randPop_glass1_calculate_overall_error_calculate_overall_inverse_f1_calculate_num_examples\n",
      "\t> Saved: 18_overSample_randPop_glass1_calculate_overall_error_calculate_overall_inverse_f1_calculate_num_examples\n",
      "\t> Saved: 19_overSample_randPop_glass1_calculate_overall_error_calculate_overall_inverse_f1_calculate_num_examples\n",
      "\t> Saved: 20_overSample_randPop_glass1_calculate_overall_error_calculate_overall_inverse_f1_calculate_num_examples\n",
      "\t> Saved: 21_overSample_randPop_glass1_calculate_overall_error_calculate_overall_inverse_f1_calculate_num_examples\n",
      "\t> Saved: 22_overSample_randPop_glass1_calculate_overall_error_calculate_overall_inverse_f1_calculate_num_examples\n",
      "\t> Saved: 23_overSample_randPop_glass1_calculate_overall_error_calculate_overall_inverse_f1_calculate_num_examples\n",
      "\t> Saved: 24_overSample_randPop_glass1_calculate_overall_error_calculate_overall_inverse_f1_calculate_num_examples\n",
      "\t> Saved: 25_overSample_randPop_glass1_calculate_overall_error_calculate_overall_inverse_f1_calculate_num_examples\n",
      "\t> Saved: 26_overSample_randPop_glass1_calculate_overall_error_calculate_overall_inverse_f1_calculate_num_examples\n",
      "\t> Saved: 27_overSample_randPop_glass1_calculate_overall_error_calculate_overall_inverse_f1_calculate_num_examples\n",
      "\t> Saved: 28_overSample_randPop_glass1_calculate_overall_error_calculate_overall_inverse_f1_calculate_num_examples\n",
      "\t> Saved: 29_overSample_randPop_glass1_calculate_overall_error_calculate_overall_inverse_f1_calculate_num_examples\n",
      "\t> Saved: 30_overSample_randPop_glass1_calculate_overall_error_calculate_overall_inverse_f1_calculate_num_examples\n",
      "\n",
      "Created 31 packages\n",
      "\t- Finished 31 optimizations\n",
      "\t> Saved: 0_regularSample_randPop_glass1_calculate_overall_error_calculate_overall_inverse_f1_calculate_num_examples\n",
      "\t> Saved: 1_regularSample_randPop_glass1_calculate_overall_error_calculate_overall_inverse_f1_calculate_num_examples\n",
      "\t> Saved: 2_regularSample_randPop_glass1_calculate_overall_error_calculate_overall_inverse_f1_calculate_num_examples\n",
      "\t> Saved: 3_regularSample_randPop_glass1_calculate_overall_error_calculate_overall_inverse_f1_calculate_num_examples\n",
      "\t> Saved: 4_regularSample_randPop_glass1_calculate_overall_error_calculate_overall_inverse_f1_calculate_num_examples\n",
      "\t> Saved: 5_regularSample_randPop_glass1_calculate_overall_error_calculate_overall_inverse_f1_calculate_num_examples\n",
      "\t> Saved: 6_regularSample_randPop_glass1_calculate_overall_error_calculate_overall_inverse_f1_calculate_num_examples\n",
      "\t> Saved: 7_regularSample_randPop_glass1_calculate_overall_error_calculate_overall_inverse_f1_calculate_num_examples\n",
      "\t> Saved: 8_regularSample_randPop_glass1_calculate_overall_error_calculate_overall_inverse_f1_calculate_num_examples\n",
      "\t> Saved: 9_regularSample_randPop_glass1_calculate_overall_error_calculate_overall_inverse_f1_calculate_num_examples\n",
      "\t> Saved: 10_regularSample_randPop_glass1_calculate_overall_error_calculate_overall_inverse_f1_calculate_num_examples\n",
      "\t> Saved: 11_regularSample_randPop_glass1_calculate_overall_error_calculate_overall_inverse_f1_calculate_num_examples\n",
      "\t> Saved: 12_regularSample_randPop_glass1_calculate_overall_error_calculate_overall_inverse_f1_calculate_num_examples\n",
      "\t> Saved: 13_regularSample_randPop_glass1_calculate_overall_error_calculate_overall_inverse_f1_calculate_num_examples\n",
      "\t> Saved: 14_regularSample_randPop_glass1_calculate_overall_error_calculate_overall_inverse_f1_calculate_num_examples\n",
      "\t> Saved: 15_regularSample_randPop_glass1_calculate_overall_error_calculate_overall_inverse_f1_calculate_num_examples\n",
      "\t> Saved: 16_regularSample_randPop_glass1_calculate_overall_error_calculate_overall_inverse_f1_calculate_num_examples\n",
      "\t> Saved: 17_regularSample_randPop_glass1_calculate_overall_error_calculate_overall_inverse_f1_calculate_num_examples\n",
      "\t> Saved: 18_regularSample_randPop_glass1_calculate_overall_error_calculate_overall_inverse_f1_calculate_num_examples\n",
      "\t> Saved: 19_regularSample_randPop_glass1_calculate_overall_error_calculate_overall_inverse_f1_calculate_num_examples\n",
      "\t> Saved: 20_regularSample_randPop_glass1_calculate_overall_error_calculate_overall_inverse_f1_calculate_num_examples\n",
      "\t> Saved: 21_regularSample_randPop_glass1_calculate_overall_error_calculate_overall_inverse_f1_calculate_num_examples\n",
      "\t> Saved: 22_regularSample_randPop_glass1_calculate_overall_error_calculate_overall_inverse_f1_calculate_num_examples\n",
      "\t> Saved: 23_regularSample_randPop_glass1_calculate_overall_error_calculate_overall_inverse_f1_calculate_num_examples\n",
      "\t> Saved: 24_regularSample_randPop_glass1_calculate_overall_error_calculate_overall_inverse_f1_calculate_num_examples\n",
      "\t> Saved: 25_regularSample_randPop_glass1_calculate_overall_error_calculate_overall_inverse_f1_calculate_num_examples\n",
      "\t> Saved: 26_regularSample_randPop_glass1_calculate_overall_error_calculate_overall_inverse_f1_calculate_num_examples\n",
      "\t> Saved: 27_regularSample_randPop_glass1_calculate_overall_error_calculate_overall_inverse_f1_calculate_num_examples\n",
      "\t> Saved: 28_regularSample_randPop_glass1_calculate_overall_error_calculate_overall_inverse_f1_calculate_num_examples\n",
      "\t> Saved: 29_regularSample_randPop_glass1_calculate_overall_error_calculate_overall_inverse_f1_calculate_num_examples\n",
      "\t> Saved: 30_regularSample_randPop_glass1_calculate_overall_error_calculate_overall_inverse_f1_calculate_num_examples\n",
      "\n",
      "Created 31 packages\n",
      "\t- Finished 31 optimizations\n",
      "\t> Saved: 0_overSample_biasPop_glass1_calculate_overall_error_calculate_overall_inverse_f1_calculate_num_examples\n",
      "\t> Saved: 1_overSample_biasPop_glass1_calculate_overall_error_calculate_overall_inverse_f1_calculate_num_examples\n",
      "\t> Saved: 2_overSample_biasPop_glass1_calculate_overall_error_calculate_overall_inverse_f1_calculate_num_examples\n",
      "\t> Saved: 3_overSample_biasPop_glass1_calculate_overall_error_calculate_overall_inverse_f1_calculate_num_examples\n",
      "\t> Saved: 4_overSample_biasPop_glass1_calculate_overall_error_calculate_overall_inverse_f1_calculate_num_examples\n",
      "\t> Saved: 5_overSample_biasPop_glass1_calculate_overall_error_calculate_overall_inverse_f1_calculate_num_examples\n",
      "\t> Saved: 6_overSample_biasPop_glass1_calculate_overall_error_calculate_overall_inverse_f1_calculate_num_examples\n",
      "\t> Saved: 7_overSample_biasPop_glass1_calculate_overall_error_calculate_overall_inverse_f1_calculate_num_examples\n",
      "\t> Saved: 8_overSample_biasPop_glass1_calculate_overall_error_calculate_overall_inverse_f1_calculate_num_examples\n",
      "\t> Saved: 9_overSample_biasPop_glass1_calculate_overall_error_calculate_overall_inverse_f1_calculate_num_examples\n",
      "\t> Saved: 10_overSample_biasPop_glass1_calculate_overall_error_calculate_overall_inverse_f1_calculate_num_examples\n",
      "\t> Saved: 11_overSample_biasPop_glass1_calculate_overall_error_calculate_overall_inverse_f1_calculate_num_examples\n",
      "\t> Saved: 12_overSample_biasPop_glass1_calculate_overall_error_calculate_overall_inverse_f1_calculate_num_examples\n",
      "\t> Saved: 13_overSample_biasPop_glass1_calculate_overall_error_calculate_overall_inverse_f1_calculate_num_examples\n",
      "\t> Saved: 14_overSample_biasPop_glass1_calculate_overall_error_calculate_overall_inverse_f1_calculate_num_examples\n",
      "\t> Saved: 15_overSample_biasPop_glass1_calculate_overall_error_calculate_overall_inverse_f1_calculate_num_examples\n",
      "\t> Saved: 16_overSample_biasPop_glass1_calculate_overall_error_calculate_overall_inverse_f1_calculate_num_examples\n",
      "\t> Saved: 17_overSample_biasPop_glass1_calculate_overall_error_calculate_overall_inverse_f1_calculate_num_examples\n",
      "\t> Saved: 18_overSample_biasPop_glass1_calculate_overall_error_calculate_overall_inverse_f1_calculate_num_examples\n",
      "\t> Saved: 19_overSample_biasPop_glass1_calculate_overall_error_calculate_overall_inverse_f1_calculate_num_examples\n",
      "\t> Saved: 20_overSample_biasPop_glass1_calculate_overall_error_calculate_overall_inverse_f1_calculate_num_examples\n",
      "\t> Saved: 21_overSample_biasPop_glass1_calculate_overall_error_calculate_overall_inverse_f1_calculate_num_examples\n",
      "\t> Saved: 22_overSample_biasPop_glass1_calculate_overall_error_calculate_overall_inverse_f1_calculate_num_examples\n",
      "\t> Saved: 23_overSample_biasPop_glass1_calculate_overall_error_calculate_overall_inverse_f1_calculate_num_examples\n",
      "\t> Saved: 24_overSample_biasPop_glass1_calculate_overall_error_calculate_overall_inverse_f1_calculate_num_examples\n",
      "\t> Saved: 25_overSample_biasPop_glass1_calculate_overall_error_calculate_overall_inverse_f1_calculate_num_examples\n",
      "\t> Saved: 26_overSample_biasPop_glass1_calculate_overall_error_calculate_overall_inverse_f1_calculate_num_examples\n",
      "\t> Saved: 27_overSample_biasPop_glass1_calculate_overall_error_calculate_overall_inverse_f1_calculate_num_examples\n",
      "\t> Saved: 28_overSample_biasPop_glass1_calculate_overall_error_calculate_overall_inverse_f1_calculate_num_examples\n",
      "\t> Saved: 29_overSample_biasPop_glass1_calculate_overall_error_calculate_overall_inverse_f1_calculate_num_examples\n",
      "\t> Saved: 30_overSample_biasPop_glass1_calculate_overall_error_calculate_overall_inverse_f1_calculate_num_examples\n",
      "\n",
      "Created 31 packages\n",
      "\t- Finished 31 optimizations\n",
      "\t> Saved: 0_regularSample_biasPop_glass1_calculate_overall_error_calculate_overall_inverse_f1_calculate_num_examples\n",
      "\t> Saved: 1_regularSample_biasPop_glass1_calculate_overall_error_calculate_overall_inverse_f1_calculate_num_examples\n",
      "\t> Saved: 2_regularSample_biasPop_glass1_calculate_overall_error_calculate_overall_inverse_f1_calculate_num_examples\n",
      "\t> Saved: 3_regularSample_biasPop_glass1_calculate_overall_error_calculate_overall_inverse_f1_calculate_num_examples\n",
      "\t> Saved: 4_regularSample_biasPop_glass1_calculate_overall_error_calculate_overall_inverse_f1_calculate_num_examples\n",
      "\t> Saved: 5_regularSample_biasPop_glass1_calculate_overall_error_calculate_overall_inverse_f1_calculate_num_examples\n",
      "\t> Saved: 6_regularSample_biasPop_glass1_calculate_overall_error_calculate_overall_inverse_f1_calculate_num_examples\n",
      "\t> Saved: 7_regularSample_biasPop_glass1_calculate_overall_error_calculate_overall_inverse_f1_calculate_num_examples\n",
      "\t> Saved: 8_regularSample_biasPop_glass1_calculate_overall_error_calculate_overall_inverse_f1_calculate_num_examples\n",
      "\t> Saved: 9_regularSample_biasPop_glass1_calculate_overall_error_calculate_overall_inverse_f1_calculate_num_examples\n",
      "\t> Saved: 10_regularSample_biasPop_glass1_calculate_overall_error_calculate_overall_inverse_f1_calculate_num_examples\n",
      "\t> Saved: 11_regularSample_biasPop_glass1_calculate_overall_error_calculate_overall_inverse_f1_calculate_num_examples\n",
      "\t> Saved: 12_regularSample_biasPop_glass1_calculate_overall_error_calculate_overall_inverse_f1_calculate_num_examples\n",
      "\t> Saved: 13_regularSample_biasPop_glass1_calculate_overall_error_calculate_overall_inverse_f1_calculate_num_examples\n",
      "\t> Saved: 14_regularSample_biasPop_glass1_calculate_overall_error_calculate_overall_inverse_f1_calculate_num_examples\n",
      "\t> Saved: 15_regularSample_biasPop_glass1_calculate_overall_error_calculate_overall_inverse_f1_calculate_num_examples\n",
      "\t> Saved: 16_regularSample_biasPop_glass1_calculate_overall_error_calculate_overall_inverse_f1_calculate_num_examples\n",
      "\t> Saved: 17_regularSample_biasPop_glass1_calculate_overall_error_calculate_overall_inverse_f1_calculate_num_examples\n",
      "\t> Saved: 18_regularSample_biasPop_glass1_calculate_overall_error_calculate_overall_inverse_f1_calculate_num_examples\n",
      "\t> Saved: 19_regularSample_biasPop_glass1_calculate_overall_error_calculate_overall_inverse_f1_calculate_num_examples\n",
      "\t> Saved: 20_regularSample_biasPop_glass1_calculate_overall_error_calculate_overall_inverse_f1_calculate_num_examples\n",
      "\t> Saved: 21_regularSample_biasPop_glass1_calculate_overall_error_calculate_overall_inverse_f1_calculate_num_examples\n",
      "\t> Saved: 22_regularSample_biasPop_glass1_calculate_overall_error_calculate_overall_inverse_f1_calculate_num_examples\n",
      "\t> Saved: 23_regularSample_biasPop_glass1_calculate_overall_error_calculate_overall_inverse_f1_calculate_num_examples\n",
      "\t> Saved: 24_regularSample_biasPop_glass1_calculate_overall_error_calculate_overall_inverse_f1_calculate_num_examples\n",
      "\t> Saved: 25_regularSample_biasPop_glass1_calculate_overall_error_calculate_overall_inverse_f1_calculate_num_examples\n",
      "\t> Saved: 26_regularSample_biasPop_glass1_calculate_overall_error_calculate_overall_inverse_f1_calculate_num_examples\n",
      "\t> Saved: 27_regularSample_biasPop_glass1_calculate_overall_error_calculate_overall_inverse_f1_calculate_num_examples\n",
      "\t> Saved: 28_regularSample_biasPop_glass1_calculate_overall_error_calculate_overall_inverse_f1_calculate_num_examples\n",
      "\t> Saved: 29_regularSample_biasPop_glass1_calculate_overall_error_calculate_overall_inverse_f1_calculate_num_examples\n",
      "\t> Saved: 30_regularSample_biasPop_glass1_calculate_overall_error_calculate_overall_inverse_f1_calculate_num_examples\n",
      "\n",
      "Created 31 packages\n",
      "\t- Finished 31 optimizations\n",
      "\t> Saved: 0_overSample_randPop_pima_calculate_overall_error_calculate_overall_inverse_f1_calculate_num_examples\n",
      "\t> Saved: 1_overSample_randPop_pima_calculate_overall_error_calculate_overall_inverse_f1_calculate_num_examples\n",
      "\t> Saved: 2_overSample_randPop_pima_calculate_overall_error_calculate_overall_inverse_f1_calculate_num_examples\n",
      "\t> Saved: 3_overSample_randPop_pima_calculate_overall_error_calculate_overall_inverse_f1_calculate_num_examples\n",
      "\t> Saved: 4_overSample_randPop_pima_calculate_overall_error_calculate_overall_inverse_f1_calculate_num_examples\n",
      "\t> Saved: 5_overSample_randPop_pima_calculate_overall_error_calculate_overall_inverse_f1_calculate_num_examples\n",
      "\t> Saved: 6_overSample_randPop_pima_calculate_overall_error_calculate_overall_inverse_f1_calculate_num_examples\n",
      "\t> Saved: 7_overSample_randPop_pima_calculate_overall_error_calculate_overall_inverse_f1_calculate_num_examples\n",
      "\t> Saved: 8_overSample_randPop_pima_calculate_overall_error_calculate_overall_inverse_f1_calculate_num_examples\n",
      "\t> Saved: 9_overSample_randPop_pima_calculate_overall_error_calculate_overall_inverse_f1_calculate_num_examples\n",
      "\t> Saved: 10_overSample_randPop_pima_calculate_overall_error_calculate_overall_inverse_f1_calculate_num_examples\n",
      "\t> Saved: 11_overSample_randPop_pima_calculate_overall_error_calculate_overall_inverse_f1_calculate_num_examples\n",
      "\t> Saved: 12_overSample_randPop_pima_calculate_overall_error_calculate_overall_inverse_f1_calculate_num_examples\n",
      "\t> Saved: 13_overSample_randPop_pima_calculate_overall_error_calculate_overall_inverse_f1_calculate_num_examples\n",
      "\t> Saved: 14_overSample_randPop_pima_calculate_overall_error_calculate_overall_inverse_f1_calculate_num_examples\n",
      "\t> Saved: 15_overSample_randPop_pima_calculate_overall_error_calculate_overall_inverse_f1_calculate_num_examples\n",
      "\t> Saved: 16_overSample_randPop_pima_calculate_overall_error_calculate_overall_inverse_f1_calculate_num_examples\n",
      "\t> Saved: 17_overSample_randPop_pima_calculate_overall_error_calculate_overall_inverse_f1_calculate_num_examples\n",
      "\t> Saved: 18_overSample_randPop_pima_calculate_overall_error_calculate_overall_inverse_f1_calculate_num_examples\n",
      "\t> Saved: 19_overSample_randPop_pima_calculate_overall_error_calculate_overall_inverse_f1_calculate_num_examples\n",
      "\t> Saved: 20_overSample_randPop_pima_calculate_overall_error_calculate_overall_inverse_f1_calculate_num_examples\n",
      "\t> Saved: 21_overSample_randPop_pima_calculate_overall_error_calculate_overall_inverse_f1_calculate_num_examples\n",
      "\t> Saved: 22_overSample_randPop_pima_calculate_overall_error_calculate_overall_inverse_f1_calculate_num_examples\n",
      "\t> Saved: 23_overSample_randPop_pima_calculate_overall_error_calculate_overall_inverse_f1_calculate_num_examples\n",
      "\t> Saved: 24_overSample_randPop_pima_calculate_overall_error_calculate_overall_inverse_f1_calculate_num_examples\n",
      "\t> Saved: 25_overSample_randPop_pima_calculate_overall_error_calculate_overall_inverse_f1_calculate_num_examples\n",
      "\t> Saved: 26_overSample_randPop_pima_calculate_overall_error_calculate_overall_inverse_f1_calculate_num_examples\n",
      "\t> Saved: 27_overSample_randPop_pima_calculate_overall_error_calculate_overall_inverse_f1_calculate_num_examples\n",
      "\t> Saved: 28_overSample_randPop_pima_calculate_overall_error_calculate_overall_inverse_f1_calculate_num_examples\n",
      "\t> Saved: 29_overSample_randPop_pima_calculate_overall_error_calculate_overall_inverse_f1_calculate_num_examples\n",
      "\t> Saved: 30_overSample_randPop_pima_calculate_overall_error_calculate_overall_inverse_f1_calculate_num_examples\n",
      "\n",
      "Created 31 packages\n",
      "\t- Finished 31 optimizations\n",
      "\t> Saved: 0_regularSample_randPop_pima_calculate_overall_error_calculate_overall_inverse_f1_calculate_num_examples\n",
      "\t> Saved: 1_regularSample_randPop_pima_calculate_overall_error_calculate_overall_inverse_f1_calculate_num_examples\n",
      "\t> Saved: 2_regularSample_randPop_pima_calculate_overall_error_calculate_overall_inverse_f1_calculate_num_examples\n",
      "\t> Saved: 3_regularSample_randPop_pima_calculate_overall_error_calculate_overall_inverse_f1_calculate_num_examples\n",
      "\t> Saved: 4_regularSample_randPop_pima_calculate_overall_error_calculate_overall_inverse_f1_calculate_num_examples\n",
      "\t> Saved: 5_regularSample_randPop_pima_calculate_overall_error_calculate_overall_inverse_f1_calculate_num_examples\n",
      "\t> Saved: 6_regularSample_randPop_pima_calculate_overall_error_calculate_overall_inverse_f1_calculate_num_examples\n",
      "\t> Saved: 7_regularSample_randPop_pima_calculate_overall_error_calculate_overall_inverse_f1_calculate_num_examples\n",
      "\t> Saved: 8_regularSample_randPop_pima_calculate_overall_error_calculate_overall_inverse_f1_calculate_num_examples\n",
      "\t> Saved: 9_regularSample_randPop_pima_calculate_overall_error_calculate_overall_inverse_f1_calculate_num_examples\n",
      "\t> Saved: 10_regularSample_randPop_pima_calculate_overall_error_calculate_overall_inverse_f1_calculate_num_examples\n",
      "\t> Saved: 11_regularSample_randPop_pima_calculate_overall_error_calculate_overall_inverse_f1_calculate_num_examples\n",
      "\t> Saved: 12_regularSample_randPop_pima_calculate_overall_error_calculate_overall_inverse_f1_calculate_num_examples\n",
      "\t> Saved: 13_regularSample_randPop_pima_calculate_overall_error_calculate_overall_inverse_f1_calculate_num_examples\n",
      "\t> Saved: 14_regularSample_randPop_pima_calculate_overall_error_calculate_overall_inverse_f1_calculate_num_examples\n",
      "\t> Saved: 15_regularSample_randPop_pima_calculate_overall_error_calculate_overall_inverse_f1_calculate_num_examples\n",
      "\t> Saved: 16_regularSample_randPop_pima_calculate_overall_error_calculate_overall_inverse_f1_calculate_num_examples\n",
      "\t> Saved: 17_regularSample_randPop_pima_calculate_overall_error_calculate_overall_inverse_f1_calculate_num_examples\n",
      "\t> Saved: 18_regularSample_randPop_pima_calculate_overall_error_calculate_overall_inverse_f1_calculate_num_examples\n",
      "\t> Saved: 19_regularSample_randPop_pima_calculate_overall_error_calculate_overall_inverse_f1_calculate_num_examples\n",
      "\t> Saved: 20_regularSample_randPop_pima_calculate_overall_error_calculate_overall_inverse_f1_calculate_num_examples\n",
      "\t> Saved: 21_regularSample_randPop_pima_calculate_overall_error_calculate_overall_inverse_f1_calculate_num_examples\n",
      "\t> Saved: 22_regularSample_randPop_pima_calculate_overall_error_calculate_overall_inverse_f1_calculate_num_examples\n",
      "\t> Saved: 23_regularSample_randPop_pima_calculate_overall_error_calculate_overall_inverse_f1_calculate_num_examples\n",
      "\t> Saved: 24_regularSample_randPop_pima_calculate_overall_error_calculate_overall_inverse_f1_calculate_num_examples\n",
      "\t> Saved: 25_regularSample_randPop_pima_calculate_overall_error_calculate_overall_inverse_f1_calculate_num_examples\n",
      "\t> Saved: 26_regularSample_randPop_pima_calculate_overall_error_calculate_overall_inverse_f1_calculate_num_examples\n",
      "\t> Saved: 27_regularSample_randPop_pima_calculate_overall_error_calculate_overall_inverse_f1_calculate_num_examples\n",
      "\t> Saved: 28_regularSample_randPop_pima_calculate_overall_error_calculate_overall_inverse_f1_calculate_num_examples\n",
      "\t> Saved: 29_regularSample_randPop_pima_calculate_overall_error_calculate_overall_inverse_f1_calculate_num_examples\n",
      "\t> Saved: 30_regularSample_randPop_pima_calculate_overall_error_calculate_overall_inverse_f1_calculate_num_examples\n",
      "\n",
      "Created 31 packages\n",
      "\t- Finished 31 optimizations\n",
      "\t> Saved: 0_overSample_biasPop_pima_calculate_overall_error_calculate_overall_inverse_f1_calculate_num_examples\n",
      "\t> Saved: 1_overSample_biasPop_pima_calculate_overall_error_calculate_overall_inverse_f1_calculate_num_examples\n",
      "\t> Saved: 2_overSample_biasPop_pima_calculate_overall_error_calculate_overall_inverse_f1_calculate_num_examples\n",
      "\t> Saved: 3_overSample_biasPop_pima_calculate_overall_error_calculate_overall_inverse_f1_calculate_num_examples\n",
      "\t> Saved: 4_overSample_biasPop_pima_calculate_overall_error_calculate_overall_inverse_f1_calculate_num_examples\n",
      "\t> Saved: 5_overSample_biasPop_pima_calculate_overall_error_calculate_overall_inverse_f1_calculate_num_examples\n",
      "\t> Saved: 6_overSample_biasPop_pima_calculate_overall_error_calculate_overall_inverse_f1_calculate_num_examples\n",
      "\t> Saved: 7_overSample_biasPop_pima_calculate_overall_error_calculate_overall_inverse_f1_calculate_num_examples\n",
      "\t> Saved: 8_overSample_biasPop_pima_calculate_overall_error_calculate_overall_inverse_f1_calculate_num_examples\n",
      "\t> Saved: 9_overSample_biasPop_pima_calculate_overall_error_calculate_overall_inverse_f1_calculate_num_examples\n",
      "\t> Saved: 10_overSample_biasPop_pima_calculate_overall_error_calculate_overall_inverse_f1_calculate_num_examples\n",
      "\t> Saved: 11_overSample_biasPop_pima_calculate_overall_error_calculate_overall_inverse_f1_calculate_num_examples\n",
      "\t> Saved: 12_overSample_biasPop_pima_calculate_overall_error_calculate_overall_inverse_f1_calculate_num_examples\n",
      "\t> Saved: 13_overSample_biasPop_pima_calculate_overall_error_calculate_overall_inverse_f1_calculate_num_examples\n",
      "\t> Saved: 14_overSample_biasPop_pima_calculate_overall_error_calculate_overall_inverse_f1_calculate_num_examples\n",
      "\t> Saved: 15_overSample_biasPop_pima_calculate_overall_error_calculate_overall_inverse_f1_calculate_num_examples\n",
      "\t> Saved: 16_overSample_biasPop_pima_calculate_overall_error_calculate_overall_inverse_f1_calculate_num_examples\n",
      "\t> Saved: 17_overSample_biasPop_pima_calculate_overall_error_calculate_overall_inverse_f1_calculate_num_examples\n",
      "\t> Saved: 18_overSample_biasPop_pima_calculate_overall_error_calculate_overall_inverse_f1_calculate_num_examples\n",
      "\t> Saved: 19_overSample_biasPop_pima_calculate_overall_error_calculate_overall_inverse_f1_calculate_num_examples\n",
      "\t> Saved: 20_overSample_biasPop_pima_calculate_overall_error_calculate_overall_inverse_f1_calculate_num_examples\n",
      "\t> Saved: 21_overSample_biasPop_pima_calculate_overall_error_calculate_overall_inverse_f1_calculate_num_examples\n",
      "\t> Saved: 22_overSample_biasPop_pima_calculate_overall_error_calculate_overall_inverse_f1_calculate_num_examples\n",
      "\t> Saved: 23_overSample_biasPop_pima_calculate_overall_error_calculate_overall_inverse_f1_calculate_num_examples\n",
      "\t> Saved: 24_overSample_biasPop_pima_calculate_overall_error_calculate_overall_inverse_f1_calculate_num_examples\n",
      "\t> Saved: 25_overSample_biasPop_pima_calculate_overall_error_calculate_overall_inverse_f1_calculate_num_examples\n",
      "\t> Saved: 26_overSample_biasPop_pima_calculate_overall_error_calculate_overall_inverse_f1_calculate_num_examples\n",
      "\t> Saved: 27_overSample_biasPop_pima_calculate_overall_error_calculate_overall_inverse_f1_calculate_num_examples\n",
      "\t> Saved: 28_overSample_biasPop_pima_calculate_overall_error_calculate_overall_inverse_f1_calculate_num_examples\n",
      "\t> Saved: 29_overSample_biasPop_pima_calculate_overall_error_calculate_overall_inverse_f1_calculate_num_examples\n",
      "\t> Saved: 30_overSample_biasPop_pima_calculate_overall_error_calculate_overall_inverse_f1_calculate_num_examples\n",
      "\n",
      "Created 31 packages\n",
      "\t- Finished 31 optimizations\n",
      "\t> Saved: 0_regularSample_biasPop_pima_calculate_overall_error_calculate_overall_inverse_f1_calculate_num_examples\n",
      "\t> Saved: 1_regularSample_biasPop_pima_calculate_overall_error_calculate_overall_inverse_f1_calculate_num_examples\n",
      "\t> Saved: 2_regularSample_biasPop_pima_calculate_overall_error_calculate_overall_inverse_f1_calculate_num_examples\n",
      "\t> Saved: 3_regularSample_biasPop_pima_calculate_overall_error_calculate_overall_inverse_f1_calculate_num_examples\n",
      "\t> Saved: 4_regularSample_biasPop_pima_calculate_overall_error_calculate_overall_inverse_f1_calculate_num_examples\n",
      "\t> Saved: 5_regularSample_biasPop_pima_calculate_overall_error_calculate_overall_inverse_f1_calculate_num_examples\n",
      "\t> Saved: 6_regularSample_biasPop_pima_calculate_overall_error_calculate_overall_inverse_f1_calculate_num_examples\n",
      "\t> Saved: 7_regularSample_biasPop_pima_calculate_overall_error_calculate_overall_inverse_f1_calculate_num_examples\n",
      "\t> Saved: 8_regularSample_biasPop_pima_calculate_overall_error_calculate_overall_inverse_f1_calculate_num_examples\n",
      "\t> Saved: 9_regularSample_biasPop_pima_calculate_overall_error_calculate_overall_inverse_f1_calculate_num_examples\n",
      "\t> Saved: 10_regularSample_biasPop_pima_calculate_overall_error_calculate_overall_inverse_f1_calculate_num_examples\n",
      "\t> Saved: 11_regularSample_biasPop_pima_calculate_overall_error_calculate_overall_inverse_f1_calculate_num_examples\n",
      "\t> Saved: 12_regularSample_biasPop_pima_calculate_overall_error_calculate_overall_inverse_f1_calculate_num_examples\n",
      "\t> Saved: 13_regularSample_biasPop_pima_calculate_overall_error_calculate_overall_inverse_f1_calculate_num_examples\n",
      "\t> Saved: 14_regularSample_biasPop_pima_calculate_overall_error_calculate_overall_inverse_f1_calculate_num_examples\n",
      "\t> Saved: 15_regularSample_biasPop_pima_calculate_overall_error_calculate_overall_inverse_f1_calculate_num_examples\n",
      "\t> Saved: 16_regularSample_biasPop_pima_calculate_overall_error_calculate_overall_inverse_f1_calculate_num_examples\n",
      "\t> Saved: 17_regularSample_biasPop_pima_calculate_overall_error_calculate_overall_inverse_f1_calculate_num_examples\n",
      "\t> Saved: 18_regularSample_biasPop_pima_calculate_overall_error_calculate_overall_inverse_f1_calculate_num_examples\n",
      "\t> Saved: 19_regularSample_biasPop_pima_calculate_overall_error_calculate_overall_inverse_f1_calculate_num_examples\n",
      "\t> Saved: 20_regularSample_biasPop_pima_calculate_overall_error_calculate_overall_inverse_f1_calculate_num_examples\n",
      "\t> Saved: 21_regularSample_biasPop_pima_calculate_overall_error_calculate_overall_inverse_f1_calculate_num_examples\n",
      "\t> Saved: 22_regularSample_biasPop_pima_calculate_overall_error_calculate_overall_inverse_f1_calculate_num_examples\n",
      "\t> Saved: 23_regularSample_biasPop_pima_calculate_overall_error_calculate_overall_inverse_f1_calculate_num_examples\n",
      "\t> Saved: 24_regularSample_biasPop_pima_calculate_overall_error_calculate_overall_inverse_f1_calculate_num_examples\n",
      "\t> Saved: 25_regularSample_biasPop_pima_calculate_overall_error_calculate_overall_inverse_f1_calculate_num_examples\n",
      "\t> Saved: 26_regularSample_biasPop_pima_calculate_overall_error_calculate_overall_inverse_f1_calculate_num_examples\n",
      "\t> Saved: 27_regularSample_biasPop_pima_calculate_overall_error_calculate_overall_inverse_f1_calculate_num_examples\n",
      "\t> Saved: 28_regularSample_biasPop_pima_calculate_overall_error_calculate_overall_inverse_f1_calculate_num_examples\n",
      "\t> Saved: 29_regularSample_biasPop_pima_calculate_overall_error_calculate_overall_inverse_f1_calculate_num_examples\n",
      "\t> Saved: 30_regularSample_biasPop_pima_calculate_overall_error_calculate_overall_inverse_f1_calculate_num_examples\n",
      "\n",
      "Created 31 packages\n",
      "\t- Finished 31 optimizations\n",
      "\t> Saved: 0_overSample_randPop_segment0_calculate_overall_error_calculate_overall_inverse_f1_calculate_num_examples\n",
      "\t> Saved: 1_overSample_randPop_segment0_calculate_overall_error_calculate_overall_inverse_f1_calculate_num_examples\n",
      "\t> Saved: 2_overSample_randPop_segment0_calculate_overall_error_calculate_overall_inverse_f1_calculate_num_examples\n",
      "\t> Saved: 3_overSample_randPop_segment0_calculate_overall_error_calculate_overall_inverse_f1_calculate_num_examples\n",
      "\t> Saved: 4_overSample_randPop_segment0_calculate_overall_error_calculate_overall_inverse_f1_calculate_num_examples\n",
      "\t> Saved: 5_overSample_randPop_segment0_calculate_overall_error_calculate_overall_inverse_f1_calculate_num_examples\n",
      "\t> Saved: 6_overSample_randPop_segment0_calculate_overall_error_calculate_overall_inverse_f1_calculate_num_examples\n",
      "\t> Saved: 7_overSample_randPop_segment0_calculate_overall_error_calculate_overall_inverse_f1_calculate_num_examples\n",
      "\t> Saved: 8_overSample_randPop_segment0_calculate_overall_error_calculate_overall_inverse_f1_calculate_num_examples\n",
      "\t> Saved: 9_overSample_randPop_segment0_calculate_overall_error_calculate_overall_inverse_f1_calculate_num_examples\n",
      "\t> Saved: 10_overSample_randPop_segment0_calculate_overall_error_calculate_overall_inverse_f1_calculate_num_examples\n",
      "\t> Saved: 11_overSample_randPop_segment0_calculate_overall_error_calculate_overall_inverse_f1_calculate_num_examples\n",
      "\t> Saved: 12_overSample_randPop_segment0_calculate_overall_error_calculate_overall_inverse_f1_calculate_num_examples\n",
      "\t> Saved: 13_overSample_randPop_segment0_calculate_overall_error_calculate_overall_inverse_f1_calculate_num_examples\n",
      "\t> Saved: 14_overSample_randPop_segment0_calculate_overall_error_calculate_overall_inverse_f1_calculate_num_examples\n",
      "\t> Saved: 15_overSample_randPop_segment0_calculate_overall_error_calculate_overall_inverse_f1_calculate_num_examples\n",
      "\t> Saved: 16_overSample_randPop_segment0_calculate_overall_error_calculate_overall_inverse_f1_calculate_num_examples\n",
      "\t> Saved: 17_overSample_randPop_segment0_calculate_overall_error_calculate_overall_inverse_f1_calculate_num_examples\n",
      "\t> Saved: 18_overSample_randPop_segment0_calculate_overall_error_calculate_overall_inverse_f1_calculate_num_examples\n",
      "\t> Saved: 19_overSample_randPop_segment0_calculate_overall_error_calculate_overall_inverse_f1_calculate_num_examples\n",
      "\t> Saved: 20_overSample_randPop_segment0_calculate_overall_error_calculate_overall_inverse_f1_calculate_num_examples\n",
      "\t> Saved: 21_overSample_randPop_segment0_calculate_overall_error_calculate_overall_inverse_f1_calculate_num_examples\n",
      "\t> Saved: 22_overSample_randPop_segment0_calculate_overall_error_calculate_overall_inverse_f1_calculate_num_examples\n",
      "\t> Saved: 23_overSample_randPop_segment0_calculate_overall_error_calculate_overall_inverse_f1_calculate_num_examples\n",
      "\t> Saved: 24_overSample_randPop_segment0_calculate_overall_error_calculate_overall_inverse_f1_calculate_num_examples\n",
      "\t> Saved: 25_overSample_randPop_segment0_calculate_overall_error_calculate_overall_inverse_f1_calculate_num_examples\n",
      "\t> Saved: 26_overSample_randPop_segment0_calculate_overall_error_calculate_overall_inverse_f1_calculate_num_examples\n",
      "\t> Saved: 27_overSample_randPop_segment0_calculate_overall_error_calculate_overall_inverse_f1_calculate_num_examples\n",
      "\t> Saved: 28_overSample_randPop_segment0_calculate_overall_error_calculate_overall_inverse_f1_calculate_num_examples\n",
      "\t> Saved: 29_overSample_randPop_segment0_calculate_overall_error_calculate_overall_inverse_f1_calculate_num_examples\n",
      "\t> Saved: 30_overSample_randPop_segment0_calculate_overall_error_calculate_overall_inverse_f1_calculate_num_examples\n",
      "\n",
      "Created 31 packages\n",
      "\t- Finished 31 optimizations\n",
      "\t> Saved: 0_regularSample_randPop_segment0_calculate_overall_error_calculate_overall_inverse_f1_calculate_num_examples\n",
      "\t> Saved: 1_regularSample_randPop_segment0_calculate_overall_error_calculate_overall_inverse_f1_calculate_num_examples\n",
      "\t> Saved: 2_regularSample_randPop_segment0_calculate_overall_error_calculate_overall_inverse_f1_calculate_num_examples\n",
      "\t> Saved: 3_regularSample_randPop_segment0_calculate_overall_error_calculate_overall_inverse_f1_calculate_num_examples\n",
      "\t> Saved: 4_regularSample_randPop_segment0_calculate_overall_error_calculate_overall_inverse_f1_calculate_num_examples\n",
      "\t> Saved: 5_regularSample_randPop_segment0_calculate_overall_error_calculate_overall_inverse_f1_calculate_num_examples\n",
      "\t> Saved: 6_regularSample_randPop_segment0_calculate_overall_error_calculate_overall_inverse_f1_calculate_num_examples\n",
      "\t> Saved: 7_regularSample_randPop_segment0_calculate_overall_error_calculate_overall_inverse_f1_calculate_num_examples\n",
      "\t> Saved: 8_regularSample_randPop_segment0_calculate_overall_error_calculate_overall_inverse_f1_calculate_num_examples\n",
      "\t> Saved: 9_regularSample_randPop_segment0_calculate_overall_error_calculate_overall_inverse_f1_calculate_num_examples\n",
      "\t> Saved: 10_regularSample_randPop_segment0_calculate_overall_error_calculate_overall_inverse_f1_calculate_num_examples\n",
      "\t> Saved: 11_regularSample_randPop_segment0_calculate_overall_error_calculate_overall_inverse_f1_calculate_num_examples\n",
      "\t> Saved: 12_regularSample_randPop_segment0_calculate_overall_error_calculate_overall_inverse_f1_calculate_num_examples\n",
      "\t> Saved: 13_regularSample_randPop_segment0_calculate_overall_error_calculate_overall_inverse_f1_calculate_num_examples\n",
      "\t> Saved: 14_regularSample_randPop_segment0_calculate_overall_error_calculate_overall_inverse_f1_calculate_num_examples\n",
      "\t> Saved: 15_regularSample_randPop_segment0_calculate_overall_error_calculate_overall_inverse_f1_calculate_num_examples\n",
      "\t> Saved: 16_regularSample_randPop_segment0_calculate_overall_error_calculate_overall_inverse_f1_calculate_num_examples\n",
      "\t> Saved: 17_regularSample_randPop_segment0_calculate_overall_error_calculate_overall_inverse_f1_calculate_num_examples\n",
      "\t> Saved: 18_regularSample_randPop_segment0_calculate_overall_error_calculate_overall_inverse_f1_calculate_num_examples\n",
      "\t> Saved: 19_regularSample_randPop_segment0_calculate_overall_error_calculate_overall_inverse_f1_calculate_num_examples\n",
      "\t> Saved: 20_regularSample_randPop_segment0_calculate_overall_error_calculate_overall_inverse_f1_calculate_num_examples\n",
      "\t> Saved: 21_regularSample_randPop_segment0_calculate_overall_error_calculate_overall_inverse_f1_calculate_num_examples\n",
      "\t> Saved: 22_regularSample_randPop_segment0_calculate_overall_error_calculate_overall_inverse_f1_calculate_num_examples\n",
      "\t> Saved: 23_regularSample_randPop_segment0_calculate_overall_error_calculate_overall_inverse_f1_calculate_num_examples\n",
      "\t> Saved: 24_regularSample_randPop_segment0_calculate_overall_error_calculate_overall_inverse_f1_calculate_num_examples\n",
      "\t> Saved: 25_regularSample_randPop_segment0_calculate_overall_error_calculate_overall_inverse_f1_calculate_num_examples\n",
      "\t> Saved: 26_regularSample_randPop_segment0_calculate_overall_error_calculate_overall_inverse_f1_calculate_num_examples\n",
      "\t> Saved: 27_regularSample_randPop_segment0_calculate_overall_error_calculate_overall_inverse_f1_calculate_num_examples\n",
      "\t> Saved: 28_regularSample_randPop_segment0_calculate_overall_error_calculate_overall_inverse_f1_calculate_num_examples\n",
      "\t> Saved: 29_regularSample_randPop_segment0_calculate_overall_error_calculate_overall_inverse_f1_calculate_num_examples\n",
      "\t> Saved: 30_regularSample_randPop_segment0_calculate_overall_error_calculate_overall_inverse_f1_calculate_num_examples\n",
      "\n",
      "Created 31 packages\n",
      "\t- Finished 31 optimizations\n",
      "\t> Saved: 0_overSample_biasPop_segment0_calculate_overall_error_calculate_overall_inverse_f1_calculate_num_examples\n",
      "\t> Saved: 1_overSample_biasPop_segment0_calculate_overall_error_calculate_overall_inverse_f1_calculate_num_examples\n",
      "\t> Saved: 2_overSample_biasPop_segment0_calculate_overall_error_calculate_overall_inverse_f1_calculate_num_examples\n",
      "\t> Saved: 3_overSample_biasPop_segment0_calculate_overall_error_calculate_overall_inverse_f1_calculate_num_examples\n",
      "\t> Saved: 4_overSample_biasPop_segment0_calculate_overall_error_calculate_overall_inverse_f1_calculate_num_examples\n",
      "\t> Saved: 5_overSample_biasPop_segment0_calculate_overall_error_calculate_overall_inverse_f1_calculate_num_examples\n",
      "\t> Saved: 6_overSample_biasPop_segment0_calculate_overall_error_calculate_overall_inverse_f1_calculate_num_examples\n",
      "\t> Saved: 7_overSample_biasPop_segment0_calculate_overall_error_calculate_overall_inverse_f1_calculate_num_examples\n",
      "\t> Saved: 8_overSample_biasPop_segment0_calculate_overall_error_calculate_overall_inverse_f1_calculate_num_examples\n",
      "\t> Saved: 9_overSample_biasPop_segment0_calculate_overall_error_calculate_overall_inverse_f1_calculate_num_examples\n",
      "\t> Saved: 10_overSample_biasPop_segment0_calculate_overall_error_calculate_overall_inverse_f1_calculate_num_examples\n",
      "\t> Saved: 11_overSample_biasPop_segment0_calculate_overall_error_calculate_overall_inverse_f1_calculate_num_examples\n",
      "\t> Saved: 12_overSample_biasPop_segment0_calculate_overall_error_calculate_overall_inverse_f1_calculate_num_examples\n",
      "\t> Saved: 13_overSample_biasPop_segment0_calculate_overall_error_calculate_overall_inverse_f1_calculate_num_examples\n",
      "\t> Saved: 14_overSample_biasPop_segment0_calculate_overall_error_calculate_overall_inverse_f1_calculate_num_examples\n",
      "\t> Saved: 15_overSample_biasPop_segment0_calculate_overall_error_calculate_overall_inverse_f1_calculate_num_examples\n",
      "\t> Saved: 16_overSample_biasPop_segment0_calculate_overall_error_calculate_overall_inverse_f1_calculate_num_examples\n",
      "\t> Saved: 17_overSample_biasPop_segment0_calculate_overall_error_calculate_overall_inverse_f1_calculate_num_examples\n",
      "\t> Saved: 18_overSample_biasPop_segment0_calculate_overall_error_calculate_overall_inverse_f1_calculate_num_examples\n",
      "\t> Saved: 19_overSample_biasPop_segment0_calculate_overall_error_calculate_overall_inverse_f1_calculate_num_examples\n",
      "\t> Saved: 20_overSample_biasPop_segment0_calculate_overall_error_calculate_overall_inverse_f1_calculate_num_examples\n",
      "\t> Saved: 21_overSample_biasPop_segment0_calculate_overall_error_calculate_overall_inverse_f1_calculate_num_examples\n",
      "\t> Saved: 22_overSample_biasPop_segment0_calculate_overall_error_calculate_overall_inverse_f1_calculate_num_examples\n",
      "\t> Saved: 23_overSample_biasPop_segment0_calculate_overall_error_calculate_overall_inverse_f1_calculate_num_examples\n",
      "\t> Saved: 24_overSample_biasPop_segment0_calculate_overall_error_calculate_overall_inverse_f1_calculate_num_examples\n",
      "\t> Saved: 25_overSample_biasPop_segment0_calculate_overall_error_calculate_overall_inverse_f1_calculate_num_examples\n",
      "\t> Saved: 26_overSample_biasPop_segment0_calculate_overall_error_calculate_overall_inverse_f1_calculate_num_examples\n",
      "\t> Saved: 27_overSample_biasPop_segment0_calculate_overall_error_calculate_overall_inverse_f1_calculate_num_examples\n",
      "\t> Saved: 28_overSample_biasPop_segment0_calculate_overall_error_calculate_overall_inverse_f1_calculate_num_examples\n",
      "\t> Saved: 29_overSample_biasPop_segment0_calculate_overall_error_calculate_overall_inverse_f1_calculate_num_examples\n",
      "\t> Saved: 30_overSample_biasPop_segment0_calculate_overall_error_calculate_overall_inverse_f1_calculate_num_examples\n",
      "\n",
      "Created 31 packages\n",
      "\t- Finished 31 optimizations\n",
      "\t> Saved: 0_regularSample_biasPop_segment0_calculate_overall_error_calculate_overall_inverse_f1_calculate_num_examples\n",
      "\t> Saved: 1_regularSample_biasPop_segment0_calculate_overall_error_calculate_overall_inverse_f1_calculate_num_examples\n",
      "\t> Saved: 2_regularSample_biasPop_segment0_calculate_overall_error_calculate_overall_inverse_f1_calculate_num_examples\n",
      "\t> Saved: 3_regularSample_biasPop_segment0_calculate_overall_error_calculate_overall_inverse_f1_calculate_num_examples\n",
      "\t> Saved: 4_regularSample_biasPop_segment0_calculate_overall_error_calculate_overall_inverse_f1_calculate_num_examples\n",
      "\t> Saved: 5_regularSample_biasPop_segment0_calculate_overall_error_calculate_overall_inverse_f1_calculate_num_examples\n",
      "\t> Saved: 6_regularSample_biasPop_segment0_calculate_overall_error_calculate_overall_inverse_f1_calculate_num_examples\n",
      "\t> Saved: 7_regularSample_biasPop_segment0_calculate_overall_error_calculate_overall_inverse_f1_calculate_num_examples\n",
      "\t> Saved: 8_regularSample_biasPop_segment0_calculate_overall_error_calculate_overall_inverse_f1_calculate_num_examples\n",
      "\t> Saved: 9_regularSample_biasPop_segment0_calculate_overall_error_calculate_overall_inverse_f1_calculate_num_examples\n",
      "\t> Saved: 10_regularSample_biasPop_segment0_calculate_overall_error_calculate_overall_inverse_f1_calculate_num_examples\n",
      "\t> Saved: 11_regularSample_biasPop_segment0_calculate_overall_error_calculate_overall_inverse_f1_calculate_num_examples\n",
      "\t> Saved: 12_regularSample_biasPop_segment0_calculate_overall_error_calculate_overall_inverse_f1_calculate_num_examples\n",
      "\t> Saved: 13_regularSample_biasPop_segment0_calculate_overall_error_calculate_overall_inverse_f1_calculate_num_examples\n",
      "\t> Saved: 14_regularSample_biasPop_segment0_calculate_overall_error_calculate_overall_inverse_f1_calculate_num_examples\n",
      "\t> Saved: 15_regularSample_biasPop_segment0_calculate_overall_error_calculate_overall_inverse_f1_calculate_num_examples\n",
      "\t> Saved: 16_regularSample_biasPop_segment0_calculate_overall_error_calculate_overall_inverse_f1_calculate_num_examples\n",
      "\t> Saved: 17_regularSample_biasPop_segment0_calculate_overall_error_calculate_overall_inverse_f1_calculate_num_examples\n",
      "\t> Saved: 18_regularSample_biasPop_segment0_calculate_overall_error_calculate_overall_inverse_f1_calculate_num_examples\n",
      "\t> Saved: 19_regularSample_biasPop_segment0_calculate_overall_error_calculate_overall_inverse_f1_calculate_num_examples\n",
      "\t> Saved: 20_regularSample_biasPop_segment0_calculate_overall_error_calculate_overall_inverse_f1_calculate_num_examples\n",
      "\t> Saved: 21_regularSample_biasPop_segment0_calculate_overall_error_calculate_overall_inverse_f1_calculate_num_examples\n",
      "\t> Saved: 22_regularSample_biasPop_segment0_calculate_overall_error_calculate_overall_inverse_f1_calculate_num_examples\n",
      "\t> Saved: 23_regularSample_biasPop_segment0_calculate_overall_error_calculate_overall_inverse_f1_calculate_num_examples\n",
      "\t> Saved: 24_regularSample_biasPop_segment0_calculate_overall_error_calculate_overall_inverse_f1_calculate_num_examples\n",
      "\t> Saved: 25_regularSample_biasPop_segment0_calculate_overall_error_calculate_overall_inverse_f1_calculate_num_examples\n",
      "\t> Saved: 26_regularSample_biasPop_segment0_calculate_overall_error_calculate_overall_inverse_f1_calculate_num_examples\n",
      "\t> Saved: 27_regularSample_biasPop_segment0_calculate_overall_error_calculate_overall_inverse_f1_calculate_num_examples\n",
      "\t> Saved: 28_regularSample_biasPop_segment0_calculate_overall_error_calculate_overall_inverse_f1_calculate_num_examples\n",
      "\t> Saved: 29_regularSample_biasPop_segment0_calculate_overall_error_calculate_overall_inverse_f1_calculate_num_examples\n",
      "\t> Saved: 30_regularSample_biasPop_segment0_calculate_overall_error_calculate_overall_inverse_f1_calculate_num_examples\n",
      "\n",
      "Created 31 packages\n",
      "\t- Finished 31 optimizations\n",
      "\t> Saved: 0_overSample_randPop_sonar_calculate_overall_error_calculate_overall_inverse_f1_calculate_num_examples\n",
      "\t> Saved: 1_overSample_randPop_sonar_calculate_overall_error_calculate_overall_inverse_f1_calculate_num_examples\n",
      "\t> Saved: 2_overSample_randPop_sonar_calculate_overall_error_calculate_overall_inverse_f1_calculate_num_examples\n",
      "\t> Saved: 3_overSample_randPop_sonar_calculate_overall_error_calculate_overall_inverse_f1_calculate_num_examples\n",
      "\t> Saved: 4_overSample_randPop_sonar_calculate_overall_error_calculate_overall_inverse_f1_calculate_num_examples\n",
      "\t> Saved: 5_overSample_randPop_sonar_calculate_overall_error_calculate_overall_inverse_f1_calculate_num_examples\n",
      "\t> Saved: 6_overSample_randPop_sonar_calculate_overall_error_calculate_overall_inverse_f1_calculate_num_examples\n",
      "\t> Saved: 7_overSample_randPop_sonar_calculate_overall_error_calculate_overall_inverse_f1_calculate_num_examples\n",
      "\t> Saved: 8_overSample_randPop_sonar_calculate_overall_error_calculate_overall_inverse_f1_calculate_num_examples\n",
      "\t> Saved: 9_overSample_randPop_sonar_calculate_overall_error_calculate_overall_inverse_f1_calculate_num_examples\n",
      "\t> Saved: 10_overSample_randPop_sonar_calculate_overall_error_calculate_overall_inverse_f1_calculate_num_examples\n",
      "\t> Saved: 11_overSample_randPop_sonar_calculate_overall_error_calculate_overall_inverse_f1_calculate_num_examples\n",
      "\t> Saved: 12_overSample_randPop_sonar_calculate_overall_error_calculate_overall_inverse_f1_calculate_num_examples\n",
      "\t> Saved: 13_overSample_randPop_sonar_calculate_overall_error_calculate_overall_inverse_f1_calculate_num_examples\n",
      "\t> Saved: 14_overSample_randPop_sonar_calculate_overall_error_calculate_overall_inverse_f1_calculate_num_examples\n",
      "\t> Saved: 15_overSample_randPop_sonar_calculate_overall_error_calculate_overall_inverse_f1_calculate_num_examples\n",
      "\t> Saved: 16_overSample_randPop_sonar_calculate_overall_error_calculate_overall_inverse_f1_calculate_num_examples\n",
      "\t> Saved: 17_overSample_randPop_sonar_calculate_overall_error_calculate_overall_inverse_f1_calculate_num_examples\n",
      "\t> Saved: 18_overSample_randPop_sonar_calculate_overall_error_calculate_overall_inverse_f1_calculate_num_examples\n",
      "\t> Saved: 19_overSample_randPop_sonar_calculate_overall_error_calculate_overall_inverse_f1_calculate_num_examples\n",
      "\t> Saved: 20_overSample_randPop_sonar_calculate_overall_error_calculate_overall_inverse_f1_calculate_num_examples\n",
      "\t> Saved: 21_overSample_randPop_sonar_calculate_overall_error_calculate_overall_inverse_f1_calculate_num_examples\n",
      "\t> Saved: 22_overSample_randPop_sonar_calculate_overall_error_calculate_overall_inverse_f1_calculate_num_examples\n",
      "\t> Saved: 23_overSample_randPop_sonar_calculate_overall_error_calculate_overall_inverse_f1_calculate_num_examples\n",
      "\t> Saved: 24_overSample_randPop_sonar_calculate_overall_error_calculate_overall_inverse_f1_calculate_num_examples\n",
      "\t> Saved: 25_overSample_randPop_sonar_calculate_overall_error_calculate_overall_inverse_f1_calculate_num_examples\n",
      "\t> Saved: 26_overSample_randPop_sonar_calculate_overall_error_calculate_overall_inverse_f1_calculate_num_examples\n",
      "\t> Saved: 27_overSample_randPop_sonar_calculate_overall_error_calculate_overall_inverse_f1_calculate_num_examples\n",
      "\t> Saved: 28_overSample_randPop_sonar_calculate_overall_error_calculate_overall_inverse_f1_calculate_num_examples\n",
      "\t> Saved: 29_overSample_randPop_sonar_calculate_overall_error_calculate_overall_inverse_f1_calculate_num_examples\n",
      "\t> Saved: 30_overSample_randPop_sonar_calculate_overall_error_calculate_overall_inverse_f1_calculate_num_examples\n",
      "\n",
      "Created 31 packages\n",
      "\t- Finished 31 optimizations\n",
      "\t> Saved: 0_regularSample_randPop_sonar_calculate_overall_error_calculate_overall_inverse_f1_calculate_num_examples\n",
      "\t> Saved: 1_regularSample_randPop_sonar_calculate_overall_error_calculate_overall_inverse_f1_calculate_num_examples\n",
      "\t> Saved: 2_regularSample_randPop_sonar_calculate_overall_error_calculate_overall_inverse_f1_calculate_num_examples\n",
      "\t> Saved: 3_regularSample_randPop_sonar_calculate_overall_error_calculate_overall_inverse_f1_calculate_num_examples\n",
      "\t> Saved: 4_regularSample_randPop_sonar_calculate_overall_error_calculate_overall_inverse_f1_calculate_num_examples\n",
      "\t> Saved: 5_regularSample_randPop_sonar_calculate_overall_error_calculate_overall_inverse_f1_calculate_num_examples\n",
      "\t> Saved: 6_regularSample_randPop_sonar_calculate_overall_error_calculate_overall_inverse_f1_calculate_num_examples\n",
      "\t> Saved: 7_regularSample_randPop_sonar_calculate_overall_error_calculate_overall_inverse_f1_calculate_num_examples\n",
      "\t> Saved: 8_regularSample_randPop_sonar_calculate_overall_error_calculate_overall_inverse_f1_calculate_num_examples\n",
      "\t> Saved: 9_regularSample_randPop_sonar_calculate_overall_error_calculate_overall_inverse_f1_calculate_num_examples\n",
      "\t> Saved: 10_regularSample_randPop_sonar_calculate_overall_error_calculate_overall_inverse_f1_calculate_num_examples\n",
      "\t> Saved: 11_regularSample_randPop_sonar_calculate_overall_error_calculate_overall_inverse_f1_calculate_num_examples\n",
      "\t> Saved: 12_regularSample_randPop_sonar_calculate_overall_error_calculate_overall_inverse_f1_calculate_num_examples\n",
      "\t> Saved: 13_regularSample_randPop_sonar_calculate_overall_error_calculate_overall_inverse_f1_calculate_num_examples\n",
      "\t> Saved: 14_regularSample_randPop_sonar_calculate_overall_error_calculate_overall_inverse_f1_calculate_num_examples\n",
      "\t> Saved: 15_regularSample_randPop_sonar_calculate_overall_error_calculate_overall_inverse_f1_calculate_num_examples\n",
      "\t> Saved: 16_regularSample_randPop_sonar_calculate_overall_error_calculate_overall_inverse_f1_calculate_num_examples\n",
      "\t> Saved: 17_regularSample_randPop_sonar_calculate_overall_error_calculate_overall_inverse_f1_calculate_num_examples\n",
      "\t> Saved: 18_regularSample_randPop_sonar_calculate_overall_error_calculate_overall_inverse_f1_calculate_num_examples\n",
      "\t> Saved: 19_regularSample_randPop_sonar_calculate_overall_error_calculate_overall_inverse_f1_calculate_num_examples\n",
      "\t> Saved: 20_regularSample_randPop_sonar_calculate_overall_error_calculate_overall_inverse_f1_calculate_num_examples\n",
      "\t> Saved: 21_regularSample_randPop_sonar_calculate_overall_error_calculate_overall_inverse_f1_calculate_num_examples\n",
      "\t> Saved: 22_regularSample_randPop_sonar_calculate_overall_error_calculate_overall_inverse_f1_calculate_num_examples\n",
      "\t> Saved: 23_regularSample_randPop_sonar_calculate_overall_error_calculate_overall_inverse_f1_calculate_num_examples\n",
      "\t> Saved: 24_regularSample_randPop_sonar_calculate_overall_error_calculate_overall_inverse_f1_calculate_num_examples\n",
      "\t> Saved: 25_regularSample_randPop_sonar_calculate_overall_error_calculate_overall_inverse_f1_calculate_num_examples\n",
      "\t> Saved: 26_regularSample_randPop_sonar_calculate_overall_error_calculate_overall_inverse_f1_calculate_num_examples\n",
      "\t> Saved: 27_regularSample_randPop_sonar_calculate_overall_error_calculate_overall_inverse_f1_calculate_num_examples\n",
      "\t> Saved: 28_regularSample_randPop_sonar_calculate_overall_error_calculate_overall_inverse_f1_calculate_num_examples\n",
      "\t> Saved: 29_regularSample_randPop_sonar_calculate_overall_error_calculate_overall_inverse_f1_calculate_num_examples\n",
      "\t> Saved: 30_regularSample_randPop_sonar_calculate_overall_error_calculate_overall_inverse_f1_calculate_num_examples\n",
      "\n",
      "Created 31 packages\n",
      "\t- Finished 31 optimizations\n",
      "\t> Saved: 0_overSample_biasPop_sonar_calculate_overall_error_calculate_overall_inverse_f1_calculate_num_examples\n",
      "\t> Saved: 1_overSample_biasPop_sonar_calculate_overall_error_calculate_overall_inverse_f1_calculate_num_examples\n",
      "\t> Saved: 2_overSample_biasPop_sonar_calculate_overall_error_calculate_overall_inverse_f1_calculate_num_examples\n",
      "\t> Saved: 3_overSample_biasPop_sonar_calculate_overall_error_calculate_overall_inverse_f1_calculate_num_examples\n",
      "\t> Saved: 4_overSample_biasPop_sonar_calculate_overall_error_calculate_overall_inverse_f1_calculate_num_examples\n",
      "\t> Saved: 5_overSample_biasPop_sonar_calculate_overall_error_calculate_overall_inverse_f1_calculate_num_examples\n",
      "\t> Saved: 6_overSample_biasPop_sonar_calculate_overall_error_calculate_overall_inverse_f1_calculate_num_examples\n",
      "\t> Saved: 7_overSample_biasPop_sonar_calculate_overall_error_calculate_overall_inverse_f1_calculate_num_examples\n",
      "\t> Saved: 8_overSample_biasPop_sonar_calculate_overall_error_calculate_overall_inverse_f1_calculate_num_examples\n",
      "\t> Saved: 9_overSample_biasPop_sonar_calculate_overall_error_calculate_overall_inverse_f1_calculate_num_examples\n",
      "\t> Saved: 10_overSample_biasPop_sonar_calculate_overall_error_calculate_overall_inverse_f1_calculate_num_examples\n",
      "\t> Saved: 11_overSample_biasPop_sonar_calculate_overall_error_calculate_overall_inverse_f1_calculate_num_examples\n",
      "\t> Saved: 12_overSample_biasPop_sonar_calculate_overall_error_calculate_overall_inverse_f1_calculate_num_examples\n",
      "\t> Saved: 13_overSample_biasPop_sonar_calculate_overall_error_calculate_overall_inverse_f1_calculate_num_examples\n",
      "\t> Saved: 14_overSample_biasPop_sonar_calculate_overall_error_calculate_overall_inverse_f1_calculate_num_examples\n",
      "\t> Saved: 15_overSample_biasPop_sonar_calculate_overall_error_calculate_overall_inverse_f1_calculate_num_examples\n",
      "\t> Saved: 16_overSample_biasPop_sonar_calculate_overall_error_calculate_overall_inverse_f1_calculate_num_examples\n",
      "\t> Saved: 17_overSample_biasPop_sonar_calculate_overall_error_calculate_overall_inverse_f1_calculate_num_examples\n",
      "\t> Saved: 18_overSample_biasPop_sonar_calculate_overall_error_calculate_overall_inverse_f1_calculate_num_examples\n",
      "\t> Saved: 19_overSample_biasPop_sonar_calculate_overall_error_calculate_overall_inverse_f1_calculate_num_examples\n",
      "\t> Saved: 20_overSample_biasPop_sonar_calculate_overall_error_calculate_overall_inverse_f1_calculate_num_examples\n",
      "\t> Saved: 21_overSample_biasPop_sonar_calculate_overall_error_calculate_overall_inverse_f1_calculate_num_examples\n",
      "\t> Saved: 22_overSample_biasPop_sonar_calculate_overall_error_calculate_overall_inverse_f1_calculate_num_examples\n",
      "\t> Saved: 23_overSample_biasPop_sonar_calculate_overall_error_calculate_overall_inverse_f1_calculate_num_examples\n",
      "\t> Saved: 24_overSample_biasPop_sonar_calculate_overall_error_calculate_overall_inverse_f1_calculate_num_examples\n",
      "\t> Saved: 25_overSample_biasPop_sonar_calculate_overall_error_calculate_overall_inverse_f1_calculate_num_examples\n",
      "\t> Saved: 26_overSample_biasPop_sonar_calculate_overall_error_calculate_overall_inverse_f1_calculate_num_examples\n",
      "\t> Saved: 27_overSample_biasPop_sonar_calculate_overall_error_calculate_overall_inverse_f1_calculate_num_examples\n",
      "\t> Saved: 28_overSample_biasPop_sonar_calculate_overall_error_calculate_overall_inverse_f1_calculate_num_examples\n",
      "\t> Saved: 29_overSample_biasPop_sonar_calculate_overall_error_calculate_overall_inverse_f1_calculate_num_examples\n",
      "\t> Saved: 30_overSample_biasPop_sonar_calculate_overall_error_calculate_overall_inverse_f1_calculate_num_examples\n",
      "\n",
      "Created 31 packages\n",
      "\t- Finished 31 optimizations\n",
      "\t> Saved: 0_regularSample_biasPop_sonar_calculate_overall_error_calculate_overall_inverse_f1_calculate_num_examples\n",
      "\t> Saved: 1_regularSample_biasPop_sonar_calculate_overall_error_calculate_overall_inverse_f1_calculate_num_examples\n",
      "\t> Saved: 2_regularSample_biasPop_sonar_calculate_overall_error_calculate_overall_inverse_f1_calculate_num_examples\n",
      "\t> Saved: 3_regularSample_biasPop_sonar_calculate_overall_error_calculate_overall_inverse_f1_calculate_num_examples\n",
      "\t> Saved: 4_regularSample_biasPop_sonar_calculate_overall_error_calculate_overall_inverse_f1_calculate_num_examples\n",
      "\t> Saved: 5_regularSample_biasPop_sonar_calculate_overall_error_calculate_overall_inverse_f1_calculate_num_examples\n",
      "\t> Saved: 6_regularSample_biasPop_sonar_calculate_overall_error_calculate_overall_inverse_f1_calculate_num_examples\n",
      "\t> Saved: 7_regularSample_biasPop_sonar_calculate_overall_error_calculate_overall_inverse_f1_calculate_num_examples\n",
      "\t> Saved: 8_regularSample_biasPop_sonar_calculate_overall_error_calculate_overall_inverse_f1_calculate_num_examples\n",
      "\t> Saved: 9_regularSample_biasPop_sonar_calculate_overall_error_calculate_overall_inverse_f1_calculate_num_examples\n",
      "\t> Saved: 10_regularSample_biasPop_sonar_calculate_overall_error_calculate_overall_inverse_f1_calculate_num_examples\n",
      "\t> Saved: 11_regularSample_biasPop_sonar_calculate_overall_error_calculate_overall_inverse_f1_calculate_num_examples\n",
      "\t> Saved: 12_regularSample_biasPop_sonar_calculate_overall_error_calculate_overall_inverse_f1_calculate_num_examples\n",
      "\t> Saved: 13_regularSample_biasPop_sonar_calculate_overall_error_calculate_overall_inverse_f1_calculate_num_examples\n",
      "\t> Saved: 14_regularSample_biasPop_sonar_calculate_overall_error_calculate_overall_inverse_f1_calculate_num_examples\n",
      "\t> Saved: 15_regularSample_biasPop_sonar_calculate_overall_error_calculate_overall_inverse_f1_calculate_num_examples\n",
      "\t> Saved: 16_regularSample_biasPop_sonar_calculate_overall_error_calculate_overall_inverse_f1_calculate_num_examples\n",
      "\t> Saved: 17_regularSample_biasPop_sonar_calculate_overall_error_calculate_overall_inverse_f1_calculate_num_examples\n",
      "\t> Saved: 18_regularSample_biasPop_sonar_calculate_overall_error_calculate_overall_inverse_f1_calculate_num_examples\n",
      "\t> Saved: 19_regularSample_biasPop_sonar_calculate_overall_error_calculate_overall_inverse_f1_calculate_num_examples\n",
      "\t> Saved: 20_regularSample_biasPop_sonar_calculate_overall_error_calculate_overall_inverse_f1_calculate_num_examples\n",
      "\t> Saved: 21_regularSample_biasPop_sonar_calculate_overall_error_calculate_overall_inverse_f1_calculate_num_examples\n",
      "\t> Saved: 22_regularSample_biasPop_sonar_calculate_overall_error_calculate_overall_inverse_f1_calculate_num_examples\n",
      "\t> Saved: 23_regularSample_biasPop_sonar_calculate_overall_error_calculate_overall_inverse_f1_calculate_num_examples\n",
      "\t> Saved: 24_regularSample_biasPop_sonar_calculate_overall_error_calculate_overall_inverse_f1_calculate_num_examples\n",
      "\t> Saved: 25_regularSample_biasPop_sonar_calculate_overall_error_calculate_overall_inverse_f1_calculate_num_examples\n",
      "\t> Saved: 26_regularSample_biasPop_sonar_calculate_overall_error_calculate_overall_inverse_f1_calculate_num_examples\n",
      "\t> Saved: 27_regularSample_biasPop_sonar_calculate_overall_error_calculate_overall_inverse_f1_calculate_num_examples\n",
      "\t> Saved: 28_regularSample_biasPop_sonar_calculate_overall_error_calculate_overall_inverse_f1_calculate_num_examples\n",
      "\t> Saved: 29_regularSample_biasPop_sonar_calculate_overall_error_calculate_overall_inverse_f1_calculate_num_examples\n",
      "\t> Saved: 30_regularSample_biasPop_sonar_calculate_overall_error_calculate_overall_inverse_f1_calculate_num_examples\n",
      "\n",
      "Created 31 packages\n",
      "\t- Finished 31 optimizations\n",
      "\t> Saved: 0_overSample_randPop_vehicle0_calculate_overall_error_calculate_overall_inverse_f1_calculate_num_examples\n",
      "\t> Saved: 1_overSample_randPop_vehicle0_calculate_overall_error_calculate_overall_inverse_f1_calculate_num_examples\n",
      "\t> Saved: 2_overSample_randPop_vehicle0_calculate_overall_error_calculate_overall_inverse_f1_calculate_num_examples\n",
      "\t> Saved: 3_overSample_randPop_vehicle0_calculate_overall_error_calculate_overall_inverse_f1_calculate_num_examples\n",
      "\t> Saved: 4_overSample_randPop_vehicle0_calculate_overall_error_calculate_overall_inverse_f1_calculate_num_examples\n",
      "\t> Saved: 5_overSample_randPop_vehicle0_calculate_overall_error_calculate_overall_inverse_f1_calculate_num_examples\n",
      "\t> Saved: 6_overSample_randPop_vehicle0_calculate_overall_error_calculate_overall_inverse_f1_calculate_num_examples\n",
      "\t> Saved: 7_overSample_randPop_vehicle0_calculate_overall_error_calculate_overall_inverse_f1_calculate_num_examples\n",
      "\t> Saved: 8_overSample_randPop_vehicle0_calculate_overall_error_calculate_overall_inverse_f1_calculate_num_examples\n",
      "\t> Saved: 9_overSample_randPop_vehicle0_calculate_overall_error_calculate_overall_inverse_f1_calculate_num_examples\n",
      "\t> Saved: 10_overSample_randPop_vehicle0_calculate_overall_error_calculate_overall_inverse_f1_calculate_num_examples\n",
      "\t> Saved: 11_overSample_randPop_vehicle0_calculate_overall_error_calculate_overall_inverse_f1_calculate_num_examples\n",
      "\t> Saved: 12_overSample_randPop_vehicle0_calculate_overall_error_calculate_overall_inverse_f1_calculate_num_examples\n",
      "\t> Saved: 13_overSample_randPop_vehicle0_calculate_overall_error_calculate_overall_inverse_f1_calculate_num_examples\n",
      "\t> Saved: 14_overSample_randPop_vehicle0_calculate_overall_error_calculate_overall_inverse_f1_calculate_num_examples\n",
      "\t> Saved: 15_overSample_randPop_vehicle0_calculate_overall_error_calculate_overall_inverse_f1_calculate_num_examples\n",
      "\t> Saved: 16_overSample_randPop_vehicle0_calculate_overall_error_calculate_overall_inverse_f1_calculate_num_examples\n",
      "\t> Saved: 17_overSample_randPop_vehicle0_calculate_overall_error_calculate_overall_inverse_f1_calculate_num_examples\n",
      "\t> Saved: 18_overSample_randPop_vehicle0_calculate_overall_error_calculate_overall_inverse_f1_calculate_num_examples\n",
      "\t> Saved: 19_overSample_randPop_vehicle0_calculate_overall_error_calculate_overall_inverse_f1_calculate_num_examples\n",
      "\t> Saved: 20_overSample_randPop_vehicle0_calculate_overall_error_calculate_overall_inverse_f1_calculate_num_examples\n",
      "\t> Saved: 21_overSample_randPop_vehicle0_calculate_overall_error_calculate_overall_inverse_f1_calculate_num_examples\n",
      "\t> Saved: 22_overSample_randPop_vehicle0_calculate_overall_error_calculate_overall_inverse_f1_calculate_num_examples\n",
      "\t> Saved: 23_overSample_randPop_vehicle0_calculate_overall_error_calculate_overall_inverse_f1_calculate_num_examples\n",
      "\t> Saved: 24_overSample_randPop_vehicle0_calculate_overall_error_calculate_overall_inverse_f1_calculate_num_examples\n",
      "\t> Saved: 25_overSample_randPop_vehicle0_calculate_overall_error_calculate_overall_inverse_f1_calculate_num_examples\n",
      "\t> Saved: 26_overSample_randPop_vehicle0_calculate_overall_error_calculate_overall_inverse_f1_calculate_num_examples\n",
      "\t> Saved: 27_overSample_randPop_vehicle0_calculate_overall_error_calculate_overall_inverse_f1_calculate_num_examples\n",
      "\t> Saved: 28_overSample_randPop_vehicle0_calculate_overall_error_calculate_overall_inverse_f1_calculate_num_examples\n",
      "\t> Saved: 29_overSample_randPop_vehicle0_calculate_overall_error_calculate_overall_inverse_f1_calculate_num_examples\n",
      "\t> Saved: 30_overSample_randPop_vehicle0_calculate_overall_error_calculate_overall_inverse_f1_calculate_num_examples\n",
      "\n",
      "Created 31 packages\n",
      "\t- Finished 31 optimizations\n",
      "\t> Saved: 0_regularSample_randPop_vehicle0_calculate_overall_error_calculate_overall_inverse_f1_calculate_num_examples\n",
      "\t> Saved: 1_regularSample_randPop_vehicle0_calculate_overall_error_calculate_overall_inverse_f1_calculate_num_examples\n",
      "\t> Saved: 2_regularSample_randPop_vehicle0_calculate_overall_error_calculate_overall_inverse_f1_calculate_num_examples\n",
      "\t> Saved: 3_regularSample_randPop_vehicle0_calculate_overall_error_calculate_overall_inverse_f1_calculate_num_examples\n",
      "\t> Saved: 4_regularSample_randPop_vehicle0_calculate_overall_error_calculate_overall_inverse_f1_calculate_num_examples\n",
      "\t> Saved: 5_regularSample_randPop_vehicle0_calculate_overall_error_calculate_overall_inverse_f1_calculate_num_examples\n",
      "\t> Saved: 6_regularSample_randPop_vehicle0_calculate_overall_error_calculate_overall_inverse_f1_calculate_num_examples\n",
      "\t> Saved: 7_regularSample_randPop_vehicle0_calculate_overall_error_calculate_overall_inverse_f1_calculate_num_examples\n",
      "\t> Saved: 8_regularSample_randPop_vehicle0_calculate_overall_error_calculate_overall_inverse_f1_calculate_num_examples\n",
      "\t> Saved: 9_regularSample_randPop_vehicle0_calculate_overall_error_calculate_overall_inverse_f1_calculate_num_examples\n",
      "\t> Saved: 10_regularSample_randPop_vehicle0_calculate_overall_error_calculate_overall_inverse_f1_calculate_num_examples\n",
      "\t> Saved: 11_regularSample_randPop_vehicle0_calculate_overall_error_calculate_overall_inverse_f1_calculate_num_examples\n",
      "\t> Saved: 12_regularSample_randPop_vehicle0_calculate_overall_error_calculate_overall_inverse_f1_calculate_num_examples\n",
      "\t> Saved: 13_regularSample_randPop_vehicle0_calculate_overall_error_calculate_overall_inverse_f1_calculate_num_examples\n",
      "\t> Saved: 14_regularSample_randPop_vehicle0_calculate_overall_error_calculate_overall_inverse_f1_calculate_num_examples\n",
      "\t> Saved: 15_regularSample_randPop_vehicle0_calculate_overall_error_calculate_overall_inverse_f1_calculate_num_examples\n",
      "\t> Saved: 16_regularSample_randPop_vehicle0_calculate_overall_error_calculate_overall_inverse_f1_calculate_num_examples\n",
      "\t> Saved: 17_regularSample_randPop_vehicle0_calculate_overall_error_calculate_overall_inverse_f1_calculate_num_examples\n",
      "\t> Saved: 18_regularSample_randPop_vehicle0_calculate_overall_error_calculate_overall_inverse_f1_calculate_num_examples\n",
      "\t> Saved: 19_regularSample_randPop_vehicle0_calculate_overall_error_calculate_overall_inverse_f1_calculate_num_examples\n",
      "\t> Saved: 20_regularSample_randPop_vehicle0_calculate_overall_error_calculate_overall_inverse_f1_calculate_num_examples\n",
      "\t> Saved: 21_regularSample_randPop_vehicle0_calculate_overall_error_calculate_overall_inverse_f1_calculate_num_examples\n",
      "\t> Saved: 22_regularSample_randPop_vehicle0_calculate_overall_error_calculate_overall_inverse_f1_calculate_num_examples\n",
      "\t> Saved: 23_regularSample_randPop_vehicle0_calculate_overall_error_calculate_overall_inverse_f1_calculate_num_examples\n",
      "\t> Saved: 24_regularSample_randPop_vehicle0_calculate_overall_error_calculate_overall_inverse_f1_calculate_num_examples\n",
      "\t> Saved: 25_regularSample_randPop_vehicle0_calculate_overall_error_calculate_overall_inverse_f1_calculate_num_examples\n",
      "\t> Saved: 26_regularSample_randPop_vehicle0_calculate_overall_error_calculate_overall_inverse_f1_calculate_num_examples\n",
      "\t> Saved: 27_regularSample_randPop_vehicle0_calculate_overall_error_calculate_overall_inverse_f1_calculate_num_examples\n",
      "\t> Saved: 28_regularSample_randPop_vehicle0_calculate_overall_error_calculate_overall_inverse_f1_calculate_num_examples\n",
      "\t> Saved: 29_regularSample_randPop_vehicle0_calculate_overall_error_calculate_overall_inverse_f1_calculate_num_examples\n",
      "\t> Saved: 30_regularSample_randPop_vehicle0_calculate_overall_error_calculate_overall_inverse_f1_calculate_num_examples\n",
      "\n",
      "Created 31 packages\n",
      "\t- Finished 31 optimizations\n",
      "\t> Saved: 0_overSample_biasPop_vehicle0_calculate_overall_error_calculate_overall_inverse_f1_calculate_num_examples\n",
      "\t> Saved: 1_overSample_biasPop_vehicle0_calculate_overall_error_calculate_overall_inverse_f1_calculate_num_examples\n",
      "\t> Saved: 2_overSample_biasPop_vehicle0_calculate_overall_error_calculate_overall_inverse_f1_calculate_num_examples\n",
      "\t> Saved: 3_overSample_biasPop_vehicle0_calculate_overall_error_calculate_overall_inverse_f1_calculate_num_examples\n",
      "\t> Saved: 4_overSample_biasPop_vehicle0_calculate_overall_error_calculate_overall_inverse_f1_calculate_num_examples\n",
      "\t> Saved: 5_overSample_biasPop_vehicle0_calculate_overall_error_calculate_overall_inverse_f1_calculate_num_examples\n",
      "\t> Saved: 6_overSample_biasPop_vehicle0_calculate_overall_error_calculate_overall_inverse_f1_calculate_num_examples\n",
      "\t> Saved: 7_overSample_biasPop_vehicle0_calculate_overall_error_calculate_overall_inverse_f1_calculate_num_examples\n",
      "\t> Saved: 8_overSample_biasPop_vehicle0_calculate_overall_error_calculate_overall_inverse_f1_calculate_num_examples\n",
      "\t> Saved: 9_overSample_biasPop_vehicle0_calculate_overall_error_calculate_overall_inverse_f1_calculate_num_examples\n",
      "\t> Saved: 10_overSample_biasPop_vehicle0_calculate_overall_error_calculate_overall_inverse_f1_calculate_num_examples\n",
      "\t> Saved: 11_overSample_biasPop_vehicle0_calculate_overall_error_calculate_overall_inverse_f1_calculate_num_examples\n",
      "\t> Saved: 12_overSample_biasPop_vehicle0_calculate_overall_error_calculate_overall_inverse_f1_calculate_num_examples\n",
      "\t> Saved: 13_overSample_biasPop_vehicle0_calculate_overall_error_calculate_overall_inverse_f1_calculate_num_examples\n",
      "\t> Saved: 14_overSample_biasPop_vehicle0_calculate_overall_error_calculate_overall_inverse_f1_calculate_num_examples\n",
      "\t> Saved: 15_overSample_biasPop_vehicle0_calculate_overall_error_calculate_overall_inverse_f1_calculate_num_examples\n",
      "\t> Saved: 16_overSample_biasPop_vehicle0_calculate_overall_error_calculate_overall_inverse_f1_calculate_num_examples\n",
      "\t> Saved: 17_overSample_biasPop_vehicle0_calculate_overall_error_calculate_overall_inverse_f1_calculate_num_examples\n",
      "\t> Saved: 18_overSample_biasPop_vehicle0_calculate_overall_error_calculate_overall_inverse_f1_calculate_num_examples\n",
      "\t> Saved: 19_overSample_biasPop_vehicle0_calculate_overall_error_calculate_overall_inverse_f1_calculate_num_examples\n",
      "\t> Saved: 20_overSample_biasPop_vehicle0_calculate_overall_error_calculate_overall_inverse_f1_calculate_num_examples\n",
      "\t> Saved: 21_overSample_biasPop_vehicle0_calculate_overall_error_calculate_overall_inverse_f1_calculate_num_examples\n",
      "\t> Saved: 22_overSample_biasPop_vehicle0_calculate_overall_error_calculate_overall_inverse_f1_calculate_num_examples\n",
      "\t> Saved: 23_overSample_biasPop_vehicle0_calculate_overall_error_calculate_overall_inverse_f1_calculate_num_examples\n",
      "\t> Saved: 24_overSample_biasPop_vehicle0_calculate_overall_error_calculate_overall_inverse_f1_calculate_num_examples\n",
      "\t> Saved: 25_overSample_biasPop_vehicle0_calculate_overall_error_calculate_overall_inverse_f1_calculate_num_examples\n",
      "\t> Saved: 26_overSample_biasPop_vehicle0_calculate_overall_error_calculate_overall_inverse_f1_calculate_num_examples\n",
      "\t> Saved: 27_overSample_biasPop_vehicle0_calculate_overall_error_calculate_overall_inverse_f1_calculate_num_examples\n",
      "\t> Saved: 28_overSample_biasPop_vehicle0_calculate_overall_error_calculate_overall_inverse_f1_calculate_num_examples\n",
      "\t> Saved: 29_overSample_biasPop_vehicle0_calculate_overall_error_calculate_overall_inverse_f1_calculate_num_examples\n",
      "\t> Saved: 30_overSample_biasPop_vehicle0_calculate_overall_error_calculate_overall_inverse_f1_calculate_num_examples\n",
      "\n",
      "Created 31 packages\n",
      "\t- Finished 31 optimizations\n",
      "\t> Saved: 0_regularSample_biasPop_vehicle0_calculate_overall_error_calculate_overall_inverse_f1_calculate_num_examples\n",
      "\t> Saved: 1_regularSample_biasPop_vehicle0_calculate_overall_error_calculate_overall_inverse_f1_calculate_num_examples\n",
      "\t> Saved: 2_regularSample_biasPop_vehicle0_calculate_overall_error_calculate_overall_inverse_f1_calculate_num_examples\n",
      "\t> Saved: 3_regularSample_biasPop_vehicle0_calculate_overall_error_calculate_overall_inverse_f1_calculate_num_examples\n",
      "\t> Saved: 4_regularSample_biasPop_vehicle0_calculate_overall_error_calculate_overall_inverse_f1_calculate_num_examples\n",
      "\t> Saved: 5_regularSample_biasPop_vehicle0_calculate_overall_error_calculate_overall_inverse_f1_calculate_num_examples\n",
      "\t> Saved: 6_regularSample_biasPop_vehicle0_calculate_overall_error_calculate_overall_inverse_f1_calculate_num_examples\n",
      "\t> Saved: 7_regularSample_biasPop_vehicle0_calculate_overall_error_calculate_overall_inverse_f1_calculate_num_examples\n",
      "\t> Saved: 8_regularSample_biasPop_vehicle0_calculate_overall_error_calculate_overall_inverse_f1_calculate_num_examples\n",
      "\t> Saved: 9_regularSample_biasPop_vehicle0_calculate_overall_error_calculate_overall_inverse_f1_calculate_num_examples\n",
      "\t> Saved: 10_regularSample_biasPop_vehicle0_calculate_overall_error_calculate_overall_inverse_f1_calculate_num_examples\n",
      "\t> Saved: 11_regularSample_biasPop_vehicle0_calculate_overall_error_calculate_overall_inverse_f1_calculate_num_examples\n",
      "\t> Saved: 12_regularSample_biasPop_vehicle0_calculate_overall_error_calculate_overall_inverse_f1_calculate_num_examples\n",
      "\t> Saved: 13_regularSample_biasPop_vehicle0_calculate_overall_error_calculate_overall_inverse_f1_calculate_num_examples\n",
      "\t> Saved: 14_regularSample_biasPop_vehicle0_calculate_overall_error_calculate_overall_inverse_f1_calculate_num_examples\n",
      "\t> Saved: 15_regularSample_biasPop_vehicle0_calculate_overall_error_calculate_overall_inverse_f1_calculate_num_examples\n",
      "\t> Saved: 16_regularSample_biasPop_vehicle0_calculate_overall_error_calculate_overall_inverse_f1_calculate_num_examples\n",
      "\t> Saved: 17_regularSample_biasPop_vehicle0_calculate_overall_error_calculate_overall_inverse_f1_calculate_num_examples\n",
      "\t> Saved: 18_regularSample_biasPop_vehicle0_calculate_overall_error_calculate_overall_inverse_f1_calculate_num_examples\n",
      "\t> Saved: 19_regularSample_biasPop_vehicle0_calculate_overall_error_calculate_overall_inverse_f1_calculate_num_examples\n",
      "\t> Saved: 20_regularSample_biasPop_vehicle0_calculate_overall_error_calculate_overall_inverse_f1_calculate_num_examples\n",
      "\t> Saved: 21_regularSample_biasPop_vehicle0_calculate_overall_error_calculate_overall_inverse_f1_calculate_num_examples\n",
      "\t> Saved: 22_regularSample_biasPop_vehicle0_calculate_overall_error_calculate_overall_inverse_f1_calculate_num_examples\n",
      "\t> Saved: 23_regularSample_biasPop_vehicle0_calculate_overall_error_calculate_overall_inverse_f1_calculate_num_examples\n",
      "\t> Saved: 24_regularSample_biasPop_vehicle0_calculate_overall_error_calculate_overall_inverse_f1_calculate_num_examples\n",
      "\t> Saved: 25_regularSample_biasPop_vehicle0_calculate_overall_error_calculate_overall_inverse_f1_calculate_num_examples\n",
      "\t> Saved: 26_regularSample_biasPop_vehicle0_calculate_overall_error_calculate_overall_inverse_f1_calculate_num_examples\n",
      "\t> Saved: 27_regularSample_biasPop_vehicle0_calculate_overall_error_calculate_overall_inverse_f1_calculate_num_examples\n",
      "\t> Saved: 28_regularSample_biasPop_vehicle0_calculate_overall_error_calculate_overall_inverse_f1_calculate_num_examples\n",
      "\t> Saved: 29_regularSample_biasPop_vehicle0_calculate_overall_error_calculate_overall_inverse_f1_calculate_num_examples\n",
      "\t> Saved: 30_regularSample_biasPop_vehicle0_calculate_overall_error_calculate_overall_inverse_f1_calculate_num_examples\n",
      "\n",
      "Created 31 packages\n",
      "\t- Finished 31 optimizations\n",
      "\t> Saved: 0_overSample_randPop_yeast1_calculate_overall_error_calculate_overall_inverse_f1_calculate_num_examples\n",
      "\t> Saved: 1_overSample_randPop_yeast1_calculate_overall_error_calculate_overall_inverse_f1_calculate_num_examples\n",
      "\t> Saved: 2_overSample_randPop_yeast1_calculate_overall_error_calculate_overall_inverse_f1_calculate_num_examples\n",
      "\t> Saved: 3_overSample_randPop_yeast1_calculate_overall_error_calculate_overall_inverse_f1_calculate_num_examples\n",
      "\t> Saved: 4_overSample_randPop_yeast1_calculate_overall_error_calculate_overall_inverse_f1_calculate_num_examples\n",
      "\t> Saved: 5_overSample_randPop_yeast1_calculate_overall_error_calculate_overall_inverse_f1_calculate_num_examples\n",
      "\t> Saved: 6_overSample_randPop_yeast1_calculate_overall_error_calculate_overall_inverse_f1_calculate_num_examples\n",
      "\t> Saved: 7_overSample_randPop_yeast1_calculate_overall_error_calculate_overall_inverse_f1_calculate_num_examples\n",
      "\t> Saved: 8_overSample_randPop_yeast1_calculate_overall_error_calculate_overall_inverse_f1_calculate_num_examples\n",
      "\t> Saved: 9_overSample_randPop_yeast1_calculate_overall_error_calculate_overall_inverse_f1_calculate_num_examples\n",
      "\t> Saved: 10_overSample_randPop_yeast1_calculate_overall_error_calculate_overall_inverse_f1_calculate_num_examples\n",
      "\t> Saved: 11_overSample_randPop_yeast1_calculate_overall_error_calculate_overall_inverse_f1_calculate_num_examples\n",
      "\t> Saved: 12_overSample_randPop_yeast1_calculate_overall_error_calculate_overall_inverse_f1_calculate_num_examples\n",
      "\t> Saved: 13_overSample_randPop_yeast1_calculate_overall_error_calculate_overall_inverse_f1_calculate_num_examples\n",
      "\t> Saved: 14_overSample_randPop_yeast1_calculate_overall_error_calculate_overall_inverse_f1_calculate_num_examples\n",
      "\t> Saved: 15_overSample_randPop_yeast1_calculate_overall_error_calculate_overall_inverse_f1_calculate_num_examples\n",
      "\t> Saved: 16_overSample_randPop_yeast1_calculate_overall_error_calculate_overall_inverse_f1_calculate_num_examples\n",
      "\t> Saved: 17_overSample_randPop_yeast1_calculate_overall_error_calculate_overall_inverse_f1_calculate_num_examples\n",
      "\t> Saved: 18_overSample_randPop_yeast1_calculate_overall_error_calculate_overall_inverse_f1_calculate_num_examples\n",
      "\t> Saved: 19_overSample_randPop_yeast1_calculate_overall_error_calculate_overall_inverse_f1_calculate_num_examples\n",
      "\t> Saved: 20_overSample_randPop_yeast1_calculate_overall_error_calculate_overall_inverse_f1_calculate_num_examples\n",
      "\t> Saved: 21_overSample_randPop_yeast1_calculate_overall_error_calculate_overall_inverse_f1_calculate_num_examples\n",
      "\t> Saved: 22_overSample_randPop_yeast1_calculate_overall_error_calculate_overall_inverse_f1_calculate_num_examples\n",
      "\t> Saved: 23_overSample_randPop_yeast1_calculate_overall_error_calculate_overall_inverse_f1_calculate_num_examples\n",
      "\t> Saved: 24_overSample_randPop_yeast1_calculate_overall_error_calculate_overall_inverse_f1_calculate_num_examples\n",
      "\t> Saved: 25_overSample_randPop_yeast1_calculate_overall_error_calculate_overall_inverse_f1_calculate_num_examples\n",
      "\t> Saved: 26_overSample_randPop_yeast1_calculate_overall_error_calculate_overall_inverse_f1_calculate_num_examples\n",
      "\t> Saved: 27_overSample_randPop_yeast1_calculate_overall_error_calculate_overall_inverse_f1_calculate_num_examples\n",
      "\t> Saved: 28_overSample_randPop_yeast1_calculate_overall_error_calculate_overall_inverse_f1_calculate_num_examples\n",
      "\t> Saved: 29_overSample_randPop_yeast1_calculate_overall_error_calculate_overall_inverse_f1_calculate_num_examples\n",
      "\t> Saved: 30_overSample_randPop_yeast1_calculate_overall_error_calculate_overall_inverse_f1_calculate_num_examples\n",
      "\n",
      "Created 31 packages\n",
      "\t- Finished 31 optimizations\n",
      "\t> Saved: 0_regularSample_randPop_yeast1_calculate_overall_error_calculate_overall_inverse_f1_calculate_num_examples\n",
      "\t> Saved: 1_regularSample_randPop_yeast1_calculate_overall_error_calculate_overall_inverse_f1_calculate_num_examples\n",
      "\t> Saved: 2_regularSample_randPop_yeast1_calculate_overall_error_calculate_overall_inverse_f1_calculate_num_examples\n",
      "\t> Saved: 3_regularSample_randPop_yeast1_calculate_overall_error_calculate_overall_inverse_f1_calculate_num_examples\n",
      "\t> Saved: 4_regularSample_randPop_yeast1_calculate_overall_error_calculate_overall_inverse_f1_calculate_num_examples\n",
      "\t> Saved: 5_regularSample_randPop_yeast1_calculate_overall_error_calculate_overall_inverse_f1_calculate_num_examples\n",
      "\t> Saved: 6_regularSample_randPop_yeast1_calculate_overall_error_calculate_overall_inverse_f1_calculate_num_examples\n",
      "\t> Saved: 7_regularSample_randPop_yeast1_calculate_overall_error_calculate_overall_inverse_f1_calculate_num_examples\n",
      "\t> Saved: 8_regularSample_randPop_yeast1_calculate_overall_error_calculate_overall_inverse_f1_calculate_num_examples\n",
      "\t> Saved: 9_regularSample_randPop_yeast1_calculate_overall_error_calculate_overall_inverse_f1_calculate_num_examples\n",
      "\t> Saved: 10_regularSample_randPop_yeast1_calculate_overall_error_calculate_overall_inverse_f1_calculate_num_examples\n",
      "\t> Saved: 11_regularSample_randPop_yeast1_calculate_overall_error_calculate_overall_inverse_f1_calculate_num_examples\n",
      "\t> Saved: 12_regularSample_randPop_yeast1_calculate_overall_error_calculate_overall_inverse_f1_calculate_num_examples\n",
      "\t> Saved: 13_regularSample_randPop_yeast1_calculate_overall_error_calculate_overall_inverse_f1_calculate_num_examples\n",
      "\t> Saved: 14_regularSample_randPop_yeast1_calculate_overall_error_calculate_overall_inverse_f1_calculate_num_examples\n",
      "\t> Saved: 15_regularSample_randPop_yeast1_calculate_overall_error_calculate_overall_inverse_f1_calculate_num_examples\n",
      "\t> Saved: 16_regularSample_randPop_yeast1_calculate_overall_error_calculate_overall_inverse_f1_calculate_num_examples\n",
      "\t> Saved: 17_regularSample_randPop_yeast1_calculate_overall_error_calculate_overall_inverse_f1_calculate_num_examples\n",
      "\t> Saved: 18_regularSample_randPop_yeast1_calculate_overall_error_calculate_overall_inverse_f1_calculate_num_examples\n",
      "\t> Saved: 19_regularSample_randPop_yeast1_calculate_overall_error_calculate_overall_inverse_f1_calculate_num_examples\n",
      "\t> Saved: 20_regularSample_randPop_yeast1_calculate_overall_error_calculate_overall_inverse_f1_calculate_num_examples\n",
      "\t> Saved: 21_regularSample_randPop_yeast1_calculate_overall_error_calculate_overall_inverse_f1_calculate_num_examples\n",
      "\t> Saved: 22_regularSample_randPop_yeast1_calculate_overall_error_calculate_overall_inverse_f1_calculate_num_examples\n",
      "\t> Saved: 23_regularSample_randPop_yeast1_calculate_overall_error_calculate_overall_inverse_f1_calculate_num_examples\n",
      "\t> Saved: 24_regularSample_randPop_yeast1_calculate_overall_error_calculate_overall_inverse_f1_calculate_num_examples\n",
      "\t> Saved: 25_regularSample_randPop_yeast1_calculate_overall_error_calculate_overall_inverse_f1_calculate_num_examples\n",
      "\t> Saved: 26_regularSample_randPop_yeast1_calculate_overall_error_calculate_overall_inverse_f1_calculate_num_examples\n",
      "\t> Saved: 27_regularSample_randPop_yeast1_calculate_overall_error_calculate_overall_inverse_f1_calculate_num_examples\n",
      "\t> Saved: 28_regularSample_randPop_yeast1_calculate_overall_error_calculate_overall_inverse_f1_calculate_num_examples\n",
      "\t> Saved: 29_regularSample_randPop_yeast1_calculate_overall_error_calculate_overall_inverse_f1_calculate_num_examples\n",
      "\t> Saved: 30_regularSample_randPop_yeast1_calculate_overall_error_calculate_overall_inverse_f1_calculate_num_examples\n",
      "\n",
      "Created 31 packages\n",
      "\t- Finished 31 optimizations\n",
      "\t> Saved: 0_overSample_biasPop_yeast1_calculate_overall_error_calculate_overall_inverse_f1_calculate_num_examples\n",
      "\t> Saved: 1_overSample_biasPop_yeast1_calculate_overall_error_calculate_overall_inverse_f1_calculate_num_examples\n",
      "\t> Saved: 2_overSample_biasPop_yeast1_calculate_overall_error_calculate_overall_inverse_f1_calculate_num_examples\n",
      "\t> Saved: 3_overSample_biasPop_yeast1_calculate_overall_error_calculate_overall_inverse_f1_calculate_num_examples\n",
      "\t> Saved: 4_overSample_biasPop_yeast1_calculate_overall_error_calculate_overall_inverse_f1_calculate_num_examples\n",
      "\t> Saved: 5_overSample_biasPop_yeast1_calculate_overall_error_calculate_overall_inverse_f1_calculate_num_examples\n",
      "\t> Saved: 6_overSample_biasPop_yeast1_calculate_overall_error_calculate_overall_inverse_f1_calculate_num_examples\n",
      "\t> Saved: 7_overSample_biasPop_yeast1_calculate_overall_error_calculate_overall_inverse_f1_calculate_num_examples\n",
      "\t> Saved: 8_overSample_biasPop_yeast1_calculate_overall_error_calculate_overall_inverse_f1_calculate_num_examples\n",
      "\t> Saved: 9_overSample_biasPop_yeast1_calculate_overall_error_calculate_overall_inverse_f1_calculate_num_examples\n",
      "\t> Saved: 10_overSample_biasPop_yeast1_calculate_overall_error_calculate_overall_inverse_f1_calculate_num_examples\n",
      "\t> Saved: 11_overSample_biasPop_yeast1_calculate_overall_error_calculate_overall_inverse_f1_calculate_num_examples\n",
      "\t> Saved: 12_overSample_biasPop_yeast1_calculate_overall_error_calculate_overall_inverse_f1_calculate_num_examples\n",
      "\t> Saved: 13_overSample_biasPop_yeast1_calculate_overall_error_calculate_overall_inverse_f1_calculate_num_examples\n",
      "\t> Saved: 14_overSample_biasPop_yeast1_calculate_overall_error_calculate_overall_inverse_f1_calculate_num_examples\n",
      "\t> Saved: 15_overSample_biasPop_yeast1_calculate_overall_error_calculate_overall_inverse_f1_calculate_num_examples\n",
      "\t> Saved: 16_overSample_biasPop_yeast1_calculate_overall_error_calculate_overall_inverse_f1_calculate_num_examples\n",
      "\t> Saved: 17_overSample_biasPop_yeast1_calculate_overall_error_calculate_overall_inverse_f1_calculate_num_examples\n",
      "\t> Saved: 18_overSample_biasPop_yeast1_calculate_overall_error_calculate_overall_inverse_f1_calculate_num_examples\n",
      "\t> Saved: 19_overSample_biasPop_yeast1_calculate_overall_error_calculate_overall_inverse_f1_calculate_num_examples\n",
      "\t> Saved: 20_overSample_biasPop_yeast1_calculate_overall_error_calculate_overall_inverse_f1_calculate_num_examples\n",
      "\t> Saved: 21_overSample_biasPop_yeast1_calculate_overall_error_calculate_overall_inverse_f1_calculate_num_examples\n",
      "\t> Saved: 22_overSample_biasPop_yeast1_calculate_overall_error_calculate_overall_inverse_f1_calculate_num_examples\n",
      "\t> Saved: 23_overSample_biasPop_yeast1_calculate_overall_error_calculate_overall_inverse_f1_calculate_num_examples\n",
      "\t> Saved: 24_overSample_biasPop_yeast1_calculate_overall_error_calculate_overall_inverse_f1_calculate_num_examples\n",
      "\t> Saved: 25_overSample_biasPop_yeast1_calculate_overall_error_calculate_overall_inverse_f1_calculate_num_examples\n",
      "\t> Saved: 26_overSample_biasPop_yeast1_calculate_overall_error_calculate_overall_inverse_f1_calculate_num_examples\n",
      "\t> Saved: 27_overSample_biasPop_yeast1_calculate_overall_error_calculate_overall_inverse_f1_calculate_num_examples\n",
      "\t> Saved: 28_overSample_biasPop_yeast1_calculate_overall_error_calculate_overall_inverse_f1_calculate_num_examples\n",
      "\t> Saved: 29_overSample_biasPop_yeast1_calculate_overall_error_calculate_overall_inverse_f1_calculate_num_examples\n",
      "\t> Saved: 30_overSample_biasPop_yeast1_calculate_overall_error_calculate_overall_inverse_f1_calculate_num_examples\n",
      "\n",
      "Created 31 packages\n",
      "\t- Finished 31 optimizations\n",
      "\t> Saved: 0_regularSample_biasPop_yeast1_calculate_overall_error_calculate_overall_inverse_f1_calculate_num_examples\n",
      "\t> Saved: 1_regularSample_biasPop_yeast1_calculate_overall_error_calculate_overall_inverse_f1_calculate_num_examples\n",
      "\t> Saved: 2_regularSample_biasPop_yeast1_calculate_overall_error_calculate_overall_inverse_f1_calculate_num_examples\n",
      "\t> Saved: 3_regularSample_biasPop_yeast1_calculate_overall_error_calculate_overall_inverse_f1_calculate_num_examples\n",
      "\t> Saved: 4_regularSample_biasPop_yeast1_calculate_overall_error_calculate_overall_inverse_f1_calculate_num_examples\n",
      "\t> Saved: 5_regularSample_biasPop_yeast1_calculate_overall_error_calculate_overall_inverse_f1_calculate_num_examples\n",
      "\t> Saved: 6_regularSample_biasPop_yeast1_calculate_overall_error_calculate_overall_inverse_f1_calculate_num_examples\n",
      "\t> Saved: 7_regularSample_biasPop_yeast1_calculate_overall_error_calculate_overall_inverse_f1_calculate_num_examples\n",
      "\t> Saved: 8_regularSample_biasPop_yeast1_calculate_overall_error_calculate_overall_inverse_f1_calculate_num_examples\n",
      "\t> Saved: 9_regularSample_biasPop_yeast1_calculate_overall_error_calculate_overall_inverse_f1_calculate_num_examples\n",
      "\t> Saved: 10_regularSample_biasPop_yeast1_calculate_overall_error_calculate_overall_inverse_f1_calculate_num_examples\n",
      "\t> Saved: 11_regularSample_biasPop_yeast1_calculate_overall_error_calculate_overall_inverse_f1_calculate_num_examples\n",
      "\t> Saved: 12_regularSample_biasPop_yeast1_calculate_overall_error_calculate_overall_inverse_f1_calculate_num_examples\n",
      "\t> Saved: 13_regularSample_biasPop_yeast1_calculate_overall_error_calculate_overall_inverse_f1_calculate_num_examples\n",
      "\t> Saved: 14_regularSample_biasPop_yeast1_calculate_overall_error_calculate_overall_inverse_f1_calculate_num_examples\n",
      "\t> Saved: 15_regularSample_biasPop_yeast1_calculate_overall_error_calculate_overall_inverse_f1_calculate_num_examples\n",
      "\t> Saved: 16_regularSample_biasPop_yeast1_calculate_overall_error_calculate_overall_inverse_f1_calculate_num_examples\n",
      "\t> Saved: 17_regularSample_biasPop_yeast1_calculate_overall_error_calculate_overall_inverse_f1_calculate_num_examples\n",
      "\t> Saved: 18_regularSample_biasPop_yeast1_calculate_overall_error_calculate_overall_inverse_f1_calculate_num_examples\n",
      "\t> Saved: 19_regularSample_biasPop_yeast1_calculate_overall_error_calculate_overall_inverse_f1_calculate_num_examples\n",
      "\t> Saved: 20_regularSample_biasPop_yeast1_calculate_overall_error_calculate_overall_inverse_f1_calculate_num_examples\n",
      "\t> Saved: 21_regularSample_biasPop_yeast1_calculate_overall_error_calculate_overall_inverse_f1_calculate_num_examples\n",
      "\t> Saved: 22_regularSample_biasPop_yeast1_calculate_overall_error_calculate_overall_inverse_f1_calculate_num_examples\n",
      "\t> Saved: 23_regularSample_biasPop_yeast1_calculate_overall_error_calculate_overall_inverse_f1_calculate_num_examples\n",
      "\t> Saved: 24_regularSample_biasPop_yeast1_calculate_overall_error_calculate_overall_inverse_f1_calculate_num_examples\n",
      "\t> Saved: 25_regularSample_biasPop_yeast1_calculate_overall_error_calculate_overall_inverse_f1_calculate_num_examples\n",
      "\t> Saved: 26_regularSample_biasPop_yeast1_calculate_overall_error_calculate_overall_inverse_f1_calculate_num_examples\n",
      "\t> Saved: 27_regularSample_biasPop_yeast1_calculate_overall_error_calculate_overall_inverse_f1_calculate_num_examples\n",
      "\t> Saved: 28_regularSample_biasPop_yeast1_calculate_overall_error_calculate_overall_inverse_f1_calculate_num_examples\n",
      "\t> Saved: 29_regularSample_biasPop_yeast1_calculate_overall_error_calculate_overall_inverse_f1_calculate_num_examples\n",
      "\t> Saved: 30_regularSample_biasPop_yeast1_calculate_overall_error_calculate_overall_inverse_f1_calculate_num_examples\n",
      "\n",
      "Created 31 packages\n",
      "\t- Finished 31 optimizations\n",
      "\t> Saved: 0_overSample_randPop_australian_calculate_class0_error_calculate_class1_error\n",
      "\t> Saved: 1_overSample_randPop_australian_calculate_class0_error_calculate_class1_error\n",
      "\t> Saved: 2_overSample_randPop_australian_calculate_class0_error_calculate_class1_error\n",
      "\t> Saved: 3_overSample_randPop_australian_calculate_class0_error_calculate_class1_error\n",
      "\t> Saved: 4_overSample_randPop_australian_calculate_class0_error_calculate_class1_error\n",
      "\t> Saved: 5_overSample_randPop_australian_calculate_class0_error_calculate_class1_error\n",
      "\t> Saved: 6_overSample_randPop_australian_calculate_class0_error_calculate_class1_error\n",
      "\t> Saved: 7_overSample_randPop_australian_calculate_class0_error_calculate_class1_error\n",
      "\t> Saved: 8_overSample_randPop_australian_calculate_class0_error_calculate_class1_error\n",
      "\t> Saved: 9_overSample_randPop_australian_calculate_class0_error_calculate_class1_error\n",
      "\t> Saved: 10_overSample_randPop_australian_calculate_class0_error_calculate_class1_error\n",
      "\t> Saved: 11_overSample_randPop_australian_calculate_class0_error_calculate_class1_error\n",
      "\t> Saved: 12_overSample_randPop_australian_calculate_class0_error_calculate_class1_error\n",
      "\t> Saved: 13_overSample_randPop_australian_calculate_class0_error_calculate_class1_error\n",
      "\t> Saved: 14_overSample_randPop_australian_calculate_class0_error_calculate_class1_error\n",
      "\t> Saved: 15_overSample_randPop_australian_calculate_class0_error_calculate_class1_error\n",
      "\t> Saved: 16_overSample_randPop_australian_calculate_class0_error_calculate_class1_error\n",
      "\t> Saved: 17_overSample_randPop_australian_calculate_class0_error_calculate_class1_error\n",
      "\t> Saved: 18_overSample_randPop_australian_calculate_class0_error_calculate_class1_error\n",
      "\t> Saved: 19_overSample_randPop_australian_calculate_class0_error_calculate_class1_error\n",
      "\t> Saved: 20_overSample_randPop_australian_calculate_class0_error_calculate_class1_error\n",
      "\t> Saved: 21_overSample_randPop_australian_calculate_class0_error_calculate_class1_error\n",
      "\t> Saved: 22_overSample_randPop_australian_calculate_class0_error_calculate_class1_error\n",
      "\t> Saved: 23_overSample_randPop_australian_calculate_class0_error_calculate_class1_error\n",
      "\t> Saved: 24_overSample_randPop_australian_calculate_class0_error_calculate_class1_error\n",
      "\t> Saved: 25_overSample_randPop_australian_calculate_class0_error_calculate_class1_error\n",
      "\t> Saved: 26_overSample_randPop_australian_calculate_class0_error_calculate_class1_error\n",
      "\t> Saved: 27_overSample_randPop_australian_calculate_class0_error_calculate_class1_error\n",
      "\t> Saved: 28_overSample_randPop_australian_calculate_class0_error_calculate_class1_error\n",
      "\t> Saved: 29_overSample_randPop_australian_calculate_class0_error_calculate_class1_error\n",
      "\t> Saved: 30_overSample_randPop_australian_calculate_class0_error_calculate_class1_error\n",
      "\n",
      "Created 31 packages\n",
      "\t- Finished 31 optimizations\n",
      "\t> Saved: 0_regularSample_randPop_australian_calculate_class0_error_calculate_class1_error\n",
      "\t> Saved: 1_regularSample_randPop_australian_calculate_class0_error_calculate_class1_error\n",
      "\t> Saved: 2_regularSample_randPop_australian_calculate_class0_error_calculate_class1_error\n",
      "\t> Saved: 3_regularSample_randPop_australian_calculate_class0_error_calculate_class1_error\n",
      "\t> Saved: 4_regularSample_randPop_australian_calculate_class0_error_calculate_class1_error\n",
      "\t> Saved: 5_regularSample_randPop_australian_calculate_class0_error_calculate_class1_error\n",
      "\t> Saved: 6_regularSample_randPop_australian_calculate_class0_error_calculate_class1_error\n",
      "\t> Saved: 7_regularSample_randPop_australian_calculate_class0_error_calculate_class1_error\n",
      "\t> Saved: 8_regularSample_randPop_australian_calculate_class0_error_calculate_class1_error\n",
      "\t> Saved: 9_regularSample_randPop_australian_calculate_class0_error_calculate_class1_error\n",
      "\t> Saved: 10_regularSample_randPop_australian_calculate_class0_error_calculate_class1_error\n",
      "\t> Saved: 11_regularSample_randPop_australian_calculate_class0_error_calculate_class1_error\n",
      "\t> Saved: 12_regularSample_randPop_australian_calculate_class0_error_calculate_class1_error\n",
      "\t> Saved: 13_regularSample_randPop_australian_calculate_class0_error_calculate_class1_error\n",
      "\t> Saved: 14_regularSample_randPop_australian_calculate_class0_error_calculate_class1_error\n",
      "\t> Saved: 15_regularSample_randPop_australian_calculate_class0_error_calculate_class1_error\n",
      "\t> Saved: 16_regularSample_randPop_australian_calculate_class0_error_calculate_class1_error\n",
      "\t> Saved: 17_regularSample_randPop_australian_calculate_class0_error_calculate_class1_error\n",
      "\t> Saved: 18_regularSample_randPop_australian_calculate_class0_error_calculate_class1_error\n",
      "\t> Saved: 19_regularSample_randPop_australian_calculate_class0_error_calculate_class1_error\n",
      "\t> Saved: 20_regularSample_randPop_australian_calculate_class0_error_calculate_class1_error\n",
      "\t> Saved: 21_regularSample_randPop_australian_calculate_class0_error_calculate_class1_error\n",
      "\t> Saved: 22_regularSample_randPop_australian_calculate_class0_error_calculate_class1_error\n",
      "\t> Saved: 23_regularSample_randPop_australian_calculate_class0_error_calculate_class1_error\n",
      "\t> Saved: 24_regularSample_randPop_australian_calculate_class0_error_calculate_class1_error\n",
      "\t> Saved: 25_regularSample_randPop_australian_calculate_class0_error_calculate_class1_error\n",
      "\t> Saved: 26_regularSample_randPop_australian_calculate_class0_error_calculate_class1_error\n",
      "\t> Saved: 27_regularSample_randPop_australian_calculate_class0_error_calculate_class1_error\n",
      "\t> Saved: 28_regularSample_randPop_australian_calculate_class0_error_calculate_class1_error\n",
      "\t> Saved: 29_regularSample_randPop_australian_calculate_class0_error_calculate_class1_error\n",
      "\t> Saved: 30_regularSample_randPop_australian_calculate_class0_error_calculate_class1_error\n",
      "\n",
      "Created 31 packages\n",
      "\t- Finished 31 optimizations\n",
      "\t> Saved: 0_overSample_biasPop_australian_calculate_class0_error_calculate_class1_error\n",
      "\t> Saved: 1_overSample_biasPop_australian_calculate_class0_error_calculate_class1_error\n",
      "\t> Saved: 2_overSample_biasPop_australian_calculate_class0_error_calculate_class1_error\n",
      "\t> Saved: 3_overSample_biasPop_australian_calculate_class0_error_calculate_class1_error\n",
      "\t> Saved: 4_overSample_biasPop_australian_calculate_class0_error_calculate_class1_error\n",
      "\t> Saved: 5_overSample_biasPop_australian_calculate_class0_error_calculate_class1_error\n",
      "\t> Saved: 6_overSample_biasPop_australian_calculate_class0_error_calculate_class1_error\n",
      "\t> Saved: 7_overSample_biasPop_australian_calculate_class0_error_calculate_class1_error\n",
      "\t> Saved: 8_overSample_biasPop_australian_calculate_class0_error_calculate_class1_error\n",
      "\t> Saved: 9_overSample_biasPop_australian_calculate_class0_error_calculate_class1_error\n",
      "\t> Saved: 10_overSample_biasPop_australian_calculate_class0_error_calculate_class1_error\n",
      "\t> Saved: 11_overSample_biasPop_australian_calculate_class0_error_calculate_class1_error\n",
      "\t> Saved: 12_overSample_biasPop_australian_calculate_class0_error_calculate_class1_error\n",
      "\t> Saved: 13_overSample_biasPop_australian_calculate_class0_error_calculate_class1_error\n",
      "\t> Saved: 14_overSample_biasPop_australian_calculate_class0_error_calculate_class1_error\n",
      "\t> Saved: 15_overSample_biasPop_australian_calculate_class0_error_calculate_class1_error\n",
      "\t> Saved: 16_overSample_biasPop_australian_calculate_class0_error_calculate_class1_error\n",
      "\t> Saved: 17_overSample_biasPop_australian_calculate_class0_error_calculate_class1_error\n",
      "\t> Saved: 18_overSample_biasPop_australian_calculate_class0_error_calculate_class1_error\n",
      "\t> Saved: 19_overSample_biasPop_australian_calculate_class0_error_calculate_class1_error\n",
      "\t> Saved: 20_overSample_biasPop_australian_calculate_class0_error_calculate_class1_error\n",
      "\t> Saved: 21_overSample_biasPop_australian_calculate_class0_error_calculate_class1_error\n",
      "\t> Saved: 22_overSample_biasPop_australian_calculate_class0_error_calculate_class1_error\n",
      "\t> Saved: 23_overSample_biasPop_australian_calculate_class0_error_calculate_class1_error\n",
      "\t> Saved: 24_overSample_biasPop_australian_calculate_class0_error_calculate_class1_error\n",
      "\t> Saved: 25_overSample_biasPop_australian_calculate_class0_error_calculate_class1_error\n",
      "\t> Saved: 26_overSample_biasPop_australian_calculate_class0_error_calculate_class1_error\n",
      "\t> Saved: 27_overSample_biasPop_australian_calculate_class0_error_calculate_class1_error\n",
      "\t> Saved: 28_overSample_biasPop_australian_calculate_class0_error_calculate_class1_error\n",
      "\t> Saved: 29_overSample_biasPop_australian_calculate_class0_error_calculate_class1_error\n",
      "\t> Saved: 30_overSample_biasPop_australian_calculate_class0_error_calculate_class1_error\n",
      "\n",
      "Created 31 packages\n",
      "\t- Finished 31 optimizations\n",
      "\t> Saved: 0_regularSample_biasPop_australian_calculate_class0_error_calculate_class1_error\n",
      "\t> Saved: 1_regularSample_biasPop_australian_calculate_class0_error_calculate_class1_error\n",
      "\t> Saved: 2_regularSample_biasPop_australian_calculate_class0_error_calculate_class1_error\n",
      "\t> Saved: 3_regularSample_biasPop_australian_calculate_class0_error_calculate_class1_error\n",
      "\t> Saved: 4_regularSample_biasPop_australian_calculate_class0_error_calculate_class1_error\n",
      "\t> Saved: 5_regularSample_biasPop_australian_calculate_class0_error_calculate_class1_error\n",
      "\t> Saved: 6_regularSample_biasPop_australian_calculate_class0_error_calculate_class1_error\n",
      "\t> Saved: 7_regularSample_biasPop_australian_calculate_class0_error_calculate_class1_error\n",
      "\t> Saved: 8_regularSample_biasPop_australian_calculate_class0_error_calculate_class1_error\n",
      "\t> Saved: 9_regularSample_biasPop_australian_calculate_class0_error_calculate_class1_error\n",
      "\t> Saved: 10_regularSample_biasPop_australian_calculate_class0_error_calculate_class1_error\n",
      "\t> Saved: 11_regularSample_biasPop_australian_calculate_class0_error_calculate_class1_error\n",
      "\t> Saved: 12_regularSample_biasPop_australian_calculate_class0_error_calculate_class1_error\n",
      "\t> Saved: 13_regularSample_biasPop_australian_calculate_class0_error_calculate_class1_error\n",
      "\t> Saved: 14_regularSample_biasPop_australian_calculate_class0_error_calculate_class1_error\n",
      "\t> Saved: 15_regularSample_biasPop_australian_calculate_class0_error_calculate_class1_error\n",
      "\t> Saved: 16_regularSample_biasPop_australian_calculate_class0_error_calculate_class1_error\n",
      "\t> Saved: 17_regularSample_biasPop_australian_calculate_class0_error_calculate_class1_error\n",
      "\t> Saved: 18_regularSample_biasPop_australian_calculate_class0_error_calculate_class1_error\n",
      "\t> Saved: 19_regularSample_biasPop_australian_calculate_class0_error_calculate_class1_error\n",
      "\t> Saved: 20_regularSample_biasPop_australian_calculate_class0_error_calculate_class1_error\n",
      "\t> Saved: 21_regularSample_biasPop_australian_calculate_class0_error_calculate_class1_error\n",
      "\t> Saved: 22_regularSample_biasPop_australian_calculate_class0_error_calculate_class1_error\n",
      "\t> Saved: 23_regularSample_biasPop_australian_calculate_class0_error_calculate_class1_error\n",
      "\t> Saved: 24_regularSample_biasPop_australian_calculate_class0_error_calculate_class1_error\n",
      "\t> Saved: 25_regularSample_biasPop_australian_calculate_class0_error_calculate_class1_error\n",
      "\t> Saved: 26_regularSample_biasPop_australian_calculate_class0_error_calculate_class1_error\n",
      "\t> Saved: 27_regularSample_biasPop_australian_calculate_class0_error_calculate_class1_error\n",
      "\t> Saved: 28_regularSample_biasPop_australian_calculate_class0_error_calculate_class1_error\n",
      "\t> Saved: 29_regularSample_biasPop_australian_calculate_class0_error_calculate_class1_error\n",
      "\t> Saved: 30_regularSample_biasPop_australian_calculate_class0_error_calculate_class1_error\n",
      "\n",
      "Created 31 packages\n",
      "\t- Finished 31 optimizations\n",
      "\t> Saved: 0_overSample_randPop_bupa_calculate_class0_error_calculate_class1_error\n",
      "\t> Saved: 1_overSample_randPop_bupa_calculate_class0_error_calculate_class1_error\n",
      "\t> Saved: 2_overSample_randPop_bupa_calculate_class0_error_calculate_class1_error\n",
      "\t> Saved: 3_overSample_randPop_bupa_calculate_class0_error_calculate_class1_error\n",
      "\t> Saved: 4_overSample_randPop_bupa_calculate_class0_error_calculate_class1_error\n",
      "\t> Saved: 5_overSample_randPop_bupa_calculate_class0_error_calculate_class1_error\n",
      "\t> Saved: 6_overSample_randPop_bupa_calculate_class0_error_calculate_class1_error\n",
      "\t> Saved: 7_overSample_randPop_bupa_calculate_class0_error_calculate_class1_error\n",
      "\t> Saved: 8_overSample_randPop_bupa_calculate_class0_error_calculate_class1_error\n",
      "\t> Saved: 9_overSample_randPop_bupa_calculate_class0_error_calculate_class1_error\n",
      "\t> Saved: 10_overSample_randPop_bupa_calculate_class0_error_calculate_class1_error\n",
      "\t> Saved: 11_overSample_randPop_bupa_calculate_class0_error_calculate_class1_error\n",
      "\t> Saved: 12_overSample_randPop_bupa_calculate_class0_error_calculate_class1_error\n",
      "\t> Saved: 13_overSample_randPop_bupa_calculate_class0_error_calculate_class1_error\n",
      "\t> Saved: 14_overSample_randPop_bupa_calculate_class0_error_calculate_class1_error\n",
      "\t> Saved: 15_overSample_randPop_bupa_calculate_class0_error_calculate_class1_error\n",
      "\t> Saved: 16_overSample_randPop_bupa_calculate_class0_error_calculate_class1_error\n",
      "\t> Saved: 17_overSample_randPop_bupa_calculate_class0_error_calculate_class1_error\n",
      "\t> Saved: 18_overSample_randPop_bupa_calculate_class0_error_calculate_class1_error\n",
      "\t> Saved: 19_overSample_randPop_bupa_calculate_class0_error_calculate_class1_error\n",
      "\t> Saved: 20_overSample_randPop_bupa_calculate_class0_error_calculate_class1_error\n",
      "\t> Saved: 21_overSample_randPop_bupa_calculate_class0_error_calculate_class1_error\n",
      "\t> Saved: 22_overSample_randPop_bupa_calculate_class0_error_calculate_class1_error\n",
      "\t> Saved: 23_overSample_randPop_bupa_calculate_class0_error_calculate_class1_error\n",
      "\t> Saved: 24_overSample_randPop_bupa_calculate_class0_error_calculate_class1_error\n",
      "\t> Saved: 25_overSample_randPop_bupa_calculate_class0_error_calculate_class1_error\n",
      "\t> Saved: 26_overSample_randPop_bupa_calculate_class0_error_calculate_class1_error\n",
      "\t> Saved: 27_overSample_randPop_bupa_calculate_class0_error_calculate_class1_error\n",
      "\t> Saved: 28_overSample_randPop_bupa_calculate_class0_error_calculate_class1_error\n",
      "\t> Saved: 29_overSample_randPop_bupa_calculate_class0_error_calculate_class1_error\n",
      "\t> Saved: 30_overSample_randPop_bupa_calculate_class0_error_calculate_class1_error\n",
      "\n",
      "Created 31 packages\n",
      "\t- Finished 31 optimizations\n",
      "\t> Saved: 0_regularSample_randPop_bupa_calculate_class0_error_calculate_class1_error\n",
      "\t> Saved: 1_regularSample_randPop_bupa_calculate_class0_error_calculate_class1_error\n",
      "\t> Saved: 2_regularSample_randPop_bupa_calculate_class0_error_calculate_class1_error\n",
      "\t> Saved: 3_regularSample_randPop_bupa_calculate_class0_error_calculate_class1_error\n",
      "\t> Saved: 4_regularSample_randPop_bupa_calculate_class0_error_calculate_class1_error\n",
      "\t> Saved: 5_regularSample_randPop_bupa_calculate_class0_error_calculate_class1_error\n",
      "\t> Saved: 6_regularSample_randPop_bupa_calculate_class0_error_calculate_class1_error\n",
      "\t> Saved: 7_regularSample_randPop_bupa_calculate_class0_error_calculate_class1_error\n",
      "\t> Saved: 8_regularSample_randPop_bupa_calculate_class0_error_calculate_class1_error\n",
      "\t> Saved: 9_regularSample_randPop_bupa_calculate_class0_error_calculate_class1_error\n",
      "\t> Saved: 10_regularSample_randPop_bupa_calculate_class0_error_calculate_class1_error\n",
      "\t> Saved: 11_regularSample_randPop_bupa_calculate_class0_error_calculate_class1_error\n",
      "\t> Saved: 12_regularSample_randPop_bupa_calculate_class0_error_calculate_class1_error\n",
      "\t> Saved: 13_regularSample_randPop_bupa_calculate_class0_error_calculate_class1_error\n",
      "\t> Saved: 14_regularSample_randPop_bupa_calculate_class0_error_calculate_class1_error\n",
      "\t> Saved: 15_regularSample_randPop_bupa_calculate_class0_error_calculate_class1_error\n",
      "\t> Saved: 16_regularSample_randPop_bupa_calculate_class0_error_calculate_class1_error\n",
      "\t> Saved: 17_regularSample_randPop_bupa_calculate_class0_error_calculate_class1_error\n",
      "\t> Saved: 18_regularSample_randPop_bupa_calculate_class0_error_calculate_class1_error\n",
      "\t> Saved: 19_regularSample_randPop_bupa_calculate_class0_error_calculate_class1_error\n",
      "\t> Saved: 20_regularSample_randPop_bupa_calculate_class0_error_calculate_class1_error\n",
      "\t> Saved: 21_regularSample_randPop_bupa_calculate_class0_error_calculate_class1_error\n",
      "\t> Saved: 22_regularSample_randPop_bupa_calculate_class0_error_calculate_class1_error\n",
      "\t> Saved: 23_regularSample_randPop_bupa_calculate_class0_error_calculate_class1_error\n",
      "\t> Saved: 24_regularSample_randPop_bupa_calculate_class0_error_calculate_class1_error\n",
      "\t> Saved: 25_regularSample_randPop_bupa_calculate_class0_error_calculate_class1_error\n",
      "\t> Saved: 26_regularSample_randPop_bupa_calculate_class0_error_calculate_class1_error\n",
      "\t> Saved: 27_regularSample_randPop_bupa_calculate_class0_error_calculate_class1_error\n",
      "\t> Saved: 28_regularSample_randPop_bupa_calculate_class0_error_calculate_class1_error\n",
      "\t> Saved: 29_regularSample_randPop_bupa_calculate_class0_error_calculate_class1_error\n",
      "\t> Saved: 30_regularSample_randPop_bupa_calculate_class0_error_calculate_class1_error\n",
      "\n",
      "Created 31 packages\n",
      "\t- Finished 31 optimizations\n",
      "\t> Saved: 0_overSample_biasPop_bupa_calculate_class0_error_calculate_class1_error\n",
      "\t> Saved: 1_overSample_biasPop_bupa_calculate_class0_error_calculate_class1_error\n",
      "\t> Saved: 2_overSample_biasPop_bupa_calculate_class0_error_calculate_class1_error\n",
      "\t> Saved: 3_overSample_biasPop_bupa_calculate_class0_error_calculate_class1_error\n",
      "\t> Saved: 4_overSample_biasPop_bupa_calculate_class0_error_calculate_class1_error\n",
      "\t> Saved: 5_overSample_biasPop_bupa_calculate_class0_error_calculate_class1_error\n",
      "\t> Saved: 6_overSample_biasPop_bupa_calculate_class0_error_calculate_class1_error\n",
      "\t> Saved: 7_overSample_biasPop_bupa_calculate_class0_error_calculate_class1_error\n",
      "\t> Saved: 8_overSample_biasPop_bupa_calculate_class0_error_calculate_class1_error\n",
      "\t> Saved: 9_overSample_biasPop_bupa_calculate_class0_error_calculate_class1_error\n",
      "\t> Saved: 10_overSample_biasPop_bupa_calculate_class0_error_calculate_class1_error\n",
      "\t> Saved: 11_overSample_biasPop_bupa_calculate_class0_error_calculate_class1_error\n",
      "\t> Saved: 12_overSample_biasPop_bupa_calculate_class0_error_calculate_class1_error\n",
      "\t> Saved: 13_overSample_biasPop_bupa_calculate_class0_error_calculate_class1_error\n",
      "\t> Saved: 14_overSample_biasPop_bupa_calculate_class0_error_calculate_class1_error\n",
      "\t> Saved: 15_overSample_biasPop_bupa_calculate_class0_error_calculate_class1_error\n",
      "\t> Saved: 16_overSample_biasPop_bupa_calculate_class0_error_calculate_class1_error\n",
      "\t> Saved: 17_overSample_biasPop_bupa_calculate_class0_error_calculate_class1_error\n",
      "\t> Saved: 18_overSample_biasPop_bupa_calculate_class0_error_calculate_class1_error\n",
      "\t> Saved: 19_overSample_biasPop_bupa_calculate_class0_error_calculate_class1_error\n",
      "\t> Saved: 20_overSample_biasPop_bupa_calculate_class0_error_calculate_class1_error\n",
      "\t> Saved: 21_overSample_biasPop_bupa_calculate_class0_error_calculate_class1_error\n",
      "\t> Saved: 22_overSample_biasPop_bupa_calculate_class0_error_calculate_class1_error\n",
      "\t> Saved: 23_overSample_biasPop_bupa_calculate_class0_error_calculate_class1_error\n",
      "\t> Saved: 24_overSample_biasPop_bupa_calculate_class0_error_calculate_class1_error\n",
      "\t> Saved: 25_overSample_biasPop_bupa_calculate_class0_error_calculate_class1_error\n",
      "\t> Saved: 26_overSample_biasPop_bupa_calculate_class0_error_calculate_class1_error\n",
      "\t> Saved: 27_overSample_biasPop_bupa_calculate_class0_error_calculate_class1_error\n",
      "\t> Saved: 28_overSample_biasPop_bupa_calculate_class0_error_calculate_class1_error\n",
      "\t> Saved: 29_overSample_biasPop_bupa_calculate_class0_error_calculate_class1_error\n",
      "\t> Saved: 30_overSample_biasPop_bupa_calculate_class0_error_calculate_class1_error\n",
      "\n",
      "Created 31 packages\n",
      "\t- Finished 31 optimizations\n",
      "\t> Saved: 0_regularSample_biasPop_bupa_calculate_class0_error_calculate_class1_error\n",
      "\t> Saved: 1_regularSample_biasPop_bupa_calculate_class0_error_calculate_class1_error\n",
      "\t> Saved: 2_regularSample_biasPop_bupa_calculate_class0_error_calculate_class1_error\n",
      "\t> Saved: 3_regularSample_biasPop_bupa_calculate_class0_error_calculate_class1_error\n",
      "\t> Saved: 4_regularSample_biasPop_bupa_calculate_class0_error_calculate_class1_error\n",
      "\t> Saved: 5_regularSample_biasPop_bupa_calculate_class0_error_calculate_class1_error\n",
      "\t> Saved: 6_regularSample_biasPop_bupa_calculate_class0_error_calculate_class1_error\n",
      "\t> Saved: 7_regularSample_biasPop_bupa_calculate_class0_error_calculate_class1_error\n",
      "\t> Saved: 8_regularSample_biasPop_bupa_calculate_class0_error_calculate_class1_error\n",
      "\t> Saved: 9_regularSample_biasPop_bupa_calculate_class0_error_calculate_class1_error\n",
      "\t> Saved: 10_regularSample_biasPop_bupa_calculate_class0_error_calculate_class1_error\n",
      "\t> Saved: 11_regularSample_biasPop_bupa_calculate_class0_error_calculate_class1_error\n",
      "\t> Saved: 12_regularSample_biasPop_bupa_calculate_class0_error_calculate_class1_error\n",
      "\t> Saved: 13_regularSample_biasPop_bupa_calculate_class0_error_calculate_class1_error\n",
      "\t> Saved: 14_regularSample_biasPop_bupa_calculate_class0_error_calculate_class1_error\n",
      "\t> Saved: 15_regularSample_biasPop_bupa_calculate_class0_error_calculate_class1_error\n",
      "\t> Saved: 16_regularSample_biasPop_bupa_calculate_class0_error_calculate_class1_error\n",
      "\t> Saved: 17_regularSample_biasPop_bupa_calculate_class0_error_calculate_class1_error\n",
      "\t> Saved: 18_regularSample_biasPop_bupa_calculate_class0_error_calculate_class1_error\n",
      "\t> Saved: 19_regularSample_biasPop_bupa_calculate_class0_error_calculate_class1_error\n",
      "\t> Saved: 20_regularSample_biasPop_bupa_calculate_class0_error_calculate_class1_error\n",
      "\t> Saved: 21_regularSample_biasPop_bupa_calculate_class0_error_calculate_class1_error\n",
      "\t> Saved: 22_regularSample_biasPop_bupa_calculate_class0_error_calculate_class1_error\n",
      "\t> Saved: 23_regularSample_biasPop_bupa_calculate_class0_error_calculate_class1_error\n",
      "\t> Saved: 24_regularSample_biasPop_bupa_calculate_class0_error_calculate_class1_error\n",
      "\t> Saved: 25_regularSample_biasPop_bupa_calculate_class0_error_calculate_class1_error\n",
      "\t> Saved: 26_regularSample_biasPop_bupa_calculate_class0_error_calculate_class1_error\n",
      "\t> Saved: 27_regularSample_biasPop_bupa_calculate_class0_error_calculate_class1_error\n",
      "\t> Saved: 28_regularSample_biasPop_bupa_calculate_class0_error_calculate_class1_error\n",
      "\t> Saved: 29_regularSample_biasPop_bupa_calculate_class0_error_calculate_class1_error\n",
      "\t> Saved: 30_regularSample_biasPop_bupa_calculate_class0_error_calculate_class1_error\n",
      "\n",
      "Created 31 packages\n",
      "\t- Finished 31 optimizations\n",
      "\t> Saved: 0_overSample_randPop_glass1_calculate_class0_error_calculate_class1_error\n",
      "\t> Saved: 1_overSample_randPop_glass1_calculate_class0_error_calculate_class1_error\n",
      "\t> Saved: 2_overSample_randPop_glass1_calculate_class0_error_calculate_class1_error\n",
      "\t> Saved: 3_overSample_randPop_glass1_calculate_class0_error_calculate_class1_error\n",
      "\t> Saved: 4_overSample_randPop_glass1_calculate_class0_error_calculate_class1_error\n",
      "\t> Saved: 5_overSample_randPop_glass1_calculate_class0_error_calculate_class1_error\n",
      "\t> Saved: 6_overSample_randPop_glass1_calculate_class0_error_calculate_class1_error\n",
      "\t> Saved: 7_overSample_randPop_glass1_calculate_class0_error_calculate_class1_error\n",
      "\t> Saved: 8_overSample_randPop_glass1_calculate_class0_error_calculate_class1_error\n",
      "\t> Saved: 9_overSample_randPop_glass1_calculate_class0_error_calculate_class1_error\n",
      "\t> Saved: 10_overSample_randPop_glass1_calculate_class0_error_calculate_class1_error\n",
      "\t> Saved: 11_overSample_randPop_glass1_calculate_class0_error_calculate_class1_error\n",
      "\t> Saved: 12_overSample_randPop_glass1_calculate_class0_error_calculate_class1_error\n",
      "\t> Saved: 13_overSample_randPop_glass1_calculate_class0_error_calculate_class1_error\n",
      "\t> Saved: 14_overSample_randPop_glass1_calculate_class0_error_calculate_class1_error\n",
      "\t> Saved: 15_overSample_randPop_glass1_calculate_class0_error_calculate_class1_error\n",
      "\t> Saved: 16_overSample_randPop_glass1_calculate_class0_error_calculate_class1_error\n",
      "\t> Saved: 17_overSample_randPop_glass1_calculate_class0_error_calculate_class1_error\n",
      "\t> Saved: 18_overSample_randPop_glass1_calculate_class0_error_calculate_class1_error\n",
      "\t> Saved: 19_overSample_randPop_glass1_calculate_class0_error_calculate_class1_error\n",
      "\t> Saved: 20_overSample_randPop_glass1_calculate_class0_error_calculate_class1_error\n",
      "\t> Saved: 21_overSample_randPop_glass1_calculate_class0_error_calculate_class1_error\n",
      "\t> Saved: 22_overSample_randPop_glass1_calculate_class0_error_calculate_class1_error\n",
      "\t> Saved: 23_overSample_randPop_glass1_calculate_class0_error_calculate_class1_error\n",
      "\t> Saved: 24_overSample_randPop_glass1_calculate_class0_error_calculate_class1_error\n",
      "\t> Saved: 25_overSample_randPop_glass1_calculate_class0_error_calculate_class1_error\n",
      "\t> Saved: 26_overSample_randPop_glass1_calculate_class0_error_calculate_class1_error\n",
      "\t> Saved: 27_overSample_randPop_glass1_calculate_class0_error_calculate_class1_error\n",
      "\t> Saved: 28_overSample_randPop_glass1_calculate_class0_error_calculate_class1_error\n",
      "\t> Saved: 29_overSample_randPop_glass1_calculate_class0_error_calculate_class1_error\n",
      "\t> Saved: 30_overSample_randPop_glass1_calculate_class0_error_calculate_class1_error\n",
      "\n",
      "Created 31 packages\n",
      "\t- Finished 31 optimizations\n",
      "\t> Saved: 0_regularSample_randPop_glass1_calculate_class0_error_calculate_class1_error\n",
      "\t> Saved: 1_regularSample_randPop_glass1_calculate_class0_error_calculate_class1_error\n",
      "\t> Saved: 2_regularSample_randPop_glass1_calculate_class0_error_calculate_class1_error\n",
      "\t> Saved: 3_regularSample_randPop_glass1_calculate_class0_error_calculate_class1_error\n",
      "\t> Saved: 4_regularSample_randPop_glass1_calculate_class0_error_calculate_class1_error\n",
      "\t> Saved: 5_regularSample_randPop_glass1_calculate_class0_error_calculate_class1_error\n",
      "\t> Saved: 6_regularSample_randPop_glass1_calculate_class0_error_calculate_class1_error\n",
      "\t> Saved: 7_regularSample_randPop_glass1_calculate_class0_error_calculate_class1_error\n",
      "\t> Saved: 8_regularSample_randPop_glass1_calculate_class0_error_calculate_class1_error\n",
      "\t> Saved: 9_regularSample_randPop_glass1_calculate_class0_error_calculate_class1_error\n",
      "\t> Saved: 10_regularSample_randPop_glass1_calculate_class0_error_calculate_class1_error\n",
      "\t> Saved: 11_regularSample_randPop_glass1_calculate_class0_error_calculate_class1_error\n",
      "\t> Saved: 12_regularSample_randPop_glass1_calculate_class0_error_calculate_class1_error\n",
      "\t> Saved: 13_regularSample_randPop_glass1_calculate_class0_error_calculate_class1_error\n",
      "\t> Saved: 14_regularSample_randPop_glass1_calculate_class0_error_calculate_class1_error\n",
      "\t> Saved: 15_regularSample_randPop_glass1_calculate_class0_error_calculate_class1_error\n",
      "\t> Saved: 16_regularSample_randPop_glass1_calculate_class0_error_calculate_class1_error\n",
      "\t> Saved: 17_regularSample_randPop_glass1_calculate_class0_error_calculate_class1_error\n",
      "\t> Saved: 18_regularSample_randPop_glass1_calculate_class0_error_calculate_class1_error\n",
      "\t> Saved: 19_regularSample_randPop_glass1_calculate_class0_error_calculate_class1_error\n",
      "\t> Saved: 20_regularSample_randPop_glass1_calculate_class0_error_calculate_class1_error\n",
      "\t> Saved: 21_regularSample_randPop_glass1_calculate_class0_error_calculate_class1_error\n",
      "\t> Saved: 22_regularSample_randPop_glass1_calculate_class0_error_calculate_class1_error\n",
      "\t> Saved: 23_regularSample_randPop_glass1_calculate_class0_error_calculate_class1_error\n",
      "\t> Saved: 24_regularSample_randPop_glass1_calculate_class0_error_calculate_class1_error\n",
      "\t> Saved: 25_regularSample_randPop_glass1_calculate_class0_error_calculate_class1_error\n",
      "\t> Saved: 26_regularSample_randPop_glass1_calculate_class0_error_calculate_class1_error\n",
      "\t> Saved: 27_regularSample_randPop_glass1_calculate_class0_error_calculate_class1_error\n",
      "\t> Saved: 28_regularSample_randPop_glass1_calculate_class0_error_calculate_class1_error\n",
      "\t> Saved: 29_regularSample_randPop_glass1_calculate_class0_error_calculate_class1_error\n",
      "\t> Saved: 30_regularSample_randPop_glass1_calculate_class0_error_calculate_class1_error\n",
      "\n",
      "Created 31 packages\n",
      "\t- Finished 31 optimizations\n",
      "\t> Saved: 0_overSample_biasPop_glass1_calculate_class0_error_calculate_class1_error\n",
      "\t> Saved: 1_overSample_biasPop_glass1_calculate_class0_error_calculate_class1_error\n",
      "\t> Saved: 2_overSample_biasPop_glass1_calculate_class0_error_calculate_class1_error\n",
      "\t> Saved: 3_overSample_biasPop_glass1_calculate_class0_error_calculate_class1_error\n",
      "\t> Saved: 4_overSample_biasPop_glass1_calculate_class0_error_calculate_class1_error\n",
      "\t> Saved: 5_overSample_biasPop_glass1_calculate_class0_error_calculate_class1_error\n",
      "\t> Saved: 6_overSample_biasPop_glass1_calculate_class0_error_calculate_class1_error\n",
      "\t> Saved: 7_overSample_biasPop_glass1_calculate_class0_error_calculate_class1_error\n",
      "\t> Saved: 8_overSample_biasPop_glass1_calculate_class0_error_calculate_class1_error\n",
      "\t> Saved: 9_overSample_biasPop_glass1_calculate_class0_error_calculate_class1_error\n",
      "\t> Saved: 10_overSample_biasPop_glass1_calculate_class0_error_calculate_class1_error\n",
      "\t> Saved: 11_overSample_biasPop_glass1_calculate_class0_error_calculate_class1_error\n",
      "\t> Saved: 12_overSample_biasPop_glass1_calculate_class0_error_calculate_class1_error\n",
      "\t> Saved: 13_overSample_biasPop_glass1_calculate_class0_error_calculate_class1_error\n",
      "\t> Saved: 14_overSample_biasPop_glass1_calculate_class0_error_calculate_class1_error\n",
      "\t> Saved: 15_overSample_biasPop_glass1_calculate_class0_error_calculate_class1_error\n",
      "\t> Saved: 16_overSample_biasPop_glass1_calculate_class0_error_calculate_class1_error\n",
      "\t> Saved: 17_overSample_biasPop_glass1_calculate_class0_error_calculate_class1_error\n",
      "\t> Saved: 18_overSample_biasPop_glass1_calculate_class0_error_calculate_class1_error\n",
      "\t> Saved: 19_overSample_biasPop_glass1_calculate_class0_error_calculate_class1_error\n",
      "\t> Saved: 20_overSample_biasPop_glass1_calculate_class0_error_calculate_class1_error\n",
      "\t> Saved: 21_overSample_biasPop_glass1_calculate_class0_error_calculate_class1_error\n",
      "\t> Saved: 22_overSample_biasPop_glass1_calculate_class0_error_calculate_class1_error\n",
      "\t> Saved: 23_overSample_biasPop_glass1_calculate_class0_error_calculate_class1_error\n",
      "\t> Saved: 24_overSample_biasPop_glass1_calculate_class0_error_calculate_class1_error\n",
      "\t> Saved: 25_overSample_biasPop_glass1_calculate_class0_error_calculate_class1_error\n",
      "\t> Saved: 26_overSample_biasPop_glass1_calculate_class0_error_calculate_class1_error\n",
      "\t> Saved: 27_overSample_biasPop_glass1_calculate_class0_error_calculate_class1_error\n",
      "\t> Saved: 28_overSample_biasPop_glass1_calculate_class0_error_calculate_class1_error\n",
      "\t> Saved: 29_overSample_biasPop_glass1_calculate_class0_error_calculate_class1_error\n",
      "\t> Saved: 30_overSample_biasPop_glass1_calculate_class0_error_calculate_class1_error\n",
      "\n",
      "Created 31 packages\n",
      "\t- Finished 31 optimizations\n",
      "\t> Saved: 0_regularSample_biasPop_glass1_calculate_class0_error_calculate_class1_error\n",
      "\t> Saved: 1_regularSample_biasPop_glass1_calculate_class0_error_calculate_class1_error\n",
      "\t> Saved: 2_regularSample_biasPop_glass1_calculate_class0_error_calculate_class1_error\n",
      "\t> Saved: 3_regularSample_biasPop_glass1_calculate_class0_error_calculate_class1_error\n",
      "\t> Saved: 4_regularSample_biasPop_glass1_calculate_class0_error_calculate_class1_error\n",
      "\t> Saved: 5_regularSample_biasPop_glass1_calculate_class0_error_calculate_class1_error\n",
      "\t> Saved: 6_regularSample_biasPop_glass1_calculate_class0_error_calculate_class1_error\n",
      "\t> Saved: 7_regularSample_biasPop_glass1_calculate_class0_error_calculate_class1_error\n",
      "\t> Saved: 8_regularSample_biasPop_glass1_calculate_class0_error_calculate_class1_error\n",
      "\t> Saved: 9_regularSample_biasPop_glass1_calculate_class0_error_calculate_class1_error\n",
      "\t> Saved: 10_regularSample_biasPop_glass1_calculate_class0_error_calculate_class1_error\n",
      "\t> Saved: 11_regularSample_biasPop_glass1_calculate_class0_error_calculate_class1_error\n",
      "\t> Saved: 12_regularSample_biasPop_glass1_calculate_class0_error_calculate_class1_error\n",
      "\t> Saved: 13_regularSample_biasPop_glass1_calculate_class0_error_calculate_class1_error\n",
      "\t> Saved: 14_regularSample_biasPop_glass1_calculate_class0_error_calculate_class1_error\n",
      "\t> Saved: 15_regularSample_biasPop_glass1_calculate_class0_error_calculate_class1_error\n",
      "\t> Saved: 16_regularSample_biasPop_glass1_calculate_class0_error_calculate_class1_error\n",
      "\t> Saved: 17_regularSample_biasPop_glass1_calculate_class0_error_calculate_class1_error\n",
      "\t> Saved: 18_regularSample_biasPop_glass1_calculate_class0_error_calculate_class1_error\n",
      "\t> Saved: 19_regularSample_biasPop_glass1_calculate_class0_error_calculate_class1_error\n",
      "\t> Saved: 20_regularSample_biasPop_glass1_calculate_class0_error_calculate_class1_error\n",
      "\t> Saved: 21_regularSample_biasPop_glass1_calculate_class0_error_calculate_class1_error\n",
      "\t> Saved: 22_regularSample_biasPop_glass1_calculate_class0_error_calculate_class1_error\n",
      "\t> Saved: 23_regularSample_biasPop_glass1_calculate_class0_error_calculate_class1_error\n",
      "\t> Saved: 24_regularSample_biasPop_glass1_calculate_class0_error_calculate_class1_error\n",
      "\t> Saved: 25_regularSample_biasPop_glass1_calculate_class0_error_calculate_class1_error\n",
      "\t> Saved: 26_regularSample_biasPop_glass1_calculate_class0_error_calculate_class1_error\n",
      "\t> Saved: 27_regularSample_biasPop_glass1_calculate_class0_error_calculate_class1_error\n",
      "\t> Saved: 28_regularSample_biasPop_glass1_calculate_class0_error_calculate_class1_error\n",
      "\t> Saved: 29_regularSample_biasPop_glass1_calculate_class0_error_calculate_class1_error\n",
      "\t> Saved: 30_regularSample_biasPop_glass1_calculate_class0_error_calculate_class1_error\n",
      "\n",
      "Created 31 packages\n",
      "\t- Finished 31 optimizations\n",
      "\t> Saved: 0_overSample_randPop_pima_calculate_class0_error_calculate_class1_error\n",
      "\t> Saved: 1_overSample_randPop_pima_calculate_class0_error_calculate_class1_error\n",
      "\t> Saved: 2_overSample_randPop_pima_calculate_class0_error_calculate_class1_error\n",
      "\t> Saved: 3_overSample_randPop_pima_calculate_class0_error_calculate_class1_error\n",
      "\t> Saved: 4_overSample_randPop_pima_calculate_class0_error_calculate_class1_error\n",
      "\t> Saved: 5_overSample_randPop_pima_calculate_class0_error_calculate_class1_error\n",
      "\t> Saved: 6_overSample_randPop_pima_calculate_class0_error_calculate_class1_error\n",
      "\t> Saved: 7_overSample_randPop_pima_calculate_class0_error_calculate_class1_error\n",
      "\t> Saved: 8_overSample_randPop_pima_calculate_class0_error_calculate_class1_error\n",
      "\t> Saved: 9_overSample_randPop_pima_calculate_class0_error_calculate_class1_error\n",
      "\t> Saved: 10_overSample_randPop_pima_calculate_class0_error_calculate_class1_error\n",
      "\t> Saved: 11_overSample_randPop_pima_calculate_class0_error_calculate_class1_error\n",
      "\t> Saved: 12_overSample_randPop_pima_calculate_class0_error_calculate_class1_error\n",
      "\t> Saved: 13_overSample_randPop_pima_calculate_class0_error_calculate_class1_error\n",
      "\t> Saved: 14_overSample_randPop_pima_calculate_class0_error_calculate_class1_error\n",
      "\t> Saved: 15_overSample_randPop_pima_calculate_class0_error_calculate_class1_error\n",
      "\t> Saved: 16_overSample_randPop_pima_calculate_class0_error_calculate_class1_error\n",
      "\t> Saved: 17_overSample_randPop_pima_calculate_class0_error_calculate_class1_error\n",
      "\t> Saved: 18_overSample_randPop_pima_calculate_class0_error_calculate_class1_error\n",
      "\t> Saved: 19_overSample_randPop_pima_calculate_class0_error_calculate_class1_error\n",
      "\t> Saved: 20_overSample_randPop_pima_calculate_class0_error_calculate_class1_error\n",
      "\t> Saved: 21_overSample_randPop_pima_calculate_class0_error_calculate_class1_error\n",
      "\t> Saved: 22_overSample_randPop_pima_calculate_class0_error_calculate_class1_error\n",
      "\t> Saved: 23_overSample_randPop_pima_calculate_class0_error_calculate_class1_error\n",
      "\t> Saved: 24_overSample_randPop_pima_calculate_class0_error_calculate_class1_error\n",
      "\t> Saved: 25_overSample_randPop_pima_calculate_class0_error_calculate_class1_error\n",
      "\t> Saved: 26_overSample_randPop_pima_calculate_class0_error_calculate_class1_error\n",
      "\t> Saved: 27_overSample_randPop_pima_calculate_class0_error_calculate_class1_error\n",
      "\t> Saved: 28_overSample_randPop_pima_calculate_class0_error_calculate_class1_error\n",
      "\t> Saved: 29_overSample_randPop_pima_calculate_class0_error_calculate_class1_error\n",
      "\t> Saved: 30_overSample_randPop_pima_calculate_class0_error_calculate_class1_error\n",
      "\n",
      "Created 31 packages\n",
      "\t- Finished 31 optimizations\n",
      "\t> Saved: 0_regularSample_randPop_pima_calculate_class0_error_calculate_class1_error\n",
      "\t> Saved: 1_regularSample_randPop_pima_calculate_class0_error_calculate_class1_error\n",
      "\t> Saved: 2_regularSample_randPop_pima_calculate_class0_error_calculate_class1_error\n",
      "\t> Saved: 3_regularSample_randPop_pima_calculate_class0_error_calculate_class1_error\n",
      "\t> Saved: 4_regularSample_randPop_pima_calculate_class0_error_calculate_class1_error\n",
      "\t> Saved: 5_regularSample_randPop_pima_calculate_class0_error_calculate_class1_error\n",
      "\t> Saved: 6_regularSample_randPop_pima_calculate_class0_error_calculate_class1_error\n",
      "\t> Saved: 7_regularSample_randPop_pima_calculate_class0_error_calculate_class1_error\n",
      "\t> Saved: 8_regularSample_randPop_pima_calculate_class0_error_calculate_class1_error\n",
      "\t> Saved: 9_regularSample_randPop_pima_calculate_class0_error_calculate_class1_error\n",
      "\t> Saved: 10_regularSample_randPop_pima_calculate_class0_error_calculate_class1_error\n",
      "\t> Saved: 11_regularSample_randPop_pima_calculate_class0_error_calculate_class1_error\n",
      "\t> Saved: 12_regularSample_randPop_pima_calculate_class0_error_calculate_class1_error\n",
      "\t> Saved: 13_regularSample_randPop_pima_calculate_class0_error_calculate_class1_error\n",
      "\t> Saved: 14_regularSample_randPop_pima_calculate_class0_error_calculate_class1_error\n",
      "\t> Saved: 15_regularSample_randPop_pima_calculate_class0_error_calculate_class1_error\n",
      "\t> Saved: 16_regularSample_randPop_pima_calculate_class0_error_calculate_class1_error\n",
      "\t> Saved: 17_regularSample_randPop_pima_calculate_class0_error_calculate_class1_error\n",
      "\t> Saved: 18_regularSample_randPop_pima_calculate_class0_error_calculate_class1_error\n",
      "\t> Saved: 19_regularSample_randPop_pima_calculate_class0_error_calculate_class1_error\n",
      "\t> Saved: 20_regularSample_randPop_pima_calculate_class0_error_calculate_class1_error\n",
      "\t> Saved: 21_regularSample_randPop_pima_calculate_class0_error_calculate_class1_error\n",
      "\t> Saved: 22_regularSample_randPop_pima_calculate_class0_error_calculate_class1_error\n",
      "\t> Saved: 23_regularSample_randPop_pima_calculate_class0_error_calculate_class1_error\n",
      "\t> Saved: 24_regularSample_randPop_pima_calculate_class0_error_calculate_class1_error\n",
      "\t> Saved: 25_regularSample_randPop_pima_calculate_class0_error_calculate_class1_error\n",
      "\t> Saved: 26_regularSample_randPop_pima_calculate_class0_error_calculate_class1_error\n",
      "\t> Saved: 27_regularSample_randPop_pima_calculate_class0_error_calculate_class1_error\n",
      "\t> Saved: 28_regularSample_randPop_pima_calculate_class0_error_calculate_class1_error\n",
      "\t> Saved: 29_regularSample_randPop_pima_calculate_class0_error_calculate_class1_error\n",
      "\t> Saved: 30_regularSample_randPop_pima_calculate_class0_error_calculate_class1_error\n",
      "\n",
      "Created 31 packages\n",
      "\t- Finished 31 optimizations\n",
      "\t> Saved: 0_overSample_biasPop_pima_calculate_class0_error_calculate_class1_error\n",
      "\t> Saved: 1_overSample_biasPop_pima_calculate_class0_error_calculate_class1_error\n",
      "\t> Saved: 2_overSample_biasPop_pima_calculate_class0_error_calculate_class1_error\n",
      "\t> Saved: 3_overSample_biasPop_pima_calculate_class0_error_calculate_class1_error\n",
      "\t> Saved: 4_overSample_biasPop_pima_calculate_class0_error_calculate_class1_error\n",
      "\t> Saved: 5_overSample_biasPop_pima_calculate_class0_error_calculate_class1_error\n",
      "\t> Saved: 6_overSample_biasPop_pima_calculate_class0_error_calculate_class1_error\n",
      "\t> Saved: 7_overSample_biasPop_pima_calculate_class0_error_calculate_class1_error\n",
      "\t> Saved: 8_overSample_biasPop_pima_calculate_class0_error_calculate_class1_error\n",
      "\t> Saved: 9_overSample_biasPop_pima_calculate_class0_error_calculate_class1_error\n",
      "\t> Saved: 10_overSample_biasPop_pima_calculate_class0_error_calculate_class1_error\n",
      "\t> Saved: 11_overSample_biasPop_pima_calculate_class0_error_calculate_class1_error\n",
      "\t> Saved: 12_overSample_biasPop_pima_calculate_class0_error_calculate_class1_error\n",
      "\t> Saved: 13_overSample_biasPop_pima_calculate_class0_error_calculate_class1_error\n",
      "\t> Saved: 14_overSample_biasPop_pima_calculate_class0_error_calculate_class1_error\n",
      "\t> Saved: 15_overSample_biasPop_pima_calculate_class0_error_calculate_class1_error\n",
      "\t> Saved: 16_overSample_biasPop_pima_calculate_class0_error_calculate_class1_error\n",
      "\t> Saved: 17_overSample_biasPop_pima_calculate_class0_error_calculate_class1_error\n",
      "\t> Saved: 18_overSample_biasPop_pima_calculate_class0_error_calculate_class1_error\n",
      "\t> Saved: 19_overSample_biasPop_pima_calculate_class0_error_calculate_class1_error\n",
      "\t> Saved: 20_overSample_biasPop_pima_calculate_class0_error_calculate_class1_error\n",
      "\t> Saved: 21_overSample_biasPop_pima_calculate_class0_error_calculate_class1_error\n",
      "\t> Saved: 22_overSample_biasPop_pima_calculate_class0_error_calculate_class1_error\n",
      "\t> Saved: 23_overSample_biasPop_pima_calculate_class0_error_calculate_class1_error\n",
      "\t> Saved: 24_overSample_biasPop_pima_calculate_class0_error_calculate_class1_error\n",
      "\t> Saved: 25_overSample_biasPop_pima_calculate_class0_error_calculate_class1_error\n",
      "\t> Saved: 26_overSample_biasPop_pima_calculate_class0_error_calculate_class1_error\n",
      "\t> Saved: 27_overSample_biasPop_pima_calculate_class0_error_calculate_class1_error\n",
      "\t> Saved: 28_overSample_biasPop_pima_calculate_class0_error_calculate_class1_error\n",
      "\t> Saved: 29_overSample_biasPop_pima_calculate_class0_error_calculate_class1_error\n",
      "\t> Saved: 30_overSample_biasPop_pima_calculate_class0_error_calculate_class1_error\n",
      "\n",
      "Created 31 packages\n",
      "\t- Finished 31 optimizations\n",
      "\t> Saved: 0_regularSample_biasPop_pima_calculate_class0_error_calculate_class1_error\n",
      "\t> Saved: 1_regularSample_biasPop_pima_calculate_class0_error_calculate_class1_error\n",
      "\t> Saved: 2_regularSample_biasPop_pima_calculate_class0_error_calculate_class1_error\n",
      "\t> Saved: 3_regularSample_biasPop_pima_calculate_class0_error_calculate_class1_error\n",
      "\t> Saved: 4_regularSample_biasPop_pima_calculate_class0_error_calculate_class1_error\n",
      "\t> Saved: 5_regularSample_biasPop_pima_calculate_class0_error_calculate_class1_error\n",
      "\t> Saved: 6_regularSample_biasPop_pima_calculate_class0_error_calculate_class1_error\n",
      "\t> Saved: 7_regularSample_biasPop_pima_calculate_class0_error_calculate_class1_error\n",
      "\t> Saved: 8_regularSample_biasPop_pima_calculate_class0_error_calculate_class1_error\n",
      "\t> Saved: 9_regularSample_biasPop_pima_calculate_class0_error_calculate_class1_error\n",
      "\t> Saved: 10_regularSample_biasPop_pima_calculate_class0_error_calculate_class1_error\n",
      "\t> Saved: 11_regularSample_biasPop_pima_calculate_class0_error_calculate_class1_error\n",
      "\t> Saved: 12_regularSample_biasPop_pima_calculate_class0_error_calculate_class1_error\n",
      "\t> Saved: 13_regularSample_biasPop_pima_calculate_class0_error_calculate_class1_error\n",
      "\t> Saved: 14_regularSample_biasPop_pima_calculate_class0_error_calculate_class1_error\n",
      "\t> Saved: 15_regularSample_biasPop_pima_calculate_class0_error_calculate_class1_error\n",
      "\t> Saved: 16_regularSample_biasPop_pima_calculate_class0_error_calculate_class1_error\n",
      "\t> Saved: 17_regularSample_biasPop_pima_calculate_class0_error_calculate_class1_error\n",
      "\t> Saved: 18_regularSample_biasPop_pima_calculate_class0_error_calculate_class1_error\n",
      "\t> Saved: 19_regularSample_biasPop_pima_calculate_class0_error_calculate_class1_error\n",
      "\t> Saved: 20_regularSample_biasPop_pima_calculate_class0_error_calculate_class1_error\n",
      "\t> Saved: 21_regularSample_biasPop_pima_calculate_class0_error_calculate_class1_error\n",
      "\t> Saved: 22_regularSample_biasPop_pima_calculate_class0_error_calculate_class1_error\n",
      "\t> Saved: 23_regularSample_biasPop_pima_calculate_class0_error_calculate_class1_error\n",
      "\t> Saved: 24_regularSample_biasPop_pima_calculate_class0_error_calculate_class1_error\n",
      "\t> Saved: 25_regularSample_biasPop_pima_calculate_class0_error_calculate_class1_error\n",
      "\t> Saved: 26_regularSample_biasPop_pima_calculate_class0_error_calculate_class1_error\n",
      "\t> Saved: 27_regularSample_biasPop_pima_calculate_class0_error_calculate_class1_error\n",
      "\t> Saved: 28_regularSample_biasPop_pima_calculate_class0_error_calculate_class1_error\n",
      "\t> Saved: 29_regularSample_biasPop_pima_calculate_class0_error_calculate_class1_error\n",
      "\t> Saved: 30_regularSample_biasPop_pima_calculate_class0_error_calculate_class1_error\n",
      "\n",
      "Created 31 packages\n",
      "\t- Finished 31 optimizations\n",
      "\t> Saved: 0_overSample_randPop_segment0_calculate_class0_error_calculate_class1_error\n",
      "\t> Saved: 1_overSample_randPop_segment0_calculate_class0_error_calculate_class1_error\n",
      "\t> Saved: 2_overSample_randPop_segment0_calculate_class0_error_calculate_class1_error\n",
      "\t> Saved: 3_overSample_randPop_segment0_calculate_class0_error_calculate_class1_error\n",
      "\t> Saved: 4_overSample_randPop_segment0_calculate_class0_error_calculate_class1_error\n",
      "\t> Saved: 5_overSample_randPop_segment0_calculate_class0_error_calculate_class1_error\n",
      "\t> Saved: 6_overSample_randPop_segment0_calculate_class0_error_calculate_class1_error\n",
      "\t> Saved: 7_overSample_randPop_segment0_calculate_class0_error_calculate_class1_error\n",
      "\t> Saved: 8_overSample_randPop_segment0_calculate_class0_error_calculate_class1_error\n",
      "\t> Saved: 9_overSample_randPop_segment0_calculate_class0_error_calculate_class1_error\n",
      "\t> Saved: 10_overSample_randPop_segment0_calculate_class0_error_calculate_class1_error\n",
      "\t> Saved: 11_overSample_randPop_segment0_calculate_class0_error_calculate_class1_error\n",
      "\t> Saved: 12_overSample_randPop_segment0_calculate_class0_error_calculate_class1_error\n",
      "\t> Saved: 13_overSample_randPop_segment0_calculate_class0_error_calculate_class1_error\n",
      "\t> Saved: 14_overSample_randPop_segment0_calculate_class0_error_calculate_class1_error\n",
      "\t> Saved: 15_overSample_randPop_segment0_calculate_class0_error_calculate_class1_error\n",
      "\t> Saved: 16_overSample_randPop_segment0_calculate_class0_error_calculate_class1_error\n",
      "\t> Saved: 17_overSample_randPop_segment0_calculate_class0_error_calculate_class1_error\n",
      "\t> Saved: 18_overSample_randPop_segment0_calculate_class0_error_calculate_class1_error\n",
      "\t> Saved: 19_overSample_randPop_segment0_calculate_class0_error_calculate_class1_error\n",
      "\t> Saved: 20_overSample_randPop_segment0_calculate_class0_error_calculate_class1_error\n",
      "\t> Saved: 21_overSample_randPop_segment0_calculate_class0_error_calculate_class1_error\n",
      "\t> Saved: 22_overSample_randPop_segment0_calculate_class0_error_calculate_class1_error\n",
      "\t> Saved: 23_overSample_randPop_segment0_calculate_class0_error_calculate_class1_error\n",
      "\t> Saved: 24_overSample_randPop_segment0_calculate_class0_error_calculate_class1_error\n",
      "\t> Saved: 25_overSample_randPop_segment0_calculate_class0_error_calculate_class1_error\n",
      "\t> Saved: 26_overSample_randPop_segment0_calculate_class0_error_calculate_class1_error\n",
      "\t> Saved: 27_overSample_randPop_segment0_calculate_class0_error_calculate_class1_error\n",
      "\t> Saved: 28_overSample_randPop_segment0_calculate_class0_error_calculate_class1_error\n",
      "\t> Saved: 29_overSample_randPop_segment0_calculate_class0_error_calculate_class1_error\n",
      "\t> Saved: 30_overSample_randPop_segment0_calculate_class0_error_calculate_class1_error\n",
      "\n",
      "Created 31 packages\n",
      "\t- Finished 31 optimizations\n",
      "\t> Saved: 0_regularSample_randPop_segment0_calculate_class0_error_calculate_class1_error\n",
      "\t> Saved: 1_regularSample_randPop_segment0_calculate_class0_error_calculate_class1_error\n",
      "\t> Saved: 2_regularSample_randPop_segment0_calculate_class0_error_calculate_class1_error\n",
      "\t> Saved: 3_regularSample_randPop_segment0_calculate_class0_error_calculate_class1_error\n",
      "\t> Saved: 4_regularSample_randPop_segment0_calculate_class0_error_calculate_class1_error\n",
      "\t> Saved: 5_regularSample_randPop_segment0_calculate_class0_error_calculate_class1_error\n",
      "\t> Saved: 6_regularSample_randPop_segment0_calculate_class0_error_calculate_class1_error\n",
      "\t> Saved: 7_regularSample_randPop_segment0_calculate_class0_error_calculate_class1_error\n",
      "\t> Saved: 8_regularSample_randPop_segment0_calculate_class0_error_calculate_class1_error\n",
      "\t> Saved: 9_regularSample_randPop_segment0_calculate_class0_error_calculate_class1_error\n",
      "\t> Saved: 10_regularSample_randPop_segment0_calculate_class0_error_calculate_class1_error\n",
      "\t> Saved: 11_regularSample_randPop_segment0_calculate_class0_error_calculate_class1_error\n",
      "\t> Saved: 12_regularSample_randPop_segment0_calculate_class0_error_calculate_class1_error\n",
      "\t> Saved: 13_regularSample_randPop_segment0_calculate_class0_error_calculate_class1_error\n",
      "\t> Saved: 14_regularSample_randPop_segment0_calculate_class0_error_calculate_class1_error\n",
      "\t> Saved: 15_regularSample_randPop_segment0_calculate_class0_error_calculate_class1_error\n",
      "\t> Saved: 16_regularSample_randPop_segment0_calculate_class0_error_calculate_class1_error\n",
      "\t> Saved: 17_regularSample_randPop_segment0_calculate_class0_error_calculate_class1_error\n",
      "\t> Saved: 18_regularSample_randPop_segment0_calculate_class0_error_calculate_class1_error\n",
      "\t> Saved: 19_regularSample_randPop_segment0_calculate_class0_error_calculate_class1_error\n",
      "\t> Saved: 20_regularSample_randPop_segment0_calculate_class0_error_calculate_class1_error\n",
      "\t> Saved: 21_regularSample_randPop_segment0_calculate_class0_error_calculate_class1_error\n",
      "\t> Saved: 22_regularSample_randPop_segment0_calculate_class0_error_calculate_class1_error\n",
      "\t> Saved: 23_regularSample_randPop_segment0_calculate_class0_error_calculate_class1_error\n",
      "\t> Saved: 24_regularSample_randPop_segment0_calculate_class0_error_calculate_class1_error\n",
      "\t> Saved: 25_regularSample_randPop_segment0_calculate_class0_error_calculate_class1_error\n",
      "\t> Saved: 26_regularSample_randPop_segment0_calculate_class0_error_calculate_class1_error\n",
      "\t> Saved: 27_regularSample_randPop_segment0_calculate_class0_error_calculate_class1_error\n",
      "\t> Saved: 28_regularSample_randPop_segment0_calculate_class0_error_calculate_class1_error\n",
      "\t> Saved: 29_regularSample_randPop_segment0_calculate_class0_error_calculate_class1_error\n",
      "\t> Saved: 30_regularSample_randPop_segment0_calculate_class0_error_calculate_class1_error\n",
      "\n",
      "Created 31 packages\n",
      "\t- Finished 31 optimizations\n",
      "\t> Saved: 0_overSample_biasPop_segment0_calculate_class0_error_calculate_class1_error\n",
      "\t> Saved: 1_overSample_biasPop_segment0_calculate_class0_error_calculate_class1_error\n",
      "\t> Saved: 2_overSample_biasPop_segment0_calculate_class0_error_calculate_class1_error\n",
      "\t> Saved: 3_overSample_biasPop_segment0_calculate_class0_error_calculate_class1_error\n",
      "\t> Saved: 4_overSample_biasPop_segment0_calculate_class0_error_calculate_class1_error\n",
      "\t> Saved: 5_overSample_biasPop_segment0_calculate_class0_error_calculate_class1_error\n",
      "\t> Saved: 6_overSample_biasPop_segment0_calculate_class0_error_calculate_class1_error\n",
      "\t> Saved: 7_overSample_biasPop_segment0_calculate_class0_error_calculate_class1_error\n",
      "\t> Saved: 8_overSample_biasPop_segment0_calculate_class0_error_calculate_class1_error\n",
      "\t> Saved: 9_overSample_biasPop_segment0_calculate_class0_error_calculate_class1_error\n",
      "\t> Saved: 10_overSample_biasPop_segment0_calculate_class0_error_calculate_class1_error\n",
      "\t> Saved: 11_overSample_biasPop_segment0_calculate_class0_error_calculate_class1_error\n",
      "\t> Saved: 12_overSample_biasPop_segment0_calculate_class0_error_calculate_class1_error\n",
      "\t> Saved: 13_overSample_biasPop_segment0_calculate_class0_error_calculate_class1_error\n",
      "\t> Saved: 14_overSample_biasPop_segment0_calculate_class0_error_calculate_class1_error\n",
      "\t> Saved: 15_overSample_biasPop_segment0_calculate_class0_error_calculate_class1_error\n",
      "\t> Saved: 16_overSample_biasPop_segment0_calculate_class0_error_calculate_class1_error\n",
      "\t> Saved: 17_overSample_biasPop_segment0_calculate_class0_error_calculate_class1_error\n",
      "\t> Saved: 18_overSample_biasPop_segment0_calculate_class0_error_calculate_class1_error\n",
      "\t> Saved: 19_overSample_biasPop_segment0_calculate_class0_error_calculate_class1_error\n",
      "\t> Saved: 20_overSample_biasPop_segment0_calculate_class0_error_calculate_class1_error\n",
      "\t> Saved: 21_overSample_biasPop_segment0_calculate_class0_error_calculate_class1_error\n",
      "\t> Saved: 22_overSample_biasPop_segment0_calculate_class0_error_calculate_class1_error\n",
      "\t> Saved: 23_overSample_biasPop_segment0_calculate_class0_error_calculate_class1_error\n",
      "\t> Saved: 24_overSample_biasPop_segment0_calculate_class0_error_calculate_class1_error\n",
      "\t> Saved: 25_overSample_biasPop_segment0_calculate_class0_error_calculate_class1_error\n",
      "\t> Saved: 26_overSample_biasPop_segment0_calculate_class0_error_calculate_class1_error\n",
      "\t> Saved: 27_overSample_biasPop_segment0_calculate_class0_error_calculate_class1_error\n",
      "\t> Saved: 28_overSample_biasPop_segment0_calculate_class0_error_calculate_class1_error\n",
      "\t> Saved: 29_overSample_biasPop_segment0_calculate_class0_error_calculate_class1_error\n",
      "\t> Saved: 30_overSample_biasPop_segment0_calculate_class0_error_calculate_class1_error\n",
      "\n",
      "Created 31 packages\n",
      "\t- Finished 31 optimizations\n",
      "\t> Saved: 0_regularSample_biasPop_segment0_calculate_class0_error_calculate_class1_error\n",
      "\t> Saved: 1_regularSample_biasPop_segment0_calculate_class0_error_calculate_class1_error\n",
      "\t> Saved: 2_regularSample_biasPop_segment0_calculate_class0_error_calculate_class1_error\n",
      "\t> Saved: 3_regularSample_biasPop_segment0_calculate_class0_error_calculate_class1_error\n",
      "\t> Saved: 4_regularSample_biasPop_segment0_calculate_class0_error_calculate_class1_error\n",
      "\t> Saved: 5_regularSample_biasPop_segment0_calculate_class0_error_calculate_class1_error\n",
      "\t> Saved: 6_regularSample_biasPop_segment0_calculate_class0_error_calculate_class1_error\n",
      "\t> Saved: 7_regularSample_biasPop_segment0_calculate_class0_error_calculate_class1_error\n",
      "\t> Saved: 8_regularSample_biasPop_segment0_calculate_class0_error_calculate_class1_error\n",
      "\t> Saved: 9_regularSample_biasPop_segment0_calculate_class0_error_calculate_class1_error\n",
      "\t> Saved: 10_regularSample_biasPop_segment0_calculate_class0_error_calculate_class1_error\n",
      "\t> Saved: 11_regularSample_biasPop_segment0_calculate_class0_error_calculate_class1_error\n",
      "\t> Saved: 12_regularSample_biasPop_segment0_calculate_class0_error_calculate_class1_error\n",
      "\t> Saved: 13_regularSample_biasPop_segment0_calculate_class0_error_calculate_class1_error\n",
      "\t> Saved: 14_regularSample_biasPop_segment0_calculate_class0_error_calculate_class1_error\n",
      "\t> Saved: 15_regularSample_biasPop_segment0_calculate_class0_error_calculate_class1_error\n",
      "\t> Saved: 16_regularSample_biasPop_segment0_calculate_class0_error_calculate_class1_error\n",
      "\t> Saved: 17_regularSample_biasPop_segment0_calculate_class0_error_calculate_class1_error\n",
      "\t> Saved: 18_regularSample_biasPop_segment0_calculate_class0_error_calculate_class1_error\n",
      "\t> Saved: 19_regularSample_biasPop_segment0_calculate_class0_error_calculate_class1_error\n",
      "\t> Saved: 20_regularSample_biasPop_segment0_calculate_class0_error_calculate_class1_error\n",
      "\t> Saved: 21_regularSample_biasPop_segment0_calculate_class0_error_calculate_class1_error\n",
      "\t> Saved: 22_regularSample_biasPop_segment0_calculate_class0_error_calculate_class1_error\n",
      "\t> Saved: 23_regularSample_biasPop_segment0_calculate_class0_error_calculate_class1_error\n",
      "\t> Saved: 24_regularSample_biasPop_segment0_calculate_class0_error_calculate_class1_error\n",
      "\t> Saved: 25_regularSample_biasPop_segment0_calculate_class0_error_calculate_class1_error\n",
      "\t> Saved: 26_regularSample_biasPop_segment0_calculate_class0_error_calculate_class1_error\n",
      "\t> Saved: 27_regularSample_biasPop_segment0_calculate_class0_error_calculate_class1_error\n",
      "\t> Saved: 28_regularSample_biasPop_segment0_calculate_class0_error_calculate_class1_error\n",
      "\t> Saved: 29_regularSample_biasPop_segment0_calculate_class0_error_calculate_class1_error\n",
      "\t> Saved: 30_regularSample_biasPop_segment0_calculate_class0_error_calculate_class1_error\n",
      "\n",
      "Created 31 packages\n",
      "\t- Finished 31 optimizations\n",
      "\t> Saved: 0_overSample_randPop_sonar_calculate_class0_error_calculate_class1_error\n",
      "\t> Saved: 1_overSample_randPop_sonar_calculate_class0_error_calculate_class1_error\n",
      "\t> Saved: 2_overSample_randPop_sonar_calculate_class0_error_calculate_class1_error\n",
      "\t> Saved: 3_overSample_randPop_sonar_calculate_class0_error_calculate_class1_error\n",
      "\t> Saved: 4_overSample_randPop_sonar_calculate_class0_error_calculate_class1_error\n",
      "\t> Saved: 5_overSample_randPop_sonar_calculate_class0_error_calculate_class1_error\n",
      "\t> Saved: 6_overSample_randPop_sonar_calculate_class0_error_calculate_class1_error\n",
      "\t> Saved: 7_overSample_randPop_sonar_calculate_class0_error_calculate_class1_error\n",
      "\t> Saved: 8_overSample_randPop_sonar_calculate_class0_error_calculate_class1_error\n",
      "\t> Saved: 9_overSample_randPop_sonar_calculate_class0_error_calculate_class1_error\n",
      "\t> Saved: 10_overSample_randPop_sonar_calculate_class0_error_calculate_class1_error\n",
      "\t> Saved: 11_overSample_randPop_sonar_calculate_class0_error_calculate_class1_error\n",
      "\t> Saved: 12_overSample_randPop_sonar_calculate_class0_error_calculate_class1_error\n",
      "\t> Saved: 13_overSample_randPop_sonar_calculate_class0_error_calculate_class1_error\n",
      "\t> Saved: 14_overSample_randPop_sonar_calculate_class0_error_calculate_class1_error\n",
      "\t> Saved: 15_overSample_randPop_sonar_calculate_class0_error_calculate_class1_error\n",
      "\t> Saved: 16_overSample_randPop_sonar_calculate_class0_error_calculate_class1_error\n",
      "\t> Saved: 17_overSample_randPop_sonar_calculate_class0_error_calculate_class1_error\n",
      "\t> Saved: 18_overSample_randPop_sonar_calculate_class0_error_calculate_class1_error\n",
      "\t> Saved: 19_overSample_randPop_sonar_calculate_class0_error_calculate_class1_error\n",
      "\t> Saved: 20_overSample_randPop_sonar_calculate_class0_error_calculate_class1_error\n",
      "\t> Saved: 21_overSample_randPop_sonar_calculate_class0_error_calculate_class1_error\n",
      "\t> Saved: 22_overSample_randPop_sonar_calculate_class0_error_calculate_class1_error\n",
      "\t> Saved: 23_overSample_randPop_sonar_calculate_class0_error_calculate_class1_error\n",
      "\t> Saved: 24_overSample_randPop_sonar_calculate_class0_error_calculate_class1_error\n",
      "\t> Saved: 25_overSample_randPop_sonar_calculate_class0_error_calculate_class1_error\n",
      "\t> Saved: 26_overSample_randPop_sonar_calculate_class0_error_calculate_class1_error\n",
      "\t> Saved: 27_overSample_randPop_sonar_calculate_class0_error_calculate_class1_error\n",
      "\t> Saved: 28_overSample_randPop_sonar_calculate_class0_error_calculate_class1_error\n",
      "\t> Saved: 29_overSample_randPop_sonar_calculate_class0_error_calculate_class1_error\n",
      "\t> Saved: 30_overSample_randPop_sonar_calculate_class0_error_calculate_class1_error\n",
      "\n",
      "Created 31 packages\n",
      "\t- Finished 31 optimizations\n",
      "\t> Saved: 0_regularSample_randPop_sonar_calculate_class0_error_calculate_class1_error\n",
      "\t> Saved: 1_regularSample_randPop_sonar_calculate_class0_error_calculate_class1_error\n",
      "\t> Saved: 2_regularSample_randPop_sonar_calculate_class0_error_calculate_class1_error\n",
      "\t> Saved: 3_regularSample_randPop_sonar_calculate_class0_error_calculate_class1_error\n",
      "\t> Saved: 4_regularSample_randPop_sonar_calculate_class0_error_calculate_class1_error\n",
      "\t> Saved: 5_regularSample_randPop_sonar_calculate_class0_error_calculate_class1_error\n",
      "\t> Saved: 6_regularSample_randPop_sonar_calculate_class0_error_calculate_class1_error\n",
      "\t> Saved: 7_regularSample_randPop_sonar_calculate_class0_error_calculate_class1_error\n",
      "\t> Saved: 8_regularSample_randPop_sonar_calculate_class0_error_calculate_class1_error\n",
      "\t> Saved: 9_regularSample_randPop_sonar_calculate_class0_error_calculate_class1_error\n",
      "\t> Saved: 10_regularSample_randPop_sonar_calculate_class0_error_calculate_class1_error\n",
      "\t> Saved: 11_regularSample_randPop_sonar_calculate_class0_error_calculate_class1_error\n",
      "\t> Saved: 12_regularSample_randPop_sonar_calculate_class0_error_calculate_class1_error\n",
      "\t> Saved: 13_regularSample_randPop_sonar_calculate_class0_error_calculate_class1_error\n",
      "\t> Saved: 14_regularSample_randPop_sonar_calculate_class0_error_calculate_class1_error\n",
      "\t> Saved: 15_regularSample_randPop_sonar_calculate_class0_error_calculate_class1_error\n",
      "\t> Saved: 16_regularSample_randPop_sonar_calculate_class0_error_calculate_class1_error\n",
      "\t> Saved: 17_regularSample_randPop_sonar_calculate_class0_error_calculate_class1_error\n",
      "\t> Saved: 18_regularSample_randPop_sonar_calculate_class0_error_calculate_class1_error\n",
      "\t> Saved: 19_regularSample_randPop_sonar_calculate_class0_error_calculate_class1_error\n",
      "\t> Saved: 20_regularSample_randPop_sonar_calculate_class0_error_calculate_class1_error\n",
      "\t> Saved: 21_regularSample_randPop_sonar_calculate_class0_error_calculate_class1_error\n",
      "\t> Saved: 22_regularSample_randPop_sonar_calculate_class0_error_calculate_class1_error\n",
      "\t> Saved: 23_regularSample_randPop_sonar_calculate_class0_error_calculate_class1_error\n",
      "\t> Saved: 24_regularSample_randPop_sonar_calculate_class0_error_calculate_class1_error\n",
      "\t> Saved: 25_regularSample_randPop_sonar_calculate_class0_error_calculate_class1_error\n",
      "\t> Saved: 26_regularSample_randPop_sonar_calculate_class0_error_calculate_class1_error\n",
      "\t> Saved: 27_regularSample_randPop_sonar_calculate_class0_error_calculate_class1_error\n",
      "\t> Saved: 28_regularSample_randPop_sonar_calculate_class0_error_calculate_class1_error\n",
      "\t> Saved: 29_regularSample_randPop_sonar_calculate_class0_error_calculate_class1_error\n",
      "\t> Saved: 30_regularSample_randPop_sonar_calculate_class0_error_calculate_class1_error\n",
      "\n",
      "Created 31 packages\n",
      "\t- Finished 31 optimizations\n",
      "\t> Saved: 0_overSample_biasPop_sonar_calculate_class0_error_calculate_class1_error\n",
      "\t> Saved: 1_overSample_biasPop_sonar_calculate_class0_error_calculate_class1_error\n",
      "\t> Saved: 2_overSample_biasPop_sonar_calculate_class0_error_calculate_class1_error\n",
      "\t> Saved: 3_overSample_biasPop_sonar_calculate_class0_error_calculate_class1_error\n",
      "\t> Saved: 4_overSample_biasPop_sonar_calculate_class0_error_calculate_class1_error\n",
      "\t> Saved: 5_overSample_biasPop_sonar_calculate_class0_error_calculate_class1_error\n",
      "\t> Saved: 6_overSample_biasPop_sonar_calculate_class0_error_calculate_class1_error\n",
      "\t> Saved: 7_overSample_biasPop_sonar_calculate_class0_error_calculate_class1_error\n",
      "\t> Saved: 8_overSample_biasPop_sonar_calculate_class0_error_calculate_class1_error\n",
      "\t> Saved: 9_overSample_biasPop_sonar_calculate_class0_error_calculate_class1_error\n",
      "\t> Saved: 10_overSample_biasPop_sonar_calculate_class0_error_calculate_class1_error\n",
      "\t> Saved: 11_overSample_biasPop_sonar_calculate_class0_error_calculate_class1_error\n",
      "\t> Saved: 12_overSample_biasPop_sonar_calculate_class0_error_calculate_class1_error\n",
      "\t> Saved: 13_overSample_biasPop_sonar_calculate_class0_error_calculate_class1_error\n",
      "\t> Saved: 14_overSample_biasPop_sonar_calculate_class0_error_calculate_class1_error\n",
      "\t> Saved: 15_overSample_biasPop_sonar_calculate_class0_error_calculate_class1_error\n",
      "\t> Saved: 16_overSample_biasPop_sonar_calculate_class0_error_calculate_class1_error\n",
      "\t> Saved: 17_overSample_biasPop_sonar_calculate_class0_error_calculate_class1_error\n",
      "\t> Saved: 18_overSample_biasPop_sonar_calculate_class0_error_calculate_class1_error\n",
      "\t> Saved: 19_overSample_biasPop_sonar_calculate_class0_error_calculate_class1_error\n",
      "\t> Saved: 20_overSample_biasPop_sonar_calculate_class0_error_calculate_class1_error\n",
      "\t> Saved: 21_overSample_biasPop_sonar_calculate_class0_error_calculate_class1_error\n",
      "\t> Saved: 22_overSample_biasPop_sonar_calculate_class0_error_calculate_class1_error\n",
      "\t> Saved: 23_overSample_biasPop_sonar_calculate_class0_error_calculate_class1_error\n",
      "\t> Saved: 24_overSample_biasPop_sonar_calculate_class0_error_calculate_class1_error\n",
      "\t> Saved: 25_overSample_biasPop_sonar_calculate_class0_error_calculate_class1_error\n",
      "\t> Saved: 26_overSample_biasPop_sonar_calculate_class0_error_calculate_class1_error\n",
      "\t> Saved: 27_overSample_biasPop_sonar_calculate_class0_error_calculate_class1_error\n",
      "\t> Saved: 28_overSample_biasPop_sonar_calculate_class0_error_calculate_class1_error\n",
      "\t> Saved: 29_overSample_biasPop_sonar_calculate_class0_error_calculate_class1_error\n",
      "\t> Saved: 30_overSample_biasPop_sonar_calculate_class0_error_calculate_class1_error\n",
      "\n",
      "Created 31 packages\n",
      "\t- Finished 31 optimizations\n",
      "\t> Saved: 0_regularSample_biasPop_sonar_calculate_class0_error_calculate_class1_error\n",
      "\t> Saved: 1_regularSample_biasPop_sonar_calculate_class0_error_calculate_class1_error\n",
      "\t> Saved: 2_regularSample_biasPop_sonar_calculate_class0_error_calculate_class1_error\n",
      "\t> Saved: 3_regularSample_biasPop_sonar_calculate_class0_error_calculate_class1_error\n",
      "\t> Saved: 4_regularSample_biasPop_sonar_calculate_class0_error_calculate_class1_error\n",
      "\t> Saved: 5_regularSample_biasPop_sonar_calculate_class0_error_calculate_class1_error\n",
      "\t> Saved: 6_regularSample_biasPop_sonar_calculate_class0_error_calculate_class1_error\n",
      "\t> Saved: 7_regularSample_biasPop_sonar_calculate_class0_error_calculate_class1_error\n",
      "\t> Saved: 8_regularSample_biasPop_sonar_calculate_class0_error_calculate_class1_error\n",
      "\t> Saved: 9_regularSample_biasPop_sonar_calculate_class0_error_calculate_class1_error\n",
      "\t> Saved: 10_regularSample_biasPop_sonar_calculate_class0_error_calculate_class1_error\n",
      "\t> Saved: 11_regularSample_biasPop_sonar_calculate_class0_error_calculate_class1_error\n",
      "\t> Saved: 12_regularSample_biasPop_sonar_calculate_class0_error_calculate_class1_error\n",
      "\t> Saved: 13_regularSample_biasPop_sonar_calculate_class0_error_calculate_class1_error\n",
      "\t> Saved: 14_regularSample_biasPop_sonar_calculate_class0_error_calculate_class1_error\n",
      "\t> Saved: 15_regularSample_biasPop_sonar_calculate_class0_error_calculate_class1_error\n",
      "\t> Saved: 16_regularSample_biasPop_sonar_calculate_class0_error_calculate_class1_error\n",
      "\t> Saved: 17_regularSample_biasPop_sonar_calculate_class0_error_calculate_class1_error\n",
      "\t> Saved: 18_regularSample_biasPop_sonar_calculate_class0_error_calculate_class1_error\n",
      "\t> Saved: 19_regularSample_biasPop_sonar_calculate_class0_error_calculate_class1_error\n",
      "\t> Saved: 20_regularSample_biasPop_sonar_calculate_class0_error_calculate_class1_error\n",
      "\t> Saved: 21_regularSample_biasPop_sonar_calculate_class0_error_calculate_class1_error\n",
      "\t> Saved: 22_regularSample_biasPop_sonar_calculate_class0_error_calculate_class1_error\n",
      "\t> Saved: 23_regularSample_biasPop_sonar_calculate_class0_error_calculate_class1_error\n",
      "\t> Saved: 24_regularSample_biasPop_sonar_calculate_class0_error_calculate_class1_error\n",
      "\t> Saved: 25_regularSample_biasPop_sonar_calculate_class0_error_calculate_class1_error\n",
      "\t> Saved: 26_regularSample_biasPop_sonar_calculate_class0_error_calculate_class1_error\n",
      "\t> Saved: 27_regularSample_biasPop_sonar_calculate_class0_error_calculate_class1_error\n",
      "\t> Saved: 28_regularSample_biasPop_sonar_calculate_class0_error_calculate_class1_error\n",
      "\t> Saved: 29_regularSample_biasPop_sonar_calculate_class0_error_calculate_class1_error\n",
      "\t> Saved: 30_regularSample_biasPop_sonar_calculate_class0_error_calculate_class1_error\n",
      "\n",
      "Created 31 packages\n",
      "\t- Finished 31 optimizations\n",
      "\t> Saved: 0_overSample_randPop_vehicle0_calculate_class0_error_calculate_class1_error\n",
      "\t> Saved: 1_overSample_randPop_vehicle0_calculate_class0_error_calculate_class1_error\n",
      "\t> Saved: 2_overSample_randPop_vehicle0_calculate_class0_error_calculate_class1_error\n",
      "\t> Saved: 3_overSample_randPop_vehicle0_calculate_class0_error_calculate_class1_error\n",
      "\t> Saved: 4_overSample_randPop_vehicle0_calculate_class0_error_calculate_class1_error\n",
      "\t> Saved: 5_overSample_randPop_vehicle0_calculate_class0_error_calculate_class1_error\n",
      "\t> Saved: 6_overSample_randPop_vehicle0_calculate_class0_error_calculate_class1_error\n",
      "\t> Saved: 7_overSample_randPop_vehicle0_calculate_class0_error_calculate_class1_error\n",
      "\t> Saved: 8_overSample_randPop_vehicle0_calculate_class0_error_calculate_class1_error\n",
      "\t> Saved: 9_overSample_randPop_vehicle0_calculate_class0_error_calculate_class1_error\n",
      "\t> Saved: 10_overSample_randPop_vehicle0_calculate_class0_error_calculate_class1_error\n",
      "\t> Saved: 11_overSample_randPop_vehicle0_calculate_class0_error_calculate_class1_error\n",
      "\t> Saved: 12_overSample_randPop_vehicle0_calculate_class0_error_calculate_class1_error\n",
      "\t> Saved: 13_overSample_randPop_vehicle0_calculate_class0_error_calculate_class1_error\n",
      "\t> Saved: 14_overSample_randPop_vehicle0_calculate_class0_error_calculate_class1_error\n",
      "\t> Saved: 15_overSample_randPop_vehicle0_calculate_class0_error_calculate_class1_error\n",
      "\t> Saved: 16_overSample_randPop_vehicle0_calculate_class0_error_calculate_class1_error\n",
      "\t> Saved: 17_overSample_randPop_vehicle0_calculate_class0_error_calculate_class1_error\n",
      "\t> Saved: 18_overSample_randPop_vehicle0_calculate_class0_error_calculate_class1_error\n",
      "\t> Saved: 19_overSample_randPop_vehicle0_calculate_class0_error_calculate_class1_error\n",
      "\t> Saved: 20_overSample_randPop_vehicle0_calculate_class0_error_calculate_class1_error\n",
      "\t> Saved: 21_overSample_randPop_vehicle0_calculate_class0_error_calculate_class1_error\n",
      "\t> Saved: 22_overSample_randPop_vehicle0_calculate_class0_error_calculate_class1_error\n",
      "\t> Saved: 23_overSample_randPop_vehicle0_calculate_class0_error_calculate_class1_error\n",
      "\t> Saved: 24_overSample_randPop_vehicle0_calculate_class0_error_calculate_class1_error\n",
      "\t> Saved: 25_overSample_randPop_vehicle0_calculate_class0_error_calculate_class1_error\n",
      "\t> Saved: 26_overSample_randPop_vehicle0_calculate_class0_error_calculate_class1_error\n",
      "\t> Saved: 27_overSample_randPop_vehicle0_calculate_class0_error_calculate_class1_error\n",
      "\t> Saved: 28_overSample_randPop_vehicle0_calculate_class0_error_calculate_class1_error\n",
      "\t> Saved: 29_overSample_randPop_vehicle0_calculate_class0_error_calculate_class1_error\n",
      "\t> Saved: 30_overSample_randPop_vehicle0_calculate_class0_error_calculate_class1_error\n",
      "\n",
      "Created 31 packages\n",
      "\t- Finished 31 optimizations\n",
      "\t> Saved: 0_regularSample_randPop_vehicle0_calculate_class0_error_calculate_class1_error\n",
      "\t> Saved: 1_regularSample_randPop_vehicle0_calculate_class0_error_calculate_class1_error\n",
      "\t> Saved: 2_regularSample_randPop_vehicle0_calculate_class0_error_calculate_class1_error\n",
      "\t> Saved: 3_regularSample_randPop_vehicle0_calculate_class0_error_calculate_class1_error\n",
      "\t> Saved: 4_regularSample_randPop_vehicle0_calculate_class0_error_calculate_class1_error\n",
      "\t> Saved: 5_regularSample_randPop_vehicle0_calculate_class0_error_calculate_class1_error\n",
      "\t> Saved: 6_regularSample_randPop_vehicle0_calculate_class0_error_calculate_class1_error\n",
      "\t> Saved: 7_regularSample_randPop_vehicle0_calculate_class0_error_calculate_class1_error\n",
      "\t> Saved: 8_regularSample_randPop_vehicle0_calculate_class0_error_calculate_class1_error\n",
      "\t> Saved: 9_regularSample_randPop_vehicle0_calculate_class0_error_calculate_class1_error\n",
      "\t> Saved: 10_regularSample_randPop_vehicle0_calculate_class0_error_calculate_class1_error\n",
      "\t> Saved: 11_regularSample_randPop_vehicle0_calculate_class0_error_calculate_class1_error\n",
      "\t> Saved: 12_regularSample_randPop_vehicle0_calculate_class0_error_calculate_class1_error\n",
      "\t> Saved: 13_regularSample_randPop_vehicle0_calculate_class0_error_calculate_class1_error\n",
      "\t> Saved: 14_regularSample_randPop_vehicle0_calculate_class0_error_calculate_class1_error\n",
      "\t> Saved: 15_regularSample_randPop_vehicle0_calculate_class0_error_calculate_class1_error\n",
      "\t> Saved: 16_regularSample_randPop_vehicle0_calculate_class0_error_calculate_class1_error\n",
      "\t> Saved: 17_regularSample_randPop_vehicle0_calculate_class0_error_calculate_class1_error\n",
      "\t> Saved: 18_regularSample_randPop_vehicle0_calculate_class0_error_calculate_class1_error\n",
      "\t> Saved: 19_regularSample_randPop_vehicle0_calculate_class0_error_calculate_class1_error\n",
      "\t> Saved: 20_regularSample_randPop_vehicle0_calculate_class0_error_calculate_class1_error\n",
      "\t> Saved: 21_regularSample_randPop_vehicle0_calculate_class0_error_calculate_class1_error\n",
      "\t> Saved: 22_regularSample_randPop_vehicle0_calculate_class0_error_calculate_class1_error\n",
      "\t> Saved: 23_regularSample_randPop_vehicle0_calculate_class0_error_calculate_class1_error\n",
      "\t> Saved: 24_regularSample_randPop_vehicle0_calculate_class0_error_calculate_class1_error\n",
      "\t> Saved: 25_regularSample_randPop_vehicle0_calculate_class0_error_calculate_class1_error\n",
      "\t> Saved: 26_regularSample_randPop_vehicle0_calculate_class0_error_calculate_class1_error\n",
      "\t> Saved: 27_regularSample_randPop_vehicle0_calculate_class0_error_calculate_class1_error\n",
      "\t> Saved: 28_regularSample_randPop_vehicle0_calculate_class0_error_calculate_class1_error\n",
      "\t> Saved: 29_regularSample_randPop_vehicle0_calculate_class0_error_calculate_class1_error\n",
      "\t> Saved: 30_regularSample_randPop_vehicle0_calculate_class0_error_calculate_class1_error\n",
      "\n",
      "Created 31 packages\n",
      "\t- Finished 31 optimizations\n",
      "\t> Saved: 0_overSample_biasPop_vehicle0_calculate_class0_error_calculate_class1_error\n",
      "\t> Saved: 1_overSample_biasPop_vehicle0_calculate_class0_error_calculate_class1_error\n",
      "\t> Saved: 2_overSample_biasPop_vehicle0_calculate_class0_error_calculate_class1_error\n",
      "\t> Saved: 3_overSample_biasPop_vehicle0_calculate_class0_error_calculate_class1_error\n",
      "\t> Saved: 4_overSample_biasPop_vehicle0_calculate_class0_error_calculate_class1_error\n",
      "\t> Saved: 5_overSample_biasPop_vehicle0_calculate_class0_error_calculate_class1_error\n",
      "\t> Saved: 6_overSample_biasPop_vehicle0_calculate_class0_error_calculate_class1_error\n",
      "\t> Saved: 7_overSample_biasPop_vehicle0_calculate_class0_error_calculate_class1_error\n",
      "\t> Saved: 8_overSample_biasPop_vehicle0_calculate_class0_error_calculate_class1_error\n",
      "\t> Saved: 9_overSample_biasPop_vehicle0_calculate_class0_error_calculate_class1_error\n",
      "\t> Saved: 10_overSample_biasPop_vehicle0_calculate_class0_error_calculate_class1_error\n",
      "\t> Saved: 11_overSample_biasPop_vehicle0_calculate_class0_error_calculate_class1_error\n",
      "\t> Saved: 12_overSample_biasPop_vehicle0_calculate_class0_error_calculate_class1_error\n",
      "\t> Saved: 13_overSample_biasPop_vehicle0_calculate_class0_error_calculate_class1_error\n",
      "\t> Saved: 14_overSample_biasPop_vehicle0_calculate_class0_error_calculate_class1_error\n",
      "\t> Saved: 15_overSample_biasPop_vehicle0_calculate_class0_error_calculate_class1_error\n",
      "\t> Saved: 16_overSample_biasPop_vehicle0_calculate_class0_error_calculate_class1_error\n",
      "\t> Saved: 17_overSample_biasPop_vehicle0_calculate_class0_error_calculate_class1_error\n",
      "\t> Saved: 18_overSample_biasPop_vehicle0_calculate_class0_error_calculate_class1_error\n",
      "\t> Saved: 19_overSample_biasPop_vehicle0_calculate_class0_error_calculate_class1_error\n",
      "\t> Saved: 20_overSample_biasPop_vehicle0_calculate_class0_error_calculate_class1_error\n",
      "\t> Saved: 21_overSample_biasPop_vehicle0_calculate_class0_error_calculate_class1_error\n",
      "\t> Saved: 22_overSample_biasPop_vehicle0_calculate_class0_error_calculate_class1_error\n",
      "\t> Saved: 23_overSample_biasPop_vehicle0_calculate_class0_error_calculate_class1_error\n",
      "\t> Saved: 24_overSample_biasPop_vehicle0_calculate_class0_error_calculate_class1_error\n",
      "\t> Saved: 25_overSample_biasPop_vehicle0_calculate_class0_error_calculate_class1_error\n",
      "\t> Saved: 26_overSample_biasPop_vehicle0_calculate_class0_error_calculate_class1_error\n",
      "\t> Saved: 27_overSample_biasPop_vehicle0_calculate_class0_error_calculate_class1_error\n",
      "\t> Saved: 28_overSample_biasPop_vehicle0_calculate_class0_error_calculate_class1_error\n",
      "\t> Saved: 29_overSample_biasPop_vehicle0_calculate_class0_error_calculate_class1_error\n",
      "\t> Saved: 30_overSample_biasPop_vehicle0_calculate_class0_error_calculate_class1_error\n",
      "\n",
      "Created 31 packages\n",
      "\t- Finished 31 optimizations\n",
      "\t> Saved: 0_regularSample_biasPop_vehicle0_calculate_class0_error_calculate_class1_error\n",
      "\t> Saved: 1_regularSample_biasPop_vehicle0_calculate_class0_error_calculate_class1_error\n",
      "\t> Saved: 2_regularSample_biasPop_vehicle0_calculate_class0_error_calculate_class1_error\n",
      "\t> Saved: 3_regularSample_biasPop_vehicle0_calculate_class0_error_calculate_class1_error\n",
      "\t> Saved: 4_regularSample_biasPop_vehicle0_calculate_class0_error_calculate_class1_error\n",
      "\t> Saved: 5_regularSample_biasPop_vehicle0_calculate_class0_error_calculate_class1_error\n",
      "\t> Saved: 6_regularSample_biasPop_vehicle0_calculate_class0_error_calculate_class1_error\n",
      "\t> Saved: 7_regularSample_biasPop_vehicle0_calculate_class0_error_calculate_class1_error\n",
      "\t> Saved: 8_regularSample_biasPop_vehicle0_calculate_class0_error_calculate_class1_error\n",
      "\t> Saved: 9_regularSample_biasPop_vehicle0_calculate_class0_error_calculate_class1_error\n",
      "\t> Saved: 10_regularSample_biasPop_vehicle0_calculate_class0_error_calculate_class1_error\n",
      "\t> Saved: 11_regularSample_biasPop_vehicle0_calculate_class0_error_calculate_class1_error\n",
      "\t> Saved: 12_regularSample_biasPop_vehicle0_calculate_class0_error_calculate_class1_error\n",
      "\t> Saved: 13_regularSample_biasPop_vehicle0_calculate_class0_error_calculate_class1_error\n",
      "\t> Saved: 14_regularSample_biasPop_vehicle0_calculate_class0_error_calculate_class1_error\n",
      "\t> Saved: 15_regularSample_biasPop_vehicle0_calculate_class0_error_calculate_class1_error\n",
      "\t> Saved: 16_regularSample_biasPop_vehicle0_calculate_class0_error_calculate_class1_error\n",
      "\t> Saved: 17_regularSample_biasPop_vehicle0_calculate_class0_error_calculate_class1_error\n",
      "\t> Saved: 18_regularSample_biasPop_vehicle0_calculate_class0_error_calculate_class1_error\n",
      "\t> Saved: 19_regularSample_biasPop_vehicle0_calculate_class0_error_calculate_class1_error\n",
      "\t> Saved: 20_regularSample_biasPop_vehicle0_calculate_class0_error_calculate_class1_error\n",
      "\t> Saved: 21_regularSample_biasPop_vehicle0_calculate_class0_error_calculate_class1_error\n",
      "\t> Saved: 22_regularSample_biasPop_vehicle0_calculate_class0_error_calculate_class1_error\n",
      "\t> Saved: 23_regularSample_biasPop_vehicle0_calculate_class0_error_calculate_class1_error\n",
      "\t> Saved: 24_regularSample_biasPop_vehicle0_calculate_class0_error_calculate_class1_error\n",
      "\t> Saved: 25_regularSample_biasPop_vehicle0_calculate_class0_error_calculate_class1_error\n",
      "\t> Saved: 26_regularSample_biasPop_vehicle0_calculate_class0_error_calculate_class1_error\n",
      "\t> Saved: 27_regularSample_biasPop_vehicle0_calculate_class0_error_calculate_class1_error\n",
      "\t> Saved: 28_regularSample_biasPop_vehicle0_calculate_class0_error_calculate_class1_error\n",
      "\t> Saved: 29_regularSample_biasPop_vehicle0_calculate_class0_error_calculate_class1_error\n",
      "\t> Saved: 30_regularSample_biasPop_vehicle0_calculate_class0_error_calculate_class1_error\n",
      "\n",
      "Created 31 packages\n",
      "\t- Finished 31 optimizations\n",
      "\t> Saved: 0_overSample_randPop_yeast1_calculate_class0_error_calculate_class1_error\n",
      "\t> Saved: 1_overSample_randPop_yeast1_calculate_class0_error_calculate_class1_error\n",
      "\t> Saved: 2_overSample_randPop_yeast1_calculate_class0_error_calculate_class1_error\n",
      "\t> Saved: 3_overSample_randPop_yeast1_calculate_class0_error_calculate_class1_error\n",
      "\t> Saved: 4_overSample_randPop_yeast1_calculate_class0_error_calculate_class1_error\n",
      "\t> Saved: 5_overSample_randPop_yeast1_calculate_class0_error_calculate_class1_error\n",
      "\t> Saved: 6_overSample_randPop_yeast1_calculate_class0_error_calculate_class1_error\n",
      "\t> Saved: 7_overSample_randPop_yeast1_calculate_class0_error_calculate_class1_error\n",
      "\t> Saved: 8_overSample_randPop_yeast1_calculate_class0_error_calculate_class1_error\n",
      "\t> Saved: 9_overSample_randPop_yeast1_calculate_class0_error_calculate_class1_error\n",
      "\t> Saved: 10_overSample_randPop_yeast1_calculate_class0_error_calculate_class1_error\n",
      "\t> Saved: 11_overSample_randPop_yeast1_calculate_class0_error_calculate_class1_error\n",
      "\t> Saved: 12_overSample_randPop_yeast1_calculate_class0_error_calculate_class1_error\n",
      "\t> Saved: 13_overSample_randPop_yeast1_calculate_class0_error_calculate_class1_error\n",
      "\t> Saved: 14_overSample_randPop_yeast1_calculate_class0_error_calculate_class1_error\n",
      "\t> Saved: 15_overSample_randPop_yeast1_calculate_class0_error_calculate_class1_error\n",
      "\t> Saved: 16_overSample_randPop_yeast1_calculate_class0_error_calculate_class1_error\n",
      "\t> Saved: 17_overSample_randPop_yeast1_calculate_class0_error_calculate_class1_error\n",
      "\t> Saved: 18_overSample_randPop_yeast1_calculate_class0_error_calculate_class1_error\n",
      "\t> Saved: 19_overSample_randPop_yeast1_calculate_class0_error_calculate_class1_error\n",
      "\t> Saved: 20_overSample_randPop_yeast1_calculate_class0_error_calculate_class1_error\n",
      "\t> Saved: 21_overSample_randPop_yeast1_calculate_class0_error_calculate_class1_error\n",
      "\t> Saved: 22_overSample_randPop_yeast1_calculate_class0_error_calculate_class1_error\n",
      "\t> Saved: 23_overSample_randPop_yeast1_calculate_class0_error_calculate_class1_error\n",
      "\t> Saved: 24_overSample_randPop_yeast1_calculate_class0_error_calculate_class1_error\n",
      "\t> Saved: 25_overSample_randPop_yeast1_calculate_class0_error_calculate_class1_error\n",
      "\t> Saved: 26_overSample_randPop_yeast1_calculate_class0_error_calculate_class1_error\n",
      "\t> Saved: 27_overSample_randPop_yeast1_calculate_class0_error_calculate_class1_error\n",
      "\t> Saved: 28_overSample_randPop_yeast1_calculate_class0_error_calculate_class1_error\n",
      "\t> Saved: 29_overSample_randPop_yeast1_calculate_class0_error_calculate_class1_error\n",
      "\t> Saved: 30_overSample_randPop_yeast1_calculate_class0_error_calculate_class1_error\n",
      "\n",
      "Created 31 packages\n",
      "\t- Finished 31 optimizations\n",
      "\t> Saved: 0_regularSample_randPop_yeast1_calculate_class0_error_calculate_class1_error\n",
      "\t> Saved: 1_regularSample_randPop_yeast1_calculate_class0_error_calculate_class1_error\n",
      "\t> Saved: 2_regularSample_randPop_yeast1_calculate_class0_error_calculate_class1_error\n",
      "\t> Saved: 3_regularSample_randPop_yeast1_calculate_class0_error_calculate_class1_error\n",
      "\t> Saved: 4_regularSample_randPop_yeast1_calculate_class0_error_calculate_class1_error\n",
      "\t> Saved: 5_regularSample_randPop_yeast1_calculate_class0_error_calculate_class1_error\n",
      "\t> Saved: 6_regularSample_randPop_yeast1_calculate_class0_error_calculate_class1_error\n",
      "\t> Saved: 7_regularSample_randPop_yeast1_calculate_class0_error_calculate_class1_error\n",
      "\t> Saved: 8_regularSample_randPop_yeast1_calculate_class0_error_calculate_class1_error\n",
      "\t> Saved: 9_regularSample_randPop_yeast1_calculate_class0_error_calculate_class1_error\n",
      "\t> Saved: 10_regularSample_randPop_yeast1_calculate_class0_error_calculate_class1_error\n",
      "\t> Saved: 11_regularSample_randPop_yeast1_calculate_class0_error_calculate_class1_error\n",
      "\t> Saved: 12_regularSample_randPop_yeast1_calculate_class0_error_calculate_class1_error\n",
      "\t> Saved: 13_regularSample_randPop_yeast1_calculate_class0_error_calculate_class1_error\n",
      "\t> Saved: 14_regularSample_randPop_yeast1_calculate_class0_error_calculate_class1_error\n",
      "\t> Saved: 15_regularSample_randPop_yeast1_calculate_class0_error_calculate_class1_error\n",
      "\t> Saved: 16_regularSample_randPop_yeast1_calculate_class0_error_calculate_class1_error\n",
      "\t> Saved: 17_regularSample_randPop_yeast1_calculate_class0_error_calculate_class1_error\n",
      "\t> Saved: 18_regularSample_randPop_yeast1_calculate_class0_error_calculate_class1_error\n",
      "\t> Saved: 19_regularSample_randPop_yeast1_calculate_class0_error_calculate_class1_error\n",
      "\t> Saved: 20_regularSample_randPop_yeast1_calculate_class0_error_calculate_class1_error\n",
      "\t> Saved: 21_regularSample_randPop_yeast1_calculate_class0_error_calculate_class1_error\n",
      "\t> Saved: 22_regularSample_randPop_yeast1_calculate_class0_error_calculate_class1_error\n",
      "\t> Saved: 23_regularSample_randPop_yeast1_calculate_class0_error_calculate_class1_error\n",
      "\t> Saved: 24_regularSample_randPop_yeast1_calculate_class0_error_calculate_class1_error\n",
      "\t> Saved: 25_regularSample_randPop_yeast1_calculate_class0_error_calculate_class1_error\n",
      "\t> Saved: 26_regularSample_randPop_yeast1_calculate_class0_error_calculate_class1_error\n",
      "\t> Saved: 27_regularSample_randPop_yeast1_calculate_class0_error_calculate_class1_error\n",
      "\t> Saved: 28_regularSample_randPop_yeast1_calculate_class0_error_calculate_class1_error\n",
      "\t> Saved: 29_regularSample_randPop_yeast1_calculate_class0_error_calculate_class1_error\n",
      "\t> Saved: 30_regularSample_randPop_yeast1_calculate_class0_error_calculate_class1_error\n",
      "\n",
      "Created 31 packages\n",
      "\t- Finished 31 optimizations\n",
      "\t> Saved: 0_overSample_biasPop_yeast1_calculate_class0_error_calculate_class1_error\n",
      "\t> Saved: 1_overSample_biasPop_yeast1_calculate_class0_error_calculate_class1_error\n",
      "\t> Saved: 2_overSample_biasPop_yeast1_calculate_class0_error_calculate_class1_error\n",
      "\t> Saved: 3_overSample_biasPop_yeast1_calculate_class0_error_calculate_class1_error\n",
      "\t> Saved: 4_overSample_biasPop_yeast1_calculate_class0_error_calculate_class1_error\n",
      "\t> Saved: 5_overSample_biasPop_yeast1_calculate_class0_error_calculate_class1_error\n",
      "\t> Saved: 6_overSample_biasPop_yeast1_calculate_class0_error_calculate_class1_error\n",
      "\t> Saved: 7_overSample_biasPop_yeast1_calculate_class0_error_calculate_class1_error\n",
      "\t> Saved: 8_overSample_biasPop_yeast1_calculate_class0_error_calculate_class1_error\n",
      "\t> Saved: 9_overSample_biasPop_yeast1_calculate_class0_error_calculate_class1_error\n",
      "\t> Saved: 10_overSample_biasPop_yeast1_calculate_class0_error_calculate_class1_error\n",
      "\t> Saved: 11_overSample_biasPop_yeast1_calculate_class0_error_calculate_class1_error\n",
      "\t> Saved: 12_overSample_biasPop_yeast1_calculate_class0_error_calculate_class1_error\n",
      "\t> Saved: 13_overSample_biasPop_yeast1_calculate_class0_error_calculate_class1_error\n",
      "\t> Saved: 14_overSample_biasPop_yeast1_calculate_class0_error_calculate_class1_error\n",
      "\t> Saved: 15_overSample_biasPop_yeast1_calculate_class0_error_calculate_class1_error\n",
      "\t> Saved: 16_overSample_biasPop_yeast1_calculate_class0_error_calculate_class1_error\n",
      "\t> Saved: 17_overSample_biasPop_yeast1_calculate_class0_error_calculate_class1_error\n",
      "\t> Saved: 18_overSample_biasPop_yeast1_calculate_class0_error_calculate_class1_error\n",
      "\t> Saved: 19_overSample_biasPop_yeast1_calculate_class0_error_calculate_class1_error\n",
      "\t> Saved: 20_overSample_biasPop_yeast1_calculate_class0_error_calculate_class1_error\n",
      "\t> Saved: 21_overSample_biasPop_yeast1_calculate_class0_error_calculate_class1_error\n",
      "\t> Saved: 22_overSample_biasPop_yeast1_calculate_class0_error_calculate_class1_error\n",
      "\t> Saved: 23_overSample_biasPop_yeast1_calculate_class0_error_calculate_class1_error\n",
      "\t> Saved: 24_overSample_biasPop_yeast1_calculate_class0_error_calculate_class1_error\n",
      "\t> Saved: 25_overSample_biasPop_yeast1_calculate_class0_error_calculate_class1_error\n",
      "\t> Saved: 26_overSample_biasPop_yeast1_calculate_class0_error_calculate_class1_error\n",
      "\t> Saved: 27_overSample_biasPop_yeast1_calculate_class0_error_calculate_class1_error\n",
      "\t> Saved: 28_overSample_biasPop_yeast1_calculate_class0_error_calculate_class1_error\n",
      "\t> Saved: 29_overSample_biasPop_yeast1_calculate_class0_error_calculate_class1_error\n",
      "\t> Saved: 30_overSample_biasPop_yeast1_calculate_class0_error_calculate_class1_error\n",
      "\n",
      "Created 31 packages\n",
      "\t- Finished 31 optimizations\n",
      "\t> Saved: 0_regularSample_biasPop_yeast1_calculate_class0_error_calculate_class1_error\n",
      "\t> Saved: 1_regularSample_biasPop_yeast1_calculate_class0_error_calculate_class1_error\n",
      "\t> Saved: 2_regularSample_biasPop_yeast1_calculate_class0_error_calculate_class1_error\n",
      "\t> Saved: 3_regularSample_biasPop_yeast1_calculate_class0_error_calculate_class1_error\n",
      "\t> Saved: 4_regularSample_biasPop_yeast1_calculate_class0_error_calculate_class1_error\n",
      "\t> Saved: 5_regularSample_biasPop_yeast1_calculate_class0_error_calculate_class1_error\n",
      "\t> Saved: 6_regularSample_biasPop_yeast1_calculate_class0_error_calculate_class1_error\n",
      "\t> Saved: 7_regularSample_biasPop_yeast1_calculate_class0_error_calculate_class1_error\n",
      "\t> Saved: 8_regularSample_biasPop_yeast1_calculate_class0_error_calculate_class1_error\n",
      "\t> Saved: 9_regularSample_biasPop_yeast1_calculate_class0_error_calculate_class1_error\n",
      "\t> Saved: 10_regularSample_biasPop_yeast1_calculate_class0_error_calculate_class1_error\n",
      "\t> Saved: 11_regularSample_biasPop_yeast1_calculate_class0_error_calculate_class1_error\n",
      "\t> Saved: 12_regularSample_biasPop_yeast1_calculate_class0_error_calculate_class1_error\n",
      "\t> Saved: 13_regularSample_biasPop_yeast1_calculate_class0_error_calculate_class1_error\n",
      "\t> Saved: 14_regularSample_biasPop_yeast1_calculate_class0_error_calculate_class1_error\n",
      "\t> Saved: 15_regularSample_biasPop_yeast1_calculate_class0_error_calculate_class1_error\n",
      "\t> Saved: 16_regularSample_biasPop_yeast1_calculate_class0_error_calculate_class1_error\n",
      "\t> Saved: 17_regularSample_biasPop_yeast1_calculate_class0_error_calculate_class1_error\n",
      "\t> Saved: 18_regularSample_biasPop_yeast1_calculate_class0_error_calculate_class1_error\n",
      "\t> Saved: 19_regularSample_biasPop_yeast1_calculate_class0_error_calculate_class1_error\n",
      "\t> Saved: 20_regularSample_biasPop_yeast1_calculate_class0_error_calculate_class1_error\n",
      "\t> Saved: 21_regularSample_biasPop_yeast1_calculate_class0_error_calculate_class1_error\n",
      "\t> Saved: 22_regularSample_biasPop_yeast1_calculate_class0_error_calculate_class1_error\n",
      "\t> Saved: 23_regularSample_biasPop_yeast1_calculate_class0_error_calculate_class1_error\n",
      "\t> Saved: 24_regularSample_biasPop_yeast1_calculate_class0_error_calculate_class1_error\n",
      "\t> Saved: 25_regularSample_biasPop_yeast1_calculate_class0_error_calculate_class1_error\n",
      "\t> Saved: 26_regularSample_biasPop_yeast1_calculate_class0_error_calculate_class1_error\n",
      "\t> Saved: 27_regularSample_biasPop_yeast1_calculate_class0_error_calculate_class1_error\n",
      "\t> Saved: 28_regularSample_biasPop_yeast1_calculate_class0_error_calculate_class1_error\n",
      "\t> Saved: 29_regularSample_biasPop_yeast1_calculate_class0_error_calculate_class1_error\n",
      "\t> Saved: 30_regularSample_biasPop_yeast1_calculate_class0_error_calculate_class1_error\n"
     ]
    }
   ],
   "source": [
    "\n",
    "evaluation_schemes = [\n",
    "\t[GenericOptimizer.calculate_overall_error, GenericOptimizer.calculate_num_examples],\n",
    "\t[GenericOptimizer.calculate_overall_error, GenericOptimizer.calculate_overall_inverse_f1, GenericOptimizer.calculate_num_examples],\n",
    "\t[GenericOptimizer.calculate_class0_error, GenericOptimizer.calculate_class1_error],\n",
    "]\n",
    "\n",
    "for objectives in evaluation_schemes:\n",
    "\tobjectives_names = [re.search(r'\\.([a-zA-Z_][a-zA-Z0-9_]*)\\s', str(objective_name)).group(1) for objective_name in objectives]\n",
    "\tfor folder in os.listdir(datasets_path):\n",
    "\n",
    "\t\t###########################################\n",
    "\t\t# overSample_randPop\n",
    "\t\t############################################\n",
    "\t\tx, y, splits = prepare_splits(os.path.join(datasets_path, folder, f\"{folder}.csv\"))\n",
    "\t\tpackages = []\n",
    "\t\tfor c, (train_idx, test_idx, validation_idx) in enumerate(splits): # 31 splits for Wilcoxon rank-sum\n",
    "\t\t\tpackages.append((x, y, train_idx, validation_idx, test_idx, objectives, f\"{c}_overSample_randPop_{folder}_{'_'.join(objectives_names)}\"))\n",
    "\n",
    "\t\tprint(f\"\\nCreated {len(packages)} packages\")\n",
    "\t\tresults = Parallel(n_jobs=-1)(delayed(overSample_randPop_execute)(package) for package in packages)\n",
    "\t\tprint(f\"\\t- Finished {len(results)} optimizations\")\n",
    "\t\tfor result in results:\n",
    "\t\t\twith open(os.path.join(save_path, f\"{result['name']}.pickle\"), 'wb') as fh:\n",
    "\t\t\t\tpickle.dump(result, fh)\t\n",
    "\t\t\t\tprint(f\"\\t> Saved: {result['name']}\")\n",
    "\n",
    "\t\t###########################################\n",
    "\t\t# regularSample_randPop\n",
    "\t\t############################################\n",
    "\t\tx, y, splits = prepare_splits(os.path.join(datasets_path, folder, f\"{folder}.csv\"))\n",
    "\t\tpackages = []\n",
    "\t\tfor c, (train_idx, test_idx, validation_idx) in enumerate(splits): # 31 splits for Wilcoxon rank-sum\n",
    "\t\t\tpackages.append((x, y, train_idx, validation_idx, test_idx, objectives, f\"{c}_regularSample_randPop_{folder}_{'_'.join(objectives_names)}\"))\n",
    "\n",
    "\t\tprint(f\"\\nCreated {len(packages)} packages\")\n",
    "\t\tresults = Parallel(n_jobs=-1)(delayed(regularSample_randPop_execute)(package) for package in packages)\n",
    "\t\tprint(f\"\\t- Finished {len(results)} optimizations\")\n",
    "\t\tfor result in results:\n",
    "\t\t\twith open(os.path.join(save_path, f\"{result['name']}.pickle\"), 'wb') as fh:\n",
    "\t\t\t\tpickle.dump(result, fh)\t\n",
    "\t\t\t\tprint(f\"\\t> Saved: {result['name']}\")\n",
    "\n",
    "\t\t###########################################\n",
    "\t\t# overSample_biasPop\n",
    "\t\t############################################\n",
    "\t\tx, y, splits = prepare_splits(os.path.join(datasets_path, folder, f\"{folder}.csv\"))\n",
    "\t\tpackages = []\n",
    "\t\tfor c, (train_idx, test_idx, validation_idx) in enumerate(splits): # 31 splits for Wilcoxon rank-sum\n",
    "\t\t\tpackages.append((x, y, train_idx, validation_idx, test_idx, objectives, f\"{c}_overSample_biasPop_{folder}_{'_'.join(objectives_names)}\"))\n",
    "\n",
    "\t\tprint(f\"\\nCreated {len(packages)} packages\")\n",
    "\t\tresults = Parallel(n_jobs=-1)(delayed(overSample_biasPop_execute)(package) for package in packages)\n",
    "\t\tprint(f\"\\t- Finished {len(results)} optimizations\")\n",
    "\t\tfor result in results:\n",
    "\t\t\twith open(os.path.join(save_path, f\"{result['name']}.pickle\"), 'wb') as fh:\n",
    "\t\t\t\tpickle.dump(result, fh)\t\n",
    "\t\t\t\tprint(f\"\\t> Saved: {result['name']}\")\n",
    "\n",
    "\t\t###########################################\n",
    "\t\t# regularSample_biasPop_execute\n",
    "\t\t############################################\n",
    "\t\tx, y, splits = prepare_splits(os.path.join(datasets_path, folder, f\"{folder}.csv\"))\n",
    "\t\tpackages = []\n",
    "\t\tfor c, (train_idx, test_idx, validation_idx) in enumerate(splits): # 31 splits for Wilcoxon rank-sum\n",
    "\t\t\tpackages.append((x, y, train_idx, validation_idx, test_idx, objectives, f\"{c}_regularSample_biasPop_{folder}_{'_'.join(objectives_names)}\"))\n",
    "\n",
    "\t\tprint(f\"\\nCreated {len(packages)} packages\")\n",
    "\t\tresults = Parallel(n_jobs=-1)(delayed(regularSample_biasPop_execute)(package) for package in packages)\n",
    "\t\tprint(f\"\\t- Finished {len(results)} optimizations\")\n",
    "\t\tfor result in results:\n",
    "\t\t\twith open(os.path.join(save_path, f\"{result['name']}.pickle\"), 'wb') as fh:\n",
    "\t\t\t\tpickle.dump(result, fh)\t\n",
    "\t\t\t\tprint(f\"\\t> Saved: {result['name']}\")"
   ]
  },
  {
   "cell_type": "markdown",
   "metadata": {},
   "source": [
    "# Novel Mutator"
   ]
  },
  {
   "cell_type": "code",
   "execution_count": null,
   "metadata": {},
   "outputs": [
    {
     "name": "stderr",
     "output_type": "stream",
     "text": [
      "C:\\Users\\RjKim\\AppData\\Local\\Temp\\ipykernel_33324\\975327388.py:417: DeprecationWarning: __array__ implementation doesn't accept a copy keyword, so passing copy=False failed. __array__ must implement 'dtype' and 'copy' keyword arguments. To learn more, see the migration guide https://numpy.org/devdocs/numpy_2_0_migration_guide.html#adapting-to-changes-in-the-copy-keyword\n",
      "  prediction = np.array(predictions)\n"
     ]
    },
    {
     "name": "stdout",
     "output_type": "stream",
     "text": [
      "\t> Saved: 0_autoEncoderMutation_australian\n"
     ]
    },
    {
     "name": "stderr",
     "output_type": "stream",
     "text": [
      "C:\\Users\\RjKim\\AppData\\Local\\Temp\\ipykernel_33324\\975327388.py:417: DeprecationWarning: __array__ implementation doesn't accept a copy keyword, so passing copy=False failed. __array__ must implement 'dtype' and 'copy' keyword arguments. To learn more, see the migration guide https://numpy.org/devdocs/numpy_2_0_migration_guide.html#adapting-to-changes-in-the-copy-keyword\n",
      "  prediction = np.array(predictions)\n"
     ]
    },
    {
     "name": "stdout",
     "output_type": "stream",
     "text": [
      "\t> Saved: 1_autoEncoderMutation_australian\n"
     ]
    },
    {
     "name": "stderr",
     "output_type": "stream",
     "text": [
      "C:\\Users\\RjKim\\AppData\\Local\\Temp\\ipykernel_33324\\975327388.py:417: DeprecationWarning: __array__ implementation doesn't accept a copy keyword, so passing copy=False failed. __array__ must implement 'dtype' and 'copy' keyword arguments. To learn more, see the migration guide https://numpy.org/devdocs/numpy_2_0_migration_guide.html#adapting-to-changes-in-the-copy-keyword\n",
      "  prediction = np.array(predictions)\n"
     ]
    },
    {
     "name": "stdout",
     "output_type": "stream",
     "text": [
      "\t> Saved: 2_autoEncoderMutation_australian\n"
     ]
    },
    {
     "name": "stderr",
     "output_type": "stream",
     "text": [
      "C:\\Users\\RjKim\\AppData\\Local\\Temp\\ipykernel_33324\\975327388.py:417: DeprecationWarning: __array__ implementation doesn't accept a copy keyword, so passing copy=False failed. __array__ must implement 'dtype' and 'copy' keyword arguments. To learn more, see the migration guide https://numpy.org/devdocs/numpy_2_0_migration_guide.html#adapting-to-changes-in-the-copy-keyword\n",
      "  prediction = np.array(predictions)\n"
     ]
    },
    {
     "name": "stdout",
     "output_type": "stream",
     "text": [
      "\t> Saved: 3_autoEncoderMutation_australian\n"
     ]
    },
    {
     "name": "stderr",
     "output_type": "stream",
     "text": [
      "C:\\Users\\RjKim\\AppData\\Local\\Temp\\ipykernel_33324\\975327388.py:417: DeprecationWarning: __array__ implementation doesn't accept a copy keyword, so passing copy=False failed. __array__ must implement 'dtype' and 'copy' keyword arguments. To learn more, see the migration guide https://numpy.org/devdocs/numpy_2_0_migration_guide.html#adapting-to-changes-in-the-copy-keyword\n",
      "  prediction = np.array(predictions)\n"
     ]
    },
    {
     "name": "stdout",
     "output_type": "stream",
     "text": [
      "\t> Saved: 4_autoEncoderMutation_australian\n"
     ]
    },
    {
     "name": "stderr",
     "output_type": "stream",
     "text": [
      "C:\\Users\\RjKim\\AppData\\Local\\Temp\\ipykernel_33324\\975327388.py:417: DeprecationWarning: __array__ implementation doesn't accept a copy keyword, so passing copy=False failed. __array__ must implement 'dtype' and 'copy' keyword arguments. To learn more, see the migration guide https://numpy.org/devdocs/numpy_2_0_migration_guide.html#adapting-to-changes-in-the-copy-keyword\n",
      "  prediction = np.array(predictions)\n"
     ]
    },
    {
     "name": "stdout",
     "output_type": "stream",
     "text": [
      "\t> Saved: 5_autoEncoderMutation_australian\n"
     ]
    },
    {
     "name": "stderr",
     "output_type": "stream",
     "text": [
      "C:\\Users\\RjKim\\AppData\\Local\\Temp\\ipykernel_33324\\975327388.py:417: DeprecationWarning: __array__ implementation doesn't accept a copy keyword, so passing copy=False failed. __array__ must implement 'dtype' and 'copy' keyword arguments. To learn more, see the migration guide https://numpy.org/devdocs/numpy_2_0_migration_guide.html#adapting-to-changes-in-the-copy-keyword\n",
      "  prediction = np.array(predictions)\n"
     ]
    },
    {
     "name": "stdout",
     "output_type": "stream",
     "text": [
      "\t> Saved: 6_autoEncoderMutation_australian\n"
     ]
    },
    {
     "name": "stderr",
     "output_type": "stream",
     "text": [
      "C:\\Users\\RjKim\\AppData\\Local\\Temp\\ipykernel_33324\\975327388.py:417: DeprecationWarning: __array__ implementation doesn't accept a copy keyword, so passing copy=False failed. __array__ must implement 'dtype' and 'copy' keyword arguments. To learn more, see the migration guide https://numpy.org/devdocs/numpy_2_0_migration_guide.html#adapting-to-changes-in-the-copy-keyword\n",
      "  prediction = np.array(predictions)\n"
     ]
    },
    {
     "name": "stdout",
     "output_type": "stream",
     "text": [
      "\t> Saved: 7_autoEncoderMutation_australian\n"
     ]
    },
    {
     "name": "stderr",
     "output_type": "stream",
     "text": [
      "C:\\Users\\RjKim\\AppData\\Local\\Temp\\ipykernel_33324\\975327388.py:417: DeprecationWarning: __array__ implementation doesn't accept a copy keyword, so passing copy=False failed. __array__ must implement 'dtype' and 'copy' keyword arguments. To learn more, see the migration guide https://numpy.org/devdocs/numpy_2_0_migration_guide.html#adapting-to-changes-in-the-copy-keyword\n",
      "  prediction = np.array(predictions)\n"
     ]
    },
    {
     "name": "stdout",
     "output_type": "stream",
     "text": [
      "\t> Saved: 8_autoEncoderMutation_australian\n"
     ]
    },
    {
     "name": "stderr",
     "output_type": "stream",
     "text": [
      "C:\\Users\\RjKim\\AppData\\Local\\Temp\\ipykernel_33324\\975327388.py:417: DeprecationWarning: __array__ implementation doesn't accept a copy keyword, so passing copy=False failed. __array__ must implement 'dtype' and 'copy' keyword arguments. To learn more, see the migration guide https://numpy.org/devdocs/numpy_2_0_migration_guide.html#adapting-to-changes-in-the-copy-keyword\n",
      "  prediction = np.array(predictions)\n"
     ]
    },
    {
     "name": "stdout",
     "output_type": "stream",
     "text": [
      "\t> Saved: 9_autoEncoderMutation_australian\n"
     ]
    },
    {
     "name": "stderr",
     "output_type": "stream",
     "text": [
      "C:\\Users\\RjKim\\AppData\\Local\\Temp\\ipykernel_33324\\975327388.py:417: DeprecationWarning: __array__ implementation doesn't accept a copy keyword, so passing copy=False failed. __array__ must implement 'dtype' and 'copy' keyword arguments. To learn more, see the migration guide https://numpy.org/devdocs/numpy_2_0_migration_guide.html#adapting-to-changes-in-the-copy-keyword\n",
      "  prediction = np.array(predictions)\n"
     ]
    },
    {
     "name": "stdout",
     "output_type": "stream",
     "text": [
      "\t> Saved: 10_autoEncoderMutation_australian\n"
     ]
    },
    {
     "name": "stderr",
     "output_type": "stream",
     "text": [
      "C:\\Users\\RjKim\\AppData\\Local\\Temp\\ipykernel_33324\\975327388.py:417: DeprecationWarning: __array__ implementation doesn't accept a copy keyword, so passing copy=False failed. __array__ must implement 'dtype' and 'copy' keyword arguments. To learn more, see the migration guide https://numpy.org/devdocs/numpy_2_0_migration_guide.html#adapting-to-changes-in-the-copy-keyword\n",
      "  prediction = np.array(predictions)\n"
     ]
    },
    {
     "name": "stdout",
     "output_type": "stream",
     "text": [
      "\t> Saved: 11_autoEncoderMutation_australian\n"
     ]
    },
    {
     "name": "stderr",
     "output_type": "stream",
     "text": [
      "C:\\Users\\RjKim\\AppData\\Local\\Temp\\ipykernel_33324\\975327388.py:417: DeprecationWarning: __array__ implementation doesn't accept a copy keyword, so passing copy=False failed. __array__ must implement 'dtype' and 'copy' keyword arguments. To learn more, see the migration guide https://numpy.org/devdocs/numpy_2_0_migration_guide.html#adapting-to-changes-in-the-copy-keyword\n",
      "  prediction = np.array(predictions)\n"
     ]
    },
    {
     "name": "stdout",
     "output_type": "stream",
     "text": [
      "\t> Saved: 12_autoEncoderMutation_australian\n"
     ]
    },
    {
     "name": "stderr",
     "output_type": "stream",
     "text": [
      "C:\\Users\\RjKim\\AppData\\Local\\Temp\\ipykernel_33324\\975327388.py:417: DeprecationWarning: __array__ implementation doesn't accept a copy keyword, so passing copy=False failed. __array__ must implement 'dtype' and 'copy' keyword arguments. To learn more, see the migration guide https://numpy.org/devdocs/numpy_2_0_migration_guide.html#adapting-to-changes-in-the-copy-keyword\n",
      "  prediction = np.array(predictions)\n"
     ]
    },
    {
     "name": "stdout",
     "output_type": "stream",
     "text": [
      "\t> Saved: 13_autoEncoderMutation_australian\n"
     ]
    },
    {
     "name": "stderr",
     "output_type": "stream",
     "text": [
      "C:\\Users\\RjKim\\AppData\\Local\\Temp\\ipykernel_33324\\975327388.py:417: DeprecationWarning: __array__ implementation doesn't accept a copy keyword, so passing copy=False failed. __array__ must implement 'dtype' and 'copy' keyword arguments. To learn more, see the migration guide https://numpy.org/devdocs/numpy_2_0_migration_guide.html#adapting-to-changes-in-the-copy-keyword\n",
      "  prediction = np.array(predictions)\n"
     ]
    },
    {
     "name": "stdout",
     "output_type": "stream",
     "text": [
      "\t> Saved: 14_autoEncoderMutation_australian\n"
     ]
    },
    {
     "name": "stderr",
     "output_type": "stream",
     "text": [
      "C:\\Users\\RjKim\\AppData\\Local\\Temp\\ipykernel_33324\\975327388.py:417: DeprecationWarning: __array__ implementation doesn't accept a copy keyword, so passing copy=False failed. __array__ must implement 'dtype' and 'copy' keyword arguments. To learn more, see the migration guide https://numpy.org/devdocs/numpy_2_0_migration_guide.html#adapting-to-changes-in-the-copy-keyword\n",
      "  prediction = np.array(predictions)\n"
     ]
    },
    {
     "name": "stdout",
     "output_type": "stream",
     "text": [
      "\t> Saved: 15_autoEncoderMutation_australian\n"
     ]
    },
    {
     "name": "stderr",
     "output_type": "stream",
     "text": [
      "C:\\Users\\RjKim\\AppData\\Local\\Temp\\ipykernel_33324\\975327388.py:417: DeprecationWarning: __array__ implementation doesn't accept a copy keyword, so passing copy=False failed. __array__ must implement 'dtype' and 'copy' keyword arguments. To learn more, see the migration guide https://numpy.org/devdocs/numpy_2_0_migration_guide.html#adapting-to-changes-in-the-copy-keyword\n",
      "  prediction = np.array(predictions)\n"
     ]
    },
    {
     "name": "stdout",
     "output_type": "stream",
     "text": [
      "\t> Saved: 16_autoEncoderMutation_australian\n"
     ]
    },
    {
     "name": "stderr",
     "output_type": "stream",
     "text": [
      "C:\\Users\\RjKim\\AppData\\Local\\Temp\\ipykernel_33324\\975327388.py:417: DeprecationWarning: __array__ implementation doesn't accept a copy keyword, so passing copy=False failed. __array__ must implement 'dtype' and 'copy' keyword arguments. To learn more, see the migration guide https://numpy.org/devdocs/numpy_2_0_migration_guide.html#adapting-to-changes-in-the-copy-keyword\n",
      "  prediction = np.array(predictions)\n"
     ]
    },
    {
     "name": "stdout",
     "output_type": "stream",
     "text": [
      "\t> Saved: 17_autoEncoderMutation_australian\n"
     ]
    },
    {
     "name": "stderr",
     "output_type": "stream",
     "text": [
      "C:\\Users\\RjKim\\AppData\\Local\\Temp\\ipykernel_33324\\975327388.py:417: DeprecationWarning: __array__ implementation doesn't accept a copy keyword, so passing copy=False failed. __array__ must implement 'dtype' and 'copy' keyword arguments. To learn more, see the migration guide https://numpy.org/devdocs/numpy_2_0_migration_guide.html#adapting-to-changes-in-the-copy-keyword\n",
      "  prediction = np.array(predictions)\n"
     ]
    },
    {
     "name": "stdout",
     "output_type": "stream",
     "text": [
      "\t> Saved: 18_autoEncoderMutation_australian\n"
     ]
    },
    {
     "name": "stderr",
     "output_type": "stream",
     "text": [
      "C:\\Users\\RjKim\\AppData\\Local\\Temp\\ipykernel_33324\\975327388.py:417: DeprecationWarning: __array__ implementation doesn't accept a copy keyword, so passing copy=False failed. __array__ must implement 'dtype' and 'copy' keyword arguments. To learn more, see the migration guide https://numpy.org/devdocs/numpy_2_0_migration_guide.html#adapting-to-changes-in-the-copy-keyword\n",
      "  prediction = np.array(predictions)\n"
     ]
    },
    {
     "name": "stdout",
     "output_type": "stream",
     "text": [
      "\t> Saved: 19_autoEncoderMutation_australian\n"
     ]
    },
    {
     "name": "stderr",
     "output_type": "stream",
     "text": [
      "C:\\Users\\RjKim\\AppData\\Local\\Temp\\ipykernel_33324\\975327388.py:417: DeprecationWarning: __array__ implementation doesn't accept a copy keyword, so passing copy=False failed. __array__ must implement 'dtype' and 'copy' keyword arguments. To learn more, see the migration guide https://numpy.org/devdocs/numpy_2_0_migration_guide.html#adapting-to-changes-in-the-copy-keyword\n",
      "  prediction = np.array(predictions)\n"
     ]
    },
    {
     "name": "stdout",
     "output_type": "stream",
     "text": [
      "\t> Saved: 20_autoEncoderMutation_australian\n"
     ]
    },
    {
     "name": "stderr",
     "output_type": "stream",
     "text": [
      "C:\\Users\\RjKim\\AppData\\Local\\Temp\\ipykernel_33324\\975327388.py:417: DeprecationWarning: __array__ implementation doesn't accept a copy keyword, so passing copy=False failed. __array__ must implement 'dtype' and 'copy' keyword arguments. To learn more, see the migration guide https://numpy.org/devdocs/numpy_2_0_migration_guide.html#adapting-to-changes-in-the-copy-keyword\n",
      "  prediction = np.array(predictions)\n"
     ]
    },
    {
     "name": "stdout",
     "output_type": "stream",
     "text": [
      "\t> Saved: 21_autoEncoderMutation_australian\n"
     ]
    },
    {
     "name": "stderr",
     "output_type": "stream",
     "text": [
      "C:\\Users\\RjKim\\AppData\\Local\\Temp\\ipykernel_33324\\975327388.py:417: DeprecationWarning: __array__ implementation doesn't accept a copy keyword, so passing copy=False failed. __array__ must implement 'dtype' and 'copy' keyword arguments. To learn more, see the migration guide https://numpy.org/devdocs/numpy_2_0_migration_guide.html#adapting-to-changes-in-the-copy-keyword\n",
      "  prediction = np.array(predictions)\n"
     ]
    },
    {
     "name": "stdout",
     "output_type": "stream",
     "text": [
      "\t> Saved: 22_autoEncoderMutation_australian\n"
     ]
    },
    {
     "name": "stderr",
     "output_type": "stream",
     "text": [
      "C:\\Users\\RjKim\\AppData\\Local\\Temp\\ipykernel_33324\\975327388.py:417: DeprecationWarning: __array__ implementation doesn't accept a copy keyword, so passing copy=False failed. __array__ must implement 'dtype' and 'copy' keyword arguments. To learn more, see the migration guide https://numpy.org/devdocs/numpy_2_0_migration_guide.html#adapting-to-changes-in-the-copy-keyword\n",
      "  prediction = np.array(predictions)\n"
     ]
    },
    {
     "name": "stdout",
     "output_type": "stream",
     "text": [
      "\t> Saved: 23_autoEncoderMutation_australian\n"
     ]
    },
    {
     "name": "stderr",
     "output_type": "stream",
     "text": [
      "C:\\Users\\RjKim\\AppData\\Local\\Temp\\ipykernel_33324\\975327388.py:417: DeprecationWarning: __array__ implementation doesn't accept a copy keyword, so passing copy=False failed. __array__ must implement 'dtype' and 'copy' keyword arguments. To learn more, see the migration guide https://numpy.org/devdocs/numpy_2_0_migration_guide.html#adapting-to-changes-in-the-copy-keyword\n",
      "  prediction = np.array(predictions)\n"
     ]
    },
    {
     "name": "stdout",
     "output_type": "stream",
     "text": [
      "\t> Saved: 24_autoEncoderMutation_australian\n"
     ]
    },
    {
     "name": "stderr",
     "output_type": "stream",
     "text": [
      "C:\\Users\\RjKim\\AppData\\Local\\Temp\\ipykernel_33324\\975327388.py:417: DeprecationWarning: __array__ implementation doesn't accept a copy keyword, so passing copy=False failed. __array__ must implement 'dtype' and 'copy' keyword arguments. To learn more, see the migration guide https://numpy.org/devdocs/numpy_2_0_migration_guide.html#adapting-to-changes-in-the-copy-keyword\n",
      "  prediction = np.array(predictions)\n"
     ]
    },
    {
     "name": "stdout",
     "output_type": "stream",
     "text": [
      "\t> Saved: 25_autoEncoderMutation_australian\n"
     ]
    },
    {
     "name": "stderr",
     "output_type": "stream",
     "text": [
      "C:\\Users\\RjKim\\AppData\\Local\\Temp\\ipykernel_33324\\975327388.py:417: DeprecationWarning: __array__ implementation doesn't accept a copy keyword, so passing copy=False failed. __array__ must implement 'dtype' and 'copy' keyword arguments. To learn more, see the migration guide https://numpy.org/devdocs/numpy_2_0_migration_guide.html#adapting-to-changes-in-the-copy-keyword\n",
      "  prediction = np.array(predictions)\n"
     ]
    },
    {
     "name": "stdout",
     "output_type": "stream",
     "text": [
      "\t> Saved: 26_autoEncoderMutation_australian\n"
     ]
    },
    {
     "name": "stderr",
     "output_type": "stream",
     "text": [
      "C:\\Users\\RjKim\\AppData\\Local\\Temp\\ipykernel_33324\\975327388.py:417: DeprecationWarning: __array__ implementation doesn't accept a copy keyword, so passing copy=False failed. __array__ must implement 'dtype' and 'copy' keyword arguments. To learn more, see the migration guide https://numpy.org/devdocs/numpy_2_0_migration_guide.html#adapting-to-changes-in-the-copy-keyword\n",
      "  prediction = np.array(predictions)\n"
     ]
    },
    {
     "name": "stdout",
     "output_type": "stream",
     "text": [
      "\t> Saved: 27_autoEncoderMutation_australian\n"
     ]
    },
    {
     "name": "stderr",
     "output_type": "stream",
     "text": [
      "C:\\Users\\RjKim\\AppData\\Local\\Temp\\ipykernel_33324\\975327388.py:417: DeprecationWarning: __array__ implementation doesn't accept a copy keyword, so passing copy=False failed. __array__ must implement 'dtype' and 'copy' keyword arguments. To learn more, see the migration guide https://numpy.org/devdocs/numpy_2_0_migration_guide.html#adapting-to-changes-in-the-copy-keyword\n",
      "  prediction = np.array(predictions)\n"
     ]
    },
    {
     "name": "stdout",
     "output_type": "stream",
     "text": [
      "\t> Saved: 28_autoEncoderMutation_australian\n"
     ]
    },
    {
     "name": "stderr",
     "output_type": "stream",
     "text": [
      "C:\\Users\\RjKim\\AppData\\Local\\Temp\\ipykernel_33324\\975327388.py:417: DeprecationWarning: __array__ implementation doesn't accept a copy keyword, so passing copy=False failed. __array__ must implement 'dtype' and 'copy' keyword arguments. To learn more, see the migration guide https://numpy.org/devdocs/numpy_2_0_migration_guide.html#adapting-to-changes-in-the-copy-keyword\n",
      "  prediction = np.array(predictions)\n"
     ]
    },
    {
     "name": "stdout",
     "output_type": "stream",
     "text": [
      "\t> Saved: 29_autoEncoderMutation_australian\n"
     ]
    },
    {
     "name": "stderr",
     "output_type": "stream",
     "text": [
      "C:\\Users\\RjKim\\AppData\\Local\\Temp\\ipykernel_33324\\975327388.py:417: DeprecationWarning: __array__ implementation doesn't accept a copy keyword, so passing copy=False failed. __array__ must implement 'dtype' and 'copy' keyword arguments. To learn more, see the migration guide https://numpy.org/devdocs/numpy_2_0_migration_guide.html#adapting-to-changes-in-the-copy-keyword\n",
      "  prediction = np.array(predictions)\n"
     ]
    },
    {
     "name": "stdout",
     "output_type": "stream",
     "text": [
      "\t> Saved: 30_autoEncoderMutation_australian\n"
     ]
    },
    {
     "name": "stderr",
     "output_type": "stream",
     "text": [
      "C:\\Users\\RjKim\\AppData\\Local\\Temp\\ipykernel_33324\\975327388.py:417: DeprecationWarning: __array__ implementation doesn't accept a copy keyword, so passing copy=False failed. __array__ must implement 'dtype' and 'copy' keyword arguments. To learn more, see the migration guide https://numpy.org/devdocs/numpy_2_0_migration_guide.html#adapting-to-changes-in-the-copy-keyword\n",
      "  prediction = np.array(predictions)\n"
     ]
    },
    {
     "name": "stdout",
     "output_type": "stream",
     "text": [
      "\t> Saved: 0_autoEncoderMutation_bupa\n"
     ]
    },
    {
     "name": "stderr",
     "output_type": "stream",
     "text": [
      "C:\\Users\\RjKim\\AppData\\Local\\Temp\\ipykernel_33324\\975327388.py:417: DeprecationWarning: __array__ implementation doesn't accept a copy keyword, so passing copy=False failed. __array__ must implement 'dtype' and 'copy' keyword arguments. To learn more, see the migration guide https://numpy.org/devdocs/numpy_2_0_migration_guide.html#adapting-to-changes-in-the-copy-keyword\n",
      "  prediction = np.array(predictions)\n"
     ]
    },
    {
     "name": "stdout",
     "output_type": "stream",
     "text": [
      "\t> Saved: 1_autoEncoderMutation_bupa\n"
     ]
    },
    {
     "name": "stderr",
     "output_type": "stream",
     "text": [
      "C:\\Users\\RjKim\\AppData\\Local\\Temp\\ipykernel_33324\\975327388.py:417: DeprecationWarning: __array__ implementation doesn't accept a copy keyword, so passing copy=False failed. __array__ must implement 'dtype' and 'copy' keyword arguments. To learn more, see the migration guide https://numpy.org/devdocs/numpy_2_0_migration_guide.html#adapting-to-changes-in-the-copy-keyword\n",
      "  prediction = np.array(predictions)\n"
     ]
    },
    {
     "name": "stdout",
     "output_type": "stream",
     "text": [
      "\t> Saved: 2_autoEncoderMutation_bupa\n"
     ]
    },
    {
     "name": "stderr",
     "output_type": "stream",
     "text": [
      "C:\\Users\\RjKim\\AppData\\Local\\Temp\\ipykernel_33324\\975327388.py:417: DeprecationWarning: __array__ implementation doesn't accept a copy keyword, so passing copy=False failed. __array__ must implement 'dtype' and 'copy' keyword arguments. To learn more, see the migration guide https://numpy.org/devdocs/numpy_2_0_migration_guide.html#adapting-to-changes-in-the-copy-keyword\n",
      "  prediction = np.array(predictions)\n"
     ]
    },
    {
     "name": "stdout",
     "output_type": "stream",
     "text": [
      "\t> Saved: 3_autoEncoderMutation_bupa\n"
     ]
    },
    {
     "name": "stderr",
     "output_type": "stream",
     "text": [
      "C:\\Users\\RjKim\\AppData\\Local\\Temp\\ipykernel_33324\\975327388.py:417: DeprecationWarning: __array__ implementation doesn't accept a copy keyword, so passing copy=False failed. __array__ must implement 'dtype' and 'copy' keyword arguments. To learn more, see the migration guide https://numpy.org/devdocs/numpy_2_0_migration_guide.html#adapting-to-changes-in-the-copy-keyword\n",
      "  prediction = np.array(predictions)\n"
     ]
    },
    {
     "name": "stdout",
     "output_type": "stream",
     "text": [
      "\t> Saved: 4_autoEncoderMutation_bupa\n"
     ]
    },
    {
     "name": "stderr",
     "output_type": "stream",
     "text": [
      "C:\\Users\\RjKim\\AppData\\Local\\Temp\\ipykernel_33324\\975327388.py:417: DeprecationWarning: __array__ implementation doesn't accept a copy keyword, so passing copy=False failed. __array__ must implement 'dtype' and 'copy' keyword arguments. To learn more, see the migration guide https://numpy.org/devdocs/numpy_2_0_migration_guide.html#adapting-to-changes-in-the-copy-keyword\n",
      "  prediction = np.array(predictions)\n"
     ]
    },
    {
     "name": "stdout",
     "output_type": "stream",
     "text": [
      "\t> Saved: 5_autoEncoderMutation_bupa\n"
     ]
    },
    {
     "name": "stderr",
     "output_type": "stream",
     "text": [
      "C:\\Users\\RjKim\\AppData\\Local\\Temp\\ipykernel_33324\\975327388.py:417: DeprecationWarning: __array__ implementation doesn't accept a copy keyword, so passing copy=False failed. __array__ must implement 'dtype' and 'copy' keyword arguments. To learn more, see the migration guide https://numpy.org/devdocs/numpy_2_0_migration_guide.html#adapting-to-changes-in-the-copy-keyword\n",
      "  prediction = np.array(predictions)\n"
     ]
    },
    {
     "name": "stdout",
     "output_type": "stream",
     "text": [
      "\t> Saved: 6_autoEncoderMutation_bupa\n"
     ]
    },
    {
     "name": "stderr",
     "output_type": "stream",
     "text": [
      "C:\\Users\\RjKim\\AppData\\Local\\Temp\\ipykernel_33324\\975327388.py:417: DeprecationWarning: __array__ implementation doesn't accept a copy keyword, so passing copy=False failed. __array__ must implement 'dtype' and 'copy' keyword arguments. To learn more, see the migration guide https://numpy.org/devdocs/numpy_2_0_migration_guide.html#adapting-to-changes-in-the-copy-keyword\n",
      "  prediction = np.array(predictions)\n"
     ]
    },
    {
     "name": "stdout",
     "output_type": "stream",
     "text": [
      "\t> Saved: 7_autoEncoderMutation_bupa\n"
     ]
    },
    {
     "name": "stderr",
     "output_type": "stream",
     "text": [
      "C:\\Users\\RjKim\\AppData\\Local\\Temp\\ipykernel_33324\\975327388.py:417: DeprecationWarning: __array__ implementation doesn't accept a copy keyword, so passing copy=False failed. __array__ must implement 'dtype' and 'copy' keyword arguments. To learn more, see the migration guide https://numpy.org/devdocs/numpy_2_0_migration_guide.html#adapting-to-changes-in-the-copy-keyword\n",
      "  prediction = np.array(predictions)\n"
     ]
    },
    {
     "name": "stdout",
     "output_type": "stream",
     "text": [
      "\t> Saved: 8_autoEncoderMutation_bupa\n"
     ]
    },
    {
     "name": "stderr",
     "output_type": "stream",
     "text": [
      "C:\\Users\\RjKim\\AppData\\Local\\Temp\\ipykernel_33324\\975327388.py:417: DeprecationWarning: __array__ implementation doesn't accept a copy keyword, so passing copy=False failed. __array__ must implement 'dtype' and 'copy' keyword arguments. To learn more, see the migration guide https://numpy.org/devdocs/numpy_2_0_migration_guide.html#adapting-to-changes-in-the-copy-keyword\n",
      "  prediction = np.array(predictions)\n"
     ]
    },
    {
     "name": "stdout",
     "output_type": "stream",
     "text": [
      "\t> Saved: 9_autoEncoderMutation_bupa\n"
     ]
    },
    {
     "name": "stderr",
     "output_type": "stream",
     "text": [
      "C:\\Users\\RjKim\\AppData\\Local\\Temp\\ipykernel_33324\\975327388.py:417: DeprecationWarning: __array__ implementation doesn't accept a copy keyword, so passing copy=False failed. __array__ must implement 'dtype' and 'copy' keyword arguments. To learn more, see the migration guide https://numpy.org/devdocs/numpy_2_0_migration_guide.html#adapting-to-changes-in-the-copy-keyword\n",
      "  prediction = np.array(predictions)\n"
     ]
    },
    {
     "name": "stdout",
     "output_type": "stream",
     "text": [
      "\t> Saved: 10_autoEncoderMutation_bupa\n"
     ]
    },
    {
     "name": "stderr",
     "output_type": "stream",
     "text": [
      "C:\\Users\\RjKim\\AppData\\Local\\Temp\\ipykernel_33324\\975327388.py:417: DeprecationWarning: __array__ implementation doesn't accept a copy keyword, so passing copy=False failed. __array__ must implement 'dtype' and 'copy' keyword arguments. To learn more, see the migration guide https://numpy.org/devdocs/numpy_2_0_migration_guide.html#adapting-to-changes-in-the-copy-keyword\n",
      "  prediction = np.array(predictions)\n"
     ]
    },
    {
     "name": "stdout",
     "output_type": "stream",
     "text": [
      "\t> Saved: 11_autoEncoderMutation_bupa\n"
     ]
    },
    {
     "name": "stderr",
     "output_type": "stream",
     "text": [
      "C:\\Users\\RjKim\\AppData\\Local\\Temp\\ipykernel_33324\\975327388.py:417: DeprecationWarning: __array__ implementation doesn't accept a copy keyword, so passing copy=False failed. __array__ must implement 'dtype' and 'copy' keyword arguments. To learn more, see the migration guide https://numpy.org/devdocs/numpy_2_0_migration_guide.html#adapting-to-changes-in-the-copy-keyword\n",
      "  prediction = np.array(predictions)\n"
     ]
    },
    {
     "name": "stdout",
     "output_type": "stream",
     "text": [
      "\t> Saved: 12_autoEncoderMutation_bupa\n"
     ]
    },
    {
     "name": "stderr",
     "output_type": "stream",
     "text": [
      "C:\\Users\\RjKim\\AppData\\Local\\Temp\\ipykernel_33324\\975327388.py:417: DeprecationWarning: __array__ implementation doesn't accept a copy keyword, so passing copy=False failed. __array__ must implement 'dtype' and 'copy' keyword arguments. To learn more, see the migration guide https://numpy.org/devdocs/numpy_2_0_migration_guide.html#adapting-to-changes-in-the-copy-keyword\n",
      "  prediction = np.array(predictions)\n"
     ]
    },
    {
     "name": "stdout",
     "output_type": "stream",
     "text": [
      "\t> Saved: 13_autoEncoderMutation_bupa\n"
     ]
    },
    {
     "name": "stderr",
     "output_type": "stream",
     "text": [
      "C:\\Users\\RjKim\\AppData\\Local\\Temp\\ipykernel_33324\\975327388.py:417: DeprecationWarning: __array__ implementation doesn't accept a copy keyword, so passing copy=False failed. __array__ must implement 'dtype' and 'copy' keyword arguments. To learn more, see the migration guide https://numpy.org/devdocs/numpy_2_0_migration_guide.html#adapting-to-changes-in-the-copy-keyword\n",
      "  prediction = np.array(predictions)\n"
     ]
    },
    {
     "name": "stdout",
     "output_type": "stream",
     "text": [
      "\t> Saved: 14_autoEncoderMutation_bupa\n"
     ]
    },
    {
     "name": "stderr",
     "output_type": "stream",
     "text": [
      "C:\\Users\\RjKim\\AppData\\Local\\Temp\\ipykernel_33324\\975327388.py:417: DeprecationWarning: __array__ implementation doesn't accept a copy keyword, so passing copy=False failed. __array__ must implement 'dtype' and 'copy' keyword arguments. To learn more, see the migration guide https://numpy.org/devdocs/numpy_2_0_migration_guide.html#adapting-to-changes-in-the-copy-keyword\n",
      "  prediction = np.array(predictions)\n"
     ]
    },
    {
     "name": "stdout",
     "output_type": "stream",
     "text": [
      "\t> Saved: 15_autoEncoderMutation_bupa\n"
     ]
    },
    {
     "name": "stderr",
     "output_type": "stream",
     "text": [
      "C:\\Users\\RjKim\\AppData\\Local\\Temp\\ipykernel_33324\\975327388.py:417: DeprecationWarning: __array__ implementation doesn't accept a copy keyword, so passing copy=False failed. __array__ must implement 'dtype' and 'copy' keyword arguments. To learn more, see the migration guide https://numpy.org/devdocs/numpy_2_0_migration_guide.html#adapting-to-changes-in-the-copy-keyword\n",
      "  prediction = np.array(predictions)\n"
     ]
    },
    {
     "name": "stdout",
     "output_type": "stream",
     "text": [
      "\t> Saved: 16_autoEncoderMutation_bupa\n"
     ]
    },
    {
     "name": "stderr",
     "output_type": "stream",
     "text": [
      "C:\\Users\\RjKim\\AppData\\Local\\Temp\\ipykernel_33324\\975327388.py:417: DeprecationWarning: __array__ implementation doesn't accept a copy keyword, so passing copy=False failed. __array__ must implement 'dtype' and 'copy' keyword arguments. To learn more, see the migration guide https://numpy.org/devdocs/numpy_2_0_migration_guide.html#adapting-to-changes-in-the-copy-keyword\n",
      "  prediction = np.array(predictions)\n"
     ]
    },
    {
     "name": "stdout",
     "output_type": "stream",
     "text": [
      "\t> Saved: 17_autoEncoderMutation_bupa\n"
     ]
    },
    {
     "name": "stderr",
     "output_type": "stream",
     "text": [
      "C:\\Users\\RjKim\\AppData\\Local\\Temp\\ipykernel_33324\\975327388.py:417: DeprecationWarning: __array__ implementation doesn't accept a copy keyword, so passing copy=False failed. __array__ must implement 'dtype' and 'copy' keyword arguments. To learn more, see the migration guide https://numpy.org/devdocs/numpy_2_0_migration_guide.html#adapting-to-changes-in-the-copy-keyword\n",
      "  prediction = np.array(predictions)\n"
     ]
    },
    {
     "name": "stdout",
     "output_type": "stream",
     "text": [
      "\t> Saved: 18_autoEncoderMutation_bupa\n"
     ]
    },
    {
     "name": "stderr",
     "output_type": "stream",
     "text": [
      "C:\\Users\\RjKim\\AppData\\Local\\Temp\\ipykernel_33324\\975327388.py:417: DeprecationWarning: __array__ implementation doesn't accept a copy keyword, so passing copy=False failed. __array__ must implement 'dtype' and 'copy' keyword arguments. To learn more, see the migration guide https://numpy.org/devdocs/numpy_2_0_migration_guide.html#adapting-to-changes-in-the-copy-keyword\n",
      "  prediction = np.array(predictions)\n"
     ]
    },
    {
     "name": "stdout",
     "output_type": "stream",
     "text": [
      "\t> Saved: 19_autoEncoderMutation_bupa\n"
     ]
    },
    {
     "name": "stderr",
     "output_type": "stream",
     "text": [
      "C:\\Users\\RjKim\\AppData\\Local\\Temp\\ipykernel_33324\\975327388.py:417: DeprecationWarning: __array__ implementation doesn't accept a copy keyword, so passing copy=False failed. __array__ must implement 'dtype' and 'copy' keyword arguments. To learn more, see the migration guide https://numpy.org/devdocs/numpy_2_0_migration_guide.html#adapting-to-changes-in-the-copy-keyword\n",
      "  prediction = np.array(predictions)\n"
     ]
    },
    {
     "name": "stdout",
     "output_type": "stream",
     "text": [
      "\t> Saved: 20_autoEncoderMutation_bupa\n"
     ]
    },
    {
     "name": "stderr",
     "output_type": "stream",
     "text": [
      "C:\\Users\\RjKim\\AppData\\Local\\Temp\\ipykernel_33324\\975327388.py:417: DeprecationWarning: __array__ implementation doesn't accept a copy keyword, so passing copy=False failed. __array__ must implement 'dtype' and 'copy' keyword arguments. To learn more, see the migration guide https://numpy.org/devdocs/numpy_2_0_migration_guide.html#adapting-to-changes-in-the-copy-keyword\n",
      "  prediction = np.array(predictions)\n"
     ]
    },
    {
     "name": "stdout",
     "output_type": "stream",
     "text": [
      "\t> Saved: 21_autoEncoderMutation_bupa\n"
     ]
    },
    {
     "name": "stderr",
     "output_type": "stream",
     "text": [
      "C:\\Users\\RjKim\\AppData\\Local\\Temp\\ipykernel_33324\\975327388.py:417: DeprecationWarning: __array__ implementation doesn't accept a copy keyword, so passing copy=False failed. __array__ must implement 'dtype' and 'copy' keyword arguments. To learn more, see the migration guide https://numpy.org/devdocs/numpy_2_0_migration_guide.html#adapting-to-changes-in-the-copy-keyword\n",
      "  prediction = np.array(predictions)\n"
     ]
    },
    {
     "name": "stdout",
     "output_type": "stream",
     "text": [
      "\t> Saved: 22_autoEncoderMutation_bupa\n"
     ]
    },
    {
     "name": "stderr",
     "output_type": "stream",
     "text": [
      "C:\\Users\\RjKim\\AppData\\Local\\Temp\\ipykernel_33324\\975327388.py:417: DeprecationWarning: __array__ implementation doesn't accept a copy keyword, so passing copy=False failed. __array__ must implement 'dtype' and 'copy' keyword arguments. To learn more, see the migration guide https://numpy.org/devdocs/numpy_2_0_migration_guide.html#adapting-to-changes-in-the-copy-keyword\n",
      "  prediction = np.array(predictions)\n"
     ]
    },
    {
     "name": "stdout",
     "output_type": "stream",
     "text": [
      "\t> Saved: 23_autoEncoderMutation_bupa\n"
     ]
    },
    {
     "name": "stderr",
     "output_type": "stream",
     "text": [
      "C:\\Users\\RjKim\\AppData\\Local\\Temp\\ipykernel_33324\\975327388.py:417: DeprecationWarning: __array__ implementation doesn't accept a copy keyword, so passing copy=False failed. __array__ must implement 'dtype' and 'copy' keyword arguments. To learn more, see the migration guide https://numpy.org/devdocs/numpy_2_0_migration_guide.html#adapting-to-changes-in-the-copy-keyword\n",
      "  prediction = np.array(predictions)\n"
     ]
    },
    {
     "name": "stdout",
     "output_type": "stream",
     "text": [
      "\t> Saved: 24_autoEncoderMutation_bupa\n"
     ]
    },
    {
     "name": "stderr",
     "output_type": "stream",
     "text": [
      "C:\\Users\\RjKim\\AppData\\Local\\Temp\\ipykernel_33324\\975327388.py:417: DeprecationWarning: __array__ implementation doesn't accept a copy keyword, so passing copy=False failed. __array__ must implement 'dtype' and 'copy' keyword arguments. To learn more, see the migration guide https://numpy.org/devdocs/numpy_2_0_migration_guide.html#adapting-to-changes-in-the-copy-keyword\n",
      "  prediction = np.array(predictions)\n"
     ]
    },
    {
     "name": "stdout",
     "output_type": "stream",
     "text": [
      "\t> Saved: 25_autoEncoderMutation_bupa\n"
     ]
    },
    {
     "name": "stderr",
     "output_type": "stream",
     "text": [
      "C:\\Users\\RjKim\\AppData\\Local\\Temp\\ipykernel_33324\\975327388.py:417: DeprecationWarning: __array__ implementation doesn't accept a copy keyword, so passing copy=False failed. __array__ must implement 'dtype' and 'copy' keyword arguments. To learn more, see the migration guide https://numpy.org/devdocs/numpy_2_0_migration_guide.html#adapting-to-changes-in-the-copy-keyword\n",
      "  prediction = np.array(predictions)\n"
     ]
    },
    {
     "name": "stdout",
     "output_type": "stream",
     "text": [
      "\t> Saved: 26_autoEncoderMutation_bupa\n"
     ]
    },
    {
     "name": "stderr",
     "output_type": "stream",
     "text": [
      "C:\\Users\\RjKim\\AppData\\Local\\Temp\\ipykernel_33324\\975327388.py:417: DeprecationWarning: __array__ implementation doesn't accept a copy keyword, so passing copy=False failed. __array__ must implement 'dtype' and 'copy' keyword arguments. To learn more, see the migration guide https://numpy.org/devdocs/numpy_2_0_migration_guide.html#adapting-to-changes-in-the-copy-keyword\n",
      "  prediction = np.array(predictions)\n"
     ]
    },
    {
     "name": "stdout",
     "output_type": "stream",
     "text": [
      "\t> Saved: 27_autoEncoderMutation_bupa\n"
     ]
    },
    {
     "name": "stderr",
     "output_type": "stream",
     "text": [
      "C:\\Users\\RjKim\\AppData\\Local\\Temp\\ipykernel_33324\\975327388.py:417: DeprecationWarning: __array__ implementation doesn't accept a copy keyword, so passing copy=False failed. __array__ must implement 'dtype' and 'copy' keyword arguments. To learn more, see the migration guide https://numpy.org/devdocs/numpy_2_0_migration_guide.html#adapting-to-changes-in-the-copy-keyword\n",
      "  prediction = np.array(predictions)\n"
     ]
    },
    {
     "name": "stdout",
     "output_type": "stream",
     "text": [
      "\t> Saved: 28_autoEncoderMutation_bupa\n"
     ]
    },
    {
     "name": "stderr",
     "output_type": "stream",
     "text": [
      "C:\\Users\\RjKim\\AppData\\Local\\Temp\\ipykernel_33324\\975327388.py:417: DeprecationWarning: __array__ implementation doesn't accept a copy keyword, so passing copy=False failed. __array__ must implement 'dtype' and 'copy' keyword arguments. To learn more, see the migration guide https://numpy.org/devdocs/numpy_2_0_migration_guide.html#adapting-to-changes-in-the-copy-keyword\n",
      "  prediction = np.array(predictions)\n"
     ]
    },
    {
     "name": "stdout",
     "output_type": "stream",
     "text": [
      "\t> Saved: 29_autoEncoderMutation_bupa\n"
     ]
    },
    {
     "name": "stderr",
     "output_type": "stream",
     "text": [
      "C:\\Users\\RjKim\\AppData\\Local\\Temp\\ipykernel_33324\\975327388.py:417: DeprecationWarning: __array__ implementation doesn't accept a copy keyword, so passing copy=False failed. __array__ must implement 'dtype' and 'copy' keyword arguments. To learn more, see the migration guide https://numpy.org/devdocs/numpy_2_0_migration_guide.html#adapting-to-changes-in-the-copy-keyword\n",
      "  prediction = np.array(predictions)\n"
     ]
    },
    {
     "name": "stdout",
     "output_type": "stream",
     "text": [
      "\t> Saved: 30_autoEncoderMutation_bupa\n"
     ]
    },
    {
     "name": "stderr",
     "output_type": "stream",
     "text": [
      "C:\\Users\\RjKim\\AppData\\Local\\Temp\\ipykernel_33324\\975327388.py:417: DeprecationWarning: __array__ implementation doesn't accept a copy keyword, so passing copy=False failed. __array__ must implement 'dtype' and 'copy' keyword arguments. To learn more, see the migration guide https://numpy.org/devdocs/numpy_2_0_migration_guide.html#adapting-to-changes-in-the-copy-keyword\n",
      "  prediction = np.array(predictions)\n"
     ]
    },
    {
     "name": "stdout",
     "output_type": "stream",
     "text": [
      "\t> Saved: 0_autoEncoderMutation_glass1\n"
     ]
    },
    {
     "name": "stderr",
     "output_type": "stream",
     "text": [
      "C:\\Users\\RjKim\\AppData\\Local\\Temp\\ipykernel_33324\\975327388.py:417: DeprecationWarning: __array__ implementation doesn't accept a copy keyword, so passing copy=False failed. __array__ must implement 'dtype' and 'copy' keyword arguments. To learn more, see the migration guide https://numpy.org/devdocs/numpy_2_0_migration_guide.html#adapting-to-changes-in-the-copy-keyword\n",
      "  prediction = np.array(predictions)\n"
     ]
    },
    {
     "name": "stdout",
     "output_type": "stream",
     "text": [
      "\t> Saved: 1_autoEncoderMutation_glass1\n"
     ]
    },
    {
     "name": "stderr",
     "output_type": "stream",
     "text": [
      "C:\\Users\\RjKim\\AppData\\Local\\Temp\\ipykernel_33324\\975327388.py:417: DeprecationWarning: __array__ implementation doesn't accept a copy keyword, so passing copy=False failed. __array__ must implement 'dtype' and 'copy' keyword arguments. To learn more, see the migration guide https://numpy.org/devdocs/numpy_2_0_migration_guide.html#adapting-to-changes-in-the-copy-keyword\n",
      "  prediction = np.array(predictions)\n"
     ]
    },
    {
     "name": "stdout",
     "output_type": "stream",
     "text": [
      "\t> Saved: 2_autoEncoderMutation_glass1\n"
     ]
    },
    {
     "name": "stderr",
     "output_type": "stream",
     "text": [
      "C:\\Users\\RjKim\\AppData\\Local\\Temp\\ipykernel_33324\\975327388.py:417: DeprecationWarning: __array__ implementation doesn't accept a copy keyword, so passing copy=False failed. __array__ must implement 'dtype' and 'copy' keyword arguments. To learn more, see the migration guide https://numpy.org/devdocs/numpy_2_0_migration_guide.html#adapting-to-changes-in-the-copy-keyword\n",
      "  prediction = np.array(predictions)\n"
     ]
    },
    {
     "name": "stdout",
     "output_type": "stream",
     "text": [
      "\t> Saved: 3_autoEncoderMutation_glass1\n"
     ]
    },
    {
     "name": "stderr",
     "output_type": "stream",
     "text": [
      "C:\\Users\\RjKim\\AppData\\Local\\Temp\\ipykernel_33324\\975327388.py:417: DeprecationWarning: __array__ implementation doesn't accept a copy keyword, so passing copy=False failed. __array__ must implement 'dtype' and 'copy' keyword arguments. To learn more, see the migration guide https://numpy.org/devdocs/numpy_2_0_migration_guide.html#adapting-to-changes-in-the-copy-keyword\n",
      "  prediction = np.array(predictions)\n"
     ]
    },
    {
     "name": "stdout",
     "output_type": "stream",
     "text": [
      "\t> Saved: 4_autoEncoderMutation_glass1\n"
     ]
    },
    {
     "name": "stderr",
     "output_type": "stream",
     "text": [
      "C:\\Users\\RjKim\\AppData\\Local\\Temp\\ipykernel_33324\\975327388.py:417: DeprecationWarning: __array__ implementation doesn't accept a copy keyword, so passing copy=False failed. __array__ must implement 'dtype' and 'copy' keyword arguments. To learn more, see the migration guide https://numpy.org/devdocs/numpy_2_0_migration_guide.html#adapting-to-changes-in-the-copy-keyword\n",
      "  prediction = np.array(predictions)\n"
     ]
    },
    {
     "name": "stdout",
     "output_type": "stream",
     "text": [
      "\t> Saved: 5_autoEncoderMutation_glass1\n"
     ]
    },
    {
     "name": "stderr",
     "output_type": "stream",
     "text": [
      "C:\\Users\\RjKim\\AppData\\Local\\Temp\\ipykernel_33324\\975327388.py:417: DeprecationWarning: __array__ implementation doesn't accept a copy keyword, so passing copy=False failed. __array__ must implement 'dtype' and 'copy' keyword arguments. To learn more, see the migration guide https://numpy.org/devdocs/numpy_2_0_migration_guide.html#adapting-to-changes-in-the-copy-keyword\n",
      "  prediction = np.array(predictions)\n"
     ]
    },
    {
     "name": "stdout",
     "output_type": "stream",
     "text": [
      "\t> Saved: 6_autoEncoderMutation_glass1\n"
     ]
    },
    {
     "name": "stderr",
     "output_type": "stream",
     "text": [
      "C:\\Users\\RjKim\\AppData\\Local\\Temp\\ipykernel_33324\\975327388.py:417: DeprecationWarning: __array__ implementation doesn't accept a copy keyword, so passing copy=False failed. __array__ must implement 'dtype' and 'copy' keyword arguments. To learn more, see the migration guide https://numpy.org/devdocs/numpy_2_0_migration_guide.html#adapting-to-changes-in-the-copy-keyword\n",
      "  prediction = np.array(predictions)\n"
     ]
    },
    {
     "name": "stdout",
     "output_type": "stream",
     "text": [
      "\t> Saved: 7_autoEncoderMutation_glass1\n"
     ]
    },
    {
     "name": "stderr",
     "output_type": "stream",
     "text": [
      "C:\\Users\\RjKim\\AppData\\Local\\Temp\\ipykernel_33324\\975327388.py:417: DeprecationWarning: __array__ implementation doesn't accept a copy keyword, so passing copy=False failed. __array__ must implement 'dtype' and 'copy' keyword arguments. To learn more, see the migration guide https://numpy.org/devdocs/numpy_2_0_migration_guide.html#adapting-to-changes-in-the-copy-keyword\n",
      "  prediction = np.array(predictions)\n"
     ]
    },
    {
     "name": "stdout",
     "output_type": "stream",
     "text": [
      "\t> Saved: 8_autoEncoderMutation_glass1\n"
     ]
    },
    {
     "name": "stderr",
     "output_type": "stream",
     "text": [
      "C:\\Users\\RjKim\\AppData\\Local\\Temp\\ipykernel_33324\\975327388.py:417: DeprecationWarning: __array__ implementation doesn't accept a copy keyword, so passing copy=False failed. __array__ must implement 'dtype' and 'copy' keyword arguments. To learn more, see the migration guide https://numpy.org/devdocs/numpy_2_0_migration_guide.html#adapting-to-changes-in-the-copy-keyword\n",
      "  prediction = np.array(predictions)\n"
     ]
    },
    {
     "name": "stdout",
     "output_type": "stream",
     "text": [
      "\t> Saved: 9_autoEncoderMutation_glass1\n"
     ]
    },
    {
     "name": "stderr",
     "output_type": "stream",
     "text": [
      "C:\\Users\\RjKim\\AppData\\Local\\Temp\\ipykernel_33324\\975327388.py:417: DeprecationWarning: __array__ implementation doesn't accept a copy keyword, so passing copy=False failed. __array__ must implement 'dtype' and 'copy' keyword arguments. To learn more, see the migration guide https://numpy.org/devdocs/numpy_2_0_migration_guide.html#adapting-to-changes-in-the-copy-keyword\n",
      "  prediction = np.array(predictions)\n"
     ]
    },
    {
     "name": "stdout",
     "output_type": "stream",
     "text": [
      "\t> Saved: 10_autoEncoderMutation_glass1\n"
     ]
    },
    {
     "name": "stderr",
     "output_type": "stream",
     "text": [
      "C:\\Users\\RjKim\\AppData\\Local\\Temp\\ipykernel_33324\\975327388.py:417: DeprecationWarning: __array__ implementation doesn't accept a copy keyword, so passing copy=False failed. __array__ must implement 'dtype' and 'copy' keyword arguments. To learn more, see the migration guide https://numpy.org/devdocs/numpy_2_0_migration_guide.html#adapting-to-changes-in-the-copy-keyword\n",
      "  prediction = np.array(predictions)\n"
     ]
    },
    {
     "name": "stdout",
     "output_type": "stream",
     "text": [
      "\t> Saved: 11_autoEncoderMutation_glass1\n"
     ]
    },
    {
     "name": "stderr",
     "output_type": "stream",
     "text": [
      "C:\\Users\\RjKim\\AppData\\Local\\Temp\\ipykernel_33324\\975327388.py:417: DeprecationWarning: __array__ implementation doesn't accept a copy keyword, so passing copy=False failed. __array__ must implement 'dtype' and 'copy' keyword arguments. To learn more, see the migration guide https://numpy.org/devdocs/numpy_2_0_migration_guide.html#adapting-to-changes-in-the-copy-keyword\n",
      "  prediction = np.array(predictions)\n"
     ]
    },
    {
     "name": "stdout",
     "output_type": "stream",
     "text": [
      "\t> Saved: 12_autoEncoderMutation_glass1\n"
     ]
    },
    {
     "name": "stderr",
     "output_type": "stream",
     "text": [
      "C:\\Users\\RjKim\\AppData\\Local\\Temp\\ipykernel_33324\\975327388.py:417: DeprecationWarning: __array__ implementation doesn't accept a copy keyword, so passing copy=False failed. __array__ must implement 'dtype' and 'copy' keyword arguments. To learn more, see the migration guide https://numpy.org/devdocs/numpy_2_0_migration_guide.html#adapting-to-changes-in-the-copy-keyword\n",
      "  prediction = np.array(predictions)\n"
     ]
    },
    {
     "name": "stdout",
     "output_type": "stream",
     "text": [
      "\t> Saved: 13_autoEncoderMutation_glass1\n"
     ]
    },
    {
     "name": "stderr",
     "output_type": "stream",
     "text": [
      "C:\\Users\\RjKim\\AppData\\Local\\Temp\\ipykernel_33324\\975327388.py:417: DeprecationWarning: __array__ implementation doesn't accept a copy keyword, so passing copy=False failed. __array__ must implement 'dtype' and 'copy' keyword arguments. To learn more, see the migration guide https://numpy.org/devdocs/numpy_2_0_migration_guide.html#adapting-to-changes-in-the-copy-keyword\n",
      "  prediction = np.array(predictions)\n"
     ]
    },
    {
     "name": "stdout",
     "output_type": "stream",
     "text": [
      "\t> Saved: 14_autoEncoderMutation_glass1\n"
     ]
    },
    {
     "name": "stderr",
     "output_type": "stream",
     "text": [
      "C:\\Users\\RjKim\\AppData\\Local\\Temp\\ipykernel_33324\\975327388.py:417: DeprecationWarning: __array__ implementation doesn't accept a copy keyword, so passing copy=False failed. __array__ must implement 'dtype' and 'copy' keyword arguments. To learn more, see the migration guide https://numpy.org/devdocs/numpy_2_0_migration_guide.html#adapting-to-changes-in-the-copy-keyword\n",
      "  prediction = np.array(predictions)\n"
     ]
    },
    {
     "name": "stdout",
     "output_type": "stream",
     "text": [
      "\t> Saved: 15_autoEncoderMutation_glass1\n"
     ]
    },
    {
     "name": "stderr",
     "output_type": "stream",
     "text": [
      "C:\\Users\\RjKim\\AppData\\Local\\Temp\\ipykernel_33324\\975327388.py:417: DeprecationWarning: __array__ implementation doesn't accept a copy keyword, so passing copy=False failed. __array__ must implement 'dtype' and 'copy' keyword arguments. To learn more, see the migration guide https://numpy.org/devdocs/numpy_2_0_migration_guide.html#adapting-to-changes-in-the-copy-keyword\n",
      "  prediction = np.array(predictions)\n"
     ]
    },
    {
     "name": "stdout",
     "output_type": "stream",
     "text": [
      "\t> Saved: 16_autoEncoderMutation_glass1\n"
     ]
    },
    {
     "name": "stderr",
     "output_type": "stream",
     "text": [
      "C:\\Users\\RjKim\\AppData\\Local\\Temp\\ipykernel_33324\\975327388.py:417: DeprecationWarning: __array__ implementation doesn't accept a copy keyword, so passing copy=False failed. __array__ must implement 'dtype' and 'copy' keyword arguments. To learn more, see the migration guide https://numpy.org/devdocs/numpy_2_0_migration_guide.html#adapting-to-changes-in-the-copy-keyword\n",
      "  prediction = np.array(predictions)\n"
     ]
    },
    {
     "name": "stdout",
     "output_type": "stream",
     "text": [
      "\t> Saved: 17_autoEncoderMutation_glass1\n"
     ]
    },
    {
     "name": "stderr",
     "output_type": "stream",
     "text": [
      "C:\\Users\\RjKim\\AppData\\Local\\Temp\\ipykernel_33324\\975327388.py:417: DeprecationWarning: __array__ implementation doesn't accept a copy keyword, so passing copy=False failed. __array__ must implement 'dtype' and 'copy' keyword arguments. To learn more, see the migration guide https://numpy.org/devdocs/numpy_2_0_migration_guide.html#adapting-to-changes-in-the-copy-keyword\n",
      "  prediction = np.array(predictions)\n"
     ]
    },
    {
     "name": "stdout",
     "output_type": "stream",
     "text": [
      "\t> Saved: 18_autoEncoderMutation_glass1\n"
     ]
    },
    {
     "name": "stderr",
     "output_type": "stream",
     "text": [
      "C:\\Users\\RjKim\\AppData\\Local\\Temp\\ipykernel_33324\\975327388.py:417: DeprecationWarning: __array__ implementation doesn't accept a copy keyword, so passing copy=False failed. __array__ must implement 'dtype' and 'copy' keyword arguments. To learn more, see the migration guide https://numpy.org/devdocs/numpy_2_0_migration_guide.html#adapting-to-changes-in-the-copy-keyword\n",
      "  prediction = np.array(predictions)\n"
     ]
    },
    {
     "name": "stdout",
     "output_type": "stream",
     "text": [
      "\t> Saved: 19_autoEncoderMutation_glass1\n"
     ]
    },
    {
     "name": "stderr",
     "output_type": "stream",
     "text": [
      "C:\\Users\\RjKim\\AppData\\Local\\Temp\\ipykernel_33324\\975327388.py:417: DeprecationWarning: __array__ implementation doesn't accept a copy keyword, so passing copy=False failed. __array__ must implement 'dtype' and 'copy' keyword arguments. To learn more, see the migration guide https://numpy.org/devdocs/numpy_2_0_migration_guide.html#adapting-to-changes-in-the-copy-keyword\n",
      "  prediction = np.array(predictions)\n"
     ]
    },
    {
     "name": "stdout",
     "output_type": "stream",
     "text": [
      "\t> Saved: 20_autoEncoderMutation_glass1\n"
     ]
    },
    {
     "name": "stderr",
     "output_type": "stream",
     "text": [
      "C:\\Users\\RjKim\\AppData\\Local\\Temp\\ipykernel_33324\\975327388.py:417: DeprecationWarning: __array__ implementation doesn't accept a copy keyword, so passing copy=False failed. __array__ must implement 'dtype' and 'copy' keyword arguments. To learn more, see the migration guide https://numpy.org/devdocs/numpy_2_0_migration_guide.html#adapting-to-changes-in-the-copy-keyword\n",
      "  prediction = np.array(predictions)\n"
     ]
    },
    {
     "name": "stdout",
     "output_type": "stream",
     "text": [
      "\t> Saved: 21_autoEncoderMutation_glass1\n"
     ]
    },
    {
     "name": "stderr",
     "output_type": "stream",
     "text": [
      "C:\\Users\\RjKim\\AppData\\Local\\Temp\\ipykernel_33324\\975327388.py:417: DeprecationWarning: __array__ implementation doesn't accept a copy keyword, so passing copy=False failed. __array__ must implement 'dtype' and 'copy' keyword arguments. To learn more, see the migration guide https://numpy.org/devdocs/numpy_2_0_migration_guide.html#adapting-to-changes-in-the-copy-keyword\n",
      "  prediction = np.array(predictions)\n"
     ]
    },
    {
     "name": "stdout",
     "output_type": "stream",
     "text": [
      "\t> Saved: 22_autoEncoderMutation_glass1\n"
     ]
    },
    {
     "name": "stderr",
     "output_type": "stream",
     "text": [
      "C:\\Users\\RjKim\\AppData\\Local\\Temp\\ipykernel_33324\\975327388.py:417: DeprecationWarning: __array__ implementation doesn't accept a copy keyword, so passing copy=False failed. __array__ must implement 'dtype' and 'copy' keyword arguments. To learn more, see the migration guide https://numpy.org/devdocs/numpy_2_0_migration_guide.html#adapting-to-changes-in-the-copy-keyword\n",
      "  prediction = np.array(predictions)\n"
     ]
    },
    {
     "name": "stdout",
     "output_type": "stream",
     "text": [
      "\t> Saved: 23_autoEncoderMutation_glass1\n"
     ]
    },
    {
     "name": "stderr",
     "output_type": "stream",
     "text": [
      "C:\\Users\\RjKim\\AppData\\Local\\Temp\\ipykernel_33324\\975327388.py:417: DeprecationWarning: __array__ implementation doesn't accept a copy keyword, so passing copy=False failed. __array__ must implement 'dtype' and 'copy' keyword arguments. To learn more, see the migration guide https://numpy.org/devdocs/numpy_2_0_migration_guide.html#adapting-to-changes-in-the-copy-keyword\n",
      "  prediction = np.array(predictions)\n"
     ]
    },
    {
     "name": "stdout",
     "output_type": "stream",
     "text": [
      "\t> Saved: 24_autoEncoderMutation_glass1\n"
     ]
    },
    {
     "name": "stderr",
     "output_type": "stream",
     "text": [
      "C:\\Users\\RjKim\\AppData\\Local\\Temp\\ipykernel_33324\\975327388.py:417: DeprecationWarning: __array__ implementation doesn't accept a copy keyword, so passing copy=False failed. __array__ must implement 'dtype' and 'copy' keyword arguments. To learn more, see the migration guide https://numpy.org/devdocs/numpy_2_0_migration_guide.html#adapting-to-changes-in-the-copy-keyword\n",
      "  prediction = np.array(predictions)\n"
     ]
    },
    {
     "name": "stdout",
     "output_type": "stream",
     "text": [
      "\t> Saved: 25_autoEncoderMutation_glass1\n"
     ]
    },
    {
     "name": "stderr",
     "output_type": "stream",
     "text": [
      "C:\\Users\\RjKim\\AppData\\Local\\Temp\\ipykernel_33324\\975327388.py:417: DeprecationWarning: __array__ implementation doesn't accept a copy keyword, so passing copy=False failed. __array__ must implement 'dtype' and 'copy' keyword arguments. To learn more, see the migration guide https://numpy.org/devdocs/numpy_2_0_migration_guide.html#adapting-to-changes-in-the-copy-keyword\n",
      "  prediction = np.array(predictions)\n"
     ]
    },
    {
     "name": "stdout",
     "output_type": "stream",
     "text": [
      "\t> Saved: 26_autoEncoderMutation_glass1\n"
     ]
    },
    {
     "name": "stderr",
     "output_type": "stream",
     "text": [
      "C:\\Users\\RjKim\\AppData\\Local\\Temp\\ipykernel_33324\\975327388.py:417: DeprecationWarning: __array__ implementation doesn't accept a copy keyword, so passing copy=False failed. __array__ must implement 'dtype' and 'copy' keyword arguments. To learn more, see the migration guide https://numpy.org/devdocs/numpy_2_0_migration_guide.html#adapting-to-changes-in-the-copy-keyword\n",
      "  prediction = np.array(predictions)\n"
     ]
    },
    {
     "name": "stdout",
     "output_type": "stream",
     "text": [
      "\t> Saved: 27_autoEncoderMutation_glass1\n"
     ]
    },
    {
     "name": "stderr",
     "output_type": "stream",
     "text": [
      "C:\\Users\\RjKim\\AppData\\Local\\Temp\\ipykernel_33324\\975327388.py:417: DeprecationWarning: __array__ implementation doesn't accept a copy keyword, so passing copy=False failed. __array__ must implement 'dtype' and 'copy' keyword arguments. To learn more, see the migration guide https://numpy.org/devdocs/numpy_2_0_migration_guide.html#adapting-to-changes-in-the-copy-keyword\n",
      "  prediction = np.array(predictions)\n"
     ]
    },
    {
     "name": "stdout",
     "output_type": "stream",
     "text": [
      "\t> Saved: 28_autoEncoderMutation_glass1\n"
     ]
    },
    {
     "name": "stderr",
     "output_type": "stream",
     "text": [
      "C:\\Users\\RjKim\\AppData\\Local\\Temp\\ipykernel_33324\\975327388.py:417: DeprecationWarning: __array__ implementation doesn't accept a copy keyword, so passing copy=False failed. __array__ must implement 'dtype' and 'copy' keyword arguments. To learn more, see the migration guide https://numpy.org/devdocs/numpy_2_0_migration_guide.html#adapting-to-changes-in-the-copy-keyword\n",
      "  prediction = np.array(predictions)\n"
     ]
    },
    {
     "name": "stdout",
     "output_type": "stream",
     "text": [
      "\t> Saved: 29_autoEncoderMutation_glass1\n"
     ]
    },
    {
     "name": "stderr",
     "output_type": "stream",
     "text": [
      "C:\\Users\\RjKim\\AppData\\Local\\Temp\\ipykernel_33324\\975327388.py:417: DeprecationWarning: __array__ implementation doesn't accept a copy keyword, so passing copy=False failed. __array__ must implement 'dtype' and 'copy' keyword arguments. To learn more, see the migration guide https://numpy.org/devdocs/numpy_2_0_migration_guide.html#adapting-to-changes-in-the-copy-keyword\n",
      "  prediction = np.array(predictions)\n"
     ]
    },
    {
     "name": "stdout",
     "output_type": "stream",
     "text": [
      "\t> Saved: 30_autoEncoderMutation_glass1\n"
     ]
    },
    {
     "name": "stderr",
     "output_type": "stream",
     "text": [
      "C:\\Users\\RjKim\\AppData\\Local\\Temp\\ipykernel_33324\\975327388.py:417: DeprecationWarning: __array__ implementation doesn't accept a copy keyword, so passing copy=False failed. __array__ must implement 'dtype' and 'copy' keyword arguments. To learn more, see the migration guide https://numpy.org/devdocs/numpy_2_0_migration_guide.html#adapting-to-changes-in-the-copy-keyword\n",
      "  prediction = np.array(predictions)\n"
     ]
    },
    {
     "name": "stdout",
     "output_type": "stream",
     "text": [
      "\t> Saved: 0_autoEncoderMutation_pima\n"
     ]
    },
    {
     "name": "stderr",
     "output_type": "stream",
     "text": [
      "C:\\Users\\RjKim\\AppData\\Local\\Temp\\ipykernel_33324\\975327388.py:417: DeprecationWarning: __array__ implementation doesn't accept a copy keyword, so passing copy=False failed. __array__ must implement 'dtype' and 'copy' keyword arguments. To learn more, see the migration guide https://numpy.org/devdocs/numpy_2_0_migration_guide.html#adapting-to-changes-in-the-copy-keyword\n",
      "  prediction = np.array(predictions)\n"
     ]
    },
    {
     "name": "stdout",
     "output_type": "stream",
     "text": [
      "\t> Saved: 1_autoEncoderMutation_pima\n"
     ]
    },
    {
     "name": "stderr",
     "output_type": "stream",
     "text": [
      "C:\\Users\\RjKim\\AppData\\Local\\Temp\\ipykernel_33324\\975327388.py:417: DeprecationWarning: __array__ implementation doesn't accept a copy keyword, so passing copy=False failed. __array__ must implement 'dtype' and 'copy' keyword arguments. To learn more, see the migration guide https://numpy.org/devdocs/numpy_2_0_migration_guide.html#adapting-to-changes-in-the-copy-keyword\n",
      "  prediction = np.array(predictions)\n"
     ]
    },
    {
     "name": "stdout",
     "output_type": "stream",
     "text": [
      "\t> Saved: 2_autoEncoderMutation_pima\n"
     ]
    },
    {
     "name": "stderr",
     "output_type": "stream",
     "text": [
      "C:\\Users\\RjKim\\AppData\\Local\\Temp\\ipykernel_33324\\975327388.py:417: DeprecationWarning: __array__ implementation doesn't accept a copy keyword, so passing copy=False failed. __array__ must implement 'dtype' and 'copy' keyword arguments. To learn more, see the migration guide https://numpy.org/devdocs/numpy_2_0_migration_guide.html#adapting-to-changes-in-the-copy-keyword\n",
      "  prediction = np.array(predictions)\n"
     ]
    },
    {
     "name": "stdout",
     "output_type": "stream",
     "text": [
      "\t> Saved: 3_autoEncoderMutation_pima\n"
     ]
    },
    {
     "name": "stderr",
     "output_type": "stream",
     "text": [
      "C:\\Users\\RjKim\\AppData\\Local\\Temp\\ipykernel_33324\\975327388.py:417: DeprecationWarning: __array__ implementation doesn't accept a copy keyword, so passing copy=False failed. __array__ must implement 'dtype' and 'copy' keyword arguments. To learn more, see the migration guide https://numpy.org/devdocs/numpy_2_0_migration_guide.html#adapting-to-changes-in-the-copy-keyword\n",
      "  prediction = np.array(predictions)\n"
     ]
    },
    {
     "name": "stdout",
     "output_type": "stream",
     "text": [
      "\t> Saved: 4_autoEncoderMutation_pima\n"
     ]
    },
    {
     "name": "stderr",
     "output_type": "stream",
     "text": [
      "C:\\Users\\RjKim\\AppData\\Local\\Temp\\ipykernel_33324\\975327388.py:417: DeprecationWarning: __array__ implementation doesn't accept a copy keyword, so passing copy=False failed. __array__ must implement 'dtype' and 'copy' keyword arguments. To learn more, see the migration guide https://numpy.org/devdocs/numpy_2_0_migration_guide.html#adapting-to-changes-in-the-copy-keyword\n",
      "  prediction = np.array(predictions)\n"
     ]
    },
    {
     "name": "stdout",
     "output_type": "stream",
     "text": [
      "\t> Saved: 5_autoEncoderMutation_pima\n"
     ]
    },
    {
     "name": "stderr",
     "output_type": "stream",
     "text": [
      "C:\\Users\\RjKim\\AppData\\Local\\Temp\\ipykernel_33324\\975327388.py:417: DeprecationWarning: __array__ implementation doesn't accept a copy keyword, so passing copy=False failed. __array__ must implement 'dtype' and 'copy' keyword arguments. To learn more, see the migration guide https://numpy.org/devdocs/numpy_2_0_migration_guide.html#adapting-to-changes-in-the-copy-keyword\n",
      "  prediction = np.array(predictions)\n"
     ]
    },
    {
     "name": "stdout",
     "output_type": "stream",
     "text": [
      "\t> Saved: 6_autoEncoderMutation_pima\n"
     ]
    },
    {
     "name": "stderr",
     "output_type": "stream",
     "text": [
      "C:\\Users\\RjKim\\AppData\\Local\\Temp\\ipykernel_33324\\975327388.py:417: DeprecationWarning: __array__ implementation doesn't accept a copy keyword, so passing copy=False failed. __array__ must implement 'dtype' and 'copy' keyword arguments. To learn more, see the migration guide https://numpy.org/devdocs/numpy_2_0_migration_guide.html#adapting-to-changes-in-the-copy-keyword\n",
      "  prediction = np.array(predictions)\n"
     ]
    },
    {
     "name": "stdout",
     "output_type": "stream",
     "text": [
      "\t> Saved: 7_autoEncoderMutation_pima\n"
     ]
    },
    {
     "name": "stderr",
     "output_type": "stream",
     "text": [
      "C:\\Users\\RjKim\\AppData\\Local\\Temp\\ipykernel_33324\\975327388.py:417: DeprecationWarning: __array__ implementation doesn't accept a copy keyword, so passing copy=False failed. __array__ must implement 'dtype' and 'copy' keyword arguments. To learn more, see the migration guide https://numpy.org/devdocs/numpy_2_0_migration_guide.html#adapting-to-changes-in-the-copy-keyword\n",
      "  prediction = np.array(predictions)\n"
     ]
    },
    {
     "name": "stdout",
     "output_type": "stream",
     "text": [
      "\t> Saved: 8_autoEncoderMutation_pima\n"
     ]
    },
    {
     "name": "stderr",
     "output_type": "stream",
     "text": [
      "C:\\Users\\RjKim\\AppData\\Local\\Temp\\ipykernel_33324\\975327388.py:417: DeprecationWarning: __array__ implementation doesn't accept a copy keyword, so passing copy=False failed. __array__ must implement 'dtype' and 'copy' keyword arguments. To learn more, see the migration guide https://numpy.org/devdocs/numpy_2_0_migration_guide.html#adapting-to-changes-in-the-copy-keyword\n",
      "  prediction = np.array(predictions)\n"
     ]
    },
    {
     "name": "stdout",
     "output_type": "stream",
     "text": [
      "\t> Saved: 9_autoEncoderMutation_pima\n"
     ]
    },
    {
     "name": "stderr",
     "output_type": "stream",
     "text": [
      "C:\\Users\\RjKim\\AppData\\Local\\Temp\\ipykernel_33324\\975327388.py:417: DeprecationWarning: __array__ implementation doesn't accept a copy keyword, so passing copy=False failed. __array__ must implement 'dtype' and 'copy' keyword arguments. To learn more, see the migration guide https://numpy.org/devdocs/numpy_2_0_migration_guide.html#adapting-to-changes-in-the-copy-keyword\n",
      "  prediction = np.array(predictions)\n"
     ]
    },
    {
     "name": "stdout",
     "output_type": "stream",
     "text": [
      "\t> Saved: 10_autoEncoderMutation_pima\n"
     ]
    },
    {
     "name": "stderr",
     "output_type": "stream",
     "text": [
      "C:\\Users\\RjKim\\AppData\\Local\\Temp\\ipykernel_33324\\975327388.py:417: DeprecationWarning: __array__ implementation doesn't accept a copy keyword, so passing copy=False failed. __array__ must implement 'dtype' and 'copy' keyword arguments. To learn more, see the migration guide https://numpy.org/devdocs/numpy_2_0_migration_guide.html#adapting-to-changes-in-the-copy-keyword\n",
      "  prediction = np.array(predictions)\n"
     ]
    },
    {
     "name": "stdout",
     "output_type": "stream",
     "text": [
      "\t> Saved: 11_autoEncoderMutation_pima\n"
     ]
    },
    {
     "name": "stderr",
     "output_type": "stream",
     "text": [
      "C:\\Users\\RjKim\\AppData\\Local\\Temp\\ipykernel_33324\\975327388.py:417: DeprecationWarning: __array__ implementation doesn't accept a copy keyword, so passing copy=False failed. __array__ must implement 'dtype' and 'copy' keyword arguments. To learn more, see the migration guide https://numpy.org/devdocs/numpy_2_0_migration_guide.html#adapting-to-changes-in-the-copy-keyword\n",
      "  prediction = np.array(predictions)\n"
     ]
    },
    {
     "name": "stdout",
     "output_type": "stream",
     "text": [
      "\t> Saved: 12_autoEncoderMutation_pima\n"
     ]
    },
    {
     "name": "stderr",
     "output_type": "stream",
     "text": [
      "C:\\Users\\RjKim\\AppData\\Local\\Temp\\ipykernel_33324\\975327388.py:417: DeprecationWarning: __array__ implementation doesn't accept a copy keyword, so passing copy=False failed. __array__ must implement 'dtype' and 'copy' keyword arguments. To learn more, see the migration guide https://numpy.org/devdocs/numpy_2_0_migration_guide.html#adapting-to-changes-in-the-copy-keyword\n",
      "  prediction = np.array(predictions)\n"
     ]
    },
    {
     "name": "stdout",
     "output_type": "stream",
     "text": [
      "\t> Saved: 13_autoEncoderMutation_pima\n"
     ]
    },
    {
     "name": "stderr",
     "output_type": "stream",
     "text": [
      "C:\\Users\\RjKim\\AppData\\Local\\Temp\\ipykernel_33324\\975327388.py:417: DeprecationWarning: __array__ implementation doesn't accept a copy keyword, so passing copy=False failed. __array__ must implement 'dtype' and 'copy' keyword arguments. To learn more, see the migration guide https://numpy.org/devdocs/numpy_2_0_migration_guide.html#adapting-to-changes-in-the-copy-keyword\n",
      "  prediction = np.array(predictions)\n"
     ]
    },
    {
     "name": "stdout",
     "output_type": "stream",
     "text": [
      "\t> Saved: 14_autoEncoderMutation_pima\n"
     ]
    },
    {
     "name": "stderr",
     "output_type": "stream",
     "text": [
      "C:\\Users\\RjKim\\AppData\\Local\\Temp\\ipykernel_33324\\975327388.py:417: DeprecationWarning: __array__ implementation doesn't accept a copy keyword, so passing copy=False failed. __array__ must implement 'dtype' and 'copy' keyword arguments. To learn more, see the migration guide https://numpy.org/devdocs/numpy_2_0_migration_guide.html#adapting-to-changes-in-the-copy-keyword\n",
      "  prediction = np.array(predictions)\n"
     ]
    },
    {
     "name": "stdout",
     "output_type": "stream",
     "text": [
      "\t> Saved: 15_autoEncoderMutation_pima\n"
     ]
    },
    {
     "name": "stderr",
     "output_type": "stream",
     "text": [
      "C:\\Users\\RjKim\\AppData\\Local\\Temp\\ipykernel_33324\\975327388.py:417: DeprecationWarning: __array__ implementation doesn't accept a copy keyword, so passing copy=False failed. __array__ must implement 'dtype' and 'copy' keyword arguments. To learn more, see the migration guide https://numpy.org/devdocs/numpy_2_0_migration_guide.html#adapting-to-changes-in-the-copy-keyword\n",
      "  prediction = np.array(predictions)\n"
     ]
    },
    {
     "name": "stdout",
     "output_type": "stream",
     "text": [
      "\t> Saved: 16_autoEncoderMutation_pima\n"
     ]
    },
    {
     "name": "stderr",
     "output_type": "stream",
     "text": [
      "C:\\Users\\RjKim\\AppData\\Local\\Temp\\ipykernel_33324\\975327388.py:417: DeprecationWarning: __array__ implementation doesn't accept a copy keyword, so passing copy=False failed. __array__ must implement 'dtype' and 'copy' keyword arguments. To learn more, see the migration guide https://numpy.org/devdocs/numpy_2_0_migration_guide.html#adapting-to-changes-in-the-copy-keyword\n",
      "  prediction = np.array(predictions)\n"
     ]
    },
    {
     "name": "stdout",
     "output_type": "stream",
     "text": [
      "\t> Saved: 17_autoEncoderMutation_pima\n"
     ]
    },
    {
     "name": "stderr",
     "output_type": "stream",
     "text": [
      "C:\\Users\\RjKim\\AppData\\Local\\Temp\\ipykernel_33324\\975327388.py:417: DeprecationWarning: __array__ implementation doesn't accept a copy keyword, so passing copy=False failed. __array__ must implement 'dtype' and 'copy' keyword arguments. To learn more, see the migration guide https://numpy.org/devdocs/numpy_2_0_migration_guide.html#adapting-to-changes-in-the-copy-keyword\n",
      "  prediction = np.array(predictions)\n"
     ]
    },
    {
     "name": "stdout",
     "output_type": "stream",
     "text": [
      "\t> Saved: 18_autoEncoderMutation_pima\n"
     ]
    },
    {
     "name": "stderr",
     "output_type": "stream",
     "text": [
      "C:\\Users\\RjKim\\AppData\\Local\\Temp\\ipykernel_33324\\975327388.py:417: DeprecationWarning: __array__ implementation doesn't accept a copy keyword, so passing copy=False failed. __array__ must implement 'dtype' and 'copy' keyword arguments. To learn more, see the migration guide https://numpy.org/devdocs/numpy_2_0_migration_guide.html#adapting-to-changes-in-the-copy-keyword\n",
      "  prediction = np.array(predictions)\n"
     ]
    },
    {
     "name": "stdout",
     "output_type": "stream",
     "text": [
      "\t> Saved: 19_autoEncoderMutation_pima\n"
     ]
    },
    {
     "name": "stderr",
     "output_type": "stream",
     "text": [
      "C:\\Users\\RjKim\\AppData\\Local\\Temp\\ipykernel_33324\\975327388.py:417: DeprecationWarning: __array__ implementation doesn't accept a copy keyword, so passing copy=False failed. __array__ must implement 'dtype' and 'copy' keyword arguments. To learn more, see the migration guide https://numpy.org/devdocs/numpy_2_0_migration_guide.html#adapting-to-changes-in-the-copy-keyword\n",
      "  prediction = np.array(predictions)\n"
     ]
    },
    {
     "name": "stdout",
     "output_type": "stream",
     "text": [
      "\t> Saved: 20_autoEncoderMutation_pima\n"
     ]
    },
    {
     "name": "stderr",
     "output_type": "stream",
     "text": [
      "C:\\Users\\RjKim\\AppData\\Local\\Temp\\ipykernel_33324\\975327388.py:417: DeprecationWarning: __array__ implementation doesn't accept a copy keyword, so passing copy=False failed. __array__ must implement 'dtype' and 'copy' keyword arguments. To learn more, see the migration guide https://numpy.org/devdocs/numpy_2_0_migration_guide.html#adapting-to-changes-in-the-copy-keyword\n",
      "  prediction = np.array(predictions)\n"
     ]
    },
    {
     "name": "stdout",
     "output_type": "stream",
     "text": [
      "\t> Saved: 21_autoEncoderMutation_pima\n"
     ]
    },
    {
     "name": "stderr",
     "output_type": "stream",
     "text": [
      "C:\\Users\\RjKim\\AppData\\Local\\Temp\\ipykernel_33324\\975327388.py:417: DeprecationWarning: __array__ implementation doesn't accept a copy keyword, so passing copy=False failed. __array__ must implement 'dtype' and 'copy' keyword arguments. To learn more, see the migration guide https://numpy.org/devdocs/numpy_2_0_migration_guide.html#adapting-to-changes-in-the-copy-keyword\n",
      "  prediction = np.array(predictions)\n"
     ]
    },
    {
     "name": "stdout",
     "output_type": "stream",
     "text": [
      "\t> Saved: 22_autoEncoderMutation_pima\n"
     ]
    },
    {
     "name": "stderr",
     "output_type": "stream",
     "text": [
      "C:\\Users\\RjKim\\AppData\\Local\\Temp\\ipykernel_33324\\975327388.py:417: DeprecationWarning: __array__ implementation doesn't accept a copy keyword, so passing copy=False failed. __array__ must implement 'dtype' and 'copy' keyword arguments. To learn more, see the migration guide https://numpy.org/devdocs/numpy_2_0_migration_guide.html#adapting-to-changes-in-the-copy-keyword\n",
      "  prediction = np.array(predictions)\n"
     ]
    },
    {
     "name": "stdout",
     "output_type": "stream",
     "text": [
      "\t> Saved: 23_autoEncoderMutation_pima\n"
     ]
    },
    {
     "name": "stderr",
     "output_type": "stream",
     "text": [
      "C:\\Users\\RjKim\\AppData\\Local\\Temp\\ipykernel_33324\\975327388.py:417: DeprecationWarning: __array__ implementation doesn't accept a copy keyword, so passing copy=False failed. __array__ must implement 'dtype' and 'copy' keyword arguments. To learn more, see the migration guide https://numpy.org/devdocs/numpy_2_0_migration_guide.html#adapting-to-changes-in-the-copy-keyword\n",
      "  prediction = np.array(predictions)\n"
     ]
    },
    {
     "name": "stdout",
     "output_type": "stream",
     "text": [
      "\t> Saved: 24_autoEncoderMutation_pima\n"
     ]
    },
    {
     "name": "stderr",
     "output_type": "stream",
     "text": [
      "C:\\Users\\RjKim\\AppData\\Local\\Temp\\ipykernel_33324\\975327388.py:417: DeprecationWarning: __array__ implementation doesn't accept a copy keyword, so passing copy=False failed. __array__ must implement 'dtype' and 'copy' keyword arguments. To learn more, see the migration guide https://numpy.org/devdocs/numpy_2_0_migration_guide.html#adapting-to-changes-in-the-copy-keyword\n",
      "  prediction = np.array(predictions)\n"
     ]
    },
    {
     "name": "stdout",
     "output_type": "stream",
     "text": [
      "\t> Saved: 25_autoEncoderMutation_pima\n"
     ]
    },
    {
     "name": "stderr",
     "output_type": "stream",
     "text": [
      "C:\\Users\\RjKim\\AppData\\Local\\Temp\\ipykernel_33324\\975327388.py:417: DeprecationWarning: __array__ implementation doesn't accept a copy keyword, so passing copy=False failed. __array__ must implement 'dtype' and 'copy' keyword arguments. To learn more, see the migration guide https://numpy.org/devdocs/numpy_2_0_migration_guide.html#adapting-to-changes-in-the-copy-keyword\n",
      "  prediction = np.array(predictions)\n"
     ]
    },
    {
     "name": "stdout",
     "output_type": "stream",
     "text": [
      "\t> Saved: 26_autoEncoderMutation_pima\n"
     ]
    },
    {
     "name": "stderr",
     "output_type": "stream",
     "text": [
      "C:\\Users\\RjKim\\AppData\\Local\\Temp\\ipykernel_33324\\975327388.py:417: DeprecationWarning: __array__ implementation doesn't accept a copy keyword, so passing copy=False failed. __array__ must implement 'dtype' and 'copy' keyword arguments. To learn more, see the migration guide https://numpy.org/devdocs/numpy_2_0_migration_guide.html#adapting-to-changes-in-the-copy-keyword\n",
      "  prediction = np.array(predictions)\n"
     ]
    },
    {
     "name": "stdout",
     "output_type": "stream",
     "text": [
      "\t> Saved: 27_autoEncoderMutation_pima\n"
     ]
    },
    {
     "name": "stderr",
     "output_type": "stream",
     "text": [
      "C:\\Users\\RjKim\\AppData\\Local\\Temp\\ipykernel_33324\\975327388.py:417: DeprecationWarning: __array__ implementation doesn't accept a copy keyword, so passing copy=False failed. __array__ must implement 'dtype' and 'copy' keyword arguments. To learn more, see the migration guide https://numpy.org/devdocs/numpy_2_0_migration_guide.html#adapting-to-changes-in-the-copy-keyword\n",
      "  prediction = np.array(predictions)\n"
     ]
    },
    {
     "name": "stdout",
     "output_type": "stream",
     "text": [
      "\t> Saved: 28_autoEncoderMutation_pima\n"
     ]
    },
    {
     "name": "stderr",
     "output_type": "stream",
     "text": [
      "C:\\Users\\RjKim\\AppData\\Local\\Temp\\ipykernel_33324\\975327388.py:417: DeprecationWarning: __array__ implementation doesn't accept a copy keyword, so passing copy=False failed. __array__ must implement 'dtype' and 'copy' keyword arguments. To learn more, see the migration guide https://numpy.org/devdocs/numpy_2_0_migration_guide.html#adapting-to-changes-in-the-copy-keyword\n",
      "  prediction = np.array(predictions)\n"
     ]
    },
    {
     "name": "stdout",
     "output_type": "stream",
     "text": [
      "\t> Saved: 29_autoEncoderMutation_pima\n"
     ]
    },
    {
     "name": "stderr",
     "output_type": "stream",
     "text": [
      "C:\\Users\\RjKim\\AppData\\Local\\Temp\\ipykernel_33324\\975327388.py:417: DeprecationWarning: __array__ implementation doesn't accept a copy keyword, so passing copy=False failed. __array__ must implement 'dtype' and 'copy' keyword arguments. To learn more, see the migration guide https://numpy.org/devdocs/numpy_2_0_migration_guide.html#adapting-to-changes-in-the-copy-keyword\n",
      "  prediction = np.array(predictions)\n"
     ]
    },
    {
     "name": "stdout",
     "output_type": "stream",
     "text": [
      "\t> Saved: 30_autoEncoderMutation_pima\n"
     ]
    },
    {
     "name": "stderr",
     "output_type": "stream",
     "text": [
      "C:\\Users\\RjKim\\AppData\\Local\\Temp\\ipykernel_33324\\975327388.py:417: DeprecationWarning: __array__ implementation doesn't accept a copy keyword, so passing copy=False failed. __array__ must implement 'dtype' and 'copy' keyword arguments. To learn more, see the migration guide https://numpy.org/devdocs/numpy_2_0_migration_guide.html#adapting-to-changes-in-the-copy-keyword\n",
      "  prediction = np.array(predictions)\n"
     ]
    },
    {
     "name": "stdout",
     "output_type": "stream",
     "text": [
      "\t> Saved: 0_autoEncoderMutation_segment0\n"
     ]
    },
    {
     "name": "stderr",
     "output_type": "stream",
     "text": [
      "C:\\Users\\RjKim\\AppData\\Local\\Temp\\ipykernel_33324\\975327388.py:417: DeprecationWarning: __array__ implementation doesn't accept a copy keyword, so passing copy=False failed. __array__ must implement 'dtype' and 'copy' keyword arguments. To learn more, see the migration guide https://numpy.org/devdocs/numpy_2_0_migration_guide.html#adapting-to-changes-in-the-copy-keyword\n",
      "  prediction = np.array(predictions)\n"
     ]
    },
    {
     "name": "stdout",
     "output_type": "stream",
     "text": [
      "\t> Saved: 1_autoEncoderMutation_segment0\n"
     ]
    },
    {
     "name": "stderr",
     "output_type": "stream",
     "text": [
      "C:\\Users\\RjKim\\AppData\\Local\\Temp\\ipykernel_33324\\975327388.py:417: DeprecationWarning: __array__ implementation doesn't accept a copy keyword, so passing copy=False failed. __array__ must implement 'dtype' and 'copy' keyword arguments. To learn more, see the migration guide https://numpy.org/devdocs/numpy_2_0_migration_guide.html#adapting-to-changes-in-the-copy-keyword\n",
      "  prediction = np.array(predictions)\n"
     ]
    },
    {
     "name": "stdout",
     "output_type": "stream",
     "text": [
      "\t> Saved: 2_autoEncoderMutation_segment0\n"
     ]
    },
    {
     "name": "stderr",
     "output_type": "stream",
     "text": [
      "C:\\Users\\RjKim\\AppData\\Local\\Temp\\ipykernel_33324\\975327388.py:417: DeprecationWarning: __array__ implementation doesn't accept a copy keyword, so passing copy=False failed. __array__ must implement 'dtype' and 'copy' keyword arguments. To learn more, see the migration guide https://numpy.org/devdocs/numpy_2_0_migration_guide.html#adapting-to-changes-in-the-copy-keyword\n",
      "  prediction = np.array(predictions)\n"
     ]
    },
    {
     "name": "stdout",
     "output_type": "stream",
     "text": [
      "\t> Saved: 3_autoEncoderMutation_segment0\n"
     ]
    },
    {
     "name": "stderr",
     "output_type": "stream",
     "text": [
      "C:\\Users\\RjKim\\AppData\\Local\\Temp\\ipykernel_33324\\975327388.py:417: DeprecationWarning: __array__ implementation doesn't accept a copy keyword, so passing copy=False failed. __array__ must implement 'dtype' and 'copy' keyword arguments. To learn more, see the migration guide https://numpy.org/devdocs/numpy_2_0_migration_guide.html#adapting-to-changes-in-the-copy-keyword\n",
      "  prediction = np.array(predictions)\n"
     ]
    },
    {
     "name": "stdout",
     "output_type": "stream",
     "text": [
      "\t> Saved: 4_autoEncoderMutation_segment0\n"
     ]
    },
    {
     "name": "stderr",
     "output_type": "stream",
     "text": [
      "C:\\Users\\RjKim\\AppData\\Local\\Temp\\ipykernel_33324\\975327388.py:417: DeprecationWarning: __array__ implementation doesn't accept a copy keyword, so passing copy=False failed. __array__ must implement 'dtype' and 'copy' keyword arguments. To learn more, see the migration guide https://numpy.org/devdocs/numpy_2_0_migration_guide.html#adapting-to-changes-in-the-copy-keyword\n",
      "  prediction = np.array(predictions)\n"
     ]
    },
    {
     "name": "stdout",
     "output_type": "stream",
     "text": [
      "\t> Saved: 5_autoEncoderMutation_segment0\n"
     ]
    },
    {
     "name": "stderr",
     "output_type": "stream",
     "text": [
      "C:\\Users\\RjKim\\AppData\\Local\\Temp\\ipykernel_33324\\975327388.py:417: DeprecationWarning: __array__ implementation doesn't accept a copy keyword, so passing copy=False failed. __array__ must implement 'dtype' and 'copy' keyword arguments. To learn more, see the migration guide https://numpy.org/devdocs/numpy_2_0_migration_guide.html#adapting-to-changes-in-the-copy-keyword\n",
      "  prediction = np.array(predictions)\n"
     ]
    },
    {
     "name": "stdout",
     "output_type": "stream",
     "text": [
      "\t> Saved: 6_autoEncoderMutation_segment0\n"
     ]
    },
    {
     "name": "stderr",
     "output_type": "stream",
     "text": [
      "C:\\Users\\RjKim\\AppData\\Local\\Temp\\ipykernel_33324\\975327388.py:417: DeprecationWarning: __array__ implementation doesn't accept a copy keyword, so passing copy=False failed. __array__ must implement 'dtype' and 'copy' keyword arguments. To learn more, see the migration guide https://numpy.org/devdocs/numpy_2_0_migration_guide.html#adapting-to-changes-in-the-copy-keyword\n",
      "  prediction = np.array(predictions)\n"
     ]
    },
    {
     "name": "stdout",
     "output_type": "stream",
     "text": [
      "\t> Saved: 7_autoEncoderMutation_segment0\n"
     ]
    },
    {
     "name": "stderr",
     "output_type": "stream",
     "text": [
      "C:\\Users\\RjKim\\AppData\\Local\\Temp\\ipykernel_33324\\975327388.py:417: DeprecationWarning: __array__ implementation doesn't accept a copy keyword, so passing copy=False failed. __array__ must implement 'dtype' and 'copy' keyword arguments. To learn more, see the migration guide https://numpy.org/devdocs/numpy_2_0_migration_guide.html#adapting-to-changes-in-the-copy-keyword\n",
      "  prediction = np.array(predictions)\n"
     ]
    },
    {
     "name": "stdout",
     "output_type": "stream",
     "text": [
      "\t> Saved: 8_autoEncoderMutation_segment0\n"
     ]
    },
    {
     "name": "stderr",
     "output_type": "stream",
     "text": [
      "C:\\Users\\RjKim\\AppData\\Local\\Temp\\ipykernel_33324\\975327388.py:417: DeprecationWarning: __array__ implementation doesn't accept a copy keyword, so passing copy=False failed. __array__ must implement 'dtype' and 'copy' keyword arguments. To learn more, see the migration guide https://numpy.org/devdocs/numpy_2_0_migration_guide.html#adapting-to-changes-in-the-copy-keyword\n",
      "  prediction = np.array(predictions)\n"
     ]
    },
    {
     "name": "stdout",
     "output_type": "stream",
     "text": [
      "\t> Saved: 9_autoEncoderMutation_segment0\n"
     ]
    },
    {
     "name": "stderr",
     "output_type": "stream",
     "text": [
      "C:\\Users\\RjKim\\AppData\\Local\\Temp\\ipykernel_33324\\975327388.py:417: DeprecationWarning: __array__ implementation doesn't accept a copy keyword, so passing copy=False failed. __array__ must implement 'dtype' and 'copy' keyword arguments. To learn more, see the migration guide https://numpy.org/devdocs/numpy_2_0_migration_guide.html#adapting-to-changes-in-the-copy-keyword\n",
      "  prediction = np.array(predictions)\n"
     ]
    },
    {
     "name": "stdout",
     "output_type": "stream",
     "text": [
      "\t> Saved: 10_autoEncoderMutation_segment0\n"
     ]
    },
    {
     "name": "stderr",
     "output_type": "stream",
     "text": [
      "C:\\Users\\RjKim\\AppData\\Local\\Temp\\ipykernel_33324\\975327388.py:417: DeprecationWarning: __array__ implementation doesn't accept a copy keyword, so passing copy=False failed. __array__ must implement 'dtype' and 'copy' keyword arguments. To learn more, see the migration guide https://numpy.org/devdocs/numpy_2_0_migration_guide.html#adapting-to-changes-in-the-copy-keyword\n",
      "  prediction = np.array(predictions)\n"
     ]
    },
    {
     "name": "stdout",
     "output_type": "stream",
     "text": [
      "\t> Saved: 11_autoEncoderMutation_segment0\n"
     ]
    },
    {
     "name": "stderr",
     "output_type": "stream",
     "text": [
      "C:\\Users\\RjKim\\AppData\\Local\\Temp\\ipykernel_33324\\975327388.py:417: DeprecationWarning: __array__ implementation doesn't accept a copy keyword, so passing copy=False failed. __array__ must implement 'dtype' and 'copy' keyword arguments. To learn more, see the migration guide https://numpy.org/devdocs/numpy_2_0_migration_guide.html#adapting-to-changes-in-the-copy-keyword\n",
      "  prediction = np.array(predictions)\n"
     ]
    },
    {
     "name": "stdout",
     "output_type": "stream",
     "text": [
      "\t> Saved: 12_autoEncoderMutation_segment0\n"
     ]
    },
    {
     "name": "stderr",
     "output_type": "stream",
     "text": [
      "C:\\Users\\RjKim\\AppData\\Local\\Temp\\ipykernel_33324\\975327388.py:417: DeprecationWarning: __array__ implementation doesn't accept a copy keyword, so passing copy=False failed. __array__ must implement 'dtype' and 'copy' keyword arguments. To learn more, see the migration guide https://numpy.org/devdocs/numpy_2_0_migration_guide.html#adapting-to-changes-in-the-copy-keyword\n",
      "  prediction = np.array(predictions)\n"
     ]
    },
    {
     "name": "stdout",
     "output_type": "stream",
     "text": [
      "\t> Saved: 13_autoEncoderMutation_segment0\n"
     ]
    },
    {
     "name": "stderr",
     "output_type": "stream",
     "text": [
      "C:\\Users\\RjKim\\AppData\\Local\\Temp\\ipykernel_33324\\975327388.py:417: DeprecationWarning: __array__ implementation doesn't accept a copy keyword, so passing copy=False failed. __array__ must implement 'dtype' and 'copy' keyword arguments. To learn more, see the migration guide https://numpy.org/devdocs/numpy_2_0_migration_guide.html#adapting-to-changes-in-the-copy-keyword\n",
      "  prediction = np.array(predictions)\n"
     ]
    },
    {
     "name": "stdout",
     "output_type": "stream",
     "text": [
      "\t> Saved: 14_autoEncoderMutation_segment0\n"
     ]
    },
    {
     "name": "stderr",
     "output_type": "stream",
     "text": [
      "C:\\Users\\RjKim\\AppData\\Local\\Temp\\ipykernel_33324\\975327388.py:417: DeprecationWarning: __array__ implementation doesn't accept a copy keyword, so passing copy=False failed. __array__ must implement 'dtype' and 'copy' keyword arguments. To learn more, see the migration guide https://numpy.org/devdocs/numpy_2_0_migration_guide.html#adapting-to-changes-in-the-copy-keyword\n",
      "  prediction = np.array(predictions)\n"
     ]
    },
    {
     "name": "stdout",
     "output_type": "stream",
     "text": [
      "\t> Saved: 15_autoEncoderMutation_segment0\n"
     ]
    },
    {
     "name": "stderr",
     "output_type": "stream",
     "text": [
      "C:\\Users\\RjKim\\AppData\\Local\\Temp\\ipykernel_33324\\975327388.py:417: DeprecationWarning: __array__ implementation doesn't accept a copy keyword, so passing copy=False failed. __array__ must implement 'dtype' and 'copy' keyword arguments. To learn more, see the migration guide https://numpy.org/devdocs/numpy_2_0_migration_guide.html#adapting-to-changes-in-the-copy-keyword\n",
      "  prediction = np.array(predictions)\n"
     ]
    },
    {
     "name": "stdout",
     "output_type": "stream",
     "text": [
      "\t> Saved: 16_autoEncoderMutation_segment0\n"
     ]
    },
    {
     "name": "stderr",
     "output_type": "stream",
     "text": [
      "C:\\Users\\RjKim\\AppData\\Local\\Temp\\ipykernel_33324\\975327388.py:417: DeprecationWarning: __array__ implementation doesn't accept a copy keyword, so passing copy=False failed. __array__ must implement 'dtype' and 'copy' keyword arguments. To learn more, see the migration guide https://numpy.org/devdocs/numpy_2_0_migration_guide.html#adapting-to-changes-in-the-copy-keyword\n",
      "  prediction = np.array(predictions)\n"
     ]
    },
    {
     "name": "stdout",
     "output_type": "stream",
     "text": [
      "\t> Saved: 17_autoEncoderMutation_segment0\n"
     ]
    },
    {
     "name": "stderr",
     "output_type": "stream",
     "text": [
      "C:\\Users\\RjKim\\AppData\\Local\\Temp\\ipykernel_33324\\975327388.py:417: DeprecationWarning: __array__ implementation doesn't accept a copy keyword, so passing copy=False failed. __array__ must implement 'dtype' and 'copy' keyword arguments. To learn more, see the migration guide https://numpy.org/devdocs/numpy_2_0_migration_guide.html#adapting-to-changes-in-the-copy-keyword\n",
      "  prediction = np.array(predictions)\n"
     ]
    },
    {
     "name": "stdout",
     "output_type": "stream",
     "text": [
      "\t> Saved: 18_autoEncoderMutation_segment0\n"
     ]
    },
    {
     "name": "stderr",
     "output_type": "stream",
     "text": [
      "C:\\Users\\RjKim\\AppData\\Local\\Temp\\ipykernel_33324\\975327388.py:417: DeprecationWarning: __array__ implementation doesn't accept a copy keyword, so passing copy=False failed. __array__ must implement 'dtype' and 'copy' keyword arguments. To learn more, see the migration guide https://numpy.org/devdocs/numpy_2_0_migration_guide.html#adapting-to-changes-in-the-copy-keyword\n",
      "  prediction = np.array(predictions)\n"
     ]
    },
    {
     "name": "stdout",
     "output_type": "stream",
     "text": [
      "\t> Saved: 19_autoEncoderMutation_segment0\n"
     ]
    },
    {
     "name": "stderr",
     "output_type": "stream",
     "text": [
      "C:\\Users\\RjKim\\AppData\\Local\\Temp\\ipykernel_33324\\975327388.py:417: DeprecationWarning: __array__ implementation doesn't accept a copy keyword, so passing copy=False failed. __array__ must implement 'dtype' and 'copy' keyword arguments. To learn more, see the migration guide https://numpy.org/devdocs/numpy_2_0_migration_guide.html#adapting-to-changes-in-the-copy-keyword\n",
      "  prediction = np.array(predictions)\n"
     ]
    },
    {
     "name": "stdout",
     "output_type": "stream",
     "text": [
      "\t> Saved: 20_autoEncoderMutation_segment0\n"
     ]
    },
    {
     "name": "stderr",
     "output_type": "stream",
     "text": [
      "C:\\Users\\RjKim\\AppData\\Local\\Temp\\ipykernel_33324\\975327388.py:417: DeprecationWarning: __array__ implementation doesn't accept a copy keyword, so passing copy=False failed. __array__ must implement 'dtype' and 'copy' keyword arguments. To learn more, see the migration guide https://numpy.org/devdocs/numpy_2_0_migration_guide.html#adapting-to-changes-in-the-copy-keyword\n",
      "  prediction = np.array(predictions)\n"
     ]
    },
    {
     "name": "stdout",
     "output_type": "stream",
     "text": [
      "\t> Saved: 21_autoEncoderMutation_segment0\n"
     ]
    },
    {
     "name": "stderr",
     "output_type": "stream",
     "text": [
      "C:\\Users\\RjKim\\AppData\\Local\\Temp\\ipykernel_33324\\975327388.py:417: DeprecationWarning: __array__ implementation doesn't accept a copy keyword, so passing copy=False failed. __array__ must implement 'dtype' and 'copy' keyword arguments. To learn more, see the migration guide https://numpy.org/devdocs/numpy_2_0_migration_guide.html#adapting-to-changes-in-the-copy-keyword\n",
      "  prediction = np.array(predictions)\n"
     ]
    },
    {
     "name": "stdout",
     "output_type": "stream",
     "text": [
      "\t> Saved: 22_autoEncoderMutation_segment0\n"
     ]
    },
    {
     "name": "stderr",
     "output_type": "stream",
     "text": [
      "C:\\Users\\RjKim\\AppData\\Local\\Temp\\ipykernel_33324\\975327388.py:417: DeprecationWarning: __array__ implementation doesn't accept a copy keyword, so passing copy=False failed. __array__ must implement 'dtype' and 'copy' keyword arguments. To learn more, see the migration guide https://numpy.org/devdocs/numpy_2_0_migration_guide.html#adapting-to-changes-in-the-copy-keyword\n",
      "  prediction = np.array(predictions)\n"
     ]
    },
    {
     "name": "stdout",
     "output_type": "stream",
     "text": [
      "\t> Saved: 23_autoEncoderMutation_segment0\n"
     ]
    },
    {
     "name": "stderr",
     "output_type": "stream",
     "text": [
      "C:\\Users\\RjKim\\AppData\\Local\\Temp\\ipykernel_33324\\975327388.py:417: DeprecationWarning: __array__ implementation doesn't accept a copy keyword, so passing copy=False failed. __array__ must implement 'dtype' and 'copy' keyword arguments. To learn more, see the migration guide https://numpy.org/devdocs/numpy_2_0_migration_guide.html#adapting-to-changes-in-the-copy-keyword\n",
      "  prediction = np.array(predictions)\n"
     ]
    },
    {
     "name": "stdout",
     "output_type": "stream",
     "text": [
      "\t> Saved: 24_autoEncoderMutation_segment0\n"
     ]
    },
    {
     "name": "stderr",
     "output_type": "stream",
     "text": [
      "C:\\Users\\RjKim\\AppData\\Local\\Temp\\ipykernel_33324\\975327388.py:417: DeprecationWarning: __array__ implementation doesn't accept a copy keyword, so passing copy=False failed. __array__ must implement 'dtype' and 'copy' keyword arguments. To learn more, see the migration guide https://numpy.org/devdocs/numpy_2_0_migration_guide.html#adapting-to-changes-in-the-copy-keyword\n",
      "  prediction = np.array(predictions)\n"
     ]
    },
    {
     "name": "stdout",
     "output_type": "stream",
     "text": [
      "\t> Saved: 25_autoEncoderMutation_segment0\n"
     ]
    },
    {
     "name": "stderr",
     "output_type": "stream",
     "text": [
      "C:\\Users\\RjKim\\AppData\\Local\\Temp\\ipykernel_33324\\975327388.py:417: DeprecationWarning: __array__ implementation doesn't accept a copy keyword, so passing copy=False failed. __array__ must implement 'dtype' and 'copy' keyword arguments. To learn more, see the migration guide https://numpy.org/devdocs/numpy_2_0_migration_guide.html#adapting-to-changes-in-the-copy-keyword\n",
      "  prediction = np.array(predictions)\n"
     ]
    },
    {
     "name": "stdout",
     "output_type": "stream",
     "text": [
      "\t> Saved: 26_autoEncoderMutation_segment0\n"
     ]
    },
    {
     "name": "stderr",
     "output_type": "stream",
     "text": [
      "C:\\Users\\RjKim\\AppData\\Local\\Temp\\ipykernel_33324\\975327388.py:417: DeprecationWarning: __array__ implementation doesn't accept a copy keyword, so passing copy=False failed. __array__ must implement 'dtype' and 'copy' keyword arguments. To learn more, see the migration guide https://numpy.org/devdocs/numpy_2_0_migration_guide.html#adapting-to-changes-in-the-copy-keyword\n",
      "  prediction = np.array(predictions)\n"
     ]
    },
    {
     "name": "stdout",
     "output_type": "stream",
     "text": [
      "\t> Saved: 27_autoEncoderMutation_segment0\n"
     ]
    },
    {
     "name": "stderr",
     "output_type": "stream",
     "text": [
      "C:\\Users\\RjKim\\AppData\\Local\\Temp\\ipykernel_33324\\975327388.py:417: DeprecationWarning: __array__ implementation doesn't accept a copy keyword, so passing copy=False failed. __array__ must implement 'dtype' and 'copy' keyword arguments. To learn more, see the migration guide https://numpy.org/devdocs/numpy_2_0_migration_guide.html#adapting-to-changes-in-the-copy-keyword\n",
      "  prediction = np.array(predictions)\n"
     ]
    },
    {
     "name": "stdout",
     "output_type": "stream",
     "text": [
      "\t> Saved: 28_autoEncoderMutation_segment0\n"
     ]
    },
    {
     "name": "stderr",
     "output_type": "stream",
     "text": [
      "C:\\Users\\RjKim\\AppData\\Local\\Temp\\ipykernel_33324\\975327388.py:417: DeprecationWarning: __array__ implementation doesn't accept a copy keyword, so passing copy=False failed. __array__ must implement 'dtype' and 'copy' keyword arguments. To learn more, see the migration guide https://numpy.org/devdocs/numpy_2_0_migration_guide.html#adapting-to-changes-in-the-copy-keyword\n",
      "  prediction = np.array(predictions)\n"
     ]
    },
    {
     "name": "stdout",
     "output_type": "stream",
     "text": [
      "\t> Saved: 29_autoEncoderMutation_segment0\n"
     ]
    },
    {
     "name": "stderr",
     "output_type": "stream",
     "text": [
      "C:\\Users\\RjKim\\AppData\\Local\\Temp\\ipykernel_33324\\975327388.py:417: DeprecationWarning: __array__ implementation doesn't accept a copy keyword, so passing copy=False failed. __array__ must implement 'dtype' and 'copy' keyword arguments. To learn more, see the migration guide https://numpy.org/devdocs/numpy_2_0_migration_guide.html#adapting-to-changes-in-the-copy-keyword\n",
      "  prediction = np.array(predictions)\n"
     ]
    },
    {
     "name": "stdout",
     "output_type": "stream",
     "text": [
      "\t> Saved: 30_autoEncoderMutation_segment0\n"
     ]
    },
    {
     "name": "stderr",
     "output_type": "stream",
     "text": [
      "C:\\Users\\RjKim\\AppData\\Local\\Temp\\ipykernel_33324\\975327388.py:417: DeprecationWarning: __array__ implementation doesn't accept a copy keyword, so passing copy=False failed. __array__ must implement 'dtype' and 'copy' keyword arguments. To learn more, see the migration guide https://numpy.org/devdocs/numpy_2_0_migration_guide.html#adapting-to-changes-in-the-copy-keyword\n",
      "  prediction = np.array(predictions)\n"
     ]
    },
    {
     "name": "stdout",
     "output_type": "stream",
     "text": [
      "\t> Saved: 0_autoEncoderMutation_sonar\n"
     ]
    },
    {
     "name": "stderr",
     "output_type": "stream",
     "text": [
      "C:\\Users\\RjKim\\AppData\\Local\\Temp\\ipykernel_33324\\975327388.py:417: DeprecationWarning: __array__ implementation doesn't accept a copy keyword, so passing copy=False failed. __array__ must implement 'dtype' and 'copy' keyword arguments. To learn more, see the migration guide https://numpy.org/devdocs/numpy_2_0_migration_guide.html#adapting-to-changes-in-the-copy-keyword\n",
      "  prediction = np.array(predictions)\n"
     ]
    },
    {
     "name": "stdout",
     "output_type": "stream",
     "text": [
      "\t> Saved: 1_autoEncoderMutation_sonar\n"
     ]
    },
    {
     "name": "stderr",
     "output_type": "stream",
     "text": [
      "C:\\Users\\RjKim\\AppData\\Local\\Temp\\ipykernel_33324\\975327388.py:417: DeprecationWarning: __array__ implementation doesn't accept a copy keyword, so passing copy=False failed. __array__ must implement 'dtype' and 'copy' keyword arguments. To learn more, see the migration guide https://numpy.org/devdocs/numpy_2_0_migration_guide.html#adapting-to-changes-in-the-copy-keyword\n",
      "  prediction = np.array(predictions)\n"
     ]
    },
    {
     "name": "stdout",
     "output_type": "stream",
     "text": [
      "\t> Saved: 2_autoEncoderMutation_sonar\n"
     ]
    },
    {
     "name": "stderr",
     "output_type": "stream",
     "text": [
      "C:\\Users\\RjKim\\AppData\\Local\\Temp\\ipykernel_33324\\975327388.py:417: DeprecationWarning: __array__ implementation doesn't accept a copy keyword, so passing copy=False failed. __array__ must implement 'dtype' and 'copy' keyword arguments. To learn more, see the migration guide https://numpy.org/devdocs/numpy_2_0_migration_guide.html#adapting-to-changes-in-the-copy-keyword\n",
      "  prediction = np.array(predictions)\n"
     ]
    },
    {
     "name": "stdout",
     "output_type": "stream",
     "text": [
      "\t> Saved: 3_autoEncoderMutation_sonar\n"
     ]
    },
    {
     "name": "stderr",
     "output_type": "stream",
     "text": [
      "C:\\Users\\RjKim\\AppData\\Local\\Temp\\ipykernel_33324\\975327388.py:417: DeprecationWarning: __array__ implementation doesn't accept a copy keyword, so passing copy=False failed. __array__ must implement 'dtype' and 'copy' keyword arguments. To learn more, see the migration guide https://numpy.org/devdocs/numpy_2_0_migration_guide.html#adapting-to-changes-in-the-copy-keyword\n",
      "  prediction = np.array(predictions)\n"
     ]
    },
    {
     "name": "stdout",
     "output_type": "stream",
     "text": [
      "\t> Saved: 4_autoEncoderMutation_sonar\n"
     ]
    },
    {
     "name": "stderr",
     "output_type": "stream",
     "text": [
      "C:\\Users\\RjKim\\AppData\\Local\\Temp\\ipykernel_33324\\975327388.py:417: DeprecationWarning: __array__ implementation doesn't accept a copy keyword, so passing copy=False failed. __array__ must implement 'dtype' and 'copy' keyword arguments. To learn more, see the migration guide https://numpy.org/devdocs/numpy_2_0_migration_guide.html#adapting-to-changes-in-the-copy-keyword\n",
      "  prediction = np.array(predictions)\n"
     ]
    },
    {
     "name": "stdout",
     "output_type": "stream",
     "text": [
      "\t> Saved: 5_autoEncoderMutation_sonar\n"
     ]
    },
    {
     "name": "stderr",
     "output_type": "stream",
     "text": [
      "C:\\Users\\RjKim\\AppData\\Local\\Temp\\ipykernel_33324\\975327388.py:417: DeprecationWarning: __array__ implementation doesn't accept a copy keyword, so passing copy=False failed. __array__ must implement 'dtype' and 'copy' keyword arguments. To learn more, see the migration guide https://numpy.org/devdocs/numpy_2_0_migration_guide.html#adapting-to-changes-in-the-copy-keyword\n",
      "  prediction = np.array(predictions)\n"
     ]
    },
    {
     "name": "stdout",
     "output_type": "stream",
     "text": [
      "\t> Saved: 6_autoEncoderMutation_sonar\n"
     ]
    },
    {
     "name": "stderr",
     "output_type": "stream",
     "text": [
      "C:\\Users\\RjKim\\AppData\\Local\\Temp\\ipykernel_33324\\975327388.py:417: DeprecationWarning: __array__ implementation doesn't accept a copy keyword, so passing copy=False failed. __array__ must implement 'dtype' and 'copy' keyword arguments. To learn more, see the migration guide https://numpy.org/devdocs/numpy_2_0_migration_guide.html#adapting-to-changes-in-the-copy-keyword\n",
      "  prediction = np.array(predictions)\n"
     ]
    },
    {
     "name": "stdout",
     "output_type": "stream",
     "text": [
      "\t> Saved: 7_autoEncoderMutation_sonar\n"
     ]
    },
    {
     "name": "stderr",
     "output_type": "stream",
     "text": [
      "C:\\Users\\RjKim\\AppData\\Local\\Temp\\ipykernel_33324\\975327388.py:417: DeprecationWarning: __array__ implementation doesn't accept a copy keyword, so passing copy=False failed. __array__ must implement 'dtype' and 'copy' keyword arguments. To learn more, see the migration guide https://numpy.org/devdocs/numpy_2_0_migration_guide.html#adapting-to-changes-in-the-copy-keyword\n",
      "  prediction = np.array(predictions)\n"
     ]
    },
    {
     "name": "stdout",
     "output_type": "stream",
     "text": [
      "\t> Saved: 8_autoEncoderMutation_sonar\n"
     ]
    },
    {
     "name": "stderr",
     "output_type": "stream",
     "text": [
      "C:\\Users\\RjKim\\AppData\\Local\\Temp\\ipykernel_33324\\975327388.py:417: DeprecationWarning: __array__ implementation doesn't accept a copy keyword, so passing copy=False failed. __array__ must implement 'dtype' and 'copy' keyword arguments. To learn more, see the migration guide https://numpy.org/devdocs/numpy_2_0_migration_guide.html#adapting-to-changes-in-the-copy-keyword\n",
      "  prediction = np.array(predictions)\n"
     ]
    },
    {
     "name": "stdout",
     "output_type": "stream",
     "text": [
      "\t> Saved: 9_autoEncoderMutation_sonar\n"
     ]
    },
    {
     "name": "stderr",
     "output_type": "stream",
     "text": [
      "C:\\Users\\RjKim\\AppData\\Local\\Temp\\ipykernel_33324\\975327388.py:417: DeprecationWarning: __array__ implementation doesn't accept a copy keyword, so passing copy=False failed. __array__ must implement 'dtype' and 'copy' keyword arguments. To learn more, see the migration guide https://numpy.org/devdocs/numpy_2_0_migration_guide.html#adapting-to-changes-in-the-copy-keyword\n",
      "  prediction = np.array(predictions)\n"
     ]
    },
    {
     "name": "stdout",
     "output_type": "stream",
     "text": [
      "\t> Saved: 10_autoEncoderMutation_sonar\n"
     ]
    },
    {
     "name": "stderr",
     "output_type": "stream",
     "text": [
      "C:\\Users\\RjKim\\AppData\\Local\\Temp\\ipykernel_33324\\975327388.py:417: DeprecationWarning: __array__ implementation doesn't accept a copy keyword, so passing copy=False failed. __array__ must implement 'dtype' and 'copy' keyword arguments. To learn more, see the migration guide https://numpy.org/devdocs/numpy_2_0_migration_guide.html#adapting-to-changes-in-the-copy-keyword\n",
      "  prediction = np.array(predictions)\n"
     ]
    },
    {
     "name": "stdout",
     "output_type": "stream",
     "text": [
      "\t> Saved: 11_autoEncoderMutation_sonar\n"
     ]
    },
    {
     "name": "stderr",
     "output_type": "stream",
     "text": [
      "C:\\Users\\RjKim\\AppData\\Local\\Temp\\ipykernel_33324\\975327388.py:417: DeprecationWarning: __array__ implementation doesn't accept a copy keyword, so passing copy=False failed. __array__ must implement 'dtype' and 'copy' keyword arguments. To learn more, see the migration guide https://numpy.org/devdocs/numpy_2_0_migration_guide.html#adapting-to-changes-in-the-copy-keyword\n",
      "  prediction = np.array(predictions)\n"
     ]
    },
    {
     "name": "stdout",
     "output_type": "stream",
     "text": [
      "\t> Saved: 12_autoEncoderMutation_sonar\n"
     ]
    },
    {
     "name": "stderr",
     "output_type": "stream",
     "text": [
      "C:\\Users\\RjKim\\AppData\\Local\\Temp\\ipykernel_33324\\975327388.py:417: DeprecationWarning: __array__ implementation doesn't accept a copy keyword, so passing copy=False failed. __array__ must implement 'dtype' and 'copy' keyword arguments. To learn more, see the migration guide https://numpy.org/devdocs/numpy_2_0_migration_guide.html#adapting-to-changes-in-the-copy-keyword\n",
      "  prediction = np.array(predictions)\n"
     ]
    },
    {
     "name": "stdout",
     "output_type": "stream",
     "text": [
      "\t> Saved: 13_autoEncoderMutation_sonar\n"
     ]
    },
    {
     "name": "stderr",
     "output_type": "stream",
     "text": [
      "C:\\Users\\RjKim\\AppData\\Local\\Temp\\ipykernel_33324\\975327388.py:417: DeprecationWarning: __array__ implementation doesn't accept a copy keyword, so passing copy=False failed. __array__ must implement 'dtype' and 'copy' keyword arguments. To learn more, see the migration guide https://numpy.org/devdocs/numpy_2_0_migration_guide.html#adapting-to-changes-in-the-copy-keyword\n",
      "  prediction = np.array(predictions)\n"
     ]
    },
    {
     "name": "stdout",
     "output_type": "stream",
     "text": [
      "\t> Saved: 14_autoEncoderMutation_sonar\n"
     ]
    },
    {
     "name": "stderr",
     "output_type": "stream",
     "text": [
      "C:\\Users\\RjKim\\AppData\\Local\\Temp\\ipykernel_33324\\975327388.py:417: DeprecationWarning: __array__ implementation doesn't accept a copy keyword, so passing copy=False failed. __array__ must implement 'dtype' and 'copy' keyword arguments. To learn more, see the migration guide https://numpy.org/devdocs/numpy_2_0_migration_guide.html#adapting-to-changes-in-the-copy-keyword\n",
      "  prediction = np.array(predictions)\n"
     ]
    },
    {
     "name": "stdout",
     "output_type": "stream",
     "text": [
      "\t> Saved: 15_autoEncoderMutation_sonar\n"
     ]
    },
    {
     "name": "stderr",
     "output_type": "stream",
     "text": [
      "C:\\Users\\RjKim\\AppData\\Local\\Temp\\ipykernel_33324\\975327388.py:417: DeprecationWarning: __array__ implementation doesn't accept a copy keyword, so passing copy=False failed. __array__ must implement 'dtype' and 'copy' keyword arguments. To learn more, see the migration guide https://numpy.org/devdocs/numpy_2_0_migration_guide.html#adapting-to-changes-in-the-copy-keyword\n",
      "  prediction = np.array(predictions)\n"
     ]
    },
    {
     "name": "stdout",
     "output_type": "stream",
     "text": [
      "\t> Saved: 16_autoEncoderMutation_sonar\n"
     ]
    },
    {
     "name": "stderr",
     "output_type": "stream",
     "text": [
      "C:\\Users\\RjKim\\AppData\\Local\\Temp\\ipykernel_33324\\975327388.py:417: DeprecationWarning: __array__ implementation doesn't accept a copy keyword, so passing copy=False failed. __array__ must implement 'dtype' and 'copy' keyword arguments. To learn more, see the migration guide https://numpy.org/devdocs/numpy_2_0_migration_guide.html#adapting-to-changes-in-the-copy-keyword\n",
      "  prediction = np.array(predictions)\n"
     ]
    },
    {
     "name": "stdout",
     "output_type": "stream",
     "text": [
      "\t> Saved: 17_autoEncoderMutation_sonar\n"
     ]
    },
    {
     "name": "stderr",
     "output_type": "stream",
     "text": [
      "C:\\Users\\RjKim\\AppData\\Local\\Temp\\ipykernel_33324\\975327388.py:417: DeprecationWarning: __array__ implementation doesn't accept a copy keyword, so passing copy=False failed. __array__ must implement 'dtype' and 'copy' keyword arguments. To learn more, see the migration guide https://numpy.org/devdocs/numpy_2_0_migration_guide.html#adapting-to-changes-in-the-copy-keyword\n",
      "  prediction = np.array(predictions)\n"
     ]
    },
    {
     "name": "stdout",
     "output_type": "stream",
     "text": [
      "\t> Saved: 18_autoEncoderMutation_sonar\n"
     ]
    },
    {
     "name": "stderr",
     "output_type": "stream",
     "text": [
      "C:\\Users\\RjKim\\AppData\\Local\\Temp\\ipykernel_33324\\975327388.py:417: DeprecationWarning: __array__ implementation doesn't accept a copy keyword, so passing copy=False failed. __array__ must implement 'dtype' and 'copy' keyword arguments. To learn more, see the migration guide https://numpy.org/devdocs/numpy_2_0_migration_guide.html#adapting-to-changes-in-the-copy-keyword\n",
      "  prediction = np.array(predictions)\n"
     ]
    },
    {
     "name": "stdout",
     "output_type": "stream",
     "text": [
      "\t> Saved: 19_autoEncoderMutation_sonar\n"
     ]
    },
    {
     "name": "stderr",
     "output_type": "stream",
     "text": [
      "C:\\Users\\RjKim\\AppData\\Local\\Temp\\ipykernel_33324\\975327388.py:417: DeprecationWarning: __array__ implementation doesn't accept a copy keyword, so passing copy=False failed. __array__ must implement 'dtype' and 'copy' keyword arguments. To learn more, see the migration guide https://numpy.org/devdocs/numpy_2_0_migration_guide.html#adapting-to-changes-in-the-copy-keyword\n",
      "  prediction = np.array(predictions)\n"
     ]
    },
    {
     "name": "stdout",
     "output_type": "stream",
     "text": [
      "\t> Saved: 20_autoEncoderMutation_sonar\n"
     ]
    },
    {
     "name": "stderr",
     "output_type": "stream",
     "text": [
      "C:\\Users\\RjKim\\AppData\\Local\\Temp\\ipykernel_33324\\975327388.py:417: DeprecationWarning: __array__ implementation doesn't accept a copy keyword, so passing copy=False failed. __array__ must implement 'dtype' and 'copy' keyword arguments. To learn more, see the migration guide https://numpy.org/devdocs/numpy_2_0_migration_guide.html#adapting-to-changes-in-the-copy-keyword\n",
      "  prediction = np.array(predictions)\n"
     ]
    },
    {
     "name": "stdout",
     "output_type": "stream",
     "text": [
      "\t> Saved: 21_autoEncoderMutation_sonar\n"
     ]
    },
    {
     "name": "stderr",
     "output_type": "stream",
     "text": [
      "C:\\Users\\RjKim\\AppData\\Local\\Temp\\ipykernel_33324\\975327388.py:417: DeprecationWarning: __array__ implementation doesn't accept a copy keyword, so passing copy=False failed. __array__ must implement 'dtype' and 'copy' keyword arguments. To learn more, see the migration guide https://numpy.org/devdocs/numpy_2_0_migration_guide.html#adapting-to-changes-in-the-copy-keyword\n",
      "  prediction = np.array(predictions)\n"
     ]
    },
    {
     "name": "stdout",
     "output_type": "stream",
     "text": [
      "\t> Saved: 22_autoEncoderMutation_sonar\n"
     ]
    },
    {
     "name": "stderr",
     "output_type": "stream",
     "text": [
      "C:\\Users\\RjKim\\AppData\\Local\\Temp\\ipykernel_33324\\975327388.py:417: DeprecationWarning: __array__ implementation doesn't accept a copy keyword, so passing copy=False failed. __array__ must implement 'dtype' and 'copy' keyword arguments. To learn more, see the migration guide https://numpy.org/devdocs/numpy_2_0_migration_guide.html#adapting-to-changes-in-the-copy-keyword\n",
      "  prediction = np.array(predictions)\n"
     ]
    },
    {
     "name": "stdout",
     "output_type": "stream",
     "text": [
      "\t> Saved: 23_autoEncoderMutation_sonar\n"
     ]
    },
    {
     "name": "stderr",
     "output_type": "stream",
     "text": [
      "C:\\Users\\RjKim\\AppData\\Local\\Temp\\ipykernel_33324\\975327388.py:417: DeprecationWarning: __array__ implementation doesn't accept a copy keyword, so passing copy=False failed. __array__ must implement 'dtype' and 'copy' keyword arguments. To learn more, see the migration guide https://numpy.org/devdocs/numpy_2_0_migration_guide.html#adapting-to-changes-in-the-copy-keyword\n",
      "  prediction = np.array(predictions)\n"
     ]
    },
    {
     "name": "stdout",
     "output_type": "stream",
     "text": [
      "\t> Saved: 24_autoEncoderMutation_sonar\n"
     ]
    },
    {
     "name": "stderr",
     "output_type": "stream",
     "text": [
      "C:\\Users\\RjKim\\AppData\\Local\\Temp\\ipykernel_33324\\975327388.py:417: DeprecationWarning: __array__ implementation doesn't accept a copy keyword, so passing copy=False failed. __array__ must implement 'dtype' and 'copy' keyword arguments. To learn more, see the migration guide https://numpy.org/devdocs/numpy_2_0_migration_guide.html#adapting-to-changes-in-the-copy-keyword\n",
      "  prediction = np.array(predictions)\n"
     ]
    },
    {
     "name": "stdout",
     "output_type": "stream",
     "text": [
      "\t> Saved: 25_autoEncoderMutation_sonar\n"
     ]
    },
    {
     "name": "stderr",
     "output_type": "stream",
     "text": [
      "C:\\Users\\RjKim\\AppData\\Local\\Temp\\ipykernel_33324\\975327388.py:417: DeprecationWarning: __array__ implementation doesn't accept a copy keyword, so passing copy=False failed. __array__ must implement 'dtype' and 'copy' keyword arguments. To learn more, see the migration guide https://numpy.org/devdocs/numpy_2_0_migration_guide.html#adapting-to-changes-in-the-copy-keyword\n",
      "  prediction = np.array(predictions)\n"
     ]
    },
    {
     "name": "stdout",
     "output_type": "stream",
     "text": [
      "\t> Saved: 26_autoEncoderMutation_sonar\n"
     ]
    },
    {
     "name": "stderr",
     "output_type": "stream",
     "text": [
      "C:\\Users\\RjKim\\AppData\\Local\\Temp\\ipykernel_33324\\975327388.py:417: DeprecationWarning: __array__ implementation doesn't accept a copy keyword, so passing copy=False failed. __array__ must implement 'dtype' and 'copy' keyword arguments. To learn more, see the migration guide https://numpy.org/devdocs/numpy_2_0_migration_guide.html#adapting-to-changes-in-the-copy-keyword\n",
      "  prediction = np.array(predictions)\n"
     ]
    },
    {
     "name": "stdout",
     "output_type": "stream",
     "text": [
      "\t> Saved: 27_autoEncoderMutation_sonar\n"
     ]
    },
    {
     "name": "stderr",
     "output_type": "stream",
     "text": [
      "C:\\Users\\RjKim\\AppData\\Local\\Temp\\ipykernel_33324\\975327388.py:417: DeprecationWarning: __array__ implementation doesn't accept a copy keyword, so passing copy=False failed. __array__ must implement 'dtype' and 'copy' keyword arguments. To learn more, see the migration guide https://numpy.org/devdocs/numpy_2_0_migration_guide.html#adapting-to-changes-in-the-copy-keyword\n",
      "  prediction = np.array(predictions)\n"
     ]
    },
    {
     "name": "stdout",
     "output_type": "stream",
     "text": [
      "\t> Saved: 28_autoEncoderMutation_sonar\n"
     ]
    },
    {
     "name": "stderr",
     "output_type": "stream",
     "text": [
      "C:\\Users\\RjKim\\AppData\\Local\\Temp\\ipykernel_33324\\975327388.py:417: DeprecationWarning: __array__ implementation doesn't accept a copy keyword, so passing copy=False failed. __array__ must implement 'dtype' and 'copy' keyword arguments. To learn more, see the migration guide https://numpy.org/devdocs/numpy_2_0_migration_guide.html#adapting-to-changes-in-the-copy-keyword\n",
      "  prediction = np.array(predictions)\n"
     ]
    },
    {
     "name": "stdout",
     "output_type": "stream",
     "text": [
      "\t> Saved: 29_autoEncoderMutation_sonar\n"
     ]
    },
    {
     "name": "stderr",
     "output_type": "stream",
     "text": [
      "C:\\Users\\RjKim\\AppData\\Local\\Temp\\ipykernel_33324\\975327388.py:417: DeprecationWarning: __array__ implementation doesn't accept a copy keyword, so passing copy=False failed. __array__ must implement 'dtype' and 'copy' keyword arguments. To learn more, see the migration guide https://numpy.org/devdocs/numpy_2_0_migration_guide.html#adapting-to-changes-in-the-copy-keyword\n",
      "  prediction = np.array(predictions)\n"
     ]
    },
    {
     "name": "stdout",
     "output_type": "stream",
     "text": [
      "\t> Saved: 30_autoEncoderMutation_sonar\n"
     ]
    },
    {
     "name": "stderr",
     "output_type": "stream",
     "text": [
      "C:\\Users\\RjKim\\AppData\\Local\\Temp\\ipykernel_33324\\975327388.py:417: DeprecationWarning: __array__ implementation doesn't accept a copy keyword, so passing copy=False failed. __array__ must implement 'dtype' and 'copy' keyword arguments. To learn more, see the migration guide https://numpy.org/devdocs/numpy_2_0_migration_guide.html#adapting-to-changes-in-the-copy-keyword\n",
      "  prediction = np.array(predictions)\n"
     ]
    },
    {
     "name": "stdout",
     "output_type": "stream",
     "text": [
      "\t> Saved: 0_autoEncoderMutation_vehicle0\n"
     ]
    },
    {
     "name": "stderr",
     "output_type": "stream",
     "text": [
      "C:\\Users\\RjKim\\AppData\\Local\\Temp\\ipykernel_33324\\975327388.py:417: DeprecationWarning: __array__ implementation doesn't accept a copy keyword, so passing copy=False failed. __array__ must implement 'dtype' and 'copy' keyword arguments. To learn more, see the migration guide https://numpy.org/devdocs/numpy_2_0_migration_guide.html#adapting-to-changes-in-the-copy-keyword\n",
      "  prediction = np.array(predictions)\n"
     ]
    },
    {
     "name": "stdout",
     "output_type": "stream",
     "text": [
      "\t> Saved: 1_autoEncoderMutation_vehicle0\n"
     ]
    },
    {
     "name": "stderr",
     "output_type": "stream",
     "text": [
      "C:\\Users\\RjKim\\AppData\\Local\\Temp\\ipykernel_33324\\975327388.py:417: DeprecationWarning: __array__ implementation doesn't accept a copy keyword, so passing copy=False failed. __array__ must implement 'dtype' and 'copy' keyword arguments. To learn more, see the migration guide https://numpy.org/devdocs/numpy_2_0_migration_guide.html#adapting-to-changes-in-the-copy-keyword\n",
      "  prediction = np.array(predictions)\n"
     ]
    },
    {
     "name": "stdout",
     "output_type": "stream",
     "text": [
      "\t> Saved: 2_autoEncoderMutation_vehicle0\n"
     ]
    },
    {
     "name": "stderr",
     "output_type": "stream",
     "text": [
      "C:\\Users\\RjKim\\AppData\\Local\\Temp\\ipykernel_33324\\975327388.py:417: DeprecationWarning: __array__ implementation doesn't accept a copy keyword, so passing copy=False failed. __array__ must implement 'dtype' and 'copy' keyword arguments. To learn more, see the migration guide https://numpy.org/devdocs/numpy_2_0_migration_guide.html#adapting-to-changes-in-the-copy-keyword\n",
      "  prediction = np.array(predictions)\n"
     ]
    },
    {
     "name": "stdout",
     "output_type": "stream",
     "text": [
      "\t> Saved: 3_autoEncoderMutation_vehicle0\n"
     ]
    },
    {
     "name": "stderr",
     "output_type": "stream",
     "text": [
      "C:\\Users\\RjKim\\AppData\\Local\\Temp\\ipykernel_33324\\975327388.py:417: DeprecationWarning: __array__ implementation doesn't accept a copy keyword, so passing copy=False failed. __array__ must implement 'dtype' and 'copy' keyword arguments. To learn more, see the migration guide https://numpy.org/devdocs/numpy_2_0_migration_guide.html#adapting-to-changes-in-the-copy-keyword\n",
      "  prediction = np.array(predictions)\n"
     ]
    },
    {
     "name": "stdout",
     "output_type": "stream",
     "text": [
      "\t> Saved: 4_autoEncoderMutation_vehicle0\n"
     ]
    },
    {
     "name": "stderr",
     "output_type": "stream",
     "text": [
      "C:\\Users\\RjKim\\AppData\\Local\\Temp\\ipykernel_33324\\975327388.py:417: DeprecationWarning: __array__ implementation doesn't accept a copy keyword, so passing copy=False failed. __array__ must implement 'dtype' and 'copy' keyword arguments. To learn more, see the migration guide https://numpy.org/devdocs/numpy_2_0_migration_guide.html#adapting-to-changes-in-the-copy-keyword\n",
      "  prediction = np.array(predictions)\n"
     ]
    },
    {
     "name": "stdout",
     "output_type": "stream",
     "text": [
      "\t> Saved: 5_autoEncoderMutation_vehicle0\n"
     ]
    },
    {
     "name": "stderr",
     "output_type": "stream",
     "text": [
      "C:\\Users\\RjKim\\AppData\\Local\\Temp\\ipykernel_33324\\975327388.py:417: DeprecationWarning: __array__ implementation doesn't accept a copy keyword, so passing copy=False failed. __array__ must implement 'dtype' and 'copy' keyword arguments. To learn more, see the migration guide https://numpy.org/devdocs/numpy_2_0_migration_guide.html#adapting-to-changes-in-the-copy-keyword\n",
      "  prediction = np.array(predictions)\n"
     ]
    },
    {
     "name": "stdout",
     "output_type": "stream",
     "text": [
      "\t> Saved: 6_autoEncoderMutation_vehicle0\n"
     ]
    },
    {
     "name": "stderr",
     "output_type": "stream",
     "text": [
      "C:\\Users\\RjKim\\AppData\\Local\\Temp\\ipykernel_33324\\975327388.py:417: DeprecationWarning: __array__ implementation doesn't accept a copy keyword, so passing copy=False failed. __array__ must implement 'dtype' and 'copy' keyword arguments. To learn more, see the migration guide https://numpy.org/devdocs/numpy_2_0_migration_guide.html#adapting-to-changes-in-the-copy-keyword\n",
      "  prediction = np.array(predictions)\n"
     ]
    },
    {
     "name": "stdout",
     "output_type": "stream",
     "text": [
      "\t> Saved: 7_autoEncoderMutation_vehicle0\n"
     ]
    },
    {
     "name": "stderr",
     "output_type": "stream",
     "text": [
      "C:\\Users\\RjKim\\AppData\\Local\\Temp\\ipykernel_33324\\975327388.py:417: DeprecationWarning: __array__ implementation doesn't accept a copy keyword, so passing copy=False failed. __array__ must implement 'dtype' and 'copy' keyword arguments. To learn more, see the migration guide https://numpy.org/devdocs/numpy_2_0_migration_guide.html#adapting-to-changes-in-the-copy-keyword\n",
      "  prediction = np.array(predictions)\n"
     ]
    },
    {
     "name": "stdout",
     "output_type": "stream",
     "text": [
      "\t> Saved: 8_autoEncoderMutation_vehicle0\n"
     ]
    },
    {
     "name": "stderr",
     "output_type": "stream",
     "text": [
      "C:\\Users\\RjKim\\AppData\\Local\\Temp\\ipykernel_33324\\975327388.py:417: DeprecationWarning: __array__ implementation doesn't accept a copy keyword, so passing copy=False failed. __array__ must implement 'dtype' and 'copy' keyword arguments. To learn more, see the migration guide https://numpy.org/devdocs/numpy_2_0_migration_guide.html#adapting-to-changes-in-the-copy-keyword\n",
      "  prediction = np.array(predictions)\n"
     ]
    },
    {
     "name": "stdout",
     "output_type": "stream",
     "text": [
      "\t> Saved: 9_autoEncoderMutation_vehicle0\n"
     ]
    },
    {
     "name": "stderr",
     "output_type": "stream",
     "text": [
      "C:\\Users\\RjKim\\AppData\\Local\\Temp\\ipykernel_33324\\975327388.py:417: DeprecationWarning: __array__ implementation doesn't accept a copy keyword, so passing copy=False failed. __array__ must implement 'dtype' and 'copy' keyword arguments. To learn more, see the migration guide https://numpy.org/devdocs/numpy_2_0_migration_guide.html#adapting-to-changes-in-the-copy-keyword\n",
      "  prediction = np.array(predictions)\n"
     ]
    },
    {
     "name": "stdout",
     "output_type": "stream",
     "text": [
      "\t> Saved: 10_autoEncoderMutation_vehicle0\n"
     ]
    },
    {
     "name": "stderr",
     "output_type": "stream",
     "text": [
      "C:\\Users\\RjKim\\AppData\\Local\\Temp\\ipykernel_33324\\975327388.py:417: DeprecationWarning: __array__ implementation doesn't accept a copy keyword, so passing copy=False failed. __array__ must implement 'dtype' and 'copy' keyword arguments. To learn more, see the migration guide https://numpy.org/devdocs/numpy_2_0_migration_guide.html#adapting-to-changes-in-the-copy-keyword\n",
      "  prediction = np.array(predictions)\n"
     ]
    },
    {
     "name": "stdout",
     "output_type": "stream",
     "text": [
      "\t> Saved: 11_autoEncoderMutation_vehicle0\n"
     ]
    },
    {
     "name": "stderr",
     "output_type": "stream",
     "text": [
      "C:\\Users\\RjKim\\AppData\\Local\\Temp\\ipykernel_33324\\975327388.py:417: DeprecationWarning: __array__ implementation doesn't accept a copy keyword, so passing copy=False failed. __array__ must implement 'dtype' and 'copy' keyword arguments. To learn more, see the migration guide https://numpy.org/devdocs/numpy_2_0_migration_guide.html#adapting-to-changes-in-the-copy-keyword\n",
      "  prediction = np.array(predictions)\n"
     ]
    },
    {
     "name": "stdout",
     "output_type": "stream",
     "text": [
      "\t> Saved: 12_autoEncoderMutation_vehicle0\n"
     ]
    },
    {
     "name": "stderr",
     "output_type": "stream",
     "text": [
      "C:\\Users\\RjKim\\AppData\\Local\\Temp\\ipykernel_33324\\975327388.py:417: DeprecationWarning: __array__ implementation doesn't accept a copy keyword, so passing copy=False failed. __array__ must implement 'dtype' and 'copy' keyword arguments. To learn more, see the migration guide https://numpy.org/devdocs/numpy_2_0_migration_guide.html#adapting-to-changes-in-the-copy-keyword\n",
      "  prediction = np.array(predictions)\n"
     ]
    },
    {
     "name": "stdout",
     "output_type": "stream",
     "text": [
      "\t> Saved: 13_autoEncoderMutation_vehicle0\n"
     ]
    },
    {
     "name": "stderr",
     "output_type": "stream",
     "text": [
      "e:\\Code\\3_13_venv\\Lib\\site-packages\\joblib\\externals\\loky\\process_executor.py:752: UserWarning: A worker stopped while some jobs were given to the executor. This can be caused by a too short worker timeout or by a memory leak.\n",
      "  warnings.warn(\n",
      "C:\\Users\\RjKim\\AppData\\Local\\Temp\\ipykernel_33324\\975327388.py:417: DeprecationWarning: __array__ implementation doesn't accept a copy keyword, so passing copy=False failed. __array__ must implement 'dtype' and 'copy' keyword arguments. To learn more, see the migration guide https://numpy.org/devdocs/numpy_2_0_migration_guide.html#adapting-to-changes-in-the-copy-keyword\n",
      "  prediction = np.array(predictions)\n"
     ]
    },
    {
     "name": "stdout",
     "output_type": "stream",
     "text": [
      "\t> Saved: 14_autoEncoderMutation_vehicle0\n"
     ]
    },
    {
     "name": "stderr",
     "output_type": "stream",
     "text": [
      "C:\\Users\\RjKim\\AppData\\Local\\Temp\\ipykernel_33324\\975327388.py:417: DeprecationWarning: __array__ implementation doesn't accept a copy keyword, so passing copy=False failed. __array__ must implement 'dtype' and 'copy' keyword arguments. To learn more, see the migration guide https://numpy.org/devdocs/numpy_2_0_migration_guide.html#adapting-to-changes-in-the-copy-keyword\n",
      "  prediction = np.array(predictions)\n"
     ]
    },
    {
     "name": "stdout",
     "output_type": "stream",
     "text": [
      "\t> Saved: 15_autoEncoderMutation_vehicle0\n"
     ]
    },
    {
     "name": "stderr",
     "output_type": "stream",
     "text": [
      "C:\\Users\\RjKim\\AppData\\Local\\Temp\\ipykernel_33324\\975327388.py:417: DeprecationWarning: __array__ implementation doesn't accept a copy keyword, so passing copy=False failed. __array__ must implement 'dtype' and 'copy' keyword arguments. To learn more, see the migration guide https://numpy.org/devdocs/numpy_2_0_migration_guide.html#adapting-to-changes-in-the-copy-keyword\n",
      "  prediction = np.array(predictions)\n"
     ]
    },
    {
     "name": "stdout",
     "output_type": "stream",
     "text": [
      "\t> Saved: 16_autoEncoderMutation_vehicle0\n"
     ]
    },
    {
     "name": "stderr",
     "output_type": "stream",
     "text": [
      "C:\\Users\\RjKim\\AppData\\Local\\Temp\\ipykernel_33324\\975327388.py:417: DeprecationWarning: __array__ implementation doesn't accept a copy keyword, so passing copy=False failed. __array__ must implement 'dtype' and 'copy' keyword arguments. To learn more, see the migration guide https://numpy.org/devdocs/numpy_2_0_migration_guide.html#adapting-to-changes-in-the-copy-keyword\n",
      "  prediction = np.array(predictions)\n"
     ]
    },
    {
     "name": "stdout",
     "output_type": "stream",
     "text": [
      "\t> Saved: 17_autoEncoderMutation_vehicle0\n"
     ]
    },
    {
     "name": "stderr",
     "output_type": "stream",
     "text": [
      "C:\\Users\\RjKim\\AppData\\Local\\Temp\\ipykernel_33324\\975327388.py:417: DeprecationWarning: __array__ implementation doesn't accept a copy keyword, so passing copy=False failed. __array__ must implement 'dtype' and 'copy' keyword arguments. To learn more, see the migration guide https://numpy.org/devdocs/numpy_2_0_migration_guide.html#adapting-to-changes-in-the-copy-keyword\n",
      "  prediction = np.array(predictions)\n"
     ]
    },
    {
     "name": "stdout",
     "output_type": "stream",
     "text": [
      "\t> Saved: 18_autoEncoderMutation_vehicle0\n"
     ]
    },
    {
     "name": "stderr",
     "output_type": "stream",
     "text": [
      "C:\\Users\\RjKim\\AppData\\Local\\Temp\\ipykernel_33324\\975327388.py:417: DeprecationWarning: __array__ implementation doesn't accept a copy keyword, so passing copy=False failed. __array__ must implement 'dtype' and 'copy' keyword arguments. To learn more, see the migration guide https://numpy.org/devdocs/numpy_2_0_migration_guide.html#adapting-to-changes-in-the-copy-keyword\n",
      "  prediction = np.array(predictions)\n"
     ]
    },
    {
     "name": "stdout",
     "output_type": "stream",
     "text": [
      "\t> Saved: 19_autoEncoderMutation_vehicle0\n"
     ]
    },
    {
     "name": "stderr",
     "output_type": "stream",
     "text": [
      "C:\\Users\\RjKim\\AppData\\Local\\Temp\\ipykernel_33324\\975327388.py:417: DeprecationWarning: __array__ implementation doesn't accept a copy keyword, so passing copy=False failed. __array__ must implement 'dtype' and 'copy' keyword arguments. To learn more, see the migration guide https://numpy.org/devdocs/numpy_2_0_migration_guide.html#adapting-to-changes-in-the-copy-keyword\n",
      "  prediction = np.array(predictions)\n"
     ]
    },
    {
     "name": "stdout",
     "output_type": "stream",
     "text": [
      "\t> Saved: 20_autoEncoderMutation_vehicle0\n"
     ]
    },
    {
     "name": "stderr",
     "output_type": "stream",
     "text": [
      "C:\\Users\\RjKim\\AppData\\Local\\Temp\\ipykernel_33324\\975327388.py:417: DeprecationWarning: __array__ implementation doesn't accept a copy keyword, so passing copy=False failed. __array__ must implement 'dtype' and 'copy' keyword arguments. To learn more, see the migration guide https://numpy.org/devdocs/numpy_2_0_migration_guide.html#adapting-to-changes-in-the-copy-keyword\n",
      "  prediction = np.array(predictions)\n"
     ]
    },
    {
     "name": "stdout",
     "output_type": "stream",
     "text": [
      "\t> Saved: 21_autoEncoderMutation_vehicle0\n"
     ]
    },
    {
     "name": "stderr",
     "output_type": "stream",
     "text": [
      "C:\\Users\\RjKim\\AppData\\Local\\Temp\\ipykernel_33324\\975327388.py:417: DeprecationWarning: __array__ implementation doesn't accept a copy keyword, so passing copy=False failed. __array__ must implement 'dtype' and 'copy' keyword arguments. To learn more, see the migration guide https://numpy.org/devdocs/numpy_2_0_migration_guide.html#adapting-to-changes-in-the-copy-keyword\n",
      "  prediction = np.array(predictions)\n"
     ]
    },
    {
     "name": "stdout",
     "output_type": "stream",
     "text": [
      "\t> Saved: 22_autoEncoderMutation_vehicle0\n"
     ]
    },
    {
     "name": "stderr",
     "output_type": "stream",
     "text": [
      "C:\\Users\\RjKim\\AppData\\Local\\Temp\\ipykernel_33324\\975327388.py:417: DeprecationWarning: __array__ implementation doesn't accept a copy keyword, so passing copy=False failed. __array__ must implement 'dtype' and 'copy' keyword arguments. To learn more, see the migration guide https://numpy.org/devdocs/numpy_2_0_migration_guide.html#adapting-to-changes-in-the-copy-keyword\n",
      "  prediction = np.array(predictions)\n"
     ]
    },
    {
     "name": "stdout",
     "output_type": "stream",
     "text": [
      "\t> Saved: 23_autoEncoderMutation_vehicle0\n"
     ]
    },
    {
     "name": "stderr",
     "output_type": "stream",
     "text": [
      "C:\\Users\\RjKim\\AppData\\Local\\Temp\\ipykernel_33324\\975327388.py:417: DeprecationWarning: __array__ implementation doesn't accept a copy keyword, so passing copy=False failed. __array__ must implement 'dtype' and 'copy' keyword arguments. To learn more, see the migration guide https://numpy.org/devdocs/numpy_2_0_migration_guide.html#adapting-to-changes-in-the-copy-keyword\n",
      "  prediction = np.array(predictions)\n"
     ]
    },
    {
     "name": "stdout",
     "output_type": "stream",
     "text": [
      "\t> Saved: 24_autoEncoderMutation_vehicle0\n"
     ]
    },
    {
     "name": "stderr",
     "output_type": "stream",
     "text": [
      "C:\\Users\\RjKim\\AppData\\Local\\Temp\\ipykernel_33324\\975327388.py:417: DeprecationWarning: __array__ implementation doesn't accept a copy keyword, so passing copy=False failed. __array__ must implement 'dtype' and 'copy' keyword arguments. To learn more, see the migration guide https://numpy.org/devdocs/numpy_2_0_migration_guide.html#adapting-to-changes-in-the-copy-keyword\n",
      "  prediction = np.array(predictions)\n"
     ]
    },
    {
     "name": "stdout",
     "output_type": "stream",
     "text": [
      "\t> Saved: 25_autoEncoderMutation_vehicle0\n"
     ]
    },
    {
     "name": "stderr",
     "output_type": "stream",
     "text": [
      "C:\\Users\\RjKim\\AppData\\Local\\Temp\\ipykernel_33324\\975327388.py:417: DeprecationWarning: __array__ implementation doesn't accept a copy keyword, so passing copy=False failed. __array__ must implement 'dtype' and 'copy' keyword arguments. To learn more, see the migration guide https://numpy.org/devdocs/numpy_2_0_migration_guide.html#adapting-to-changes-in-the-copy-keyword\n",
      "  prediction = np.array(predictions)\n"
     ]
    },
    {
     "name": "stdout",
     "output_type": "stream",
     "text": [
      "\t> Saved: 26_autoEncoderMutation_vehicle0\n"
     ]
    },
    {
     "name": "stderr",
     "output_type": "stream",
     "text": [
      "C:\\Users\\RjKim\\AppData\\Local\\Temp\\ipykernel_33324\\975327388.py:417: DeprecationWarning: __array__ implementation doesn't accept a copy keyword, so passing copy=False failed. __array__ must implement 'dtype' and 'copy' keyword arguments. To learn more, see the migration guide https://numpy.org/devdocs/numpy_2_0_migration_guide.html#adapting-to-changes-in-the-copy-keyword\n",
      "  prediction = np.array(predictions)\n"
     ]
    },
    {
     "name": "stdout",
     "output_type": "stream",
     "text": [
      "\t> Saved: 27_autoEncoderMutation_vehicle0\n"
     ]
    },
    {
     "name": "stderr",
     "output_type": "stream",
     "text": [
      "C:\\Users\\RjKim\\AppData\\Local\\Temp\\ipykernel_33324\\975327388.py:417: DeprecationWarning: __array__ implementation doesn't accept a copy keyword, so passing copy=False failed. __array__ must implement 'dtype' and 'copy' keyword arguments. To learn more, see the migration guide https://numpy.org/devdocs/numpy_2_0_migration_guide.html#adapting-to-changes-in-the-copy-keyword\n",
      "  prediction = np.array(predictions)\n"
     ]
    },
    {
     "name": "stdout",
     "output_type": "stream",
     "text": [
      "\t> Saved: 28_autoEncoderMutation_vehicle0\n"
     ]
    },
    {
     "name": "stderr",
     "output_type": "stream",
     "text": [
      "C:\\Users\\RjKim\\AppData\\Local\\Temp\\ipykernel_33324\\975327388.py:417: DeprecationWarning: __array__ implementation doesn't accept a copy keyword, so passing copy=False failed. __array__ must implement 'dtype' and 'copy' keyword arguments. To learn more, see the migration guide https://numpy.org/devdocs/numpy_2_0_migration_guide.html#adapting-to-changes-in-the-copy-keyword\n",
      "  prediction = np.array(predictions)\n"
     ]
    },
    {
     "name": "stdout",
     "output_type": "stream",
     "text": [
      "\t> Saved: 29_autoEncoderMutation_vehicle0\n"
     ]
    },
    {
     "name": "stderr",
     "output_type": "stream",
     "text": [
      "C:\\Users\\RjKim\\AppData\\Local\\Temp\\ipykernel_33324\\975327388.py:417: DeprecationWarning: __array__ implementation doesn't accept a copy keyword, so passing copy=False failed. __array__ must implement 'dtype' and 'copy' keyword arguments. To learn more, see the migration guide https://numpy.org/devdocs/numpy_2_0_migration_guide.html#adapting-to-changes-in-the-copy-keyword\n",
      "  prediction = np.array(predictions)\n"
     ]
    },
    {
     "name": "stdout",
     "output_type": "stream",
     "text": [
      "\t> Saved: 30_autoEncoderMutation_vehicle0\n"
     ]
    },
    {
     "name": "stderr",
     "output_type": "stream",
     "text": [
      "C:\\Users\\RjKim\\AppData\\Local\\Temp\\ipykernel_33324\\975327388.py:417: DeprecationWarning: __array__ implementation doesn't accept a copy keyword, so passing copy=False failed. __array__ must implement 'dtype' and 'copy' keyword arguments. To learn more, see the migration guide https://numpy.org/devdocs/numpy_2_0_migration_guide.html#adapting-to-changes-in-the-copy-keyword\n",
      "  prediction = np.array(predictions)\n"
     ]
    },
    {
     "name": "stdout",
     "output_type": "stream",
     "text": [
      "\t> Saved: 0_autoEncoderMutation_yeast1\n"
     ]
    },
    {
     "name": "stderr",
     "output_type": "stream",
     "text": [
      "C:\\Users\\RjKim\\AppData\\Local\\Temp\\ipykernel_33324\\975327388.py:417: DeprecationWarning: __array__ implementation doesn't accept a copy keyword, so passing copy=False failed. __array__ must implement 'dtype' and 'copy' keyword arguments. To learn more, see the migration guide https://numpy.org/devdocs/numpy_2_0_migration_guide.html#adapting-to-changes-in-the-copy-keyword\n",
      "  prediction = np.array(predictions)\n"
     ]
    },
    {
     "name": "stdout",
     "output_type": "stream",
     "text": [
      "\t> Saved: 1_autoEncoderMutation_yeast1\n"
     ]
    },
    {
     "name": "stderr",
     "output_type": "stream",
     "text": [
      "C:\\Users\\RjKim\\AppData\\Local\\Temp\\ipykernel_33324\\975327388.py:417: DeprecationWarning: __array__ implementation doesn't accept a copy keyword, so passing copy=False failed. __array__ must implement 'dtype' and 'copy' keyword arguments. To learn more, see the migration guide https://numpy.org/devdocs/numpy_2_0_migration_guide.html#adapting-to-changes-in-the-copy-keyword\n",
      "  prediction = np.array(predictions)\n"
     ]
    },
    {
     "name": "stdout",
     "output_type": "stream",
     "text": [
      "\t> Saved: 2_autoEncoderMutation_yeast1\n"
     ]
    },
    {
     "name": "stderr",
     "output_type": "stream",
     "text": [
      "C:\\Users\\RjKim\\AppData\\Local\\Temp\\ipykernel_33324\\975327388.py:417: DeprecationWarning: __array__ implementation doesn't accept a copy keyword, so passing copy=False failed. __array__ must implement 'dtype' and 'copy' keyword arguments. To learn more, see the migration guide https://numpy.org/devdocs/numpy_2_0_migration_guide.html#adapting-to-changes-in-the-copy-keyword\n",
      "  prediction = np.array(predictions)\n"
     ]
    },
    {
     "name": "stdout",
     "output_type": "stream",
     "text": [
      "\t> Saved: 3_autoEncoderMutation_yeast1\n"
     ]
    },
    {
     "name": "stderr",
     "output_type": "stream",
     "text": [
      "C:\\Users\\RjKim\\AppData\\Local\\Temp\\ipykernel_33324\\975327388.py:417: DeprecationWarning: __array__ implementation doesn't accept a copy keyword, so passing copy=False failed. __array__ must implement 'dtype' and 'copy' keyword arguments. To learn more, see the migration guide https://numpy.org/devdocs/numpy_2_0_migration_guide.html#adapting-to-changes-in-the-copy-keyword\n",
      "  prediction = np.array(predictions)\n"
     ]
    },
    {
     "name": "stdout",
     "output_type": "stream",
     "text": [
      "\t> Saved: 4_autoEncoderMutation_yeast1\n"
     ]
    },
    {
     "name": "stderr",
     "output_type": "stream",
     "text": [
      "C:\\Users\\RjKim\\AppData\\Local\\Temp\\ipykernel_33324\\975327388.py:417: DeprecationWarning: __array__ implementation doesn't accept a copy keyword, so passing copy=False failed. __array__ must implement 'dtype' and 'copy' keyword arguments. To learn more, see the migration guide https://numpy.org/devdocs/numpy_2_0_migration_guide.html#adapting-to-changes-in-the-copy-keyword\n",
      "  prediction = np.array(predictions)\n"
     ]
    },
    {
     "name": "stdout",
     "output_type": "stream",
     "text": [
      "\t> Saved: 5_autoEncoderMutation_yeast1\n"
     ]
    },
    {
     "name": "stderr",
     "output_type": "stream",
     "text": [
      "C:\\Users\\RjKim\\AppData\\Local\\Temp\\ipykernel_33324\\975327388.py:417: DeprecationWarning: __array__ implementation doesn't accept a copy keyword, so passing copy=False failed. __array__ must implement 'dtype' and 'copy' keyword arguments. To learn more, see the migration guide https://numpy.org/devdocs/numpy_2_0_migration_guide.html#adapting-to-changes-in-the-copy-keyword\n",
      "  prediction = np.array(predictions)\n"
     ]
    },
    {
     "name": "stdout",
     "output_type": "stream",
     "text": [
      "\t> Saved: 6_autoEncoderMutation_yeast1\n"
     ]
    },
    {
     "name": "stderr",
     "output_type": "stream",
     "text": [
      "C:\\Users\\RjKim\\AppData\\Local\\Temp\\ipykernel_33324\\975327388.py:417: DeprecationWarning: __array__ implementation doesn't accept a copy keyword, so passing copy=False failed. __array__ must implement 'dtype' and 'copy' keyword arguments. To learn more, see the migration guide https://numpy.org/devdocs/numpy_2_0_migration_guide.html#adapting-to-changes-in-the-copy-keyword\n",
      "  prediction = np.array(predictions)\n"
     ]
    },
    {
     "name": "stdout",
     "output_type": "stream",
     "text": [
      "\t> Saved: 7_autoEncoderMutation_yeast1\n"
     ]
    },
    {
     "name": "stderr",
     "output_type": "stream",
     "text": [
      "C:\\Users\\RjKim\\AppData\\Local\\Temp\\ipykernel_33324\\975327388.py:417: DeprecationWarning: __array__ implementation doesn't accept a copy keyword, so passing copy=False failed. __array__ must implement 'dtype' and 'copy' keyword arguments. To learn more, see the migration guide https://numpy.org/devdocs/numpy_2_0_migration_guide.html#adapting-to-changes-in-the-copy-keyword\n",
      "  prediction = np.array(predictions)\n"
     ]
    },
    {
     "name": "stdout",
     "output_type": "stream",
     "text": [
      "\t> Saved: 8_autoEncoderMutation_yeast1\n"
     ]
    },
    {
     "name": "stderr",
     "output_type": "stream",
     "text": [
      "C:\\Users\\RjKim\\AppData\\Local\\Temp\\ipykernel_33324\\975327388.py:417: DeprecationWarning: __array__ implementation doesn't accept a copy keyword, so passing copy=False failed. __array__ must implement 'dtype' and 'copy' keyword arguments. To learn more, see the migration guide https://numpy.org/devdocs/numpy_2_0_migration_guide.html#adapting-to-changes-in-the-copy-keyword\n",
      "  prediction = np.array(predictions)\n"
     ]
    },
    {
     "name": "stdout",
     "output_type": "stream",
     "text": [
      "\t> Saved: 9_autoEncoderMutation_yeast1\n"
     ]
    },
    {
     "name": "stderr",
     "output_type": "stream",
     "text": [
      "C:\\Users\\RjKim\\AppData\\Local\\Temp\\ipykernel_33324\\975327388.py:417: DeprecationWarning: __array__ implementation doesn't accept a copy keyword, so passing copy=False failed. __array__ must implement 'dtype' and 'copy' keyword arguments. To learn more, see the migration guide https://numpy.org/devdocs/numpy_2_0_migration_guide.html#adapting-to-changes-in-the-copy-keyword\n",
      "  prediction = np.array(predictions)\n"
     ]
    },
    {
     "name": "stdout",
     "output_type": "stream",
     "text": [
      "\t> Saved: 10_autoEncoderMutation_yeast1\n"
     ]
    },
    {
     "name": "stderr",
     "output_type": "stream",
     "text": [
      "C:\\Users\\RjKim\\AppData\\Local\\Temp\\ipykernel_33324\\975327388.py:417: DeprecationWarning: __array__ implementation doesn't accept a copy keyword, so passing copy=False failed. __array__ must implement 'dtype' and 'copy' keyword arguments. To learn more, see the migration guide https://numpy.org/devdocs/numpy_2_0_migration_guide.html#adapting-to-changes-in-the-copy-keyword\n",
      "  prediction = np.array(predictions)\n"
     ]
    },
    {
     "name": "stdout",
     "output_type": "stream",
     "text": [
      "\t> Saved: 11_autoEncoderMutation_yeast1\n"
     ]
    },
    {
     "name": "stderr",
     "output_type": "stream",
     "text": [
      "C:\\Users\\RjKim\\AppData\\Local\\Temp\\ipykernel_33324\\975327388.py:417: DeprecationWarning: __array__ implementation doesn't accept a copy keyword, so passing copy=False failed. __array__ must implement 'dtype' and 'copy' keyword arguments. To learn more, see the migration guide https://numpy.org/devdocs/numpy_2_0_migration_guide.html#adapting-to-changes-in-the-copy-keyword\n",
      "  prediction = np.array(predictions)\n"
     ]
    },
    {
     "name": "stdout",
     "output_type": "stream",
     "text": [
      "\t> Saved: 12_autoEncoderMutation_yeast1\n"
     ]
    },
    {
     "name": "stderr",
     "output_type": "stream",
     "text": [
      "C:\\Users\\RjKim\\AppData\\Local\\Temp\\ipykernel_33324\\975327388.py:417: DeprecationWarning: __array__ implementation doesn't accept a copy keyword, so passing copy=False failed. __array__ must implement 'dtype' and 'copy' keyword arguments. To learn more, see the migration guide https://numpy.org/devdocs/numpy_2_0_migration_guide.html#adapting-to-changes-in-the-copy-keyword\n",
      "  prediction = np.array(predictions)\n"
     ]
    },
    {
     "name": "stdout",
     "output_type": "stream",
     "text": [
      "\t> Saved: 13_autoEncoderMutation_yeast1\n"
     ]
    },
    {
     "name": "stderr",
     "output_type": "stream",
     "text": [
      "C:\\Users\\RjKim\\AppData\\Local\\Temp\\ipykernel_33324\\975327388.py:417: DeprecationWarning: __array__ implementation doesn't accept a copy keyword, so passing copy=False failed. __array__ must implement 'dtype' and 'copy' keyword arguments. To learn more, see the migration guide https://numpy.org/devdocs/numpy_2_0_migration_guide.html#adapting-to-changes-in-the-copy-keyword\n",
      "  prediction = np.array(predictions)\n"
     ]
    },
    {
     "name": "stdout",
     "output_type": "stream",
     "text": [
      "\t> Saved: 14_autoEncoderMutation_yeast1\n"
     ]
    },
    {
     "name": "stderr",
     "output_type": "stream",
     "text": [
      "C:\\Users\\RjKim\\AppData\\Local\\Temp\\ipykernel_33324\\975327388.py:417: DeprecationWarning: __array__ implementation doesn't accept a copy keyword, so passing copy=False failed. __array__ must implement 'dtype' and 'copy' keyword arguments. To learn more, see the migration guide https://numpy.org/devdocs/numpy_2_0_migration_guide.html#adapting-to-changes-in-the-copy-keyword\n",
      "  prediction = np.array(predictions)\n"
     ]
    },
    {
     "name": "stdout",
     "output_type": "stream",
     "text": [
      "\t> Saved: 15_autoEncoderMutation_yeast1\n"
     ]
    },
    {
     "name": "stderr",
     "output_type": "stream",
     "text": [
      "C:\\Users\\RjKim\\AppData\\Local\\Temp\\ipykernel_33324\\975327388.py:417: DeprecationWarning: __array__ implementation doesn't accept a copy keyword, so passing copy=False failed. __array__ must implement 'dtype' and 'copy' keyword arguments. To learn more, see the migration guide https://numpy.org/devdocs/numpy_2_0_migration_guide.html#adapting-to-changes-in-the-copy-keyword\n",
      "  prediction = np.array(predictions)\n"
     ]
    },
    {
     "name": "stdout",
     "output_type": "stream",
     "text": [
      "\t> Saved: 16_autoEncoderMutation_yeast1\n"
     ]
    },
    {
     "name": "stderr",
     "output_type": "stream",
     "text": [
      "C:\\Users\\RjKim\\AppData\\Local\\Temp\\ipykernel_33324\\975327388.py:417: DeprecationWarning: __array__ implementation doesn't accept a copy keyword, so passing copy=False failed. __array__ must implement 'dtype' and 'copy' keyword arguments. To learn more, see the migration guide https://numpy.org/devdocs/numpy_2_0_migration_guide.html#adapting-to-changes-in-the-copy-keyword\n",
      "  prediction = np.array(predictions)\n"
     ]
    },
    {
     "name": "stdout",
     "output_type": "stream",
     "text": [
      "\t> Saved: 17_autoEncoderMutation_yeast1\n"
     ]
    },
    {
     "name": "stderr",
     "output_type": "stream",
     "text": [
      "C:\\Users\\RjKim\\AppData\\Local\\Temp\\ipykernel_33324\\975327388.py:417: DeprecationWarning: __array__ implementation doesn't accept a copy keyword, so passing copy=False failed. __array__ must implement 'dtype' and 'copy' keyword arguments. To learn more, see the migration guide https://numpy.org/devdocs/numpy_2_0_migration_guide.html#adapting-to-changes-in-the-copy-keyword\n",
      "  prediction = np.array(predictions)\n"
     ]
    },
    {
     "name": "stdout",
     "output_type": "stream",
     "text": [
      "\t> Saved: 18_autoEncoderMutation_yeast1\n"
     ]
    },
    {
     "name": "stderr",
     "output_type": "stream",
     "text": [
      "C:\\Users\\RjKim\\AppData\\Local\\Temp\\ipykernel_33324\\975327388.py:417: DeprecationWarning: __array__ implementation doesn't accept a copy keyword, so passing copy=False failed. __array__ must implement 'dtype' and 'copy' keyword arguments. To learn more, see the migration guide https://numpy.org/devdocs/numpy_2_0_migration_guide.html#adapting-to-changes-in-the-copy-keyword\n",
      "  prediction = np.array(predictions)\n"
     ]
    },
    {
     "name": "stdout",
     "output_type": "stream",
     "text": [
      "\t> Saved: 19_autoEncoderMutation_yeast1\n"
     ]
    },
    {
     "name": "stderr",
     "output_type": "stream",
     "text": [
      "C:\\Users\\RjKim\\AppData\\Local\\Temp\\ipykernel_33324\\975327388.py:417: DeprecationWarning: __array__ implementation doesn't accept a copy keyword, so passing copy=False failed. __array__ must implement 'dtype' and 'copy' keyword arguments. To learn more, see the migration guide https://numpy.org/devdocs/numpy_2_0_migration_guide.html#adapting-to-changes-in-the-copy-keyword\n",
      "  prediction = np.array(predictions)\n"
     ]
    },
    {
     "name": "stdout",
     "output_type": "stream",
     "text": [
      "\t> Saved: 20_autoEncoderMutation_yeast1\n"
     ]
    },
    {
     "name": "stderr",
     "output_type": "stream",
     "text": [
      "C:\\Users\\RjKim\\AppData\\Local\\Temp\\ipykernel_33324\\975327388.py:417: DeprecationWarning: __array__ implementation doesn't accept a copy keyword, so passing copy=False failed. __array__ must implement 'dtype' and 'copy' keyword arguments. To learn more, see the migration guide https://numpy.org/devdocs/numpy_2_0_migration_guide.html#adapting-to-changes-in-the-copy-keyword\n",
      "  prediction = np.array(predictions)\n"
     ]
    },
    {
     "name": "stdout",
     "output_type": "stream",
     "text": [
      "\t> Saved: 21_autoEncoderMutation_yeast1\n"
     ]
    },
    {
     "name": "stderr",
     "output_type": "stream",
     "text": [
      "C:\\Users\\RjKim\\AppData\\Local\\Temp\\ipykernel_33324\\975327388.py:417: DeprecationWarning: __array__ implementation doesn't accept a copy keyword, so passing copy=False failed. __array__ must implement 'dtype' and 'copy' keyword arguments. To learn more, see the migration guide https://numpy.org/devdocs/numpy_2_0_migration_guide.html#adapting-to-changes-in-the-copy-keyword\n",
      "  prediction = np.array(predictions)\n"
     ]
    },
    {
     "name": "stdout",
     "output_type": "stream",
     "text": [
      "\t> Saved: 22_autoEncoderMutation_yeast1\n"
     ]
    },
    {
     "name": "stderr",
     "output_type": "stream",
     "text": [
      "C:\\Users\\RjKim\\AppData\\Local\\Temp\\ipykernel_33324\\975327388.py:417: DeprecationWarning: __array__ implementation doesn't accept a copy keyword, so passing copy=False failed. __array__ must implement 'dtype' and 'copy' keyword arguments. To learn more, see the migration guide https://numpy.org/devdocs/numpy_2_0_migration_guide.html#adapting-to-changes-in-the-copy-keyword\n",
      "  prediction = np.array(predictions)\n"
     ]
    },
    {
     "name": "stdout",
     "output_type": "stream",
     "text": [
      "\t> Saved: 23_autoEncoderMutation_yeast1\n"
     ]
    },
    {
     "name": "stderr",
     "output_type": "stream",
     "text": [
      "C:\\Users\\RjKim\\AppData\\Local\\Temp\\ipykernel_33324\\975327388.py:417: DeprecationWarning: __array__ implementation doesn't accept a copy keyword, so passing copy=False failed. __array__ must implement 'dtype' and 'copy' keyword arguments. To learn more, see the migration guide https://numpy.org/devdocs/numpy_2_0_migration_guide.html#adapting-to-changes-in-the-copy-keyword\n",
      "  prediction = np.array(predictions)\n"
     ]
    },
    {
     "name": "stdout",
     "output_type": "stream",
     "text": [
      "\t> Saved: 24_autoEncoderMutation_yeast1\n"
     ]
    },
    {
     "name": "stderr",
     "output_type": "stream",
     "text": [
      "C:\\Users\\RjKim\\AppData\\Local\\Temp\\ipykernel_33324\\975327388.py:417: DeprecationWarning: __array__ implementation doesn't accept a copy keyword, so passing copy=False failed. __array__ must implement 'dtype' and 'copy' keyword arguments. To learn more, see the migration guide https://numpy.org/devdocs/numpy_2_0_migration_guide.html#adapting-to-changes-in-the-copy-keyword\n",
      "  prediction = np.array(predictions)\n"
     ]
    },
    {
     "name": "stdout",
     "output_type": "stream",
     "text": [
      "\t> Saved: 25_autoEncoderMutation_yeast1\n"
     ]
    },
    {
     "name": "stderr",
     "output_type": "stream",
     "text": [
      "C:\\Users\\RjKim\\AppData\\Local\\Temp\\ipykernel_33324\\975327388.py:417: DeprecationWarning: __array__ implementation doesn't accept a copy keyword, so passing copy=False failed. __array__ must implement 'dtype' and 'copy' keyword arguments. To learn more, see the migration guide https://numpy.org/devdocs/numpy_2_0_migration_guide.html#adapting-to-changes-in-the-copy-keyword\n",
      "  prediction = np.array(predictions)\n"
     ]
    },
    {
     "name": "stdout",
     "output_type": "stream",
     "text": [
      "\t> Saved: 26_autoEncoderMutation_yeast1\n"
     ]
    },
    {
     "name": "stderr",
     "output_type": "stream",
     "text": [
      "C:\\Users\\RjKim\\AppData\\Local\\Temp\\ipykernel_33324\\975327388.py:417: DeprecationWarning: __array__ implementation doesn't accept a copy keyword, so passing copy=False failed. __array__ must implement 'dtype' and 'copy' keyword arguments. To learn more, see the migration guide https://numpy.org/devdocs/numpy_2_0_migration_guide.html#adapting-to-changes-in-the-copy-keyword\n",
      "  prediction = np.array(predictions)\n"
     ]
    },
    {
     "name": "stdout",
     "output_type": "stream",
     "text": [
      "\t> Saved: 27_autoEncoderMutation_yeast1\n"
     ]
    },
    {
     "name": "stderr",
     "output_type": "stream",
     "text": [
      "C:\\Users\\RjKim\\AppData\\Local\\Temp\\ipykernel_33324\\975327388.py:417: DeprecationWarning: __array__ implementation doesn't accept a copy keyword, so passing copy=False failed. __array__ must implement 'dtype' and 'copy' keyword arguments. To learn more, see the migration guide https://numpy.org/devdocs/numpy_2_0_migration_guide.html#adapting-to-changes-in-the-copy-keyword\n",
      "  prediction = np.array(predictions)\n"
     ]
    },
    {
     "name": "stdout",
     "output_type": "stream",
     "text": [
      "\t> Saved: 28_autoEncoderMutation_yeast1\n"
     ]
    },
    {
     "name": "stderr",
     "output_type": "stream",
     "text": [
      "C:\\Users\\RjKim\\AppData\\Local\\Temp\\ipykernel_33324\\975327388.py:417: DeprecationWarning: __array__ implementation doesn't accept a copy keyword, so passing copy=False failed. __array__ must implement 'dtype' and 'copy' keyword arguments. To learn more, see the migration guide https://numpy.org/devdocs/numpy_2_0_migration_guide.html#adapting-to-changes-in-the-copy-keyword\n",
      "  prediction = np.array(predictions)\n"
     ]
    },
    {
     "name": "stdout",
     "output_type": "stream",
     "text": [
      "\t> Saved: 29_autoEncoderMutation_yeast1\n"
     ]
    },
    {
     "name": "stderr",
     "output_type": "stream",
     "text": [
      "C:\\Users\\RjKim\\AppData\\Local\\Temp\\ipykernel_33324\\975327388.py:417: DeprecationWarning: __array__ implementation doesn't accept a copy keyword, so passing copy=False failed. __array__ must implement 'dtype' and 'copy' keyword arguments. To learn more, see the migration guide https://numpy.org/devdocs/numpy_2_0_migration_guide.html#adapting-to-changes-in-the-copy-keyword\n",
      "  prediction = np.array(predictions)\n"
     ]
    },
    {
     "name": "stdout",
     "output_type": "stream",
     "text": [
      "\t> Saved: 30_autoEncoderMutation_yeast1\n"
     ]
    }
   ],
   "source": [
    "for folder in os.listdir(datasets_path):\n",
    "\tpackages = []\n",
    "\tx, y, splits = prepare_splits(os.path.join(datasets_path, folder, f\"{folder}.csv\"))\n",
    "\tfor c, (train_idx, test_idx, validation_idx) in enumerate(splits):\n",
    "\t\tpackages.append((x, y, train_idx, validation_idx, f\"{c}_autoEncoderMutation_{folder}\" ))\n",
    "\n",
    "\tfor package in packages:\n",
    "\t\tresult = AutoEncoder_execute(package)\n",
    "\t\twith open(os.path.join(save_path, f\"{result['name']}.pickle\"), 'wb') as fh:\n",
    "\t\t\tpickle.dump(result, fh)\t\n",
    "\t\t\tprint(f\"\\t> Saved: {result['name']}\")\n"
   ]
  },
  {
   "cell_type": "markdown",
   "metadata": {},
   "source": [
    "# Out of distribution ideal mutation operator"
   ]
  },
  {
   "cell_type": "code",
   "execution_count": 12,
   "metadata": {},
   "outputs": [
    {
     "name": "stderr",
     "output_type": "stream",
     "text": [
      "C:\\Users\\RjKim\\AppData\\Local\\Temp\\ipykernel_25796\\2443781699.py:46: DeprecationWarning: __array__ implementation doesn't accept a copy keyword, so passing copy=False failed. __array__ must implement 'dtype' and 'copy' keyword arguments. To learn more, see the migration guide https://numpy.org/devdocs/numpy_2_0_migration_guide.html#adapting-to-changes-in-the-copy-keyword\n",
      "  prediction = np.array(predictions)\n"
     ]
    },
    {
     "name": "stdout",
     "output_type": "stream",
     "text": [
      "\t> Saved: 0_outOfDistMutation_australian\n",
      "Baseline valdiation 0.6453488372093024\n",
      "Baseline test 0.6473988439306358\n",
      "optimzed valdiation 0.8081395348837209\n",
      "optimzed test 0.6069364161849711\n",
      "optimzed ideal 0.6069364161849711\n"
     ]
    }
   ],
   "source": [
    "class DistMutation(Mutation):\n",
    "\tcurr_MLP = None\n",
    "\tdevice = torch.device('cuda' if torch.cuda.is_available() else 'cpu')\n",
    "\tnum_synthetic_examples = 500000\n",
    "\ttrain_epochs = 50\n",
    "\tbatch_size = 215\n",
    "\tprimary_objective = GenericOptimizer.calculate_overall_error\n",
    "\tsecondary_objectives = [\n",
    "\t\t[GenericOptimizer.calculate_num_examples],\n",
    "\t\t[GenericOptimizer.calculate_class0_error],\n",
    "\t\t[GenericOptimizer.calculate_class0_inverse_f1],\n",
    "\t\t[GenericOptimizer.calculate_class0_inverse_precision],\n",
    "\t\t[GenericOptimizer.calculate_class0_inverse_recall],\n",
    "\t\t[GenericOptimizer.calculate_class1_error],\n",
    "\t\t[GenericOptimizer.calculate_class1_inverse_f1],\n",
    "\t\t[GenericOptimizer.calculate_class1_inverse_precision],\n",
    "\t\t[GenericOptimizer.calculate_class1_inverse_recall],\n",
    "\t\t[GenericOptimizer.calculate_overall_inverse_f1],\n",
    "\t\t[GenericOptimizer.calculate_overall_inverse_precision],\n",
    "\t\t[GenericOptimizer.calculate_overall_inverse_recall],\n",
    "\t\t[GenericOptimizer.calculate_class0_inverse_precision, GenericOptimizer.calculate_class1_inverse_precision],\n",
    "\t\t[GenericOptimizer.calculate_class0_inverse_recall, GenericOptimizer.calculate_class1_inverse_recall],\n",
    "\t\t[GenericOptimizer.calculate_class0_inverse_f1, GenericOptimizer.calculate_class1_inverse_f1],\n",
    "\t\t[GenericOptimizer.calculate_class0_error, GenericOptimizer.calculate_class1_error],\n",
    "\t]\n",
    "\n",
    "\tdef __init__(self, x_train, y_train, x_validation, y_validation, prediction_threshold=0.5):\n",
    "\t\tsuper().__init__()\n",
    "\t\tself.prediction_thresh = prediction_threshold\n",
    "\t\tsynthesized_x, synthesized_y = DistMutation.create_training_data(x_train, y_train, x_validation, y_validation)\n",
    "\t\tself.model = DistMutation.train_mutation(synthesized_x, synthesized_y)\n",
    "\n",
    "\tdef _do(self, problem, X, **kwargs):\n",
    "\n",
    "\t\tint_x = np.array(X, dtype=np.float32)\n",
    "\t\tdataset = CustomDataset(int_x, int_x)\n",
    "\t\tloader = DataLoader(dataset, batch_size=X.shape[0], shuffle=False)\n",
    "\n",
    "\t\tself.model.eval()\n",
    "\t\twith torch.no_grad():\n",
    "\t\t\tfor data, _ in loader:\n",
    "\t\t\t\tdata = data.to(DistMutation.device)\n",
    "\t\t\t\toutputs = self.model(data)\n",
    "\t\t\t\tpredictions = (outputs > self.prediction_thresh).bool()\n",
    "\n",
    "\t\tprediction = np.array(predictions)\n",
    "\n",
    "\t\ttotal_number_of_genes = X.shape[0] * X.shape[1]\n",
    "\t\tgenes_effected = np.sum(X ^ prediction)\n",
    "\n",
    "\t\tif problem.generation_number not in problem.mutation_history:\n",
    "\t\t\tproblem.mutation_history[problem.generation_number] = []\n",
    "\t\t\n",
    "\t\tproblem.mutation_history[problem.generation_number].append(genes_effected/total_number_of_genes)\n",
    "\t\treturn prediction\n",
    "\n",
    "\t@classmethod\n",
    "\tdef train_mutation(cls, x_train, y_train):\n",
    "\t\ttrain_set = CustomDataset(x_train, y_train)\n",
    "\t\tinput_dim = x_train.shape[1]\n",
    "\t\tbatch_size = cls.batch_size\n",
    "\t\ttrain_loader = DataLoader(train_set, batch_size=batch_size, shuffle=True)\n",
    "\n",
    "\t\tdevice = torch.device('cuda' if torch.cuda.is_available() else 'cpu')\n",
    "\n",
    "\t\t \n",
    "\t\tmodel = MLP(input_dim).to(device)\n",
    "\t\toptimizer = torch.optim.Adam(model.parameters(), lr=0.000001)\n",
    "\t\tcriterion = nn.BCEWithLogitsLoss()\n",
    "\n",
    "\t\tmodel.train()\n",
    "\t\tfor epoch in range(cls.train_epochs):\n",
    "\t\t\tlosses = []\n",
    "\t\t\tfor batch_num, input_data in enumerate(train_loader):\n",
    "\t\t\t\toptimizer.zero_grad()\n",
    "\t\t\t\tx, y = input_data\n",
    "\t\t\t\tx, y = x.to(device).float(), y.to(device)\n",
    "\n",
    "\t\t\t\toutput = model(x)\n",
    "\t\t\t\tloss = criterion(output, y)\n",
    "\t\t\t\tloss.backward()\n",
    "\t\t\t\tlosses.append(loss.item())\n",
    "\t\t\t\toptimizer.step()\n",
    "\n",
    "\t\treturn model\n",
    "\t\n",
    "\t@classmethod\n",
    "\tdef create_training_data(cls, x_train, y_train, x_validation, y_validation):\n",
    "\t\t\n",
    "\t\tsynthesizing_splits = StratifiedShuffleSplit(\n",
    "\t\t\tn_splits=len(cls.secondary_objectives), # create a split for each secondary objective\n",
    "\t\t\ttest_size=0.5, # Half the validation set is randomly excluded\n",
    "\t\t)\t\n",
    "\t\tpackages = []\n",
    "\t\tfor idx, (synthesis_split, out_of_distribution_comparison_split) in enumerate(synthesizing_splits.split(x_validation, y_validation)):\n",
    "\t\t\tpackages.append((\n",
    "\t\t\t\tcls.secondary_objectives[idx],\n",
    "\t\t\t\tx_train,\n",
    "\t\t\t\ty_train,\n",
    "\t\t\t\tx_validation[synthesis_split],\n",
    "\t\t\t\ty_validation[synthesis_split],\n",
    "\t\t\t\tsynthesis_split,\n",
    "\t\t\t\tout_of_distribution_comparison_split\n",
    "\t\t\t))\n",
    "\n",
    "\t\t# Execute optimization and extract the final populations\n",
    "\t\tresults = Parallel(n_jobs=-1)(delayed(cls.execute_training_data_gen)(package) for package in packages)\n",
    "\t\t\n",
    "\t\t# Aggregate all populations into single list containing every unique instance\n",
    "\t\tall_instances = []\n",
    "\t\tin_distribution_error_vals = []\n",
    "\t\tout_of_distribution_error_vals = []\n",
    "\n",
    "\t\tfor result, synthesis_split, comparison_split in results:\n",
    "\t\t\tx_in_distribution = x_validation[synthesis_split]\n",
    "\t\t\ty_in_distribution = y_validation[synthesis_split]\n",
    "\n",
    "\t\t\tx_out_of_distribution = x_validation[comparison_split]\n",
    "\t\t\ty_out_of_distribution = y_validation[comparison_split]\n",
    "\n",
    "\t\t\tfor problem in result.history:\n",
    "\t\t\t\tfor individual in problem.pop:\n",
    "\t\t\t\t\tinstance = individual.X\n",
    "\n",
    "\t\t\t\t\tnum_included_instances = x_train.shape[0]\n",
    "\t\t\t\t\tif num_included_instances >= GenericOptimizer.n_neighbours:\n",
    "\t\t\t\t\t\toptimization_knn = KNeighborsClassifier(n_neighbors=GenericOptimizer.n_neighbours)\n",
    "\t\t\t\t\t\toptimization_knn.fit(\n",
    "\t\t\t\t\t\t\tx_train[instance], \n",
    "\t\t\t\t\t\t\ty_train[instance]\n",
    "\t\t\t\t\t\t)\n",
    "\t\t\t\t\t\ty_pred = optimization_knn.predict(x_in_distribution)\n",
    "\t\t\t\t\t\tacc = accuracy_score(y_in_distribution, y_pred)\n",
    "\t\t\t\t\t\tin_distribution_error = 1-acc\n",
    "\n",
    "\t\t\t\t\t\ty_pred = optimization_knn.predict(x_out_of_distribution)\n",
    "\t\t\t\t\t\tacc = accuracy_score(y_out_of_distribution, y_pred)\n",
    "\t\t\t\t\t\tout_of_distribution_error = 1-acc\n",
    "\t\t\t\t\telse:\n",
    "\t\t\t\t\t\tin_distribution_error = 1\n",
    "\t\t\t\t\t\tout_of_distribution_error = 1\n",
    "\t\t\t\t\t\n",
    "\t\t\t\t\tin_distribution_error_vals.append(in_distribution_error)\n",
    "\t\t\t\t\tout_of_distribution_error_vals.append(out_of_distribution_error)\n",
    "\t\t\t\t\tall_instances.append(instance)\n",
    "\n",
    "\t\tout_of_distribution_error_vals = np.array(out_of_distribution_error_vals)\n",
    "\t\tin_distribution_error_vals = np.array(in_distribution_error_vals)\n",
    "\t\tall_instances = np.array(all_instances)\n",
    "\n",
    "\t\t# sorted_idx_in_dist = np.argsort(out_of_distribution_error_vals)[:3000]\n",
    "\t\tsorted_idx_out_dist = np.argsort(in_distribution_error_vals)[:6000]\n",
    "\n",
    "\t\t# select_indices = list(set(np.concatenate((sorted_idx_in_dist, sorted_idx_out_dist))))\n",
    "\t\t# selected_instances = all_instances[select_indices]\n",
    "\n",
    "\t\tselected_instances = all_instances[sorted_idx_out_dist]\n",
    "\n",
    "\t\t# Create synthetic examples by adding randin noise to each instance. Repeat until threshold is reached.\n",
    "\t\tsynthetic_x, synthetic_y = [], []\n",
    "\t\twhile len(synthetic_x) < cls.num_synthetic_examples:\n",
    "\t\t\t\n",
    "\t\t\tfor y_true in selected_instances:\n",
    "\t\t\t\tx_noised = []\n",
    "\t\t\t\tfor idx, probability in enumerate(np.random.uniform(0.1, 1.0, y_true.shape[0])):\n",
    "\t\t\t\t\tif probability < 0.85:\n",
    "\t\t\t\t\t\tx_noised.append(y_true[idx])                \n",
    "\t\t\t\t\telse:\n",
    "\t\t\t\t\t\tx_noised.append(0 if y_true[idx] == 1 else 1)\n",
    "\n",
    "\t\t\t\tsynthetic_x.append(np.array(x_noised, dtype=np.float32))\n",
    "\t\t\t\tsynthetic_y.append(np.array(y_true, dtype=np.float32))\n",
    "\n",
    "\t\treturn np.array(synthetic_x), np.array(synthetic_y)\n",
    "\t\n",
    "\t@classmethod\n",
    "\tdef execute_training_data_gen(cls, package):\n",
    "\n",
    "\t\tobjectives, x_train, y_train, x_validation, y_validation, validation_split, test_split = package\n",
    "\t\t\n",
    "\t\tobjectives.append(cls.primary_objective)\n",
    "\n",
    "\t\tproblem = GenericOptimizer(\n",
    "\t\t\tx_train, \n",
    "\t\t\ty_train, \n",
    "\t\t\tx_validation, \n",
    "\t\t\ty_validation,\n",
    "\t\t\tobjectives,\n",
    "\t\t\t\"Sequential\"\n",
    "\t\t)\n",
    "\n",
    "\t\talgorithm = NSGA2(\n",
    "\t\t\tpop_size=GenericOptimizer.population_size, \n",
    "\t\t\tsampling=BinaryRandomSampling(), \n",
    "\t\t\tcrossover=HUX(), \n",
    "\t\t\tmutation=BitflipMutation(), \n",
    "\t\t\teliminate_duplicates=True\n",
    "\t\t)\n",
    "\t\tresult = minimize(\n",
    "\t\t\tproblem, \n",
    "\t\t\talgorithm, \n",
    "\t\t\t('n_gen', GenericOptimizer.population_size),\n",
    "\t\t\tsave_history=True\n",
    "\t\t)\n",
    "\t\t\n",
    "\t\treturn result, validation_split, test_split\n",
    "\t\n",
    "def OutOfDist_execute(package):\n",
    "\tx, y, train_idx, validation_idx, run_name = package\n",
    "\tx_train, y_train = x[train_idx], y[train_idx]\n",
    "\tx_validation, y_validation = x[validation_idx], y[validation_idx]\n",
    "\n",
    "\tmutation_operator = DistMutation(\n",
    "\t\tx_train, y_train, \n",
    "\t\tx_validation, y_validation,\n",
    "\t\tprediction_threshold=0.5\n",
    "\t)\n",
    "\n",
    "\talgorithm = NSGA2(\n",
    "\t\tpop_size=GenericOptimizer.population_size, \n",
    "\t\tsampling=BinaryRandomSampling(), \n",
    "\t\tcrossover=HUX(), \n",
    "\t\tmutation=mutation_operator, \n",
    "\t\teliminate_duplicates=True\n",
    "\t)\n",
    "\tproblem = GenericOptimizer(\n",
    "\t\tx_train, \n",
    "\t\ty_train, \n",
    "\t\tx_validation, \n",
    "\t\ty_validation,\n",
    "\t\t[CustomMutation.primary_objective, GenericOptimizer.calculate_num_examples],\n",
    "\t\t\"Sequential\"\n",
    "\t)\n",
    "\tresult = minimize(\n",
    "\t\tproblem, \n",
    "\t\talgorithm, \n",
    "\t\t('n_gen', GenericOptimizer.population_size),\n",
    "\t\tverbose=False,\n",
    "\t\tsave_history=True\n",
    "\t)\n",
    "\n",
    "\tmutation_operator = None\n",
    "\n",
    "\tpackage = {\n",
    "\t\t\"name\": run_name,\n",
    "\t\t\"train\": train_idx,\n",
    "\t\t\"validation\": validation_idx,\n",
    "\t\t\"test\": test_idx,\n",
    "\t\t\"result\": result\n",
    "\t}\n",
    "\treturn package\n",
    "\n",
    "for folder in os.listdir(datasets_path):\n",
    "\tpackages = []\n",
    "\tx, y, splits = prepare_splits(os.path.join(datasets_path, folder, f\"{folder}.csv\"))\n",
    "\tfor c, (train_idx, test_idx, validation_idx) in enumerate(splits):\n",
    "\t\n",
    "\t\tresult = OutOfDist_execute((x, y, train_idx, validation_idx, f\"{c}_outOfDistMutation_{folder}\" ))\n",
    "\n",
    "\t\twith open(os.path.join(save_path, f\"{result['name']}.pickle\"), 'wb') as fh:\n",
    "\t\t\tpickle.dump(result, fh)\t\n",
    "\t\t\tprint(f\"\\t> Saved: {result['name']}\")\n",
    "\n",
    "\t\tresult_dict = result\n",
    "\t\ttrain_idx = result_dict['train']\n",
    "\t\tvalidation_idx = result_dict['validation']\n",
    "\t\tresult = result_dict['result']\n",
    "\t\trun_name = result_dict['name']\n",
    "\n",
    "\t\tif \"autoEncoder\" in run_name or \"outOfDist\" in run_name:\n",
    "\t\t\tdataset = run_name.split('_')[-1]\n",
    "\t\telse:\n",
    "\t\t\tprint(run_name.split(\"_\"))\n",
    "\n",
    "\t\ttry:\n",
    "\t\t\tdf = pd.read_csv(os.path.join(datasets_path, dataset, f'{dataset}.csv'), delimiter=', ', engine='python')\n",
    "\t\t\tx = df.drop(columns='Class')\n",
    "\t\t\ty = df['Class']\n",
    "\t\texcept KeyError:\n",
    "\t\t\tdf = pd.read_csv(os.path.join(datasets_path, dataset, f'{dataset}.csv'), delimiter=',')\n",
    "\t\t\tx = df.drop(columns='Class')\n",
    "\t\t\ty = df['Class']\n",
    "\n",
    "\t\tx = np.array(x)\n",
    "\t\t\n",
    "\t\tlabel_encoder = LabelEncoder()\n",
    "\t\ty = label_encoder.fit_transform(y)\n",
    "\n",
    "\t\tnum_examples = x.shape[0]\n",
    "\t\tall_idx = np.arange(num_examples)\n",
    "\t\tprior_knowledge_idx = combined = np.union1d(train_idx, validation_idx)\n",
    "\t\ttest_idx = np.setdiff1d(all_idx, prior_knowledge_idx)\n",
    "\n",
    "\t\tx_train, y_train = x[train_idx], y[train_idx]\n",
    "\t\tx_validation, y_validation = x[validation_idx], y[validation_idx]\n",
    "\t\tx_test, y_test = x[test_idx], y[test_idx]\n",
    "\n",
    "\t\tvalidation_pareto_front, best_x_train, best_y_train = GenericOptimizer.calculate_optimal_instance(\n",
    "\t\t\tx_train,\n",
    "\t\t\ty_train,\n",
    "\t\t\tx_validation,\n",
    "\t\t\ty_validation,\n",
    "\t\t\tresult.F,\n",
    "\t\t\tresult.X,\n",
    "\t\t\tGenericOptimizer.n_neighbours\n",
    "\t\t)\n",
    "\t\treduction_rate = 1 - (best_x_train.shape[0] / x_train.shape[0])\n",
    "\t\t# optimized_ir = GenericOptimizer.calculate_IR(best_y_train)\n",
    "\t\toptimized_test_err = GenericOptimizer.calculate_overall_error(\n",
    "\t\t\tbest_x_train,\n",
    "\t\t\tbest_y_train,\n",
    "\t\t\tx_test,\n",
    "\t\t\ty_test,\n",
    "\t\t\tGenericOptimizer.n_neighbours\n",
    "\t\t)\n",
    "\t\toptimized_validation_err = GenericOptimizer.calculate_overall_error(\n",
    "\t\t\tbest_x_train,\n",
    "\t\t\tbest_y_train,\n",
    "\t\t\tx_validation,\n",
    "\t\t\ty_validation,\n",
    "\t\t\tGenericOptimizer.n_neighbours\n",
    "\t\t)\n",
    "\t\tbaseline_test_err = GenericOptimizer.calculate_overall_error(\n",
    "\t\t\tx_train,\n",
    "\t\t\ty_train,\n",
    "\t\t\tx_test,\n",
    "\t\t\ty_test,\n",
    "\t\t\tGenericOptimizer.n_neighbours\n",
    "\t\t)\n",
    "\t\tbaseline_validation_err = GenericOptimizer.calculate_overall_error(\n",
    "\t\t\tx_train,\n",
    "\t\t\ty_train,\n",
    "\t\t\tx_validation,\n",
    "\t\t\ty_validation,\n",
    "\t\t\tGenericOptimizer.n_neighbours\n",
    "\t\t)\n",
    "\n",
    "\t\ttest_metrics = {}\n",
    "\t\tresult.problem._evaluate(result.X, test_metrics)\n",
    "\t\ttest_fitness = test_metrics['F']\n",
    "\n",
    "\t\ttest_pareto_front, ideal_x_train, ideal_y_train = GenericOptimizer.calculate_optimal_instance(\n",
    "\t\t\tx_train,\n",
    "\t\t\ty_train,\n",
    "\t\t\tx_validation,\n",
    "\t\t\ty_validation,\n",
    "\t\t\ttest_fitness,\n",
    "\t\t\tresult.X,\n",
    "\t\t\tGenericOptimizer.n_neighbours\n",
    "\t\t)\n",
    "\t\tideal_optimized_test_err = GenericOptimizer.calculate_overall_error(\n",
    "\t\t\tideal_x_train,\n",
    "\t\t\tideal_y_train,\n",
    "\t\t\tx_test,\n",
    "\t\t\ty_test,\n",
    "\t\t\tGenericOptimizer.n_neighbours\n",
    "\t\t)\n",
    "\n",
    "\t\tprint(f\"Baseline valdiation {1-baseline_validation_err}\")\n",
    "\t\tprint(f\"Baseline test {1-baseline_test_err}\")\n",
    "\n",
    "\t\tprint(f\"optimzed valdiation {1-optimized_validation_err}\")\n",
    "\t\tprint(f\"optimzed test {1-optimized_test_err}\")\n",
    "\t\tprint(f\"optimzed ideal {1-ideal_optimized_test_err}\")\n",
    "\n",
    "\t\tbreak\n",
    "\tbreak"
   ]
  }
 ],
 "metadata": {
  "kernelspec": {
   "display_name": "3_13_venv",
   "language": "python",
   "name": "python3"
  },
  "language_info": {
   "codemirror_mode": {
    "name": "ipython",
    "version": 3
   },
   "file_extension": ".py",
   "mimetype": "text/x-python",
   "name": "python",
   "nbconvert_exporter": "python",
   "pygments_lexer": "ipython3",
   "version": "3.13.2"
  }
 },
 "nbformat": 4,
 "nbformat_minor": 2
}
