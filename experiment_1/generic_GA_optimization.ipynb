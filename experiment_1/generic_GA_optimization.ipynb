{
 "cells": [
  {
   "cell_type": "code",
   "execution_count": null,
   "metadata": {},
   "outputs": [],
   "source": [
    "from pymoo.operators.sampling.rnd import BinaryRandomSampling\n",
    "from pymoo.operators.mutation.bitflip import BitflipMutation\n",
    "from pymoo.operators.crossover.hux import HUX\n",
    "from pymoo.algorithms.moo.nsga2 import NSGA2\n",
    "from pymoo.optimize import minimize\n",
    "\n",
    "from generic_optimizer import GenericOptimizer, prepare_splits\n",
    "from novel_sampling import BiasedBinarySampling, over_sample\n",
    "\n",
    "from joblib import Parallel, delayed\n",
    "import matplotlib.pyplot as plt\n",
    "import pandas as pd\n",
    "import numpy as np\n",
    "import pickle\n",
    "import os\n",
    "import re\n",
    "\n",
    "from sklearn.preprocessing import LabelEncoder"
   ]
  },
  {
   "cell_type": "code",
   "execution_count": 3,
   "metadata": {},
   "outputs": [
    {
     "name": "stdout",
     "output_type": "stream",
     "text": [
      "Created 3720 executions\n"
     ]
    }
   ],
   "source": [
    "configs = []\n",
    "from generic_optimizer import *\n",
    "\n",
    "evaluation_schemes = [\n",
    "\t[GenericOptimizer.calculate_overall_error, GenericOptimizer.calculate_num_examples],\n",
    "\t[GenericOptimizer.calculate_overall_error, GenericOptimizer.calculate_overall_inverse_f1, GenericOptimizer.calculate_num_examples],\n",
    "\t[GenericOptimizer.calculate_class0_error, GenericOptimizer.calculate_class1_error],\n",
    "]\n",
    "\n",
    "pattern = r'\\.([a-zA-Z_][a-zA-Z0-9_]*)\\s'\n",
    "\n",
    "sampling_methods = [\n",
    "\t\"over_sample\",\n",
    "\t\"regular_sample\"\n",
    "]\n",
    "\n",
    "population_initialization_names = [\n",
    "    \"rand_population\",\n",
    "    \"bias_population\"\n",
    "]\n",
    "\n",
    "for sampling_name in sampling_methods:\n",
    "\tfor initial_population in population_initialization_names:\n",
    "\t\tfor objectives in evaluation_schemes:\n",
    "\t\t\tobjectives_names = [re.search(pattern, str(objective_name)).group(1) for objective_name in objectives]\n",
    "\t\t\tfor folder in os.listdir('../Datasets'):\n",
    "\t\t\t\tx, y, splits = prepare_splits(os.path.join('../Datasets', folder, f\"{folder}.csv\"))\n",
    "\n",
    "\t\t\t\tnum_iters = 0\n",
    "\t\t\t\tfor train_idx, test_idx, validation_idx in splits: # 31 splits for Wilcoxon rank-sum\n",
    "\t\t\t\t\t\n",
    "\t\t\t\t\tobjectives_id = \"_\".join(objectives_names)\n",
    "\t\t\t\t\trun_name = f\"{num_iters}_{sampling_name}_{initial_population}_{folder}_{objectives_id}\"\n",
    "\t\t\t\t\t\n",
    "\t\t\t\t\tconfig = {\n",
    "\t\t\t\t\t\t\"Dataset\": folder,\n",
    "\t\t\t\t\t\t\"Over Sample\": sampling_name,\n",
    "\t\t\t\t\t\t\"Initial Population\": initial_population,\n",
    "\t\t\t\t\t\t\"Objective Names\": objectives_names,\n",
    "\t\t\t\t\t\t\"Iter Number\": num_iters,\n",
    "\t\t\t\t\t\t\"Run Name\": run_name,\n",
    "\t\t\t\t\t\t\"Executable Objectives\": objectives,\n",
    "\t\t\t\t\t\t\"x\": x, \"y\": y,\n",
    "\t\t\t\t\t\t\"train_idx\": train_idx,\n",
    "\t\t\t\t\t\t\"validation_idx\": validation_idx,\n",
    "\t\t\t\t\t\t\"test_idx\": test_idx,\n",
    "\t\t\t\t\t}\n",
    "\t\t\t\t\tnum_iters += 1\n",
    "\t\t\t\t\tconfigs.append(config)\n",
    "\n",
    "print(f\"Created {len(configs)} executions\")"
   ]
  },
  {
   "cell_type": "code",
   "execution_count": null,
   "metadata": {},
   "outputs": [
    {
     "ename": "KeyboardInterrupt",
     "evalue": "",
     "output_type": "error",
     "traceback": [
      "\u001b[31m---------------------------------------------------------------------------\u001b[39m",
      "\u001b[31mKeyboardInterrupt\u001b[39m                         Traceback (most recent call last)",
      "\u001b[36mCell\u001b[39m\u001b[36m \u001b[39m\u001b[32mIn[4]\u001b[39m\u001b[32m, line 45\u001b[39m\n\u001b[32m     40\u001b[39m \t\tpickle.dump(execution_config, fh, pickle.HIGHEST_PROTOCOL)\n\u001b[32m     42\u001b[39m \u001b[38;5;66;03m# for config in configs[:100]:\u001b[39;00m\n\u001b[32m     43\u001b[39m \u001b[38;5;66;03m# \texecute(config)\u001b[39;00m\n\u001b[32m---> \u001b[39m\u001b[32m45\u001b[39m returns = \u001b[43mParallel\u001b[49m\u001b[43m(\u001b[49m\u001b[43mn_jobs\u001b[49m\u001b[43m=\u001b[49m\u001b[43m-\u001b[49m\u001b[32;43m1\u001b[39;49m\u001b[43m)\u001b[49m\u001b[43m(\u001b[49m\u001b[43mdelayed\u001b[49m\u001b[43m(\u001b[49m\u001b[43mexecute\u001b[49m\u001b[43m)\u001b[49m\u001b[43m(\u001b[49m\u001b[43m(\u001b[49m\u001b[43mconfig\u001b[49m\u001b[43m)\u001b[49m\u001b[43m)\u001b[49m\u001b[43m \u001b[49m\u001b[38;5;28;43;01mfor\u001b[39;49;00m\u001b[43m \u001b[49m\u001b[43mconfig\u001b[49m\u001b[43m \u001b[49m\u001b[38;5;129;43;01min\u001b[39;49;00m\u001b[43m \u001b[49m\u001b[43mconfigs\u001b[49m\u001b[43m[\u001b[49m\u001b[43m:\u001b[49m\u001b[32;43m100\u001b[39;49m\u001b[43m]\u001b[49m\u001b[43m)\u001b[49m\n\u001b[32m     46\u001b[39m \u001b[38;5;28mprint\u001b[39m(\u001b[33mf\u001b[39m\u001b[33m\"\u001b[39m\u001b[33mSucessfully completed \u001b[39m\u001b[38;5;132;01m{\u001b[39;00m\u001b[38;5;28mlen\u001b[39m(returns)\u001b[38;5;132;01m}\u001b[39;00m\u001b[33m optimization runs\u001b[39m\u001b[33m\"\u001b[39m)\n",
      "\u001b[36mFile \u001b[39m\u001b[32m~\\AppData\\Local\\Packages\\PythonSoftwareFoundation.Python.3.13_qbz5n2kfra8p0\\LocalCache\\local-packages\\Python313\\site-packages\\joblib\\parallel.py:2007\u001b[39m, in \u001b[36mParallel.__call__\u001b[39m\u001b[34m(self, iterable)\u001b[39m\n\u001b[32m   2001\u001b[39m \u001b[38;5;66;03m# The first item from the output is blank, but it makes the interpreter\u001b[39;00m\n\u001b[32m   2002\u001b[39m \u001b[38;5;66;03m# progress until it enters the Try/Except block of the generator and\u001b[39;00m\n\u001b[32m   2003\u001b[39m \u001b[38;5;66;03m# reaches the first `yield` statement. This starts the asynchronous\u001b[39;00m\n\u001b[32m   2004\u001b[39m \u001b[38;5;66;03m# dispatch of the tasks to the workers.\u001b[39;00m\n\u001b[32m   2005\u001b[39m \u001b[38;5;28mnext\u001b[39m(output)\n\u001b[32m-> \u001b[39m\u001b[32m2007\u001b[39m \u001b[38;5;28;01mreturn\u001b[39;00m output \u001b[38;5;28;01mif\u001b[39;00m \u001b[38;5;28mself\u001b[39m.return_generator \u001b[38;5;28;01melse\u001b[39;00m \u001b[38;5;28;43mlist\u001b[39;49m\u001b[43m(\u001b[49m\u001b[43moutput\u001b[49m\u001b[43m)\u001b[49m\n",
      "\u001b[36mFile \u001b[39m\u001b[32m~\\AppData\\Local\\Packages\\PythonSoftwareFoundation.Python.3.13_qbz5n2kfra8p0\\LocalCache\\local-packages\\Python313\\site-packages\\joblib\\parallel.py:1650\u001b[39m, in \u001b[36mParallel._get_outputs\u001b[39m\u001b[34m(self, iterator, pre_dispatch)\u001b[39m\n\u001b[32m   1647\u001b[39m     \u001b[38;5;28;01myield\u001b[39;00m\n\u001b[32m   1649\u001b[39m     \u001b[38;5;28;01mwith\u001b[39;00m \u001b[38;5;28mself\u001b[39m._backend.retrieval_context():\n\u001b[32m-> \u001b[39m\u001b[32m1650\u001b[39m         \u001b[38;5;28;01myield from\u001b[39;00m \u001b[38;5;28mself\u001b[39m._retrieve()\n\u001b[32m   1652\u001b[39m \u001b[38;5;28;01mexcept\u001b[39;00m \u001b[38;5;167;01mGeneratorExit\u001b[39;00m:\n\u001b[32m   1653\u001b[39m     \u001b[38;5;66;03m# The generator has been garbage collected before being fully\u001b[39;00m\n\u001b[32m   1654\u001b[39m     \u001b[38;5;66;03m# consumed. This aborts the remaining tasks if possible and warn\u001b[39;00m\n\u001b[32m   1655\u001b[39m     \u001b[38;5;66;03m# the user if necessary.\u001b[39;00m\n\u001b[32m   1656\u001b[39m     \u001b[38;5;28mself\u001b[39m._exception = \u001b[38;5;28;01mTrue\u001b[39;00m\n",
      "\u001b[36mFile \u001b[39m\u001b[32m~\\AppData\\Local\\Packages\\PythonSoftwareFoundation.Python.3.13_qbz5n2kfra8p0\\LocalCache\\local-packages\\Python313\\site-packages\\joblib\\parallel.py:1762\u001b[39m, in \u001b[36mParallel._retrieve\u001b[39m\u001b[34m(self)\u001b[39m\n\u001b[32m   1757\u001b[39m \u001b[38;5;66;03m# If the next job is not ready for retrieval yet, we just wait for\u001b[39;00m\n\u001b[32m   1758\u001b[39m \u001b[38;5;66;03m# async callbacks to progress.\u001b[39;00m\n\u001b[32m   1759\u001b[39m \u001b[38;5;28;01mif\u001b[39;00m ((\u001b[38;5;28mlen\u001b[39m(\u001b[38;5;28mself\u001b[39m._jobs) == \u001b[32m0\u001b[39m) \u001b[38;5;129;01mor\u001b[39;00m\n\u001b[32m   1760\u001b[39m     (\u001b[38;5;28mself\u001b[39m._jobs[\u001b[32m0\u001b[39m].get_status(\n\u001b[32m   1761\u001b[39m         timeout=\u001b[38;5;28mself\u001b[39m.timeout) == TASK_PENDING)):\n\u001b[32m-> \u001b[39m\u001b[32m1762\u001b[39m     \u001b[43mtime\u001b[49m\u001b[43m.\u001b[49m\u001b[43msleep\u001b[49m\u001b[43m(\u001b[49m\u001b[32;43m0.01\u001b[39;49m\u001b[43m)\u001b[49m\n\u001b[32m   1763\u001b[39m     \u001b[38;5;28;01mcontinue\u001b[39;00m\n\u001b[32m   1765\u001b[39m \u001b[38;5;66;03m# We need to be careful: the job list can be filling up as\u001b[39;00m\n\u001b[32m   1766\u001b[39m \u001b[38;5;66;03m# we empty it and Python list are not thread-safe by\u001b[39;00m\n\u001b[32m   1767\u001b[39m \u001b[38;5;66;03m# default hence the use of the lock\u001b[39;00m\n",
      "\u001b[31mKeyboardInterrupt\u001b[39m: "
     ]
    }
   ],
   "source": [
    "def execute(execution_config):\n",
    "\t\n",
    "\ttrain_idx = execution_config[\"train_idx\"]\n",
    "\tvalidation_idx = execution_config[\"validation_idx\"]\n",
    "\tx_train, y_train = execution_config[\"x\"][train_idx], execution_config[\"y\"][train_idx]\n",
    "\tx_validation, y_validation = execution_config[\"x\"][validation_idx], execution_config[\"y\"][validation_idx]\n",
    "\t\n",
    "\tif execution_config[\"Over Sample\"]:\n",
    "\t\tx_train, y_train = over_sample(x_train, y_train)\n",
    "\n",
    "\tobjectives = execution_config[\"Executable Objectives\"]\n",
    "\n",
    "\tproblem = GenericOptimizer(\n",
    "\t\tx_train, \n",
    "\t\ty_train, \n",
    "\t\tx_validation, \n",
    "\t\ty_validation,\n",
    "\t\tobjectives,\n",
    "\t\t\"Sequential\"\n",
    "\t)\n",
    "\n",
    "\tinitial_population = BinaryRandomSampling() if execution_config[\"Initial Population\"] == \"rand_population\" else BiasedBinarySampling(x_train, 0.5, 0.7)\n",
    "\n",
    "\talgorithm = NSGA2(\n",
    "\t\tpop_size=GenericOptimizer.population_size, \n",
    "\t\tsampling=initial_population, \n",
    "\t\tcrossover=HUX(), \n",
    "\t\tmutation=BitflipMutation(), \n",
    "\t\teliminate_duplicates=True)\n",
    "\t\n",
    "\tresult = minimize(\n",
    "\t\tproblem, \n",
    "\t\talgorithm, \n",
    "\t\t('n_gen', GenericOptimizer.population_size)\n",
    "\t)\n",
    "\n",
    "\texecution_config['Result'] = result\n",
    "\n",
    "\twith open(f\"optimizations/{execution_config['Run Name']}.pickle\", 'wb') as fh:\n",
    "\t\tpickle.dump(execution_config, fh, pickle.HIGHEST_PROTOCOL)\n",
    "\n",
    "# for config in configs[:100]:\n",
    "# \texecute(config)\n",
    "\t\n",
    "returns = Parallel(n_jobs=-1)(delayed(execute)((config)) for config in configs[:100])\n",
    "print(f\"Sucessfully completed {len(returns)} optimization runs\")\n"
   ]
  }
 ],
 "metadata": {
  "kernelspec": {
   "display_name": "Python 3",
   "language": "python",
   "name": "python3"
  },
  "language_info": {
   "codemirror_mode": {
    "name": "ipython",
    "version": 3
   },
   "file_extension": ".py",
   "mimetype": "text/x-python",
   "name": "python",
   "nbconvert_exporter": "python",
   "pygments_lexer": "ipython3",
   "version": "3.13.2"
  }
 },
 "nbformat": 4,
 "nbformat_minor": 2
}
